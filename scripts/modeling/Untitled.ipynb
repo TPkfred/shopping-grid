{
 "cells": [
  {
   "cell_type": "code",
   "execution_count": 2,
   "id": "71bd5e0a",
   "metadata": {
    "ExecuteTime": {
     "end_time": "2022-10-03T21:03:40.766167Z",
     "start_time": "2022-10-03T21:03:40.758421Z"
    }
   },
   "outputs": [],
   "source": [
    "from preprocess import Preprocess"
   ]
  },
  {
   "cell_type": "code",
   "execution_count": 3,
   "id": "67c05c44",
   "metadata": {
    "ExecuteTime": {
     "end_time": "2022-10-03T21:03:46.138988Z",
     "start_time": "2022-10-03T21:03:42.820383Z"
    }
   },
   "outputs": [],
   "source": [
    "import datetime\n",
    "import os\n",
    "\n",
    "import matplotlib.pyplot as plt\n",
    "import matplotlib.cm as cm\n",
    "import seaborn as sns\n",
    "import numpy as np\n",
    "import pandas as pd\n",
    "from scipy import stats\n",
    "import math\n",
    "\n",
    "pd.options.mode.chained_assignment = None\n",
    "pd.set_option(\"display.max_columns\", 100)"
   ]
  },
  {
   "cell_type": "code",
   "execution_count": 4,
   "id": "65c0d460",
   "metadata": {
    "ExecuteTime": {
     "end_time": "2022-10-03T21:03:48.273052Z",
     "start_time": "2022-10-03T21:03:48.264391Z"
    }
   },
   "outputs": [],
   "source": [
    "pdf_dir = \"../../output/market_pdfs_extra-days\""
   ]
  },
  {
   "cell_type": "code",
   "execution_count": 5,
   "id": "4536c435",
   "metadata": {
    "ExecuteTime": {
     "end_time": "2022-10-03T21:03:49.116409Z",
     "start_time": "2022-10-03T21:03:49.074198Z"
    }
   },
   "outputs": [],
   "source": [
    "market = \"LAX-EWR\"\n",
    "filename = f\"{market}.pkl\"\n",
    "market_pdf = pd.read_pickle(os.path.join(pdf_dir, filename))"
   ]
  },
  {
   "cell_type": "code",
   "execution_count": 6,
   "id": "340999a3",
   "metadata": {
    "ExecuteTime": {
     "end_time": "2022-10-03T21:04:08.536254Z",
     "start_time": "2022-10-03T21:04:08.529197Z"
    }
   },
   "outputs": [],
   "source": [
    "pp = Preprocess(test_size=0.1)"
   ]
  },
  {
   "cell_type": "code",
   "execution_count": 7,
   "id": "015126e0",
   "metadata": {
    "ExecuteTime": {
     "end_time": "2022-10-03T21:04:35.207734Z",
     "start_time": "2022-10-03T21:04:35.193330Z"
    }
   },
   "outputs": [],
   "source": [
    "X = market_pdf.drop(columns=['min_fare'])\n",
    "y = market_pdf['min_fare']"
   ]
  },
  {
   "cell_type": "code",
   "execution_count": null,
   "id": "3decb13e",
   "metadata": {},
   "outputs": [],
   "source": [
    "pp.mask()"
   ]
  }
 ],
 "metadata": {
  "kernelspec": {
   "display_name": "basic-ml",
   "language": "python",
   "name": "basic-ml"
  },
  "language_info": {
   "codemirror_mode": {
    "name": "ipython",
    "version": 3
   },
   "file_extension": ".py",
   "mimetype": "text/x-python",
   "name": "python",
   "nbconvert_exporter": "python",
   "pygments_lexer": "ipython3",
   "version": "3.10.4"
  },
  "toc": {
   "base_numbering": 1,
   "nav_menu": {},
   "number_sections": true,
   "sideBar": true,
   "skip_h1_title": false,
   "title_cell": "Table of Contents",
   "title_sidebar": "Contents",
   "toc_cell": false,
   "toc_position": {},
   "toc_section_display": true,
   "toc_window_display": false
  },
  "varInspector": {
   "cols": {
    "lenName": 16,
    "lenType": 16,
    "lenVar": 40
   },
   "kernels_config": {
    "python": {
     "delete_cmd_postfix": "",
     "delete_cmd_prefix": "del ",
     "library": "var_list.py",
     "varRefreshCmd": "print(var_dic_list())"
    },
    "r": {
     "delete_cmd_postfix": ") ",
     "delete_cmd_prefix": "rm(",
     "library": "var_list.r",
     "varRefreshCmd": "cat(var_dic_list()) "
    }
   },
   "types_to_exclude": [
    "module",
    "function",
    "builtin_function_or_method",
    "instance",
    "_Feature"
   ],
   "window_display": false
  }
 },
 "nbformat": 4,
 "nbformat_minor": 5
}
