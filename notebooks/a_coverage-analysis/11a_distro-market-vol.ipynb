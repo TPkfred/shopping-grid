{
 "cells": [
  {
   "cell_type": "code",
   "execution_count": 1,
   "metadata": {},
   "outputs": [],
   "source": [
    "from functools import reduce\n",
    "import datetime\n",
    "from calendar import Calendar\n",
    "import argparse\n",
    "\n",
    "import pyspark\n",
    "from pyspark.sql import SparkSession\n",
    "import pyspark.sql.functions as F\n",
    "import pyspark.sql.types as T\n",
    "from pyspark.sql.window import Window\n",
    "\n",
    "# for notebook\n",
    "import matplotlib.pyplot as plt\n",
    "import seaborn as sns\n",
    "import numpy as np\n",
    "import pandas as pd\n",
    "\n",
    "pd.options.mode.chained_assignment = None\n",
    "pd.set_option(\"display.max_columns\", 100)"
   ]
  },
  {
   "cell_type": "code",
   "execution_count": 2,
   "metadata": {},
   "outputs": [
    {
     "data": {
      "text/plain": [
       "'application_1658797823938_3284'"
      ]
     },
     "execution_count": 2,
     "metadata": {},
     "output_type": "execute_result"
    }
   ],
   "source": [
    "APP_NAME = \"KF-ShopGrid-Jupyter\"\n",
    "\n",
    "# SET UP SPARK\n",
    "# ----------------\n",
    "run_mode = \"python\" \n",
    "\n",
    "if run_mode == \"python\":\n",
    "    conf1 = pyspark.SparkConf().setAll([\n",
    "        (\"spark.app.name\", APP_NAME),\n",
    "        (\"spark.driver.memory\",\"20g\"),\n",
    "        (\"spark.master\",\"yarn\"),\n",
    "        (\"spark.executor.memory\", \"10g\"),\n",
    "        (\"spark.executor.instances\", 5),\n",
    "        (\"spark.executor.cores\", \"5\"),\n",
    "        ('spark.sql.crossJoin.enabled', True),\n",
    "        ('spark.sql.shuffle.partitions', 8) \n",
    "        ])\n",
    "    spark = SparkSession.builder.config(conf = conf1).getOrCreate()\n",
    "elif run_mode == \"spark-submit\":\n",
    "    spark = SparkSession.builder.appName(APP_NAME).getOrCreate()\n",
    "else:\n",
    "    pass\n",
    "\n",
    "spark.sparkContext.applicationId"
   ]
  },
  {
   "cell_type": "markdown",
   "metadata": {},
   "source": [
    "This contains data from 08/23 - 09/12. (TODO: derive this from HDFS, not manually)"
   ]
  },
  {
   "cell_type": "markdown",
   "metadata": {},
   "source": [
    "Would need to loop over folders in `input_dir` to associate search date with counts. For now, analyze en masse"
   ]
  },
  {
   "cell_type": "code",
   "execution_count": 6,
   "metadata": {},
   "outputs": [],
   "source": [
    "input_dir = \"/user/kendra.frederick/lookups/top_markets/daily_counts/\""
   ]
  },
  {
   "cell_type": "code",
   "execution_count": 18,
   "metadata": {},
   "outputs": [],
   "source": [
    "# num_shop_days = (datetime.date(2022,9,12) - datetime.date(2022,8,23)).days + 1"
   ]
  },
  {
   "cell_type": "code",
   "execution_count": 4,
   "metadata": {
    "collapsed": true
   },
   "outputs": [
    {
     "name": "stdout",
     "output_type": "stream",
     "text": [
      "Found 21 items\r\n",
      "drwxr-xr-x   - kendra.frederick hdfs          0 2022-09-13 23:00 /user/kendra.frederick/lookups/top_markets/daily_counts/20220823\r\n",
      "drwxr-xr-x   - kendra.frederick hdfs          0 2022-09-13 23:06 /user/kendra.frederick/lookups/top_markets/daily_counts/20220824\r\n",
      "drwxr-xr-x   - kendra.frederick hdfs          0 2022-09-13 23:18 /user/kendra.frederick/lookups/top_markets/daily_counts/20220825\r\n",
      "drwxr-xr-x   - kendra.frederick hdfs          0 2022-09-13 23:31 /user/kendra.frederick/lookups/top_markets/daily_counts/20220826\r\n",
      "drwxr-xr-x   - kendra.frederick hdfs          0 2022-09-13 23:41 /user/kendra.frederick/lookups/top_markets/daily_counts/20220827\r\n",
      "drwxr-xr-x   - kendra.frederick hdfs          0 2022-09-13 23:58 /user/kendra.frederick/lookups/top_markets/daily_counts/20220828\r\n",
      "drwxr-xr-x   - kendra.frederick hdfs          0 2022-09-14 00:15 /user/kendra.frederick/lookups/top_markets/daily_counts/20220829\r\n",
      "drwxr-xr-x   - kendra.frederick hdfs          0 2022-09-14 00:24 /user/kendra.frederick/lookups/top_markets/daily_counts/20220830\r\n",
      "drwxr-xr-x   - kendra.frederick hdfs          0 2022-09-14 00:32 /user/kendra.frederick/lookups/top_markets/daily_counts/20220831\r\n",
      "drwxr-xr-x   - kendra.frederick hdfs          0 2022-09-14 00:40 /user/kendra.frederick/lookups/top_markets/daily_counts/20220901\r\n",
      "drwxr-xr-x   - kendra.frederick hdfs          0 2022-09-14 00:49 /user/kendra.frederick/lookups/top_markets/daily_counts/20220902\r\n",
      "drwxr-xr-x   - kendra.frederick hdfs          0 2022-09-14 00:59 /user/kendra.frederick/lookups/top_markets/daily_counts/20220903\r\n",
      "drwxr-xr-x   - kendra.frederick hdfs          0 2022-09-14 01:08 /user/kendra.frederick/lookups/top_markets/daily_counts/20220904\r\n",
      "drwxr-xr-x   - kendra.frederick hdfs          0 2022-09-14 01:16 /user/kendra.frederick/lookups/top_markets/daily_counts/20220905\r\n",
      "drwxr-xr-x   - kendra.frederick hdfs          0 2022-09-14 01:26 /user/kendra.frederick/lookups/top_markets/daily_counts/20220906\r\n",
      "drwxr-xr-x   - kendra.frederick hdfs          0 2022-09-14 01:35 /user/kendra.frederick/lookups/top_markets/daily_counts/20220907\r\n",
      "drwxr-xr-x   - kendra.frederick hdfs          0 2022-09-14 01:47 /user/kendra.frederick/lookups/top_markets/daily_counts/20220908\r\n",
      "drwxr-xr-x   - kendra.frederick hdfs          0 2022-09-14 01:55 /user/kendra.frederick/lookups/top_markets/daily_counts/20220909\r\n",
      "drwxr-xr-x   - kendra.frederick hdfs          0 2022-09-14 02:04 /user/kendra.frederick/lookups/top_markets/daily_counts/20220910\r\n",
      "drwxr-xr-x   - kendra.frederick hdfs          0 2022-09-14 02:17 /user/kendra.frederick/lookups/top_markets/daily_counts/20220911\r\n",
      "drwxr-xr-x   - kendra.frederick hdfs          0 2022-09-14 02:21 /user/kendra.frederick/lookups/top_markets/daily_counts/20220912\r\n"
     ]
    }
   ],
   "source": [
    "!hdfs dfs -ls $input_dir"
   ]
  },
  {
   "cell_type": "code",
   "execution_count": 7,
   "metadata": {},
   "outputs": [
    {
     "data": {
      "text/plain": [
       "21"
      ]
     },
     "execution_count": 7,
     "metadata": {},
     "output_type": "execute_result"
    }
   ],
   "source": [
    "x = !hdfs dfs -ls $input_dir | wc -l\n",
    "\n",
    "num_shop_days = int(x[0]) - 1\n",
    "num_shop_days"
   ]
  },
  {
   "cell_type": "code",
   "execution_count": 8,
   "metadata": {},
   "outputs": [],
   "source": [
    "df = spark.read.csv(input_dir + \"*/\", header=True)"
   ]
  },
  {
   "cell_type": "code",
   "execution_count": 8,
   "metadata": {},
   "outputs": [
    {
     "name": "stdout",
     "output_type": "stream",
     "text": [
      "+----------------+---------------------+-------------+---------+-------------+------------------+-------+\n",
      "|outOriginAirport|outDestinationAirport|num_solutions|num_shops|originDecoded|destinationDecoded| market|\n",
      "+----------------+---------------------+-------------+---------+-------------+------------------+-------+\n",
      "|        67962112|            152245248|     33854333|  1011554|          DME|               IST|DME-IST|\n",
      "|       369823488|            152245248|    210593372|   878505|          VKO|               IST|VKO-IST|\n",
      "|       151195136|             34278144|     99113222|   805407|          ICN|               BKK|ICN-BKK|\n",
      "|       201855488|             34278144|     61012154|   800055|          LHR|               BKK|LHR-BKK|\n",
      "|       369823488|            318838528|    102045517|   765894|          VKO|               SAW|VKO-SAW|\n",
      "+----------------+---------------------+-------------+---------+-------------+------------------+-------+\n",
      "only showing top 5 rows\n",
      "\n"
     ]
    }
   ],
   "source": [
    "df.show(5)"
   ]
  },
  {
   "cell_type": "code",
   "execution_count": 9,
   "metadata": {},
   "outputs": [
    {
     "data": {
      "text/plain": [
       "15263362"
      ]
     },
     "execution_count": 9,
     "metadata": {},
     "output_type": "execute_result"
    }
   ],
   "source": [
    "df.count()"
   ]
  },
  {
   "cell_type": "markdown",
   "metadata": {},
   "source": [
    "# one approach"
   ]
  },
  {
   "cell_type": "code",
   "execution_count": null,
   "metadata": {},
   "outputs": [],
   "source": [
    "market_cnts = df.groupBy(\"market\").agg(F.sum('num_shops').alias(\"sum_shop_counts\"))\n",
    "market_cnts = market_cnts.withColumn(\"avg_counts_per_day\", F.col(\"sum_shop_counts\") / num_shop_days)"
   ]
  },
  {
   "cell_type": "code",
   "execution_count": 11,
   "metadata": {},
   "outputs": [
    {
     "data": {
      "text/plain": [
       "1380419"
      ]
     },
     "execution_count": 11,
     "metadata": {},
     "output_type": "execute_result"
    }
   ],
   "source": [
    "market_cnts.count()"
   ]
  },
  {
   "cell_type": "code",
   "execution_count": 43,
   "metadata": {},
   "outputs": [],
   "source": [
    "col = \"avg_counts_per_day\"\n",
    "w = Window.orderBy(col)\n",
    "\n",
    "output = (market_cnts\n",
    "          .withColumn(\"cume_proba\", F.percent_rank())\n",
    "          .withColumn(col, F.round(F.col(col), 0))\n",
    "          .groupBy(col)\n",
    "          .agg(\n",
    "              F.max(\"cume_proba\").alias(\"cume_proba\"),\n",
    "              F.count('*').alias(\"data_count\")\n",
    "          )\n",
    "          .withColumn(\"cume_proba\", F.lead(F.col(\"cume_proba\")).over(w))\n",
    "          .fillna(1, subset=[\"cume_proba\"])\n",
    "         )"
   ]
  },
  {
   "cell_type": "code",
   "execution_count": 44,
   "metadata": {
    "collapsed": true
   },
   "outputs": [
    {
     "ename": "Py4JJavaError",
     "evalue": "An error occurred while calling o303.showString.\n: org.apache.spark.sql.catalyst.errors.package$TreeNodeException: execute, tree:\nExchange SinglePartition\n+- *HashAggregate(keys=[avg_counts_per_day#317], functions=[count(1), max(cume_proba#311)], output=[avg_counts_per_day#317, data_count#332L, cume_proba#329])\n   +- Exchange hashpartitioning(avg_counts_per_day#317, 8)\n      +- *HashAggregate(keys=[avg_counts_per_day#317], functions=[partial_count(1), partial_max(cume_proba#311)], output=[avg_counts_per_day#317, count#358L, max#359])\n         +- *HashAggregate(keys=[market#6], functions=[sum(cast(num_shops#3 as double))], output=[avg_counts_per_day#317, cume_proba#311])\n            +- Exchange hashpartitioning(market#6, 8)\n               +- *HashAggregate(keys=[market#6], functions=[partial_sum(cast(num_shops#3 as double))], output=[market#6, sum#361])\n                  +- *FileScan csv [num_shops#3,market#6] Batched: false, Format: CSV, Location: InMemoryFileIndex[hdfs://ngsearchdev/user/kendra.frederick/lookups/top_markets/daily_counts/20220..., PartitionFilters: [], PushedFilters: [], ReadSchema: struct<num_shops:string,market:string>\n\n\tat org.apache.spark.sql.catalyst.errors.package$.attachTree(package.scala:56)\n\tat org.apache.spark.sql.execution.exchange.ShuffleExchange.doExecute(ShuffleExchange.scala:112)\n\tat org.apache.spark.sql.execution.SparkPlan$$anonfun$execute$1.apply(SparkPlan.scala:114)\n\tat org.apache.spark.sql.execution.SparkPlan$$anonfun$execute$1.apply(SparkPlan.scala:114)\n\tat org.apache.spark.sql.execution.SparkPlan$$anonfun$executeQuery$1.apply(SparkPlan.scala:135)\n\tat org.apache.spark.rdd.RDDOperationScope$.withScope(RDDOperationScope.scala:151)\n\tat org.apache.spark.sql.execution.SparkPlan.executeQuery(SparkPlan.scala:132)\n\tat org.apache.spark.sql.execution.SparkPlan.execute(SparkPlan.scala:113)\n\tat org.apache.spark.sql.execution.InputAdapter.inputRDDs(WholeStageCodegenExec.scala:235)\n\tat org.apache.spark.sql.execution.SortExec.inputRDDs(SortExec.scala:121)\n\tat org.apache.spark.sql.execution.WholeStageCodegenExec.doExecute(WholeStageCodegenExec.scala:368)\n\tat org.apache.spark.sql.execution.SparkPlan$$anonfun$execute$1.apply(SparkPlan.scala:114)\n\tat org.apache.spark.sql.execution.SparkPlan$$anonfun$execute$1.apply(SparkPlan.scala:114)\n\tat org.apache.spark.sql.execution.SparkPlan$$anonfun$executeQuery$1.apply(SparkPlan.scala:135)\n\tat org.apache.spark.rdd.RDDOperationScope$.withScope(RDDOperationScope.scala:151)\n\tat org.apache.spark.sql.execution.SparkPlan.executeQuery(SparkPlan.scala:132)\n\tat org.apache.spark.sql.execution.SparkPlan.execute(SparkPlan.scala:113)\n\tat org.apache.spark.sql.execution.window.WindowExec.doExecute(WindowExec.scala:289)\n\tat org.apache.spark.sql.execution.SparkPlan$$anonfun$execute$1.apply(SparkPlan.scala:114)\n\tat org.apache.spark.sql.execution.SparkPlan$$anonfun$execute$1.apply(SparkPlan.scala:114)\n\tat org.apache.spark.sql.execution.SparkPlan$$anonfun$executeQuery$1.apply(SparkPlan.scala:135)\n\tat org.apache.spark.rdd.RDDOperationScope$.withScope(RDDOperationScope.scala:151)\n\tat org.apache.spark.sql.execution.SparkPlan.executeQuery(SparkPlan.scala:132)\n\tat org.apache.spark.sql.execution.SparkPlan.execute(SparkPlan.scala:113)\n\tat org.apache.spark.sql.execution.InputAdapter.inputRDDs(WholeStageCodegenExec.scala:235)\n\tat org.apache.spark.sql.execution.ProjectExec.inputRDDs(basicPhysicalOperators.scala:42)\n\tat org.apache.spark.sql.execution.WholeStageCodegenExec.doExecute(WholeStageCodegenExec.scala:368)\n\tat org.apache.spark.sql.execution.SparkPlan$$anonfun$execute$1.apply(SparkPlan.scala:114)\n\tat org.apache.spark.sql.execution.SparkPlan$$anonfun$execute$1.apply(SparkPlan.scala:114)\n\tat org.apache.spark.sql.execution.SparkPlan$$anonfun$executeQuery$1.apply(SparkPlan.scala:135)\n\tat org.apache.spark.rdd.RDDOperationScope$.withScope(RDDOperationScope.scala:151)\n\tat org.apache.spark.sql.execution.SparkPlan.executeQuery(SparkPlan.scala:132)\n\tat org.apache.spark.sql.execution.SparkPlan.execute(SparkPlan.scala:113)\n\tat org.apache.spark.sql.execution.SparkPlan.getByteArrayRdd(SparkPlan.scala:225)\n\tat org.apache.spark.sql.execution.SparkPlan.executeTake(SparkPlan.scala:308)\n\tat org.apache.spark.sql.execution.CollectLimitExec.executeCollect(limit.scala:38)\n\tat org.apache.spark.sql.Dataset$$anonfun$org$apache$spark$sql$Dataset$$execute$1$1.apply(Dataset.scala:2378)\n\tat org.apache.spark.sql.execution.SQLExecution$.withNewExecutionId(SQLExecution.scala:57)\n\tat org.apache.spark.sql.Dataset.withNewExecutionId(Dataset.scala:2780)\n\tat org.apache.spark.sql.Dataset.org$apache$spark$sql$Dataset$$execute$1(Dataset.scala:2377)\n\tat org.apache.spark.sql.Dataset.org$apache$spark$sql$Dataset$$collect(Dataset.scala:2384)\n\tat org.apache.spark.sql.Dataset$$anonfun$head$1.apply(Dataset.scala:2120)\n\tat org.apache.spark.sql.Dataset$$anonfun$head$1.apply(Dataset.scala:2119)\n\tat org.apache.spark.sql.Dataset.withTypedCallback(Dataset.scala:2810)\n\tat org.apache.spark.sql.Dataset.head(Dataset.scala:2119)\n\tat org.apache.spark.sql.Dataset.take(Dataset.scala:2334)\n\tat org.apache.spark.sql.Dataset.showString(Dataset.scala:248)\n\tat sun.reflect.NativeMethodAccessorImpl.invoke0(Native Method)\n\tat sun.reflect.NativeMethodAccessorImpl.invoke(NativeMethodAccessorImpl.java:62)\n\tat sun.reflect.DelegatingMethodAccessorImpl.invoke(DelegatingMethodAccessorImpl.java:43)\n\tat java.lang.reflect.Method.invoke(Method.java:498)\n\tat py4j.reflection.MethodInvoker.invoke(MethodInvoker.java:244)\n\tat py4j.reflection.ReflectionEngine.invoke(ReflectionEngine.java:357)\n\tat py4j.Gateway.invoke(Gateway.java:280)\n\tat py4j.commands.AbstractCommand.invokeMethod(AbstractCommand.java:132)\n\tat py4j.commands.CallCommand.execute(CallCommand.java:79)\n\tat py4j.GatewayConnection.run(GatewayConnection.java:214)\n\tat java.lang.Thread.run(Thread.java:745)\nCaused by: org.apache.spark.sql.catalyst.errors.package$TreeNodeException: execute, tree:\nExchange hashpartitioning(avg_counts_per_day#317, 8)\n+- *HashAggregate(keys=[avg_counts_per_day#317], functions=[partial_count(1), partial_max(cume_proba#311)], output=[avg_counts_per_day#317, count#358L, max#359])\n   +- *HashAggregate(keys=[market#6], functions=[sum(cast(num_shops#3 as double))], output=[avg_counts_per_day#317, cume_proba#311])\n      +- Exchange hashpartitioning(market#6, 8)\n         +- *HashAggregate(keys=[market#6], functions=[partial_sum(cast(num_shops#3 as double))], output=[market#6, sum#361])\n            +- *FileScan csv [num_shops#3,market#6] Batched: false, Format: CSV, Location: InMemoryFileIndex[hdfs://ngsearchdev/user/kendra.frederick/lookups/top_markets/daily_counts/20220..., PartitionFilters: [], PushedFilters: [], ReadSchema: struct<num_shops:string,market:string>\n\n\tat org.apache.spark.sql.catalyst.errors.package$.attachTree(package.scala:56)\n\tat org.apache.spark.sql.execution.exchange.ShuffleExchange.doExecute(ShuffleExchange.scala:112)\n\tat org.apache.spark.sql.execution.SparkPlan$$anonfun$execute$1.apply(SparkPlan.scala:114)\n\tat org.apache.spark.sql.execution.SparkPlan$$anonfun$execute$1.apply(SparkPlan.scala:114)\n\tat org.apache.spark.sql.execution.SparkPlan$$anonfun$executeQuery$1.apply(SparkPlan.scala:135)\n\tat org.apache.spark.rdd.RDDOperationScope$.withScope(RDDOperationScope.scala:151)\n\tat org.apache.spark.sql.execution.SparkPlan.executeQuery(SparkPlan.scala:132)\n\tat org.apache.spark.sql.execution.SparkPlan.execute(SparkPlan.scala:113)\n\tat org.apache.spark.sql.execution.InputAdapter.inputRDDs(WholeStageCodegenExec.scala:235)\n\tat org.apache.spark.sql.execution.aggregate.HashAggregateExec.inputRDDs(HashAggregateExec.scala:141)\n\tat org.apache.spark.sql.execution.WholeStageCodegenExec.doExecute(WholeStageCodegenExec.scala:368)\n\tat org.apache.spark.sql.execution.SparkPlan$$anonfun$execute$1.apply(SparkPlan.scala:114)\n\tat org.apache.spark.sql.execution.SparkPlan$$anonfun$execute$1.apply(SparkPlan.scala:114)\n\tat org.apache.spark.sql.execution.SparkPlan$$anonfun$executeQuery$1.apply(SparkPlan.scala:135)\n\tat org.apache.spark.rdd.RDDOperationScope$.withScope(RDDOperationScope.scala:151)\n\tat org.apache.spark.sql.execution.SparkPlan.executeQuery(SparkPlan.scala:132)\n\tat org.apache.spark.sql.execution.SparkPlan.execute(SparkPlan.scala:113)\n\tat org.apache.spark.sql.execution.exchange.ShuffleExchange.prepareShuffleDependency(ShuffleExchange.scala:85)\n\tat org.apache.spark.sql.execution.exchange.ShuffleExchange$$anonfun$doExecute$1.apply(ShuffleExchange.scala:121)\n\tat org.apache.spark.sql.execution.exchange.ShuffleExchange$$anonfun$doExecute$1.apply(ShuffleExchange.scala:112)\n\tat org.apache.spark.sql.catalyst.errors.package$.attachTree(package.scala:52)\n\t... 57 more\nCaused by: java.lang.UnsupportedOperationException: Cannot evaluate expression: percent_rank()\n\tat org.apache.spark.sql.catalyst.expressions.Unevaluable$class.doGenCode(Expression.scala:224)\n\tat org.apache.spark.sql.catalyst.expressions.aggregate.DeclarativeAggregate.doGenCode(interfaces.scala:342)\n\tat org.apache.spark.sql.catalyst.expressions.Expression$$anonfun$genCode$2.apply(Expression.scala:104)\n\tat org.apache.spark.sql.catalyst.expressions.Expression$$anonfun$genCode$2.apply(Expression.scala:101)\n\tat scala.Option.getOrElse(Option.scala:121)\n\tat org.apache.spark.sql.catalyst.expressions.Expression.genCode(Expression.scala:101)\n\tat org.apache.spark.sql.catalyst.expressions.Alias.genCode(namedExpressions.scala:147)\n\tat org.apache.spark.sql.execution.aggregate.HashAggregateExec$$anonfun$32.apply(HashAggregateExec.scala:448)\n\tat org.apache.spark.sql.execution.aggregate.HashAggregateExec$$anonfun$32.apply(HashAggregateExec.scala:447)\n\tat scala.collection.TraversableLike$$anonfun$map$1.apply(TraversableLike.scala:234)\n\tat scala.collection.TraversableLike$$anonfun$map$1.apply(TraversableLike.scala:234)\n\tat scala.collection.mutable.ResizableArray$class.foreach(ResizableArray.scala:59)\n\tat scala.collection.mutable.ArrayBuffer.foreach(ArrayBuffer.scala:48)\n\tat scala.collection.TraversableLike$class.map(TraversableLike.scala:234)\n\tat scala.collection.AbstractTraversable.map(Traversable.scala:104)\n\tat org.apache.spark.sql.execution.aggregate.HashAggregateExec.generateResultCode(HashAggregateExec.scala:447)\n\tat org.apache.spark.sql.execution.aggregate.HashAggregateExec.doProduceWithKeys(HashAggregateExec.scala:610)\n\tat org.apache.spark.sql.execution.aggregate.HashAggregateExec.doProduce(HashAggregateExec.scala:148)\n\tat org.apache.spark.sql.execution.CodegenSupport$$anonfun$produce$1.apply(WholeStageCodegenExec.scala:83)\n\tat org.apache.spark.sql.execution.CodegenSupport$$anonfun$produce$1.apply(WholeStageCodegenExec.scala:78)\n\tat org.apache.spark.sql.execution.SparkPlan$$anonfun$executeQuery$1.apply(SparkPlan.scala:135)\n\tat org.apache.spark.rdd.RDDOperationScope$.withScope(RDDOperationScope.scala:151)\n\tat org.apache.spark.sql.execution.SparkPlan.executeQuery(SparkPlan.scala:132)\n\tat org.apache.spark.sql.execution.CodegenSupport$class.produce(WholeStageCodegenExec.scala:78)\n\tat org.apache.spark.sql.execution.aggregate.HashAggregateExec.produce(HashAggregateExec.scala:38)\n\tat org.apache.spark.sql.execution.aggregate.HashAggregateExec.doProduceWithKeys(HashAggregateExec.scala:598)\n\tat org.apache.spark.sql.execution.aggregate.HashAggregateExec.doProduce(HashAggregateExec.scala:148)\n\tat org.apache.spark.sql.execution.CodegenSupport$$anonfun$produce$1.apply(WholeStageCodegenExec.scala:83)\n\tat org.apache.spark.sql.execution.CodegenSupport$$anonfun$produce$1.apply(WholeStageCodegenExec.scala:78)\n\tat org.apache.spark.sql.execution.SparkPlan$$anonfun$executeQuery$1.apply(SparkPlan.scala:135)\n\tat org.apache.spark.rdd.RDDOperationScope$.withScope(RDDOperationScope.scala:151)\n\tat org.apache.spark.sql.execution.SparkPlan.executeQuery(SparkPlan.scala:132)\n\tat org.apache.spark.sql.execution.CodegenSupport$class.produce(WholeStageCodegenExec.scala:78)\n\tat org.apache.spark.sql.execution.aggregate.HashAggregateExec.produce(HashAggregateExec.scala:38)\n\tat org.apache.spark.sql.execution.WholeStageCodegenExec.doCodeGen(WholeStageCodegenExec.scala:313)\n\tat org.apache.spark.sql.execution.WholeStageCodegenExec.doExecute(WholeStageCodegenExec.scala:354)\n\tat org.apache.spark.sql.execution.SparkPlan$$anonfun$execute$1.apply(SparkPlan.scala:114)\n\tat org.apache.spark.sql.execution.SparkPlan$$anonfun$execute$1.apply(SparkPlan.scala:114)\n\tat org.apache.spark.sql.execution.SparkPlan$$anonfun$executeQuery$1.apply(SparkPlan.scala:135)\n\tat org.apache.spark.rdd.RDDOperationScope$.withScope(RDDOperationScope.scala:151)\n\tat org.apache.spark.sql.execution.SparkPlan.executeQuery(SparkPlan.scala:132)\n\tat org.apache.spark.sql.execution.SparkPlan.execute(SparkPlan.scala:113)\n\tat org.apache.spark.sql.execution.exchange.ShuffleExchange.prepareShuffleDependency(ShuffleExchange.scala:85)\n\tat org.apache.spark.sql.execution.exchange.ShuffleExchange$$anonfun$doExecute$1.apply(ShuffleExchange.scala:121)\n\tat org.apache.spark.sql.execution.exchange.ShuffleExchange$$anonfun$doExecute$1.apply(ShuffleExchange.scala:112)\n\tat org.apache.spark.sql.catalyst.errors.package$.attachTree(package.scala:52)\n\t... 77 more\n",
     "output_type": "error",
     "traceback": [
      "\u001b[0;31m---------------------------------------------------------------------------\u001b[0m",
      "\u001b[0;31mPy4JJavaError\u001b[0m                             Traceback (most recent call last)",
      "\u001b[0;32m<ipython-input-44-6c87d8cec20a>\u001b[0m in \u001b[0;36m<module>\u001b[0;34m\u001b[0m\n\u001b[0;32m----> 1\u001b[0;31m \u001b[0moutput\u001b[0m\u001b[0;34m.\u001b[0m\u001b[0mshow\u001b[0m\u001b[0;34m(\u001b[0m\u001b[0;36m5\u001b[0m\u001b[0;34m)\u001b[0m\u001b[0;34m\u001b[0m\u001b[0;34m\u001b[0m\u001b[0m\n\u001b[0m",
      "\u001b[0;32m/opt/anaconda/lib/python3.7/site-packages/pyspark/sql/dataframe.py\u001b[0m in \u001b[0;36mshow\u001b[0;34m(self, n, truncate)\u001b[0m\n\u001b[1;32m    316\u001b[0m         \"\"\"\n\u001b[1;32m    317\u001b[0m         \u001b[0;32mif\u001b[0m \u001b[0misinstance\u001b[0m\u001b[0;34m(\u001b[0m\u001b[0mtruncate\u001b[0m\u001b[0;34m,\u001b[0m \u001b[0mbool\u001b[0m\u001b[0;34m)\u001b[0m \u001b[0;32mand\u001b[0m \u001b[0mtruncate\u001b[0m\u001b[0;34m:\u001b[0m\u001b[0;34m\u001b[0m\u001b[0;34m\u001b[0m\u001b[0m\n\u001b[0;32m--> 318\u001b[0;31m             \u001b[0mprint\u001b[0m\u001b[0;34m(\u001b[0m\u001b[0mself\u001b[0m\u001b[0;34m.\u001b[0m\u001b[0m_jdf\u001b[0m\u001b[0;34m.\u001b[0m\u001b[0mshowString\u001b[0m\u001b[0;34m(\u001b[0m\u001b[0mn\u001b[0m\u001b[0;34m,\u001b[0m \u001b[0;36m20\u001b[0m\u001b[0;34m)\u001b[0m\u001b[0;34m)\u001b[0m\u001b[0;34m\u001b[0m\u001b[0;34m\u001b[0m\u001b[0m\n\u001b[0m\u001b[1;32m    319\u001b[0m         \u001b[0;32melse\u001b[0m\u001b[0;34m:\u001b[0m\u001b[0;34m\u001b[0m\u001b[0;34m\u001b[0m\u001b[0m\n\u001b[1;32m    320\u001b[0m             \u001b[0mprint\u001b[0m\u001b[0;34m(\u001b[0m\u001b[0mself\u001b[0m\u001b[0;34m.\u001b[0m\u001b[0m_jdf\u001b[0m\u001b[0;34m.\u001b[0m\u001b[0mshowString\u001b[0m\u001b[0;34m(\u001b[0m\u001b[0mn\u001b[0m\u001b[0;34m,\u001b[0m \u001b[0mint\u001b[0m\u001b[0;34m(\u001b[0m\u001b[0mtruncate\u001b[0m\u001b[0;34m)\u001b[0m\u001b[0;34m)\u001b[0m\u001b[0;34m)\u001b[0m\u001b[0;34m\u001b[0m\u001b[0;34m\u001b[0m\u001b[0m\n",
      "\u001b[0;32m/opt/anaconda/lib/python3.7/site-packages/py4j/java_gateway.py\u001b[0m in \u001b[0;36m__call__\u001b[0;34m(self, *args)\u001b[0m\n\u001b[1;32m   1131\u001b[0m         \u001b[0manswer\u001b[0m \u001b[0;34m=\u001b[0m \u001b[0mself\u001b[0m\u001b[0;34m.\u001b[0m\u001b[0mgateway_client\u001b[0m\u001b[0;34m.\u001b[0m\u001b[0msend_command\u001b[0m\u001b[0;34m(\u001b[0m\u001b[0mcommand\u001b[0m\u001b[0;34m)\u001b[0m\u001b[0;34m\u001b[0m\u001b[0;34m\u001b[0m\u001b[0m\n\u001b[1;32m   1132\u001b[0m         return_value = get_return_value(\n\u001b[0;32m-> 1133\u001b[0;31m             answer, self.gateway_client, self.target_id, self.name)\n\u001b[0m\u001b[1;32m   1134\u001b[0m \u001b[0;34m\u001b[0m\u001b[0m\n\u001b[1;32m   1135\u001b[0m         \u001b[0;32mfor\u001b[0m \u001b[0mtemp_arg\u001b[0m \u001b[0;32min\u001b[0m \u001b[0mtemp_args\u001b[0m\u001b[0;34m:\u001b[0m\u001b[0;34m\u001b[0m\u001b[0;34m\u001b[0m\u001b[0m\n",
      "\u001b[0;32m/opt/anaconda/lib/python3.7/site-packages/pyspark/sql/utils.py\u001b[0m in \u001b[0;36mdeco\u001b[0;34m(*a, **kw)\u001b[0m\n\u001b[1;32m     61\u001b[0m     \u001b[0;32mdef\u001b[0m \u001b[0mdeco\u001b[0m\u001b[0;34m(\u001b[0m\u001b[0;34m*\u001b[0m\u001b[0ma\u001b[0m\u001b[0;34m,\u001b[0m \u001b[0;34m**\u001b[0m\u001b[0mkw\u001b[0m\u001b[0;34m)\u001b[0m\u001b[0;34m:\u001b[0m\u001b[0;34m\u001b[0m\u001b[0;34m\u001b[0m\u001b[0m\n\u001b[1;32m     62\u001b[0m         \u001b[0;32mtry\u001b[0m\u001b[0;34m:\u001b[0m\u001b[0;34m\u001b[0m\u001b[0;34m\u001b[0m\u001b[0m\n\u001b[0;32m---> 63\u001b[0;31m             \u001b[0;32mreturn\u001b[0m \u001b[0mf\u001b[0m\u001b[0;34m(\u001b[0m\u001b[0;34m*\u001b[0m\u001b[0ma\u001b[0m\u001b[0;34m,\u001b[0m \u001b[0;34m**\u001b[0m\u001b[0mkw\u001b[0m\u001b[0;34m)\u001b[0m\u001b[0;34m\u001b[0m\u001b[0;34m\u001b[0m\u001b[0m\n\u001b[0m\u001b[1;32m     64\u001b[0m         \u001b[0;32mexcept\u001b[0m \u001b[0mpy4j\u001b[0m\u001b[0;34m.\u001b[0m\u001b[0mprotocol\u001b[0m\u001b[0;34m.\u001b[0m\u001b[0mPy4JJavaError\u001b[0m \u001b[0;32mas\u001b[0m \u001b[0me\u001b[0m\u001b[0;34m:\u001b[0m\u001b[0;34m\u001b[0m\u001b[0;34m\u001b[0m\u001b[0m\n\u001b[1;32m     65\u001b[0m             \u001b[0ms\u001b[0m \u001b[0;34m=\u001b[0m \u001b[0me\u001b[0m\u001b[0;34m.\u001b[0m\u001b[0mjava_exception\u001b[0m\u001b[0;34m.\u001b[0m\u001b[0mtoString\u001b[0m\u001b[0;34m(\u001b[0m\u001b[0;34m)\u001b[0m\u001b[0;34m\u001b[0m\u001b[0;34m\u001b[0m\u001b[0m\n",
      "\u001b[0;32m/opt/anaconda/lib/python3.7/site-packages/py4j/protocol.py\u001b[0m in \u001b[0;36mget_return_value\u001b[0;34m(answer, gateway_client, target_id, name)\u001b[0m\n\u001b[1;32m    317\u001b[0m                 raise Py4JJavaError(\n\u001b[1;32m    318\u001b[0m                     \u001b[0;34m\"An error occurred while calling {0}{1}{2}.\\n\"\u001b[0m\u001b[0;34m.\u001b[0m\u001b[0;34m\u001b[0m\u001b[0;34m\u001b[0m\u001b[0m\n\u001b[0;32m--> 319\u001b[0;31m                     format(target_id, \".\", name), value)\n\u001b[0m\u001b[1;32m    320\u001b[0m             \u001b[0;32melse\u001b[0m\u001b[0;34m:\u001b[0m\u001b[0;34m\u001b[0m\u001b[0;34m\u001b[0m\u001b[0m\n\u001b[1;32m    321\u001b[0m                 raise Py4JError(\n",
      "\u001b[0;31mPy4JJavaError\u001b[0m: An error occurred while calling o303.showString.\n: org.apache.spark.sql.catalyst.errors.package$TreeNodeException: execute, tree:\nExchange SinglePartition\n+- *HashAggregate(keys=[avg_counts_per_day#317], functions=[count(1), max(cume_proba#311)], output=[avg_counts_per_day#317, data_count#332L, cume_proba#329])\n   +- Exchange hashpartitioning(avg_counts_per_day#317, 8)\n      +- *HashAggregate(keys=[avg_counts_per_day#317], functions=[partial_count(1), partial_max(cume_proba#311)], output=[avg_counts_per_day#317, count#358L, max#359])\n         +- *HashAggregate(keys=[market#6], functions=[sum(cast(num_shops#3 as double))], output=[avg_counts_per_day#317, cume_proba#311])\n            +- Exchange hashpartitioning(market#6, 8)\n               +- *HashAggregate(keys=[market#6], functions=[partial_sum(cast(num_shops#3 as double))], output=[market#6, sum#361])\n                  +- *FileScan csv [num_shops#3,market#6] Batched: false, Format: CSV, Location: InMemoryFileIndex[hdfs://ngsearchdev/user/kendra.frederick/lookups/top_markets/daily_counts/20220..., PartitionFilters: [], PushedFilters: [], ReadSchema: struct<num_shops:string,market:string>\n\n\tat org.apache.spark.sql.catalyst.errors.package$.attachTree(package.scala:56)\n\tat org.apache.spark.sql.execution.exchange.ShuffleExchange.doExecute(ShuffleExchange.scala:112)\n\tat org.apache.spark.sql.execution.SparkPlan$$anonfun$execute$1.apply(SparkPlan.scala:114)\n\tat org.apache.spark.sql.execution.SparkPlan$$anonfun$execute$1.apply(SparkPlan.scala:114)\n\tat org.apache.spark.sql.execution.SparkPlan$$anonfun$executeQuery$1.apply(SparkPlan.scala:135)\n\tat org.apache.spark.rdd.RDDOperationScope$.withScope(RDDOperationScope.scala:151)\n\tat org.apache.spark.sql.execution.SparkPlan.executeQuery(SparkPlan.scala:132)\n\tat org.apache.spark.sql.execution.SparkPlan.execute(SparkPlan.scala:113)\n\tat org.apache.spark.sql.execution.InputAdapter.inputRDDs(WholeStageCodegenExec.scala:235)\n\tat org.apache.spark.sql.execution.SortExec.inputRDDs(SortExec.scala:121)\n\tat org.apache.spark.sql.execution.WholeStageCodegenExec.doExecute(WholeStageCodegenExec.scala:368)\n\tat org.apache.spark.sql.execution.SparkPlan$$anonfun$execute$1.apply(SparkPlan.scala:114)\n\tat org.apache.spark.sql.execution.SparkPlan$$anonfun$execute$1.apply(SparkPlan.scala:114)\n\tat org.apache.spark.sql.execution.SparkPlan$$anonfun$executeQuery$1.apply(SparkPlan.scala:135)\n\tat org.apache.spark.rdd.RDDOperationScope$.withScope(RDDOperationScope.scala:151)\n\tat org.apache.spark.sql.execution.SparkPlan.executeQuery(SparkPlan.scala:132)\n\tat org.apache.spark.sql.execution.SparkPlan.execute(SparkPlan.scala:113)\n\tat org.apache.spark.sql.execution.window.WindowExec.doExecute(WindowExec.scala:289)\n\tat org.apache.spark.sql.execution.SparkPlan$$anonfun$execute$1.apply(SparkPlan.scala:114)\n\tat org.apache.spark.sql.execution.SparkPlan$$anonfun$execute$1.apply(SparkPlan.scala:114)\n\tat org.apache.spark.sql.execution.SparkPlan$$anonfun$executeQuery$1.apply(SparkPlan.scala:135)\n\tat org.apache.spark.rdd.RDDOperationScope$.withScope(RDDOperationScope.scala:151)\n\tat org.apache.spark.sql.execution.SparkPlan.executeQuery(SparkPlan.scala:132)\n\tat org.apache.spark.sql.execution.SparkPlan.execute(SparkPlan.scala:113)\n\tat org.apache.spark.sql.execution.InputAdapter.inputRDDs(WholeStageCodegenExec.scala:235)\n\tat org.apache.spark.sql.execution.ProjectExec.inputRDDs(basicPhysicalOperators.scala:42)\n\tat org.apache.spark.sql.execution.WholeStageCodegenExec.doExecute(WholeStageCodegenExec.scala:368)\n\tat org.apache.spark.sql.execution.SparkPlan$$anonfun$execute$1.apply(SparkPlan.scala:114)\n\tat org.apache.spark.sql.execution.SparkPlan$$anonfun$execute$1.apply(SparkPlan.scala:114)\n\tat org.apache.spark.sql.execution.SparkPlan$$anonfun$executeQuery$1.apply(SparkPlan.scala:135)\n\tat org.apache.spark.rdd.RDDOperationScope$.withScope(RDDOperationScope.scala:151)\n\tat org.apache.spark.sql.execution.SparkPlan.executeQuery(SparkPlan.scala:132)\n\tat org.apache.spark.sql.execution.SparkPlan.execute(SparkPlan.scala:113)\n\tat org.apache.spark.sql.execution.SparkPlan.getByteArrayRdd(SparkPlan.scala:225)\n\tat org.apache.spark.sql.execution.SparkPlan.executeTake(SparkPlan.scala:308)\n\tat org.apache.spark.sql.execution.CollectLimitExec.executeCollect(limit.scala:38)\n\tat org.apache.spark.sql.Dataset$$anonfun$org$apache$spark$sql$Dataset$$execute$1$1.apply(Dataset.scala:2378)\n\tat org.apache.spark.sql.execution.SQLExecution$.withNewExecutionId(SQLExecution.scala:57)\n\tat org.apache.spark.sql.Dataset.withNewExecutionId(Dataset.scala:2780)\n\tat org.apache.spark.sql.Dataset.org$apache$spark$sql$Dataset$$execute$1(Dataset.scala:2377)\n\tat org.apache.spark.sql.Dataset.org$apache$spark$sql$Dataset$$collect(Dataset.scala:2384)\n\tat org.apache.spark.sql.Dataset$$anonfun$head$1.apply(Dataset.scala:2120)\n\tat org.apache.spark.sql.Dataset$$anonfun$head$1.apply(Dataset.scala:2119)\n\tat org.apache.spark.sql.Dataset.withTypedCallback(Dataset.scala:2810)\n\tat org.apache.spark.sql.Dataset.head(Dataset.scala:2119)\n\tat org.apache.spark.sql.Dataset.take(Dataset.scala:2334)\n\tat org.apache.spark.sql.Dataset.showString(Dataset.scala:248)\n\tat sun.reflect.NativeMethodAccessorImpl.invoke0(Native Method)\n\tat sun.reflect.NativeMethodAccessorImpl.invoke(NativeMethodAccessorImpl.java:62)\n\tat sun.reflect.DelegatingMethodAccessorImpl.invoke(DelegatingMethodAccessorImpl.java:43)\n\tat java.lang.reflect.Method.invoke(Method.java:498)\n\tat py4j.reflection.MethodInvoker.invoke(MethodInvoker.java:244)\n\tat py4j.reflection.ReflectionEngine.invoke(ReflectionEngine.java:357)\n\tat py4j.Gateway.invoke(Gateway.java:280)\n\tat py4j.commands.AbstractCommand.invokeMethod(AbstractCommand.java:132)\n\tat py4j.commands.CallCommand.execute(CallCommand.java:79)\n\tat py4j.GatewayConnection.run(GatewayConnection.java:214)\n\tat java.lang.Thread.run(Thread.java:745)\nCaused by: org.apache.spark.sql.catalyst.errors.package$TreeNodeException: execute, tree:\nExchange hashpartitioning(avg_counts_per_day#317, 8)\n+- *HashAggregate(keys=[avg_counts_per_day#317], functions=[partial_count(1), partial_max(cume_proba#311)], output=[avg_counts_per_day#317, count#358L, max#359])\n   +- *HashAggregate(keys=[market#6], functions=[sum(cast(num_shops#3 as double))], output=[avg_counts_per_day#317, cume_proba#311])\n      +- Exchange hashpartitioning(market#6, 8)\n         +- *HashAggregate(keys=[market#6], functions=[partial_sum(cast(num_shops#3 as double))], output=[market#6, sum#361])\n            +- *FileScan csv [num_shops#3,market#6] Batched: false, Format: CSV, Location: InMemoryFileIndex[hdfs://ngsearchdev/user/kendra.frederick/lookups/top_markets/daily_counts/20220..., PartitionFilters: [], PushedFilters: [], ReadSchema: struct<num_shops:string,market:string>\n\n\tat org.apache.spark.sql.catalyst.errors.package$.attachTree(package.scala:56)\n\tat org.apache.spark.sql.execution.exchange.ShuffleExchange.doExecute(ShuffleExchange.scala:112)\n\tat org.apache.spark.sql.execution.SparkPlan$$anonfun$execute$1.apply(SparkPlan.scala:114)\n\tat org.apache.spark.sql.execution.SparkPlan$$anonfun$execute$1.apply(SparkPlan.scala:114)\n\tat org.apache.spark.sql.execution.SparkPlan$$anonfun$executeQuery$1.apply(SparkPlan.scala:135)\n\tat org.apache.spark.rdd.RDDOperationScope$.withScope(RDDOperationScope.scala:151)\n\tat org.apache.spark.sql.execution.SparkPlan.executeQuery(SparkPlan.scala:132)\n\tat org.apache.spark.sql.execution.SparkPlan.execute(SparkPlan.scala:113)\n\tat org.apache.spark.sql.execution.InputAdapter.inputRDDs(WholeStageCodegenExec.scala:235)\n\tat org.apache.spark.sql.execution.aggregate.HashAggregateExec.inputRDDs(HashAggregateExec.scala:141)\n\tat org.apache.spark.sql.execution.WholeStageCodegenExec.doExecute(WholeStageCodegenExec.scala:368)\n\tat org.apache.spark.sql.execution.SparkPlan$$anonfun$execute$1.apply(SparkPlan.scala:114)\n\tat org.apache.spark.sql.execution.SparkPlan$$anonfun$execute$1.apply(SparkPlan.scala:114)\n\tat org.apache.spark.sql.execution.SparkPlan$$anonfun$executeQuery$1.apply(SparkPlan.scala:135)\n\tat org.apache.spark.rdd.RDDOperationScope$.withScope(RDDOperationScope.scala:151)\n\tat org.apache.spark.sql.execution.SparkPlan.executeQuery(SparkPlan.scala:132)\n\tat org.apache.spark.sql.execution.SparkPlan.execute(SparkPlan.scala:113)\n\tat org.apache.spark.sql.execution.exchange.ShuffleExchange.prepareShuffleDependency(ShuffleExchange.scala:85)\n\tat org.apache.spark.sql.execution.exchange.ShuffleExchange$$anonfun$doExecute$1.apply(ShuffleExchange.scala:121)\n\tat org.apache.spark.sql.execution.exchange.ShuffleExchange$$anonfun$doExecute$1.apply(ShuffleExchange.scala:112)\n\tat org.apache.spark.sql.catalyst.errors.package$.attachTree(package.scala:52)\n\t... 57 more\nCaused by: java.lang.UnsupportedOperationException: Cannot evaluate expression: percent_rank()\n\tat org.apache.spark.sql.catalyst.expressions.Unevaluable$class.doGenCode(Expression.scala:224)\n\tat org.apache.spark.sql.catalyst.expressions.aggregate.DeclarativeAggregate.doGenCode(interfaces.scala:342)\n\tat org.apache.spark.sql.catalyst.expressions.Expression$$anonfun$genCode$2.apply(Expression.scala:104)\n\tat org.apache.spark.sql.catalyst.expressions.Expression$$anonfun$genCode$2.apply(Expression.scala:101)\n\tat scala.Option.getOrElse(Option.scala:121)\n\tat org.apache.spark.sql.catalyst.expressions.Expression.genCode(Expression.scala:101)\n\tat org.apache.spark.sql.catalyst.expressions.Alias.genCode(namedExpressions.scala:147)\n\tat org.apache.spark.sql.execution.aggregate.HashAggregateExec$$anonfun$32.apply(HashAggregateExec.scala:448)\n\tat org.apache.spark.sql.execution.aggregate.HashAggregateExec$$anonfun$32.apply(HashAggregateExec.scala:447)\n\tat scala.collection.TraversableLike$$anonfun$map$1.apply(TraversableLike.scala:234)\n\tat scala.collection.TraversableLike$$anonfun$map$1.apply(TraversableLike.scala:234)\n\tat scala.collection.mutable.ResizableArray$class.foreach(ResizableArray.scala:59)\n\tat scala.collection.mutable.ArrayBuffer.foreach(ArrayBuffer.scala:48)\n\tat scala.collection.TraversableLike$class.map(TraversableLike.scala:234)\n\tat scala.collection.AbstractTraversable.map(Traversable.scala:104)\n\tat org.apache.spark.sql.execution.aggregate.HashAggregateExec.generateResultCode(HashAggregateExec.scala:447)\n\tat org.apache.spark.sql.execution.aggregate.HashAggregateExec.doProduceWithKeys(HashAggregateExec.scala:610)\n\tat org.apache.spark.sql.execution.aggregate.HashAggregateExec.doProduce(HashAggregateExec.scala:148)\n\tat org.apache.spark.sql.execution.CodegenSupport$$anonfun$produce$1.apply(WholeStageCodegenExec.scala:83)\n\tat org.apache.spark.sql.execution.CodegenSupport$$anonfun$produce$1.apply(WholeStageCodegenExec.scala:78)\n\tat org.apache.spark.sql.execution.SparkPlan$$anonfun$executeQuery$1.apply(SparkPlan.scala:135)\n\tat org.apache.spark.rdd.RDDOperationScope$.withScope(RDDOperationScope.scala:151)\n\tat org.apache.spark.sql.execution.SparkPlan.executeQuery(SparkPlan.scala:132)\n\tat org.apache.spark.sql.execution.CodegenSupport$class.produce(WholeStageCodegenExec.scala:78)\n\tat org.apache.spark.sql.execution.aggregate.HashAggregateExec.produce(HashAggregateExec.scala:38)\n\tat org.apache.spark.sql.execution.aggregate.HashAggregateExec.doProduceWithKeys(HashAggregateExec.scala:598)\n\tat org.apache.spark.sql.execution.aggregate.HashAggregateExec.doProduce(HashAggregateExec.scala:148)\n\tat org.apache.spark.sql.execution.CodegenSupport$$anonfun$produce$1.apply(WholeStageCodegenExec.scala:83)\n\tat org.apache.spark.sql.execution.CodegenSupport$$anonfun$produce$1.apply(WholeStageCodegenExec.scala:78)\n\tat org.apache.spark.sql.execution.SparkPlan$$anonfun$executeQuery$1.apply(SparkPlan.scala:135)\n\tat org.apache.spark.rdd.RDDOperationScope$.withScope(RDDOperationScope.scala:151)\n\tat org.apache.spark.sql.execution.SparkPlan.executeQuery(SparkPlan.scala:132)\n\tat org.apache.spark.sql.execution.CodegenSupport$class.produce(WholeStageCodegenExec.scala:78)\n\tat org.apache.spark.sql.execution.aggregate.HashAggregateExec.produce(HashAggregateExec.scala:38)\n\tat org.apache.spark.sql.execution.WholeStageCodegenExec.doCodeGen(WholeStageCodegenExec.scala:313)\n\tat org.apache.spark.sql.execution.WholeStageCodegenExec.doExecute(WholeStageCodegenExec.scala:354)\n\tat org.apache.spark.sql.execution.SparkPlan$$anonfun$execute$1.apply(SparkPlan.scala:114)\n\tat org.apache.spark.sql.execution.SparkPlan$$anonfun$execute$1.apply(SparkPlan.scala:114)\n\tat org.apache.spark.sql.execution.SparkPlan$$anonfun$executeQuery$1.apply(SparkPlan.scala:135)\n\tat org.apache.spark.rdd.RDDOperationScope$.withScope(RDDOperationScope.scala:151)\n\tat org.apache.spark.sql.execution.SparkPlan.executeQuery(SparkPlan.scala:132)\n\tat org.apache.spark.sql.execution.SparkPlan.execute(SparkPlan.scala:113)\n\tat org.apache.spark.sql.execution.exchange.ShuffleExchange.prepareShuffleDependency(ShuffleExchange.scala:85)\n\tat org.apache.spark.sql.execution.exchange.ShuffleExchange$$anonfun$doExecute$1.apply(ShuffleExchange.scala:121)\n\tat org.apache.spark.sql.execution.exchange.ShuffleExchange$$anonfun$doExecute$1.apply(ShuffleExchange.scala:112)\n\tat org.apache.spark.sql.catalyst.errors.package$.attachTree(package.scala:52)\n\t... 77 more\n"
     ]
    }
   ],
   "source": [
    "output.show(5)"
   ]
  },
  {
   "cell_type": "code",
   "execution_count": 46,
   "metadata": {},
   "outputs": [
    {
     "name": "stdout",
     "output_type": "stream",
     "text": [
      "+-------+---------------+------------------+\n",
      "| market|sum_shop_counts|avg_counts_per_day|\n",
      "+-------+---------------+------------------+\n",
      "|LHR-BKK|     1.682557E7|  801217.619047619|\n",
      "|LHR-DEL|    1.1248877E7| 535660.8095238095|\n",
      "|LHR-DXB|    1.1130771E7| 530036.7142857143|\n",
      "|LHR-IST|    1.0328931E7|491853.85714285716|\n",
      "|DMK-CNX|      6784278.0|323060.85714285716|\n",
      "+-------+---------------+------------------+\n",
      "only showing top 5 rows\n",
      "\n"
     ]
    }
   ],
   "source": [
    "market_cnts.show(5)"
   ]
  },
  {
   "cell_type": "code",
   "execution_count": 47,
   "metadata": {},
   "outputs": [
    {
     "data": {
      "text/plain": [
       "'avg_counts_per_day'"
      ]
     },
     "execution_count": 47,
     "metadata": {},
     "output_type": "execute_result"
    }
   ],
   "source": [
    "col"
   ]
  },
  {
   "cell_type": "code",
   "execution_count": 55,
   "metadata": {},
   "outputs": [],
   "source": [
    "w = Window.orderBy(\"avg_counts_per_day\")\n",
    "w2 = Window.orderBy(\"rounded_log_counts\")\n",
    "\n",
    "output = (market_cnts\n",
    "          .withColumn(\"cume_proba\", F.percent_rank().over(w))\n",
    "          .withColumn(\"log_avg_counts\", F.log10(F.col(col)))\n",
    "          .withColumn(\"rounded_log_counts\", F.round(F.col(\"log_avg_counts\"), 1))\n",
    "          .groupBy(\"rounded_log_counts\")\n",
    "          .agg(\n",
    "              F.max(\"cume_proba\").alias(\"cume_proba\"),\n",
    "              F.count('*').alias(\"data_count\")\n",
    "          )\n",
    "          .withColumn(\"cume_proba\", F.lead(F.col(\"cume_proba\")).over(w2))\n",
    "          .fillna(1, subset=[\"cume_proba\"])\n",
    "          .withColumn(\"avg_counts\", F.pow(F.col(\"rounded_log_counts\"), F.lit(10)))\n",
    "         )"
   ]
  },
  {
   "cell_type": "code",
   "execution_count": 56,
   "metadata": {},
   "outputs": [
    {
     "name": "stdout",
     "output_type": "stream",
     "text": [
      "+------------------+-------------------+----------+--------------------+\n",
      "|rounded_log_counts|         cume_proba|data_count|          avg_counts|\n",
      "+------------------+-------------------+----------+--------------------+\n",
      "|              -1.3|0.06902257142401794|     95280|  13.785849184900005|\n",
      "|              -1.0| 0.1294636841884125|     83434|                 1.0|\n",
      "|              -0.8|0.16946026493424454|     55212| 0.10737418240000006|\n",
      "|              -0.7|0.20662871680896655|     51308|0.028247524899999984|\n",
      "|              -0.6|0.26207496569879557|     39538|0.006046617599999997|\n",
      "+------------------+-------------------+----------+--------------------+\n",
      "only showing top 5 rows\n",
      "\n"
     ]
    }
   ],
   "source": [
    "output.show(5)"
   ]
  },
  {
   "cell_type": "code",
   "execution_count": 57,
   "metadata": {},
   "outputs": [
    {
     "name": "stdout",
     "output_type": "stream",
     "text": [
      "+------------------+------------------+----------+--------------------+\n",
      "|rounded_log_counts|        cume_proba|data_count|          avg_counts|\n",
      "+------------------+------------------+----------+--------------------+\n",
      "|               5.9|               1.0|         3| 5.111167533006417E7|\n",
      "|               6.0|               1.0|         2|         6.0466176E7|\n",
      "|               5.8|0.9999985511634881|         7| 4.308042068994057E7|\n",
      "|               5.7|0.9999963779087204|         9| 3.620333314568914E7|\n",
      "|               5.6| 0.999991306980929|        16|3.0330548909611396E7|\n",
      "|               5.5|0.9999847872166256|        28|2.5329516211914062E7|\n",
      "|               5.4| 0.999973196524531|        57|2.1083251926492073E7|\n",
      "|               5.3|0.9999529128133652|        91|  1.74887470365513E7|\n",
      "|               5.2|0.9999116209727779|       118|1.4455510594905708E7|\n",
      "|               5.1|0.9998456989114891|       173|1.1904242382761292E7|\n",
      "|               5.0|0.9997602175572906|       234|           9765625.0|\n",
      "|               4.9|0.9996348931990165|       316|   7979226.629761206|\n",
      "|               4.8|0.9994653793271313|       389|     6492506.2108545|\n",
      "|               4.7|0.9992364631582608|       488|   5259913.223583007|\n",
      "|               4.6| 0.998954664456708|       606|   4242074.748277654|\n",
      "|               4.5|0.9986011483478193|       766|  3405062.8916015625|\n",
      "|               4.4| 0.998162150884732|       955|    2719736.09384182|\n",
      "|               4.3|0.9976072465006977|      1062|   2161148.231328424|\n",
      "|               4.2|0.9969154270662944|      1267|   1708019.812167783|\n",
      "|               4.1|0.9961460948785078|      1490|  1342265.9310152389|\n",
      "+------------------+------------------+----------+--------------------+\n",
      "only showing top 20 rows\n",
      "\n"
     ]
    }
   ],
   "source": [
    "output.orderBy(F.desc(\"cume_proba\")).show()"
   ]
  },
  {
   "cell_type": "code",
   "execution_count": 58,
   "metadata": {},
   "outputs": [],
   "source": [
    "pdf_cdf = output.toPandas()"
   ]
  },
  {
   "cell_type": "code",
   "execution_count": 59,
   "metadata": {},
   "outputs": [],
   "source": [
    "pdf_cdf.sort_values(by=\"rounded_log_counts\", inplace=True);"
   ]
  },
  {
   "cell_type": "code",
   "execution_count": 61,
   "metadata": {},
   "outputs": [
    {
     "data": {
      "image/png": "[encoded data removed]",
      "text/plain": [
       "<Figure size 432x288 with 1 Axes>"
      ]
     },
     "metadata": {
      "needs_background": "light"
     },
     "output_type": "display_data"
    }
   ],
   "source": [
    "plt.plot(pdf_cdf['avg_counts'], pdf_cdf['cume_proba']);\n",
    "plt.title(\"CDF by volume\")\n",
    "plt.xlabel(\"avg shops / day\");"
   ]
  },
  {
   "cell_type": "code",
   "execution_count": 62,
   "metadata": {},
   "outputs": [
    {
     "data": {
      "image/png": "[encoded data removed]",
      "text/plain": [
       "<Figure size 432x288 with 1 Axes>"
      ]
     },
     "metadata": {
      "needs_background": "light"
     },
     "output_type": "display_data"
    }
   ],
   "source": [
    "plt.plot(pdf_cdf['rounded_log_counts'], pdf_cdf['cume_proba']);\n",
    "plt.title(\"CDF\")\n",
    "plt.xlabel(\"log10(avg shops / day)\");"
   ]
  },
  {
   "cell_type": "code",
   "execution_count": 64,
   "metadata": {},
   "outputs": [
    {
     "data": {
      "text/plain": [
       "71"
      ]
     },
     "execution_count": 64,
     "metadata": {},
     "output_type": "execute_result"
    }
   ],
   "source": [
    "len(pdf_cdf)"
   ]
  },
  {
   "cell_type": "code",
   "execution_count": 65,
   "metadata": {},
   "outputs": [
    {
     "data": {
      "image/png": "[encoded data removed]",
      "text/plain": [
       "<Figure size 432x288 with 1 Axes>"
      ]
     },
     "metadata": {
      "needs_background": "light"
     },
     "output_type": "display_data"
    }
   ],
   "source": [
    "plt.bar(pdf_cdf['rounded_log_counts'], pdf_cdf['data_count']);\n",
    "plt.title(\"Histogram\")\n",
    "plt.xlabel(\"log10(avg shops / day)\");\n",
    "plt.ylabel(\"num markets\");"
   ]
  },
  {
   "cell_type": "code",
   "execution_count": 66,
   "metadata": {
    "collapsed": true
   },
   "outputs": [
    {
     "data": {
      "image/png": "[encoded data removed]",
      "text/plain": [
       "<Figure size 432x288 with 1 Axes>"
      ]
     },
     "metadata": {
      "needs_background": "light"
     },
     "output_type": "display_data"
    }
   ],
   "source": [
    "plt.bar(pdf_cdf['avg_counts'], pdf_cdf['data_count']);\n",
    "plt.title(\"Histogram\")\n",
    "plt.xlabel(\"avg shops / day\");\n",
    "plt.ylabel(\"num markets\");"
   ]
  },
  {
   "cell_type": "markdown",
   "metadata": {},
   "source": [
    "# another take"
   ]
  },
  {
   "cell_type": "code",
   "execution_count": 9,
   "metadata": {},
   "outputs": [],
   "source": [
    "market_cnts = df.groupBy(\"market\").agg(F.sum('num_shops').alias(\"sum_shop_counts\"))\n",
    "market_cnts = market_cnts.withColumn(\"avg_counts_per_day\", F.col(\"sum_shop_counts\") / num_shop_days)\n",
    "\n",
    "# w = Window.orderBy(\"avg_counts_per_day\")\n",
    "\n",
    "w = Window.partitionBy()\n",
    "\n",
    "# market_cnts = market_cnts.withColumn(\"pct_rank\", F.percent_rank().over(w))\n",
    "# market_cnts = market_cnts.withColumn(\"cume_dist\", F.cume_dist().over(w))\n",
    "\n",
    "market_cnts = market_cnts.withColumn(\"pct_total_shops\",\n",
    "                                    F.col(\"sum_shop_counts\") / F.sum(\"sum_shop_counts\").over(w))\n",
    "\n",
    "w2 = (Window\n",
    "      .orderBy(\"avg_counts_per_day\")\n",
    "      .rowsBetween(Window.unboundedPreceding, Window.currentRow)\n",
    "     )\n",
    "market_cnts = market_cnts.withColumn(\"cume_pct\",\n",
    "                                    F.sum(\"pct_total_shops\").over(w2))\n",
    "\n",
    "w3 = (Window\n",
    "      .orderBy(F.desc(\"avg_counts_per_day\"))\n",
    "      .rowsBetween(Window.unboundedPreceding, Window.currentRow)\n",
    "     )\n",
    "market_cnts = market_cnts.withColumn(\"rev_cume_pct\",\n",
    "                                    F.sum(\"pct_total_shops\").over(w3))\n",
    "\n",
    "w_ord = Window.orderBy(F.desc(\"sum_shop_counts\"))\n",
    "market_cnts = market_cnts.withColumn(\"rank\", F.rank().over(w_ord))"
   ]
  },
  {
   "cell_type": "code",
   "execution_count": 12,
   "metadata": {},
   "outputs": [
    {
     "data": {
      "text/plain": [
       "1380419"
      ]
     },
     "execution_count": 12,
     "metadata": {},
     "output_type": "execute_result"
    }
   ],
   "source": [
    "market_cnts.count()"
   ]
  },
  {
   "cell_type": "code",
   "execution_count": 76,
   "metadata": {
    "collapsed": true
   },
   "outputs": [
    {
     "name": "stdout",
     "output_type": "stream",
     "text": [
      "+-------+---------------+------------------+--------------------+------------------+\n",
      "| market|sum_shop_counts|avg_counts_per_day|     pct_total_shops|          cume_pct|\n",
      "+-------+---------------+------------------+--------------------+------------------+\n",
      "|DME-IST|    1.9618962E7| 934236.2857142857|0.001922007205722...|1.0000000000000018|\n",
      "|VKO-IST|    1.9499312E7| 928538.6666666666|0.001910285476399785|0.9980779927942788|\n",
      "|VKO-SAW|    1.6988424E7| 808972.5714285715|0.001664301778140...| 0.996167707317879|\n",
      "|LHR-BKK|     1.682557E7|  801217.619047619|0.001648347490575...|0.9945034055397382|\n",
      "|ICN-BKK|    1.6449886E7| 783327.9047619047|0.001611542925936...|0.9928550580491627|\n",
      "|SIN-BKK|    1.4635868E7| 696946.0952380953|0.001433829361513...|0.9912435151232261|\n",
      "|SVO-IST|    1.4079205E7| 670438.3333333334|0.001379294860800...| 0.989809685761713|\n",
      "|DME-SAW|    1.2833609E7| 611124.2380952381|0.001257267788858...| 0.988430390900912|\n",
      "|BKK-ICN|    1.2599142E7| 599959.1428571428|0.001234297803825...| 0.987173123112054|\n",
      "|VKO-AYT|    1.2587259E7| 599393.2857142857|0.001233133664171458| 0.985938825308229|\n",
      "|BKK-HKT|     1.202004E7| 572382.8571428572|0.001177565025768318|0.9847056916440575|\n",
      "|LHR-JFK|    1.1914016E7| 567334.0952380953|0.001167178192255...|0.9835281266182893|\n",
      "|BKK-SIN|    1.1566994E7| 550809.2380952381|0.001133181552446...|0.9823609484260333|\n",
      "|BKK-CNX|    1.1323602E7| 539219.1428571428|0.001109337213596...|0.9812277668735865|\n",
      "|LHR-DEL|    1.1248877E7| 535660.8095238095|0.001102016643402...|0.9801184296599899|\n",
      "|LHR-DXB|    1.1130771E7| 530036.7142857143|0.001090446174841...|0.9790164130165868|\n",
      "|LHR-EWR|    1.1017452E7| 524640.5714285715|0.001079344673418...|0.9779259668417458|\n",
      "|HKG-LHR|    1.0633236E7| 506344.5714285714|0.001041704255920...| 0.976846622168327|\n",
      "|LHR-IST|    1.0328931E7|491853.85714285716|0.001011892464515...| 0.975804917912406|\n",
      "|IST-DME|    1.0051668E7|478650.85714285716|9.847298917004083E-4|0.9747930254478905|\n",
      "+-------+---------------+------------------+--------------------+------------------+\n",
      "only showing top 20 rows\n",
      "\n"
     ]
    }
   ],
   "source": [
    "# market_cnts.orderBy(F.desc(\"sum_shop_counts\")).show()"
   ]
  },
  {
   "cell_type": "code",
   "execution_count": 14,
   "metadata": {},
   "outputs": [],
   "source": [
    "pdf_out2 = market_cnts.toPandas()"
   ]
  },
  {
   "cell_type": "code",
   "execution_count": 93,
   "metadata": {},
   "outputs": [
    {
     "data": {
      "image/png": "[encoded data removed]",
      "text/plain": [
       "<Figure size 432x288 with 1 Axes>"
      ]
     },
     "metadata": {
      "needs_background": "light"
     },
     "output_type": "display_data"
    }
   ],
   "source": [
    "plt.plot(pdf_out2['rank'], pdf_out2['rev_cume_pct'])\n",
    "plt.xlabel('market')\n",
    "plt.ylabel(\"cumulative pct of total shops\");\n",
    "plt.title(\"CDF by market rank\");"
   ]
  },
  {
   "cell_type": "code",
   "execution_count": 15,
   "metadata": {},
   "outputs": [
    {
     "name": "stdout",
     "output_type": "stream",
     "text": [
      "The top 1.2% of markets account for 80% of the shopping volume\n"
     ]
    }
   ],
   "source": [
    "vol_pct = 0.8\n",
    "rank = pdf_out2[pdf_out2['rev_cume_pct'] > vol_pct].head(1)['rank'].values[0]\n",
    "rank_pct = rank / len(pdf_out2)\n",
    "print(f\"The top {rank_pct*100:.1f}% of markets account for {vol_pct*100:.0f}% of the shopping volume\")"
   ]
  },
  {
   "cell_type": "code",
   "execution_count": 16,
   "metadata": {},
   "outputs": [
    {
     "name": "stdout",
     "output_type": "stream",
     "text": [
      "The top 2.6% of markets account for 90% of the shopping volume\n"
     ]
    }
   ],
   "source": [
    "vol_pct = 0.9\n",
    "rank = pdf_out2[pdf_out2['rev_cume_pct'] > vol_pct].head(1)['rank'].values[0]\n",
    "rank_pct = rank / len(pdf_out2)\n",
    "print(f\"The top {rank_pct*100:.1f}% of markets account for {vol_pct*100:.0f}% of the shopping volume\")"
   ]
  },
  {
   "cell_type": "code",
   "execution_count": 17,
   "metadata": {},
   "outputs": [
    {
     "name": "stdout",
     "output_type": "stream",
     "text": [
      "The top 1000 markets account for 30% of the shopping volume\n"
     ]
    }
   ],
   "source": [
    "rank = 1000\n",
    "vol_pct = pdf_out2[pdf_out2['rank'] == rank]['rev_cume_pct'].values[0]\n",
    "print(f\"The top {rank} markets account for {vol_pct*100:.0f}% of the shopping volume\")"
   ]
  },
  {
   "cell_type": "markdown",
   "metadata": {},
   "source": [
    "I may need to expand my coverage data beyond the top 1000"
   ]
  },
  {
   "cell_type": "markdown",
   "metadata": {},
   "source": [
    "Let's see how coverage looks up to the 1000th market first"
   ]
  },
  {
   "cell_type": "code",
   "execution_count": 27,
   "metadata": {},
   "outputs": [
    {
     "name": "stdout",
     "output_type": "stream",
     "text": [
      "There are 1,182,762 markets (out of 1,380,419 total) in the bottom 1.0% of the shopping volume\n"
     ]
    }
   ],
   "source": [
    "vol_pct = 0.99\n",
    "vol_pdf = pdf_out2[pdf_out2['rev_cume_pct'] > vol_pct]\n",
    "\n",
    "print(f\"There are {len(vol_pdf):,} markets (out of {len(pdf_out2):,} total) in the bottom {(1-vol_pct)*100:.1f}% of the shopping volume\")"
   ]
  },
  {
   "cell_type": "code",
   "execution_count": 26,
   "metadata": {},
   "outputs": [
    {
     "data": {
      "text/html": [
       "<div>\n",
       "<style scoped>\n",
       "    .dataframe tbody tr th:only-of-type {\n",
       "        vertical-align: middle;\n",
       "    }\n",
       "\n",
       "    .dataframe tbody tr th {\n",
       "        vertical-align: top;\n",
       "    }\n",
       "\n",
       "    .dataframe thead th {\n",
       "        text-align: right;\n",
       "    }\n",
       "</style>\n",
       "<table border=\"1\" class=\"dataframe\">\n",
       "  <thead>\n",
       "    <tr style=\"text-align: right;\">\n",
       "      <th></th>\n",
       "      <th>market</th>\n",
       "      <th>sum_shop_counts</th>\n",
       "      <th>avg_counts_per_day</th>\n",
       "      <th>pct_total_shops</th>\n",
       "      <th>cume_pct</th>\n",
       "      <th>rev_cume_pct</th>\n",
       "      <th>rank</th>\n",
       "    </tr>\n",
       "  </thead>\n",
       "  <tbody>\n",
       "    <tr>\n",
       "      <th>0</th>\n",
       "      <td>DME-IST</td>\n",
       "      <td>19618962.0</td>\n",
       "      <td>934236.285714</td>\n",
       "      <td>0.001922</td>\n",
       "      <td>1.000000</td>\n",
       "      <td>0.001922</td>\n",
       "      <td>1</td>\n",
       "    </tr>\n",
       "    <tr>\n",
       "      <th>1</th>\n",
       "      <td>VKO-IST</td>\n",
       "      <td>19499312.0</td>\n",
       "      <td>928538.666667</td>\n",
       "      <td>0.001910</td>\n",
       "      <td>0.998078</td>\n",
       "      <td>0.003832</td>\n",
       "      <td>2</td>\n",
       "    </tr>\n",
       "    <tr>\n",
       "      <th>2</th>\n",
       "      <td>VKO-SAW</td>\n",
       "      <td>16988424.0</td>\n",
       "      <td>808972.571429</td>\n",
       "      <td>0.001664</td>\n",
       "      <td>0.996168</td>\n",
       "      <td>0.005497</td>\n",
       "      <td>3</td>\n",
       "    </tr>\n",
       "    <tr>\n",
       "      <th>3</th>\n",
       "      <td>LHR-BKK</td>\n",
       "      <td>16825570.0</td>\n",
       "      <td>801217.619048</td>\n",
       "      <td>0.001648</td>\n",
       "      <td>0.994503</td>\n",
       "      <td>0.007145</td>\n",
       "      <td>4</td>\n",
       "    </tr>\n",
       "    <tr>\n",
       "      <th>4</th>\n",
       "      <td>ICN-BKK</td>\n",
       "      <td>16449886.0</td>\n",
       "      <td>783327.904762</td>\n",
       "      <td>0.001612</td>\n",
       "      <td>0.992855</td>\n",
       "      <td>0.008756</td>\n",
       "      <td>5</td>\n",
       "    </tr>\n",
       "  </tbody>\n",
       "</table>\n",
       "</div>"
      ],
      "text/plain": [
       "    market  sum_shop_counts  avg_counts_per_day  pct_total_shops  cume_pct  \\\n",
       "0  DME-IST       19618962.0       934236.285714         0.001922  1.000000   \n",
       "1  VKO-IST       19499312.0       928538.666667         0.001910  0.998078   \n",
       "2  VKO-SAW       16988424.0       808972.571429         0.001664  0.996168   \n",
       "3  LHR-BKK       16825570.0       801217.619048         0.001648  0.994503   \n",
       "4  ICN-BKK       16449886.0       783327.904762         0.001612  0.992855   \n",
       "\n",
       "   rev_cume_pct  rank  \n",
       "0      0.001922     1  \n",
       "1      0.003832     2  \n",
       "2      0.005497     3  \n",
       "3      0.007145     4  \n",
       "4      0.008756     5  "
      ]
     },
     "execution_count": 26,
     "metadata": {},
     "output_type": "execute_result"
    }
   ],
   "source": [
    "pdf_out2.head()"
   ]
  },
  {
   "cell_type": "code",
   "execution_count": 9,
   "metadata": {},
   "outputs": [],
   "source": [
    "spark.stop()"
   ]
  },
  {
   "cell_type": "code",
   "execution_count": null,
   "metadata": {},
   "outputs": [],
   "source": []
  }
 ],
 "metadata": {
  "kernelspec": {
   "display_name": "Python 3",
   "language": "python",
   "name": "python3"
  },
  "language_info": {
   "codemirror_mode": {
    "name": "ipython",
    "version": 3
   },
   "file_extension": ".py",
   "mimetype": "text/x-python",
   "name": "python",
   "nbconvert_exporter": "python",
   "pygments_lexer": "ipython3",
   "version": "3.7.3"
  }
 },
 "nbformat": 4,
 "nbformat_minor": 2
}
