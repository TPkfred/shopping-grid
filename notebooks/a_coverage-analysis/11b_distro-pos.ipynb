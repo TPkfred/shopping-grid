{
 "cells": [
  {
   "cell_type": "markdown",
   "metadata": {},
   "source": [
    "## import, setup"
   ]
  },
  {
   "cell_type": "code",
   "execution_count": 1,
   "metadata": {},
   "outputs": [],
   "source": [
    "from functools import reduce\n",
    "import datetime\n",
    "from calendar import Calendar\n",
    "import argparse\n",
    "\n",
    "import pyspark\n",
    "from pyspark.sql import SparkSession\n",
    "import pyspark.sql.functions as F\n",
    "import pyspark.sql.types as T\n",
    "from pyspark.sql.window import Window\n",
    "\n",
    "# for notebook\n",
    "import matplotlib.pyplot as plt\n",
    "import seaborn as sns\n",
    "import numpy as np\n",
    "import pandas as pd\n",
    "\n",
    "pd.options.mode.chained_assignment = None\n",
    "pd.set_option(\"display.max_columns\", 100)"
   ]
  },
  {
   "cell_type": "code",
   "execution_count": 2,
   "metadata": {},
   "outputs": [],
   "source": [
    "# pretty print a row\n",
    "def pp_row(df):\n",
    "    cols = df.columns\n",
    "    out = df.take(1)\n",
    "    for i, x in enumerate(out[0]):\n",
    "        print(cols[i], x)"
   ]
  },
  {
   "cell_type": "markdown",
   "metadata": {},
   "source": [
    "Need to re-compute coverage summary, so run in cluster mode"
   ]
  },
  {
   "cell_type": "code",
   "execution_count": 3,
   "metadata": {},
   "outputs": [
    {
     "data": {
      "text/plain": [
       "'application_1658797823938_3242'"
      ]
     },
     "execution_count": 3,
     "metadata": {},
     "output_type": "execute_result"
    }
   ],
   "source": [
    "APP_NAME = \"KF-ShopGrid-Jupyter\"\n",
    "\n",
    "# SET UP SPARK\n",
    "# ----------------\n",
    "run_mode = \"python\" \n",
    "\n",
    "if run_mode == \"python\":\n",
    "    conf1 = pyspark.SparkConf().setAll([\n",
    "        (\"spark.app.name\", APP_NAME),\n",
    "        (\"spark.driver.memory\",\"20g\"),\n",
    "        (\"spark.master\",\"yarn\"),\n",
    "        (\"spark.executor.memory\", \"10g\"),\n",
    "        (\"spark.executor.instances\", 5),\n",
    "        (\"spark.executor.cores\", \"5\"),\n",
    "        ('spark.sql.crossJoin.enabled', True),\n",
    "        ('spark.sql.shuffle.partitions', 8) \n",
    "        ])\n",
    "    spark = SparkSession.builder.config(conf = conf1).getOrCreate()\n",
    "elif run_mode == \"spark-submit\":\n",
    "    spark = SparkSession.builder.appName(APP_NAME).getOrCreate()\n",
    "else:\n",
    "    pass\n",
    "\n",
    "spark.sparkContext.applicationId"
   ]
  },
  {
   "cell_type": "markdown",
   "metadata": {},
   "source": [
    "## args"
   ]
  },
  {
   "cell_type": "code",
   "execution_count": 4,
   "metadata": {},
   "outputs": [],
   "source": [
    "# # define dates\n",
    "# max_days_til_dept = 120 # args.days_til_dept\n",
    "# max_stay_duration = 30 #args.length_of_stay\n",
    "\n",
    "# missing_search_days_str = [] #args.missing_dates or []\n",
    "# num_missing_days = len(missing_search_days_str)\n",
    "\n",
    "# # filter on LOS, to restrict our analysis\n",
    "# los_start, los_end = 1, 7"
   ]
  },
  {
   "cell_type": "markdown",
   "metadata": {},
   "source": [
    "# load & prep data"
   ]
  },
  {
   "cell_type": "markdown",
   "metadata": {},
   "source": [
    "TODO: combine data from different \"versions\" of shop_vol data"
   ]
  },
  {
   "cell_type": "code",
   "execution_count": null,
   "metadata": {},
   "outputs": [],
   "source": [
    "# coverage input data\n",
    "input_dir = \"/user/kendra.frederick/shop_vol/v5/decoded/with_pcc/\"\n",
    "cov_df = spark.read.option(\"mergeSchema\", True).parquet(input_dir)"
   ]
  },
  {
   "cell_type": "code",
   "execution_count": null,
   "metadata": {},
   "outputs": [],
   "source": [
    "# # NEW: derive shopping dates from data, instead of them being supplied as arguments\n",
    "# search_start_str = cov_df.select(F.min(\"searchDt\").alias(\"x\")).collect()[0][\"x\"]\n",
    "# search_end_str = cov_df.select(F.max(\"searchDt\").alias(\"x\")).collect()[0][\"x\"]\n",
    "\n",
    "# search_start = datetime.datetime.strptime(str(search_start_str), \"%Y%m%d\").date()\n",
    "# search_end = datetime.datetime.strptime(str(search_end_str), \"%Y%m%d\").date()\n",
    "\n",
    "# num_search_days = (search_end - search_start).days + 1\n",
    "# num_search_days_adj = num_search_days - num_missing_days\n",
    "\n",
    "# # # OUTBOUND DEPARTURE DATES\n",
    "# # min_dept_dt = search_start # this includes same-day searches\n",
    "# # max_dept_dt = search_end + datetime.timedelta(days=max_days_til_dept)\n",
    "# # max_return_dt = max_dept_dt + datetime.timedelta(days=max_stay_duration)\n",
    "\n",
    "# # min_dept_dt, max_dept_dt, max_return_dt\n",
    "# search_start, search_end, num_search_days"
   ]
  },
  {
   "cell_type": "code",
   "execution_count": 8,
   "metadata": {},
   "outputs": [
    {
     "name": "stdout",
     "output_type": "stream",
     "text": [
      "+-------+---------+--------+----------+-----------+--------+---+--------+----+------+-----------+--------+\n",
      "| market|outDeptDt|inDeptDt|round_trip|shop_counts|min_fare|pos|currency| pcc|origin|destination|searchDt|\n",
      "+-------+---------+--------+----------+-----------+--------+---+--------+----+------+-----------+--------+\n",
      "|SJC-JFK| 20220901|       0|         0|         20|   358.6| US|     USD| OMW|   SJC|        JFK|20220825|\n",
      "|KBV-BKK| 20220914|       0|         0|         21|  1089.0| TW|     TWD| 4D6|   KBV|        BKK|20220825|\n",
      "|PUS-BKK| 20221001|20221005|         1|          5|594000.0| KR|     KRW|64T3|   PUS|        BKK|20220825|\n",
      "|HKG-SFO| 20221029|       0|         0|         48|  769.57| US|     USD| J86|   HKG|        SFO|20220825|\n",
      "|LHR-BKK| 20221002|20221025|         1|          5|  868.76| GB|     GBP| V8T|   LHR|        BKK|20220825|\n",
      "+-------+---------+--------+----------+-----------+--------+---+--------+----+------+-----------+--------+\n",
      "only showing top 5 rows\n",
      "\n"
     ]
    }
   ],
   "source": [
    "# cov_df.show(5)"
   ]
  },
  {
   "cell_type": "markdown",
   "metadata": {},
   "source": [
    "## look at counts by POS"
   ]
  },
  {
   "cell_type": "code",
   "execution_count": null,
   "metadata": {},
   "outputs": [],
   "source": [
    "pos_cnts = cov_df.groupby('pos').agg(F.sum(\"shop_counts\").alias(\"shop_counts\"))\n",
    "country_df = spark.read.csv(\"/data/reference/COUNTRY.CSV\", header=True)\n",
    "pos_cnts = (pos_cnts.join(country_df.select(\"2_char_code\", \"name\"),\n",
    "                        on=pos_cnts[\"pos\"] == country_df['2_char_code']\n",
    "                       )\n",
    "           .withColumnRenamed(\"name\", \"country_name\")\n",
    "           .drop(\"2_char_code\")\n",
    "          )\n",
    "\n",
    "pos_cnts = pos_cnts.withColumn(\"avg_shop_counts\", F.col(\"shop_counts\") / num_search_days)\n",
    "\n",
    "w = Window.partitionBy()\n",
    "pos_cnts = pos_cnts.withColumn(\"pct_total_counts\", F.col(\"shop_counts\") / F.sum(\"shop_counts\").over(w))"
   ]
  },
  {
   "cell_type": "code",
   "execution_count": 31,
   "metadata": {},
   "outputs": [
    {
     "name": "stdout",
     "output_type": "stream",
     "text": [
      "+---+--------------------+---------------+--------------------+\n",
      "|pos|        country_name|avg_shop_counts|    pct_total_counts|\n",
      "+---+--------------------+---------------+--------------------+\n",
      "| US|       United States|   3.45047425E7|  0.2401325179223534|\n",
      "| GB|      United Kingdom|   2.00955682E7|  0.1398532213635959|\n",
      "| HK|           Hong Kong|   1.83262417E7| 0.12753975959897776|\n",
      "| RU|  Russian Federation|   1.16748298E7| 0.08124988256872011|\n",
      "| CA|              Canada|      8409945.4|0.058528225924059964|\n",
      "| IN|               India|      7560299.1| 0.05261519221971016|\n",
      "| TW|              Taiwan|      6505944.2| 0.04527750822103168|\n",
      "| DE|             Germany|      6436586.7| 0.04479482120744798|\n",
      "| AU|           Australia|      4720580.6| 0.03285243776369042|\n",
      "| TH|            Thailand|      4303281.6| 0.02994828452746557|\n",
      "| JP|               Japan|      3446556.1|   0.023985983794942|\n",
      "| KR|  Korea, Republic Of|      2978354.0|0.020727575210396455|\n",
      "| PH|         Philippines|      1958517.2|0.013630116689908276|\n",
      "| ES|               Spain|      1560350.5|0.010859112900390521|\n",
      "| IT|               Italy|      1131210.2|0.007872551247859594|\n",
      "| FR|              France|      1097813.4|0.007640129351810...|\n",
      "| IL|              Israel|       915805.3|0.006373461057291943|\n",
      "| MY|            Malaysia|       912372.6|0.006349571503724863|\n",
      "| AE|United Arab Emirates|       870827.6|0.006060442974303605|\n",
      "| PT|            Portugal|       842867.9|0.005865860065552623|\n",
      "+---+--------------------+---------------+--------------------+\n",
      "only showing top 20 rows\n",
      "\n"
     ]
    }
   ],
   "source": [
    "pos_cnts.select(\"pos\", \"country_name\", \"avg_shop_counts\", \"pct_total_counts\").orderBy(F.desc(\"shop_counts\")).show(20)"
   ]
  },
  {
   "cell_type": "code",
   "execution_count": 8,
   "metadata": {},
   "outputs": [
    {
     "data": {
      "text/plain": [
       "129"
      ]
     },
     "execution_count": 8,
     "metadata": {},
     "output_type": "execute_result"
    }
   ],
   "source": [
    "pos_cnts.count()"
   ]
  },
  {
   "cell_type": "code",
   "execution_count": 9,
   "metadata": {},
   "outputs": [],
   "source": [
    "pos_cnts_pdf = pos_cnts.toPandas()"
   ]
  },
  {
   "cell_type": "code",
   "execution_count": 14,
   "metadata": {},
   "outputs": [],
   "source": [
    "pos_cnts_pdf.sort_values(by=\"shop_counts\", inplace=True, ascending=False)"
   ]
  },
  {
   "cell_type": "code",
   "execution_count": 15,
   "metadata": {},
   "outputs": [],
   "source": [
    "pos_cnts_pdf[\"avg_shop_counts\"] = pos_cnts_pdf['shop_counts'] / num_search_days"
   ]
  },
  {
   "cell_type": "code",
   "execution_count": 17,
   "metadata": {},
   "outputs": [
    {
     "data": {
      "image/png": "[encoded data removed]",
      "text/plain": [
       "<Figure size 720x360 with 1 Axes>"
      ]
     },
     "metadata": {
      "needs_background": "light"
     },
     "output_type": "display_data"
    }
   ],
   "source": [
    "xs = range(len(pos_cnts_pdf))\n",
    "plt.figure(figsize=(10,5))\n",
    "plt.bar(xs, pos_cnts_pdf['avg_shop_counts']);\n",
    "plt.ylabel(\"avg shops / day\")\n",
    "plt.xlabel(\"POS\")\n",
    "plt.title(\"Distribution of shopping volumes by POS\");\n",
    "# plt.xticks[xs[::2]]"
   ]
  },
  {
   "cell_type": "code",
   "execution_count": 19,
   "metadata": {},
   "outputs": [
    {
     "data": {
      "image/png": "[encoded data removed]",
      "text/plain": [
       "<Figure size 720x360 with 1 Axes>"
      ]
     },
     "metadata": {
      "needs_background": "light"
     },
     "output_type": "display_data"
    }
   ],
   "source": [
    "top_n = 25\n",
    "xs = range(top_n)\n",
    "plt.figure(figsize=(10,5))\n",
    "plt.bar(xs, pos_cnts_pdf['avg_shop_counts'][:top_n]);\n",
    "plt.xticks(xs, pos_cnts_pdf['country_name'], rotation=90)\n",
    "plt.ylabel(\"avg shops / day\")\n",
    "# plt.xlabel(\"POS\")\n",
    "plt.title(\"Distribution of shopping volumes by POS\");"
   ]
  },
  {
   "cell_type": "code",
   "execution_count": 21,
   "metadata": {
    "collapsed": true
   },
   "outputs": [
    {
     "data": {
      "text/plain": [
       "['US',\n",
       " 'GB',\n",
       " 'HK',\n",
       " 'RU',\n",
       " 'CA',\n",
       " 'IN',\n",
       " 'TW',\n",
       " 'DE',\n",
       " 'AU',\n",
       " 'TH',\n",
       " 'JP',\n",
       " 'KR',\n",
       " 'PH',\n",
       " 'ES',\n",
       " 'IT',\n",
       " 'FR',\n",
       " 'IL',\n",
       " 'MY',\n",
       " 'AE',\n",
       " 'PT',\n",
       " 'KW',\n",
       " 'SG',\n",
       " 'ID',\n",
       " 'NL',\n",
       " 'VN']"
      ]
     },
     "execution_count": 21,
     "metadata": {},
     "output_type": "execute_result"
    }
   ],
   "source": [
    "# list(pos_cnts_pdf['pos'][:top_n])"
   ]
  },
  {
   "cell_type": "code",
   "execution_count": null,
   "metadata": {},
   "outputs": [],
   "source": [
    "pos_to_study = \n",
    "['US',\n",
    " 'GB',\n",
    " 'HK',\n",
    " 'CA',\n",
    " 'IN',\n",
    " 'TW',\n",
    " 'DE',\n",
    " 'AU',\n",
    " 'TH',\n",
    " 'JP',\n",
    " 'KR',\n",
    " 'PH',\n",
    " 'ES',\n",
    " 'IT',\n",
    " 'FR',\n",
    " ]"
   ]
  }
 ],
 "metadata": {
  "kernelspec": {
   "display_name": "Python 3",
   "language": "python",
   "name": "python3"
  },
  "language_info": {
   "codemirror_mode": {
    "name": "ipython",
    "version": 3
   },
   "file_extension": ".py",
   "mimetype": "text/x-python",
   "name": "python",
   "nbconvert_exporter": "python",
   "pygments_lexer": "ipython3",
   "version": "3.7.3"
  }
 },
 "nbformat": 4,
 "nbformat_minor": 2
}
