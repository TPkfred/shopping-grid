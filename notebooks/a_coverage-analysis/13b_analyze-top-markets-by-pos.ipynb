{
 "cells": [
  {
   "cell_type": "markdown",
   "metadata": {},
   "source": [
    "Ran `MarketPOSCounts` scala script for 08/25 - 09/15. Compile results & analyze markets by POS\n",
    "\n",
    "b: clean up code & run on all data"
   ]
  },
  {
   "cell_type": "markdown",
   "metadata": {},
   "source": [
    "Note: this scala script simply counts solutions and shops in eStreaming data by out origin/destination & PCC. No contraints placed on round-trip, passenger type, etc"
   ]
  },
  {
   "cell_type": "code",
   "execution_count": 1,
   "metadata": {},
   "outputs": [],
   "source": [
    "from functools import reduce\n",
    "import datetime\n",
    "from calendar import Calendar\n",
    "import argparse\n",
    "\n",
    "import pyspark\n",
    "from pyspark.sql import SparkSession\n",
    "import pyspark.sql.functions as F\n",
    "import pyspark.sql.types as T\n",
    "from pyspark.sql.window import Window"
   ]
  },
  {
   "cell_type": "code",
   "execution_count": 2,
   "metadata": {},
   "outputs": [],
   "source": [
    "# for notebook\n",
    "import matplotlib.pyplot as plt\n",
    "import seaborn as sns\n",
    "import numpy as np\n",
    "import pandas as pd\n",
    "\n",
    "pd.options.mode.chained_assignment = None\n",
    "\n",
    "import matplotlib.patches as mpatches\n",
    "from functools import reduce"
   ]
  },
  {
   "cell_type": "code",
   "execution_count": 3,
   "metadata": {},
   "outputs": [
    {
     "data": {
      "text/plain": [
       "'application_1658797823938_3586'"
      ]
     },
     "execution_count": 3,
     "metadata": {},
     "output_type": "execute_result"
    }
   ],
   "source": [
    "APP_NAME = \"KF-TopMarketsAnalysis\"\n",
    "\n",
    "# SET UP SPARK\n",
    "# ----------------\n",
    "run_mode = \"python\" \n",
    "\n",
    "if run_mode == \"python\":\n",
    "    conf1 = pyspark.SparkConf().setAll([\n",
    "        (\"spark.app.name\", APP_NAME),\n",
    "        (\"spark.master\",\"yarn\"),\n",
    "        (\"spark.driver.memory\",\"10g\"),\n",
    "        (\"spark.executor.memory\", \"10g\"),\n",
    "        (\"spark.executor.instances\", 10),\n",
    "        (\"spark.executor.cores\", \"5\"),\n",
    "#         ('spark.sql.crossJoin.enabled', True),\n",
    "#         ('spark.sql.shuffle.partitions', 8) \n",
    "        ])\n",
    "    spark = SparkSession.builder.config(conf = conf1).getOrCreate()\n",
    "elif run_mode == \"spark-submit\":\n",
    "    spark = SparkSession.builder.appName(APP_NAME).getOrCreate()\n",
    "else:\n",
    "    pass\n",
    "\n",
    "spark.sparkContext.applicationId"
   ]
  },
  {
   "cell_type": "markdown",
   "metadata": {},
   "source": [
    "# load data"
   ]
  },
  {
   "cell_type": "code",
   "execution_count": 4,
   "metadata": {},
   "outputs": [],
   "source": [
    "inputPath = \"/user/kendra.frederick/top_markets/by_pos/\""
   ]
  },
  {
   "cell_type": "code",
   "execution_count": 5,
   "metadata": {},
   "outputs": [],
   "source": [
    "!hdfs dfs -ls $inputPath > temp.txt"
   ]
  },
  {
   "cell_type": "code",
   "execution_count": 6,
   "metadata": {},
   "outputs": [],
   "source": [
    "with open('temp.txt') as file:\n",
    "    tempList = file.readlines()[1:]\n",
    "\n",
    "pathList = [x.split(\" \")[-1].strip() for x in tempList]"
   ]
  },
  {
   "cell_type": "code",
   "execution_count": 7,
   "metadata": {},
   "outputs": [
    {
     "name": "stdout",
     "output_type": "stream",
     "text": [
      "Processing 20220825\n",
      "Processing 20220826\n",
      "Processing 20220827\n",
      "Processing 20220828\n",
      "Processing 20220829\n",
      "Processing 20220830\n",
      "Processing 20220831\n",
      "Processing 20220901\n",
      "Processing 20220902\n",
      "Processing 20220903\n",
      "Processing 20220904\n",
      "Processing 20220905\n",
      "Processing 20220906\n",
      "Processing 20220907\n",
      "Processing 20220908\n",
      "Processing 20220909\n",
      "Processing 20220910\n",
      "Processing 20220911\n",
      "Processing 20220912\n",
      "Processing 20220913\n",
      "Processing 20220914\n",
      "Processing 20220915\n"
     ]
    }
   ],
   "source": [
    "df_list = []\n",
    "\n",
    "for path in pathList:\n",
    "    date = path.split(\"/\")[-1].rstrip(\".csv\")\n",
    "    print(f\"Processing {date}\")\n",
    "    try:\n",
    "        df = spark.read.csv(path + \"/\", header=True, inferSchema=True)\n",
    "        df = df.withColumn(\"searchDt\", F.lit(date))\n",
    "        df_list.append(df)\n",
    "    except Exception as e:\n",
    "        print(\"Womp womp\")"
   ]
  },
  {
   "cell_type": "code",
   "execution_count": 8,
   "metadata": {},
   "outputs": [],
   "source": [
    "df_all = reduce(lambda df1, df2: df1.union(df2), df_list)"
   ]
  },
  {
   "cell_type": "code",
   "execution_count": 9,
   "metadata": {},
   "outputs": [],
   "source": [
    "df_mod = (df_all.drop('outOriginAirport', 'outDestinationAirport', 'pos')\n",
    "          .withColumnRenamed(\"originDecoded\", \"origin\")\n",
    "          .withColumnRenamed(\"destinationDecoded\", \"destination\")          \n",
    "          .withColumnRenamed(\"posDecoded\", \"pos\")\n",
    "          .select(\"market\", \"origin\", \"destination\", \"pos\", 'num_solutions',\n",
    " 'num_shops', 'searchDt')\n",
    "         )"
   ]
  },
  {
   "cell_type": "code",
   "execution_count": 10,
   "metadata": {},
   "outputs": [],
   "source": [
    "# save to HDFS\n",
    "df_mod.repartition(25).write.parquet(\"/user/kendra.frederick/top_markets/summary_by_pos\")"
   ]
  },
  {
   "cell_type": "code",
   "execution_count": 11,
   "metadata": {},
   "outputs": [
    {
     "name": "stdout",
     "output_type": "stream",
     "text": [
      "+-------+------+-----------+---+-------------+---------+--------+\n",
      "| market|origin|destination|pos|num_solutions|num_shops|searchDt|\n",
      "+-------+------+-----------+---+-------------+---------+--------+\n",
      "|DME-IST|   DME|        IST| RU|     35296854|   870186|20220825|\n",
      "|VKO-IST|   VKO|        IST| RU|    325999299|   835741|20220825|\n",
      "|VKO-SAW|   VKO|        SAW| RU|    159650153|   797141|20220825|\n",
      "|VKO-AYT|   VKO|        AYT| RU|    230829918|   591566|20220825|\n",
      "|DME-SAW|   DME|        SAW| RU|      8325634|   565277|20220825|\n",
      "+-------+------+-----------+---+-------------+---------+--------+\n",
      "only showing top 5 rows\n",
      "\n"
     ]
    }
   ],
   "source": [
    "df_mod.show(5)"
   ]
  },
  {
   "cell_type": "markdown",
   "metadata": {},
   "source": [
    "# Summarize"
   ]
  },
  {
   "cell_type": "code",
   "execution_count": 12,
   "metadata": {},
   "outputs": [
    {
     "data": {
      "text/plain": [
       "22"
      ]
     },
     "execution_count": 12,
     "metadata": {},
     "output_type": "execute_result"
    }
   ],
   "source": [
    "num_search_days = len(pathList)\n",
    "num_search_days"
   ]
  },
  {
   "cell_type": "code",
   "execution_count": 13,
   "metadata": {},
   "outputs": [],
   "source": [
    "pos_mrkt_cnts = (df_mod.groupby(\"pos\", \"market\", \"origin\", \"destination\")\n",
    "                 .agg(\n",
    "                     F.sum(\"num_shops\").alias(\"sum_shops\"),\n",
    "                     F.count(\"searchDt\").alias(\"num_days_searched_for\")\n",
    "                 )\n",
    "                 .withColumn(\"avg_shops\", F.col(\"sum_shops\") / num_search_days)\n",
    "                 .withColumn(\"pct_days_searched_for\", \n",
    "                             F.col(\"num_days_searched_for\") / num_search_days)\n",
    "                )"
   ]
  },
  {
   "cell_type": "code",
   "execution_count": 14,
   "metadata": {},
   "outputs": [],
   "source": [
    "# join w/ aiport lookup to associate country w/ airport\n",
    "airport_df = spark.read.csv(\"/user/contentoptimization/reference/content_manager/AIRPORT_FULL.CSV\", header=True)\n",
    "\n",
    "agg_join = (pos_mrkt_cnts\n",
    "            .join(airport_df.select(\"airport_code\", \"country_code\"), \n",
    "                     on=[pos_mrkt_cnts[\"origin\"] == airport_df[\"airport_code\"]])\n",
    "            .withColumnRenamed(\"country_code\", \"origin_country_code\")\n",
    "            .drop(\"airport_code\")\n",
    "           )\n",
    "\n",
    "agg_join = (agg_join.join(airport_df.select(\"airport_code\", \"country_code\"), \n",
    "                     on=[pos_mrkt_cnts[\"destination\"] == airport_df[\"airport_code\"]])\n",
    "           .withColumnRenamed(\"country_code\", \"destination_country_code\")\n",
    "           .drop(\"airport_code\")\n",
    "          )\n",
    "\n",
    "# add indicator of whether org &/or dst are in POS country\n",
    "agg_join = (agg_join\n",
    "            .withColumn(\"flight_type\", F.when(\n",
    "                (F.col(\"origin_country_code\") == F.col(\"pos\"))\n",
    "                & (F.col(\"destination_country_code\") == F.col(\"pos\")), \"domestic\"\n",
    "                ).otherwise(F.when(\n",
    "                (F.col(\"origin_country_code\") != F.col(\"pos\"))\n",
    "                & (F.col(\"destination_country_code\") != F.col(\"pos\")), \"out-of-pos\"\n",
    "                ).otherwise(\"international\"))\n",
    "           ))"
   ]
  },
  {
   "cell_type": "code",
   "execution_count": 15,
   "metadata": {},
   "outputs": [],
   "source": [
    "# aggregate again by POS and flight type\n",
    "pos_cnts_summ = (agg_join\n",
    "                 .groupby(\"pos\", \"flight_type\")\n",
    "                 .agg(\n",
    "                     F.sum(\"sum_shops\").alias(\"num_shops\"),\n",
    "                     F.countDistinct(\"market\").alias(\"num_markets\"),\n",
    "                 )\n",
    "                 .withColumn(\"avg_shops\", F.col(\"num_shops\") / num_search_days)\n",
    "                 # should only be ~500 rows at this point\n",
    "                )#.coalesece(1)\n",
    "\n",
    "w = Window.partitionBy(\"pos\")\n",
    "pos_cnts_summ = (pos_cnts_summ\n",
    "                 .withColumn(\"pct_pos_shops\", F.col(\"num_shops\") / F.sum(\"num_shops\").over(w))\n",
    "                 .withColumn(\"pct_pos_markets\", \n",
    "                             F.col(\"num_markets\") / F.sum(\"num_markets\").over(w))\n",
    "#                  .withColumn(\"pct_pos_shops_rounded\",\n",
    "#                                         F.round(F.col(\"pct_pos_shops\")*100, 1)\n",
    "#                                         )\n",
    "                )"
   ]
  },
  {
   "cell_type": "code",
   "execution_count": 16,
   "metadata": {},
   "outputs": [
    {
     "name": "stdout",
     "output_type": "stream",
     "text": [
      "+---+-------------+---------+-----------+--------------------+--------------------+--------------------+\n",
      "|pos|  flight_type|num_shops|num_markets|           avg_shops|       pct_pos_shops|     pct_pos_markets|\n",
      "+---+-------------+---------+-----------+--------------------+--------------------+--------------------+\n",
      "| DZ|     domestic|        3|          3| 0.13636363636363635|0.008356545961002786| 0.06666666666666667|\n",
      "| DZ|          mix|      355|         41|  16.136363636363637|  0.9888579387186629|  0.9111111111111111|\n",
      "| DZ|international|        1|          1|0.045454545454545456|0.002785515320334262|0.022222222222222223|\n",
      "| LT|international|    62661|       9144|  2848.2272727272725| 0.26602221203321613|  0.8503673393471589|\n",
      "| LT|     domestic|      125|          3|   5.681818181818182|5.306773990863858E-4|2.789919092346322E-4|\n",
      "+---+-------------+---------+-----------+--------------------+--------------------+--------------------+\n",
      "only showing top 5 rows\n",
      "\n"
     ]
    }
   ],
   "source": [
    "pos_cnts_summ = pos_cnts_summ.coalesce(1)\n",
    "pos_cnts_summ.show(5)"
   ]
  },
  {
   "cell_type": "code",
   "execution_count": 22,
   "metadata": {},
   "outputs": [],
   "source": [
    "flight_type_pdf = pos_cnts_summ.toPandas()"
   ]
  },
  {
   "cell_type": "markdown",
   "metadata": {},
   "source": [
    "## the final agg"
   ]
  },
  {
   "cell_type": "code",
   "execution_count": 17,
   "metadata": {},
   "outputs": [],
   "source": [
    "pos_summ = (pos_cnts_summ\n",
    "            .groupBy(\"pos\")\n",
    "            .agg(F.sum(\"num_shops\").alias(\"total_shops\"))\n",
    "            .withColumn('avg_shops', F.col(\"total_shops\") / num_search_days)\n",
    "           )\n",
    "\n",
    "w = Window.partitionBy()\n",
    "pos_summ = pos_summ.withColumn(\"pct_total_counts\", F.col(\"total_shops\") / F.sum(\"total_shops\").over(w))\n",
    "\n",
    "w2 = (Window\n",
    "      .orderBy(F.desc(\"total_shops\"))\n",
    "      .rowsBetween(Window.unboundedPreceding, Window.currentRow)\n",
    "     )\n",
    "\n",
    "pos_summ = pos_summ.withColumn(\"cume_pct\", F.sum(\"pct_total_counts\").over(w2)).orderBy(F.desc(\"total_shops\"))"
   ]
  },
  {
   "cell_type": "code",
   "execution_count": 18,
   "metadata": {},
   "outputs": [],
   "source": [
    "pos_summ_pdf = pos_summ.toPandas()"
   ]
  },
  {
   "cell_type": "code",
   "execution_count": 22,
   "metadata": {},
   "outputs": [],
   "source": [
    "# pos_summ_pdf.sort_values(by=\"total_shops\", inplace=True, ascending=False)"
   ]
  },
  {
   "cell_type": "code",
   "execution_count": 19,
   "metadata": {},
   "outputs": [
    {
     "data": {
      "text/html": [
       "<div>\n",
       "<style scoped>\n",
       "    .dataframe tbody tr th:only-of-type {\n",
       "        vertical-align: middle;\n",
       "    }\n",
       "\n",
       "    .dataframe tbody tr th {\n",
       "        vertical-align: top;\n",
       "    }\n",
       "\n",
       "    .dataframe thead th {\n",
       "        text-align: right;\n",
       "    }\n",
       "</style>\n",
       "<table border=\"1\" class=\"dataframe\">\n",
       "  <thead>\n",
       "    <tr style=\"text-align: right;\">\n",
       "      <th></th>\n",
       "      <th>pos</th>\n",
       "      <th>total_shops</th>\n",
       "      <th>avg_shops</th>\n",
       "      <th>pct_total_counts</th>\n",
       "      <th>cume_pct</th>\n",
       "    </tr>\n",
       "  </thead>\n",
       "  <tbody>\n",
       "    <tr>\n",
       "      <th>0</th>\n",
       "      <td>US</td>\n",
       "      <td>2708879486</td>\n",
       "      <td>1.231309e+08</td>\n",
       "      <td>0.254673</td>\n",
       "      <td>0.254673</td>\n",
       "    </tr>\n",
       "    <tr>\n",
       "      <th>1</th>\n",
       "      <td>GB</td>\n",
       "      <td>1224429499</td>\n",
       "      <td>5.565589e+07</td>\n",
       "      <td>0.115114</td>\n",
       "      <td>0.369787</td>\n",
       "    </tr>\n",
       "    <tr>\n",
       "      <th>2</th>\n",
       "      <td>HK</td>\n",
       "      <td>1128139738</td>\n",
       "      <td>5.127908e+07</td>\n",
       "      <td>0.106061</td>\n",
       "      <td>0.475848</td>\n",
       "    </tr>\n",
       "    <tr>\n",
       "      <th>3</th>\n",
       "      <td>IN</td>\n",
       "      <td>720808823</td>\n",
       "      <td>3.276404e+07</td>\n",
       "      <td>0.067766</td>\n",
       "      <td>0.543615</td>\n",
       "    </tr>\n",
       "    <tr>\n",
       "      <th>4</th>\n",
       "      <td>DE</td>\n",
       "      <td>716387782</td>\n",
       "      <td>3.256308e+07</td>\n",
       "      <td>0.067351</td>\n",
       "      <td>0.610965</td>\n",
       "    </tr>\n",
       "  </tbody>\n",
       "</table>\n",
       "</div>"
      ],
      "text/plain": [
       "  pos  total_shops     avg_shops  pct_total_counts  cume_pct\n",
       "0  US   2708879486  1.231309e+08          0.254673  0.254673\n",
       "1  GB   1224429499  5.565589e+07          0.115114  0.369787\n",
       "2  HK   1128139738  5.127908e+07          0.106061  0.475848\n",
       "3  IN    720808823  3.276404e+07          0.067766  0.543615\n",
       "4  DE    716387782  3.256308e+07          0.067351  0.610965"
      ]
     },
     "execution_count": 19,
     "metadata": {},
     "output_type": "execute_result"
    }
   ],
   "source": [
    "pos_summ_pdf.head()"
   ]
  },
  {
   "cell_type": "markdown",
   "metadata": {},
   "source": [
    "# plots"
   ]
  },
  {
   "cell_type": "code",
   "execution_count": 24,
   "metadata": {},
   "outputs": [
    {
     "data": {
      "image/png": "[encoded data removed]",
      "text/plain": [
       "<Figure size 720x360 with 1 Axes>"
      ]
     },
     "metadata": {
      "needs_background": "light"
     },
     "output_type": "display_data"
    }
   ],
   "source": [
    "xs = range(len(pos_summ_pdf))\n",
    "plt.figure(figsize=(10,5))\n",
    "plt.bar(xs, pos_summ_pdf['avg_shops']);\n",
    "plt.ylabel(\"avg shops / day\")\n",
    "plt.xlabel(\"POS\")\n",
    "plt.title(\"Distribution of shopping volumes by POS\");"
   ]
  },
  {
   "cell_type": "code",
   "execution_count": 25,
   "metadata": {},
   "outputs": [
    {
     "name": "stdout",
     "output_type": "stream",
     "text": [
      "Total number of POS: 189\n"
     ]
    }
   ],
   "source": [
    "print(f\"Total number of POS: {len(pos_summ_pdf)}\")"
   ]
  },
  {
   "cell_type": "code",
   "execution_count": 27,
   "metadata": {},
   "outputs": [
    {
     "data": {
      "image/png": "[encoded data removed]",
      "text/plain": [
       "<Figure size 720x360 with 2 Axes>"
      ]
     },
     "metadata": {
      "needs_background": "light"
     },
     "output_type": "display_data"
    }
   ],
   "source": [
    "top_n = 20\n",
    "xs = range(top_n)\n",
    "\n",
    "fig, ax = plt.subplots(figsize=(10,5))\n",
    "ax.bar(xs, pos_summ_pdf['avg_shops'][:top_n]);\n",
    "ax.set_xticks(xs)\n",
    "ax.set_xticklabels(pos_summ_pdf['pos'], rotation=90)\n",
    "ax.set_ylabel(\"avg shops / day\")\n",
    "\n",
    "ax2 = ax.twinx()\n",
    "ax2.plot(xs, pos_summ_pdf['cume_pct'][:top_n], marker=\"o\", color=\"k\")\n",
    "ax2.set_ylim(0, 1)\n",
    "ax2.set_ylabel(\"Cumulative % Total Shop Volume\")\n",
    "\n",
    "plt.title(f\"Distribution of shopping volumes - top {top_n} POS\");"
   ]
  },
  {
   "cell_type": "code",
   "execution_count": 28,
   "metadata": {},
   "outputs": [
    {
     "name": "stdout",
     "output_type": "stream",
     "text": [
      "The top 20 POS's account for 94% of the shopping volume\n"
     ]
    }
   ],
   "source": [
    "rank = 20\n",
    "vol_pct = pos_summ_pdf.loc[rank, 'cume_pct']\n",
    "print(f\"The top {rank} POS's account for {vol_pct*100:.0f}% of the shopping volume\")"
   ]
  },
  {
   "cell_type": "code",
   "execution_count": 29,
   "metadata": {},
   "outputs": [
    {
     "name": "stdout",
     "output_type": "stream",
     "text": [
      "The top 10 POS's account for 83% of the shopping volume\n"
     ]
    }
   ],
   "source": [
    "rank = 10\n",
    "vol_pct = pos_summ_pdf.loc[rank, 'cume_pct']\n",
    "print(f\"The top {rank} POS's account for {vol_pct*100:.0f}% of the shopping volume\")"
   ]
  },
  {
   "cell_type": "code",
   "execution_count": 30,
   "metadata": {},
   "outputs": [
    {
     "name": "stdout",
     "output_type": "stream",
     "text": [
      "The top 9 POS's account for 80% of the shopping volume\n"
     ]
    }
   ],
   "source": [
    "vol_pct = 0.8\n",
    "rank = pos_summ_pdf[pos_summ_pdf['cume_pct'] > vol_pct].head(1).index.values[0]\n",
    "# rank_pct = rank / len(pos_summ_pdf)\n",
    "print(f\"The top {rank} POS's account for {vol_pct*100:.0f}% of the shopping volume\")"
   ]
  },
  {
   "cell_type": "markdown",
   "metadata": {},
   "source": [
    "# look at specific POS"
   ]
  },
  {
   "cell_type": "code",
   "execution_count": 33,
   "metadata": {},
   "outputs": [
    {
     "data": {
      "text/html": [
       "<div>\n",
       "<style scoped>\n",
       "    .dataframe tbody tr th:only-of-type {\n",
       "        vertical-align: middle;\n",
       "    }\n",
       "\n",
       "    .dataframe tbody tr th {\n",
       "        vertical-align: top;\n",
       "    }\n",
       "\n",
       "    .dataframe thead th {\n",
       "        text-align: right;\n",
       "    }\n",
       "</style>\n",
       "<table border=\"1\" class=\"dataframe\">\n",
       "  <thead>\n",
       "    <tr style=\"text-align: right;\">\n",
       "      <th></th>\n",
       "      <th>pos</th>\n",
       "      <th>flight_type</th>\n",
       "      <th>num_shops</th>\n",
       "      <th>num_markets</th>\n",
       "      <th>avg_shops</th>\n",
       "      <th>pct_pos_shops</th>\n",
       "      <th>pct_pos_markets</th>\n",
       "    </tr>\n",
       "  </thead>\n",
       "  <tbody>\n",
       "    <tr>\n",
       "      <th>0</th>\n",
       "      <td>DZ</td>\n",
       "      <td>international</td>\n",
       "      <td>1</td>\n",
       "      <td>1</td>\n",
       "      <td>0.045455</td>\n",
       "      <td>0.002786</td>\n",
       "      <td>0.022222</td>\n",
       "    </tr>\n",
       "    <tr>\n",
       "      <th>1</th>\n",
       "      <td>DZ</td>\n",
       "      <td>domestic</td>\n",
       "      <td>3</td>\n",
       "      <td>3</td>\n",
       "      <td>0.136364</td>\n",
       "      <td>0.008357</td>\n",
       "      <td>0.066667</td>\n",
       "    </tr>\n",
       "    <tr>\n",
       "      <th>2</th>\n",
       "      <td>DZ</td>\n",
       "      <td>mix</td>\n",
       "      <td>355</td>\n",
       "      <td>41</td>\n",
       "      <td>16.136364</td>\n",
       "      <td>0.988858</td>\n",
       "      <td>0.911111</td>\n",
       "    </tr>\n",
       "    <tr>\n",
       "      <th>3</th>\n",
       "      <td>LT</td>\n",
       "      <td>mix</td>\n",
       "      <td>172762</td>\n",
       "      <td>1606</td>\n",
       "      <td>7852.818182</td>\n",
       "      <td>0.733447</td>\n",
       "      <td>0.149354</td>\n",
       "    </tr>\n",
       "    <tr>\n",
       "      <th>4</th>\n",
       "      <td>LT</td>\n",
       "      <td>international</td>\n",
       "      <td>62661</td>\n",
       "      <td>9144</td>\n",
       "      <td>2848.227273</td>\n",
       "      <td>0.266022</td>\n",
       "      <td>0.850367</td>\n",
       "    </tr>\n",
       "  </tbody>\n",
       "</table>\n",
       "</div>"
      ],
      "text/plain": [
       "  pos    flight_type  num_shops  num_markets    avg_shops  pct_pos_shops  \\\n",
       "0  DZ  international          1            1     0.045455       0.002786   \n",
       "1  DZ       domestic          3            3     0.136364       0.008357   \n",
       "2  DZ            mix        355           41    16.136364       0.988858   \n",
       "3  LT            mix     172762         1606  7852.818182       0.733447   \n",
       "4  LT  international      62661         9144  2848.227273       0.266022   \n",
       "\n",
       "   pct_pos_markets  \n",
       "0         0.022222  \n",
       "1         0.066667  \n",
       "2         0.911111  \n",
       "3         0.149354  \n",
       "4         0.850367  "
      ]
     },
     "execution_count": 33,
     "metadata": {},
     "output_type": "execute_result"
    }
   ],
   "source": [
    "flight_type_pdf.head()"
   ]
  },
  {
   "cell_type": "code",
   "execution_count": null,
   "metadata": {},
   "outputs": [],
   "source": [
    "# flight_type_pdf = flight_type_pdf.drop(columns=[\"pct_total_shops\"])"
   ]
  },
  {
   "cell_type": "code",
   "execution_count": null,
   "metadata": {},
   "outputs": [],
   "source": [
    "flight_type_pdf.sort_values(by=\"flight_type\", inplace=True)"
   ]
  },
  {
   "cell_type": "code",
   "execution_count": null,
   "metadata": {},
   "outputs": [],
   "source": [
    "pos = 'US'\n",
    "flight_type_pdf[flight_type_pdf['pos'] == pos]"
   ]
  },
  {
   "cell_type": "code",
   "execution_count": null,
   "metadata": {},
   "outputs": [],
   "source": [
    "pos = 'GB'\n",
    "flight_type_pdf[flight_type_pdf['pos'] == pos]"
   ]
  },
  {
   "cell_type": "code",
   "execution_count": null,
   "metadata": {},
   "outputs": [],
   "source": [
    "pos = 'IN'\n",
    "flight_type_pdf[flight_type_pdf['pos'] == pos]"
   ]
  },
  {
   "cell_type": "code",
   "execution_count": null,
   "metadata": {},
   "outputs": [],
   "source": [
    "pos = 'CA'\n",
    "flight_type_pdf[flight_type_pdf['pos'] == pos]"
   ]
  },
  {
   "cell_type": "markdown",
   "metadata": {},
   "source": [
    "## stacked bar chart"
   ]
  },
  {
   "cell_type": "code",
   "execution_count": 20,
   "metadata": {},
   "outputs": [],
   "source": [
    "top20_list = list(pos_summ_pdf['pos'][:20])"
   ]
  },
  {
   "cell_type": "code",
   "execution_count": 23,
   "metadata": {},
   "outputs": [],
   "source": [
    "flight_type_top20 = flight_type_pdf[flight_type_pdf['pos'].isin(top20_list)]"
   ]
  },
  {
   "cell_type": "code",
   "execution_count": 28,
   "metadata": {},
   "outputs": [
    {
     "data": {
      "text/html": [
       "<div>\n",
       "<style scoped>\n",
       "    .dataframe tbody tr th:only-of-type {\n",
       "        vertical-align: middle;\n",
       "    }\n",
       "\n",
       "    .dataframe tbody tr th {\n",
       "        vertical-align: top;\n",
       "    }\n",
       "\n",
       "    .dataframe thead th {\n",
       "        text-align: right;\n",
       "    }\n",
       "</style>\n",
       "<table border=\"1\" class=\"dataframe\">\n",
       "  <thead>\n",
       "    <tr style=\"text-align: right;\">\n",
       "      <th></th>\n",
       "      <th>pos</th>\n",
       "      <th>flight_type</th>\n",
       "      <th>num_shops</th>\n",
       "      <th>num_markets</th>\n",
       "      <th>avg_shops</th>\n",
       "      <th>pct_pos_shops</th>\n",
       "      <th>pct_pos_markets</th>\n",
       "    </tr>\n",
       "  </thead>\n",
       "  <tbody>\n",
       "    <tr>\n",
       "      <th>34</th>\n",
       "      <td>NL</td>\n",
       "      <td>international</td>\n",
       "      <td>72463737</td>\n",
       "      <td>243661</td>\n",
       "      <td>3.293806e+06</td>\n",
       "      <td>0.913319</td>\n",
       "      <td>0.982330</td>\n",
       "    </tr>\n",
       "    <tr>\n",
       "      <th>35</th>\n",
       "      <td>NL</td>\n",
       "      <td>domestic</td>\n",
       "      <td>1460</td>\n",
       "      <td>8</td>\n",
       "      <td>6.636364e+01</td>\n",
       "      <td>0.000018</td>\n",
       "      <td>0.000032</td>\n",
       "    </tr>\n",
       "    <tr>\n",
       "      <th>36</th>\n",
       "      <td>NL</td>\n",
       "      <td>mix</td>\n",
       "      <td>6875941</td>\n",
       "      <td>4375</td>\n",
       "      <td>3.125428e+05</td>\n",
       "      <td>0.086663</td>\n",
       "      <td>0.017638</td>\n",
       "    </tr>\n",
       "    <tr>\n",
       "      <th>73</th>\n",
       "      <td>RU</td>\n",
       "      <td>mix</td>\n",
       "      <td>467398683</td>\n",
       "      <td>27704</td>\n",
       "      <td>2.124539e+07</td>\n",
       "      <td>0.805315</td>\n",
       "      <td>0.126977</td>\n",
       "    </tr>\n",
       "    <tr>\n",
       "      <th>74</th>\n",
       "      <td>RU</td>\n",
       "      <td>international</td>\n",
       "      <td>78443250</td>\n",
       "      <td>186756</td>\n",
       "      <td>3.565602e+06</td>\n",
       "      <td>0.135156</td>\n",
       "      <td>0.855964</td>\n",
       "    </tr>\n",
       "  </tbody>\n",
       "</table>\n",
       "</div>"
      ],
      "text/plain": [
       "   pos    flight_type  num_shops  num_markets     avg_shops  pct_pos_shops  \\\n",
       "34  NL  international   72463737       243661  3.293806e+06       0.913319   \n",
       "35  NL       domestic       1460            8  6.636364e+01       0.000018   \n",
       "36  NL            mix    6875941         4375  3.125428e+05       0.086663   \n",
       "73  RU            mix  467398683        27704  2.124539e+07       0.805315   \n",
       "74  RU  international   78443250       186756  3.565602e+06       0.135156   \n",
       "\n",
       "    pct_pos_markets  \n",
       "34         0.982330  \n",
       "35         0.000032  \n",
       "36         0.017638  \n",
       "73         0.126977  \n",
       "74         0.855964  "
      ]
     },
     "execution_count": 28,
     "metadata": {},
     "output_type": "execute_result"
    }
   ],
   "source": [
    "flight_type_top20.head()"
   ]
  },
  {
   "cell_type": "code",
   "execution_count": 29,
   "metadata": {},
   "outputs": [],
   "source": [
    "# # rename flight types\n",
    "# flight_type_top20['flight_type'] = np.where(\n",
    "#     flight_type_top20['flight_type'] == \"international\", \"out-of-POS\",\n",
    "#         np.where(flight_type_top20['flight_type'] == \"mix\", \"international\",\n",
    "#             flight_type_top20['flight_type']))"
   ]
  },
  {
   "cell_type": "code",
   "execution_count": 30,
   "metadata": {},
   "outputs": [
    {
     "data": {
      "text/html": [
       "<div>\n",
       "<style scoped>\n",
       "    .dataframe tbody tr th:only-of-type {\n",
       "        vertical-align: middle;\n",
       "    }\n",
       "\n",
       "    .dataframe tbody tr th {\n",
       "        vertical-align: top;\n",
       "    }\n",
       "\n",
       "    .dataframe thead th {\n",
       "        text-align: right;\n",
       "    }\n",
       "</style>\n",
       "<table border=\"1\" class=\"dataframe\">\n",
       "  <thead>\n",
       "    <tr style=\"text-align: right;\">\n",
       "      <th></th>\n",
       "      <th>pos</th>\n",
       "      <th>flight_type</th>\n",
       "      <th>num_shops</th>\n",
       "      <th>num_markets</th>\n",
       "      <th>avg_shops</th>\n",
       "      <th>pct_pos_shops</th>\n",
       "      <th>pct_pos_markets</th>\n",
       "    </tr>\n",
       "  </thead>\n",
       "  <tbody>\n",
       "    <tr>\n",
       "      <th>34</th>\n",
       "      <td>NL</td>\n",
       "      <td>out-of-POS</td>\n",
       "      <td>72463737</td>\n",
       "      <td>243661</td>\n",
       "      <td>3.293806e+06</td>\n",
       "      <td>0.913319</td>\n",
       "      <td>0.982330</td>\n",
       "    </tr>\n",
       "    <tr>\n",
       "      <th>35</th>\n",
       "      <td>NL</td>\n",
       "      <td>domestic</td>\n",
       "      <td>1460</td>\n",
       "      <td>8</td>\n",
       "      <td>6.636364e+01</td>\n",
       "      <td>0.000018</td>\n",
       "      <td>0.000032</td>\n",
       "    </tr>\n",
       "    <tr>\n",
       "      <th>36</th>\n",
       "      <td>NL</td>\n",
       "      <td>international</td>\n",
       "      <td>6875941</td>\n",
       "      <td>4375</td>\n",
       "      <td>3.125428e+05</td>\n",
       "      <td>0.086663</td>\n",
       "      <td>0.017638</td>\n",
       "    </tr>\n",
       "    <tr>\n",
       "      <th>73</th>\n",
       "      <td>RU</td>\n",
       "      <td>international</td>\n",
       "      <td>467398683</td>\n",
       "      <td>27704</td>\n",
       "      <td>2.124539e+07</td>\n",
       "      <td>0.805315</td>\n",
       "      <td>0.126977</td>\n",
       "    </tr>\n",
       "    <tr>\n",
       "      <th>74</th>\n",
       "      <td>RU</td>\n",
       "      <td>out-of-POS</td>\n",
       "      <td>78443250</td>\n",
       "      <td>186756</td>\n",
       "      <td>3.565602e+06</td>\n",
       "      <td>0.135156</td>\n",
       "      <td>0.855964</td>\n",
       "    </tr>\n",
       "  </tbody>\n",
       "</table>\n",
       "</div>"
      ],
      "text/plain": [
       "   pos    flight_type  num_shops  num_markets     avg_shops  pct_pos_shops  \\\n",
       "34  NL     out-of-POS   72463737       243661  3.293806e+06       0.913319   \n",
       "35  NL       domestic       1460            8  6.636364e+01       0.000018   \n",
       "36  NL  international    6875941         4375  3.125428e+05       0.086663   \n",
       "73  RU  international  467398683        27704  2.124539e+07       0.805315   \n",
       "74  RU     out-of-POS   78443250       186756  3.565602e+06       0.135156   \n",
       "\n",
       "    pct_pos_markets  \n",
       "34         0.982330  \n",
       "35         0.000032  \n",
       "36         0.017638  \n",
       "73         0.126977  \n",
       "74         0.855964  "
      ]
     },
     "execution_count": 30,
     "metadata": {},
     "output_type": "execute_result"
    }
   ],
   "source": [
    "flight_type_top20.head()"
   ]
  },
  {
   "cell_type": "code",
   "execution_count": 31,
   "metadata": {},
   "outputs": [],
   "source": [
    "pvt_vol_pct = flight_type_top20.pivot(index='pos', columns='flight_type', values='pct_pos_shops')\n",
    "pvt_mrkt_pct = flight_type_top20.pivot(index='pos', columns='flight_type', values='pct_pos_markets')"
   ]
  },
  {
   "cell_type": "code",
   "execution_count": 144,
   "metadata": {},
   "outputs": [],
   "source": [
    "# import matplotlib.patches as mpatches"
   ]
  },
  {
   "cell_type": "code",
   "execution_count": 32,
   "metadata": {},
   "outputs": [],
   "source": [
    "pvt_vol_pct = pvt_vol_pct.reset_index().rename_axis(None, axis=1)\n",
    "pvt_vol_pct['rank'] = pvt_vol_pct['pos'].apply(lambda x: top20_list.index(x))\n",
    "pvt_vol_pct.sort_values(by='rank', inplace=True)"
   ]
  },
  {
   "cell_type": "code",
   "execution_count": 33,
   "metadata": {},
   "outputs": [
    {
     "data": {
      "image/png": "[encoded data removed]",
      "text/plain": [
       "<Figure size 720x432 with 1 Axes>"
      ]
     },
     "metadata": {},
     "output_type": "display_data"
    }
   ],
   "source": [
    "# Ref: https://www.python-graph-gallery.com/stacked-and-percent-stacked-barplot\n",
    "sns.set(style=\"white\")\n",
    "\n",
    "# set the figure size\n",
    "plt.figure(figsize=(10, 6))\n",
    "\n",
    "top_data = np.ones_like(pvt_vol_pct['pos'])\n",
    "bar1 = sns.barplot(x=\"pos\",  y=top_data, data=pvt_vol_pct, color='lightblue')\n",
    "\n",
    "middle_data = pvt_vol_pct[\"domestic\"] + pvt_vol_pct[\"international\"]\n",
    "bar2 = sns.barplot(x=pvt_vol_pct[\"pos\"], y=middle_data, color='steelblue')\n",
    "\n",
    "bar3 = sns.barplot(x=pvt_vol_pct[\"pos\"], y=pvt_vol_pct[\"domestic\"], color='darkblue')\n",
    "\n",
    "# add legend\n",
    "top_bar = mpatches.Patch(color='lightblue', label='Out-of-POS')\n",
    "middle_bar = mpatches.Patch(color='steelblue', label='International')\n",
    "bottom_bar = mpatches.Patch(color='darkblue', label='Domestic')\n",
    "plt.legend(handles=[top_bar, middle_bar, bottom_bar])\n",
    "\n",
    "# show the graph\n",
    "plt.title(\"Distribution of Shop Volume by Flight Type\")\n",
    "plt.ylabel(\"% shop volume by POS\")\n",
    "plt.show()"
   ]
  },
  {
   "cell_type": "code",
   "execution_count": 36,
   "metadata": {},
   "outputs": [
    {
     "data": {
      "image/png": "[encoded data removed]",
      "text/plain": [
       "<Figure size 720x432 with 1 Axes>"
      ]
     },
     "metadata": {},
     "output_type": "display_data"
    }
   ],
   "source": [
    "pvt_mrkt_pct =  pvt_mrkt_pct.reset_index().rename_axis(None, axis=1)\n",
    "pvt_mrkt_pct['rank'] = pvt_mrkt_pct['pos'].apply(lambda x: top20_list.index(x))\n",
    "pvt_mrkt_pct.sort_values(by='rank', inplace=True)\n",
    "\n",
    "# Ref: https://www.python-graph-gallery.com/stacked-and-percent-stacked-barplot\n",
    "# sns.set(style=\"darkgrid\")\n",
    "\n",
    "# set the figure size\n",
    "plt.figure(figsize=(10, 6))\n",
    "\n",
    "top_data = np.ones_like(pvt_mrkt_pct['pos'])\n",
    "bar1 = sns.barplot(x=\"pos\",  y=top_data, data=pvt_mrkt_pct, color='lightblue')\n",
    "\n",
    "middle_data = pvt_mrkt_pct[\"domestic\"] + pvt_mrkt_pct[\"international\"]\n",
    "bar2 = sns.barplot(x=pvt_mrkt_pct[\"pos\"], y=middle_data, color='steelblue')\n",
    "\n",
    "bar3 = sns.barplot(x=pvt_mrkt_pct[\"pos\"], y=pvt_mrkt_pct[\"domestic\"], color='darkblue')\n",
    "\n",
    "# add legend\n",
    "top_bar = mpatches.Patch(color='lightblue', label='Out-of-POS')\n",
    "middle_bar = mpatches.Patch(color='steelblue', label='International')\n",
    "bottom_bar = mpatches.Patch(color='darkblue', label='Domestic')\n",
    "plt.legend(handles=[top_bar, middle_bar, bottom_bar])\n",
    "\n",
    "# show the graph\n",
    "plt.title(\"Distribution of Markets by Flight Type\")\n",
    "plt.ylabel(\"% markets by POS\")\n",
    "plt.show()"
   ]
  },
  {
   "cell_type": "code",
   "execution_count": null,
   "metadata": {},
   "outputs": [],
   "source": []
  }
 ],
 "metadata": {
  "kernelspec": {
   "display_name": "Python 3",
   "language": "python",
   "name": "python3"
  },
  "language_info": {
   "codemirror_mode": {
    "name": "ipython",
    "version": 3
   },
   "file_extension": ".py",
   "mimetype": "text/x-python",
   "name": "python",
   "nbconvert_exporter": "python",
   "pygments_lexer": "ipython3",
   "version": "3.7.3"
  }
 },
 "nbformat": 4,
 "nbformat_minor": 2
}
