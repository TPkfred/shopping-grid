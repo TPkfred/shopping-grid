{
 "cells": [
  {
   "cell_type": "markdown",
   "id": "2e1bf678",
   "metadata": {},
   "source": [
    "Summary"
   ]
  },
  {
   "cell_type": "code",
   "execution_count": 1,
   "id": "4bb57a05",
   "metadata": {
    "ExecuteTime": {
     "end_time": "2022-11-08T01:44:14.489878Z",
     "start_time": "2022-11-08T01:44:13.420215Z"
    }
   },
   "outputs": [],
   "source": [
    "import pandas as pd\n",
    "import numpy as np\n",
    "import matplotlib.pyplot as plt\n",
    "import seaborn as sns\n",
    "\n",
    "import os"
   ]
  },
  {
   "cell_type": "code",
   "execution_count": 2,
   "id": "24790c5c",
   "metadata": {
    "ExecuteTime": {
     "end_time": "2022-11-08T01:44:15.142988Z",
     "start_time": "2022-11-08T01:44:15.135984Z"
    }
   },
   "outputs": [],
   "source": [
    "DATA_DIR = \"/Users/Kendra.frederick/Code/shopping-grid/output/aws_eda/priceline-eda/20221101/all-day/\""
   ]
  },
  {
   "cell_type": "markdown",
   "id": "6e70d4ee",
   "metadata": {},
   "source": [
    "# summary"
   ]
  },
  {
   "cell_type": "code",
   "execution_count": 3,
   "id": "3dd3a6fe",
   "metadata": {
    "ExecuteTime": {
     "end_time": "2022-11-08T01:44:29.075387Z",
     "start_time": "2022-11-08T01:44:29.053690Z"
    }
   },
   "outputs": [],
   "source": [
    "s_path = os.path.join(DATA_DIR, 'summary')\n",
    "\n",
    "summary_list = []\n",
    "for file in os.listdir(s_path):\n",
    "    if file != '_SUCCESS':\n",
    "        try:\n",
    "            df_temp = pd.read_csv(os.path.join(s_path, file), header=0)\n",
    "            summary_list.append(df_temp)\n",
    "        except:\n",
    "            print(f\"Trouble parsing {file}\")\n",
    "\n",
    "df_summary = pd.concat(summary_list, axis=0)"
   ]
  },
  {
   "cell_type": "code",
   "execution_count": 4,
   "id": "f3de2309",
   "metadata": {
    "ExecuteTime": {
     "end_time": "2022-11-08T01:44:29.729330Z",
     "start_time": "2022-11-08T01:44:29.710280Z"
    }
   },
   "outputs": [
    {
     "data": {
      "text/html": [
       "<div>\n",
       "<style scoped>\n",
       "    .dataframe tbody tr th:only-of-type {\n",
       "        vertical-align: middle;\n",
       "    }\n",
       "\n",
       "    .dataframe tbody tr th {\n",
       "        vertical-align: top;\n",
       "    }\n",
       "\n",
       "    .dataframe thead th {\n",
       "        text-align: right;\n",
       "    }\n",
       "</style>\n",
       "<table border=\"1\" class=\"dataframe\">\n",
       "  <thead>\n",
       "    <tr style=\"text-align: right;\">\n",
       "      <th></th>\n",
       "      <th>date</th>\n",
       "      <th>hour</th>\n",
       "      <th>num_markets</th>\n",
       "      <th>num_searches</th>\n",
       "      <th>num_solutions</th>\n",
       "      <th>subset</th>\n",
       "    </tr>\n",
       "  </thead>\n",
       "  <tbody>\n",
       "    <tr>\n",
       "      <th>0</th>\n",
       "      <td>2022-11-01T00:00:00.000Z</td>\n",
       "      <td>-1</td>\n",
       "      <td>234809</td>\n",
       "      <td>28986031</td>\n",
       "      <td>7264046100</td>\n",
       "      <td>US</td>\n",
       "    </tr>\n",
       "    <tr>\n",
       "      <th>1</th>\n",
       "      <td>2022-11-01T00:00:00.000Z</td>\n",
       "      <td>-1</td>\n",
       "      <td>174649</td>\n",
       "      <td>7999671</td>\n",
       "      <td>2131539491</td>\n",
       "      <td>Priceline-only</td>\n",
       "    </tr>\n",
       "    <tr>\n",
       "      <th>2</th>\n",
       "      <td>2022-11-01T00:00:00.000Z</td>\n",
       "      <td>-1</td>\n",
       "      <td>174649</td>\n",
       "      <td>28807555</td>\n",
       "      <td>7244026357</td>\n",
       "      <td>Priceline markets - all data</td>\n",
       "    </tr>\n",
       "  </tbody>\n",
       "</table>\n",
       "</div>"
      ],
      "text/plain": [
       "                       date  hour  num_markets  num_searches  num_solutions  \\\n",
       "0  2022-11-01T00:00:00.000Z    -1       234809      28986031     7264046100   \n",
       "1  2022-11-01T00:00:00.000Z    -1       174649       7999671     2131539491   \n",
       "2  2022-11-01T00:00:00.000Z    -1       174649      28807555     7244026357   \n",
       "\n",
       "                         subset  \n",
       "0                            US  \n",
       "1                Priceline-only  \n",
       "2  Priceline markets - all data  "
      ]
     },
     "execution_count": 4,
     "metadata": {},
     "output_type": "execute_result"
    }
   ],
   "source": [
    "df_summary"
   ]
  },
  {
   "cell_type": "markdown",
   "id": "3edf84aa",
   "metadata": {},
   "source": [
    "These numbers seem to make sense"
   ]
  },
  {
   "cell_type": "code",
   "execution_count": 5,
   "id": "affe7782",
   "metadata": {
    "ExecuteTime": {
     "end_time": "2022-11-08T01:44:50.175906Z",
     "start_time": "2022-11-08T01:44:50.163556Z"
    }
   },
   "outputs": [],
   "source": [
    "# confirm order of id's\n",
    "df_summary.loc[:, 'id'] = ['us', 'pl', 'plm']"
   ]
  },
  {
   "cell_type": "code",
   "execution_count": 7,
   "id": "0b3dac61",
   "metadata": {
    "ExecuteTime": {
     "end_time": "2022-11-08T01:44:53.206801Z",
     "start_time": "2022-11-08T01:44:53.200121Z"
    }
   },
   "outputs": [],
   "source": [
    "df_summary.set_index(['id'], drop=True, inplace=True)"
   ]
  },
  {
   "cell_type": "code",
   "execution_count": 8,
   "id": "299bdce1",
   "metadata": {
    "ExecuteTime": {
     "end_time": "2022-11-08T01:44:54.473212Z",
     "start_time": "2022-11-08T01:44:54.454128Z"
    }
   },
   "outputs": [
    {
     "data": {
      "text/html": [
       "<div>\n",
       "<style scoped>\n",
       "    .dataframe tbody tr th:only-of-type {\n",
       "        vertical-align: middle;\n",
       "    }\n",
       "\n",
       "    .dataframe tbody tr th {\n",
       "        vertical-align: top;\n",
       "    }\n",
       "\n",
       "    .dataframe thead th {\n",
       "        text-align: right;\n",
       "    }\n",
       "</style>\n",
       "<table border=\"1\" class=\"dataframe\">\n",
       "  <thead>\n",
       "    <tr style=\"text-align: right;\">\n",
       "      <th></th>\n",
       "      <th>date</th>\n",
       "      <th>hour</th>\n",
       "      <th>num_markets</th>\n",
       "      <th>num_searches</th>\n",
       "      <th>num_solutions</th>\n",
       "      <th>subset</th>\n",
       "    </tr>\n",
       "    <tr>\n",
       "      <th>id</th>\n",
       "      <th></th>\n",
       "      <th></th>\n",
       "      <th></th>\n",
       "      <th></th>\n",
       "      <th></th>\n",
       "      <th></th>\n",
       "    </tr>\n",
       "  </thead>\n",
       "  <tbody>\n",
       "    <tr>\n",
       "      <th>us</th>\n",
       "      <td>2022-11-01T00:00:00.000Z</td>\n",
       "      <td>-1</td>\n",
       "      <td>234809</td>\n",
       "      <td>28986031</td>\n",
       "      <td>7264046100</td>\n",
       "      <td>US</td>\n",
       "    </tr>\n",
       "    <tr>\n",
       "      <th>pl</th>\n",
       "      <td>2022-11-01T00:00:00.000Z</td>\n",
       "      <td>-1</td>\n",
       "      <td>174649</td>\n",
       "      <td>7999671</td>\n",
       "      <td>2131539491</td>\n",
       "      <td>Priceline-only</td>\n",
       "    </tr>\n",
       "    <tr>\n",
       "      <th>plm</th>\n",
       "      <td>2022-11-01T00:00:00.000Z</td>\n",
       "      <td>-1</td>\n",
       "      <td>174649</td>\n",
       "      <td>28807555</td>\n",
       "      <td>7244026357</td>\n",
       "      <td>Priceline markets - all data</td>\n",
       "    </tr>\n",
       "  </tbody>\n",
       "</table>\n",
       "</div>"
      ],
      "text/plain": [
       "                         date  hour  num_markets  num_searches  num_solutions  \\\n",
       "id                                                                              \n",
       "us   2022-11-01T00:00:00.000Z    -1       234809      28986031     7264046100   \n",
       "pl   2022-11-01T00:00:00.000Z    -1       174649       7999671     2131539491   \n",
       "plm  2022-11-01T00:00:00.000Z    -1       174649      28807555     7244026357   \n",
       "\n",
       "                           subset  \n",
       "id                                 \n",
       "us                             US  \n",
       "pl                 Priceline-only  \n",
       "plm  Priceline markets - all data  "
      ]
     },
     "execution_count": 8,
     "metadata": {},
     "output_type": "execute_result"
    }
   ],
   "source": [
    "df_summary"
   ]
  },
  {
   "cell_type": "code",
   "execution_count": 9,
   "id": "3f6ddeda",
   "metadata": {
    "ExecuteTime": {
     "end_time": "2022-11-08T01:44:57.689914Z",
     "start_time": "2022-11-08T01:44:57.676570Z"
    }
   },
   "outputs": [
    {
     "name": "stdout",
     "output_type": "stream",
     "text": [
      "Priceline only - % markets 0.743791762666678\n",
      "Priceline markets all data - % markets 0.743791762666678\n"
     ]
    }
   ],
   "source": [
    "what = 'markets'\n",
    "dim = f'num_{what}'\n",
    "print(f\"Priceline only - % {what}\", df_summary.loc['pl', dim] / df_summary.loc['us', dim])\n",
    "print(f\"Priceline markets all data - % {what}\", df_summary.loc['plm', dim] / df_summary.loc['us', dim])"
   ]
  },
  {
   "cell_type": "code",
   "execution_count": 10,
   "id": "3e015cac",
   "metadata": {
    "ExecuteTime": {
     "end_time": "2022-11-08T01:44:58.620467Z",
     "start_time": "2022-11-08T01:44:58.608876Z"
    }
   },
   "outputs": [
    {
     "name": "stdout",
     "output_type": "stream",
     "text": [
      "Priceline only - % searches 0.2759836626132084\n",
      "Priceline markets all data - % searches 0.9938426892595265\n"
     ]
    }
   ],
   "source": [
    "what = 'searches'\n",
    "dim = f'num_{what}'\n",
    "print(f\"Priceline only - % {what}\", df_summary.loc['pl', dim] / df_summary.loc['us', dim])\n",
    "print(f\"Priceline markets all data - % {what}\", df_summary.loc['plm', dim] / df_summary.loc['us', dim])"
   ]
  },
  {
   "cell_type": "code",
   "execution_count": 11,
   "id": "acbaca0c",
   "metadata": {
    "ExecuteTime": {
     "end_time": "2022-11-08T01:44:59.552820Z",
     "start_time": "2022-11-08T01:44:59.538436Z"
    }
   },
   "outputs": [
    {
     "name": "stdout",
     "output_type": "stream",
     "text": [
      "Priceline only - % solutions 0.29343694432225587\n",
      "Priceline markets all data - % solutions 0.9972439956018451\n"
     ]
    }
   ],
   "source": [
    "what = 'solutions'\n",
    "dim = f'num_{what}'\n",
    "print(f\"Priceline only - % {what}\", df_summary.loc['pl', dim] / df_summary.loc['us', dim])\n",
    "print(f\"Priceline markets all data - % {what}\", df_summary.loc['plm', dim] / df_summary.loc['us', dim])"
   ]
  },
  {
   "cell_type": "code",
   "execution_count": null,
   "id": "abffa408",
   "metadata": {},
   "outputs": [],
   "source": []
  }
 ],
 "metadata": {
  "kernelspec": {
   "display_name": "Python 3 (ipykernel)",
   "language": "python",
   "name": "python3"
  },
  "language_info": {
   "codemirror_mode": {
    "name": "ipython",
    "version": 3
   },
   "file_extension": ".py",
   "mimetype": "text/x-python",
   "name": "python",
   "nbconvert_exporter": "python",
   "pygments_lexer": "ipython3",
   "version": "3.9.12"
  },
  "toc": {
   "base_numbering": 1,
   "nav_menu": {},
   "number_sections": true,
   "sideBar": true,
   "skip_h1_title": false,
   "title_cell": "Table of Contents",
   "title_sidebar": "Contents",
   "toc_cell": false,
   "toc_position": {
    "height": "calc(100% - 180px)",
    "left": "10px",
    "top": "150px",
    "width": "205.099px"
   },
   "toc_section_display": true,
   "toc_window_display": true
  },
  "varInspector": {
   "cols": {
    "lenName": 16,
    "lenType": 16,
    "lenVar": 40
   },
   "kernels_config": {
    "python": {
     "delete_cmd_postfix": "",
     "delete_cmd_prefix": "del ",
     "library": "var_list.py",
     "varRefreshCmd": "print(var_dic_list())"
    },
    "r": {
     "delete_cmd_postfix": ") ",
     "delete_cmd_prefix": "rm(",
     "library": "var_list.r",
     "varRefreshCmd": "cat(var_dic_list()) "
    }
   },
   "types_to_exclude": [
    "module",
    "function",
    "builtin_function_or_method",
    "instance",
    "_Feature"
   ],
   "window_display": false
  }
 },
 "nbformat": 4,
 "nbformat_minor": 5
}
