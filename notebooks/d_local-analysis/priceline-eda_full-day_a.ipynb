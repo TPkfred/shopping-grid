{
 "cells": [
  {
   "cell_type": "markdown",
   "id": "2e1bf678",
   "metadata": {},
   "source": [
    "Priceline-only"
   ]
  },
  {
   "cell_type": "code",
   "execution_count": 1,
   "id": "4bb57a05",
   "metadata": {
    "ExecuteTime": {
     "end_time": "2022-11-08T01:56:11.300780Z",
     "start_time": "2022-11-08T01:56:10.065703Z"
    }
   },
   "outputs": [],
   "source": [
    "import pandas as pd\n",
    "import numpy as np\n",
    "import matplotlib.pyplot as plt\n",
    "import seaborn as sns\n",
    "\n",
    "import os"
   ]
  },
  {
   "cell_type": "code",
   "execution_count": 2,
   "id": "24790c5c",
   "metadata": {
    "ExecuteTime": {
     "end_time": "2022-11-08T01:56:11.306570Z",
     "start_time": "2022-11-08T01:56:11.304719Z"
    }
   },
   "outputs": [],
   "source": [
    "DATA_DIR = \"/Users/Kendra.frederick/Code/shopping-grid/output/aws_eda/priceline-eda/20221101/all-day/\""
   ]
  },
  {
   "cell_type": "markdown",
   "id": "0135bac0",
   "metadata": {},
   "source": [
    "# Priceline only distros"
   ]
  },
  {
   "cell_type": "code",
   "execution_count": 3,
   "id": "2d4383ab",
   "metadata": {
    "ExecuteTime": {
     "end_time": "2022-11-08T01:56:17.282883Z",
     "start_time": "2022-11-08T01:56:17.268715Z"
    }
   },
   "outputs": [],
   "source": [
    "def plot_bar_cum_pct(data_df, top_n, bar_data_col, line_data_col, order_col, x_label, what,\n",
    "    plot_title, file_name):\n",
    "    \"\"\"Example:\n",
    "    bar_data_col = 'num_searches'\n",
    "    line_data_col = 'cum_pct_searches'\n",
    "    order_col = 'days_til_dept'\n",
    "    x_label = 'advanced purchase (days)'\n",
    "    top_n = 1000\n",
    "    what = 'Searches'\n",
    "    plot_title = 'Distribution of Searches by Advanced Purchase'\n",
    "    file_name = 'dtd-overlay'\n",
    "    \"\"\"\n",
    "    \n",
    "    data_df = data_df.sort_values(by=order_col)[:top_n]\n",
    "    data_bar = data_df[bar_data_col]\n",
    "    data_line = data_df[line_data_col]\n",
    "    xs = range(len(data_bar))\n",
    "\n",
    "    fig, ax = plt.subplots(figsize=(10,5))\n",
    "    w = 1 if top_n > 150 else 0.8\n",
    "    ax.bar(xs, data_bar, width=w);\n",
    "    ax.set_ylabel(f\"Num {what}\")\n",
    "    ax.set_xlabel(x_label)\n",
    "\n",
    "    ax2 = ax.twinx()\n",
    "    ax2.plot(xs, data_line, marker=\".\", color=\"red\")\n",
    "    ax2.set_ylim(0, 1)\n",
    "    ax2.set_ylabel(f\"Cumulative % Total {what}\")\n",
    "\n",
    "    fig.suptitle(plot_title)\n",
    "    plt.savefig(f\"{file_name}.png\")"
   ]
  },
  {
   "cell_type": "markdown",
   "id": "43e844b6",
   "metadata": {},
   "source": [
    "## Priceline-only"
   ]
  },
  {
   "cell_type": "code",
   "execution_count": 4,
   "id": "d5e3318d",
   "metadata": {
    "ExecuteTime": {
     "end_time": "2022-11-08T01:56:18.876218Z",
     "start_time": "2022-11-08T01:56:18.867001Z"
    }
   },
   "outputs": [],
   "source": [
    "pl_path = os.path.join(DATA_DIR, 'priceline-only-data')"
   ]
  },
  {
   "cell_type": "code",
   "execution_count": 5,
   "id": "0b673b29",
   "metadata": {
    "ExecuteTime": {
     "end_time": "2022-11-07T23:05:59.185187Z",
     "start_time": "2022-11-07T23:05:59.171868Z"
    }
   },
   "outputs": [
    {
     "data": {
      "text/plain": [
       "['los-stats',\n",
       " 'dtd-stats',\n",
       " 'los-stats_$folder$',\n",
       " 'dtd-stats_$folder$',\n",
       " 'market-stats',\n",
       " 'market-stats_$folder$']"
      ]
     },
     "execution_count": 5,
     "metadata": {},
     "output_type": "execute_result"
    }
   ],
   "source": [
    "os.listdir(pl_path)"
   ]
  },
  {
   "cell_type": "markdown",
   "id": "c481e0d6",
   "metadata": {},
   "source": [
    "### markets"
   ]
  },
  {
   "cell_type": "code",
   "execution_count": 6,
   "id": "23cfe8a7",
   "metadata": {
    "ExecuteTime": {
     "end_time": "2022-11-07T23:06:02.132675Z",
     "start_time": "2022-11-07T23:06:01.960890Z"
    }
   },
   "outputs": [],
   "source": [
    "m_path = os.path.join(pl_path, 'market-stats')\n",
    "data_list = []\n",
    "for file in os.listdir(m_path):\n",
    "    if file != '_SUCCESS':\n",
    "        try:\n",
    "            df_temp = pd.read_csv(os.path.join(m_path, file), header=0)\n",
    "            data_list.append(df_temp)\n",
    "        except:\n",
    "            print(f\"Trouble parsing {file}\")"
   ]
  },
  {
   "cell_type": "code",
   "execution_count": 7,
   "id": "60c62107",
   "metadata": {
    "ExecuteTime": {
     "end_time": "2022-11-07T23:06:02.703244Z",
     "start_time": "2022-11-07T23:06:02.679128Z"
    }
   },
   "outputs": [],
   "source": [
    "if len(data_list) > 1:\n",
    "    df_m = pd.concat(data_list, axis=0)\n",
    "else:\n",
    "    df_m = data_list[0].copy()"
   ]
  },
  {
   "cell_type": "code",
   "execution_count": 8,
   "id": "c4423e12",
   "metadata": {
    "ExecuteTime": {
     "end_time": "2022-11-07T23:06:03.945880Z",
     "start_time": "2022-11-07T23:06:03.917864Z"
    }
   },
   "outputs": [
    {
     "data": {
      "text/html": [
       "<div>\n",
       "<style scoped>\n",
       "    .dataframe tbody tr th:only-of-type {\n",
       "        vertical-align: middle;\n",
       "    }\n",
       "\n",
       "    .dataframe tbody tr th {\n",
       "        vertical-align: top;\n",
       "    }\n",
       "\n",
       "    .dataframe thead th {\n",
       "        text-align: right;\n",
       "    }\n",
       "</style>\n",
       "<table border=\"1\" class=\"dataframe\">\n",
       "  <thead>\n",
       "    <tr style=\"text-align: right;\">\n",
       "      <th></th>\n",
       "      <th>market</th>\n",
       "      <th>num_searches</th>\n",
       "      <th>num_solutions</th>\n",
       "      <th>search_rank</th>\n",
       "      <th>solution_rank</th>\n",
       "      <th>pct_searches</th>\n",
       "      <th>pct_solutions</th>\n",
       "      <th>cum_pct_searches</th>\n",
       "      <th>cum_pct_solutions</th>\n",
       "    </tr>\n",
       "  </thead>\n",
       "  <tbody>\n",
       "    <tr>\n",
       "      <th>0</th>\n",
       "      <td>LAX-CUN</td>\n",
       "      <td>26116</td>\n",
       "      <td>11542999</td>\n",
       "      <td>4</td>\n",
       "      <td>1</td>\n",
       "      <td>0.002657</td>\n",
       "      <td>0.005415</td>\n",
       "      <td>0.014031</td>\n",
       "      <td>0.005415</td>\n",
       "    </tr>\n",
       "    <tr>\n",
       "      <th>1</th>\n",
       "      <td>IAH-CUN</td>\n",
       "      <td>27595</td>\n",
       "      <td>10465070</td>\n",
       "      <td>3</td>\n",
       "      <td>2</td>\n",
       "      <td>0.002808</td>\n",
       "      <td>0.004910</td>\n",
       "      <td>0.011373</td>\n",
       "      <td>0.010325</td>\n",
       "    </tr>\n",
       "    <tr>\n",
       "      <th>2</th>\n",
       "      <td>LAX-HNL</td>\n",
       "      <td>16100</td>\n",
       "      <td>10054591</td>\n",
       "      <td>12</td>\n",
       "      <td>3</td>\n",
       "      <td>0.001638</td>\n",
       "      <td>0.004717</td>\n",
       "      <td>0.029656</td>\n",
       "      <td>0.015042</td>\n",
       "    </tr>\n",
       "    <tr>\n",
       "      <th>3</th>\n",
       "      <td>PHL-CUN</td>\n",
       "      <td>23353</td>\n",
       "      <td>8872252</td>\n",
       "      <td>5</td>\n",
       "      <td>4</td>\n",
       "      <td>0.002376</td>\n",
       "      <td>0.004162</td>\n",
       "      <td>0.016407</td>\n",
       "      <td>0.019204</td>\n",
       "    </tr>\n",
       "    <tr>\n",
       "      <th>4</th>\n",
       "      <td>DFW-LAS</td>\n",
       "      <td>16102</td>\n",
       "      <td>7264776</td>\n",
       "      <td>11</td>\n",
       "      <td>5</td>\n",
       "      <td>0.001638</td>\n",
       "      <td>0.003408</td>\n",
       "      <td>0.028018</td>\n",
       "      <td>0.022613</td>\n",
       "    </tr>\n",
       "  </tbody>\n",
       "</table>\n",
       "</div>"
      ],
      "text/plain": [
       "    market  num_searches  num_solutions  search_rank  solution_rank  \\\n",
       "0  LAX-CUN         26116       11542999            4              1   \n",
       "1  IAH-CUN         27595       10465070            3              2   \n",
       "2  LAX-HNL         16100       10054591           12              3   \n",
       "3  PHL-CUN         23353        8872252            5              4   \n",
       "4  DFW-LAS         16102        7264776           11              5   \n",
       "\n",
       "   pct_searches  pct_solutions  cum_pct_searches  cum_pct_solutions  \n",
       "0      0.002657       0.005415          0.014031           0.005415  \n",
       "1      0.002808       0.004910          0.011373           0.010325  \n",
       "2      0.001638       0.004717          0.029656           0.015042  \n",
       "3      0.002376       0.004162          0.016407           0.019204  \n",
       "4      0.001638       0.003408          0.028018           0.022613  "
      ]
     },
     "execution_count": 8,
     "metadata": {},
     "output_type": "execute_result"
    }
   ],
   "source": [
    "df_m.head()"
   ]
  },
  {
   "cell_type": "code",
   "execution_count": 17,
   "id": "651b8cb1",
   "metadata": {
    "ExecuteTime": {
     "end_time": "2022-11-07T23:06:51.609003Z",
     "start_time": "2022-11-07T23:06:50.532272Z"
    }
   },
   "outputs": [
    {
     "data": {
      "image/png": "[encoded data removed]",
      "text/plain": [
       "<Figure size 720x360 with 2 Axes>"
      ]
     },
     "metadata": {
      "needs_background": "light"
     },
     "output_type": "display_data"
    }
   ],
   "source": [
    "plot_bar_cum_pct(df_m, 1000, 'num_searches', 'cum_pct_searches', 'search_rank', 'market rank', 'Searches', \n",
    "                 'Priceline-Only Market Search Volume', 'plo-mrkt-srch')"
   ]
  },
  {
   "cell_type": "code",
   "execution_count": 49,
   "id": "77712ebe",
   "metadata": {
    "ExecuteTime": {
     "end_time": "2022-11-07T23:29:22.487348Z",
     "start_time": "2022-11-07T23:29:21.411130Z"
    }
   },
   "outputs": [
    {
     "data": {
      "image/png": "[encoded data removed]",
      "text/plain": [
       "<Figure size 720x360 with 2 Axes>"
      ]
     },
     "metadata": {
      "needs_background": "light"
     },
     "output_type": "display_data"
    }
   ],
   "source": [
    "plot_bar_cum_pct(df_m, 1000, 'num_solutions', 'cum_pct_solutions', 'solution_rank', 'market_rank', 'Solutions', \n",
    "                 'Priceline-Only Market Solution Volume', 'plo-mrkt-sltns')"
   ]
  },
  {
   "cell_type": "code",
   "execution_count": 11,
   "id": "732b9deb",
   "metadata": {
    "ExecuteTime": {
     "end_time": "2022-11-07T23:06:31.412217Z",
     "start_time": "2022-11-07T23:06:31.398615Z"
    }
   },
   "outputs": [],
   "source": [
    "def print_market_stats(df, num_pct, what):\n",
    "    what_dict = {'search':\n",
    "                 {'rank_col': 'search_rank',\n",
    "                  'cum_pct_col': 'cum_pct_searches'},\n",
    "                 'solution':\n",
    "                 {'rank_col': 'solution_rank',\n",
    "                  'cum_pct_col': 'cum_pct_solutions'},\n",
    "                }\n",
    "    abs_num = int(len(df) * num_pct)\n",
    "    print(f\"For the top {num_pct*100}% of markets:\")\n",
    "    print(f\"Number of markets: {abs_num:,}\")\n",
    "    x = df[df[what_dict[what]['rank_col']] == abs_num]\n",
    "    cum_pct = x[what_dict[what]['cum_pct_col']].values[0]\n",
    "    print(f\"Cumulative % search volume: {cum_pct*100:.0f}%\")"
   ]
  },
  {
   "cell_type": "code",
   "execution_count": 12,
   "id": "7a11b376",
   "metadata": {
    "ExecuteTime": {
     "end_time": "2022-11-07T23:06:32.063020Z",
     "start_time": "2022-11-07T23:06:32.055120Z"
    }
   },
   "outputs": [
    {
     "data": {
      "text/plain": [
       "174649"
      ]
     },
     "execution_count": 12,
     "metadata": {},
     "output_type": "execute_result"
    }
   ],
   "source": [
    "len(df_m)"
   ]
  },
  {
   "cell_type": "code",
   "execution_count": 13,
   "id": "6c239694",
   "metadata": {
    "ExecuteTime": {
     "end_time": "2022-11-07T23:06:34.828810Z",
     "start_time": "2022-11-07T23:06:34.811712Z"
    }
   },
   "outputs": [
    {
     "name": "stdout",
     "output_type": "stream",
     "text": [
      "For the top 1.0% of markets:\n",
      "Number of markets: 1,746\n",
      "Cumulative % search volume: 48%\n"
     ]
    }
   ],
   "source": [
    "print_market_stats(df_m, 0.01, 'search')"
   ]
  },
  {
   "cell_type": "code",
   "execution_count": 14,
   "id": "75a735e4",
   "metadata": {
    "ExecuteTime": {
     "end_time": "2022-11-07T23:06:35.375668Z",
     "start_time": "2022-11-07T23:06:35.354323Z"
    }
   },
   "outputs": [
    {
     "name": "stdout",
     "output_type": "stream",
     "text": [
      "For the top 5.0% of markets:\n",
      "Number of markets: 8,732\n",
      "Cumulative % search volume: 75%\n"
     ]
    }
   ],
   "source": [
    "print_market_stats(df_m, 0.05, 'search')"
   ]
  },
  {
   "cell_type": "code",
   "execution_count": 15,
   "id": "1b89f168",
   "metadata": {
    "ExecuteTime": {
     "end_time": "2022-11-07T23:06:35.889415Z",
     "start_time": "2022-11-07T23:06:35.878057Z"
    }
   },
   "outputs": [
    {
     "name": "stdout",
     "output_type": "stream",
     "text": [
      "For the top 10.0% of markets:\n",
      "Number of markets: 17,464\n",
      "Cumulative % search volume: 85%\n"
     ]
    }
   ],
   "source": [
    "print_market_stats(df_m, 0.1, 'search')"
   ]
  },
  {
   "cell_type": "code",
   "execution_count": 16,
   "id": "09bced53",
   "metadata": {
    "ExecuteTime": {
     "end_time": "2022-11-07T23:06:36.417899Z",
     "start_time": "2022-11-07T23:06:36.406384Z"
    }
   },
   "outputs": [
    {
     "name": "stdout",
     "output_type": "stream",
     "text": [
      "For the top 25.0% of markets:\n",
      "Number of markets: 43,662\n",
      "Cumulative % search volume: 94%\n"
     ]
    }
   ],
   "source": [
    "print_market_stats(df_m, 0.25, 'search')"
   ]
  },
  {
   "cell_type": "code",
   "execution_count": null,
   "id": "06aa426d",
   "metadata": {},
   "outputs": [],
   "source": []
  },
  {
   "cell_type": "code",
   "execution_count": 19,
   "id": "301df4d0",
   "metadata": {
    "ExecuteTime": {
     "end_time": "2022-11-07T23:07:03.593252Z",
     "start_time": "2022-11-07T23:07:03.580288Z"
    }
   },
   "outputs": [
    {
     "name": "stdout",
     "output_type": "stream",
     "text": [
      "For the top 1.0% of markets:\n",
      "Number of markets: 1,746\n",
      "Cumulative % search volume: 63%\n"
     ]
    }
   ],
   "source": [
    "print_market_stats(df_m, 0.01, 'solution')"
   ]
  },
  {
   "cell_type": "code",
   "execution_count": 20,
   "id": "8c81a9f2",
   "metadata": {
    "ExecuteTime": {
     "end_time": "2022-11-07T23:07:04.042982Z",
     "start_time": "2022-11-07T23:07:04.032949Z"
    }
   },
   "outputs": [
    {
     "name": "stdout",
     "output_type": "stream",
     "text": [
      "For the top 5.0% of markets:\n",
      "Number of markets: 8,732\n",
      "Cumulative % search volume: 87%\n"
     ]
    }
   ],
   "source": [
    "print_market_stats(df_m, 0.05, 'solution')"
   ]
  },
  {
   "cell_type": "code",
   "execution_count": 21,
   "id": "011f7466",
   "metadata": {
    "ExecuteTime": {
     "end_time": "2022-11-07T23:07:04.503703Z",
     "start_time": "2022-11-07T23:07:04.499736Z"
    }
   },
   "outputs": [
    {
     "name": "stdout",
     "output_type": "stream",
     "text": [
      "For the top 10.0% of markets:\n",
      "Number of markets: 17,464\n",
      "Cumulative % search volume: 93%\n"
     ]
    }
   ],
   "source": [
    "print_market_stats(df_m, 0.1, 'solution')"
   ]
  },
  {
   "cell_type": "code",
   "execution_count": 22,
   "id": "09976e35",
   "metadata": {
    "ExecuteTime": {
     "end_time": "2022-11-07T23:07:04.949518Z",
     "start_time": "2022-11-07T23:07:04.938974Z"
    }
   },
   "outputs": [
    {
     "name": "stdout",
     "output_type": "stream",
     "text": [
      "For the top 25.0% of markets:\n",
      "Number of markets: 43,662\n",
      "Cumulative % search volume: 98%\n"
     ]
    }
   ],
   "source": [
    "print_market_stats(df_m, 0.25, 'solution')"
   ]
  },
  {
   "cell_type": "markdown",
   "id": "e999d829",
   "metadata": {},
   "source": [
    "### dtd"
   ]
  },
  {
   "cell_type": "code",
   "execution_count": 5,
   "id": "b9a1c493",
   "metadata": {
    "ExecuteTime": {
     "end_time": "2022-11-08T01:56:24.851983Z",
     "start_time": "2022-11-08T01:56:24.824333Z"
    }
   },
   "outputs": [],
   "source": [
    "# modify me\n",
    "data_path = os.path.join(pl_path, 'dtd-stats')\n",
    "\n",
    "data_list = []\n",
    "for file in os.listdir(data_path):\n",
    "    if file != '_SUCCESS':\n",
    "        try:\n",
    "            df_temp = pd.read_csv(os.path.join(data_path, file), header=0)\n",
    "            data_list.append(df_temp)\n",
    "        except:\n",
    "            print(f\"Trouble parsing {file}\")\n",
    "\n",
    "if len(data_list) > 1:\n",
    "    # change var name here\n",
    "    df_dtd = pd.concat(data_list, axis=0)\n",
    "else:\n",
    "    # change var name here\n",
    "    df_dtd = data_list[0].copy()"
   ]
  },
  {
   "cell_type": "code",
   "execution_count": 6,
   "id": "ccc66f8d",
   "metadata": {
    "ExecuteTime": {
     "end_time": "2022-11-08T01:56:25.873726Z",
     "start_time": "2022-11-08T01:56:25.856108Z"
    }
   },
   "outputs": [
    {
     "data": {
      "text/html": [
       "<div>\n",
       "<style scoped>\n",
       "    .dataframe tbody tr th:only-of-type {\n",
       "        vertical-align: middle;\n",
       "    }\n",
       "\n",
       "    .dataframe tbody tr th {\n",
       "        vertical-align: top;\n",
       "    }\n",
       "\n",
       "    .dataframe thead th {\n",
       "        text-align: right;\n",
       "    }\n",
       "</style>\n",
       "<table border=\"1\" class=\"dataframe\">\n",
       "  <thead>\n",
       "    <tr style=\"text-align: right;\">\n",
       "      <th></th>\n",
       "      <th>days_til_dept</th>\n",
       "      <th>num_searches</th>\n",
       "      <th>num_solutions</th>\n",
       "      <th>pct_searches</th>\n",
       "      <th>pct_solutions</th>\n",
       "      <th>cum_pct_searches</th>\n",
       "      <th>cum_pct_solutions</th>\n",
       "    </tr>\n",
       "  </thead>\n",
       "  <tbody>\n",
       "    <tr>\n",
       "      <th>0</th>\n",
       "      <td>-11</td>\n",
       "      <td>1885</td>\n",
       "      <td>331447</td>\n",
       "      <td>0.000236</td>\n",
       "      <td>0.000155</td>\n",
       "      <td>0.000236</td>\n",
       "      <td>0.000155</td>\n",
       "    </tr>\n",
       "    <tr>\n",
       "      <th>1</th>\n",
       "      <td>-10</td>\n",
       "      <td>868</td>\n",
       "      <td>100287</td>\n",
       "      <td>0.000109</td>\n",
       "      <td>0.000047</td>\n",
       "      <td>0.000344</td>\n",
       "      <td>0.000203</td>\n",
       "    </tr>\n",
       "    <tr>\n",
       "      <th>2</th>\n",
       "      <td>-9</td>\n",
       "      <td>786</td>\n",
       "      <td>59056</td>\n",
       "      <td>0.000098</td>\n",
       "      <td>0.000028</td>\n",
       "      <td>0.000442</td>\n",
       "      <td>0.000230</td>\n",
       "    </tr>\n",
       "    <tr>\n",
       "      <th>3</th>\n",
       "      <td>-7</td>\n",
       "      <td>1733</td>\n",
       "      <td>740351</td>\n",
       "      <td>0.000217</td>\n",
       "      <td>0.000347</td>\n",
       "      <td>0.000659</td>\n",
       "      <td>0.000578</td>\n",
       "    </tr>\n",
       "    <tr>\n",
       "      <th>4</th>\n",
       "      <td>-5</td>\n",
       "      <td>315</td>\n",
       "      <td>402109</td>\n",
       "      <td>0.000039</td>\n",
       "      <td>0.000189</td>\n",
       "      <td>0.000698</td>\n",
       "      <td>0.000766</td>\n",
       "    </tr>\n",
       "  </tbody>\n",
       "</table>\n",
       "</div>"
      ],
      "text/plain": [
       "   days_til_dept  num_searches  num_solutions  pct_searches  pct_solutions  \\\n",
       "0            -11          1885         331447      0.000236       0.000155   \n",
       "1            -10           868         100287      0.000109       0.000047   \n",
       "2             -9           786          59056      0.000098       0.000028   \n",
       "3             -7          1733         740351      0.000217       0.000347   \n",
       "4             -5           315         402109      0.000039       0.000189   \n",
       "\n",
       "   cum_pct_searches  cum_pct_solutions  \n",
       "0          0.000236           0.000155  \n",
       "1          0.000344           0.000203  \n",
       "2          0.000442           0.000230  \n",
       "3          0.000659           0.000578  \n",
       "4          0.000698           0.000766  "
      ]
     },
     "execution_count": 6,
     "metadata": {},
     "output_type": "execute_result"
    }
   ],
   "source": [
    "df_dtd.head()"
   ]
  },
  {
   "cell_type": "code",
   "execution_count": 7,
   "id": "3a6cda8b",
   "metadata": {
    "ExecuteTime": {
     "end_time": "2022-11-08T01:56:29.519049Z",
     "start_time": "2022-11-08T01:56:29.506267Z"
    }
   },
   "outputs": [],
   "source": [
    "df_dtd_clip = df_dtd[df_dtd['days_til_dept'] >= 0]"
   ]
  },
  {
   "cell_type": "code",
   "execution_count": 8,
   "id": "ea5543e6",
   "metadata": {
    "ExecuteTime": {
     "end_time": "2022-11-08T01:56:31.734470Z",
     "start_time": "2022-11-08T01:56:31.721457Z"
    }
   },
   "outputs": [
    {
     "data": {
      "text/plain": [
       "(369, 362)"
      ]
     },
     "execution_count": 8,
     "metadata": {},
     "output_type": "execute_result"
    }
   ],
   "source": [
    "len(df_dtd), len(df_dtd_clip)"
   ]
  },
  {
   "cell_type": "code",
   "execution_count": 9,
   "id": "6617ad73",
   "metadata": {
    "ExecuteTime": {
     "end_time": "2022-11-08T01:56:32.239503Z",
     "start_time": "2022-11-08T01:56:32.095304Z"
    }
   },
   "outputs": [
    {
     "name": "stderr",
     "output_type": "stream",
     "text": [
      "/var/folders/2c/ll166b4x7zlbnj4_twhr_69c0000gq/T/ipykernel_16997/763544540.py:3: SettingWithCopyWarning: \n",
      "A value is trying to be set on a copy of a slice from a DataFrame.\n",
      "Try using .loc[row_indexer,col_indexer] = value instead\n",
      "\n",
      "See the caveats in the documentation: https://pandas.pydata.org/pandas-docs/stable/user_guide/indexing.html#returning-a-view-versus-a-copy\n",
      "  df_dtd_clip.loc[:, 'pct_searches'] = df_dtd_clip['num_searches'] / df_dtd_clip['num_searches'].sum()\n",
      "/var/folders/2c/ll166b4x7zlbnj4_twhr_69c0000gq/T/ipykernel_16997/763544540.py:4: SettingWithCopyWarning: \n",
      "A value is trying to be set on a copy of a slice from a DataFrame.\n",
      "Try using .loc[row_indexer,col_indexer] = value instead\n",
      "\n",
      "See the caveats in the documentation: https://pandas.pydata.org/pandas-docs/stable/user_guide/indexing.html#returning-a-view-versus-a-copy\n",
      "  df_dtd_clip.loc[:, 'cum_pct_searches'] = df_dtd_clip['pct_searches'].cumsum()\n"
     ]
    }
   ],
   "source": [
    "# re-compute cum_pct_searches\n",
    "\n",
    "df_dtd_clip.loc[:, 'pct_searches'] = df_dtd_clip['num_searches'] / df_dtd_clip['num_searches'].sum()\n",
    "df_dtd_clip.loc[:, 'cum_pct_searches'] = df_dtd_clip['pct_searches'].cumsum()"
   ]
  },
  {
   "cell_type": "code",
   "execution_count": 10,
   "id": "a262797e",
   "metadata": {
    "ExecuteTime": {
     "end_time": "2022-11-08T01:56:33.829664Z",
     "start_time": "2022-11-08T01:56:33.808121Z"
    }
   },
   "outputs": [
    {
     "data": {
      "text/html": [
       "<div>\n",
       "<style scoped>\n",
       "    .dataframe tbody tr th:only-of-type {\n",
       "        vertical-align: middle;\n",
       "    }\n",
       "\n",
       "    .dataframe tbody tr th {\n",
       "        vertical-align: top;\n",
       "    }\n",
       "\n",
       "    .dataframe thead th {\n",
       "        text-align: right;\n",
       "    }\n",
       "</style>\n",
       "<table border=\"1\" class=\"dataframe\">\n",
       "  <thead>\n",
       "    <tr style=\"text-align: right;\">\n",
       "      <th></th>\n",
       "      <th>days_til_dept</th>\n",
       "      <th>num_searches</th>\n",
       "      <th>num_solutions</th>\n",
       "      <th>pct_searches</th>\n",
       "      <th>pct_solutions</th>\n",
       "      <th>cum_pct_searches</th>\n",
       "      <th>cum_pct_solutions</th>\n",
       "    </tr>\n",
       "  </thead>\n",
       "  <tbody>\n",
       "    <tr>\n",
       "      <th>7</th>\n",
       "      <td>0</td>\n",
       "      <td>115977</td>\n",
       "      <td>18376250</td>\n",
       "      <td>0.014518</td>\n",
       "      <td>0.008621</td>\n",
       "      <td>0.014518</td>\n",
       "      <td>0.009564</td>\n",
       "    </tr>\n",
       "    <tr>\n",
       "      <th>8</th>\n",
       "      <td>1</td>\n",
       "      <td>169523</td>\n",
       "      <td>46837002</td>\n",
       "      <td>0.021220</td>\n",
       "      <td>0.021973</td>\n",
       "      <td>0.035738</td>\n",
       "      <td>0.031537</td>\n",
       "    </tr>\n",
       "    <tr>\n",
       "      <th>9</th>\n",
       "      <td>2</td>\n",
       "      <td>157706</td>\n",
       "      <td>43758796</td>\n",
       "      <td>0.019741</td>\n",
       "      <td>0.020529</td>\n",
       "      <td>0.055479</td>\n",
       "      <td>0.052066</td>\n",
       "    </tr>\n",
       "    <tr>\n",
       "      <th>10</th>\n",
       "      <td>3</td>\n",
       "      <td>217494</td>\n",
       "      <td>64457178</td>\n",
       "      <td>0.027225</td>\n",
       "      <td>0.030240</td>\n",
       "      <td>0.082705</td>\n",
       "      <td>0.082306</td>\n",
       "    </tr>\n",
       "    <tr>\n",
       "      <th>11</th>\n",
       "      <td>4</td>\n",
       "      <td>118614</td>\n",
       "      <td>31607571</td>\n",
       "      <td>0.014848</td>\n",
       "      <td>0.014829</td>\n",
       "      <td>0.097553</td>\n",
       "      <td>0.097134</td>\n",
       "    </tr>\n",
       "  </tbody>\n",
       "</table>\n",
       "</div>"
      ],
      "text/plain": [
       "    days_til_dept  num_searches  num_solutions  pct_searches  pct_solutions  \\\n",
       "7               0        115977       18376250      0.014518       0.008621   \n",
       "8               1        169523       46837002      0.021220       0.021973   \n",
       "9               2        157706       43758796      0.019741       0.020529   \n",
       "10              3        217494       64457178      0.027225       0.030240   \n",
       "11              4        118614       31607571      0.014848       0.014829   \n",
       "\n",
       "    cum_pct_searches  cum_pct_solutions  \n",
       "7           0.014518           0.009564  \n",
       "8           0.035738           0.031537  \n",
       "9           0.055479           0.052066  \n",
       "10          0.082705           0.082306  \n",
       "11          0.097553           0.097134  "
      ]
     },
     "execution_count": 10,
     "metadata": {},
     "output_type": "execute_result"
    }
   ],
   "source": [
    "df_dtd_clip.head()"
   ]
  },
  {
   "cell_type": "code",
   "execution_count": 11,
   "id": "d09a7591",
   "metadata": {
    "ExecuteTime": {
     "end_time": "2022-11-08T01:56:34.182496Z",
     "start_time": "2022-11-08T01:56:34.160376Z"
    }
   },
   "outputs": [
    {
     "data": {
      "text/html": [
       "<div>\n",
       "<style scoped>\n",
       "    .dataframe tbody tr th:only-of-type {\n",
       "        vertical-align: middle;\n",
       "    }\n",
       "\n",
       "    .dataframe tbody tr th {\n",
       "        vertical-align: top;\n",
       "    }\n",
       "\n",
       "    .dataframe thead th {\n",
       "        text-align: right;\n",
       "    }\n",
       "</style>\n",
       "<table border=\"1\" class=\"dataframe\">\n",
       "  <thead>\n",
       "    <tr style=\"text-align: right;\">\n",
       "      <th></th>\n",
       "      <th>days_til_dept</th>\n",
       "      <th>num_searches</th>\n",
       "      <th>num_solutions</th>\n",
       "      <th>pct_searches</th>\n",
       "      <th>pct_solutions</th>\n",
       "      <th>cum_pct_searches</th>\n",
       "      <th>cum_pct_solutions</th>\n",
       "    </tr>\n",
       "  </thead>\n",
       "  <tbody>\n",
       "    <tr>\n",
       "      <th>364</th>\n",
       "      <td>357</td>\n",
       "      <td>39</td>\n",
       "      <td>2706</td>\n",
       "      <td>0.000005</td>\n",
       "      <td>1.269505e-06</td>\n",
       "      <td>0.999985</td>\n",
       "      <td>0.999998</td>\n",
       "    </tr>\n",
       "    <tr>\n",
       "      <th>365</th>\n",
       "      <td>358</td>\n",
       "      <td>34</td>\n",
       "      <td>1154</td>\n",
       "      <td>0.000004</td>\n",
       "      <td>5.413927e-07</td>\n",
       "      <td>0.999989</td>\n",
       "      <td>0.999999</td>\n",
       "    </tr>\n",
       "    <tr>\n",
       "      <th>366</th>\n",
       "      <td>359</td>\n",
       "      <td>27</td>\n",
       "      <td>958</td>\n",
       "      <td>0.000003</td>\n",
       "      <td>4.494404e-07</td>\n",
       "      <td>0.999993</td>\n",
       "      <td>0.999999</td>\n",
       "    </tr>\n",
       "    <tr>\n",
       "      <th>367</th>\n",
       "      <td>360</td>\n",
       "      <td>48</td>\n",
       "      <td>1246</td>\n",
       "      <td>0.000006</td>\n",
       "      <td>5.845540e-07</td>\n",
       "      <td>0.999999</td>\n",
       "      <td>1.000000</td>\n",
       "    </tr>\n",
       "    <tr>\n",
       "      <th>368</th>\n",
       "      <td>361</td>\n",
       "      <td>9</td>\n",
       "      <td>129</td>\n",
       "      <td>0.000001</td>\n",
       "      <td>6.051964e-08</td>\n",
       "      <td>1.000000</td>\n",
       "      <td>1.000000</td>\n",
       "    </tr>\n",
       "  </tbody>\n",
       "</table>\n",
       "</div>"
      ],
      "text/plain": [
       "     days_til_dept  num_searches  num_solutions  pct_searches  pct_solutions  \\\n",
       "364            357            39           2706      0.000005   1.269505e-06   \n",
       "365            358            34           1154      0.000004   5.413927e-07   \n",
       "366            359            27            958      0.000003   4.494404e-07   \n",
       "367            360            48           1246      0.000006   5.845540e-07   \n",
       "368            361             9            129      0.000001   6.051964e-08   \n",
       "\n",
       "     cum_pct_searches  cum_pct_solutions  \n",
       "364          0.999985           0.999998  \n",
       "365          0.999989           0.999999  \n",
       "366          0.999993           0.999999  \n",
       "367          0.999999           1.000000  \n",
       "368          1.000000           1.000000  "
      ]
     },
     "execution_count": 11,
     "metadata": {},
     "output_type": "execute_result"
    }
   ],
   "source": [
    "df_dtd_clip.tail()"
   ]
  },
  {
   "cell_type": "code",
   "execution_count": 12,
   "id": "273fa8e1",
   "metadata": {
    "ExecuteTime": {
     "end_time": "2022-11-08T01:56:53.618443Z",
     "start_time": "2022-11-08T01:56:53.598864Z"
    }
   },
   "outputs": [
    {
     "data": {
      "text/html": [
       "<div>\n",
       "<style scoped>\n",
       "    .dataframe tbody tr th:only-of-type {\n",
       "        vertical-align: middle;\n",
       "    }\n",
       "\n",
       "    .dataframe tbody tr th {\n",
       "        vertical-align: top;\n",
       "    }\n",
       "\n",
       "    .dataframe thead th {\n",
       "        text-align: right;\n",
       "    }\n",
       "</style>\n",
       "<table border=\"1\" class=\"dataframe\">\n",
       "  <thead>\n",
       "    <tr style=\"text-align: right;\">\n",
       "      <th></th>\n",
       "      <th>days_til_dept</th>\n",
       "      <th>num_searches</th>\n",
       "      <th>num_solutions</th>\n",
       "      <th>pct_searches</th>\n",
       "      <th>pct_solutions</th>\n",
       "      <th>cum_pct_searches</th>\n",
       "      <th>cum_pct_solutions</th>\n",
       "    </tr>\n",
       "  </thead>\n",
       "  <tbody>\n",
       "    <tr>\n",
       "      <th>37</th>\n",
       "      <td>30</td>\n",
       "      <td>429629</td>\n",
       "      <td>80297318</td>\n",
       "      <td>0.053780</td>\n",
       "      <td>0.037671</td>\n",
       "      <td>0.461233</td>\n",
       "      <td>0.434025</td>\n",
       "    </tr>\n",
       "    <tr>\n",
       "      <th>10</th>\n",
       "      <td>3</td>\n",
       "      <td>217494</td>\n",
       "      <td>64457178</td>\n",
       "      <td>0.027225</td>\n",
       "      <td>0.030240</td>\n",
       "      <td>0.082705</td>\n",
       "      <td>0.082306</td>\n",
       "    </tr>\n",
       "    <tr>\n",
       "      <th>8</th>\n",
       "      <td>1</td>\n",
       "      <td>169523</td>\n",
       "      <td>46837002</td>\n",
       "      <td>0.021220</td>\n",
       "      <td>0.021973</td>\n",
       "      <td>0.035738</td>\n",
       "      <td>0.031537</td>\n",
       "    </tr>\n",
       "    <tr>\n",
       "      <th>17</th>\n",
       "      <td>10</td>\n",
       "      <td>160420</td>\n",
       "      <td>47777101</td>\n",
       "      <td>0.020081</td>\n",
       "      <td>0.022414</td>\n",
       "      <td>0.193389</td>\n",
       "      <td>0.192822</td>\n",
       "    </tr>\n",
       "    <tr>\n",
       "      <th>9</th>\n",
       "      <td>2</td>\n",
       "      <td>157706</td>\n",
       "      <td>43758796</td>\n",
       "      <td>0.019741</td>\n",
       "      <td>0.020529</td>\n",
       "      <td>0.055479</td>\n",
       "      <td>0.052066</td>\n",
       "    </tr>\n",
       "  </tbody>\n",
       "</table>\n",
       "</div>"
      ],
      "text/plain": [
       "    days_til_dept  num_searches  num_solutions  pct_searches  pct_solutions  \\\n",
       "37             30        429629       80297318      0.053780       0.037671   \n",
       "10              3        217494       64457178      0.027225       0.030240   \n",
       "8               1        169523       46837002      0.021220       0.021973   \n",
       "17             10        160420       47777101      0.020081       0.022414   \n",
       "9               2        157706       43758796      0.019741       0.020529   \n",
       "\n",
       "    cum_pct_searches  cum_pct_solutions  \n",
       "37          0.461233           0.434025  \n",
       "10          0.082705           0.082306  \n",
       "8           0.035738           0.031537  \n",
       "17          0.193389           0.192822  \n",
       "9           0.055479           0.052066  "
      ]
     },
     "execution_count": 12,
     "metadata": {},
     "output_type": "execute_result"
    }
   ],
   "source": [
    "df_dtd_clip.sort_values(by='num_searches', ascending=False).head()"
   ]
  },
  {
   "cell_type": "code",
   "execution_count": 32,
   "id": "4723be25",
   "metadata": {
    "ExecuteTime": {
     "end_time": "2022-11-07T23:10:48.207652Z",
     "start_time": "2022-11-07T23:10:47.925520Z"
    }
   },
   "outputs": [
    {
     "data": {
      "image/png": "[encoded data removed]",
      "text/plain": [
       "<Figure size 720x360 with 2 Axes>"
      ]
     },
     "metadata": {
      "needs_background": "light"
     },
     "output_type": "display_data"
    }
   ],
   "source": [
    "plot_bar_cum_pct(df_dtd_clip, \n",
    "                 top_n=120, \n",
    "                 bar_data_col='num_searches', \n",
    "                 line_data_col='cum_pct_searches', \n",
    "                 order_col='days_til_dept', \n",
    "                 x_label='advanced purchase (days)', \n",
    "                 what='Searches', \n",
    "                 plot_title='Priceline-Only Search Volume by Advanced Purchase', \n",
    "                 file_name='plo-dtd-srchs')"
   ]
  },
  {
   "cell_type": "code",
   "execution_count": 38,
   "id": "59507f9d",
   "metadata": {
    "ExecuteTime": {
     "end_time": "2022-11-07T23:11:56.689170Z",
     "start_time": "2022-11-07T23:11:56.678492Z"
    }
   },
   "outputs": [],
   "source": [
    "def print_time_stats(df, time_col, num, data_col='cum_pct_searches', individual_val_col='pct_searches'):\n",
    "    x = df[df[time_col] == num]\n",
    "    cum_pct = x[data_col].values[0]\n",
    "    print(f\"At {num} {time_col}:\")\n",
    "    print(f\"Cumulative % search volume: {cum_pct*100:.0f}%\")\n",
    "    if individual_val_col is not None:\n",
    "        pct = x[individual_val_col].values[0]\n",
    "        print(f\"% search volume: {pct*100:.1f}%\")\n",
    "    print()"
   ]
  },
  {
   "cell_type": "code",
   "execution_count": 40,
   "id": "1d5922cb",
   "metadata": {
    "ExecuteTime": {
     "end_time": "2022-11-07T23:12:10.926170Z",
     "start_time": "2022-11-07T23:12:10.909072Z"
    }
   },
   "outputs": [
    {
     "name": "stdout",
     "output_type": "stream",
     "text": [
      "At 14 days_til_dept:\n",
      "Cumulative % search volume: 24%\n",
      "% search volume: 1.2%\n",
      "\n",
      "At 30 days_til_dept:\n",
      "Cumulative % search volume: 46%\n",
      "% search volume: 5.4%\n",
      "\n",
      "At 60 days_til_dept:\n",
      "Cumulative % search volume: 72%\n",
      "% search volume: 0.5%\n",
      "\n",
      "At 90 days_til_dept:\n",
      "Cumulative % search volume: 82%\n",
      "% search volume: 0.2%\n",
      "\n",
      "At 120 days_til_dept:\n",
      "Cumulative % search volume: 88%\n",
      "% search volume: 0.2%\n",
      "\n"
     ]
    }
   ],
   "source": [
    "for num in [14, 30, 60, 90, 120]:\n",
    "    print_time_stats(df=df_dtd_clip,\n",
    "                     time_col='days_til_dept',\n",
    "                     num=num,\n",
    "#                      individual_val_col=None\n",
    "                    )"
   ]
  },
  {
   "cell_type": "markdown",
   "id": "e492ac96",
   "metadata": {},
   "source": [
    "### los"
   ]
  },
  {
   "cell_type": "code",
   "execution_count": 13,
   "id": "5713c3e8",
   "metadata": {
    "ExecuteTime": {
     "end_time": "2022-11-08T01:57:06.850682Z",
     "start_time": "2022-11-08T01:57:06.832788Z"
    }
   },
   "outputs": [],
   "source": [
    "# modify me\n",
    "data_path = os.path.join(pl_path, 'los-stats')\n",
    "\n",
    "data_list = []\n",
    "for file in os.listdir(data_path):\n",
    "    if file != '_SUCCESS':\n",
    "        try:\n",
    "            df_temp = pd.read_csv(os.path.join(data_path, file), header=0)\n",
    "            data_list.append(df_temp)\n",
    "        except:\n",
    "            print(f\"Trouble parsing {file}\")\n",
    "\n",
    "if len(data_list) > 1:\n",
    "    # change var name here\n",
    "    df_los = pd.concat(data_list, axis=0)\n",
    "else:\n",
    "    # change var name here\n",
    "    df_los = data_list[0].copy()"
   ]
  },
  {
   "cell_type": "code",
   "execution_count": 14,
   "id": "ad26e9db",
   "metadata": {
    "ExecuteTime": {
     "end_time": "2022-11-08T01:57:07.254688Z",
     "start_time": "2022-11-08T01:57:07.234289Z"
    }
   },
   "outputs": [
    {
     "data": {
      "text/html": [
       "<div>\n",
       "<style scoped>\n",
       "    .dataframe tbody tr th:only-of-type {\n",
       "        vertical-align: middle;\n",
       "    }\n",
       "\n",
       "    .dataframe tbody tr th {\n",
       "        vertical-align: top;\n",
       "    }\n",
       "\n",
       "    .dataframe thead th {\n",
       "        text-align: right;\n",
       "    }\n",
       "</style>\n",
       "<table border=\"1\" class=\"dataframe\">\n",
       "  <thead>\n",
       "    <tr style=\"text-align: right;\">\n",
       "      <th></th>\n",
       "      <th>stay_duration</th>\n",
       "      <th>num_searches</th>\n",
       "      <th>num_solutions</th>\n",
       "      <th>pct_searches</th>\n",
       "      <th>pct_solutions</th>\n",
       "      <th>cum_pct_searches</th>\n",
       "      <th>cum_pct_solutions</th>\n",
       "    </tr>\n",
       "  </thead>\n",
       "  <tbody>\n",
       "    <tr>\n",
       "      <th>0</th>\n",
       "      <td>NaN</td>\n",
       "      <td>3913435</td>\n",
       "      <td>259326308</td>\n",
       "      <td>0.486706</td>\n",
       "      <td>0.121662</td>\n",
       "      <td>0.486706</td>\n",
       "      <td>0.121662</td>\n",
       "    </tr>\n",
       "    <tr>\n",
       "      <th>1</th>\n",
       "      <td>0.0</td>\n",
       "      <td>103572</td>\n",
       "      <td>8215348</td>\n",
       "      <td>0.012881</td>\n",
       "      <td>0.003854</td>\n",
       "      <td>0.499587</td>\n",
       "      <td>0.125516</td>\n",
       "    </tr>\n",
       "    <tr>\n",
       "      <th>2</th>\n",
       "      <td>1.0</td>\n",
       "      <td>121549</td>\n",
       "      <td>59645351</td>\n",
       "      <td>0.015117</td>\n",
       "      <td>0.027982</td>\n",
       "      <td>0.514704</td>\n",
       "      <td>0.153498</td>\n",
       "    </tr>\n",
       "    <tr>\n",
       "      <th>3</th>\n",
       "      <td>2.0</td>\n",
       "      <td>373261</td>\n",
       "      <td>180049856</td>\n",
       "      <td>0.046422</td>\n",
       "      <td>0.084469</td>\n",
       "      <td>0.561126</td>\n",
       "      <td>0.237967</td>\n",
       "    </tr>\n",
       "    <tr>\n",
       "      <th>4</th>\n",
       "      <td>3.0</td>\n",
       "      <td>759142</td>\n",
       "      <td>328445552</td>\n",
       "      <td>0.094413</td>\n",
       "      <td>0.154088</td>\n",
       "      <td>0.655539</td>\n",
       "      <td>0.392056</td>\n",
       "    </tr>\n",
       "  </tbody>\n",
       "</table>\n",
       "</div>"
      ],
      "text/plain": [
       "   stay_duration  num_searches  num_solutions  pct_searches  pct_solutions  \\\n",
       "0            NaN       3913435      259326308      0.486706       0.121662   \n",
       "1            0.0        103572        8215348      0.012881       0.003854   \n",
       "2            1.0        121549       59645351      0.015117       0.027982   \n",
       "3            2.0        373261      180049856      0.046422       0.084469   \n",
       "4            3.0        759142      328445552      0.094413       0.154088   \n",
       "\n",
       "   cum_pct_searches  cum_pct_solutions  \n",
       "0          0.486706           0.121662  \n",
       "1          0.499587           0.125516  \n",
       "2          0.514704           0.153498  \n",
       "3          0.561126           0.237967  \n",
       "4          0.655539           0.392056  "
      ]
     },
     "execution_count": 14,
     "metadata": {},
     "output_type": "execute_result"
    }
   ],
   "source": [
    "df_los.head()"
   ]
  },
  {
   "cell_type": "code",
   "execution_count": 15,
   "id": "339b7098",
   "metadata": {
    "ExecuteTime": {
     "end_time": "2022-11-08T01:57:09.982690Z",
     "start_time": "2022-11-08T01:57:09.946711Z"
    }
   },
   "outputs": [
    {
     "name": "stderr",
     "output_type": "stream",
     "text": [
      "/var/folders/2c/ll166b4x7zlbnj4_twhr_69c0000gq/T/ipykernel_16997/2598868277.py:5: SettingWithCopyWarning: \n",
      "A value is trying to be set on a copy of a slice from a DataFrame.\n",
      "Try using .loc[row_indexer,col_indexer] = value instead\n",
      "\n",
      "See the caveats in the documentation: https://pandas.pydata.org/pandas-docs/stable/user_guide/indexing.html#returning-a-view-versus-a-copy\n",
      "  df_rt_los.loc[:, 'pct_searches'] = df_rt_los['num_searches'] / df_rt_los['num_searches'].sum()\n",
      "/var/folders/2c/ll166b4x7zlbnj4_twhr_69c0000gq/T/ipykernel_16997/2598868277.py:6: SettingWithCopyWarning: \n",
      "A value is trying to be set on a copy of a slice from a DataFrame.\n",
      "Try using .loc[row_indexer,col_indexer] = value instead\n",
      "\n",
      "See the caveats in the documentation: https://pandas.pydata.org/pandas-docs/stable/user_guide/indexing.html#returning-a-view-versus-a-copy\n",
      "  df_rt_los.loc[:, 'cum_pct_searches'] = df_rt_los['pct_searches'].cumsum()\n"
     ]
    }
   ],
   "source": [
    "df_rt_los = df_los.dropna()\n",
    "\n",
    "# re-compute cum_pct_searches\n",
    "\n",
    "df_rt_los.loc[:, 'pct_searches'] = df_rt_los['num_searches'] / df_rt_los['num_searches'].sum()\n",
    "df_rt_los.loc[:, 'cum_pct_searches'] = df_rt_los['pct_searches'].cumsum()"
   ]
  },
  {
   "cell_type": "code",
   "execution_count": 16,
   "id": "880e4d2f",
   "metadata": {
    "ExecuteTime": {
     "end_time": "2022-11-08T01:57:11.802918Z",
     "start_time": "2022-11-08T01:57:11.784139Z"
    }
   },
   "outputs": [
    {
     "data": {
      "text/html": [
       "<div>\n",
       "<style scoped>\n",
       "    .dataframe tbody tr th:only-of-type {\n",
       "        vertical-align: middle;\n",
       "    }\n",
       "\n",
       "    .dataframe tbody tr th {\n",
       "        vertical-align: top;\n",
       "    }\n",
       "\n",
       "    .dataframe thead th {\n",
       "        text-align: right;\n",
       "    }\n",
       "</style>\n",
       "<table border=\"1\" class=\"dataframe\">\n",
       "  <thead>\n",
       "    <tr style=\"text-align: right;\">\n",
       "      <th></th>\n",
       "      <th>stay_duration</th>\n",
       "      <th>num_searches</th>\n",
       "      <th>num_solutions</th>\n",
       "      <th>pct_searches</th>\n",
       "      <th>pct_solutions</th>\n",
       "      <th>cum_pct_searches</th>\n",
       "      <th>cum_pct_solutions</th>\n",
       "    </tr>\n",
       "  </thead>\n",
       "  <tbody>\n",
       "    <tr>\n",
       "      <th>1</th>\n",
       "      <td>0.0</td>\n",
       "      <td>103572</td>\n",
       "      <td>8215348</td>\n",
       "      <td>0.025095</td>\n",
       "      <td>0.003854</td>\n",
       "      <td>0.025095</td>\n",
       "      <td>0.125516</td>\n",
       "    </tr>\n",
       "    <tr>\n",
       "      <th>2</th>\n",
       "      <td>1.0</td>\n",
       "      <td>121549</td>\n",
       "      <td>59645351</td>\n",
       "      <td>0.029451</td>\n",
       "      <td>0.027982</td>\n",
       "      <td>0.054546</td>\n",
       "      <td>0.153498</td>\n",
       "    </tr>\n",
       "    <tr>\n",
       "      <th>3</th>\n",
       "      <td>2.0</td>\n",
       "      <td>373261</td>\n",
       "      <td>180049856</td>\n",
       "      <td>0.090439</td>\n",
       "      <td>0.084469</td>\n",
       "      <td>0.144985</td>\n",
       "      <td>0.237967</td>\n",
       "    </tr>\n",
       "    <tr>\n",
       "      <th>4</th>\n",
       "      <td>3.0</td>\n",
       "      <td>759142</td>\n",
       "      <td>328445552</td>\n",
       "      <td>0.183936</td>\n",
       "      <td>0.154088</td>\n",
       "      <td>0.328920</td>\n",
       "      <td>0.392056</td>\n",
       "    </tr>\n",
       "    <tr>\n",
       "      <th>5</th>\n",
       "      <td>4.0</td>\n",
       "      <td>515418</td>\n",
       "      <td>260013217</td>\n",
       "      <td>0.124883</td>\n",
       "      <td>0.121984</td>\n",
       "      <td>0.453803</td>\n",
       "      <td>0.514040</td>\n",
       "    </tr>\n",
       "  </tbody>\n",
       "</table>\n",
       "</div>"
      ],
      "text/plain": [
       "   stay_duration  num_searches  num_solutions  pct_searches  pct_solutions  \\\n",
       "1            0.0        103572        8215348      0.025095       0.003854   \n",
       "2            1.0        121549       59645351      0.029451       0.027982   \n",
       "3            2.0        373261      180049856      0.090439       0.084469   \n",
       "4            3.0        759142      328445552      0.183936       0.154088   \n",
       "5            4.0        515418      260013217      0.124883       0.121984   \n",
       "\n",
       "   cum_pct_searches  cum_pct_solutions  \n",
       "1          0.025095           0.125516  \n",
       "2          0.054546           0.153498  \n",
       "3          0.144985           0.237967  \n",
       "4          0.328920           0.392056  \n",
       "5          0.453803           0.514040  "
      ]
     },
     "execution_count": 16,
     "metadata": {},
     "output_type": "execute_result"
    }
   ],
   "source": [
    "df_rt_los.head()"
   ]
  },
  {
   "cell_type": "code",
   "execution_count": 17,
   "id": "047a4e7e",
   "metadata": {
    "ExecuteTime": {
     "end_time": "2022-11-08T01:57:17.023880Z",
     "start_time": "2022-11-08T01:57:17.004140Z"
    }
   },
   "outputs": [
    {
     "data": {
      "text/html": [
       "<div>\n",
       "<style scoped>\n",
       "    .dataframe tbody tr th:only-of-type {\n",
       "        vertical-align: middle;\n",
       "    }\n",
       "\n",
       "    .dataframe tbody tr th {\n",
       "        vertical-align: top;\n",
       "    }\n",
       "\n",
       "    .dataframe thead th {\n",
       "        text-align: right;\n",
       "    }\n",
       "</style>\n",
       "<table border=\"1\" class=\"dataframe\">\n",
       "  <thead>\n",
       "    <tr style=\"text-align: right;\">\n",
       "      <th></th>\n",
       "      <th>stay_duration</th>\n",
       "      <th>num_searches</th>\n",
       "      <th>num_solutions</th>\n",
       "      <th>pct_searches</th>\n",
       "      <th>pct_solutions</th>\n",
       "      <th>cum_pct_searches</th>\n",
       "      <th>cum_pct_solutions</th>\n",
       "    </tr>\n",
       "  </thead>\n",
       "  <tbody>\n",
       "    <tr>\n",
       "      <th>4</th>\n",
       "      <td>3.0</td>\n",
       "      <td>759142</td>\n",
       "      <td>328445552</td>\n",
       "      <td>0.183936</td>\n",
       "      <td>0.154088</td>\n",
       "      <td>0.328920</td>\n",
       "      <td>0.392056</td>\n",
       "    </tr>\n",
       "    <tr>\n",
       "      <th>8</th>\n",
       "      <td>7.0</td>\n",
       "      <td>523588</td>\n",
       "      <td>252793631</td>\n",
       "      <td>0.126862</td>\n",
       "      <td>0.118597</td>\n",
       "      <td>0.729636</td>\n",
       "      <td>0.768821</td>\n",
       "    </tr>\n",
       "    <tr>\n",
       "      <th>5</th>\n",
       "      <td>4.0</td>\n",
       "      <td>515418</td>\n",
       "      <td>260013217</td>\n",
       "      <td>0.124883</td>\n",
       "      <td>0.121984</td>\n",
       "      <td>0.453803</td>\n",
       "      <td>0.514040</td>\n",
       "    </tr>\n",
       "    <tr>\n",
       "      <th>3</th>\n",
       "      <td>2.0</td>\n",
       "      <td>373261</td>\n",
       "      <td>180049856</td>\n",
       "      <td>0.090439</td>\n",
       "      <td>0.084469</td>\n",
       "      <td>0.144985</td>\n",
       "      <td>0.237967</td>\n",
       "    </tr>\n",
       "    <tr>\n",
       "      <th>6</th>\n",
       "      <td>5.0</td>\n",
       "      <td>336808</td>\n",
       "      <td>169101410</td>\n",
       "      <td>0.081607</td>\n",
       "      <td>0.079333</td>\n",
       "      <td>0.535410</td>\n",
       "      <td>0.593373</td>\n",
       "    </tr>\n",
       "  </tbody>\n",
       "</table>\n",
       "</div>"
      ],
      "text/plain": [
       "   stay_duration  num_searches  num_solutions  pct_searches  pct_solutions  \\\n",
       "4            3.0        759142      328445552      0.183936       0.154088   \n",
       "8            7.0        523588      252793631      0.126862       0.118597   \n",
       "5            4.0        515418      260013217      0.124883       0.121984   \n",
       "3            2.0        373261      180049856      0.090439       0.084469   \n",
       "6            5.0        336808      169101410      0.081607       0.079333   \n",
       "\n",
       "   cum_pct_searches  cum_pct_solutions  \n",
       "4          0.328920           0.392056  \n",
       "8          0.729636           0.768821  \n",
       "5          0.453803           0.514040  \n",
       "3          0.144985           0.237967  \n",
       "6          0.535410           0.593373  "
      ]
     },
     "execution_count": 17,
     "metadata": {},
     "output_type": "execute_result"
    }
   ],
   "source": [
    "df_rt_los.sort_values(by='num_searches', ascending=False).head()"
   ]
  },
  {
   "cell_type": "code",
   "execution_count": 50,
   "id": "7b8bc237",
   "metadata": {
    "ExecuteTime": {
     "end_time": "2022-11-07T23:31:57.795056Z",
     "start_time": "2022-11-07T23:31:57.587588Z"
    }
   },
   "outputs": [
    {
     "data": {
      "image/png": "[encoded data removed]",
      "text/plain": [
       "<Figure size 720x360 with 2 Axes>"
      ]
     },
     "metadata": {
      "needs_background": "light"
     },
     "output_type": "display_data"
    }
   ],
   "source": [
    "plot_bar_cum_pct(df_rt_los, \n",
    "                 top_n=31, \n",
    "                 bar_data_col='num_searches', \n",
    "                 line_data_col='cum_pct_searches', \n",
    "                 order_col='stay_duration', \n",
    "                 x_label='stay duration (days)', \n",
    "                 what='Searches', \n",
    "                 plot_title='Priceline-Only Search Volume by Stay Duration', \n",
    "                 file_name='plo-los-srchs')"
   ]
  },
  {
   "cell_type": "code",
   "execution_count": 48,
   "id": "f555b9ec",
   "metadata": {
    "ExecuteTime": {
     "end_time": "2022-11-07T23:12:33.857738Z",
     "start_time": "2022-11-07T23:12:33.838254Z"
    }
   },
   "outputs": [
    {
     "name": "stdout",
     "output_type": "stream",
     "text": [
      "At 3 stay_duration:\n",
      "Cumulative % search volume: 33%\n",
      "% search volume: 18.4%\n",
      "\n",
      "At 7 stay_duration:\n",
      "Cumulative % search volume: 73%\n",
      "% search volume: 12.7%\n",
      "\n",
      "At 14 stay_duration:\n",
      "Cumulative % search volume: 88%\n",
      "% search volume: 2.4%\n",
      "\n",
      "At 21 stay_duration:\n",
      "Cumulative % search volume: 93%\n",
      "% search volume: 0.9%\n",
      "\n",
      "At 30 stay_duration:\n",
      "Cumulative % search volume: 97%\n",
      "% search volume: 0.3%\n",
      "\n"
     ]
    }
   ],
   "source": [
    "for num in [3, 7, 14, 21, 30]:\n",
    "    print_time_stats(df=df_rt_los,\n",
    "                     time_col='stay_duration',\n",
    "                     num=num,\n",
    "#                      individual_val_col=''\n",
    "                    )"
   ]
  },
  {
   "cell_type": "code",
   "execution_count": null,
   "id": "1a04d2b6",
   "metadata": {},
   "outputs": [],
   "source": []
  }
 ],
 "metadata": {
  "kernelspec": {
   "display_name": "Python 3 (ipykernel)",
   "language": "python",
   "name": "python3"
  },
  "language_info": {
   "codemirror_mode": {
    "name": "ipython",
    "version": 3
   },
   "file_extension": ".py",
   "mimetype": "text/x-python",
   "name": "python",
   "nbconvert_exporter": "python",
   "pygments_lexer": "ipython3",
   "version": "3.9.12"
  },
  "toc": {
   "base_numbering": 1,
   "nav_menu": {},
   "number_sections": true,
   "sideBar": true,
   "skip_h1_title": false,
   "title_cell": "Table of Contents",
   "title_sidebar": "Contents",
   "toc_cell": false,
   "toc_position": {
    "height": "calc(100% - 180px)",
    "left": "10px",
    "top": "150px",
    "width": "165px"
   },
   "toc_section_display": true,
   "toc_window_display": true
  },
  "varInspector": {
   "cols": {
    "lenName": 16,
    "lenType": 16,
    "lenVar": 40
   },
   "kernels_config": {
    "python": {
     "delete_cmd_postfix": "",
     "delete_cmd_prefix": "del ",
     "library": "var_list.py",
     "varRefreshCmd": "print(var_dic_list())"
    },
    "r": {
     "delete_cmd_postfix": ") ",
     "delete_cmd_prefix": "rm(",
     "library": "var_list.r",
     "varRefreshCmd": "cat(var_dic_list()) "
    }
   },
   "types_to_exclude": [
    "module",
    "function",
    "builtin_function_or_method",
    "instance",
    "_Feature"
   ],
   "window_display": false
  }
 },
 "nbformat": 4,
 "nbformat_minor": 5
}
