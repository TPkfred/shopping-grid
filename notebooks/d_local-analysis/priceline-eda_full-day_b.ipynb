{
 "cells": [
  {
   "cell_type": "markdown",
   "id": "2e1bf678",
   "metadata": {},
   "source": [
    "Priceline markets all data"
   ]
  },
  {
   "cell_type": "code",
   "execution_count": 1,
   "id": "4bb57a05",
   "metadata": {
    "ExecuteTime": {
     "end_time": "2022-11-07T23:42:06.702314Z",
     "start_time": "2022-11-07T23:42:05.459928Z"
    }
   },
   "outputs": [],
   "source": [
    "import pandas as pd\n",
    "import numpy as np\n",
    "import matplotlib.pyplot as plt\n",
    "import seaborn as sns\n",
    "\n",
    "import os"
   ]
  },
  {
   "cell_type": "code",
   "execution_count": 2,
   "id": "24790c5c",
   "metadata": {
    "ExecuteTime": {
     "end_time": "2022-11-07T23:42:06.710770Z",
     "start_time": "2022-11-07T23:42:06.709293Z"
    }
   },
   "outputs": [],
   "source": [
    "DATA_DIR = \"/Users/Kendra.frederick/Code/shopping-grid/output/aws_eda/priceline-eda/20221101/all-day/\""
   ]
  },
  {
   "cell_type": "code",
   "execution_count": 8,
   "id": "b5d37678",
   "metadata": {
    "ExecuteTime": {
     "end_time": "2022-11-07T23:45:17.084602Z",
     "start_time": "2022-11-07T23:45:17.070616Z"
    }
   },
   "outputs": [
    {
     "data": {
      "text/plain": [
       "['.DS_Store', 'figs', 'priceline-only-data', 'priceline-markets-all-data']"
      ]
     },
     "execution_count": 8,
     "metadata": {},
     "output_type": "execute_result"
    }
   ],
   "source": [
    "os.listdir(DATA_DIR)"
   ]
  },
  {
   "cell_type": "markdown",
   "id": "0135bac0",
   "metadata": {},
   "source": [
    "# Distros"
   ]
  },
  {
   "cell_type": "code",
   "execution_count": 3,
   "id": "2d4383ab",
   "metadata": {
    "ExecuteTime": {
     "end_time": "2022-11-07T23:42:13.006057Z",
     "start_time": "2022-11-07T23:42:12.987066Z"
    }
   },
   "outputs": [],
   "source": [
    "def plot_bar_cum_pct(data_df, top_n, bar_data_col, line_data_col, order_col, x_label, what,\n",
    "    plot_title, file_name):\n",
    "    \"\"\"Example:\n",
    "    bar_data_col = 'num_searches'\n",
    "    line_data_col = 'cum_pct_searches'\n",
    "    order_col = 'days_til_dept'\n",
    "    x_label = 'advanced purchase (days)'\n",
    "    top_n = 1000\n",
    "    what = 'Searches'\n",
    "    plot_title = 'Distribution of Searches by Advanced Purchase'\n",
    "    file_name = 'dtd-overlay'\n",
    "    \"\"\"\n",
    "    \n",
    "    data_df = data_df.sort_values(by=order_col)[:top_n]\n",
    "    data_bar = data_df[bar_data_col]\n",
    "    data_line = data_df[line_data_col]\n",
    "    xs = range(len(data_bar))\n",
    "\n",
    "    fig, ax = plt.subplots(figsize=(10,5))\n",
    "    w = 1 if top_n > 150 else 0.8\n",
    "    ax.bar(xs, data_bar, width=w);\n",
    "    ax.set_ylabel(f\"Num {what}\")\n",
    "    ax.set_xlabel(x_label)\n",
    "\n",
    "    ax2 = ax.twinx()\n",
    "    ax2.plot(xs, data_line, marker=\".\", color=\"red\")\n",
    "    ax2.set_ylim(0, 1)\n",
    "    ax2.set_ylabel(f\"Cumulative % Total {what}\")\n",
    "\n",
    "    fig.suptitle(plot_title)\n",
    "    plt.savefig(f\"{file_name}.png\")"
   ]
  },
  {
   "cell_type": "code",
   "execution_count": 4,
   "id": "d5e3318d",
   "metadata": {
    "ExecuteTime": {
     "end_time": "2022-11-07T23:42:22.018722Z",
     "start_time": "2022-11-07T23:42:22.004227Z"
    }
   },
   "outputs": [],
   "source": [
    "pl_path = os.path.join(DATA_DIR, 'priceline-markets-all-data')"
   ]
  },
  {
   "cell_type": "code",
   "execution_count": 9,
   "id": "0b673b29",
   "metadata": {
    "ExecuteTime": {
     "end_time": "2022-11-07T23:45:20.510756Z",
     "start_time": "2022-11-07T23:45:20.492595Z"
    }
   },
   "outputs": [
    {
     "data": {
      "text/plain": [
       "['dtd-stats', 'market-stats']"
      ]
     },
     "execution_count": 9,
     "metadata": {},
     "output_type": "execute_result"
    }
   ],
   "source": [
    "os.listdir(pl_path)"
   ]
  },
  {
   "cell_type": "markdown",
   "id": "c481e0d6",
   "metadata": {},
   "source": [
    "### markets"
   ]
  },
  {
   "cell_type": "code",
   "execution_count": 10,
   "id": "23cfe8a7",
   "metadata": {
    "ExecuteTime": {
     "end_time": "2022-11-07T23:45:25.208682Z",
     "start_time": "2022-11-07T23:45:25.025915Z"
    }
   },
   "outputs": [],
   "source": [
    "m_path = os.path.join(pl_path, 'market-stats')\n",
    "data_list = []\n",
    "for file in os.listdir(m_path):\n",
    "    if file != '_SUCCESS':\n",
    "        try:\n",
    "            df_temp = pd.read_csv(os.path.join(m_path, file), header=0)\n",
    "            data_list.append(df_temp)\n",
    "        except:\n",
    "            print(f\"Trouble parsing {file}\")\n",
    "\n",
    "if len(data_list) > 1:\n",
    "    df_m = pd.concat(data_list, axis=0)\n",
    "else:\n",
    "    df_m = data_list[0].copy()"
   ]
  },
  {
   "cell_type": "code",
   "execution_count": 11,
   "id": "c4423e12",
   "metadata": {
    "ExecuteTime": {
     "end_time": "2022-11-07T23:45:26.356011Z",
     "start_time": "2022-11-07T23:45:26.334664Z"
    }
   },
   "outputs": [
    {
     "data": {
      "text/html": [
       "<div>\n",
       "<style scoped>\n",
       "    .dataframe tbody tr th:only-of-type {\n",
       "        vertical-align: middle;\n",
       "    }\n",
       "\n",
       "    .dataframe tbody tr th {\n",
       "        vertical-align: top;\n",
       "    }\n",
       "\n",
       "    .dataframe thead th {\n",
       "        text-align: right;\n",
       "    }\n",
       "</style>\n",
       "<table border=\"1\" class=\"dataframe\">\n",
       "  <thead>\n",
       "    <tr style=\"text-align: right;\">\n",
       "      <th></th>\n",
       "      <th>market</th>\n",
       "      <th>num_searches</th>\n",
       "      <th>num_solutions</th>\n",
       "      <th>search_rank</th>\n",
       "      <th>solution_rank</th>\n",
       "      <th>pct_searches</th>\n",
       "      <th>pct_solutions</th>\n",
       "      <th>cum_pct_searches</th>\n",
       "      <th>cum_pct_solutions</th>\n",
       "    </tr>\n",
       "  </thead>\n",
       "  <tbody>\n",
       "    <tr>\n",
       "      <th>0</th>\n",
       "      <td>SFO-LAX</td>\n",
       "      <td>228181</td>\n",
       "      <td>46569522</td>\n",
       "      <td>1</td>\n",
       "      <td>1</td>\n",
       "      <td>0.004845</td>\n",
       "      <td>0.006429</td>\n",
       "      <td>0.004845</td>\n",
       "      <td>0.006429</td>\n",
       "    </tr>\n",
       "    <tr>\n",
       "      <th>1</th>\n",
       "      <td>LAX-HNL</td>\n",
       "      <td>97356</td>\n",
       "      <td>46229259</td>\n",
       "      <td>19</td>\n",
       "      <td>2</td>\n",
       "      <td>0.002067</td>\n",
       "      <td>0.006382</td>\n",
       "      <td>0.050206</td>\n",
       "      <td>0.012810</td>\n",
       "    </tr>\n",
       "    <tr>\n",
       "      <th>2</th>\n",
       "      <td>LAX-MNL</td>\n",
       "      <td>170474</td>\n",
       "      <td>45922649</td>\n",
       "      <td>3</td>\n",
       "      <td>3</td>\n",
       "      <td>0.003619</td>\n",
       "      <td>0.006339</td>\n",
       "      <td>0.012369</td>\n",
       "      <td>0.019150</td>\n",
       "    </tr>\n",
       "    <tr>\n",
       "      <th>3</th>\n",
       "      <td>LAX-SEA</td>\n",
       "      <td>88764</td>\n",
       "      <td>35371978</td>\n",
       "      <td>21</td>\n",
       "      <td>4</td>\n",
       "      <td>0.001885</td>\n",
       "      <td>0.004883</td>\n",
       "      <td>0.054039</td>\n",
       "      <td>0.024033</td>\n",
       "    </tr>\n",
       "    <tr>\n",
       "      <th>4</th>\n",
       "      <td>MIA-MAD</td>\n",
       "      <td>105064</td>\n",
       "      <td>34217111</td>\n",
       "      <td>14</td>\n",
       "      <td>5</td>\n",
       "      <td>0.002231</td>\n",
       "      <td>0.004723</td>\n",
       "      <td>0.039489</td>\n",
       "      <td>0.028756</td>\n",
       "    </tr>\n",
       "  </tbody>\n",
       "</table>\n",
       "</div>"
      ],
      "text/plain": [
       "    market  num_searches  num_solutions  search_rank  solution_rank  \\\n",
       "0  SFO-LAX        228181       46569522            1              1   \n",
       "1  LAX-HNL         97356       46229259           19              2   \n",
       "2  LAX-MNL        170474       45922649            3              3   \n",
       "3  LAX-SEA         88764       35371978           21              4   \n",
       "4  MIA-MAD        105064       34217111           14              5   \n",
       "\n",
       "   pct_searches  pct_solutions  cum_pct_searches  cum_pct_solutions  \n",
       "0      0.004845       0.006429          0.004845           0.006429  \n",
       "1      0.002067       0.006382          0.050206           0.012810  \n",
       "2      0.003619       0.006339          0.012369           0.019150  \n",
       "3      0.001885       0.004883          0.054039           0.024033  \n",
       "4      0.002231       0.004723          0.039489           0.028756  "
      ]
     },
     "execution_count": 11,
     "metadata": {},
     "output_type": "execute_result"
    }
   ],
   "source": [
    "df_m.head()"
   ]
  },
  {
   "cell_type": "code",
   "execution_count": 14,
   "id": "651b8cb1",
   "metadata": {
    "ExecuteTime": {
     "end_time": "2022-11-07T23:45:58.089689Z",
     "start_time": "2022-11-07T23:45:57.006203Z"
    }
   },
   "outputs": [
    {
     "data": {
      "image/png": "[encoded data removed]",
      "text/plain": [
       "<Figure size 720x360 with 2 Axes>"
      ]
     },
     "metadata": {
      "needs_background": "light"
     },
     "output_type": "display_data"
    }
   ],
   "source": [
    "plot_bar_cum_pct(df_m, 1000, 'num_searches', 'cum_pct_searches', 'search_rank', 'market rank', 'Searches', \n",
    "                 'Priceline Markets - All Data - Search Volume by Market', 'plmad-mrkt-srch')"
   ]
  },
  {
   "cell_type": "code",
   "execution_count": 15,
   "id": "77712ebe",
   "metadata": {
    "ExecuteTime": {
     "end_time": "2022-11-07T23:46:11.395255Z",
     "start_time": "2022-11-07T23:46:10.299166Z"
    }
   },
   "outputs": [
    {
     "data": {
      "image/png": "[encoded data removed]",
      "text/plain": [
       "<Figure size 720x360 with 2 Axes>"
      ]
     },
     "metadata": {
      "needs_background": "light"
     },
     "output_type": "display_data"
    }
   ],
   "source": [
    "plot_bar_cum_pct(df_m, 1000, 'num_solutions', 'cum_pct_solutions', 'solution_rank', 'market_rank', 'Solutions', \n",
    "                 'Priceline Markets - All Data - Solution Volume by Market', 'plmad-mrkt-sltn')"
   ]
  },
  {
   "cell_type": "code",
   "execution_count": 16,
   "id": "732b9deb",
   "metadata": {
    "ExecuteTime": {
     "end_time": "2022-11-07T23:46:13.909294Z",
     "start_time": "2022-11-07T23:46:13.895825Z"
    }
   },
   "outputs": [],
   "source": [
    "def print_market_stats(df, num_pct, what):\n",
    "    what_dict = {'search':\n",
    "                 {'rank_col': 'search_rank',\n",
    "                  'cum_pct_col': 'cum_pct_searches'},\n",
    "                 'solution':\n",
    "                 {'rank_col': 'solution_rank',\n",
    "                  'cum_pct_col': 'cum_pct_solutions'},\n",
    "                }\n",
    "    abs_num = int(len(df) * num_pct)\n",
    "    print(f\"For the top {num_pct*100}% of markets:\")\n",
    "    print(f\"Number of markets: {abs_num:,}\")\n",
    "    x = df[df[what_dict[what]['rank_col']] == abs_num]\n",
    "    cum_pct = x[what_dict[what]['cum_pct_col']].values[0]\n",
    "    print(f\"Cumulative % search volume: {cum_pct*100:.0f}%\")"
   ]
  },
  {
   "cell_type": "code",
   "execution_count": 17,
   "id": "7a11b376",
   "metadata": {
    "ExecuteTime": {
     "end_time": "2022-11-07T23:46:14.729788Z",
     "start_time": "2022-11-07T23:46:14.719566Z"
    }
   },
   "outputs": [
    {
     "data": {
      "text/plain": [
       "174649"
      ]
     },
     "execution_count": 17,
     "metadata": {},
     "output_type": "execute_result"
    }
   ],
   "source": [
    "len(df_m)"
   ]
  },
  {
   "cell_type": "code",
   "execution_count": 18,
   "id": "6c239694",
   "metadata": {
    "ExecuteTime": {
     "end_time": "2022-11-07T23:46:16.624112Z",
     "start_time": "2022-11-07T23:46:16.607523Z"
    }
   },
   "outputs": [
    {
     "name": "stdout",
     "output_type": "stream",
     "text": [
      "For the top 1.0% of markets:\n",
      "Number of markets: 1,746\n",
      "Cumulative % search volume: 62%\n"
     ]
    }
   ],
   "source": [
    "print_market_stats(df_m, 0.01, 'search')"
   ]
  },
  {
   "cell_type": "code",
   "execution_count": 19,
   "id": "75a735e4",
   "metadata": {
    "ExecuteTime": {
     "end_time": "2022-11-07T23:46:17.282785Z",
     "start_time": "2022-11-07T23:46:17.271181Z"
    }
   },
   "outputs": [
    {
     "name": "stdout",
     "output_type": "stream",
     "text": [
      "For the top 5.0% of markets:\n",
      "Number of markets: 8,732\n",
      "Cumulative % search volume: 86%\n"
     ]
    }
   ],
   "source": [
    "print_market_stats(df_m, 0.05, 'search')"
   ]
  },
  {
   "cell_type": "code",
   "execution_count": 20,
   "id": "1b89f168",
   "metadata": {
    "ExecuteTime": {
     "end_time": "2022-11-07T23:46:17.879053Z",
     "start_time": "2022-11-07T23:46:17.866007Z"
    }
   },
   "outputs": [
    {
     "name": "stdout",
     "output_type": "stream",
     "text": [
      "For the top 10.0% of markets:\n",
      "Number of markets: 17,464\n",
      "Cumulative % search volume: 93%\n"
     ]
    }
   ],
   "source": [
    "print_market_stats(df_m, 0.1, 'search')"
   ]
  },
  {
   "cell_type": "code",
   "execution_count": 21,
   "id": "09bced53",
   "metadata": {
    "ExecuteTime": {
     "end_time": "2022-11-07T23:46:18.419412Z",
     "start_time": "2022-11-07T23:46:18.406649Z"
    }
   },
   "outputs": [
    {
     "name": "stdout",
     "output_type": "stream",
     "text": [
      "For the top 25.0% of markets:\n",
      "Number of markets: 43,662\n",
      "Cumulative % search volume: 98%\n"
     ]
    }
   ],
   "source": [
    "print_market_stats(df_m, 0.25, 'search')"
   ]
  },
  {
   "cell_type": "code",
   "execution_count": null,
   "id": "06aa426d",
   "metadata": {},
   "outputs": [],
   "source": []
  },
  {
   "cell_type": "code",
   "execution_count": 22,
   "id": "301df4d0",
   "metadata": {
    "ExecuteTime": {
     "end_time": "2022-11-07T23:46:19.321106Z",
     "start_time": "2022-11-07T23:46:19.308170Z"
    }
   },
   "outputs": [
    {
     "name": "stdout",
     "output_type": "stream",
     "text": [
      "For the top 1.0% of markets:\n",
      "Number of markets: 1,746\n",
      "Cumulative % search volume: 66%\n"
     ]
    }
   ],
   "source": [
    "print_market_stats(df_m, 0.01, 'solution')"
   ]
  },
  {
   "cell_type": "code",
   "execution_count": 23,
   "id": "8c81a9f2",
   "metadata": {
    "ExecuteTime": {
     "end_time": "2022-11-07T23:46:19.794036Z",
     "start_time": "2022-11-07T23:46:19.780128Z"
    }
   },
   "outputs": [
    {
     "name": "stdout",
     "output_type": "stream",
     "text": [
      "For the top 5.0% of markets:\n",
      "Number of markets: 8,732\n",
      "Cumulative % search volume: 90%\n"
     ]
    }
   ],
   "source": [
    "print_market_stats(df_m, 0.05, 'solution')"
   ]
  },
  {
   "cell_type": "code",
   "execution_count": 24,
   "id": "011f7466",
   "metadata": {
    "ExecuteTime": {
     "end_time": "2022-11-07T23:46:20.213066Z",
     "start_time": "2022-11-07T23:46:20.202286Z"
    }
   },
   "outputs": [
    {
     "name": "stdout",
     "output_type": "stream",
     "text": [
      "For the top 10.0% of markets:\n",
      "Number of markets: 17,464\n",
      "Cumulative % search volume: 95%\n"
     ]
    }
   ],
   "source": [
    "print_market_stats(df_m, 0.1, 'solution')"
   ]
  },
  {
   "cell_type": "code",
   "execution_count": 25,
   "id": "09976e35",
   "metadata": {
    "ExecuteTime": {
     "end_time": "2022-11-07T23:46:20.692964Z",
     "start_time": "2022-11-07T23:46:20.681743Z"
    }
   },
   "outputs": [
    {
     "name": "stdout",
     "output_type": "stream",
     "text": [
      "For the top 25.0% of markets:\n",
      "Number of markets: 43,662\n",
      "Cumulative % search volume: 99%\n"
     ]
    }
   ],
   "source": [
    "print_market_stats(df_m, 0.25, 'solution')"
   ]
  },
  {
   "cell_type": "markdown",
   "id": "e999d829",
   "metadata": {},
   "source": [
    "### dtd"
   ]
  },
  {
   "cell_type": "code",
   "execution_count": 26,
   "id": "b9a1c493",
   "metadata": {
    "ExecuteTime": {
     "end_time": "2022-11-07T23:46:24.217405Z",
     "start_time": "2022-11-07T23:46:24.192911Z"
    }
   },
   "outputs": [],
   "source": [
    "# modify me\n",
    "data_path = os.path.join(pl_path, 'dtd-stats')\n",
    "\n",
    "data_list = []\n",
    "for file in os.listdir(data_path):\n",
    "    if file != '_SUCCESS':\n",
    "        try:\n",
    "            df_temp = pd.read_csv(os.path.join(data_path, file), header=0)\n",
    "            data_list.append(df_temp)\n",
    "        except:\n",
    "            print(f\"Trouble parsing {file}\")\n",
    "\n",
    "if len(data_list) > 1:\n",
    "    # change var name here\n",
    "    df_dtd = pd.concat(data_list, axis=0)\n",
    "else:\n",
    "    # change var name here\n",
    "    df_dtd = data_list[0].copy()"
   ]
  },
  {
   "cell_type": "code",
   "execution_count": 27,
   "id": "ccc66f8d",
   "metadata": {
    "ExecuteTime": {
     "end_time": "2022-11-07T23:46:25.857591Z",
     "start_time": "2022-11-07T23:46:25.838509Z"
    }
   },
   "outputs": [
    {
     "data": {
      "text/html": [
       "<div>\n",
       "<style scoped>\n",
       "    .dataframe tbody tr th:only-of-type {\n",
       "        vertical-align: middle;\n",
       "    }\n",
       "\n",
       "    .dataframe tbody tr th {\n",
       "        vertical-align: top;\n",
       "    }\n",
       "\n",
       "    .dataframe thead th {\n",
       "        text-align: right;\n",
       "    }\n",
       "</style>\n",
       "<table border=\"1\" class=\"dataframe\">\n",
       "  <thead>\n",
       "    <tr style=\"text-align: right;\">\n",
       "      <th></th>\n",
       "      <th>days_til_dept</th>\n",
       "      <th>num_searches</th>\n",
       "      <th>num_solutions</th>\n",
       "      <th>pct_searches</th>\n",
       "      <th>pct_solutions</th>\n",
       "      <th>cum_pct_searches</th>\n",
       "      <th>cum_pct_solutions</th>\n",
       "    </tr>\n",
       "  </thead>\n",
       "  <tbody>\n",
       "    <tr>\n",
       "      <th>0</th>\n",
       "      <td>-11</td>\n",
       "      <td>1885</td>\n",
       "      <td>331447</td>\n",
       "      <td>0.000065</td>\n",
       "      <td>0.000046</td>\n",
       "      <td>0.000065</td>\n",
       "      <td>0.000046</td>\n",
       "    </tr>\n",
       "    <tr>\n",
       "      <th>1</th>\n",
       "      <td>-10</td>\n",
       "      <td>1753</td>\n",
       "      <td>121535</td>\n",
       "      <td>0.000061</td>\n",
       "      <td>0.000017</td>\n",
       "      <td>0.000126</td>\n",
       "      <td>0.000063</td>\n",
       "    </tr>\n",
       "    <tr>\n",
       "      <th>2</th>\n",
       "      <td>-9</td>\n",
       "      <td>2993</td>\n",
       "      <td>546829</td>\n",
       "      <td>0.000104</td>\n",
       "      <td>0.000075</td>\n",
       "      <td>0.000230</td>\n",
       "      <td>0.000138</td>\n",
       "    </tr>\n",
       "    <tr>\n",
       "      <th>3</th>\n",
       "      <td>-8</td>\n",
       "      <td>998</td>\n",
       "      <td>178714</td>\n",
       "      <td>0.000035</td>\n",
       "      <td>0.000025</td>\n",
       "      <td>0.000265</td>\n",
       "      <td>0.000163</td>\n",
       "    </tr>\n",
       "    <tr>\n",
       "      <th>4</th>\n",
       "      <td>-7</td>\n",
       "      <td>3025</td>\n",
       "      <td>1073933</td>\n",
       "      <td>0.000105</td>\n",
       "      <td>0.000148</td>\n",
       "      <td>0.000370</td>\n",
       "      <td>0.000311</td>\n",
       "    </tr>\n",
       "  </tbody>\n",
       "</table>\n",
       "</div>"
      ],
      "text/plain": [
       "   days_til_dept  num_searches  num_solutions  pct_searches  pct_solutions  \\\n",
       "0            -11          1885         331447      0.000065       0.000046   \n",
       "1            -10          1753         121535      0.000061       0.000017   \n",
       "2             -9          2993         546829      0.000104       0.000075   \n",
       "3             -8           998         178714      0.000035       0.000025   \n",
       "4             -7          3025        1073933      0.000105       0.000148   \n",
       "\n",
       "   cum_pct_searches  cum_pct_solutions  \n",
       "0          0.000065           0.000046  \n",
       "1          0.000126           0.000063  \n",
       "2          0.000230           0.000138  \n",
       "3          0.000265           0.000163  \n",
       "4          0.000370           0.000311  "
      ]
     },
     "execution_count": 27,
     "metadata": {},
     "output_type": "execute_result"
    }
   ],
   "source": [
    "df_dtd.head()"
   ]
  },
  {
   "cell_type": "code",
   "execution_count": 28,
   "id": "3a6cda8b",
   "metadata": {
    "ExecuteTime": {
     "end_time": "2022-11-07T23:46:27.035176Z",
     "start_time": "2022-11-07T23:46:27.025372Z"
    }
   },
   "outputs": [],
   "source": [
    "df_dtd_clip = df_dtd[df_dtd['days_til_dept'] >= 0]"
   ]
  },
  {
   "cell_type": "code",
   "execution_count": 29,
   "id": "ea5543e6",
   "metadata": {
    "ExecuteTime": {
     "end_time": "2022-11-07T23:46:27.624132Z",
     "start_time": "2022-11-07T23:46:27.609757Z"
    }
   },
   "outputs": [
    {
     "data": {
      "text/plain": [
       "(374, 363)"
      ]
     },
     "execution_count": 29,
     "metadata": {},
     "output_type": "execute_result"
    }
   ],
   "source": [
    "len(df_dtd), len(df_dtd_clip)"
   ]
  },
  {
   "cell_type": "code",
   "execution_count": 30,
   "id": "6617ad73",
   "metadata": {
    "ExecuteTime": {
     "end_time": "2022-11-07T23:46:29.647275Z",
     "start_time": "2022-11-07T23:46:29.614657Z"
    }
   },
   "outputs": [
    {
     "name": "stderr",
     "output_type": "stream",
     "text": [
      "/var/folders/2c/ll166b4x7zlbnj4_twhr_69c0000gq/T/ipykernel_15170/763544540.py:3: SettingWithCopyWarning: \n",
      "A value is trying to be set on a copy of a slice from a DataFrame.\n",
      "Try using .loc[row_indexer,col_indexer] = value instead\n",
      "\n",
      "See the caveats in the documentation: https://pandas.pydata.org/pandas-docs/stable/user_guide/indexing.html#returning-a-view-versus-a-copy\n",
      "  df_dtd_clip.loc[:, 'pct_searches'] = df_dtd_clip['num_searches'] / df_dtd_clip['num_searches'].sum()\n",
      "/var/folders/2c/ll166b4x7zlbnj4_twhr_69c0000gq/T/ipykernel_15170/763544540.py:4: SettingWithCopyWarning: \n",
      "A value is trying to be set on a copy of a slice from a DataFrame.\n",
      "Try using .loc[row_indexer,col_indexer] = value instead\n",
      "\n",
      "See the caveats in the documentation: https://pandas.pydata.org/pandas-docs/stable/user_guide/indexing.html#returning-a-view-versus-a-copy\n",
      "  df_dtd_clip.loc[:, 'cum_pct_searches'] = df_dtd_clip['pct_searches'].cumsum()\n"
     ]
    }
   ],
   "source": [
    "# re-compute cum_pct_searches\n",
    "\n",
    "df_dtd_clip.loc[:, 'pct_searches'] = df_dtd_clip['num_searches'] / df_dtd_clip['num_searches'].sum()\n",
    "df_dtd_clip.loc[:, 'cum_pct_searches'] = df_dtd_clip['pct_searches'].cumsum()"
   ]
  },
  {
   "cell_type": "code",
   "execution_count": 31,
   "id": "a262797e",
   "metadata": {
    "ExecuteTime": {
     "end_time": "2022-11-07T23:46:30.603151Z",
     "start_time": "2022-11-07T23:46:30.583297Z"
    }
   },
   "outputs": [
    {
     "data": {
      "text/html": [
       "<div>\n",
       "<style scoped>\n",
       "    .dataframe tbody tr th:only-of-type {\n",
       "        vertical-align: middle;\n",
       "    }\n",
       "\n",
       "    .dataframe tbody tr th {\n",
       "        vertical-align: top;\n",
       "    }\n",
       "\n",
       "    .dataframe thead th {\n",
       "        text-align: right;\n",
       "    }\n",
       "</style>\n",
       "<table border=\"1\" class=\"dataframe\">\n",
       "  <thead>\n",
       "    <tr style=\"text-align: right;\">\n",
       "      <th></th>\n",
       "      <th>days_til_dept</th>\n",
       "      <th>num_searches</th>\n",
       "      <th>num_solutions</th>\n",
       "      <th>pct_searches</th>\n",
       "      <th>pct_solutions</th>\n",
       "      <th>cum_pct_searches</th>\n",
       "      <th>cum_pct_solutions</th>\n",
       "    </tr>\n",
       "  </thead>\n",
       "  <tbody>\n",
       "    <tr>\n",
       "      <th>11</th>\n",
       "      <td>0</td>\n",
       "      <td>229985</td>\n",
       "      <td>35062280</td>\n",
       "      <td>0.007992</td>\n",
       "      <td>0.004840</td>\n",
       "      <td>0.007992</td>\n",
       "      <td>0.005763</td>\n",
       "    </tr>\n",
       "    <tr>\n",
       "      <th>12</th>\n",
       "      <td>1</td>\n",
       "      <td>433192</td>\n",
       "      <td>101584454</td>\n",
       "      <td>0.015054</td>\n",
       "      <td>0.014023</td>\n",
       "      <td>0.023046</td>\n",
       "      <td>0.019787</td>\n",
       "    </tr>\n",
       "    <tr>\n",
       "      <th>13</th>\n",
       "      <td>2</td>\n",
       "      <td>432169</td>\n",
       "      <td>112536889</td>\n",
       "      <td>0.015018</td>\n",
       "      <td>0.015535</td>\n",
       "      <td>0.038064</td>\n",
       "      <td>0.035322</td>\n",
       "    </tr>\n",
       "    <tr>\n",
       "      <th>14</th>\n",
       "      <td>3</td>\n",
       "      <td>576834</td>\n",
       "      <td>165794102</td>\n",
       "      <td>0.020045</td>\n",
       "      <td>0.022887</td>\n",
       "      <td>0.058109</td>\n",
       "      <td>0.058209</td>\n",
       "    </tr>\n",
       "    <tr>\n",
       "      <th>15</th>\n",
       "      <td>4</td>\n",
       "      <td>385077</td>\n",
       "      <td>93975559</td>\n",
       "      <td>0.013382</td>\n",
       "      <td>0.012973</td>\n",
       "      <td>0.071490</td>\n",
       "      <td>0.071181</td>\n",
       "    </tr>\n",
       "  </tbody>\n",
       "</table>\n",
       "</div>"
      ],
      "text/plain": [
       "    days_til_dept  num_searches  num_solutions  pct_searches  pct_solutions  \\\n",
       "11              0        229985       35062280      0.007992       0.004840   \n",
       "12              1        433192      101584454      0.015054       0.014023   \n",
       "13              2        432169      112536889      0.015018       0.015535   \n",
       "14              3        576834      165794102      0.020045       0.022887   \n",
       "15              4        385077       93975559      0.013382       0.012973   \n",
       "\n",
       "    cum_pct_searches  cum_pct_solutions  \n",
       "11          0.007992           0.005763  \n",
       "12          0.023046           0.019787  \n",
       "13          0.038064           0.035322  \n",
       "14          0.058109           0.058209  \n",
       "15          0.071490           0.071181  "
      ]
     },
     "execution_count": 31,
     "metadata": {},
     "output_type": "execute_result"
    }
   ],
   "source": [
    "df_dtd_clip.head()"
   ]
  },
  {
   "cell_type": "code",
   "execution_count": 32,
   "id": "d09a7591",
   "metadata": {
    "ExecuteTime": {
     "end_time": "2022-11-07T23:46:32.113111Z",
     "start_time": "2022-11-07T23:46:32.080303Z"
    }
   },
   "outputs": [
    {
     "data": {
      "text/html": [
       "<div>\n",
       "<style scoped>\n",
       "    .dataframe tbody tr th:only-of-type {\n",
       "        vertical-align: middle;\n",
       "    }\n",
       "\n",
       "    .dataframe tbody tr th {\n",
       "        vertical-align: top;\n",
       "    }\n",
       "\n",
       "    .dataframe thead th {\n",
       "        text-align: right;\n",
       "    }\n",
       "</style>\n",
       "<table border=\"1\" class=\"dataframe\">\n",
       "  <thead>\n",
       "    <tr style=\"text-align: right;\">\n",
       "      <th></th>\n",
       "      <th>days_til_dept</th>\n",
       "      <th>num_searches</th>\n",
       "      <th>num_solutions</th>\n",
       "      <th>pct_searches</th>\n",
       "      <th>pct_solutions</th>\n",
       "      <th>cum_pct_searches</th>\n",
       "      <th>cum_pct_solutions</th>\n",
       "    </tr>\n",
       "  </thead>\n",
       "  <tbody>\n",
       "    <tr>\n",
       "      <th>369</th>\n",
       "      <td>358</td>\n",
       "      <td>188</td>\n",
       "      <td>4835</td>\n",
       "      <td>6.533065e-06</td>\n",
       "      <td>6.674465e-07</td>\n",
       "      <td>0.999983</td>\n",
       "      <td>0.999999</td>\n",
       "    </tr>\n",
       "    <tr>\n",
       "      <th>370</th>\n",
       "      <td>359</td>\n",
       "      <td>163</td>\n",
       "      <td>3666</td>\n",
       "      <td>5.664307e-06</td>\n",
       "      <td>5.060722e-07</td>\n",
       "      <td>0.999989</td>\n",
       "      <td>0.999999</td>\n",
       "    </tr>\n",
       "    <tr>\n",
       "      <th>371</th>\n",
       "      <td>360</td>\n",
       "      <td>264</td>\n",
       "      <td>4995</td>\n",
       "      <td>9.174092e-06</td>\n",
       "      <td>6.895337e-07</td>\n",
       "      <td>0.999998</td>\n",
       "      <td>1.000000</td>\n",
       "    </tr>\n",
       "    <tr>\n",
       "      <th>372</th>\n",
       "      <td>361</td>\n",
       "      <td>47</td>\n",
       "      <td>255</td>\n",
       "      <td>1.633266e-06</td>\n",
       "      <td>3.520142e-08</td>\n",
       "      <td>1.000000</td>\n",
       "      <td>1.000000</td>\n",
       "    </tr>\n",
       "    <tr>\n",
       "      <th>373</th>\n",
       "      <td>362</td>\n",
       "      <td>3</td>\n",
       "      <td>3</td>\n",
       "      <td>1.042510e-07</td>\n",
       "      <td>4.141343e-10</td>\n",
       "      <td>1.000000</td>\n",
       "      <td>1.000000</td>\n",
       "    </tr>\n",
       "  </tbody>\n",
       "</table>\n",
       "</div>"
      ],
      "text/plain": [
       "     days_til_dept  num_searches  num_solutions  pct_searches  pct_solutions  \\\n",
       "369            358           188           4835  6.533065e-06   6.674465e-07   \n",
       "370            359           163           3666  5.664307e-06   5.060722e-07   \n",
       "371            360           264           4995  9.174092e-06   6.895337e-07   \n",
       "372            361            47            255  1.633266e-06   3.520142e-08   \n",
       "373            362             3              3  1.042510e-07   4.141343e-10   \n",
       "\n",
       "     cum_pct_searches  cum_pct_solutions  \n",
       "369          0.999983           0.999999  \n",
       "370          0.999989           0.999999  \n",
       "371          0.999998           1.000000  \n",
       "372          1.000000           1.000000  \n",
       "373          1.000000           1.000000  "
      ]
     },
     "execution_count": 32,
     "metadata": {},
     "output_type": "execute_result"
    }
   ],
   "source": [
    "df_dtd_clip.tail()"
   ]
  },
  {
   "cell_type": "code",
   "execution_count": 34,
   "id": "4723be25",
   "metadata": {
    "ExecuteTime": {
     "end_time": "2022-11-07T23:46:56.144859Z",
     "start_time": "2022-11-07T23:46:55.872711Z"
    }
   },
   "outputs": [
    {
     "data": {
      "image/png": "[encoded data removed]",
      "text/plain": [
       "<Figure size 720x360 with 2 Axes>"
      ]
     },
     "metadata": {
      "needs_background": "light"
     },
     "output_type": "display_data"
    }
   ],
   "source": [
    "plot_bar_cum_pct(df_dtd_clip, \n",
    "                 top_n=120, \n",
    "                 bar_data_col='num_searches', \n",
    "                 line_data_col='cum_pct_searches', \n",
    "                 order_col='days_til_dept', \n",
    "                 x_label='advanced purchase (days)', \n",
    "                 what='Searches', \n",
    "                 plot_title='Priceline Markets - All Data - Search Volume by Advanced Purchase', \n",
    "                 file_name='plmad-dtd-srchs')\n"
   ]
  },
  {
   "cell_type": "code",
   "execution_count": 35,
   "id": "59507f9d",
   "metadata": {
    "ExecuteTime": {
     "end_time": "2022-11-07T23:46:59.780932Z",
     "start_time": "2022-11-07T23:46:59.770153Z"
    }
   },
   "outputs": [],
   "source": [
    "def print_time_stats(df, time_col, num, data_col='cum_pct_searches', individual_val_col='pct_searches'):\n",
    "    x = df[df[time_col] == num]\n",
    "    cum_pct = x[data_col].values[0]\n",
    "    print(f\"At {num} {time_col}:\")\n",
    "    print(f\"Cumulative % search volume: {cum_pct*100:.0f}%\")\n",
    "    if individual_val_col is not None:\n",
    "        pct = x[individual_val_col].values[0]\n",
    "        print(f\"% search volume: {pct*100:.1f}%\")\n",
    "    print()"
   ]
  },
  {
   "cell_type": "code",
   "execution_count": 36,
   "id": "1d5922cb",
   "metadata": {
    "ExecuteTime": {
     "end_time": "2022-11-07T23:47:00.458017Z",
     "start_time": "2022-11-07T23:47:00.440921Z"
    }
   },
   "outputs": [
    {
     "name": "stdout",
     "output_type": "stream",
     "text": [
      "At 14 days_til_dept:\n",
      "Cumulative % search volume: 21%\n",
      "% search volume: 1.3%\n",
      "\n",
      "At 30 days_til_dept:\n",
      "Cumulative % search volume: 41%\n",
      "% search volume: 3.2%\n",
      "\n",
      "At 60 days_til_dept:\n",
      "Cumulative % search volume: 70%\n",
      "% search volume: 0.6%\n",
      "\n",
      "At 90 days_til_dept:\n",
      "Cumulative % search volume: 82%\n",
      "% search volume: 0.3%\n",
      "\n",
      "At 120 days_til_dept:\n",
      "Cumulative % search volume: 89%\n",
      "% search volume: 0.3%\n",
      "\n"
     ]
    }
   ],
   "source": [
    "for num in [14, 30, 60, 90, 120]:\n",
    "    print_time_stats(df=df_dtd_clip,\n",
    "                     time_col='days_til_dept',\n",
    "                     num=num,\n",
    "#                      individual_val_col=None\n",
    "                    )"
   ]
  },
  {
   "cell_type": "markdown",
   "id": "e492ac96",
   "metadata": {},
   "source": [
    "### los"
   ]
  },
  {
   "cell_type": "code",
   "execution_count": 37,
   "id": "5713c3e8",
   "metadata": {
    "ExecuteTime": {
     "end_time": "2022-11-08T01:36:47.405696Z",
     "start_time": "2022-11-08T01:36:47.384101Z"
    }
   },
   "outputs": [],
   "source": [
    "# modify me\n",
    "data_path = os.path.join(pl_path, 'los-stats')\n",
    "\n",
    "data_list = []\n",
    "for file in os.listdir(data_path):\n",
    "    if file != '_SUCCESS':\n",
    "        try:\n",
    "            df_temp = pd.read_csv(os.path.join(data_path, file), header=0)\n",
    "            data_list.append(df_temp)\n",
    "        except:\n",
    "            print(f\"Trouble parsing {file}\")\n",
    "\n",
    "if len(data_list) > 1:\n",
    "    # change var name here\n",
    "    df_los = pd.concat(data_list, axis=0)\n",
    "else:\n",
    "    # change var name here\n",
    "    df_los = data_list[0].copy()"
   ]
  },
  {
   "cell_type": "code",
   "execution_count": 38,
   "id": "ad26e9db",
   "metadata": {
    "ExecuteTime": {
     "end_time": "2022-11-08T01:36:48.278914Z",
     "start_time": "2022-11-08T01:36:48.255756Z"
    }
   },
   "outputs": [
    {
     "data": {
      "text/html": [
       "<div>\n",
       "<style scoped>\n",
       "    .dataframe tbody tr th:only-of-type {\n",
       "        vertical-align: middle;\n",
       "    }\n",
       "\n",
       "    .dataframe tbody tr th {\n",
       "        vertical-align: top;\n",
       "    }\n",
       "\n",
       "    .dataframe thead th {\n",
       "        text-align: right;\n",
       "    }\n",
       "</style>\n",
       "<table border=\"1\" class=\"dataframe\">\n",
       "  <thead>\n",
       "    <tr style=\"text-align: right;\">\n",
       "      <th></th>\n",
       "      <th>stay_duration</th>\n",
       "      <th>num_searches</th>\n",
       "      <th>num_solutions</th>\n",
       "      <th>pct_searches</th>\n",
       "      <th>pct_solutions</th>\n",
       "      <th>cum_pct_searches</th>\n",
       "      <th>cum_pct_solutions</th>\n",
       "    </tr>\n",
       "  </thead>\n",
       "  <tbody>\n",
       "    <tr>\n",
       "      <th>0</th>\n",
       "      <td>NaN</td>\n",
       "      <td>14062315</td>\n",
       "      <td>791048757</td>\n",
       "      <td>0.486367</td>\n",
       "      <td>0.109200</td>\n",
       "      <td>0.486367</td>\n",
       "      <td>0.109200</td>\n",
       "    </tr>\n",
       "    <tr>\n",
       "      <th>1</th>\n",
       "      <td>0.0</td>\n",
       "      <td>182686</td>\n",
       "      <td>19371017</td>\n",
       "      <td>0.006318</td>\n",
       "      <td>0.002674</td>\n",
       "      <td>0.492686</td>\n",
       "      <td>0.111874</td>\n",
       "    </tr>\n",
       "    <tr>\n",
       "      <th>2</th>\n",
       "      <td>1.0</td>\n",
       "      <td>298922</td>\n",
       "      <td>156745095</td>\n",
       "      <td>0.010339</td>\n",
       "      <td>0.021638</td>\n",
       "      <td>0.503024</td>\n",
       "      <td>0.133512</td>\n",
       "    </tr>\n",
       "    <tr>\n",
       "      <th>3</th>\n",
       "      <td>2.0</td>\n",
       "      <td>791317</td>\n",
       "      <td>424300626</td>\n",
       "      <td>0.027369</td>\n",
       "      <td>0.058572</td>\n",
       "      <td>0.530393</td>\n",
       "      <td>0.192085</td>\n",
       "    </tr>\n",
       "    <tr>\n",
       "      <th>4</th>\n",
       "      <td>3.0</td>\n",
       "      <td>1526369</td>\n",
       "      <td>727303972</td>\n",
       "      <td>0.052792</td>\n",
       "      <td>0.100401</td>\n",
       "      <td>0.583185</td>\n",
       "      <td>0.292485</td>\n",
       "    </tr>\n",
       "  </tbody>\n",
       "</table>\n",
       "</div>"
      ],
      "text/plain": [
       "   stay_duration  num_searches  num_solutions  pct_searches  pct_solutions  \\\n",
       "0            NaN      14062315      791048757      0.486367       0.109200   \n",
       "1            0.0        182686       19371017      0.006318       0.002674   \n",
       "2            1.0        298922      156745095      0.010339       0.021638   \n",
       "3            2.0        791317      424300626      0.027369       0.058572   \n",
       "4            3.0       1526369      727303972      0.052792       0.100401   \n",
       "\n",
       "   cum_pct_searches  cum_pct_solutions  \n",
       "0          0.486367           0.109200  \n",
       "1          0.492686           0.111874  \n",
       "2          0.503024           0.133512  \n",
       "3          0.530393           0.192085  \n",
       "4          0.583185           0.292485  "
      ]
     },
     "execution_count": 38,
     "metadata": {},
     "output_type": "execute_result"
    }
   ],
   "source": [
    "df_los.head()"
   ]
  },
  {
   "cell_type": "code",
   "execution_count": 39,
   "id": "339b7098",
   "metadata": {
    "ExecuteTime": {
     "end_time": "2022-11-08T01:36:50.030637Z",
     "start_time": "2022-11-08T01:36:50.016786Z"
    }
   },
   "outputs": [],
   "source": [
    "df_rt_los = df_los.dropna()"
   ]
  },
  {
   "cell_type": "code",
   "execution_count": 40,
   "id": "1f9b7273",
   "metadata": {
    "ExecuteTime": {
     "end_time": "2022-11-08T01:36:50.721863Z",
     "start_time": "2022-11-08T01:36:50.664242Z"
    }
   },
   "outputs": [
    {
     "name": "stderr",
     "output_type": "stream",
     "text": [
      "/var/folders/2c/ll166b4x7zlbnj4_twhr_69c0000gq/T/ipykernel_15170/247262479.py:3: SettingWithCopyWarning: \n",
      "A value is trying to be set on a copy of a slice from a DataFrame.\n",
      "Try using .loc[row_indexer,col_indexer] = value instead\n",
      "\n",
      "See the caveats in the documentation: https://pandas.pydata.org/pandas-docs/stable/user_guide/indexing.html#returning-a-view-versus-a-copy\n",
      "  df_rt_los.loc[:, 'pct_searches'] = df_rt_los['num_searches'] / df_rt_los['num_searches'].sum()\n",
      "/var/folders/2c/ll166b4x7zlbnj4_twhr_69c0000gq/T/ipykernel_15170/247262479.py:4: SettingWithCopyWarning: \n",
      "A value is trying to be set on a copy of a slice from a DataFrame.\n",
      "Try using .loc[row_indexer,col_indexer] = value instead\n",
      "\n",
      "See the caveats in the documentation: https://pandas.pydata.org/pandas-docs/stable/user_guide/indexing.html#returning-a-view-versus-a-copy\n",
      "  df_rt_los.loc[:, 'cum_pct_searches'] = df_rt_los['pct_searches'].cumsum()\n"
     ]
    }
   ],
   "source": [
    "# re-compute cum_pct_searches\n",
    "\n",
    "df_rt_los.loc[:, 'pct_searches'] = df_rt_los['num_searches'] / df_rt_los['num_searches'].sum()\n",
    "df_rt_los.loc[:, 'cum_pct_searches'] = df_rt_los['pct_searches'].cumsum()"
   ]
  },
  {
   "cell_type": "code",
   "execution_count": 41,
   "id": "880e4d2f",
   "metadata": {
    "ExecuteTime": {
     "end_time": "2022-11-08T01:36:52.068280Z",
     "start_time": "2022-11-08T01:36:52.045964Z"
    }
   },
   "outputs": [
    {
     "data": {
      "text/html": [
       "<div>\n",
       "<style scoped>\n",
       "    .dataframe tbody tr th:only-of-type {\n",
       "        vertical-align: middle;\n",
       "    }\n",
       "\n",
       "    .dataframe tbody tr th {\n",
       "        vertical-align: top;\n",
       "    }\n",
       "\n",
       "    .dataframe thead th {\n",
       "        text-align: right;\n",
       "    }\n",
       "</style>\n",
       "<table border=\"1\" class=\"dataframe\">\n",
       "  <thead>\n",
       "    <tr style=\"text-align: right;\">\n",
       "      <th></th>\n",
       "      <th>stay_duration</th>\n",
       "      <th>num_searches</th>\n",
       "      <th>num_solutions</th>\n",
       "      <th>pct_searches</th>\n",
       "      <th>pct_solutions</th>\n",
       "      <th>cum_pct_searches</th>\n",
       "      <th>cum_pct_solutions</th>\n",
       "    </tr>\n",
       "  </thead>\n",
       "  <tbody>\n",
       "    <tr>\n",
       "      <th>1</th>\n",
       "      <td>0.0</td>\n",
       "      <td>182686</td>\n",
       "      <td>19371017</td>\n",
       "      <td>0.012302</td>\n",
       "      <td>0.002674</td>\n",
       "      <td>0.012302</td>\n",
       "      <td>0.111874</td>\n",
       "    </tr>\n",
       "    <tr>\n",
       "      <th>2</th>\n",
       "      <td>1.0</td>\n",
       "      <td>298922</td>\n",
       "      <td>156745095</td>\n",
       "      <td>0.020129</td>\n",
       "      <td>0.021638</td>\n",
       "      <td>0.032430</td>\n",
       "      <td>0.133512</td>\n",
       "    </tr>\n",
       "    <tr>\n",
       "      <th>3</th>\n",
       "      <td>2.0</td>\n",
       "      <td>791317</td>\n",
       "      <td>424300626</td>\n",
       "      <td>0.053285</td>\n",
       "      <td>0.058572</td>\n",
       "      <td>0.085715</td>\n",
       "      <td>0.192085</td>\n",
       "    </tr>\n",
       "    <tr>\n",
       "      <th>4</th>\n",
       "      <td>3.0</td>\n",
       "      <td>1526369</td>\n",
       "      <td>727303972</td>\n",
       "      <td>0.102781</td>\n",
       "      <td>0.100401</td>\n",
       "      <td>0.188497</td>\n",
       "      <td>0.292485</td>\n",
       "    </tr>\n",
       "    <tr>\n",
       "      <th>5</th>\n",
       "      <td>4.0</td>\n",
       "      <td>1322708</td>\n",
       "      <td>666488445</td>\n",
       "      <td>0.089067</td>\n",
       "      <td>0.092005</td>\n",
       "      <td>0.277564</td>\n",
       "      <td>0.384490</td>\n",
       "    </tr>\n",
       "  </tbody>\n",
       "</table>\n",
       "</div>"
      ],
      "text/plain": [
       "   stay_duration  num_searches  num_solutions  pct_searches  pct_solutions  \\\n",
       "1            0.0        182686       19371017      0.012302       0.002674   \n",
       "2            1.0        298922      156745095      0.020129       0.021638   \n",
       "3            2.0        791317      424300626      0.053285       0.058572   \n",
       "4            3.0       1526369      727303972      0.102781       0.100401   \n",
       "5            4.0       1322708      666488445      0.089067       0.092005   \n",
       "\n",
       "   cum_pct_searches  cum_pct_solutions  \n",
       "1          0.012302           0.111874  \n",
       "2          0.032430           0.133512  \n",
       "3          0.085715           0.192085  \n",
       "4          0.188497           0.292485  \n",
       "5          0.277564           0.384490  "
      ]
     },
     "execution_count": 41,
     "metadata": {},
     "output_type": "execute_result"
    }
   ],
   "source": [
    "df_rt_los.head()"
   ]
  },
  {
   "cell_type": "code",
   "execution_count": 42,
   "id": "f6d8b520",
   "metadata": {
    "ExecuteTime": {
     "end_time": "2022-11-08T01:37:01.889826Z",
     "start_time": "2022-11-08T01:37:01.869225Z"
    }
   },
   "outputs": [
    {
     "data": {
      "text/html": [
       "<div>\n",
       "<style scoped>\n",
       "    .dataframe tbody tr th:only-of-type {\n",
       "        vertical-align: middle;\n",
       "    }\n",
       "\n",
       "    .dataframe tbody tr th {\n",
       "        vertical-align: top;\n",
       "    }\n",
       "\n",
       "    .dataframe thead th {\n",
       "        text-align: right;\n",
       "    }\n",
       "</style>\n",
       "<table border=\"1\" class=\"dataframe\">\n",
       "  <thead>\n",
       "    <tr style=\"text-align: right;\">\n",
       "      <th></th>\n",
       "      <th>stay_duration</th>\n",
       "      <th>num_searches</th>\n",
       "      <th>num_solutions</th>\n",
       "      <th>pct_searches</th>\n",
       "      <th>pct_solutions</th>\n",
       "      <th>cum_pct_searches</th>\n",
       "      <th>cum_pct_solutions</th>\n",
       "    </tr>\n",
       "  </thead>\n",
       "  <tbody>\n",
       "    <tr>\n",
       "      <th>338</th>\n",
       "      <td>349.0</td>\n",
       "      <td>8</td>\n",
       "      <td>1459</td>\n",
       "      <td>5.386973e-07</td>\n",
       "      <td>2.014073e-07</td>\n",
       "      <td>1.0</td>\n",
       "      <td>1.0</td>\n",
       "    </tr>\n",
       "    <tr>\n",
       "      <th>339</th>\n",
       "      <td>353.0</td>\n",
       "      <td>1</td>\n",
       "      <td>628</td>\n",
       "      <td>6.733716e-08</td>\n",
       "      <td>8.669212e-08</td>\n",
       "      <td>1.0</td>\n",
       "      <td>1.0</td>\n",
       "    </tr>\n",
       "    <tr>\n",
       "      <th>340</th>\n",
       "      <td>354.0</td>\n",
       "      <td>1</td>\n",
       "      <td>395</td>\n",
       "      <td>6.733716e-08</td>\n",
       "      <td>5.452769e-08</td>\n",
       "      <td>1.0</td>\n",
       "      <td>1.0</td>\n",
       "    </tr>\n",
       "    <tr>\n",
       "      <th>341</th>\n",
       "      <td>357.0</td>\n",
       "      <td>1</td>\n",
       "      <td>12</td>\n",
       "      <td>6.733716e-08</td>\n",
       "      <td>1.656537e-09</td>\n",
       "      <td>1.0</td>\n",
       "      <td>1.0</td>\n",
       "    </tr>\n",
       "    <tr>\n",
       "      <th>342</th>\n",
       "      <td>358.0</td>\n",
       "      <td>1</td>\n",
       "      <td>26</td>\n",
       "      <td>6.733716e-08</td>\n",
       "      <td>3.589164e-09</td>\n",
       "      <td>1.0</td>\n",
       "      <td>1.0</td>\n",
       "    </tr>\n",
       "  </tbody>\n",
       "</table>\n",
       "</div>"
      ],
      "text/plain": [
       "     stay_duration  num_searches  num_solutions  pct_searches  pct_solutions  \\\n",
       "338          349.0             8           1459  5.386973e-07   2.014073e-07   \n",
       "339          353.0             1            628  6.733716e-08   8.669212e-08   \n",
       "340          354.0             1            395  6.733716e-08   5.452769e-08   \n",
       "341          357.0             1             12  6.733716e-08   1.656537e-09   \n",
       "342          358.0             1             26  6.733716e-08   3.589164e-09   \n",
       "\n",
       "     cum_pct_searches  cum_pct_solutions  \n",
       "338               1.0                1.0  \n",
       "339               1.0                1.0  \n",
       "340               1.0                1.0  \n",
       "341               1.0                1.0  \n",
       "342               1.0                1.0  "
      ]
     },
     "execution_count": 42,
     "metadata": {},
     "output_type": "execute_result"
    }
   ],
   "source": [
    "df_rt_los.tail()"
   ]
  },
  {
   "cell_type": "code",
   "execution_count": 43,
   "id": "7b8bc237",
   "metadata": {
    "ExecuteTime": {
     "end_time": "2022-11-08T01:37:07.045970Z",
     "start_time": "2022-11-08T01:37:06.825150Z"
    }
   },
   "outputs": [
    {
     "data": {
      "image/png": "[encoded data removed]",
      "text/plain": [
       "<Figure size 720x360 with 2 Axes>"
      ]
     },
     "metadata": {
      "needs_background": "light"
     },
     "output_type": "display_data"
    }
   ],
   "source": [
    "plot_bar_cum_pct(df_rt_los, \n",
    "                 top_n=31, \n",
    "                 bar_data_col='num_searches', \n",
    "                 line_data_col='cum_pct_searches', \n",
    "                 order_col='stay_duration', \n",
    "                 x_label='stay duration (days)', \n",
    "                 what='Searches', \n",
    "                 plot_title='Priceline Markets - All Data - Search Volume by Stay Duration', \n",
    "                 file_name='plmad-los-srchs')\n"
   ]
  },
  {
   "cell_type": "code",
   "execution_count": 44,
   "id": "f555b9ec",
   "metadata": {
    "ExecuteTime": {
     "end_time": "2022-11-08T01:37:52.203783Z",
     "start_time": "2022-11-08T01:37:52.189969Z"
    }
   },
   "outputs": [
    {
     "name": "stdout",
     "output_type": "stream",
     "text": [
      "At 3 stay_duration:\n",
      "Cumulative % search volume: 19%\n",
      "% search volume: 10.3%\n",
      "\n",
      "At 7 stay_duration:\n",
      "Cumulative % search volume: 53%\n",
      "% search volume: 13.6%\n",
      "\n",
      "At 14 stay_duration:\n",
      "Cumulative % search volume: 74%\n",
      "% search volume: 5.0%\n",
      "\n",
      "At 21 stay_duration:\n",
      "Cumulative % search volume: 84%\n",
      "% search volume: 1.7%\n",
      "\n",
      "At 30 stay_duration:\n",
      "Cumulative % search volume: 91%\n",
      "% search volume: 0.8%\n",
      "\n"
     ]
    }
   ],
   "source": [
    "for num in [3, 7, 14, 21, 30]:\n",
    "    print_time_stats(df=df_rt_los,\n",
    "                     time_col='stay_duration',\n",
    "                     num=num,\n",
    "#                      individual_val_col=''\n",
    "                    )"
   ]
  },
  {
   "cell_type": "code",
   "execution_count": null,
   "id": "1a04d2b6",
   "metadata": {},
   "outputs": [],
   "source": []
  }
 ],
 "metadata": {
  "kernelspec": {
   "display_name": "Python 3 (ipykernel)",
   "language": "python",
   "name": "python3"
  },
  "language_info": {
   "codemirror_mode": {
    "name": "ipython",
    "version": 3
   },
   "file_extension": ".py",
   "mimetype": "text/x-python",
   "name": "python",
   "nbconvert_exporter": "python",
   "pygments_lexer": "ipython3",
   "version": "3.9.12"
  },
  "toc": {
   "base_numbering": 1,
   "nav_menu": {},
   "number_sections": true,
   "sideBar": true,
   "skip_h1_title": false,
   "title_cell": "Table of Contents",
   "title_sidebar": "Contents",
   "toc_cell": false,
   "toc_position": {
    "height": "calc(100% - 180px)",
    "left": "10px",
    "top": "150px",
    "width": "349.091px"
   },
   "toc_section_display": true,
   "toc_window_display": true
  },
  "varInspector": {
   "cols": {
    "lenName": 16,
    "lenType": 16,
    "lenVar": 40
   },
   "kernels_config": {
    "python": {
     "delete_cmd_postfix": "",
     "delete_cmd_prefix": "del ",
     "library": "var_list.py",
     "varRefreshCmd": "print(var_dic_list())"
    },
    "r": {
     "delete_cmd_postfix": ") ",
     "delete_cmd_prefix": "rm(",
     "library": "var_list.r",
     "varRefreshCmd": "cat(var_dic_list()) "
    }
   },
   "types_to_exclude": [
    "module",
    "function",
    "builtin_function_or_method",
    "instance",
    "_Feature"
   ],
   "window_display": false
  }
 },
 "nbformat": 4,
 "nbformat_minor": 5
}
