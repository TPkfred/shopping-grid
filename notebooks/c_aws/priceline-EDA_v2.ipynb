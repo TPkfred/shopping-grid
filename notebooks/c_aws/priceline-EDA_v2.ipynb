{
 "cells": [
  {
   "cell_type": "markdown",
   "id": "43cf67e2-fa9c-4be6-9b1d-28103a7389e1",
   "metadata": {},
   "source": [
    "Restrict to US "
   ]
  },
  {
   "cell_type": "code",
   "execution_count": 1,
   "id": "ca668760-905d-4b16-9aeb-2feeced869f4",
   "metadata": {
    "execution": {
     "iopub.execute_input": "2022-11-05T01:31:46.769195Z",
     "iopub.status.busy": "2022-11-05T01:31:46.768974Z",
     "iopub.status.idle": "2022-11-05T01:31:46.785442Z",
     "shell.execute_reply": "2022-11-05T01:31:46.784808Z",
     "shell.execute_reply.started": "2022-11-05T01:31:46.769172Z"
    },
    "tags": []
   },
   "outputs": [
    {
     "data": {
      "text/html": [
       "Current session configs: <tt>{'driverMemory': '20g', 'executorMemory': '8g', 'numExecutors': 5, 'executorCores': 8, 'conf': {'spark.yarn.executor.memoryOverhead': '2g'}, 'proxyUser': 'user_kendra_frederick_pn', 'kind': 'pyspark'}</tt><br>"
      ],
      "text/plain": [
       "<IPython.core.display.HTML object>"
      ]
     },
     "metadata": {},
     "output_type": "display_data"
    },
    {
     "data": {
      "text/html": [
       "No active sessions."
      ],
      "text/plain": [
       "<IPython.core.display.HTML object>"
      ]
     },
     "metadata": {},
     "output_type": "display_data"
    }
   ],
   "source": [
    "%%configure -f\n",
    "{\n",
    "    \"driverMemory\": \"20g\",\n",
    "    \"executorMemory\": \"8g\",\n",
    "    \"numExecutors\": 5,\n",
    "    \"executorCores\": 8,\n",
    "    \"conf\": \n",
    "        {\"spark.yarn.executor.memoryOverhead\":\"2g\"}\n",
    "    }"
   ]
  },
  {
   "cell_type": "code",
   "execution_count": 2,
   "id": "dbdb54e8-074a-4c4c-b31c-84245865121a",
   "metadata": {
    "execution": {
     "iopub.execute_input": "2022-11-05T01:31:46.802811Z",
     "iopub.status.busy": "2022-11-05T01:31:46.802587Z",
     "iopub.status.idle": "2022-11-05T01:32:09.662929Z",
     "shell.execute_reply": "2022-11-05T01:32:09.662159Z",
     "shell.execute_reply.started": "2022-11-05T01:31:46.802787Z"
    },
    "tags": []
   },
   "outputs": [
    {
     "data": {
      "application/vnd.jupyter.widget-view+json": {
       "model_id": "e5c9e42485914c64999b9ea50fa7d276",
       "version_major": 2,
       "version_minor": 0
      },
      "text/plain": [
       "VBox()"
      ]
     },
     "metadata": {},
     "output_type": "display_data"
    },
    {
     "name": "stdout",
     "output_type": "stream",
     "text": [
      "Starting Spark application\n"
     ]
    },
    {
     "data": {
      "text/html": [
       "<table>\n",
       "<tr><th>ID</th><th>YARN Application ID</th><th>Kind</th><th>State</th><th>Spark UI</th><th>Driver log</th><th>User</th><th>Current session?</th></tr><tr><td>1</td><td>application_1667605665011_0002</td><td>pyspark</td><td>idle</td><td><a target=\"_blank\" href=\"http://ip-172-31-14-35.ec2.internal:20888/proxy/application_1667605665011_0002/\" class=\"emr-proxy-link\" emr-resource=\"j-1JSJTG167MIRJ\n",
       "\" application-id=\"application_1667605665011_0002\">Link</a></td><td><a target=\"_blank\" href=\"http://ip-172-31-14-19.ec2.internal:8042/node/containerlogs/container_1667605665011_0002_01_000001/livy\" >Link</a></td><td>None</td><td>✔</td></tr></table>"
      ],
      "text/plain": [
       "<IPython.core.display.HTML object>"
      ]
     },
     "metadata": {},
     "output_type": "display_data"
    },
    {
     "data": {
      "application/vnd.jupyter.widget-view+json": {
       "model_id": "",
       "version_major": 2,
       "version_minor": 0
      },
      "text/plain": [
       "FloatProgress(value=0.0, bar_style='info', description='Progress:', layout=Layout(height='25px', width='50%'),…"
      ]
     },
     "metadata": {},
     "output_type": "display_data"
    },
    {
     "name": "stdout",
     "output_type": "stream",
     "text": [
      "SparkSession available as 'spark'.\n"
     ]
    },
    {
     "data": {
      "application/vnd.jupyter.widget-view+json": {
       "model_id": "",
       "version_major": 2,
       "version_minor": 0
      },
      "text/plain": [
       "FloatProgress(value=0.0, bar_style='info', description='Progress:', layout=Layout(height='25px', width='50%'),…"
      ]
     },
     "metadata": {},
     "output_type": "display_data"
    }
   ],
   "source": [
    "import datetime\n",
    "\n",
    "import pyspark.sql.functions as F\n",
    "import pyspark.sql.types as T \n",
    "from pyspark.sql.window import Window"
   ]
  },
  {
   "cell_type": "code",
   "execution_count": 3,
   "id": "f1fd2466-ac12-4720-acfb-95af2cc015d4",
   "metadata": {
    "execution": {
     "iopub.execute_input": "2022-11-05T01:32:09.664533Z",
     "iopub.status.busy": "2022-11-05T01:32:09.664275Z",
     "iopub.status.idle": "2022-11-05T01:32:12.964152Z",
     "shell.execute_reply": "2022-11-05T01:32:12.963467Z",
     "shell.execute_reply.started": "2022-11-05T01:32:09.664497Z"
    },
    "tags": []
   },
   "outputs": [
    {
     "data": {
      "application/vnd.jupyter.widget-view+json": {
       "model_id": "e468b34c6c0b45d1922c9cea8c21f121",
       "version_major": 2,
       "version_minor": 0
      },
      "text/plain": [
       "VBox()"
      ]
     },
     "metadata": {},
     "output_type": "display_data"
    },
    {
     "data": {
      "application/vnd.jupyter.widget-view+json": {
       "model_id": "",
       "version_major": 2,
       "version_minor": 0
      },
      "text/plain": [
       "FloatProgress(value=0.0, bar_style='info', description='Progress:', layout=Layout(height='25px', width='50%'),…"
      ]
     },
     "metadata": {},
     "output_type": "display_data"
    }
   ],
   "source": [
    "# bootstrapped libraries\n",
    "import pandas as pd\n",
    "import matplotlib.pyplot as plt\n",
    "import seaborn as sns\n",
    "from scipy import stats"
   ]
  },
  {
   "cell_type": "markdown",
   "id": "f8201b02-b044-4b25-b29e-b2adc5df7bb8",
   "metadata": {},
   "source": [
    "# the ask"
   ]
  },
  {
   "cell_type": "markdown",
   "id": "1f780a47-d4a1-4d8a-8271-41a09b830e3f",
   "metadata": {},
   "source": [
    "I think this is what is being asked:\n",
    "- coverage if we just look at Priceline\n",
    "    - of the markets Priceline serves, what is the num request, num solutoins\n",
    "- also look at:\n",
    "    - frequency of advanced purchases \"across the board\" (I take this to mean not just Priceline?)\n",
    "    - frequency of stay durations\n",
    "- OK to limit to US for now"
   ]
  },
  {
   "cell_type": "code",
   "execution_count": 4,
   "id": "2804d5f3-80c7-4d3b-9f47-ebfbd45bfc1a",
   "metadata": {
    "execution": {
     "iopub.execute_input": "2022-11-05T01:32:39.497518Z",
     "iopub.status.busy": "2022-11-05T01:32:39.497262Z",
     "iopub.status.idle": "2022-11-05T01:32:49.057857Z",
     "shell.execute_reply": "2022-11-05T01:32:49.057272Z",
     "shell.execute_reply.started": "2022-11-05T01:32:39.497488Z"
    },
    "tags": []
   },
   "outputs": [
    {
     "data": {
      "application/vnd.jupyter.widget-view+json": {
       "model_id": "bcb458baf2ca4140bcaee374b9ec3910",
       "version_major": 2,
       "version_minor": 0
      },
      "text/plain": [
       "VBox()"
      ]
     },
     "metadata": {},
     "output_type": "display_data"
    },
    {
     "data": {
      "application/vnd.jupyter.widget-view+json": {
       "model_id": "",
       "version_major": 2,
       "version_minor": 0
      },
      "text/plain": [
       "FloatProgress(value=0.0, bar_style='info', description='Progress:', layout=Layout(height='25px', width='50%'),…"
      ]
     },
     "metadata": {},
     "output_type": "display_data"
    }
   ],
   "source": [
    "AIRPORT_LOOKUP_PATH = \"s3://tvlp-ds-users/kendra-frederick/reference-data/AIRPORT.CSV\"\n",
    "airport_df = spark.read.option(\"header\", \"true\").csv(AIRPORT_LOOKUP_PATH)\n",
    "\n",
    "pl_pccs_df = spark.read.csv(\"s3://tvlp-ds-users/kendra-frederick/reference-data/priceline_PCCs_for_kendra.csv\", header=True)"
   ]
  },
  {
   "cell_type": "code",
   "execution_count": 14,
   "id": "5a904605-2a63-4a4a-8f1f-ca330e0e0d38",
   "metadata": {
    "collapsed": true,
    "execution": {
     "iopub.execute_input": "2022-11-04T19:19:05.497927Z",
     "iopub.status.busy": "2022-11-04T19:19:05.496254Z",
     "iopub.status.idle": "2022-11-04T19:19:06.309846Z",
     "shell.execute_reply": "2022-11-04T19:19:06.309154Z",
     "shell.execute_reply.started": "2022-11-04T19:19:05.497898Z"
    },
    "jupyter": {
     "outputs_hidden": true
    },
    "tags": []
   },
   "outputs": [
    {
     "data": {
      "application/vnd.jupyter.widget-view+json": {
       "model_id": "186f53acc8b8479bacc675a63fd4f581",
       "version_major": 2,
       "version_minor": 0
      },
      "text/plain": [
       "VBox()"
      ]
     },
     "metadata": {},
     "output_type": "display_data"
    },
    {
     "data": {
      "application/vnd.jupyter.widget-view+json": {
       "model_id": "",
       "version_major": 2,
       "version_minor": 0
      },
      "text/plain": [
       "FloatProgress(value=0.0, bar_style='info', description='Progress:', layout=Layout(height='25px', width='50%'),…"
      ]
     },
     "metadata": {},
     "output_type": "display_data"
    },
    {
     "name": "stdout",
     "output_type": "stream",
     "text": [
      "+-----+---+-------+----+-------+----------------------+--------------------+-----------------------+------------------------+----------------+--------------------------+----------------+\n",
      "|  Obs|CRS|CRS_PCC| PCC|   IATA|Branch_Customer_Number|       Agency_Branch|Agency_National_Account|Raw_Master_Customer_Name|Raw_Country_Code|Raw_Master_Customer_Number|Raw_Country_Name|\n",
      "+-----+---+-------+----+-------+----------------------+--------------------+-----------------------+------------------------+----------------+--------------------------+----------------+\n",
      "|11679| 1G|1G_5RD7|5RD7| 236466|                625917|Cvfr Consolidatio...|          Priceline.Com|           Priceline.Com|              US|                    624055|   United States|\n",
      "|29855| 1G| 1G_4D6| 4D6|3430106|                622919|Richmond Intl Trv...|          Priceline.Com|           Priceline.Com|              US|                    624055|   United States|\n",
      "|30856| 1G|1G_7E8M|7E8M|1633544|                625030|     Priceline/Japan|          Priceline.Com|           Priceline.Com|              US|                    624055|   United States|\n",
      "|34225| 1P| 1P_CTJ| CTJ| 750854|                181581|       Priceline.Com|          Priceline.Com|           Priceline.Com|              US|                    198242|   United States|\n",
      "|34362| 1G|1G_5E5U|5E5U|1434537|                634746|     Priceline India|          Priceline.Com|           Priceline.Com|              US|                    624055|   United States|\n",
      "+-----+---+-------+----+-------+----------------------+--------------------+-----------------------+------------------------+----------------+--------------------------+----------------+\n",
      "only showing top 5 rows"
     ]
    }
   ],
   "source": [
    "# pl_pccs_df.show(5)"
   ]
  },
  {
   "cell_type": "markdown",
   "id": "fb76970f-e589-40ac-ac9f-6fac21c03ccc",
   "metadata": {},
   "source": [
    "# load data"
   ]
  },
  {
   "cell_type": "code",
   "execution_count": 5,
   "id": "ec110c3a-1c61-45bc-94a1-15a23dd4cb79",
   "metadata": {
    "execution": {
     "iopub.execute_input": "2022-11-05T01:32:49.059385Z",
     "iopub.status.busy": "2022-11-05T01:32:49.059006Z",
     "iopub.status.idle": "2022-11-05T01:32:52.347288Z",
     "shell.execute_reply": "2022-11-05T01:32:52.346672Z",
     "shell.execute_reply.started": "2022-11-05T01:32:49.059348Z"
    },
    "tags": []
   },
   "outputs": [
    {
     "data": {
      "application/vnd.jupyter.widget-view+json": {
       "model_id": "f2ca0f6c692c4a45b9ac6c4446a73af1",
       "version_major": 2,
       "version_minor": 0
      },
      "text/plain": [
       "VBox()"
      ]
     },
     "metadata": {},
     "output_type": "display_data"
    },
    {
     "data": {
      "application/vnd.jupyter.widget-view+json": {
       "model_id": "",
       "version_major": 2,
       "version_minor": 0
      },
      "text/plain": [
       "FloatProgress(value=0.0, bar_style='info', description='Progress:', layout=Layout(height='25px', width='50%'),…"
      ]
     },
     "metadata": {},
     "output_type": "display_data"
    }
   ],
   "source": [
    "BASE_DATA_DIR = \"s3://tvlp-ds-air-shopping-pn/v1_5\"\n",
    "\n",
    "# take just an hour's worth of data for now\n",
    "date = datetime.date(2022,11,1)\n",
    "hour = 11\n",
    "date_str = date.strftime(\"%Y%m%d\")\n",
    "\n",
    "input_path = \"{}/year={}/month={}/day={}/hour={:02d}/\".format(BASE_DATA_DIR, date.year, date.month, date_str, hour)\n",
    "\n",
    "df = spark.read.parquet(input_path)"
   ]
  },
  {
   "cell_type": "code",
   "execution_count": null,
   "id": "68cf1370-57d7-4bd7-b332-ff374783767f",
   "metadata": {},
   "outputs": [],
   "source": [
    "# # restrict to round-trips and/or one-ways\n",
    "# cond_rt = (((F.col(\"out_origin_airport\") == F.col(\"in_destination_airport\")) &\n",
    "#         (F.col(\"out_destination_airport\") == F.col(\"in_origin_airport\"))))\n",
    "# cond_ow = ((F.col(\"in_origin_airport\").isNull()) & (F.col(\"in_destination_airport\").isNull()))\n",
    "\n",
    "# df_filt = df_raw.filter(cond_rt | cond_ow)\n",
    "# df_filt = df_filt.withColumn(\"round_trip\", \n",
    "#     F.when(cond_rt, 1).otherwise(0))"
   ]
  },
  {
   "cell_type": "code",
   "execution_count": 6,
   "id": "a04250ae-dc8c-485a-8536-c6079ed94129",
   "metadata": {
    "execution": {
     "iopub.execute_input": "2022-11-05T01:32:52.348536Z",
     "iopub.status.busy": "2022-11-05T01:32:52.348359Z",
     "iopub.status.idle": "2022-11-05T01:33:01.696823Z",
     "shell.execute_reply": "2022-11-05T01:33:01.696175Z",
     "shell.execute_reply.started": "2022-11-05T01:32:52.348514Z"
    },
    "tags": []
   },
   "outputs": [
    {
     "data": {
      "application/vnd.jupyter.widget-view+json": {
       "model_id": "7780776290b34dbdafe8dcff975a1614",
       "version_major": 2,
       "version_minor": 0
      },
      "text/plain": [
       "VBox()"
      ]
     },
     "metadata": {},
     "output_type": "display_data"
    },
    {
     "data": {
      "application/vnd.jupyter.widget-view+json": {
       "model_id": "",
       "version_major": 2,
       "version_minor": 0
      },
      "text/plain": [
       "FloatProgress(value=0.0, bar_style='info', description='Progress:', layout=Layout(height='25px', width='50%'),…"
      ]
     },
     "metadata": {},
     "output_type": "display_data"
    }
   ],
   "source": [
    "c_all = df.count()"
   ]
  },
  {
   "cell_type": "code",
   "execution_count": 7,
   "id": "8554aee3-468b-48c0-a932-b964687efb08",
   "metadata": {
    "execution": {
     "iopub.execute_input": "2022-11-05T01:33:01.698447Z",
     "iopub.status.busy": "2022-11-05T01:33:01.698197Z",
     "iopub.status.idle": "2022-11-05T01:33:01.961343Z",
     "shell.execute_reply": "2022-11-05T01:33:01.960737Z",
     "shell.execute_reply.started": "2022-11-05T01:33:01.698413Z"
    },
    "tags": []
   },
   "outputs": [
    {
     "data": {
      "application/vnd.jupyter.widget-view+json": {
       "model_id": "98132956f8ca43fe8af6291bf2a93bf9",
       "version_major": 2,
       "version_minor": 0
      },
      "text/plain": [
       "VBox()"
      ]
     },
     "metadata": {},
     "output_type": "display_data"
    },
    {
     "data": {
      "application/vnd.jupyter.widget-view+json": {
       "model_id": "",
       "version_major": 2,
       "version_minor": 0
      },
      "text/plain": [
       "FloatProgress(value=0.0, bar_style='info', description='Progress:', layout=Layout(height='25px', width='50%'),…"
      ]
     },
     "metadata": {},
     "output_type": "display_data"
    }
   ],
   "source": [
    "# restrict to US for now\n",
    "pos = 'US'\n",
    "currency = 'USD'\n",
    "df = df.filter(\n",
    "        (F.col(\"point_of_sale\") == pos) & (F.col(\"currency\") == currency)\n",
    "    )"
   ]
  },
  {
   "cell_type": "code",
   "execution_count": 12,
   "id": "4621a5f0-929a-461d-b143-f582c186c74d",
   "metadata": {
    "execution": {
     "iopub.execute_input": "2022-11-04T19:40:31.699931Z",
     "iopub.status.busy": "2022-11-04T19:40:31.699765Z",
     "iopub.status.idle": "2022-11-04T19:41:11.286829Z",
     "shell.execute_reply": "2022-11-04T19:41:11.286086Z",
     "shell.execute_reply.started": "2022-11-04T19:40:31.699909Z"
    }
   },
   "outputs": [
    {
     "data": {
      "application/vnd.jupyter.widget-view+json": {
       "model_id": "",
       "version_major": 2,
       "version_minor": 0
      },
      "text/plain": [
       "VBox()"
      ]
     },
     "metadata": {},
     "output_type": "display_data"
    },
    {
     "data": {
      "application/vnd.jupyter.widget-view+json": {
       "model_id": "",
       "version_major": 2,
       "version_minor": 0
      },
      "text/plain": [
       "FloatProgress(value=0.0, bar_style='info', description='Progress:', layout=Layout(height='25px', width='50%'),…"
      ]
     },
     "metadata": {},
     "output_type": "display_data"
    }
   ],
   "source": [
    "# poorly named variable\n",
    "# c0 = df.count()"
   ]
  },
  {
   "cell_type": "code",
   "execution_count": 13,
   "id": "6078af18-ba08-4ce7-aed1-05dc4bf9fb21",
   "metadata": {
    "execution": {
     "iopub.execute_input": "2022-11-04T19:41:11.287873Z",
     "iopub.status.busy": "2022-11-04T19:41:11.287708Z",
     "iopub.status.idle": "2022-11-04T19:41:11.349938Z",
     "shell.execute_reply": "2022-11-04T19:41:11.349369Z",
     "shell.execute_reply.started": "2022-11-04T19:41:11.287850Z"
    }
   },
   "outputs": [
    {
     "data": {
      "application/vnd.jupyter.widget-view+json": {
       "model_id": "",
       "version_major": 2,
       "version_minor": 0
      },
      "text/plain": [
       "VBox()"
      ]
     },
     "metadata": {},
     "output_type": "display_data"
    },
    {
     "data": {
      "application/vnd.jupyter.widget-view+json": {
       "model_id": "",
       "version_major": 2,
       "version_minor": 0
      },
      "text/plain": [
       "FloatProgress(value=0.0, bar_style='info', description='Progress:', layout=Layout(height='25px', width='50%'),…"
      ]
     },
     "metadata": {},
     "output_type": "display_data"
    },
    {
     "name": "stdout",
     "output_type": "stream",
     "text": [
      "(282163174, 0.10063777940258582)"
     ]
    }
   ],
   "source": [
    "# c0, c0/c_all"
   ]
  },
  {
   "cell_type": "code",
   "execution_count": 8,
   "id": "dcd3fb13-e2a8-4014-aac9-a4c28f382f5c",
   "metadata": {
    "execution": {
     "iopub.execute_input": "2022-11-05T01:33:01.962698Z",
     "iopub.status.busy": "2022-11-05T01:33:01.962451Z",
     "iopub.status.idle": "2022-11-05T01:33:02.225659Z",
     "shell.execute_reply": "2022-11-05T01:33:02.224918Z",
     "shell.execute_reply.started": "2022-11-05T01:33:01.962663Z"
    },
    "tags": []
   },
   "outputs": [
    {
     "data": {
      "application/vnd.jupyter.widget-view+json": {
       "model_id": "4b48eeec9fa44fe0a1bd71f008b0fd5c",
       "version_major": 2,
       "version_minor": 0
      },
      "text/plain": [
       "VBox()"
      ]
     },
     "metadata": {},
     "output_type": "display_data"
    },
    {
     "data": {
      "application/vnd.jupyter.widget-view+json": {
       "model_id": "",
       "version_major": 2,
       "version_minor": 0
      },
      "text/plain": [
       "FloatProgress(value=0.0, bar_style='info', description='Progress:', layout=Layout(height='25px', width='50%'),…"
      ]
     },
     "metadata": {},
     "output_type": "display_data"
    }
   ],
   "source": [
    "df = (df\n",
    "                .join(\n",
    "                    airport_df.select('airport_code', 'country_code'),\n",
    "                    on=[df['out_origin_city'] == airport_df['airport_code']])\n",
    "                .withColumnRenamed(\"country_code\", \"origin_country\")\n",
    "                .drop(\"airport_code\")\n",
    "            )\n",
    "df = (df\n",
    "            .join(\n",
    "                airport_df.select('airport_code', 'country_code'),\n",
    "                on=[df['out_destination_city'] == airport_df['airport_code']])\n",
    "            .withColumnRenamed(\"country_code\", \"destination_country\")\n",
    "            .drop(\"airport_code\")\n",
    "        )\n",
    "\n",
    "# filter on O or D in POS\n",
    "df = df.filter(\n",
    "        (F.col('origin_country') == pos) | (F.col(\"destination_country\") == pos)\n",
    "    )"
   ]
  },
  {
   "cell_type": "code",
   "execution_count": 9,
   "id": "fabee215-eccc-4ccd-bac5-4f8244c1c3f1",
   "metadata": {
    "execution": {
     "iopub.execute_input": "2022-11-05T00:01:36.866183Z",
     "iopub.status.busy": "2022-11-05T00:01:36.865688Z",
     "iopub.status.idle": "2022-11-05T00:02:16.362712Z",
     "shell.execute_reply": "2022-11-05T00:02:16.361333Z",
     "shell.execute_reply.started": "2022-11-05T00:01:36.866146Z"
    },
    "tags": []
   },
   "outputs": [
    {
     "data": {
      "application/vnd.jupyter.widget-view+json": {
       "model_id": "5519f563c30342a385b651ec487ac911",
       "version_major": 2,
       "version_minor": 0
      },
      "text/plain": [
       "VBox()"
      ]
     },
     "metadata": {},
     "output_type": "display_data"
    },
    {
     "data": {
      "application/vnd.jupyter.widget-view+json": {
       "model_id": "",
       "version_major": 2,
       "version_minor": 0
      },
      "text/plain": [
       "FloatProgress(value=0.0, bar_style='info', description='Progress:', layout=Layout(height='25px', width='50%'),…"
      ]
     },
     "metadata": {},
     "output_type": "display_data"
    },
    {
     "name": "stdout",
     "output_type": "stream",
     "text": [
      "(181965041, 0.06490059420419081)"
     ]
    }
   ],
   "source": [
    "c0 = df.count()\n",
    "c0, c0/c_all"
   ]
  },
  {
   "cell_type": "code",
   "execution_count": 10,
   "id": "77adb372-d611-4ce6-9e96-7092182adec1",
   "metadata": {
    "execution": {
     "iopub.execute_input": "2022-11-05T00:02:16.364291Z",
     "iopub.status.busy": "2022-11-05T00:02:16.364031Z",
     "iopub.status.idle": "2022-11-05T00:02:16.474979Z",
     "shell.execute_reply": "2022-11-05T00:02:16.474205Z",
     "shell.execute_reply.started": "2022-11-05T00:02:16.364255Z"
    },
    "tags": []
   },
   "outputs": [
    {
     "data": {
      "application/vnd.jupyter.widget-view+json": {
       "model_id": "2d5f459322044e7d94f98c61351acc81",
       "version_major": 2,
       "version_minor": 0
      },
      "text/plain": [
       "VBox()"
      ]
     },
     "metadata": {},
     "output_type": "display_data"
    },
    {
     "data": {
      "application/vnd.jupyter.widget-view+json": {
       "model_id": "",
       "version_major": 2,
       "version_minor": 0
      },
      "text/plain": [
       "FloatProgress(value=0.0, bar_style='info', description='Progress:', layout=Layout(height='25px', width='50%'),…"
      ]
     },
     "metadata": {},
     "output_type": "display_data"
    }
   ],
   "source": [
    "c_all_us = c0"
   ]
  },
  {
   "cell_type": "code",
   "execution_count": 9,
   "id": "aea4270f-b0a1-4c05-80ce-5351ddeaaa3a",
   "metadata": {
    "execution": {
     "iopub.execute_input": "2022-11-05T01:33:02.227477Z",
     "iopub.status.busy": "2022-11-05T01:33:02.227215Z",
     "iopub.status.idle": "2022-11-05T01:33:02.494650Z",
     "shell.execute_reply": "2022-11-05T01:33:02.494014Z",
     "shell.execute_reply.started": "2022-11-05T01:33:02.227440Z"
    },
    "tags": []
   },
   "outputs": [
    {
     "data": {
      "application/vnd.jupyter.widget-view+json": {
       "model_id": "a12d48ed24894065a2574318d7279591",
       "version_major": 2,
       "version_minor": 0
      },
      "text/plain": [
       "VBox()"
      ]
     },
     "metadata": {},
     "output_type": "display_data"
    },
    {
     "data": {
      "application/vnd.jupyter.widget-view+json": {
       "model_id": "",
       "version_major": 2,
       "version_minor": 0
      },
      "text/plain": [
       "FloatProgress(value=0.0, bar_style='info', description='Progress:', layout=Layout(height='25px', width='50%'),…"
      ]
     },
     "metadata": {},
     "output_type": "display_data"
    }
   ],
   "source": [
    "# add columns to assist with joining and grouping\n",
    "df = (df\n",
    "      .withColumn(\"market\", F.concat_ws(\"-\", F.col(\"out_origin_airport\"), F.col(\"out_destination_airport\")))\n",
    "      .withColumn(\"gds_pcc\", F.concat_ws(\"_\", F.col(\"gds\"), F.col(\"pcc\")))\n",
    "     )"
   ]
  },
  {
   "cell_type": "code",
   "execution_count": 11,
   "id": "64631df3-6974-43e0-98e1-4835c1029470",
   "metadata": {
    "execution": {
     "iopub.execute_input": "2022-11-05T01:33:41.828977Z",
     "iopub.status.busy": "2022-11-05T01:33:41.828749Z",
     "iopub.status.idle": "2022-11-05T01:34:19.234493Z",
     "shell.execute_reply": "2022-11-05T01:34:19.233741Z",
     "shell.execute_reply.started": "2022-11-05T01:33:41.828954Z"
    },
    "tags": []
   },
   "outputs": [
    {
     "data": {
      "application/vnd.jupyter.widget-view+json": {
       "model_id": "507920e1f6e54270ac73823405cd2e3d",
       "version_major": 2,
       "version_minor": 0
      },
      "text/plain": [
       "VBox()"
      ]
     },
     "metadata": {},
     "output_type": "display_data"
    },
    {
     "data": {
      "application/vnd.jupyter.widget-view+json": {
       "model_id": "",
       "version_major": 2,
       "version_minor": 0
      },
      "text/plain": [
       "FloatProgress(value=0.0, bar_style='info', description='Progress:', layout=Layout(height='25px', width='50%'),…"
      ]
     },
     "metadata": {},
     "output_type": "display_data"
    },
    {
     "name": "stdout",
     "output_type": "stream",
     "text": [
      "41091462"
     ]
    }
   ],
   "source": [
    "# filter on Priceline PCCs\n",
    "df_pl = df.join(pl_pccs_df.select('CRS_PCC'), on=[df['gds_pcc'] == pl_pccs_df['CRS_PCC']])\n",
    "\n",
    "# num solutions from Priceline PCCs\n",
    "c_pl = df_pl.count()\n",
    "c_pl"
   ]
  },
  {
   "cell_type": "code",
   "execution_count": 13,
   "id": "b199da15-d205-4a0b-8cfa-e023c82da0a1",
   "metadata": {
    "execution": {
     "iopub.execute_input": "2022-11-05T01:34:54.153483Z",
     "iopub.status.busy": "2022-11-05T01:34:54.153214Z",
     "iopub.status.idle": "2022-11-05T01:34:54.208968Z",
     "shell.execute_reply": "2022-11-05T01:34:54.208283Z",
     "shell.execute_reply.started": "2022-11-05T01:34:54.153455Z"
    },
    "tags": []
   },
   "outputs": [
    {
     "data": {
      "application/vnd.jupyter.widget-view+json": {
       "model_id": "141bb91ecc104dc0ae8ccf2e6c2e7045",
       "version_major": 2,
       "version_minor": 0
      },
      "text/plain": [
       "VBox()"
      ]
     },
     "metadata": {},
     "output_type": "display_data"
    },
    {
     "data": {
      "application/vnd.jupyter.widget-view+json": {
       "model_id": "",
       "version_major": 2,
       "version_minor": 0
      },
      "text/plain": [
       "FloatProgress(value=0.0, bar_style='info', description='Progress:', layout=Layout(height='25px', width='50%'),…"
      ]
     },
     "metadata": {},
     "output_type": "display_data"
    },
    {
     "name": "stdout",
     "output_type": "stream",
     "text": [
      "0.2258206399107178"
     ]
    }
   ],
   "source": [
    "# c_pl / c0\n",
    "c_pl / 181965041"
   ]
  },
  {
   "cell_type": "code",
   "execution_count": 84,
   "id": "e141f1e6-25a7-483b-b8f9-ceffeb003c02",
   "metadata": {
    "execution": {
     "iopub.execute_input": "2022-11-05T01:29:12.001528Z",
     "iopub.status.busy": "2022-11-05T01:29:12.001316Z",
     "iopub.status.idle": "2022-11-05T01:29:12.057571Z",
     "shell.execute_reply": "2022-11-05T01:29:12.056962Z",
     "shell.execute_reply.started": "2022-11-05T01:29:12.001505Z"
    }
   },
   "outputs": [
    {
     "data": {
      "application/vnd.jupyter.widget-view+json": {
       "model_id": "",
       "version_major": 2,
       "version_minor": 0
      },
      "text/plain": [
       "VBox()"
      ]
     },
     "metadata": {},
     "output_type": "display_data"
    },
    {
     "data": {
      "application/vnd.jupyter.widget-view+json": {
       "model_id": "",
       "version_major": 2,
       "version_minor": 0
      },
      "text/plain": [
       "FloatProgress(value=0.0, bar_style='info', description='Progress:', layout=Layout(height='25px', width='50%'),…"
      ]
     },
     "metadata": {},
     "output_type": "display_data"
    },
    {
     "name": "stdout",
     "output_type": "stream",
     "text": [
      "181965041"
     ]
    }
   ],
   "source": [
    "c0"
   ]
  },
  {
   "cell_type": "code",
   "execution_count": 12,
   "id": "eb8e1c58-cbf3-44cf-abaa-5b78bf591a4d",
   "metadata": {
    "execution": {
     "iopub.execute_input": "2022-11-05T00:02:16.896553Z",
     "iopub.status.busy": "2022-11-05T00:02:16.896378Z",
     "iopub.status.idle": "2022-11-05T00:02:17.680441Z",
     "shell.execute_reply": "2022-11-05T00:02:17.679705Z",
     "shell.execute_reply.started": "2022-11-05T00:02:16.896521Z"
    },
    "tags": []
   },
   "outputs": [
    {
     "data": {
      "application/vnd.jupyter.widget-view+json": {
       "model_id": "61854a88eb3a4d7ab97ae28fb5076aea",
       "version_major": 2,
       "version_minor": 0
      },
      "text/plain": [
       "VBox()"
      ]
     },
     "metadata": {},
     "output_type": "display_data"
    },
    {
     "data": {
      "application/vnd.jupyter.widget-view+json": {
       "model_id": "",
       "version_major": 2,
       "version_minor": 0
      },
      "text/plain": [
       "FloatProgress(value=0.0, bar_style='info', description='Progress:', layout=Layout(height='25px', width='50%'),…"
      ]
     },
     "metadata": {},
     "output_type": "display_data"
    }
   ],
   "source": [
    "pl_markets = df_pl.select(\"market\").distinct()\n",
    "df_pl_markets = df.join(pl_markets, on=\"market\")"
   ]
  },
  {
   "cell_type": "code",
   "execution_count": 13,
   "id": "622a0e66-71f3-4182-9a97-fb5e8b8b0f6f",
   "metadata": {
    "execution": {
     "iopub.execute_input": "2022-11-05T00:02:17.681921Z",
     "iopub.status.busy": "2022-11-05T00:02:17.681731Z",
     "iopub.status.idle": "2022-11-05T00:04:25.602794Z",
     "shell.execute_reply": "2022-11-05T00:04:25.602202Z",
     "shell.execute_reply.started": "2022-11-05T00:02:17.681890Z"
    },
    "tags": []
   },
   "outputs": [
    {
     "data": {
      "application/vnd.jupyter.widget-view+json": {
       "model_id": "2b8b08dbb182408dbc27f8b668a74c28",
       "version_major": 2,
       "version_minor": 0
      },
      "text/plain": [
       "VBox()"
      ]
     },
     "metadata": {},
     "output_type": "display_data"
    },
    {
     "data": {
      "application/vnd.jupyter.widget-view+json": {
       "model_id": "",
       "version_major": 2,
       "version_minor": 0
      },
      "text/plain": [
       "FloatProgress(value=0.0, bar_style='info', description='Progress:', layout=Layout(height='25px', width='50%'),…"
      ]
     },
     "metadata": {},
     "output_type": "display_data"
    }
   ],
   "source": [
    "m0 = df.select(\"market\").distinct().count()\n",
    "m2 = pl_markets.count()\n",
    "c2 = df_pl_markets.count()"
   ]
  },
  {
   "cell_type": "code",
   "execution_count": 14,
   "id": "0f235196-683d-4eca-a81d-e04d1542b3db",
   "metadata": {
    "execution": {
     "iopub.execute_input": "2022-11-05T00:04:25.603981Z",
     "iopub.status.busy": "2022-11-05T00:04:25.603783Z",
     "iopub.status.idle": "2022-11-05T00:04:25.676124Z",
     "shell.execute_reply": "2022-11-05T00:04:25.675430Z",
     "shell.execute_reply.started": "2022-11-05T00:04:25.603955Z"
    },
    "tags": []
   },
   "outputs": [
    {
     "data": {
      "application/vnd.jupyter.widget-view+json": {
       "model_id": "559dfb5a80974132b9140d1365b08f51",
       "version_major": 2,
       "version_minor": 0
      },
      "text/plain": [
       "VBox()"
      ]
     },
     "metadata": {},
     "output_type": "display_data"
    },
    {
     "data": {
      "application/vnd.jupyter.widget-view+json": {
       "model_id": "",
       "version_major": 2,
       "version_minor": 0
      },
      "text/plain": [
       "FloatProgress(value=0.0, bar_style='info', description='Progress:', layout=Layout(height='25px', width='50%'),…"
      ]
     },
     "metadata": {},
     "output_type": "display_data"
    },
    {
     "name": "stdout",
     "output_type": "stream",
     "text": [
      "(21325, 39283, 168629060, 0.9267113016505187)"
     ]
    }
   ],
   "source": [
    "m2, m0, c2, c2/c_all_us"
   ]
  },
  {
   "cell_type": "code",
   "execution_count": 15,
   "id": "12f2f330-e6ed-4f46-afdb-5f57ae571eb5",
   "metadata": {
    "execution": {
     "iopub.execute_input": "2022-11-05T00:04:25.677732Z",
     "iopub.status.busy": "2022-11-05T00:04:25.677311Z",
     "iopub.status.idle": "2022-11-05T00:04:25.753463Z",
     "shell.execute_reply": "2022-11-05T00:04:25.752739Z",
     "shell.execute_reply.started": "2022-11-05T00:04:25.677695Z"
    },
    "tags": []
   },
   "outputs": [
    {
     "data": {
      "application/vnd.jupyter.widget-view+json": {
       "model_id": "dc4024cfce574284911ef6a35d0058eb",
       "version_major": 2,
       "version_minor": 0
      },
      "text/plain": [
       "VBox()"
      ]
     },
     "metadata": {},
     "output_type": "display_data"
    },
    {
     "data": {
      "application/vnd.jupyter.widget-view+json": {
       "model_id": "",
       "version_major": 2,
       "version_minor": 0
      },
      "text/plain": [
       "FloatProgress(value=0.0, bar_style='info', description='Progress:', layout=Layout(height='25px', width='50%'),…"
      ]
     },
     "metadata": {},
     "output_type": "display_data"
    },
    {
     "name": "stdout",
     "output_type": "stream",
     "text": [
      "0.5428556882111855"
     ]
    }
   ],
   "source": [
    "m2/ m0"
   ]
  },
  {
   "cell_type": "markdown",
   "id": "fcb513c2-f6ab-4539-8157-27b6b1a1ee34",
   "metadata": {},
   "source": [
    "Numbers-wise, we appear to have good coverage"
   ]
  },
  {
   "cell_type": "markdown",
   "id": "6bf88b14-9649-4a77-9418-00e65c04a2f7",
   "metadata": {},
   "source": [
    "This also answers: overall market size"
   ]
  },
  {
   "cell_type": "markdown",
   "id": "21c95dce-2881-46da-8382-4133497922bc",
   "metadata": {},
   "source": [
    "# \"coverage\"\n",
    "For markets served by Priceline:\n",
    "- num requests, num solutions"
   ]
  },
  {
   "cell_type": "code",
   "execution_count": 14,
   "id": "91fd648e-e672-4dd5-94bf-0e010b80309d",
   "metadata": {
    "execution": {
     "iopub.execute_input": "2022-11-05T01:35:24.419309Z",
     "iopub.status.busy": "2022-11-05T01:35:24.419085Z",
     "iopub.status.idle": "2022-11-05T01:35:24.479911Z",
     "shell.execute_reply": "2022-11-05T01:35:24.479083Z",
     "shell.execute_reply.started": "2022-11-05T01:35:24.419286Z"
    },
    "tags": []
   },
   "outputs": [
    {
     "data": {
      "application/vnd.jupyter.widget-view+json": {
       "model_id": "174167327c1d4a73bf357e9d8b223e7d",
       "version_major": 2,
       "version_minor": 0
      },
      "text/plain": [
       "VBox()"
      ]
     },
     "metadata": {},
     "output_type": "display_data"
    },
    {
     "data": {
      "application/vnd.jupyter.widget-view+json": {
       "model_id": "",
       "version_major": 2,
       "version_minor": 0
      },
      "text/plain": [
       "FloatProgress(value=0.0, bar_style='info', description='Progress:', layout=Layout(height='25px', width='50%'),…"
      ]
     },
     "metadata": {},
     "output_type": "display_data"
    }
   ],
   "source": [
    "uniq_key_cols = [\"id\", \"originalRequest\", \"shop_req_timeStamp\", \"gds\", \"pcc\"]"
   ]
  },
  {
   "cell_type": "code",
   "execution_count": 17,
   "id": "a55e603d-3a47-4ed7-b9fe-f8993c6af70b",
   "metadata": {
    "execution": {
     "iopub.execute_input": "2022-11-05T00:04:42.423697Z",
     "iopub.status.busy": "2022-11-05T00:04:42.423460Z",
     "iopub.status.idle": "2022-11-05T00:06:34.143090Z",
     "shell.execute_reply": "2022-11-05T00:06:34.142360Z",
     "shell.execute_reply.started": "2022-11-05T00:04:42.423672Z"
    }
   },
   "outputs": [
    {
     "data": {
      "application/vnd.jupyter.widget-view+json": {
       "model_id": "a7fdaab2de2c44b1a9f2e67558ce09f5",
       "version_major": 2,
       "version_minor": 0
      },
      "text/plain": [
       "VBox()"
      ]
     },
     "metadata": {},
     "output_type": "display_data"
    },
    {
     "data": {
      "application/vnd.jupyter.widget-view+json": {
       "model_id": "",
       "version_major": 2,
       "version_minor": 0
      },
      "text/plain": [
       "FloatProgress(value=0.0, bar_style='info', description='Progress:', layout=Layout(height='25px', width='50%'),…"
      ]
     },
     "metadata": {},
     "output_type": "display_data"
    },
    {
     "name": "stdout",
     "output_type": "stream",
     "text": [
      "(775933, 702292)"
     ]
    }
   ],
   "source": [
    "srch_0 = df.select(uniq_key_cols).distinct().count()\n",
    "srch_pl_m = df_pl_markets.select(uniq_key_cols).distinct().count()\n",
    "srch_0, srch_pl_m"
   ]
  },
  {
   "cell_type": "code",
   "execution_count": 18,
   "id": "e8b0a9d9-7e78-45f5-86a2-1d06ab53aa9b",
   "metadata": {
    "execution": {
     "iopub.execute_input": "2022-11-05T00:10:37.874712Z",
     "iopub.status.busy": "2022-11-05T00:10:37.874480Z",
     "iopub.status.idle": "2022-11-05T00:10:37.931320Z",
     "shell.execute_reply": "2022-11-05T00:10:37.930595Z",
     "shell.execute_reply.started": "2022-11-05T00:10:37.874689Z"
    }
   },
   "outputs": [
    {
     "data": {
      "application/vnd.jupyter.widget-view+json": {
       "model_id": "",
       "version_major": 2,
       "version_minor": 0
      },
      "text/plain": [
       "VBox()"
      ]
     },
     "metadata": {},
     "output_type": "display_data"
    },
    {
     "data": {
      "application/vnd.jupyter.widget-view+json": {
       "model_id": "",
       "version_major": 2,
       "version_minor": 0
      },
      "text/plain": [
       "FloatProgress(value=0.0, bar_style='info', description='Progress:', layout=Layout(height='25px', width='50%'),…"
      ]
     },
     "metadata": {},
     "output_type": "display_data"
    },
    {
     "name": "stdout",
     "output_type": "stream",
     "text": [
      "0.9050936098864206"
     ]
    }
   ],
   "source": [
    "srch_pl_m/srch_0"
   ]
  },
  {
   "cell_type": "code",
   "execution_count": 19,
   "id": "c29e7a01-a2f6-49bb-b06d-ef9e0eae9c6a",
   "metadata": {
    "execution": {
     "iopub.execute_input": "2022-11-05T00:11:11.138319Z",
     "iopub.status.busy": "2022-11-05T00:11:11.137994Z",
     "iopub.status.idle": "2022-11-05T00:11:11.211440Z",
     "shell.execute_reply": "2022-11-05T00:11:11.210610Z",
     "shell.execute_reply.started": "2022-11-05T00:11:11.138281Z"
    }
   },
   "outputs": [
    {
     "data": {
      "application/vnd.jupyter.widget-view+json": {
       "model_id": "",
       "version_major": 2,
       "version_minor": 0
      },
      "text/plain": [
       "VBox()"
      ]
     },
     "metadata": {},
     "output_type": "display_data"
    },
    {
     "data": {
      "application/vnd.jupyter.widget-view+json": {
       "model_id": "",
       "version_major": 2,
       "version_minor": 0
      },
      "text/plain": [
       "FloatProgress(value=0.0, bar_style='info', description='Progress:', layout=Layout(height='25px', width='50%'),…"
      ]
     },
     "metadata": {},
     "output_type": "display_data"
    },
    {
     "name": "stdout",
     "output_type": "stream",
     "text": [
      "240.11246034413037"
     ]
    }
   ],
   "source": [
    "# avg num solutions per search\n",
    "c2 / srch_pl"
   ]
  },
  {
   "cell_type": "code",
   "execution_count": 15,
   "id": "a4af27fc-406a-4d08-b97e-abce34d934f0",
   "metadata": {
    "execution": {
     "iopub.execute_input": "2022-11-05T01:35:37.848973Z",
     "iopub.status.busy": "2022-11-05T01:35:37.848684Z",
     "iopub.status.idle": "2022-11-05T01:36:38.447781Z",
     "shell.execute_reply": "2022-11-05T01:36:38.447101Z",
     "shell.execute_reply.started": "2022-11-05T01:35:37.848936Z"
    },
    "tags": []
   },
   "outputs": [
    {
     "data": {
      "application/vnd.jupyter.widget-view+json": {
       "model_id": "6c1f5fb96dc94fdbbf9a5a99663bd39e",
       "version_major": 2,
       "version_minor": 0
      },
      "text/plain": [
       "VBox()"
      ]
     },
     "metadata": {},
     "output_type": "display_data"
    },
    {
     "data": {
      "application/vnd.jupyter.widget-view+json": {
       "model_id": "",
       "version_major": 2,
       "version_minor": 0
      },
      "text/plain": [
       "FloatProgress(value=0.0, bar_style='info', description='Progress:', layout=Layout(height='25px', width='50%'),…"
      ]
     },
     "metadata": {},
     "output_type": "display_data"
    },
    {
     "name": "stdout",
     "output_type": "stream",
     "text": [
      "169582"
     ]
    }
   ],
   "source": [
    "# num searches from Priceline PCCs\n",
    "srch_pl = df_pl.select(uniq_key_cols).distinct().count()\n",
    "srch_pl"
   ]
  },
  {
   "cell_type": "code",
   "execution_count": 16,
   "id": "350b783d-8113-40ee-a9e0-c16a1a28771b",
   "metadata": {
    "execution": {
     "iopub.execute_input": "2022-11-05T01:36:38.449388Z",
     "iopub.status.busy": "2022-11-05T01:36:38.449131Z",
     "iopub.status.idle": "2022-11-05T01:36:38.503827Z",
     "shell.execute_reply": "2022-11-05T01:36:38.503153Z",
     "shell.execute_reply.started": "2022-11-05T01:36:38.449351Z"
    }
   },
   "outputs": [
    {
     "data": {
      "application/vnd.jupyter.widget-view+json": {
       "model_id": "73001cf099c4488aa2db2be2bf1f8e2c",
       "version_major": 2,
       "version_minor": 0
      },
      "text/plain": [
       "VBox()"
      ]
     },
     "metadata": {},
     "output_type": "display_data"
    },
    {
     "data": {
      "application/vnd.jupyter.widget-view+json": {
       "model_id": "",
       "version_major": 2,
       "version_minor": 0
      },
      "text/plain": [
       "FloatProgress(value=0.0, bar_style='info', description='Progress:', layout=Layout(height='25px', width='50%'),…"
      ]
     },
     "metadata": {},
     "output_type": "display_data"
    },
    {
     "name": "stdout",
     "output_type": "stream",
     "text": [
      "0.21855237501176003"
     ]
    }
   ],
   "source": [
    "srch_pl / 775933"
   ]
  },
  {
   "cell_type": "markdown",
   "id": "52e5f6f0-8885-4de6-a5fa-f594e0b52f51",
   "metadata": {},
   "source": [
    "## Distribution - volume by market"
   ]
  },
  {
   "cell_type": "code",
   "execution_count": 27,
   "id": "f7be49d8-1edd-4191-9414-c4435d0d4f58",
   "metadata": {
    "execution": {
     "iopub.execute_input": "2022-11-05T00:18:54.399581Z",
     "iopub.status.busy": "2022-11-05T00:18:54.399357Z",
     "iopub.status.idle": "2022-11-05T00:18:54.664774Z",
     "shell.execute_reply": "2022-11-05T00:18:54.664142Z",
     "shell.execute_reply.started": "2022-11-05T00:18:54.399557Z"
    },
    "tags": []
   },
   "outputs": [],
   "source": [
    "pl_market_stats = (df_pl_markets\n",
    "                   .groupBy(\"market\")\n",
    "                   .agg(\n",
    "                       # note id alone does not identify a unique search\n",
    "                       # F.countDistinct(\"id\").alias(\"unique_ids\"),\n",
    "                       F.countDistinct(*uniq_key_cols).alias(\"num_searches\"),\n",
    "                       F.count(\"id\").alias(\"num_solutions\"), # could count any column, really\n",
    "                   )\n",
    "                  )\n",
    "\n",
    "# pl_market_stats = pl_market_stats.cache()\n",
    "\n",
    "pl_market_stats = (pl_market_stats\n",
    "                   .withColumn(\"search_rank\", F.row_number().over(Window.partitionBy().orderBy(F.desc(\"num_searches\"))))\n",
    "                   # .withColumn(\"search_solutions\", F.row_number().over(Window.partitionBy().orderBy(F.desc(\"num_solutions\"))))\n",
    "                   # next time correct name of column:\n",
    "                   .withColumn(\"solution_rank\", F.row_number().over(Window.partitionBy().orderBy(F.desc(\"num_solutions\"))))\n",
    "                  )\n",
    "\n",
    "w = Window.partitionBy()\n",
    "pl_market_stats = (pl_market_stats\n",
    "                   .withColumn(\"pct_searches\", F.col(\"num_searches\") / F.sum(\"num_searches\").over(w))\n",
    "                   .withColumn(\"pct_solutions\", F.col(\"num_solutions\") / F.sum(\"num_solutions\").over(w))                  \n",
    "                  )\n",
    "\n",
    "w2 = Window.partitionBy().orderBy(\"search_rank\").rowsBetween(Window.unboundedPreceding, Window.currentRow)\n",
    "w3 = Window.partitionBy().orderBy(\"solution_rank\").rowsBetween(Window.unboundedPreceding, Window.currentRow)\n",
    "\n",
    "pl_market_stats = (pl_market_stats\n",
    "                   .withColumn(\"cum_pct_searches\", F.sum(\"pct_searches\").over(w2))\n",
    "                   .withColumn(\"cum_pct_solutions\", F.sum(\"pct_solutions\").over(w3))\n",
    "                  )"
   ]
  },
  {
   "cell_type": "code",
   "execution_count": 29,
   "id": "fb8d8579-013e-4511-b4f3-41fbdc3081de",
   "metadata": {
    "execution": {
     "iopub.execute_input": "2022-11-05T00:20:30.728947Z",
     "iopub.status.busy": "2022-11-05T00:20:30.728680Z",
     "iopub.status.idle": "2022-11-05T00:20:54.144318Z",
     "shell.execute_reply": "2022-11-05T00:20:54.143648Z",
     "shell.execute_reply.started": "2022-11-05T00:20:30.728922Z"
    },
    "tags": []
   },
   "outputs": [
    {
     "data": {
      "application/vnd.jupyter.widget-view+json": {
       "model_id": "5c8e2ba3d9324019bf1c09b7f9cc85f2",
       "version_major": 2,
       "version_minor": 0
      },
      "text/plain": [
       "VBox()"
      ]
     },
     "metadata": {},
     "output_type": "display_data"
    },
    {
     "data": {
      "application/vnd.jupyter.widget-view+json": {
       "model_id": "",
       "version_major": 2,
       "version_minor": 0
      },
      "text/plain": [
       "FloatProgress(value=0.0, bar_style='info', description='Progress:', layout=Layout(height='25px', width='50%'),…"
      ]
     },
     "metadata": {},
     "output_type": "display_data"
    },
    {
     "name": "stdout",
     "output_type": "stream",
     "text": [
      "+-------+------------+-------------+-----------+-------------+--------------------+--------------------+--------------------+--------------------+\n",
      "| market|num_searches|num_solutions|search_rank|solution_rank|        pct_searches|       pct_solutions|    cum_pct_searches|   cum_pct_solutions|\n",
      "+-------+------------+-------------+-----------+-------------+--------------------+--------------------+--------------------+--------------------+\n",
      "|SFO-LAX|       10070|      2032882|          1|            1|0.008629111038749592|0.012055347992807408|0.008629111038749592|0.012055347992807408|\n",
      "|LAX-MNL|        5271|      1286449|          2|            3| 0.00451678692008432|0.007628868950583014|0.013145897958833912|0.027490943731762488|\n",
      "|SFO-SNA|        4708|       862844|          3|            9|0.004034345061612...|0.005116816757443...|0.017180243020445934| 0.06147179495633791|\n",
      "|SJC-LAX|        4632|       870513|          4|            8|0.003969219695281839|0.005162295276982508|0.021149462715727773| 0.05635497819889408|\n",
      "|LAX-HKG|        4470|       315263|          5|           40|0.003830399835472...|0.001869565067847...| 0.02497986255120053|  0.1485222475888794|\n",
      "|SEA-IST|        4414|       563527|          6|           15|0.003782412723439...|0.003341814275665179|0.028762275274640522| 0.08646556530647803|\n",
      "|SFO-HKG|        4386|       256436|          7|           71|0.003758419167423606|0.001520710605870...| 0.03252069444206413| 0.20011801050186723|\n",
      "|SFO-ONT|        4303|       300502|          8|           47|0.003687295412089...|0.001782029740306...| 0.03620798985415345|  0.1612557764361611|\n",
      "|SFO-BUR|        4118|       299545|          9|           50|0.003528766559838215|0.001776354561900...|0.039736756413991665| 0.16659254935062792|\n",
      "|MIA-MAD|        4071|      1263572|         10|            4|0.003488491662239...|0.007493204314843479| 0.04322524807623095| 0.03498414804660597|\n",
      "|LAX-BKK|        3805|       505779|         11|           20|0.003260552880083...|0.002999358473563216| 0.04648580095631459| 0.10206989234239935|\n",
      "|LAX-SFO|        3691|       578286|         12|           14|0.003162864830588...|0.003429337742854049| 0.04964866578690295| 0.08312375103081285|\n",
      "|SEA-SAW|        3660|       182700|         13|          128|0.003136300536427...|0.001083443150308...| 0.05278496632333031| 0.27347324950990054|\n",
      "|LAX-SJC|        3439|       263119|         14|           65|0.002946922826440...|0.001560341971899...| 0.05573188914977121| 0.19091618609508942|\n",
      "|OAK-LAX|        3385|       258825|         15|           68|0.002900649539837...|0.001534877796270...| 0.05863253868960908| 0.19554571436263712|\n",
      "|SNA-SFO|        3340|       250260|         16|           75|0.002862088467668...|0.001484085839060...| 0.06149462715727776|  0.2061460284484774|\n",
      "|LAX-HNL|        3321|      1316441|         17|            2|0.002845807126086137|0.007806726788372064|  0.0643404342833639|0.019862074781179472|\n",
      "|ONT-SFO|        2998|        80475|         18|          405|0.002569024319182848|4.772309114455124E-4| 0.06690945860254675|  0.4692847009880742|\n",
      "|ONT-HNL|        2987|       152511|         19|          173|0.002559598279319...|9.044170678529548E-4| 0.06946905688186603| 0.31757525067150355|\n",
      "|LGB-HNL|        2911|       198105|         20|          118|0.002494472912989083|0.001174797511176...| 0.07196352979485511| 0.26222471974877876|\n",
      "+-------+------------+-------------+-----------+-------------+--------------------+--------------------+--------------------+--------------------+\n",
      "only showing top 20 rows"
     ]
    }
   ],
   "source": [
    "pl_market_stats.orderBy(\"search_rank\").show()"
   ]
  },
  {
   "cell_type": "code",
   "execution_count": null,
   "id": "efddc0fc-aac1-42f7-bbb1-5b0c7410b721",
   "metadata": {
    "tags": []
   },
   "outputs": [],
   "source": [
    "ms_pdf = pl_market_stats.toPandas()"
   ]
  },
  {
   "cell_type": "code",
   "execution_count": null,
   "id": "f1904806-9081-4fe1-8f03-0aa6fd6f7edb",
   "metadata": {
    "execution": {
     "iopub.status.busy": "2022-11-05T00:20:21.272245Z",
     "iopub.status.idle": "2022-11-05T00:20:21.272496Z",
     "shell.execute_reply": "2022-11-05T00:20:21.272384Z"
    },
    "tags": []
   },
   "outputs": [],
   "source": [
    "pd.set_option(\"display.max_columns\", 100)"
   ]
  },
  {
   "cell_type": "code",
   "execution_count": 51,
   "id": "ed16dd1c-a6cb-46e2-a82b-bcad413e7113",
   "metadata": {
    "execution": {
     "iopub.execute_input": "2022-11-04T20:30:08.752277Z",
     "iopub.status.busy": "2022-11-04T20:30:08.752045Z",
     "iopub.status.idle": "2022-11-04T20:30:08.807778Z",
     "shell.execute_reply": "2022-11-04T20:30:08.807174Z",
     "shell.execute_reply.started": "2022-11-04T20:30:08.752252Z"
    }
   },
   "outputs": [
    {
     "data": {
      "application/vnd.jupyter.widget-view+json": {
       "model_id": "ff10fdb2baf7453cad7a692dbcf974a8",
       "version_major": 2,
       "version_minor": 0
      },
      "text/plain": [
       "VBox()"
      ]
     },
     "metadata": {},
     "output_type": "display_data"
    },
    {
     "data": {
      "application/vnd.jupyter.widget-view+json": {
       "model_id": "",
       "version_major": 2,
       "version_minor": 0
      },
      "text/plain": [
       "FloatProgress(value=0.0, bar_style='info', description='Progress:', layout=Layout(height='25px', width='50%'),…"
      ]
     },
     "metadata": {},
     "output_type": "display_data"
    },
    {
     "name": "stdout",
     "output_type": "stream",
     "text": [
      "21325"
     ]
    }
   ],
   "source": [
    "len(ms_pdf)"
   ]
  },
  {
   "cell_type": "code",
   "execution_count": 79,
   "id": "ead1337e-be80-4239-92c2-207beda458a0",
   "metadata": {
    "execution": {
     "iopub.execute_input": "2022-11-04T21:00:47.101789Z",
     "iopub.status.busy": "2022-11-04T21:00:47.101557Z",
     "iopub.status.idle": "2022-11-04T21:00:47.870850Z",
     "shell.execute_reply": "2022-11-04T21:00:47.870035Z",
     "shell.execute_reply.started": "2022-11-04T21:00:47.101764Z"
    },
    "tags": []
   },
   "outputs": [
    {
     "data": {
      "application/vnd.jupyter.widget-view+json": {
       "model_id": "626c3b7b4eb443d9bc3d6fcec12e8705",
       "version_major": 2,
       "version_minor": 0
      },
      "text/plain": [
       "VBox()"
      ]
     },
     "metadata": {},
     "output_type": "display_data"
    },
    {
     "data": {
      "application/vnd.jupyter.widget-view+json": {
       "model_id": "",
       "version_major": 2,
       "version_minor": 0
      },
      "text/plain": [
       "FloatProgress(value=0.0, bar_style='info', description='Progress:', layout=Layout(height='25px', width='50%'),…"
      ]
     },
     "metadata": {},
     "output_type": "display_data"
    }
   ],
   "source": [
    "top_n = 100\n",
    "data_col = 'unique_key'\n",
    "data = ms_pdf[:top_n][data_col]\n",
    "xs = range(top_n)\n",
    "plt.bar(xs, data)\n",
    "plt.ylabel(\"num searches\")\n",
    "plt.xlabel(\"market\");\n",
    "plt.show()\n",
    "# plt.savefig(\"s3://tvlp-ds-users/kendra-frederick/tmp/test-fig.png\")\n",
    "plt.savefig(\"test-fig.png\")"
   ]
  },
  {
   "cell_type": "code",
   "execution_count": 91,
   "id": "051b0fd7-c5de-43b5-8aee-dc7951fc969e",
   "metadata": {
    "execution": {
     "iopub.execute_input": "2022-11-04T21:11:32.717058Z",
     "iopub.status.busy": "2022-11-04T21:11:32.716821Z",
     "iopub.status.idle": "2022-11-04T21:11:32.980410Z",
     "shell.execute_reply": "2022-11-04T21:11:32.979857Z",
     "shell.execute_reply.started": "2022-11-04T21:11:32.717031Z"
    },
    "tags": []
   },
   "outputs": [
    {
     "data": {
      "application/vnd.jupyter.widget-view+json": {
       "model_id": "388ab3ac27574833bf2073794aaa3bf9",
       "version_major": 2,
       "version_minor": 0
      },
      "text/plain": [
       "VBox()"
      ]
     },
     "metadata": {},
     "output_type": "display_data"
    },
    {
     "data": {
      "application/vnd.jupyter.widget-view+json": {
       "model_id": "",
       "version_major": 2,
       "version_minor": 0
      },
      "text/plain": [
       "FloatProgress(value=0.0, bar_style='info', description='Progress:', layout=Layout(height='25px', width='50%'),…"
      ]
     },
     "metadata": {},
     "output_type": "display_data"
    }
   ],
   "source": [
    "top_n = 100\n",
    "data_col = 'num_solutions'\n",
    "data = ms_pdf.sort_values(by=data_col, ascending=False)[:top_n][data_col]\n",
    "xs = range(top_n)\n",
    "plt.figure(figsize=(8,5))\n",
    "plt.bar(xs, data)\n",
    "plt.ylabel(\"num_solutions\")\n",
    "plt.xlabel(\"market\");\n",
    "plt.savefig(\"/tmp/num_solutions.png\")\n",
    "# plt.savefig(\"test-fig.png\")"
   ]
  },
  {
   "cell_type": "code",
   "execution_count": 94,
   "id": "19523920-f3c7-4529-8130-8b91e6ec46c0",
   "metadata": {
    "execution": {
     "iopub.execute_input": "2022-11-04T21:30:00.897292Z",
     "iopub.status.busy": "2022-11-04T21:30:00.897069Z",
     "iopub.status.idle": "2022-11-04T21:30:03.174800Z",
     "shell.execute_reply": "2022-11-04T21:30:03.174163Z",
     "shell.execute_reply.started": "2022-11-04T21:30:00.897268Z"
    },
    "tags": []
   },
   "outputs": [
    {
     "data": {
      "application/vnd.jupyter.widget-view+json": {
       "model_id": "1a1d061754434b828a1b5a42d691c872",
       "version_major": 2,
       "version_minor": 0
      },
      "text/plain": [
       "VBox()"
      ]
     },
     "metadata": {},
     "output_type": "display_data"
    },
    {
     "data": {
      "application/vnd.jupyter.widget-view+json": {
       "model_id": "",
       "version_major": 2,
       "version_minor": 0
      },
      "text/plain": [
       "FloatProgress(value=0.0, bar_style='info', description='Progress:', layout=Layout(height='25px', width='50%'),…"
      ]
     },
     "metadata": {},
     "output_type": "display_data"
    }
   ],
   "source": [
    "top_n = 1000\n",
    "\n",
    "bar_data_col = 'unique_key'\n",
    "line_data_col = 'cum_pct_searches'\n",
    "order_col = 'search_rank'\n",
    "\n",
    "data_df = ms_pdf.sort_values(by=order_col)[:top_n]\n",
    "data_bar = data_df[bar_data_col]\n",
    "data_line = data_df[line_data_col]\n",
    "xs = np.arange(len(data_bar))\n",
    "\n",
    "fig, ax = plt.subplots(figsize=(10,5))\n",
    "ax.bar(xs, data_bar);\n",
    "ax.set_ylabel(\"num searches\")\n",
    "\n",
    "ax2 = ax.twinx()\n",
    "ax2.plot(xs, data_line, marker=\".\", color=\"red\")\n",
    "ax2.set_ylim(0, 1)\n",
    "ax2.set_ylabel(\"Cumulative % Total Searches\")\n",
    "\n",
    "plt.savefig(\"/tmp/search-overlay.png\")\n",
    "# plt.savefig(\"test-fig.png\")"
   ]
  },
  {
   "cell_type": "code",
   "execution_count": 96,
   "id": "2d38b065-dd81-40ba-9efe-f58c5578612b",
   "metadata": {
    "execution": {
     "iopub.execute_input": "2022-11-04T21:35:44.303587Z",
     "iopub.status.busy": "2022-11-04T21:35:44.303359Z",
     "iopub.status.idle": "2022-11-04T21:35:44.357418Z",
     "shell.execute_reply": "2022-11-04T21:35:44.356786Z",
     "shell.execute_reply.started": "2022-11-04T21:35:44.303562Z"
    }
   },
   "outputs": [
    {
     "data": {
      "application/vnd.jupyter.widget-view+json": {
       "model_id": "2c80947ef93947179f3bac938dd73d7a",
       "version_major": 2,
       "version_minor": 0
      },
      "text/plain": [
       "VBox()"
      ]
     },
     "metadata": {},
     "output_type": "display_data"
    },
    {
     "data": {
      "application/vnd.jupyter.widget-view+json": {
       "model_id": "",
       "version_major": 2,
       "version_minor": 0
      },
      "text/plain": [
       "FloatProgress(value=0.0, bar_style='info', description='Progress:', layout=Layout(height='25px', width='50%'),…"
      ]
     },
     "metadata": {},
     "output_type": "display_data"
    },
    {
     "name": "stdout",
     "output_type": "stream",
     "text": [
      "21325"
     ]
    }
   ],
   "source": [
    "m2"
   ]
  },
  {
   "cell_type": "code",
   "execution_count": 100,
   "id": "8ee98626-930d-4cf7-9091-cc5d6dde6468",
   "metadata": {
    "execution": {
     "iopub.execute_input": "2022-11-04T21:39:13.515467Z",
     "iopub.status.busy": "2022-11-04T21:39:13.515243Z",
     "iopub.status.idle": "2022-11-04T21:39:13.584015Z",
     "shell.execute_reply": "2022-11-04T21:39:13.583355Z",
     "shell.execute_reply.started": "2022-11-04T21:39:13.515442Z"
    },
    "tags": []
   },
   "outputs": [
    {
     "data": {
      "application/vnd.jupyter.widget-view+json": {
       "model_id": "0df909d6686d4cfa95bde637111206f3",
       "version_major": 2,
       "version_minor": 0
      },
      "text/plain": [
       "VBox()"
      ]
     },
     "metadata": {},
     "output_type": "display_data"
    },
    {
     "data": {
      "application/vnd.jupyter.widget-view+json": {
       "model_id": "",
       "version_major": 2,
       "version_minor": 0
      },
      "text/plain": [
       "FloatProgress(value=0.0, bar_style='info', description='Progress:', layout=Layout(height='25px', width='50%'),…"
      ]
     },
     "metadata": {},
     "output_type": "display_data"
    },
    {
     "name": "stdout",
     "output_type": "stream",
     "text": [
      "For the top 1.0% of markets:\n",
      "Number of markets: 213\n",
      "Cumulative % search volume: 31%"
     ]
    }
   ],
   "source": [
    "num_pct = 0.01\n",
    "abs_num = int(m2 * num_pct)\n",
    "print(f\"For the top {num_pct*100}% of markets:\")\n",
    "print(f\"Number of markets: {abs_num:,}\")\n",
    "x = ms_pdf[ms_pdf['search_rank'] == abs_num]\n",
    "cum_pct = x['cum_pct_searches'].values[0]\n",
    "print(f\"Cumulative % search volume: {cum_pct*100:.0f}%\")"
   ]
  },
  {
   "cell_type": "code",
   "execution_count": 102,
   "id": "a25b8233-5e24-4030-8c15-dcee9e79a2b6",
   "metadata": {
    "execution": {
     "iopub.execute_input": "2022-11-04T21:40:32.685139Z",
     "iopub.status.busy": "2022-11-04T21:40:32.684907Z",
     "iopub.status.idle": "2022-11-04T21:40:32.743497Z",
     "shell.execute_reply": "2022-11-04T21:40:32.742873Z",
     "shell.execute_reply.started": "2022-11-04T21:40:32.685115Z"
    },
    "tags": []
   },
   "outputs": [
    {
     "data": {
      "application/vnd.jupyter.widget-view+json": {
       "model_id": "c1a46b842953427f96a26a87df7c786b",
       "version_major": 2,
       "version_minor": 0
      },
      "text/plain": [
       "VBox()"
      ]
     },
     "metadata": {},
     "output_type": "display_data"
    },
    {
     "data": {
      "application/vnd.jupyter.widget-view+json": {
       "model_id": "",
       "version_major": 2,
       "version_minor": 0
      },
      "text/plain": [
       "FloatProgress(value=0.0, bar_style='info', description='Progress:', layout=Layout(height='25px', width='50%'),…"
      ]
     },
     "metadata": {},
     "output_type": "display_data"
    },
    {
     "name": "stdout",
     "output_type": "stream",
     "text": [
      "For the top 5.0% of markets:\n",
      "Number of markets: 1,066\n",
      "Cumulative % search volume: 63%"
     ]
    }
   ],
   "source": [
    "num_pct = 0.05\n",
    "abs_num = int(m2 * num_pct)\n",
    "print(f\"For the top {num_pct*100}% of markets:\")\n",
    "print(f\"Number of markets: {abs_num:,}\")\n",
    "x = ms_pdf[ms_pdf['search_rank'] == abs_num]\n",
    "cum_pct = x['cum_pct_searches'].values[0]\n",
    "print(f\"Cumulative % search volume: {cum_pct*100:.0f}%\")"
   ]
  },
  {
   "cell_type": "code",
   "execution_count": 101,
   "id": "8ac6b080-8d14-4492-9539-e745ef6f801a",
   "metadata": {
    "execution": {
     "iopub.execute_input": "2022-11-04T21:39:33.531674Z",
     "iopub.status.busy": "2022-11-04T21:39:33.531422Z",
     "iopub.status.idle": "2022-11-04T21:39:33.585866Z",
     "shell.execute_reply": "2022-11-04T21:39:33.585330Z",
     "shell.execute_reply.started": "2022-11-04T21:39:33.531648Z"
    },
    "tags": []
   },
   "outputs": [
    {
     "data": {
      "application/vnd.jupyter.widget-view+json": {
       "model_id": "744e833b786247048c9e59851241e12c",
       "version_major": 2,
       "version_minor": 0
      },
      "text/plain": [
       "VBox()"
      ]
     },
     "metadata": {},
     "output_type": "display_data"
    },
    {
     "data": {
      "application/vnd.jupyter.widget-view+json": {
       "model_id": "",
       "version_major": 2,
       "version_minor": 0
      },
      "text/plain": [
       "FloatProgress(value=0.0, bar_style='info', description='Progress:', layout=Layout(height='25px', width='50%'),…"
      ]
     },
     "metadata": {},
     "output_type": "display_data"
    },
    {
     "name": "stdout",
     "output_type": "stream",
     "text": [
      "For the top 10.0% of markets:\n",
      "Number of markets: 2,132\n",
      "Cumulative % search volume: 77%"
     ]
    }
   ],
   "source": [
    "num_pct = 0.1\n",
    "abs_num = int(m2 * num_pct)\n",
    "print(f\"For the top {num_pct*100}% of markets:\")\n",
    "print(f\"Number of markets: {abs_num:,}\")\n",
    "x = ms_pdf[ms_pdf['search_rank'] == abs_num]\n",
    "cum_pct = x['cum_pct_searches'].values[0]\n",
    "print(f\"Cumulative % search volume: {cum_pct*100:.0f}%\")"
   ]
  },
  {
   "cell_type": "code",
   "execution_count": null,
   "id": "cb8297c6-776b-4918-af2b-cb4a409d03dd",
   "metadata": {},
   "outputs": [],
   "source": []
  },
  {
   "cell_type": "code",
   "execution_count": 103,
   "id": "db03d5cf-d3d0-4e5a-9a2e-7ec43cc8c228",
   "metadata": {
    "execution": {
     "iopub.execute_input": "2022-11-04T21:41:44.806810Z",
     "iopub.status.busy": "2022-11-04T21:41:44.806590Z",
     "iopub.status.idle": "2022-11-04T21:41:46.082020Z",
     "shell.execute_reply": "2022-11-04T21:41:46.081437Z",
     "shell.execute_reply.started": "2022-11-04T21:41:44.806787Z"
    }
   },
   "outputs": [
    {
     "data": {
      "application/vnd.jupyter.widget-view+json": {
       "model_id": "760c75fe46c3497f92ac8a917e59da9d",
       "version_major": 2,
       "version_minor": 0
      },
      "text/plain": [
       "VBox()"
      ]
     },
     "metadata": {},
     "output_type": "display_data"
    },
    {
     "data": {
      "application/vnd.jupyter.widget-view+json": {
       "model_id": "",
       "version_major": 2,
       "version_minor": 0
      },
      "text/plain": [
       "FloatProgress(value=0.0, bar_style='info', description='Progress:', layout=Layout(height='25px', width='50%'),…"
      ]
     },
     "metadata": {},
     "output_type": "display_data"
    }
   ],
   "source": [
    "top_n = 1000\n",
    "\n",
    "bar_data_col = 'num_solutions'\n",
    "line_data_col = 'cum_pct_solutions'\n",
    "order_col = 'search_solutions'\n",
    "\n",
    "data_df = ms_pdf.sort_values(by=order_col)[:top_n]\n",
    "data_bar = data_df[bar_data_col]\n",
    "data_line = data_df[line_data_col]\n",
    "xs = np.arange(len(data_bar))\n",
    "\n",
    "fig, ax = plt.subplots(figsize=(10,5))\n",
    "ax.bar(xs, data_bar);\n",
    "ax.set_ylabel(\"num solutions\")\n",
    "\n",
    "ax2 = ax.twinx()\n",
    "ax2.plot(xs, data_line, marker=\".\", color=\"red\")\n",
    "ax2.set_ylim(0, 1)\n",
    "ax2.set_ylabel(\"Cumulative % Total Solutions\")\n",
    "\n",
    "plt.savefig(\"/tmp/solutions-overlay.png\")\n",
    "# plt.savefig(\"test-fig.png\")"
   ]
  },
  {
   "cell_type": "code",
   "execution_count": 104,
   "id": "9e41301c-26f5-43c1-9b04-c4dbaf993305",
   "metadata": {
    "execution": {
     "iopub.execute_input": "2022-11-04T21:43:00.326569Z",
     "iopub.status.busy": "2022-11-04T21:43:00.326305Z",
     "iopub.status.idle": "2022-11-04T21:43:00.378472Z",
     "shell.execute_reply": "2022-11-04T21:43:00.377885Z",
     "shell.execute_reply.started": "2022-11-04T21:43:00.326543Z"
    },
    "tags": []
   },
   "outputs": [
    {
     "data": {
      "application/vnd.jupyter.widget-view+json": {
       "model_id": "5308a4b6ece146a6ac12e821f31f6aa5",
       "version_major": 2,
       "version_minor": 0
      },
      "text/plain": [
       "VBox()"
      ]
     },
     "metadata": {},
     "output_type": "display_data"
    },
    {
     "data": {
      "application/vnd.jupyter.widget-view+json": {
       "model_id": "",
       "version_major": 2,
       "version_minor": 0
      },
      "text/plain": [
       "FloatProgress(value=0.0, bar_style='info', description='Progress:', layout=Layout(height='25px', width='50%'),…"
      ]
     },
     "metadata": {},
     "output_type": "display_data"
    },
    {
     "name": "stdout",
     "output_type": "stream",
     "text": [
      "For the top 1.0% of markets:\n",
      "Number of markets: 213\n",
      "Cumulative % search volume: 35%"
     ]
    }
   ],
   "source": [
    "num_pct = 0.01\n",
    "abs_num = int(m2 * num_pct)\n",
    "print(f\"For the top {num_pct*100}% of markets:\")\n",
    "print(f\"Number of markets: {abs_num:,}\")\n",
    "x = ms_pdf[ms_pdf[order_col] == abs_num]\n",
    "cum_pct = x[line_data_col].values[0]\n",
    "print(f\"Cumulative % search volume: {cum_pct*100:.0f}%\")"
   ]
  },
  {
   "cell_type": "code",
   "execution_count": 105,
   "id": "fcb3532f-8230-4d09-a686-37412b45c626",
   "metadata": {
    "execution": {
     "iopub.execute_input": "2022-11-04T21:43:10.931658Z",
     "iopub.status.busy": "2022-11-04T21:43:10.931431Z",
     "iopub.status.idle": "2022-11-04T21:43:10.984286Z",
     "shell.execute_reply": "2022-11-04T21:43:10.983731Z",
     "shell.execute_reply.started": "2022-11-04T21:43:10.931634Z"
    },
    "tags": []
   },
   "outputs": [
    {
     "data": {
      "application/vnd.jupyter.widget-view+json": {
       "model_id": "49c0c9d35b24461e880f2b575120e239",
       "version_major": 2,
       "version_minor": 0
      },
      "text/plain": [
       "VBox()"
      ]
     },
     "metadata": {},
     "output_type": "display_data"
    },
    {
     "data": {
      "application/vnd.jupyter.widget-view+json": {
       "model_id": "",
       "version_major": 2,
       "version_minor": 0
      },
      "text/plain": [
       "FloatProgress(value=0.0, bar_style='info', description='Progress:', layout=Layout(height='25px', width='50%'),…"
      ]
     },
     "metadata": {},
     "output_type": "display_data"
    },
    {
     "name": "stdout",
     "output_type": "stream",
     "text": [
      "For the top 5.0% of markets:\n",
      "Number of markets: 1,066\n",
      "Cumulative % search volume: 66%"
     ]
    }
   ],
   "source": [
    "num_pct = 0.05\n",
    "abs_num = int(m2 * num_pct)\n",
    "print(f\"For the top {num_pct*100}% of markets:\")\n",
    "print(f\"Number of markets: {abs_num:,}\")\n",
    "x = ms_pdf[ms_pdf[order_col] == abs_num]\n",
    "cum_pct = x[line_data_col].values[0]\n",
    "print(f\"Cumulative % search volume: {cum_pct*100:.0f}%\")"
   ]
  },
  {
   "cell_type": "code",
   "execution_count": 106,
   "id": "5781ab88-d39a-40cd-865b-d42f51b5795d",
   "metadata": {
    "execution": {
     "iopub.execute_input": "2022-11-04T21:43:19.505488Z",
     "iopub.status.busy": "2022-11-04T21:43:19.505159Z",
     "iopub.status.idle": "2022-11-04T21:43:19.578954Z",
     "shell.execute_reply": "2022-11-04T21:43:19.578317Z",
     "shell.execute_reply.started": "2022-11-04T21:43:19.505449Z"
    },
    "tags": []
   },
   "outputs": [
    {
     "data": {
      "application/vnd.jupyter.widget-view+json": {
       "model_id": "80950217b20541ce8cdafca631c57b52",
       "version_major": 2,
       "version_minor": 0
      },
      "text/plain": [
       "VBox()"
      ]
     },
     "metadata": {},
     "output_type": "display_data"
    },
    {
     "data": {
      "application/vnd.jupyter.widget-view+json": {
       "model_id": "",
       "version_major": 2,
       "version_minor": 0
      },
      "text/plain": [
       "FloatProgress(value=0.0, bar_style='info', description='Progress:', layout=Layout(height='25px', width='50%'),…"
      ]
     },
     "metadata": {},
     "output_type": "display_data"
    },
    {
     "name": "stdout",
     "output_type": "stream",
     "text": [
      "For the top 10.0% of markets:\n",
      "Number of markets: 2,132\n",
      "Cumulative % search volume: 80%"
     ]
    }
   ],
   "source": [
    "num_pct = 0.1\n",
    "abs_num = int(m2 * num_pct)\n",
    "print(f\"For the top {num_pct*100}% of markets:\")\n",
    "print(f\"Number of markets: {abs_num:,}\")\n",
    "x = ms_pdf[ms_pdf[order_col] == abs_num]\n",
    "cum_pct = x[line_data_col].values[0]\n",
    "print(f\"Cumulative % search volume: {cum_pct*100:.0f}%\")"
   ]
  },
  {
   "cell_type": "markdown",
   "id": "5c7e4d92-169f-42a8-aad4-984b1c6d00cd",
   "metadata": {},
   "source": [
    "# Distribution"
   ]
  },
  {
   "cell_type": "code",
   "execution_count": 33,
   "id": "9c92b1d9-71cf-40e7-a374-8fdb4bc0c4e0",
   "metadata": {
    "execution": {
     "iopub.execute_input": "2022-11-05T00:29:36.412615Z",
     "iopub.status.busy": "2022-11-05T00:29:36.412385Z",
     "iopub.status.idle": "2022-11-05T00:29:36.685331Z",
     "shell.execute_reply": "2022-11-05T00:29:36.684702Z",
     "shell.execute_reply.started": "2022-11-05T00:29:36.412591Z"
    }
   },
   "outputs": [],
   "source": [
    "# convert dates (which are ints) to datetime\n",
    "df_pl_markets.registerTempTable(\"data\")\n",
    "df_pl_markets = spark.sql(\"\"\"\n",
    "    SELECT *,\n",
    "        TO_DATE(CAST(UNIX_TIMESTAMP(CAST(out_departure_date AS string), 'yyyyMMdd') AS TIMESTAMP)) AS outDeptDt_dt,\n",
    "        TO_DATE(CAST(UNIX_TIMESTAMP(CAST(in_departure_date AS string), 'yyyyMMdd') AS TIMESTAMP)) AS inDeptDt_dt\n",
    "    FROM data\n",
    "\"\"\")\n",
    "\n",
    "df_pl_markets = (df_pl_markets\n",
    "                 .withColumn(\"searchDt_dt\", F.lit(date))\n",
    "                )\n",
    "\n",
    "# do date math\n",
    "df_pl_markets = (df_pl_markets\n",
    "    .withColumn('days_til_dept', F.datediff(\n",
    "                    F.col('outDeptDt_dt'), F.col('searchDt_dt')))\n",
    "    .withColumn('stay_duration', F.datediff(\n",
    "                    F.col('inDeptDt_dt'), F.col('outDeptDt_dt')))\n",
    ")"
   ]
  },
  {
   "cell_type": "markdown",
   "id": "8ac8e5bb-cdeb-44af-ae3a-fc3513d8d5a5",
   "metadata": {},
   "source": [
    "## advanced purchase"
   ]
  },
  {
   "cell_type": "code",
   "execution_count": 34,
   "id": "ea7b2ae4-c60e-4e84-a39a-a0e1f39c2e83",
   "metadata": {
    "execution": {
     "iopub.execute_input": "2022-11-05T00:30:52.506210Z",
     "iopub.status.busy": "2022-11-05T00:30:52.505951Z",
     "iopub.status.idle": "2022-11-05T00:30:52.774870Z",
     "shell.execute_reply": "2022-11-05T00:30:52.774121Z",
     "shell.execute_reply.started": "2022-11-05T00:30:52.506183Z"
    }
   },
   "outputs": [
    {
     "data": {
      "application/vnd.jupyter.widget-view+json": {
       "model_id": "5a20838d65d345d2ba44be6565240a10",
       "version_major": 2,
       "version_minor": 0
      },
      "text/plain": [
       "VBox()"
      ]
     },
     "metadata": {},
     "output_type": "display_data"
    },
    {
     "data": {
      "application/vnd.jupyter.widget-view+json": {
       "model_id": "",
       "version_major": 2,
       "version_minor": 0
      },
      "text/plain": [
       "FloatProgress(value=0.0, bar_style='info', description='Progress:', layout=Layout(height='25px', width='50%'),…"
      ]
     },
     "metadata": {},
     "output_type": "display_data"
    }
   ],
   "source": [
    "dtd_stats = df_pl_markets.groupBy(\"days_til_dept\").agg(\n",
    "    F.countDistinct(\"market\").alias(\"num_markets\"),\n",
    "    F.countDistinct(*uniq_key_cols).alias(\"num_searches\"),\n",
    "    F.count(\"id\").alias(\"num_solutions\"), # could count any column, really\n",
    ")"
   ]
  },
  {
   "cell_type": "code",
   "execution_count": 36,
   "id": "2ccc4c34-7ce4-4ac5-b95e-d85657a15c23",
   "metadata": {
    "execution": {
     "iopub.execute_input": "2022-11-05T00:31:19.899644Z",
     "iopub.status.busy": "2022-11-05T00:31:19.899419Z",
     "iopub.status.idle": "2022-11-05T00:32:59.521831Z",
     "shell.execute_reply": "2022-11-05T00:32:59.521240Z",
     "shell.execute_reply.started": "2022-11-05T00:31:19.899619Z"
    },
    "tags": []
   },
   "outputs": [],
   "source": [
    "dtd_stats = dtd_stats.orderBy(\"days_til_dept\")"
   ]
  },
  {
   "cell_type": "code",
   "execution_count": 39,
   "id": "64981e92-4e93-45d5-be54-98f3e0b3ec1d",
   "metadata": {
    "execution": {
     "iopub.execute_input": "2022-11-05T00:41:48.422088Z",
     "iopub.status.busy": "2022-11-05T00:41:48.421853Z",
     "iopub.status.idle": "2022-11-05T00:41:48.680922Z",
     "shell.execute_reply": "2022-11-05T00:41:48.680118Z",
     "shell.execute_reply.started": "2022-11-05T00:41:48.422064Z"
    }
   },
   "outputs": [
    {
     "data": {
      "application/vnd.jupyter.widget-view+json": {
       "model_id": "2566047fd57f48fd8681f966db3c236e",
       "version_major": 2,
       "version_minor": 0
      },
      "text/plain": [
       "VBox()"
      ]
     },
     "metadata": {},
     "output_type": "display_data"
    },
    {
     "data": {
      "application/vnd.jupyter.widget-view+json": {
       "model_id": "",
       "version_major": 2,
       "version_minor": 0
      },
      "text/plain": [
       "FloatProgress(value=0.0, bar_style='info', description='Progress:', layout=Layout(height='25px', width='50%'),…"
      ]
     },
     "metadata": {},
     "output_type": "display_data"
    }
   ],
   "source": [
    "w = Window.partitionBy()\n",
    "dtd_stats = (dtd_stats\n",
    "             .withColumn(\"pct_searches\", F.col(\"num_searches\") / F.sum(\"num_searches\").over(w))\n",
    "             .withColumn(\"pct_solutions\", F.col(\"num_solutions\") / F.sum(\"num_solutions\").over(w))                  \n",
    "            )\n",
    "\n",
    "w2 = Window.partitionBy().orderBy(\"days_til_dept\").rowsBetween(Window.unboundedPreceding, Window.currentRow)\n",
    "# w3 = Window.partitionBy().orderBy(\"solution_rank\").rowsBetween(Window.unboundedPreceding, Window.currentRow)\n",
    "\n",
    "dtd_stats = (dtd_stats\n",
    "                   .withColumn(\"cum_pct_searches\", F.sum(\"pct_searches\").over(w2))\n",
    "                   .withColumn(\"cum_pct_solutions\", F.sum(\"pct_solutions\").over(w2))\n",
    "                  )"
   ]
  },
  {
   "cell_type": "code",
   "execution_count": 40,
   "id": "95c3c170-59f6-40dd-9899-63fca6400c29",
   "metadata": {
    "execution": {
     "iopub.execute_input": "2022-11-05T00:41:59.493052Z",
     "iopub.status.busy": "2022-11-05T00:41:59.492825Z",
     "iopub.status.idle": "2022-11-05T00:43:15.016879Z",
     "shell.execute_reply": "2022-11-05T00:43:15.016167Z",
     "shell.execute_reply.started": "2022-11-05T00:41:59.493027Z"
    },
    "tags": []
   },
   "outputs": [
    {
     "data": {
      "application/vnd.jupyter.widget-view+json": {
       "model_id": "f67e8fa84c6c4408b67805f5d61c7b5a",
       "version_major": 2,
       "version_minor": 0
      },
      "text/plain": [
       "VBox()"
      ]
     },
     "metadata": {},
     "output_type": "display_data"
    },
    {
     "data": {
      "application/vnd.jupyter.widget-view+json": {
       "model_id": "",
       "version_major": 2,
       "version_minor": 0
      },
      "text/plain": [
       "FloatProgress(value=0.0, bar_style='info', description='Progress:', layout=Layout(height='25px', width='50%'),…"
      ]
     },
     "metadata": {},
     "output_type": "display_data"
    },
    {
     "name": "stdout",
     "output_type": "stream",
     "text": [
      "+-------------+-----------+------------+-------------+--------------------+--------------------+--------------------+--------------------+\n",
      "|days_til_dept|num_markets|num_searches|num_solutions|        pct_searches|       pct_solutions|    cum_pct_searches|   cum_pct_solutions|\n",
      "+-------------+-----------+------------+-------------+--------------------+--------------------+--------------------+--------------------+\n",
      "|            0|       2062|        6232|       798869|0.008873801780455992|0.004737433749556571|0.008873801780455992|0.004737433749556571|\n",
      "|            1|       2463|       10555|      2086122|0.015029361006532896| 0.01237107056162206| 0.02390316278698889| 0.01710850431117863|\n",
      "|            2|       2494|       11115|      2789450|0.015826750126727913|0.016541929368520468|  0.0397299129137168|0.033650433679699096|\n",
      "|            3|       3130|       13521|      3439064|0.019252675525280084|0.020394254703192914| 0.05898258843899688| 0.05404468838289201|\n",
      "|            4|       2413|        9288|      2043419|0.013225268122091665| 0.01211783425703731| 0.07220785656108855| 0.06616252263992932|\n",
      "|            5|       2822|       10375|      1852568|0.014773057360755924|0.010986054242370799| 0.08698091392184448| 0.07714857688230012|\n",
      "|            6|       2508|        9266|      1842839|0.013193942120941146|0.010928359560327266| 0.10017485604278563| 0.08807693644262739|\n",
      "|            7|       3062|       18634|      5858833|0.026533122974489246| 0.03474391068775453| 0.12670797901727487| 0.12282084713038191|\n",
      "|            8|       2332|        8429|      1877697|0.012002130168078235|0.011135073634402042| 0.13871010918535312| 0.13395592076478396|\n",
      "|            9|       2541|       11175|      2785824|0.015912184675320237|0.016520426550441544| 0.15462229386067336| 0.15047634731522552|\n",
      "|           10|       2658|       11232|      2953555|0.015993347496482943|0.017515100896607027|  0.1706156413571563| 0.16799144821183254|\n",
      "|           11|       2148|        7935|      2028902|0.011298719051334772|0.012031745892433962| 0.18191436040849107|  0.1800231941042665|\n",
      "|           12|       2348|        7214|      1117645|0.010272080559083687|0.006627831525598257| 0.19218644096757476| 0.18665102562986477|\n",
      "|           13|       2279|        7651|      1623206|0.010894328854664442|0.009625897220799309|  0.2030807698222392|  0.1962769228506641|\n",
      "|           14|       2286|        8837|      2288250|0.012583085098506034|0.013569725170738662| 0.21566385492074522| 0.20984664802140274|\n",
      "|           15|       2080|        7540|      1674469|0.010736274939768644|0.009929895831714889| 0.22640012986051386| 0.21977654385311762|\n",
      "|           16|       3193|       11695|      2752913| 0.01665261742978704| 0.01632525852898664|  0.2430527472903009| 0.23610180238210426|\n",
      "|           17|       2582|       10797|      2684402|  0.0153739470191886|0.015918976242884828|  0.2584266943094895|  0.2520207786249891|\n",
      "|           18|       2375|        8521|      1924605|0.012133129809253131|0.011413246328954215| 0.27055982411874263| 0.26343402495394336|\n",
      "|           19|       2328|        7676|      1428056|0.010929926583244577|0.008468623379623891| 0.28148975070198723| 0.27190264833356725|\n",
      "+-------------+-----------+------------+-------------+--------------------+--------------------+--------------------+--------------------+\n",
      "only showing top 20 rows"
     ]
    }
   ],
   "source": [
    "dtd_stats.show()"
   ]
  },
  {
   "cell_type": "code",
   "execution_count": 45,
   "id": "978608e2-0da5-4c76-acd4-d6f1b85206ca",
   "metadata": {
    "execution": {
     "iopub.execute_input": "2022-11-05T00:51:17.915196Z",
     "iopub.status.busy": "2022-11-05T00:51:17.914947Z",
     "iopub.status.idle": "2022-11-05T00:52:56.701484Z",
     "shell.execute_reply": "2022-11-05T00:52:56.691831Z",
     "shell.execute_reply.started": "2022-11-05T00:51:17.915171Z"
    },
    "tags": []
   },
   "outputs": [],
   "source": [
    "data_df = dtd_stats.toPandas()"
   ]
  },
  {
   "cell_type": "code",
   "execution_count": 47,
   "id": "2e0ee072-502a-40bd-acd4-56035b350a11",
   "metadata": {
    "execution": {
     "iopub.execute_input": "2022-11-05T00:53:26.437389Z",
     "iopub.status.busy": "2022-11-05T00:53:26.437161Z",
     "iopub.status.idle": "2022-11-05T00:53:27.711472Z",
     "shell.execute_reply": "2022-11-05T00:53:27.710699Z",
     "shell.execute_reply.started": "2022-11-05T00:53:26.437366Z"
    },
    "tags": []
   },
   "outputs": [
    {
     "data": {
      "application/vnd.jupyter.widget-view+json": {
       "model_id": "f12c1a58b0b34cfcb0ef587a4ea566fa",
       "version_major": 2,
       "version_minor": 0
      },
      "text/plain": [
       "VBox()"
      ]
     },
     "metadata": {},
     "output_type": "display_data"
    },
    {
     "data": {
      "application/vnd.jupyter.widget-view+json": {
       "model_id": "",
       "version_major": 2,
       "version_minor": 0
      },
      "text/plain": [
       "FloatProgress(value=0.0, bar_style='info', description='Progress:', layout=Layout(height='25px', width='50%'),…"
      ]
     },
     "metadata": {},
     "output_type": "display_data"
    }
   ],
   "source": [
    "bar_data_col = 'num_searches'\n",
    "line_data_col = 'cum_pct_searches'\n",
    "order_col = 'days_til_dept'\n",
    "x_label = 'advanced purchase (days)'\n",
    "top_n = 1000\n",
    "what = 'Searches'\n",
    "title = 'Distribution of Searches by Advanced Purchase'\n",
    "file_name = 'dtd-overlay'\n",
    "\n",
    "data_df = data_df.sort_values(by=order_col)[:top_n]\n",
    "data_bar = data_df[bar_data_col]\n",
    "data_line = data_df[line_data_col]\n",
    "xs = range(len(data_bar))\n",
    "\n",
    "fig, ax = plt.subplots(figsize=(10,5))\n",
    "ax.bar(xs, data_bar);\n",
    "ax.set_ylabel(f\"Num {what}\")\n",
    "ax.set_xlabel(x_label)\n",
    "\n",
    "ax2 = ax.twinx()\n",
    "ax2.plot(xs, data_line, marker=\".\", color=\"red\")\n",
    "ax2.set_ylim(0, 1)\n",
    "ax2.set_ylabel(f\"Cumulative % Total {what}\")\n",
    "\n",
    "fig.suptitle(title)\n",
    "plt.savefig(f\"/tmp/{file_name}.png\")\n",
    "# plt.savefig(\"test-fig.png\")"
   ]
  },
  {
   "cell_type": "code",
   "execution_count": 48,
   "id": "4c02a463-2175-4266-9292-88af1063ba48",
   "metadata": {
    "execution": {
     "iopub.execute_input": "2022-11-05T00:55:05.506465Z",
     "iopub.status.busy": "2022-11-05T00:55:05.506210Z",
     "iopub.status.idle": "2022-11-05T00:55:05.568628Z",
     "shell.execute_reply": "2022-11-05T00:55:05.567944Z",
     "shell.execute_reply.started": "2022-11-05T00:55:05.506437Z"
    }
   },
   "outputs": [
    {
     "data": {
      "application/vnd.jupyter.widget-view+json": {
       "model_id": "9e05e1dd42314a82af446c1de32b6ed6",
       "version_major": 2,
       "version_minor": 0
      },
      "text/plain": [
       "VBox()"
      ]
     },
     "metadata": {},
     "output_type": "display_data"
    },
    {
     "data": {
      "application/vnd.jupyter.widget-view+json": {
       "model_id": "",
       "version_major": 2,
       "version_minor": 0
      },
      "text/plain": [
       "FloatProgress(value=0.0, bar_style='info', description='Progress:', layout=Layout(height='25px', width='50%'),…"
      ]
     },
     "metadata": {},
     "output_type": "display_data"
    },
    {
     "name": "stdout",
     "output_type": "stream",
     "text": [
      "At 14 advanced purchase (days):\n",
      "Cumulative % search volume: 22%\n",
      "\n",
      "At 30 advanced purchase (days):\n",
      "Cumulative % search volume: 41%\n",
      "\n",
      "At 60 advanced purchase (days):\n",
      "Cumulative % search volume: 70%\n",
      "\n",
      "At 90 advanced purchase (days):\n",
      "Cumulative % search volume: 83%\n",
      "\n",
      "At 120 advanced purchase (days):\n",
      "Cumulative % search volume: 89%"
     ]
    }
   ],
   "source": [
    "for num in [14, 30, 60, 90, 120]:\n",
    "    x = data_df[data_df[order_col] == num]\n",
    "    cum_pct = x[line_data_col].values[0]\n",
    "    print(f\"At {num} {x_label}:\")\n",
    "    print(f\"Cumulative % search volume: {cum_pct*100:.0f}%\")\n",
    "    print()"
   ]
  },
  {
   "cell_type": "code",
   "execution_count": 50,
   "id": "239c00b4-33af-422a-84be-1457e1f20aa6",
   "metadata": {
    "execution": {
     "iopub.execute_input": "2022-11-05T00:56:42.957659Z",
     "iopub.status.busy": "2022-11-05T00:56:42.957420Z",
     "iopub.status.idle": "2022-11-05T00:56:43.013822Z",
     "shell.execute_reply": "2022-11-05T00:56:43.013240Z",
     "shell.execute_reply.started": "2022-11-05T00:56:42.957633Z"
    }
   },
   "outputs": [
    {
     "data": {
      "application/vnd.jupyter.widget-view+json": {
       "model_id": "1d75c08464b046c09f7c21475cfacefd",
       "version_major": 2,
       "version_minor": 0
      },
      "text/plain": [
       "VBox()"
      ]
     },
     "metadata": {},
     "output_type": "display_data"
    },
    {
     "data": {
      "application/vnd.jupyter.widget-view+json": {
       "model_id": "",
       "version_major": 2,
       "version_minor": 0
      },
      "text/plain": [
       "FloatProgress(value=0.0, bar_style='info', description='Progress:', layout=Layout(height='25px', width='50%'),…"
      ]
     },
     "metadata": {},
     "output_type": "display_data"
    }
   ],
   "source": [
    "pd.set_option(\"display.max_columns\", 100)"
   ]
  },
  {
   "cell_type": "code",
   "execution_count": 51,
   "id": "8be8005a-12de-4d8f-9330-50901922eeae",
   "metadata": {
    "execution": {
     "iopub.execute_input": "2022-11-05T00:56:49.495816Z",
     "iopub.status.busy": "2022-11-05T00:56:49.495587Z",
     "iopub.status.idle": "2022-11-05T00:56:49.561093Z",
     "shell.execute_reply": "2022-11-05T00:56:49.560424Z",
     "shell.execute_reply.started": "2022-11-05T00:56:49.495791Z"
    },
    "tags": []
   },
   "outputs": [
    {
     "data": {
      "application/vnd.jupyter.widget-view+json": {
       "model_id": "7f9eb84ed25f49dfa76846c92cf8daf0",
       "version_major": 2,
       "version_minor": 0
      },
      "text/plain": [
       "VBox()"
      ]
     },
     "metadata": {},
     "output_type": "display_data"
    },
    {
     "data": {
      "application/vnd.jupyter.widget-view+json": {
       "model_id": "",
       "version_major": 2,
       "version_minor": 0
      },
      "text/plain": [
       "FloatProgress(value=0.0, bar_style='info', description='Progress:', layout=Layout(height='25px', width='50%'),…"
      ]
     },
     "metadata": {},
     "output_type": "display_data"
    },
    {
     "name": "stdout",
     "output_type": "stream",
     "text": [
      "    days_til_dept  num_markets  num_searches  num_solutions  pct_searches  \\\n",
      "7               7         3062         18634        5858833      0.026533   \n",
      "30             30         2706         18222        4249684      0.025946   \n",
      "3               3         3130         13521        3439064      0.019253   \n",
      "22             22         2775         11760        3216119      0.016745   \n",
      "16             16         3193         11695        2752913      0.016653   \n",
      "\n",
      "    pct_solutions  cum_pct_searches  cum_pct_solutions  \n",
      "7        0.034744          0.126708           0.122821  \n",
      "30       0.025201          0.413154           0.392398  \n",
      "3        0.020394          0.058983           0.054045  \n",
      "22       0.019072          0.321754           0.312693  \n",
      "16       0.016325          0.243053           0.236102"
     ]
    }
   ],
   "source": [
    "data_df.sort_values(by=bar_data_col, ascending=False).head()"
   ]
  },
  {
   "cell_type": "code",
   "execution_count": null,
   "id": "65e9126e-9211-40c2-a824-f583596a6871",
   "metadata": {},
   "outputs": [],
   "source": []
  },
  {
   "cell_type": "markdown",
   "id": "7398c964-368d-42a1-af44-7edfb28b0e17",
   "metadata": {},
   "source": [
    "## stay duration (LOS)"
   ]
  },
  {
   "cell_type": "code",
   "execution_count": 38,
   "id": "b2dd99ab-3099-454d-8328-e279bb4cb77a",
   "metadata": {
    "execution": {
     "iopub.execute_input": "2022-11-05T00:39:49.109476Z",
     "iopub.status.busy": "2022-11-05T00:39:49.109253Z",
     "iopub.status.idle": "2022-11-05T00:41:32.782990Z",
     "shell.execute_reply": "2022-11-05T00:41:32.756128Z",
     "shell.execute_reply.started": "2022-11-05T00:39:49.109453Z"
    },
    "tags": []
   },
   "outputs": [
    {
     "data": {
      "application/vnd.jupyter.widget-view+json": {
       "model_id": "4357ad87564f4371a6e5a3b722b82049",
       "version_major": 2,
       "version_minor": 0
      },
      "text/plain": [
       "VBox()"
      ]
     },
     "metadata": {},
     "output_type": "display_data"
    },
    {
     "data": {
      "application/vnd.jupyter.widget-view+json": {
       "model_id": "",
       "version_major": 2,
       "version_minor": 0
      },
      "text/plain": [
       "FloatProgress(value=0.0, bar_style='info', description='Progress:', layout=Layout(height='25px', width='50%'),…"
      ]
     },
     "metadata": {},
     "output_type": "display_data"
    },
    {
     "name": "stdout",
     "output_type": "stream",
     "text": [
      "+-------------+-----------+------------+-------------+\n",
      "|stay_duration|num_markets|num_searches|num_solutions|\n",
      "+-------------+-----------+------------+-------------+\n",
      "|         null|      20265|      337062|     16354294|\n",
      "|            0|       1393|        4246|       470257|\n",
      "|            1|       1529|        6198|      2868796|\n",
      "|            2|       2954|       16865|      8787847|\n",
      "|            3|       4429|       36957|     17147188|\n",
      "|            4|       4619|       32821|     15541942|\n",
      "|            5|       3646|       25112|     11866367|\n",
      "|            6|       3216|       17881|      7804802|\n",
      "|            7|       5044|       47266|     21171908|\n",
      "|            8|       2751|       16110|      6367593|\n",
      "|            9|       2331|       14173|      5528270|\n",
      "|           10|       2095|       12392|      4854014|\n",
      "|           11|       1643|        8410|      3301193|\n",
      "|           12|       1351|        6236|      2613759|\n",
      "|           13|       1311|        6669|      2521226|\n",
      "|           14|       2204|       13601|      5154995|\n",
      "|           15|       1423|        7932|      2747224|\n",
      "|           16|       1248|        6780|      2333629|\n",
      "|           17|       1059|        5556|      1893659|\n",
      "|           18|        775|        4498|      1603633|\n",
      "+-------------+-----------+------------+-------------+\n",
      "only showing top 20 rows"
     ]
    }
   ],
   "source": [
    "los_stats = df_pl_markets.groupBy(\"stay_duration\").agg(\n",
    "    F.countDistinct(\"market\").alias(\"num_markets\"),\n",
    "    F.countDistinct(*uniq_key_cols).alias(\"num_searches\"),\n",
    "    F.count(\"id\").alias(\"num_solutions\"), # could count any column, really\n",
    ").orderBy(\"stay_duration\")\n",
    "los_stats.show()"
   ]
  },
  {
   "cell_type": "markdown",
   "id": "5157599d-5423-4994-baf3-75b40c02b272",
   "metadata": {},
   "source": [
    "Save data to HDFS; download & plot locally"
   ]
  },
  {
   "cell_type": "code",
   "execution_count": 52,
   "id": "eb8dfd3b-3ffc-417e-aa6e-c3e065d8a8d2",
   "metadata": {
    "execution": {
     "iopub.execute_input": "2022-11-05T00:57:21.483349Z",
     "iopub.status.busy": "2022-11-05T00:57:21.483128Z",
     "iopub.status.idle": "2022-11-05T00:57:21.751640Z",
     "shell.execute_reply": "2022-11-05T00:57:21.750943Z",
     "shell.execute_reply.started": "2022-11-05T00:57:21.483326Z"
    }
   },
   "outputs": [
    {
     "data": {
      "application/vnd.jupyter.widget-view+json": {
       "model_id": "3198f49d18e240a3b2f0817bf223f73e",
       "version_major": 2,
       "version_minor": 0
      },
      "text/plain": [
       "VBox()"
      ]
     },
     "metadata": {},
     "output_type": "display_data"
    },
    {
     "data": {
      "application/vnd.jupyter.widget-view+json": {
       "model_id": "",
       "version_major": 2,
       "version_minor": 0
      },
      "text/plain": [
       "FloatProgress(value=0.0, bar_style='info', description='Progress:', layout=Layout(height='25px', width='50%'),…"
      ]
     },
     "metadata": {},
     "output_type": "display_data"
    }
   ],
   "source": [
    "rt_los_stats = los_stats.dropna()\n",
    "\n",
    "w = Window.partitionBy()\n",
    "rt_los_stats = (rt_los_stats\n",
    "             .withColumn(\"pct_searches\", F.col(\"num_searches\") / F.sum(\"num_searches\").over(w))\n",
    "             .withColumn(\"pct_solutions\", F.col(\"num_solutions\") / F.sum(\"num_solutions\").over(w))                  \n",
    "            )\n",
    "\n",
    "w2 = Window.partitionBy().orderBy(\"stay_duration\").rowsBetween(Window.unboundedPreceding, Window.currentRow)\n",
    "# w3 = Window.partitionBy().orderBy(\"solution_rank\").rowsBetween(Window.unboundedPreceding, Window.currentRow)\n",
    "\n",
    "rt_los_stats = (rt_los_stats\n",
    "                   .withColumn(\"cum_pct_searches\", F.sum(\"pct_searches\").over(w2))\n",
    "                   .withColumn(\"cum_pct_solutions\", F.sum(\"pct_solutions\").over(w2))\n",
    "                  )"
   ]
  },
  {
   "cell_type": "code",
   "execution_count": 53,
   "id": "578ce1a7-a012-418f-8b75-11d67cef2693",
   "metadata": {
    "execution": {
     "iopub.execute_input": "2022-11-05T00:57:39.072862Z",
     "iopub.status.busy": "2022-11-05T00:57:39.072614Z",
     "iopub.status.idle": "2022-11-05T00:59:16.669851Z",
     "shell.execute_reply": "2022-11-05T00:59:16.669128Z",
     "shell.execute_reply.started": "2022-11-05T00:57:39.072836Z"
    }
   },
   "outputs": [
    {
     "data": {
      "application/vnd.jupyter.widget-view+json": {
       "model_id": "2b7692ffeab54c7e835edbba2e79094f",
       "version_major": 2,
       "version_minor": 0
      },
      "text/plain": [
       "VBox()"
      ]
     },
     "metadata": {},
     "output_type": "display_data"
    },
    {
     "data": {
      "application/vnd.jupyter.widget-view+json": {
       "model_id": "",
       "version_major": 2,
       "version_minor": 0
      },
      "text/plain": [
       "FloatProgress(value=0.0, bar_style='info', description='Progress:', layout=Layout(height='25px', width='50%'),…"
      ]
     },
     "metadata": {},
     "output_type": "display_data"
    },
    {
     "name": "stdout",
     "output_type": "stream",
     "text": [
      "+-------------+-----------+------------+-------------+--------------------+--------------------+--------------------+--------------------+\n",
      "|stay_duration|num_markets|num_searches|num_solutions|        pct_searches|       pct_solutions|    cum_pct_searches|   cum_pct_solutions|\n",
      "+-------------+-----------+------------+-------------+--------------------+--------------------+--------------------+--------------------+\n",
      "|            0|       1393|        4246|       470257|0.011575506598802101|0.003088213578341667|0.011575506598802101|0.003088213578341667|\n",
      "|            1|       1529|        6198|      2868796| 0.01689707722547702|0.018839602091393133| 0.02847258382427912|  0.0219278156697348|\n",
      "|            2|       2954|       16865|      8787847|0.045977606874422386| 0.05771046136429459| 0.07445019069870151|  0.0796382770340294|\n",
      "|            3|       4429|       36957|     17147188| 0.10075270781251278| 0.11260689115096062|  0.1752028985112143| 0.19224516818499002|\n",
      "|            4|       4619|       32821|     15541942| 0.08947708480435322| 0.10206511826128828|  0.2646799833155675|  0.2943102864462783|\n",
      "|            5|       3646|       25112|     11866367| 0.06846069752923184| 0.07792733695614414| 0.33314068084479936| 0.37223762340242245|\n",
      "|            6|       3216|       17881|      7804802|0.048747440766175314| 0.05125472988741943|  0.3818881216109747| 0.42349235328984186|\n",
      "|            7|       5044|       47266|     21171908| 0.12885725268463968| 0.13903753429507815|  0.5107453742956144|  0.5625298875849201|\n",
      "|            8|       2751|       16110|      6367593|0.043919314956830394| 0.04181646879037069|  0.5546646892524448|  0.6043463563752908|\n",
      "|            9|       2331|       14173|      5528270|0.038638637547061275| 0.03630457064698428|  0.5933033267995061|  0.6406509270222751|\n",
      "|           10|       2095|       12392|      4854014| 0.03378324959311249| 0.03187668007974479|  0.6270865763926187|  0.6725276071020199|\n",
      "|           11|       1643|        8410|      3301193| 0.02292746361185249|0.021679186162729024|  0.6500140400044712|  0.6942067932647489|\n",
      "|           12|       1351|        6236|      2613759|0.017000673374971714|0.017164754664604116|  0.6670147133794428|   0.711371547929353|\n",
      "|           13|       1311|        6669|      2521226|0.018181124236319176| 0.01655708339752103|   0.685195837615762|   0.727928631326874|\n",
      "|           14|       2204|       13601|      5154995|0.037079242875720064| 0.03385324525798319|   0.722275080491482|  0.7617818765848572|\n",
      "|           15|       1423|        7932|      2747224| 0.02162433309978763| 0.01804122949694764|  0.7438994135912697|  0.7798231060818048|\n",
      "|           16|       1248|        6780|      2333629|0.018483734041422104|0.015325119593354029|  0.7623831476326918|  0.7951482256751589|\n",
      "|           17|       1059|        5556|      1893659|0.015146847541908731| 0.01243580305354073|  0.7775299951746005|  0.8075840287286996|\n",
      "|           18|        775|        4498|      1603633| 0.01226251264281956|0.010531180195673392|    0.78979250781742|   0.818115208924373|\n",
      "|           19|        741|        3638|      1289989|0.009917968206886963|0.008471456130820782|   0.799710476024307|  0.8265866650551937|\n",
      "+-------------+-----------+------------+-------------+--------------------+--------------------+--------------------+--------------------+\n",
      "only showing top 20 rows"
     ]
    }
   ],
   "source": [
    "rt_los_stats.show()"
   ]
  },
  {
   "cell_type": "code",
   "execution_count": 55,
   "id": "2ef2fb43-4279-449d-a397-3587410734f2",
   "metadata": {
    "execution": {
     "iopub.execute_input": "2022-11-05T00:59:22.258449Z",
     "iopub.status.busy": "2022-11-05T00:59:22.258156Z",
     "iopub.status.idle": "2022-11-05T01:00:45.829200Z",
     "shell.execute_reply": "2022-11-05T01:00:45.828437Z",
     "shell.execute_reply.started": "2022-11-05T00:59:22.258413Z"
    },
    "tags": []
   },
   "outputs": [
    {
     "data": {
      "application/vnd.jupyter.widget-view+json": {
       "model_id": "96b8654537e042f59cf4914b14b891a4",
       "version_major": 2,
       "version_minor": 0
      },
      "text/plain": [
       "VBox()"
      ]
     },
     "metadata": {},
     "output_type": "display_data"
    },
    {
     "data": {
      "application/vnd.jupyter.widget-view+json": {
       "model_id": "",
       "version_major": 2,
       "version_minor": 0
      },
      "text/plain": [
       "FloatProgress(value=0.0, bar_style='info', description='Progress:', layout=Layout(height='25px', width='50%'),…"
      ]
     },
     "metadata": {},
     "output_type": "display_data"
    }
   ],
   "source": [
    "los_stats_pdf = rt_los_stats.toPandas()"
   ]
  },
  {
   "cell_type": "code",
   "execution_count": 57,
   "id": "7d26db02-f988-4a5d-a83e-4b3b8631a82f",
   "metadata": {
    "execution": {
     "iopub.execute_input": "2022-11-05T01:02:22.498138Z",
     "iopub.status.busy": "2022-11-05T01:02:22.497889Z",
     "iopub.status.idle": "2022-11-05T01:02:23.292781Z",
     "shell.execute_reply": "2022-11-05T01:02:23.292055Z",
     "shell.execute_reply.started": "2022-11-05T01:02:22.498113Z"
    },
    "tags": []
   },
   "outputs": [
    {
     "data": {
      "application/vnd.jupyter.widget-view+json": {
       "model_id": "00c840081de342dea7720a2270a521d2",
       "version_major": 2,
       "version_minor": 0
      },
      "text/plain": [
       "VBox()"
      ]
     },
     "metadata": {},
     "output_type": "display_data"
    },
    {
     "data": {
      "application/vnd.jupyter.widget-view+json": {
       "model_id": "",
       "version_major": 2,
       "version_minor": 0
      },
      "text/plain": [
       "FloatProgress(value=0.0, bar_style='info', description='Progress:', layout=Layout(height='25px', width='50%'),…"
      ]
     },
     "metadata": {},
     "output_type": "display_data"
    }
   ],
   "source": [
    "data_df = los_stats_pdf.copy()\n",
    "bar_data_col = 'num_searches'\n",
    "line_data_col = 'cum_pct_searches'\n",
    "order_col = 'stay_duration'\n",
    "x_label = 'stay duration (days)'\n",
    "top_n = 60\n",
    "what = 'Searches'\n",
    "title = 'Distribution of Searches by Stay Duration'\n",
    "file_name = 'los-overlay'\n",
    "\n",
    "data_df = data_df.sort_values(by=order_col)[:top_n]\n",
    "data_bar = data_df[bar_data_col]\n",
    "data_line = data_df[line_data_col]\n",
    "xs = range(len(data_bar))\n",
    "\n",
    "fig, ax = plt.subplots(figsize=(10,5))\n",
    "ax.bar(xs, data_bar);\n",
    "ax.set_ylabel(f\"Num {what}\")\n",
    "ax.set_xlabel(x_label)\n",
    "\n",
    "ax2 = ax.twinx()\n",
    "ax2.plot(xs, data_line, marker=\".\", color=\"red\")\n",
    "ax2.set_ylim(0, 1)\n",
    "ax2.set_ylabel(f\"Cumulative % Total {what}\")\n",
    "\n",
    "fig.suptitle(title)\n",
    "plt.savefig(f\"/tmp/{file_name}.png\")"
   ]
  },
  {
   "cell_type": "code",
   "execution_count": 58,
   "id": "a098bc7d-d7c8-428c-b193-11aee8784dd4",
   "metadata": {
    "execution": {
     "iopub.execute_input": "2022-11-05T01:03:03.362415Z",
     "iopub.status.busy": "2022-11-05T01:03:03.362175Z",
     "iopub.status.idle": "2022-11-05T01:03:03.424131Z",
     "shell.execute_reply": "2022-11-05T01:03:03.423507Z",
     "shell.execute_reply.started": "2022-11-05T01:03:03.362390Z"
    }
   },
   "outputs": [
    {
     "data": {
      "application/vnd.jupyter.widget-view+json": {
       "model_id": "4d3ffb0c397b4947ad710afe17a79afd",
       "version_major": 2,
       "version_minor": 0
      },
      "text/plain": [
       "VBox()"
      ]
     },
     "metadata": {},
     "output_type": "display_data"
    },
    {
     "data": {
      "application/vnd.jupyter.widget-view+json": {
       "model_id": "",
       "version_major": 2,
       "version_minor": 0
      },
      "text/plain": [
       "FloatProgress(value=0.0, bar_style='info', description='Progress:', layout=Layout(height='25px', width='50%'),…"
      ]
     },
     "metadata": {},
     "output_type": "display_data"
    },
    {
     "name": "stdout",
     "output_type": "stream",
     "text": [
      "   stay_duration  num_markets  num_searches  num_solutions  pct_searches  \\\n",
      "7              7         5044         47266       21171908      0.128857   \n",
      "3              3         4429         36957       17147188      0.100753   \n",
      "4              4         4619         32821       15541942      0.089477   \n",
      "5              5         3646         25112       11866367      0.068461   \n",
      "6              6         3216         17881        7804802      0.048747   \n",
      "\n",
      "   pct_solutions  cum_pct_searches  cum_pct_solutions  \n",
      "7       0.139038          0.510745           0.562530  \n",
      "3       0.112607          0.175203           0.192245  \n",
      "4       0.102065          0.264680           0.294310  \n",
      "5       0.077927          0.333141           0.372238  \n",
      "6       0.051255          0.381888           0.423492"
     ]
    }
   ],
   "source": [
    "los_stats_pdf.sort_values(by=bar_data_col, ascending=False).head()"
   ]
  },
  {
   "cell_type": "code",
   "execution_count": 64,
   "id": "ee7c5634-c80a-4a4b-970f-1da9dbeed703",
   "metadata": {
    "execution": {
     "iopub.execute_input": "2022-11-05T01:07:15.495775Z",
     "iopub.status.busy": "2022-11-05T01:07:15.495451Z",
     "iopub.status.idle": "2022-11-05T01:07:15.573965Z",
     "shell.execute_reply": "2022-11-05T01:07:15.573399Z",
     "shell.execute_reply.started": "2022-11-05T01:07:15.495738Z"
    },
    "tags": []
   },
   "outputs": [
    {
     "data": {
      "application/vnd.jupyter.widget-view+json": {
       "model_id": "5989125484cf461588cdf8a909e03666",
       "version_major": 2,
       "version_minor": 0
      },
      "text/plain": [
       "VBox()"
      ]
     },
     "metadata": {},
     "output_type": "display_data"
    },
    {
     "data": {
      "application/vnd.jupyter.widget-view+json": {
       "model_id": "",
       "version_major": 2,
       "version_minor": 0
      },
      "text/plain": [
       "FloatProgress(value=0.0, bar_style='info', description='Progress:', layout=Layout(height='25px', width='50%'),…"
      ]
     },
     "metadata": {},
     "output_type": "display_data"
    },
    {
     "name": "stdout",
     "output_type": "stream",
     "text": [
      "    stay_duration  num_markets  num_searches  num_solutions  pct_searches  \\\n",
      "59             59          107           331         139951      0.000902   \n",
      "\n",
      "    pct_solutions  cum_pct_searches  cum_pct_solutions  \n",
      "59       0.000919          0.969488           0.969049"
     ]
    }
   ],
   "source": [
    "data_df.tail(1)"
   ]
  },
  {
   "cell_type": "code",
   "execution_count": 65,
   "id": "a8812f0c-e781-4c2b-a8dd-ba8461b6d2e8",
   "metadata": {
    "execution": {
     "iopub.execute_input": "2022-11-05T01:10:30.081734Z",
     "iopub.status.busy": "2022-11-05T01:10:30.081515Z",
     "iopub.status.idle": "2022-11-05T01:10:30.144471Z",
     "shell.execute_reply": "2022-11-05T01:10:30.143407Z",
     "shell.execute_reply.started": "2022-11-05T01:10:30.081711Z"
    },
    "tags": []
   },
   "outputs": [
    {
     "data": {
      "application/vnd.jupyter.widget-view+json": {
       "model_id": "996d88d7bb4e43a0b46a7488f3589ec6",
       "version_major": 2,
       "version_minor": 0
      },
      "text/plain": [
       "VBox()"
      ]
     },
     "metadata": {},
     "output_type": "display_data"
    },
    {
     "data": {
      "application/vnd.jupyter.widget-view+json": {
       "model_id": "",
       "version_major": 2,
       "version_minor": 0
      },
      "text/plain": [
       "FloatProgress(value=0.0, bar_style='info', description='Progress:', layout=Layout(height='25px', width='50%'),…"
      ]
     },
     "metadata": {},
     "output_type": "display_data"
    },
    {
     "name": "stdout",
     "output_type": "stream",
     "text": [
      "At 3 stay duration (days):\n",
      "% search volume: 10.1%\n",
      "Cumulative % search volume: 17.5%\n",
      "\n",
      "At 7 stay duration (days):\n",
      "% search volume: 12.9%\n",
      "Cumulative % search volume: 51.1%\n",
      "\n",
      "At 14 stay duration (days):\n",
      "% search volume: 3.7%\n",
      "Cumulative % search volume: 72.2%\n",
      "\n",
      "At 21 stay duration (days):\n",
      "% search volume: 1.9%\n",
      "Cumulative % search volume: 82.8%\n",
      "\n",
      "At 30 stay duration (days):\n",
      "% search volume: 0.9%\n",
      "Cumulative % search volume: 90.4%"
     ]
    }
   ],
   "source": [
    "for num in [3, 7, 14, 21, 30]:\n",
    "    x = data_df[data_df[order_col] == num]\n",
    "    pct = x['pct_searches'].values[0]\n",
    "    cum_pct = x[line_data_col].values[0]\n",
    "    print(f\"At {num} {x_label}:\")\n",
    "    print(f\"% search volume: {pct*100:.1f}%\")\n",
    "    print(f\"Cumulative % search volume: {cum_pct*100:.1f}%\")\n",
    "    print()"
   ]
  },
  {
   "cell_type": "markdown",
   "id": "76f20989-cb1f-48e6-b229-139c05c9f28b",
   "metadata": {},
   "source": [
    "# Heatmap -flying blind"
   ]
  },
  {
   "cell_type": "code",
   "execution_count": 29,
   "id": "cae39945-8ae0-443a-b864-be17e9001dd1",
   "metadata": {
    "execution": {
     "iopub.execute_input": "2022-11-05T00:20:30.728947Z",
     "iopub.status.busy": "2022-11-05T00:20:30.728680Z",
     "iopub.status.idle": "2022-11-05T00:20:54.144318Z",
     "shell.execute_reply": "2022-11-05T00:20:54.143648Z",
     "shell.execute_reply.started": "2022-11-05T00:20:30.728922Z"
    },
    "tags": []
   },
   "outputs": [
    {
     "data": {
      "application/vnd.jupyter.widget-view+json": {
       "model_id": "5c8e2ba3d9324019bf1c09b7f9cc85f2",
       "version_major": 2,
       "version_minor": 0
      },
      "text/plain": [
       "VBox()"
      ]
     },
     "metadata": {},
     "output_type": "display_data"
    },
    {
     "data": {
      "application/vnd.jupyter.widget-view+json": {
       "model_id": "",
       "version_major": 2,
       "version_minor": 0
      },
      "text/plain": [
       "FloatProgress(value=0.0, bar_style='info', description='Progress:', layout=Layout(height='25px', width='50%'),…"
      ]
     },
     "metadata": {},
     "output_type": "display_data"
    },
    {
     "name": "stdout",
     "output_type": "stream",
     "text": [
      "+-------+------------+-------------+-----------+-------------+--------------------+--------------------+--------------------+--------------------+\n",
      "| market|num_searches|num_solutions|search_rank|solution_rank|        pct_searches|       pct_solutions|    cum_pct_searches|   cum_pct_solutions|\n",
      "+-------+------------+-------------+-----------+-------------+--------------------+--------------------+--------------------+--------------------+\n",
      "|SFO-LAX|       10070|      2032882|          1|            1|0.008629111038749592|0.012055347992807408|0.008629111038749592|0.012055347992807408|\n",
      "|LAX-MNL|        5271|      1286449|          2|            3| 0.00451678692008432|0.007628868950583014|0.013145897958833912|0.027490943731762488|\n",
      "|SFO-SNA|        4708|       862844|          3|            9|0.004034345061612...|0.005116816757443...|0.017180243020445934| 0.06147179495633791|\n",
      "|SJC-LAX|        4632|       870513|          4|            8|0.003969219695281839|0.005162295276982508|0.021149462715727773| 0.05635497819889408|\n",
      "|LAX-HKG|        4470|       315263|          5|           40|0.003830399835472...|0.001869565067847...| 0.02497986255120053|  0.1485222475888794|\n",
      "|SEA-IST|        4414|       563527|          6|           15|0.003782412723439...|0.003341814275665179|0.028762275274640522| 0.08646556530647803|\n",
      "|SFO-HKG|        4386|       256436|          7|           71|0.003758419167423606|0.001520710605870...| 0.03252069444206413| 0.20011801050186723|\n",
      "|SFO-ONT|        4303|       300502|          8|           47|0.003687295412089...|0.001782029740306...| 0.03620798985415345|  0.1612557764361611|\n",
      "|SFO-BUR|        4118|       299545|          9|           50|0.003528766559838215|0.001776354561900...|0.039736756413991665| 0.16659254935062792|\n",
      "|MIA-MAD|        4071|      1263572|         10|            4|0.003488491662239...|0.007493204314843479| 0.04322524807623095| 0.03498414804660597|\n",
      "|LAX-BKK|        3805|       505779|         11|           20|0.003260552880083...|0.002999358473563216| 0.04648580095631459| 0.10206989234239935|\n",
      "|LAX-SFO|        3691|       578286|         12|           14|0.003162864830588...|0.003429337742854049| 0.04964866578690295| 0.08312375103081285|\n",
      "|SEA-SAW|        3660|       182700|         13|          128|0.003136300536427...|0.001083443150308...| 0.05278496632333031| 0.27347324950990054|\n",
      "|LAX-SJC|        3439|       263119|         14|           65|0.002946922826440...|0.001560341971899...| 0.05573188914977121| 0.19091618609508942|\n",
      "|OAK-LAX|        3385|       258825|         15|           68|0.002900649539837...|0.001534877796270...| 0.05863253868960908| 0.19554571436263712|\n",
      "|SNA-SFO|        3340|       250260|         16|           75|0.002862088467668...|0.001484085839060...| 0.06149462715727776|  0.2061460284484774|\n",
      "|LAX-HNL|        3321|      1316441|         17|            2|0.002845807126086137|0.007806726788372064|  0.0643404342833639|0.019862074781179472|\n",
      "|ONT-SFO|        2998|        80475|         18|          405|0.002569024319182848|4.772309114455124E-4| 0.06690945860254675|  0.4692847009880742|\n",
      "|ONT-HNL|        2987|       152511|         19|          173|0.002559598279319...|9.044170678529548E-4| 0.06946905688186603| 0.31757525067150355|\n",
      "|LGB-HNL|        2911|       198105|         20|          118|0.002494472912989083|0.001174797511176...| 0.07196352979485511| 0.26222471974877876|\n",
      "+-------+------------+-------------+-----------+-------------+--------------------+--------------------+--------------------+--------------------+\n",
      "only showing top 20 rows"
     ]
    }
   ],
   "source": [
    "pl_market_stats.orderBy(\"search_rank\").show()"
   ]
  },
  {
   "cell_type": "code",
   "execution_count": 68,
   "id": "7e9d650a-8c67-4fce-ae97-c268111acb75",
   "metadata": {
    "execution": {
     "iopub.execute_input": "2022-11-05T01:14:13.127891Z",
     "iopub.status.busy": "2022-11-05T01:14:13.127661Z",
     "iopub.status.idle": "2022-11-05T01:14:13.401845Z",
     "shell.execute_reply": "2022-11-05T01:14:13.401273Z",
     "shell.execute_reply.started": "2022-11-05T01:14:13.127865Z"
    }
   },
   "outputs": [
    {
     "data": {
      "application/vnd.jupyter.widget-view+json": {
       "model_id": "80f85885a05c46d9995d1b2c1cba76cc",
       "version_major": 2,
       "version_minor": 0
      },
      "text/plain": [
       "VBox()"
      ]
     },
     "metadata": {},
     "output_type": "display_data"
    },
    {
     "data": {
      "application/vnd.jupyter.widget-view+json": {
       "model_id": "",
       "version_major": 2,
       "version_minor": 0
      },
      "text/plain": [
       "FloatProgress(value=0.0, bar_style='info', description='Progress:', layout=Layout(height='25px', width='50%'),…"
      ]
     },
     "metadata": {},
     "output_type": "display_data"
    }
   ],
   "source": [
    "# restrict to round-trips and/or one-ways\n",
    "cond_rt = (((F.col(\"out_origin_airport\") == F.col(\"in_destination_airport\")) &\n",
    "        (F.col(\"out_destination_airport\") == F.col(\"in_origin_airport\"))))\n",
    "cond_ow = ((F.col(\"in_origin_airport\").isNull()) & (F.col(\"in_destination_airport\").isNull()))\n",
    "\n",
    "# df_pl_markets = df_pl_markets.filter(cond_rt | cond_ow)\n",
    "df_pl_markets = df_pl_markets.withColumn(\"trip_type\", \n",
    "    F.when(cond_rt, \"rt\").otherwise(F.when(cond_ow, \"ow\").otherwise(\"other\")))"
   ]
  },
  {
   "cell_type": "code",
   "execution_count": 69,
   "id": "429c15b5-3d85-495f-aeae-a9984630be69",
   "metadata": {
    "execution": {
     "iopub.execute_input": "2022-11-05T01:14:14.429940Z",
     "iopub.status.busy": "2022-11-05T01:14:14.429697Z",
     "iopub.status.idle": "2022-11-05T01:14:14.492084Z",
     "shell.execute_reply": "2022-11-05T01:14:14.491388Z",
     "shell.execute_reply.started": "2022-11-05T01:14:14.429915Z"
    },
    "tags": []
   },
   "outputs": [
    {
     "data": {
      "application/vnd.jupyter.widget-view+json": {
       "model_id": "7895b91d9bac4fa88c7ad09a2399ad04",
       "version_major": 2,
       "version_minor": 0
      },
      "text/plain": [
       "VBox()"
      ]
     },
     "metadata": {},
     "output_type": "display_data"
    },
    {
     "data": {
      "application/vnd.jupyter.widget-view+json": {
       "model_id": "",
       "version_major": 2,
       "version_minor": 0
      },
      "text/plain": [
       "FloatProgress(value=0.0, bar_style='info', description='Progress:', layout=Layout(height='25px', width='50%'),…"
      ]
     },
     "metadata": {},
     "output_type": "display_data"
    }
   ],
   "source": [
    "market = 'SFO-LAX'\n",
    "market_df = df_pl_markets.filter(F.col(\"market\") == market)\n"
   ]
  },
  {
   "cell_type": "code",
   "execution_count": 70,
   "id": "75dc11ad-c0a8-4d2f-a67e-a3e4e9831343",
   "metadata": {
    "execution": {
     "iopub.execute_input": "2022-11-05T01:14:15.255159Z",
     "iopub.status.busy": "2022-11-05T01:14:15.254825Z",
     "iopub.status.idle": "2022-11-05T01:14:15.526636Z",
     "shell.execute_reply": "2022-11-05T01:14:15.525944Z",
     "shell.execute_reply.started": "2022-11-05T01:14:15.255116Z"
    },
    "tags": []
   },
   "outputs": [
    {
     "data": {
      "application/vnd.jupyter.widget-view+json": {
       "model_id": "c50b9830ea7c4764b698658c5cf5c392",
       "version_major": 2,
       "version_minor": 0
      },
      "text/plain": [
       "VBox()"
      ]
     },
     "metadata": {},
     "output_type": "display_data"
    },
    {
     "data": {
      "application/vnd.jupyter.widget-view+json": {
       "model_id": "",
       "version_major": 2,
       "version_minor": 0
      },
      "text/plain": [
       "FloatProgress(value=0.0, bar_style='info', description='Progress:', layout=Layout(height='25px', width='50%'),…"
      ]
     },
     "metadata": {},
     "output_type": "display_data"
    },
    {
     "name": "stdout",
     "output_type": "stream",
     "text": [
      "['market', 'id', 'group_id', 'originalRequest', 'shop_req_timeStamp', 'gds', 'pcc', 'point_of_sale', 'constricted_search', 'split_ticket', 'lowest_fare_not_in_result', 'request_PTC', 'robotic_shop_type', 'confidence_level', 'pos_city', 'private_fare', 'currency', 'fare', 'tax', 'validating_cxr', 'fare_break_down_by_PTC', 'tax_break_down_by_PTC', 'tax_breakdown', 'refund_rule', 'response_PTC', 'channel_id', 'private_fare_account_code', 'fare_construction_text', 'out_durations', 'out_trip_duration_time', 'out_layovers', 'out_origin_airport', 'out_destination_airport', 'out_origin_city', 'out_destination_city', 'out_departure_date', 'out_departure_time', 'out_arrival_date', 'out_arrival_time', 'out_departure_time_zone', 'out_arrival_time_zone', 'out_departure_epoc', 'out_arrival_epoc', 'out_departure_terminal', 'out_arrival_terminal', 'out_airport_search', 'out_marketing_cxr', 'out_operating_cxr', 'out_flight_numbers', 'out_booking_class', 'out_cabin_class', 'out_seats', 'out_avail_source', 'out_equipments', 'out_segments', 'out_fare_components', 'out_fare_types', 'out_baggage', 'out_refund_rule', 'out_incidental_stops', 'out_incidental_stop_airport', 'out_incidental_stop_departure', 'out_incidental_stop_arrival', 'out_change_of_gauge', 'out_stop_over', 'out_availability_connection_indicator', 'out_remaining_seats', 'out_brand_id', 'out_codeshare_operating_carrier', 'out_codeshare_operating_flight', 'out_via_airports', 'out_num_stops', 'in_durations', 'in_trip_duration_time', 'in_layovers', 'in_origin_airport', 'in_destination_airport', 'in_origin_city', 'in_destination_city', 'in_departure_date', 'in_departure_time', 'in_arrival_date', 'in_arrival_time', 'in_departure_time_zone', 'in_arrival_time_zone', 'in_departure_epoc', 'in_arrival_epoc', 'in_departure_terminal', 'in_arrival_terminal', 'in_airport_search', 'in_marketing_cxr', 'in_operating_cxr', 'in_flight_numbers', 'in_booking_class', 'in_cabin_class', 'in_seats', 'in_avail_source', 'in_equipments', 'in_segments', 'in_fare_components', 'in_fare_types', 'in_baggage', 'in_refund_rule', 'in_incidental_stops', 'in_incidental_stop_airport', 'in_incidental_stop_departure', 'in_incidental_stop_arrival', 'in_change_of_gauge', 'in_stop_over', 'in_availability_connection_indicator', 'in_remaining_seats', 'in_brand_id', 'in_codeshare_operating_carrier', 'in_codeshare_operating_flight', 'in_via_airports', 'in_num_stops', 'origin_country', 'destination_country', 'gds_pcc', 'outDeptDt_dt', 'inDeptDt_dt', 'searchDt_dt', 'days_til_dept', 'stay_duration', 'trip_type']"
     ]
    }
   ],
   "source": [
    "market_df.columns"
   ]
  },
  {
   "cell_type": "code",
   "execution_count": 71,
   "id": "9b5d29cb-c737-419b-b89d-a1c6d3c0bfbd",
   "metadata": {
    "execution": {
     "iopub.execute_input": "2022-11-05T01:14:29.850310Z",
     "iopub.status.busy": "2022-11-05T01:14:29.850085Z",
     "iopub.status.idle": "2022-11-05T01:14:30.118581Z",
     "shell.execute_reply": "2022-11-05T01:14:30.117978Z",
     "shell.execute_reply.started": "2022-11-05T01:14:29.850287Z"
    }
   },
   "outputs": [
    {
     "data": {
      "application/vnd.jupyter.widget-view+json": {
       "model_id": "587ce27a3c7a4219afcb8f4b1dd64ae2",
       "version_major": 2,
       "version_minor": 0
      },
      "text/plain": [
       "VBox()"
      ]
     },
     "metadata": {},
     "output_type": "display_data"
    },
    {
     "data": {
      "application/vnd.jupyter.widget-view+json": {
       "model_id": "",
       "version_major": 2,
       "version_minor": 0
      },
      "text/plain": [
       "FloatProgress(value=0.0, bar_style='info', description='Progress:', layout=Layout(height='25px', width='50%'),…"
      ]
     },
     "metadata": {},
     "output_type": "display_data"
    }
   ],
   "source": [
    "market_df_rt = market_df.filter(F.col(\"trip_type\") == \"rt\")"
   ]
  },
  {
   "cell_type": "code",
   "execution_count": 72,
   "id": "5228b361-1683-45a9-9ef7-386dfe36fa52",
   "metadata": {
    "execution": {
     "iopub.execute_input": "2022-11-05T01:15:20.753480Z",
     "iopub.status.busy": "2022-11-05T01:15:20.753255Z",
     "iopub.status.idle": "2022-11-05T01:15:21.028341Z",
     "shell.execute_reply": "2022-11-05T01:15:21.027512Z",
     "shell.execute_reply.started": "2022-11-05T01:15:20.753456Z"
    }
   },
   "outputs": [
    {
     "data": {
      "application/vnd.jupyter.widget-view+json": {
       "model_id": "2c7c7bfaeb9347b0a3658a93c0aa4dcd",
       "version_major": 2,
       "version_minor": 0
      },
      "text/plain": [
       "VBox()"
      ]
     },
     "metadata": {},
     "output_type": "display_data"
    },
    {
     "data": {
      "application/vnd.jupyter.widget-view+json": {
       "model_id": "",
       "version_major": 2,
       "version_minor": 0
      },
      "text/plain": [
       "FloatProgress(value=0.0, bar_style='info', description='Progress:', layout=Layout(height='25px', width='50%'),…"
      ]
     },
     "metadata": {},
     "output_type": "display_data"
    }
   ],
   "source": [
    "market_grp_df = market_df_rt.groupBy(\"out_departure_date\", \"stay_duration\").agg(\n",
    "                        F.countDistinct(*uniq_key_cols).alias(\"num_searches\"),\n",
    "                       F.count(\"id\").alias(\"num_solutions\"), # could count any column, really\n",
    "                   )"
   ]
  },
  {
   "cell_type": "code",
   "execution_count": 73,
   "id": "16a5b92a-6a4f-440a-85ca-aca315f58ef8",
   "metadata": {
    "execution": {
     "iopub.execute_input": "2022-11-05T01:15:35.058131Z",
     "iopub.status.busy": "2022-11-05T01:15:35.057894Z",
     "iopub.status.idle": "2022-11-05T01:17:08.630343Z",
     "shell.execute_reply": "2022-11-05T01:17:08.629712Z",
     "shell.execute_reply.started": "2022-11-05T01:15:35.058106Z"
    }
   },
   "outputs": [
    {
     "data": {
      "application/vnd.jupyter.widget-view+json": {
       "model_id": "5b4017e241064aedae5b081f40b757ce",
       "version_major": 2,
       "version_minor": 0
      },
      "text/plain": [
       "VBox()"
      ]
     },
     "metadata": {},
     "output_type": "display_data"
    },
    {
     "data": {
      "application/vnd.jupyter.widget-view+json": {
       "model_id": "",
       "version_major": 2,
       "version_minor": 0
      },
      "text/plain": [
       "FloatProgress(value=0.0, bar_style='info', description='Progress:', layout=Layout(height='25px', width='50%'),…"
      ]
     },
     "metadata": {},
     "output_type": "display_data"
    }
   ],
   "source": [
    "market_pdf = market_grp_df.toPandas()"
   ]
  },
  {
   "cell_type": "code",
   "execution_count": 74,
   "id": "b9cda909-fab1-4326-8e1e-1b8e7ab0991e",
   "metadata": {
    "execution": {
     "iopub.execute_input": "2022-11-05T01:17:16.173850Z",
     "iopub.status.busy": "2022-11-05T01:17:16.173602Z",
     "iopub.status.idle": "2022-11-05T01:17:16.228227Z",
     "shell.execute_reply": "2022-11-05T01:17:16.227520Z",
     "shell.execute_reply.started": "2022-11-05T01:17:16.173824Z"
    }
   },
   "outputs": [
    {
     "data": {
      "application/vnd.jupyter.widget-view+json": {
       "model_id": "ce2f29d332cb4f6bbf8afea2373dad3c",
       "version_major": 2,
       "version_minor": 0
      },
      "text/plain": [
       "VBox()"
      ]
     },
     "metadata": {},
     "output_type": "display_data"
    },
    {
     "data": {
      "application/vnd.jupyter.widget-view+json": {
       "model_id": "",
       "version_major": 2,
       "version_minor": 0
      },
      "text/plain": [
       "FloatProgress(value=0.0, bar_style='info', description='Progress:', layout=Layout(height='25px', width='50%'),…"
      ]
     },
     "metadata": {},
     "output_type": "display_data"
    },
    {
     "name": "stdout",
     "output_type": "stream",
     "text": [
      "   out_departure_date  stay_duration  num_searches  num_solutions\n",
      "0            20221212             63             1            628\n",
      "1            20221128             14             1            318\n",
      "2            20221119             75             1            424\n",
      "3            20221211             76             2            704\n",
      "4            20230118             13             2            882"
     ]
    }
   ],
   "source": [
    "market_pdf.head()"
   ]
  },
  {
   "cell_type": "code",
   "execution_count": 76,
   "id": "909aa54c-9fd5-43e9-b657-efeeb0ef2e5c",
   "metadata": {
    "execution": {
     "iopub.execute_input": "2022-11-05T01:17:33.960438Z",
     "iopub.status.busy": "2022-11-05T01:17:33.960184Z",
     "iopub.status.idle": "2022-11-05T01:17:34.041395Z",
     "shell.execute_reply": "2022-11-05T01:17:34.040540Z",
     "shell.execute_reply.started": "2022-11-05T01:17:33.960411Z"
    },
    "tags": []
   },
   "outputs": [
    {
     "data": {
      "application/vnd.jupyter.widget-view+json": {
       "model_id": "034d26b3d37e445eb187e5e515d6af46",
       "version_major": 2,
       "version_minor": 0
      },
      "text/plain": [
       "VBox()"
      ]
     },
     "metadata": {},
     "output_type": "display_data"
    },
    {
     "data": {
      "application/vnd.jupyter.widget-view+json": {
       "model_id": "",
       "version_major": 2,
       "version_minor": 0
      },
      "text/plain": [
       "FloatProgress(value=0.0, bar_style='info', description='Progress:', layout=Layout(height='25px', width='50%'),…"
      ]
     },
     "metadata": {},
     "output_type": "display_data"
    }
   ],
   "source": [
    "market_pivot = market_pdf.pivot(index=\"stay_duration\", \n",
    "                                columns=\"out_departure_date\", \n",
    "                                values=\"num_searches\")"
   ]
  },
  {
   "cell_type": "code",
   "execution_count": 79,
   "id": "d06f5a74-68b5-4c92-ae08-14e889d7c58d",
   "metadata": {
    "execution": {
     "iopub.execute_input": "2022-11-05T01:20:11.191348Z",
     "iopub.status.busy": "2022-11-05T01:20:11.191124Z",
     "iopub.status.idle": "2022-11-05T01:20:12.502118Z",
     "shell.execute_reply": "2022-11-05T01:20:12.501501Z",
     "shell.execute_reply.started": "2022-11-05T01:20:11.191322Z"
    },
    "tags": []
   },
   "outputs": [
    {
     "data": {
      "application/vnd.jupyter.widget-view+json": {
       "model_id": "737ed87fd72e4c81b8b5869df366c5e9",
       "version_major": 2,
       "version_minor": 0
      },
      "text/plain": [
       "VBox()"
      ]
     },
     "metadata": {},
     "output_type": "display_data"
    },
    {
     "data": {
      "application/vnd.jupyter.widget-view+json": {
       "model_id": "",
       "version_major": 2,
       "version_minor": 0
      },
      "text/plain": [
       "FloatProgress(value=0.0, bar_style='info', description='Progress:', layout=Layout(height='25px', width='50%'),…"
      ]
     },
     "metadata": {},
     "output_type": "display_data"
    }
   ],
   "source": [
    "plt.figure(figsize=(12, 12))\n",
    "sns.heatmap(market_pivot, cmap='Greens', square=True,\n",
    "                        vmin=0,\n",
    "                        cbar_kws={'label': 'num searches',\n",
    "                                'shrink': 0.5});\n",
    "plt.title(f\"{market} shop volume\");\n",
    "plt.ylabel(\"stay duration (days)\")\n",
    "plt.xlabel(\"departure date\");\n",
    "plt.savefig(f\"/tmp/{market}-heatmap.png\")\n"
   ]
  },
  {
   "cell_type": "markdown",
   "id": "a9632283-412c-429b-af62-cc2461006f57",
   "metadata": {},
   "source": [
    "Clip data"
   ]
  },
  {
   "cell_type": "code",
   "execution_count": 80,
   "id": "b9dfa666-0eac-4f1a-87a9-be543987d0c3",
   "metadata": {
    "execution": {
     "iopub.execute_input": "2022-11-05T01:21:59.310300Z",
     "iopub.status.busy": "2022-11-05T01:21:59.310069Z",
     "iopub.status.idle": "2022-11-05T01:22:00.080510Z",
     "shell.execute_reply": "2022-11-05T01:22:00.079915Z",
     "shell.execute_reply.started": "2022-11-05T01:21:59.310275Z"
    }
   },
   "outputs": [
    {
     "data": {
      "application/vnd.jupyter.widget-view+json": {
       "model_id": "bc34fbec8e214d6eabd2083797adcea2",
       "version_major": 2,
       "version_minor": 0
      },
      "text/plain": [
       "VBox()"
      ]
     },
     "metadata": {},
     "output_type": "display_data"
    },
    {
     "data": {
      "application/vnd.jupyter.widget-view+json": {
       "model_id": "",
       "version_major": 2,
       "version_minor": 0
      },
      "text/plain": [
       "FloatProgress(value=0.0, bar_style='info', description='Progress:', layout=Layout(height='25px', width='50%'),…"
      ]
     },
     "metadata": {},
     "output_type": "display_data"
    }
   ],
   "source": [
    "market_pdf_clip = market_pdf[(market_pdf['stay_duration'] <= 30)]\n",
    "market_pivot = market_pdf_clip.pivot(index=\"stay_duration\", \n",
    "                                columns=\"out_departure_date\", \n",
    "                                values=\"num_searches\")\n",
    "plt.figure(figsize=(15, 6))\n",
    "sns.heatmap(market_pivot, cmap='Greens', square=True,\n",
    "                        vmin=0,\n",
    "                        cbar_kws={'label': 'num searches',\n",
    "                                'shrink': 0.5});\n",
    "plt.title(f\"{market} shop volume\");\n",
    "plt.ylabel(\"stay duration (days)\")\n",
    "plt.xlabel(\"departure date\");\n",
    "plt.savefig(f\"/tmp/{market}-heatmap.png\")"
   ]
  },
  {
   "cell_type": "code",
   "execution_count": null,
   "id": "85927206-d8f7-453e-aae4-58b7e5c62cb4",
   "metadata": {},
   "outputs": [],
   "source": []
  }
 ],
 "metadata": {
  "kernelspec": {
   "display_name": "PySpark",
   "language": "python",
   "name": "pysparkkernel"
  },
  "language_info": {
   "codemirror_mode": {
    "name": "python",
    "version": 3
   },
   "file_extension": ".py",
   "mimetype": "text/x-python",
   "name": "pyspark",
   "pygments_lexer": "python3"
  }
 },
 "nbformat": 4,
 "nbformat_minor": 5
}
