{
 "cells": [
  {
   "cell_type": "markdown",
   "id": "135d27e7-c97e-4343-bbdc-8463375dbcd3",
   "metadata": {},
   "source": [
    "Version notes:\n",
    "- after adding `is_holiday` indicator to feature engineered data\n",
    "    - see if this feature helps\n",
    "    - try excluding holiday data"
   ]
  },
  {
   "cell_type": "code",
   "execution_count": 1,
   "id": "41f7156c-a5ea-4ed8-9eef-b4ef1f17e673",
   "metadata": {
    "execution": {
     "iopub.execute_input": "2022-11-18T20:12:39.239264Z",
     "iopub.status.busy": "2022-11-18T20:12:39.239033Z",
     "iopub.status.idle": "2022-11-18T20:13:02.104811Z",
     "shell.execute_reply": "2022-11-18T20:13:02.104213Z",
     "shell.execute_reply.started": "2022-11-18T20:12:39.239238Z"
    },
    "tags": []
   },
   "outputs": [
    {
     "data": {
      "application/vnd.jupyter.widget-view+json": {
       "model_id": "00dba66ec27b4a1f9e04f98ae334585a",
       "version_major": 2,
       "version_minor": 0
      },
      "text/plain": [
       "VBox()"
      ]
     },
     "metadata": {},
     "output_type": "display_data"
    },
    {
     "name": "stdout",
     "output_type": "stream",
     "text": [
      "Starting Spark application\n"
     ]
    },
    {
     "data": {
      "text/html": [
       "<table>\n",
       "<tr><th>ID</th><th>YARN Application ID</th><th>Kind</th><th>State</th><th>Spark UI</th><th>Driver log</th><th>User</th><th>Current session?</th></tr><tr><td>4</td><td>application_1668799821812_0005</td><td>pyspark</td><td>idle</td><td></td><td></td><td>None</td><td>✔</td></tr></table>"
      ],
      "text/plain": [
       "<IPython.core.display.HTML object>"
      ]
     },
     "metadata": {},
     "output_type": "display_data"
    },
    {
     "data": {
      "application/vnd.jupyter.widget-view+json": {
       "model_id": "",
       "version_major": 2,
       "version_minor": 0
      },
      "text/plain": [
       "FloatProgress(value=0.0, bar_style='info', description='Progress:', layout=Layout(height='25px', width='50%'),…"
      ]
     },
     "metadata": {},
     "output_type": "display_data"
    },
    {
     "name": "stdout",
     "output_type": "stream",
     "text": [
      "SparkSession available as 'spark'.\n"
     ]
    },
    {
     "data": {
      "application/vnd.jupyter.widget-view+json": {
       "model_id": "",
       "version_major": 2,
       "version_minor": 0
      },
      "text/plain": [
       "FloatProgress(value=0.0, bar_style='info', description='Progress:', layout=Layout(height='25px', width='50%'),…"
      ]
     },
     "metadata": {},
     "output_type": "display_data"
    }
   ],
   "source": [
    "import datetime\n",
    "\n",
    "from pyspark.sql import SparkSession\n",
    "import pyspark.sql.functions as F\n",
    "import pyspark.sql.types as T\n",
    "from pyspark.sql.window import Window"
   ]
  },
  {
   "cell_type": "code",
   "execution_count": 7,
   "id": "cb8f4634-5cd4-49a7-a711-664b4d9b6df5",
   "metadata": {
    "execution": {
     "iopub.execute_input": "2022-11-18T20:14:29.953960Z",
     "iopub.status.busy": "2022-11-18T20:14:29.953741Z",
     "iopub.status.idle": "2022-11-18T20:14:37.259243Z",
     "shell.execute_reply": "2022-11-18T20:14:37.258675Z",
     "shell.execute_reply.started": "2022-11-18T20:14:29.953937Z"
    },
    "tags": []
   },
   "outputs": [
    {
     "data": {
      "application/vnd.jupyter.widget-view+json": {
       "model_id": "0df881a80817404ea9b5bec59a469694",
       "version_major": 2,
       "version_minor": 0
      },
      "text/plain": [
       "VBox()"
      ]
     },
     "metadata": {},
     "output_type": "display_data"
    },
    {
     "data": {
      "application/vnd.jupyter.widget-view+json": {
       "model_id": "",
       "version_major": 2,
       "version_minor": 0
      },
      "text/plain": [
       "FloatProgress(value=0.0, bar_style='info', description='Progress:', layout=Layout(height='25px', width='50%'),…"
      ]
     },
     "metadata": {},
     "output_type": "display_data"
    }
   ],
   "source": [
    "# this data has been updated to include holiday indicator\n",
    "last_shop_day = \"20221117\"\n",
    "df = spark.read.parquet(f\"s3://tvlp-ds-users/kendra-frederick/shopping-grid/engineered-features/parquet/{last_shop_day}/\")"
   ]
  },
  {
   "cell_type": "code",
   "execution_count": 8,
   "id": "1ea4f893-c0bc-486e-9503-20b6b827442c",
   "metadata": {
    "execution": {
     "iopub.execute_input": "2022-11-18T20:14:37.260331Z",
     "iopub.status.busy": "2022-11-18T20:14:37.260170Z",
     "iopub.status.idle": "2022-11-18T20:14:37.315584Z",
     "shell.execute_reply": "2022-11-18T20:14:37.315022Z",
     "shell.execute_reply.started": "2022-11-18T20:14:37.260310Z"
    },
    "tags": []
   },
   "outputs": [
    {
     "data": {
      "application/vnd.jupyter.widget-view+json": {
       "model_id": "91fe7b8ac0954dceba3cc405af004fb6",
       "version_major": 2,
       "version_minor": 0
      },
      "text/plain": [
       "VBox()"
      ]
     },
     "metadata": {},
     "output_type": "display_data"
    },
    {
     "data": {
      "application/vnd.jupyter.widget-view+json": {
       "model_id": "",
       "version_major": 2,
       "version_minor": 0
      },
      "text/plain": [
       "FloatProgress(value=0.0, bar_style='info', description='Progress:', layout=Layout(height='25px', width='50%'),…"
      ]
     },
     "metadata": {},
     "output_type": "display_data"
    },
    {
     "name": "stdout",
     "output_type": "stream",
     "text": [
      "root\n",
      " |-- market: string (nullable = true)\n",
      " |-- out_departure_date: long (nullable = true)\n",
      " |-- shop_date: long (nullable = true)\n",
      " |-- fare_rank: integer (nullable = true)\n",
      " |-- num_itin: long (nullable = true)\n",
      " |-- fare: double (nullable = true)\n",
      " |-- out_cxrs: array (nullable = true)\n",
      " |    |-- element: string (containsNull = true)\n",
      " |-- solution_counts: long (nullable = true)\n",
      " |-- shop_counts: long (nullable = true)\n",
      " |-- avg_out_avail_max: double (nullable = true)\n",
      " |-- avg_out_avail_low: double (nullable = true)\n",
      " |-- outDeptDt_dt: date (nullable = true)\n",
      " |-- shopDate_dt: date (nullable = true)\n",
      " |-- days_til_dept: integer (nullable = true)\n",
      " |-- dept_dt_dow_int: integer (nullable = true)\n",
      " |-- dept_dt_dow: string (nullable = true)\n",
      " |-- is_holiday: integer (nullable = true)\n",
      " |-- fr2_fare: double (nullable = true)\n",
      " |-- fr2_out_cxrs: array (nullable = true)\n",
      " |    |-- element: string (containsNull = true)\n",
      " |-- fr2_avg_out_avail_max: double (nullable = true)\n",
      " |-- fr2_avg_out_avail_low: double (nullable = true)\n",
      " |-- fr1_fr2_out_cxrs_same: boolean (nullable = true)\n",
      " |-- fr1_fr2_out_cxrs_overlap: boolean (nullable = true)\n",
      " |-- avg_fare_dtd: double (nullable = true)\n",
      " |-- fare_prev_shop_day: double (nullable = true)\n",
      " |-- fr2_fare_prev_shop_day: double (nullable = true)\n",
      " |-- avg_out_avail_max_prev_shop_day: double (nullable = true)\n",
      " |-- avg_out_avail_low_prev_shop_day: double (nullable = true)\n",
      " |-- num_itin_prev_shop_day: long (nullable = true)\n",
      " |-- shop_counts_prev_shop_day: long (nullable = true)\n",
      " |-- solution_counts_prev_shop_day: long (nullable = true)\n",
      " |-- fare_prev_dept_day: double (nullable = true)\n",
      " |-- fare_next_dept_day: double (nullable = true)\n",
      " |-- fare_diff_prev_dept_day: double (nullable = true)\n",
      " |-- fare_diff_next_dept_day: double (nullable = true)\n",
      " |-- trailing_avg_shop_counts: double (nullable = true)\n",
      " |-- trailing_avg_solution_counts: double (nullable = true)\n",
      " |-- trailing_avg_fare: double (nullable = true)\n",
      " |-- trailing_std_fare: double (nullable = true)\n",
      " |-- avg_diff_prev_dept_day: double (nullable = true)\n",
      " |-- avg_diff_next_dept_day: double (nullable = true)\n",
      " |-- est_fare_from_prev_dept_day: double (nullable = true)\n",
      " |-- est_fare_from_next_dept_day: double (nullable = true)"
     ]
    }
   ],
   "source": [
    "df.printSchema()"
   ]
  },
  {
   "cell_type": "code",
   "execution_count": 9,
   "id": "264cc4f5-24f1-4e6f-be22-dccdf13c775e",
   "metadata": {
    "execution": {
     "iopub.execute_input": "2022-11-18T20:14:43.181377Z",
     "iopub.status.busy": "2022-11-18T20:14:43.181164Z",
     "iopub.status.idle": "2022-11-18T20:14:43.239977Z",
     "shell.execute_reply": "2022-11-18T20:14:43.239312Z",
     "shell.execute_reply.started": "2022-11-18T20:14:43.181354Z"
    },
    "tags": []
   },
   "outputs": [
    {
     "data": {
      "application/vnd.jupyter.widget-view+json": {
       "model_id": "6be83fe70bce4bf0a83ed3713dcb6617",
       "version_major": 2,
       "version_minor": 0
      },
      "text/plain": [
       "VBox()"
      ]
     },
     "metadata": {},
     "output_type": "display_data"
    },
    {
     "data": {
      "application/vnd.jupyter.widget-view+json": {
       "model_id": "",
       "version_major": 2,
       "version_minor": 0
      },
      "text/plain": [
       "FloatProgress(value=0.0, bar_style='info', description='Progress:', layout=Layout(height='25px', width='50%'),…"
      ]
     },
     "metadata": {},
     "output_type": "display_data"
    },
    {
     "name": "stdout",
     "output_type": "stream",
     "text": [
      "['market', 'out_departure_date', 'shop_date', 'fare_rank', 'num_itin', 'fare', 'out_cxrs', 'solution_counts', 'shop_counts', 'avg_out_avail_max', 'avg_out_avail_low', 'outDeptDt_dt', 'shopDate_dt', 'days_til_dept', 'dept_dt_dow_int', 'dept_dt_dow', 'is_holiday', 'fr2_fare', 'fr2_out_cxrs', 'fr2_avg_out_avail_max', 'fr2_avg_out_avail_low', 'fr1_fr2_out_cxrs_same', 'fr1_fr2_out_cxrs_overlap', 'avg_fare_dtd', 'fare_prev_shop_day', 'fr2_fare_prev_shop_day', 'avg_out_avail_max_prev_shop_day', 'avg_out_avail_low_prev_shop_day', 'num_itin_prev_shop_day', 'shop_counts_prev_shop_day', 'solution_counts_prev_shop_day', 'fare_prev_dept_day', 'fare_next_dept_day', 'fare_diff_prev_dept_day', 'fare_diff_next_dept_day', 'trailing_avg_shop_counts', 'trailing_avg_solution_counts', 'trailing_avg_fare', 'trailing_std_fare', 'avg_diff_prev_dept_day', 'avg_diff_next_dept_day', 'est_fare_from_prev_dept_day', 'est_fare_from_next_dept_day']"
     ]
    }
   ],
   "source": [
    "df.columns"
   ]
  },
  {
   "cell_type": "code",
   "execution_count": 8,
   "id": "66f0ef59-38d1-43ae-a31f-fd1b55955b53",
   "metadata": {
    "execution": {
     "iopub.execute_input": "2022-11-17T19:28:42.365459Z",
     "iopub.status.busy": "2022-11-17T19:28:42.365234Z",
     "iopub.status.idle": "2022-11-17T19:28:51.711763Z",
     "shell.execute_reply": "2022-11-17T19:28:51.711113Z",
     "shell.execute_reply.started": "2022-11-17T19:28:42.365437Z"
    },
    "tags": []
   },
   "outputs": [
    {
     "data": {
      "application/vnd.jupyter.widget-view+json": {
       "model_id": "",
       "version_major": 2,
       "version_minor": 0
      },
      "text/plain": [
       "VBox()"
      ]
     },
     "metadata": {},
     "output_type": "display_data"
    },
    {
     "data": {
      "application/vnd.jupyter.widget-view+json": {
       "model_id": "",
       "version_major": 2,
       "version_minor": 0
      },
      "text/plain": [
       "FloatProgress(value=0.0, bar_style='info', description='Progress:', layout=Layout(height='25px', width='50%'),…"
      ]
     },
     "metadata": {},
     "output_type": "display_data"
    },
    {
     "name": "stdout",
     "output_type": "stream",
     "text": [
      "14"
     ]
    }
   ],
   "source": [
    "# df.select(\"market\").distinct().count()"
   ]
  },
  {
   "cell_type": "markdown",
   "id": "fda6a969-82d8-418e-be26-c5640c78f3e0",
   "metadata": {},
   "source": [
    "# define features"
   ]
  },
  {
   "cell_type": "code",
   "execution_count": 4,
   "id": "bc24f456-9ab8-4112-b16e-874276091b49",
   "metadata": {
    "execution": {
     "iopub.execute_input": "2022-11-18T20:13:14.190847Z",
     "iopub.status.busy": "2022-11-18T20:13:14.190600Z",
     "iopub.status.idle": "2022-11-18T20:13:14.248418Z",
     "shell.execute_reply": "2022-11-18T20:13:14.247830Z",
     "shell.execute_reply.started": "2022-11-18T20:13:14.190818Z"
    },
    "tags": []
   },
   "outputs": [
    {
     "data": {
      "application/vnd.jupyter.widget-view+json": {
       "model_id": "adf15e92a02d44bd9c846f302358a5c4",
       "version_major": 2,
       "version_minor": 0
      },
      "text/plain": [
       "VBox()"
      ]
     },
     "metadata": {},
     "output_type": "display_data"
    },
    {
     "data": {
      "application/vnd.jupyter.widget-view+json": {
       "model_id": "",
       "version_major": 2,
       "version_minor": 0
      },
      "text/plain": [
       "FloatProgress(value=0.0, bar_style='info', description='Progress:', layout=Layout(height='25px', width='50%'),…"
      ]
     },
     "metadata": {},
     "output_type": "display_data"
    }
   ],
   "source": [
    "target_col = 'fare'\n",
    "\n",
    "# scale: mean = 0, std = 1\n",
    "features_to_scale = [\n",
    "    # fare-based features\n",
    "    'fare_prev_shop_day',\n",
    "    'fr2_fare_prev_shop_day', \n",
    "    'avg_fare_dtd',\n",
    "    'fare_prev_dept_day', 'fare_next_dept_day',\n",
    "    'est_fare_from_prev_dept_day', 'est_fare_from_next_dept_day',\n",
    "    'trailing_avg_fare', 'trailing_std_fare',\n",
    "                    ]\n",
    "# norm: [0,1]\n",
    "features_to_norm = [\n",
    "    'days_til_dept', # encoded in 'avg_fare_dtd', so exclude?\n",
    "    'num_itin_prev_shop_day',\n",
    "    # count-based features - expect some skew in these, so norm instead of scale (?)\n",
    "    'shop_counts_prev_shop_day', \n",
    "    'trailing_avg_shop_counts',\n",
    "    'solution_counts_prev_shop_day',\n",
    "    'trailing_avg_solution_counts',\n",
    "]\n",
    "categorial_features = [\n",
    "    'dept_dt_dow_int' \n",
    "]\n",
    "as_is_features = [\n",
    "    # avail-based features are already norm'd\n",
    "    'avg_out_avail_max_prev_shop_day',\n",
    "    'avg_out_avail_low_prev_shop_day',\n",
    "    # boolean feature(s) - new in version d\n",
    "    'fr1_fr2_out_cxrs_same',\n",
    "    'fr1_fr2_out_cxrs_overlap',\n",
    "    'is_holiday'\n",
    "]\n",
    "all_features = features_to_scale + features_to_norm + categorial_features + as_is_features\n",
    "all_cols_for_modeling = all_features + [target_col]"
   ]
  },
  {
   "cell_type": "markdown",
   "id": "eaf08592-60dc-45d0-a968-92b75a214efc",
   "metadata": {},
   "source": [
    "# prep data"
   ]
  },
  {
   "cell_type": "markdown",
   "id": "8645ccc5-f738-49ec-b6cd-6e1f445fa471",
   "metadata": {},
   "source": [
    "## clip"
   ]
  },
  {
   "cell_type": "code",
   "execution_count": 7,
   "id": "bd2f2dec-f9a4-4d45-a2d3-8041b23a2ca7",
   "metadata": {
    "execution": {
     "iopub.execute_input": "2022-11-18T20:04:19.697810Z",
     "iopub.status.busy": "2022-11-18T20:04:19.697580Z",
     "iopub.status.idle": "2022-11-18T20:04:27.017794Z",
     "shell.execute_reply": "2022-11-18T20:04:27.016918Z",
     "shell.execute_reply.started": "2022-11-18T20:04:19.697787Z"
    },
    "tags": []
   },
   "outputs": [
    {
     "data": {
      "application/vnd.jupyter.widget-view+json": {
       "model_id": "e47744cea1714727b1040819d781b5fb",
       "version_major": 2,
       "version_minor": 0
      },
      "text/plain": [
       "VBox()"
      ]
     },
     "metadata": {},
     "output_type": "display_data"
    },
    {
     "data": {
      "application/vnd.jupyter.widget-view+json": {
       "model_id": "",
       "version_major": 2,
       "version_minor": 0
      },
      "text/plain": [
       "FloatProgress(value=0.0, bar_style='info', description='Progress:', layout=Layout(height='25px', width='50%'),…"
      ]
     },
     "metadata": {},
     "output_type": "display_data"
    },
    {
     "name": "stdout",
     "output_type": "stream",
     "text": [
      "+-------------+-----+\n",
      "|days_til_dept|count|\n",
      "+-------------+-----+\n",
      "|            4|  476|\n",
      "|            5|  476|\n",
      "|            6|  476|\n",
      "|            7|  476|\n",
      "|            8|  476|\n",
      "|            9|  476|\n",
      "|           10|  476|\n",
      "|           11|  476|\n",
      "|           12|  476|\n",
      "|           13|  476|\n",
      "+-------------+-----+\n",
      "only showing top 10 rows"
     ]
    }
   ],
   "source": [
    "# data should already be clipped for dtd <= 3\n",
    "# df.groupBy(\"days_til_dept\").count().orderBy(\"days_til_dept\").show(10)"
   ]
  },
  {
   "cell_type": "markdown",
   "id": "d1b02733-2fee-4d71-8b7c-7fe7f62634a2",
   "metadata": {},
   "source": [
    "based on shop date (given that we took a 3-day trailing average -- the first 2 days won't have valid data)"
   ]
  },
  {
   "cell_type": "code",
   "execution_count": 10,
   "id": "9ed2ce31-ab3e-4bfc-b03b-a51312da4b36",
   "metadata": {
    "execution": {
     "iopub.execute_input": "2022-11-18T20:14:48.305901Z",
     "iopub.status.busy": "2022-11-18T20:14:48.305549Z",
     "iopub.status.idle": "2022-11-18T20:14:48.571112Z",
     "shell.execute_reply": "2022-11-18T20:14:48.570540Z",
     "shell.execute_reply.started": "2022-11-18T20:14:48.305876Z"
    },
    "tags": []
   },
   "outputs": [
    {
     "data": {
      "application/vnd.jupyter.widget-view+json": {
       "model_id": "68276d88bf374330af8cb4a9d93b806e",
       "version_major": 2,
       "version_minor": 0
      },
      "text/plain": [
       "VBox()"
      ]
     },
     "metadata": {},
     "output_type": "display_data"
    },
    {
     "data": {
      "application/vnd.jupyter.widget-view+json": {
       "model_id": "",
       "version_major": 2,
       "version_minor": 0
      },
      "text/plain": [
       "FloatProgress(value=0.0, bar_style='info', description='Progress:', layout=Layout(height='25px', width='50%'),…"
      ]
     },
     "metadata": {},
     "output_type": "display_data"
    }
   ],
   "source": [
    "first_shop_date = datetime.date(2022,10,15)\n",
    "window_size = 3\n",
    "shop_cutoff = first_shop_date + datetime.timedelta(days=window_size)\n",
    "df_clip_shop = df.filter(F.col('shopDate_dt') >= shop_cutoff)"
   ]
  },
  {
   "cell_type": "markdown",
   "id": "45cac85e-b08b-424f-a8af-f553bf79418a",
   "metadata": {},
   "source": [
    "Limit to a certain number out into the future -- such as 120"
   ]
  },
  {
   "cell_type": "code",
   "execution_count": 24,
   "id": "2b8fe341-261a-4080-b065-4715111eab73",
   "metadata": {
    "execution": {
     "iopub.execute_input": "2022-11-17T19:45:55.232651Z",
     "iopub.status.busy": "2022-11-17T19:45:55.232424Z",
     "iopub.status.idle": "2022-11-17T19:46:02.521158Z",
     "shell.execute_reply": "2022-11-17T19:46:02.520504Z",
     "shell.execute_reply.started": "2022-11-17T19:45:55.232625Z"
    }
   },
   "outputs": [
    {
     "data": {
      "application/vnd.jupyter.widget-view+json": {
       "model_id": "",
       "version_major": 2,
       "version_minor": 0
      },
      "text/plain": [
       "VBox()"
      ]
     },
     "metadata": {},
     "output_type": "display_data"
    },
    {
     "data": {
      "application/vnd.jupyter.widget-view+json": {
       "model_id": "",
       "version_major": 2,
       "version_minor": 0
      },
      "text/plain": [
       "FloatProgress(value=0.0, bar_style='info', description='Progress:', layout=Layout(height='25px', width='50%'),…"
      ]
     },
     "metadata": {},
     "output_type": "display_data"
    },
    {
     "name": "stdout",
     "output_type": "stream",
     "text": [
      "45548"
     ]
    }
   ],
   "source": [
    "# dtd_limit = 120\n",
    "# df_clip_dtd = df_clip_shop.filter(F.col(\"days_til_dept\") <= 120)\n",
    "# df_clip_dtd.count()"
   ]
  },
  {
   "cell_type": "markdown",
   "id": "0fd5e6ff-c2e3-4320-9450-43cf4eaf434a",
   "metadata": {},
   "source": [
    "This cuts out a lot of data, actually"
   ]
  },
  {
   "cell_type": "markdown",
   "id": "a7a1c5b7-822c-4964-a3ad-9e098c14560c",
   "metadata": {},
   "source": [
    "## dealing with nulls"
   ]
  },
  {
   "cell_type": "code",
   "execution_count": 5,
   "id": "b4c69cf6-3683-4e2b-81b1-fa0f6ecf9628",
   "metadata": {
    "execution": {
     "iopub.execute_input": "2022-11-17T22:48:02.510229Z",
     "iopub.status.busy": "2022-11-17T22:48:02.510004Z",
     "iopub.status.idle": "2022-11-17T22:48:19.966895Z",
     "shell.execute_reply": "2022-11-17T22:48:19.966282Z",
     "shell.execute_reply.started": "2022-11-17T22:48:02.510204Z"
    },
    "tags": []
   },
   "outputs": [
    {
     "data": {
      "application/vnd.jupyter.widget-view+json": {
       "model_id": "1842be8689744b0bb1c0981fd134160c",
       "version_major": 2,
       "version_minor": 0
      },
      "text/plain": [
       "VBox()"
      ]
     },
     "metadata": {},
     "output_type": "display_data"
    },
    {
     "data": {
      "application/vnd.jupyter.widget-view+json": {
       "model_id": "",
       "version_major": 2,
       "version_minor": 0
      },
      "text/plain": [
       "FloatProgress(value=0.0, bar_style='info', description='Progress:', layout=Layout(height='25px', width='50%'),…"
      ]
     },
     "metadata": {},
     "output_type": "display_data"
    },
    {
     "name": "stdout",
     "output_type": "stream",
     "text": [
      "fare_prev_shop_day 415\n",
      "fr2_fare_prev_shop_day 2509\n",
      "avg_fare_dtd 48\n",
      "fare_prev_dept_day 392\n",
      "fare_next_dept_day 392\n",
      "est_fare_from_prev_dept_day 392\n",
      "est_fare_from_next_dept_day 392\n",
      "trailing_avg_fare 415\n",
      "trailing_std_fare 415\n",
      "days_til_dept 0\n",
      "num_itin_prev_shop_day 415\n",
      "shop_counts_prev_shop_day 415\n",
      "trailing_avg_shop_counts 415\n",
      "solution_counts_prev_shop_day 415\n",
      "trailing_avg_solution_counts 415\n",
      "dept_dt_dow_int 0\n",
      "avg_out_avail_max_prev_shop_day 415\n",
      "avg_out_avail_low_prev_shop_day 415\n",
      "fare 0"
     ]
    }
   ],
   "source": [
    "# for col in all_cols_for_modeling:\n",
    "#     print(col, df_clip_shop.filter(F.col(col).isNull()).count())"
   ]
  },
  {
   "cell_type": "code",
   "execution_count": 23,
   "id": "33797562-e86c-454a-9939-84f4d9721b4e",
   "metadata": {
    "collapsed": true,
    "execution": {
     "iopub.execute_input": "2022-11-17T19:42:41.654156Z",
     "iopub.status.busy": "2022-11-17T19:42:41.653918Z",
     "iopub.status.idle": "2022-11-17T19:42:48.960628Z",
     "shell.execute_reply": "2022-11-17T19:42:48.959884Z",
     "shell.execute_reply.started": "2022-11-17T19:42:41.654132Z"
    },
    "jupyter": {
     "outputs_hidden": true
    },
    "tags": []
   },
   "outputs": [
    {
     "data": {
      "application/vnd.jupyter.widget-view+json": {
       "model_id": "b07c53bb63694b818343438bfe2d0042",
       "version_major": 2,
       "version_minor": 0
      },
      "text/plain": [
       "VBox()"
      ]
     },
     "metadata": {},
     "output_type": "display_data"
    },
    {
     "data": {
      "application/vnd.jupyter.widget-view+json": {
       "model_id": "",
       "version_major": 2,
       "version_minor": 0
      },
      "text/plain": [
       "FloatProgress(value=0.0, bar_style='info', description='Progress:', layout=Layout(height='25px', width='50%'),…"
      ]
     },
     "metadata": {},
     "output_type": "display_data"
    },
    {
     "name": "stdout",
     "output_type": "stream",
     "text": [
      "+-------+------------------+---------+---------+--------+-------+--------+---------------+-----------+------------------+------------------+------------+-----------+-------------+---------------+-----------+--------+------------+---------------------+---------------------+---------------------+------------------------+------------------+------------------+----------------------+-------------------------------+-------------------------------+----------------------+-------------------------+-----------------------------+------------------+------------------+-----------------------+-----------------------+------------------------+----------------------------+-----------------+-----------------+----------------------+----------------------+---------------------------+---------------------------+\n",
      "| market|out_departure_date|shop_date|fare_rank|num_itin|   fare|out_cxrs|solution_counts|shop_counts| avg_out_avail_max| avg_out_avail_low|outDeptDt_dt|shopDate_dt|days_til_dept|dept_dt_dow_int|dept_dt_dow|fr2_fare|fr2_out_cxrs|fr2_avg_out_avail_max|fr2_avg_out_avail_low|fr1_fr2_out_cxrs_same|fr1_fr2_out_cxrs_overlap|      avg_fare_dtd|fare_prev_shop_day|fr2_fare_prev_shop_day|avg_out_avail_max_prev_shop_day|avg_out_avail_low_prev_shop_day|num_itin_prev_shop_day|shop_counts_prev_shop_day|solution_counts_prev_shop_day|fare_prev_dept_day|fare_next_dept_day|fare_diff_prev_dept_day|fare_diff_next_dept_day|trailing_avg_shop_counts|trailing_avg_solution_counts|trailing_avg_fare|trailing_std_fare|avg_diff_prev_dept_day|avg_diff_next_dept_day|est_fare_from_prev_dept_day|est_fare_from_next_dept_day|\n",
      "+-------+------------------+---------+---------+--------+-------+--------+---------------+-----------+------------------+------------------+------------+-----------+-------------+---------------+-----------+--------+------------+---------------------+---------------------+---------------------+------------------------+------------------+------------------+----------------------+-------------------------------+-------------------------------+----------------------+-------------------------+-----------------------------+------------------+------------------+-----------------------+-----------------------+------------------------+----------------------------+-----------------+-----------------+----------------------+----------------------+---------------------------+---------------------------+\n",
      "|JFK-LAX|          20230920| 20221028|        1|       1|  197.2|    [AS]|              9|          1|               0.0|               0.0|  2023-09-20| 2022-10-28|          327|              2|        Wed|  221.59|        [AS]|                  0.0|                  0.0|                 true|                    true|169.72499999999997|              null|                  null|                           null|                           null|                  null|                     null|                         null|             222.6|            224.59|    -25.400000000000006|    -27.390000000000015|                    null|                        null|             null|             null|    -2.087318087318087|   -23.172583333333364|          220.5126819126819|         201.41741666666664|\n",
      "|JFK-LAX|          20230927| 20221031|        1|       1| 1228.6|    [AS]|             15|          1|               0.0|               0.0|  2023-09-27| 2022-10-31|          331|              2|        Wed|  1318.6|        [AS]|                  0.0|                  0.0|                 true|                    true| 695.6033333333331|              null|                  null|                           null|                           null|                  null|                     null|                         null|            224.59|              null|     1004.0099999999999|                   null|                    null|                        null|             null|             null|   -1.6913776337115072|   -21.658849270664536|          222.8986223662885|                       null|\n",
      "|JFK-LAX|          20231004| 20221108|        1|       1|  151.6|    [DL]|            498|          7|               1.0|               0.0|  2023-10-04| 2022-11-08|          330|              2|        Wed|   168.6|        [B6]|                  0.0|                  0.0|                false|                   false| 515.8292307692308|              null|                  null|                           null|                           null|                  null|                     null|                         null|            208.61|              null|     -57.01000000000002|                   null|                    null|                        null|             null|             null|    0.6562978283350568|   -19.104808686659798|         209.26629782833507|                       null|\n",
      "|JFK-LAX|          20231011| 20221114|        1|       3|  156.6|[B6, DL]|            115|         28|0.6666666666666666|0.3333333333333333|  2023-10-11| 2022-11-14|          331|              2|        Wed|   188.6|        [DL]|                  1.0|                  0.0|                false|                    true| 867.0292857142858|              null|                  null|                           null|                           null|                  null|                     null|                         null|            1318.6|              null|                -1162.0|                   null|                    null|                        null|             null|             null|   -1.4632352941176474|   -21.245506535947715|         1317.1367647058823|                       null|\n",
      "|JFK-LHR|          20231013| 20221018|        1|       2|  515.9|    [TP]|            182|          6|               0.5|               0.0|  2023-10-13| 2022-10-18|          360|              4|        Fri|   590.9|        [TP]|                  1.0|                  0.0|                 true|                    true| 422.5666666666666|              null|                  null|                           null|                           null|                  null|                     null|                         null|             485.9|              null|                   30.0|                   null|                    null|                        null|             null|             null|     30.15205298013245|  -0.06967105263158029|          516.0520529801324|                       null|\n",
      "|JFK-LHR|          20231020| 20221027|        1|       3|  516.4|    [TP]|             77|          1|0.3333333333333333|0.6666666666666666|  2023-10-20| 2022-10-27|          358|              4|        Fri|   629.8|        [LX]|                  1.0|                  0.0|                false|                   false| 505.8916666666667|              null|                  null|                           null|                           null|                  null|                     null|                         null|             451.1|             591.4|      65.29999999999995|                  -75.0|                    null|                        null|             null|             null|    17.007715231788147|   -10.390776859504127|          468.1077152317882|          581.0092231404958|\n",
      "|JFK-LHR|          20231027| 20221101|        1|       1|  516.4|    [TP]|            215|          5|               0.0|               0.0|  2023-10-27| 2022-11-01|          360|              4|        Fri|   516.6|        [TP]|                  0.0|                  0.0|                 true|                    true|482.06250000000006|              null|                  null|                           null|                           null|                  null|                     null|                         null|             561.4|              null|                  -45.0|                   null|                    null|                        null|             null|             null|    14.421015169194918|   -12.755948777648431|          575.8210151691949|                       null|\n",
      "|JFK-LHR|          20231103| 20221108|        1|       1|  326.4|    [TP]|            209|         15|               1.0|               0.0|  2023-11-03| 2022-11-08|          360|              4|        Fri|   556.0|        [SN]|                  1.0|                  0.0|                false|                   false| 482.6521739130435|              null|                  null|                           null|                           null|                  null|                     null|                         null|             296.4|              null|                   30.0|                   null|                    null|                        null|             null|             null|    13.405668316831713|    -14.99276771004945|          309.8056683168317|                       null|\n",
      "|LGA-MIA|          20230924| 20221022|        1|       1|1248.59|    [UA]|             50|          1|               1.0|               0.0|  2023-09-24| 2022-10-22|          337|              6|        Sun|  1338.6|        [UA]|                  1.0|                  0.0|                 true|                    true|           1248.59|              null|                  null|                           null|                           null|                  null|                     null|                         null|           1248.59|              null|                    0.0|                   null|                    null|                        null|             null|             null|    23.418907849829353|     17.41619863013699|         1272.0089078498293|                       null|\n",
      "|LGA-MIA|          20231008| 20221106|        1|       2|1248.59|    [UA]|             19|          2|               1.0|               0.0|  2023-10-08| 2022-11-06|          336|              6|        Sun|  1338.6|        [UA]|                  1.0|                  0.0|                 true|                    true|           1248.59|              null|                  null|                           null|                           null|                  null|                     null|                         null|             307.6|           1248.59|      940.9899999999999|                    0.0|                    null|                        null|             null|             null|    13.947432258064532|    16.128606451612907|         321.54743225806453|          1264.718606451613|\n",
      "|LGA-MIA|          20231001| 20221107|        1|       1|  168.6|    [DL]|             22|          1|               1.0|               0.0|  2023-10-01| 2022-11-07|          328|              6|        Sun|   198.6|        [DL]|                  1.0|                  0.0|                 true|                    true|139.76666666666668|              null|                  null|                           null|                           null|                  null|                     null|                         null|             168.6|            347.61|                    0.0|    -179.01000000000002|                    null|                        null|             null|             null|    15.501447852760752|    17.356441717791412|         184.10144785276074|         364.96644171779144|\n",
      "|LGA-MIA|          20231015| 20221114|        1|       1|1248.59|    [UA]|              4|          1|               1.0|               0.0|  2023-10-15| 2022-11-14|          335|              6|        Sun| 2291.59|        [UA]|                  1.0|                  0.0|                 true|                    true|          1242.425|              null|                  null|                           null|                           null|                  null|                     null|                         null|             307.6|           1248.59|      940.9899999999999|                    0.0|                    null|                        null|             null|             null|    15.478292237442933|     18.48682191780822|         323.07829223744295|          1267.076821917808|\n",
      "|EWR-CDG|          20231019| 20221024|        1|       1|  954.7|    [LX]|             24|          3|               1.0|               0.0|  2023-10-19| 2022-10-24|          360|              3|        Thu|   954.8|        [LH]|                  1.0|                  0.0|                false|                   false| 908.7777777777778|              null|                  null|                           null|                           null|                  null|                     null|                         null|             904.7|              null|                   50.0|                   null|                    null|                        null|             null|             null|     36.66997811816193|    1.9863537117903909|           941.369978118162|                       null|\n",
      "|EWR-CDG|          20231026| 20221030|        1|       1| 1506.8|    [AF]|              6|          6|               1.0|               0.0|  2023-10-26| 2022-10-30|          361|              3|        Thu|    null|        null|                 null|                 null|                 null|                   false|1183.7999999999997|              null|                  null|                           null|                           null|                  null|                     null|                         null|             630.0|              null|                  876.8|                   null|                    null|                        null|             null|             null|     35.17808650065531|   -3.2227260812581946|          665.1780865006554|                       null|\n",
      "|EWR-CDG|          20231102| 20221106|        1|       1| 1531.8|    [AF]|             11|         10|               1.0|               0.0|  2023-11-02| 2022-11-06|          361|              3|        Thu|    null|        null|                 null|                 null|                 null|                   false|1298.6749999999997|              null|                  null|                           null|                           null|                  null|                     null|                         null|             597.7|              null|      934.0999999999999|                   null|                    null|                        null|             null|             null|     39.43241286863268|    -6.023762287756931|          637.1324128686327|                       null|\n",
      "|EWR-CDG|          20231109| 20221113|        1|       1| 1506.8|    [AF]|              4|          4|               1.0|               0.0|  2023-11-09| 2022-11-13|          361|              3|        Thu|    null|        null|                 null|                 null|                 null|                   false|1254.1913043478257|              null|                  null|                           null|                           null|                  null|                     null|                         null|             630.8|              null|                  876.0|                   null|                    null|                        null|             null|             null|     38.56558943089426|    -7.330704607046074|          669.3655894308943|                       null|\n",
      "|LAX-JFK|          20230917| 20221022|        1|       1|  236.1|    [AA]|             52|          2|               0.0|               0.0|  2023-09-17| 2022-10-22|          330|              6|        Sun|   282.6|        [AA]|                  0.0|                  0.0|                 true|                    true| 593.6585714285713|              null|                  null|                           null|                           null|                  null|                     null|                         null|             168.6|              null|                   67.5|                   null|                    null|                        null|             null|             null|    19.440961538461547|     28.65945686900959|         188.04096153846154|                       null|\n",
      "|LAX-JFK|          20230924| 20221030|        1|       1|  324.6|    [AS]|              9|          1|               0.0|               0.0|  2023-09-24| 2022-10-30|          329|              6|        Sun|  331.61|        [AS]|                  0.0|                  0.0|                 true|                    true|176.15999999999997|              null|                  null|                           null|                           null|                  null|                     null|                         null|             168.6|            1228.6|     156.00000000000003|     -903.9999999999999|                    null|                        null|             null|             null|     25.32675627240145|    30.660876565295165|         193.92675627240143|         1259.2608765652951|\n",
      "|LAX-JFK|          20231001| 20221105|        1|       2|  151.6|    [DL]|            324|          8|               1.0|               0.0|  2023-10-01| 2022-11-05|          330|              6|        Sun|   168.6|        [B6]|                  0.0|                  0.0|                false|                   false| 464.0228571428573|              null|                  null|                           null|                           null|                  null|                     null|                         null|             151.6|              null|                    0.0|                   null|                    null|                        null|             null|             null|    25.935751231527092|    30.842690417690388|          177.5357512315271|                       null|\n",
      "|LAX-JFK|          20231008| 20221110|        1|       1|  173.6|    [DL]|             10|          1|               1.0|               0.0|  2023-10-08| 2022-11-10|          332|              6|        Sun|    null|        null|                 null|                 null|                 null|                   false|              null|              null|                  null|                           null|                           null|                  null|                     null|                         null|            1228.6|              null|                -1055.0|                   null|                    null|                        null|             null|             null|     23.19324878048779|     30.48456140350872|         1251.7932487804876|                       null|\n",
      "+-------+------------------+---------+---------+--------+-------+--------+---------------+-----------+------------------+------------------+------------+-----------+-------------+---------------+-----------+--------+------------+---------------------+---------------------+---------------------+------------------------+------------------+------------------+----------------------+-------------------------------+-------------------------------+----------------------+-------------------------+-----------------------------+------------------+------------------+-----------------------+-----------------------+------------------------+----------------------------+-----------------+-----------------+----------------------+----------------------+---------------------------+---------------------------+\n",
      "only showing top 20 rows"
     ]
    }
   ],
   "source": [
    "# col = 'fare_prev_shop_day'\n",
    "# df_null = df_clip_shop.filter(F.col(col).isNull())\n",
    "# df_null.show()"
   ]
  },
  {
   "cell_type": "markdown",
   "id": "605b0d90-68a2-44c9-8fbc-221b60bfb336",
   "metadata": {},
   "source": [
    "A lot of these have high values for days til dept. Which makes sense. "
   ]
  },
  {
   "cell_type": "markdown",
   "id": "64b74daf-1c78-4513-a9c6-8b434ca26429",
   "metadata": {},
   "source": [
    "Either drop nulls for now, or collapse fare-based features into one or a few, e.g. taking an average that ignores the nulls"
   ]
  },
  {
   "cell_type": "code",
   "execution_count": 14,
   "id": "ac341651-3988-4cd9-afc3-a2fda726e064",
   "metadata": {
    "execution": {
     "iopub.execute_input": "2022-11-17T19:31:38.209309Z",
     "iopub.status.busy": "2022-11-17T19:31:38.209073Z",
     "iopub.status.idle": "2022-11-17T19:31:38.993315Z",
     "shell.execute_reply": "2022-11-17T19:31:38.992489Z",
     "shell.execute_reply.started": "2022-11-17T19:31:38.209283Z"
    },
    "tags": []
   },
   "outputs": [
    {
     "data": {
      "application/vnd.jupyter.widget-view+json": {
       "model_id": "",
       "version_major": 2,
       "version_minor": 0
      },
      "text/plain": [
       "VBox()"
      ]
     },
     "metadata": {},
     "output_type": "display_data"
    },
    {
     "data": {
      "application/vnd.jupyter.widget-view+json": {
       "model_id": "",
       "version_major": 2,
       "version_minor": 0
      },
      "text/plain": [
       "FloatProgress(value=0.0, bar_style='info', description='Progress:', layout=Layout(height='25px', width='50%'),…"
      ]
     },
     "metadata": {},
     "output_type": "display_data"
    },
    {
     "name": "stdout",
     "output_type": "stream",
     "text": [
      "(133001, 119216)"
     ]
    }
   ],
   "source": [
    "# df.count(), df_clip_shop.count()"
   ]
  },
  {
   "cell_type": "code",
   "execution_count": 6,
   "id": "a9673869-9b07-4dfc-8772-4466a43d4da9",
   "metadata": {
    "execution": {
     "iopub.execute_input": "2022-11-17T22:48:19.968509Z",
     "iopub.status.busy": "2022-11-17T22:48:19.968230Z",
     "iopub.status.idle": "2022-11-17T22:48:22.391097Z",
     "shell.execute_reply": "2022-11-17T22:48:21.948042Z",
     "shell.execute_reply.started": "2022-11-17T22:48:19.968474Z"
    },
    "tags": []
   },
   "outputs": [
    {
     "data": {
      "application/vnd.jupyter.widget-view+json": {
       "model_id": "8c034026c98746f2bd6670c07272df80",
       "version_major": 2,
       "version_minor": 0
      },
      "text/plain": [
       "VBox()"
      ]
     },
     "metadata": {},
     "output_type": "display_data"
    },
    {
     "data": {
      "application/vnd.jupyter.widget-view+json": {
       "model_id": "",
       "version_major": 2,
       "version_minor": 0
      },
      "text/plain": [
       "FloatProgress(value=0.0, bar_style='info', description='Progress:', layout=Layout(height='25px', width='50%'),…"
      ]
     },
     "metadata": {},
     "output_type": "display_data"
    },
    {
     "name": "stdout",
     "output_type": "stream",
     "text": [
      "115776"
     ]
    }
   ],
   "source": [
    "# df_no_nulls = df_clip_shop.dropna(subset=all_cols_for_modeling)\n",
    "# df_no_nulls.count()"
   ]
  },
  {
   "cell_type": "code",
   "execution_count": 26,
   "id": "7669d3fc-2333-4b7c-b015-08bf2284d71e",
   "metadata": {
    "execution": {
     "iopub.execute_input": "2022-11-17T19:49:02.311096Z",
     "iopub.status.busy": "2022-11-17T19:49:02.310843Z",
     "iopub.status.idle": "2022-11-17T19:49:02.370087Z",
     "shell.execute_reply": "2022-11-17T19:49:02.369504Z",
     "shell.execute_reply.started": "2022-11-17T19:49:02.311072Z"
    }
   },
   "outputs": [
    {
     "data": {
      "application/vnd.jupyter.widget-view+json": {
       "model_id": "",
       "version_major": 2,
       "version_minor": 0
      },
      "text/plain": [
       "VBox()"
      ]
     },
     "metadata": {},
     "output_type": "display_data"
    },
    {
     "data": {
      "application/vnd.jupyter.widget-view+json": {
       "model_id": "",
       "version_major": 2,
       "version_minor": 0
      },
      "text/plain": [
       "FloatProgress(value=0.0, bar_style='info', description='Progress:', layout=Layout(height='25px', width='50%'),…"
      ]
     },
     "metadata": {},
     "output_type": "display_data"
    },
    {
     "name": "stdout",
     "output_type": "stream",
     "text": [
      "0.9711448127768085"
     ]
    }
   ],
   "source": [
    "# 115776 / 119216"
   ]
  },
  {
   "cell_type": "markdown",
   "id": "46ed59e2-6b36-4ecc-9195-6562a31d5345",
   "metadata": {},
   "source": [
    "Drop for now. Revisit later"
   ]
  },
  {
   "cell_type": "code",
   "execution_count": 11,
   "id": "c38ac1d4-10fd-4b1b-8470-2c3fcb540ae4",
   "metadata": {
    "execution": {
     "iopub.execute_input": "2022-11-18T20:14:51.559845Z",
     "iopub.status.busy": "2022-11-18T20:14:51.559601Z",
     "iopub.status.idle": "2022-11-18T20:14:51.838894Z",
     "shell.execute_reply": "2022-11-18T20:14:51.838309Z",
     "shell.execute_reply.started": "2022-11-18T20:14:51.559814Z"
    },
    "tags": []
   },
   "outputs": [
    {
     "data": {
      "application/vnd.jupyter.widget-view+json": {
       "model_id": "c9652562dfed4eaba8cb5c1fcfeab363",
       "version_major": 2,
       "version_minor": 0
      },
      "text/plain": [
       "VBox()"
      ]
     },
     "metadata": {},
     "output_type": "display_data"
    },
    {
     "data": {
      "application/vnd.jupyter.widget-view+json": {
       "model_id": "",
       "version_major": 2,
       "version_minor": 0
      },
      "text/plain": [
       "FloatProgress(value=0.0, bar_style='info', description='Progress:', layout=Layout(height='25px', width='50%'),…"
      ]
     },
     "metadata": {},
     "output_type": "display_data"
    }
   ],
   "source": [
    "df_no_nulls = df_clip_shop.dropna(subset=all_cols_for_modeling)\n",
    "# df_no_nulls.count()"
   ]
  },
  {
   "cell_type": "markdown",
   "id": "d415d073-1844-4f39-96ae-74983c0c103b",
   "metadata": {},
   "source": [
    "## Train-test split"
   ]
  },
  {
   "cell_type": "code",
   "execution_count": 12,
   "id": "adcb1dd4-a393-4ae4-a831-884b929777a2",
   "metadata": {
    "execution": {
     "iopub.execute_input": "2022-11-18T20:14:56.514431Z",
     "iopub.status.busy": "2022-11-18T20:14:56.514187Z",
     "iopub.status.idle": "2022-11-18T20:14:56.772927Z",
     "shell.execute_reply": "2022-11-18T20:14:56.772357Z",
     "shell.execute_reply.started": "2022-11-18T20:14:56.514405Z"
    },
    "tags": []
   },
   "outputs": [
    {
     "data": {
      "application/vnd.jupyter.widget-view+json": {
       "model_id": "dc9aab480fa743af9d7ff343df760242",
       "version_major": 2,
       "version_minor": 0
      },
      "text/plain": [
       "VBox()"
      ]
     },
     "metadata": {},
     "output_type": "display_data"
    },
    {
     "data": {
      "application/vnd.jupyter.widget-view+json": {
       "model_id": "",
       "version_major": 2,
       "version_minor": 0
      },
      "text/plain": [
       "FloatProgress(value=0.0, bar_style='info', description='Progress:', layout=Layout(height='25px', width='50%'),…"
      ]
     },
     "metadata": {},
     "output_type": "display_data"
    }
   ],
   "source": [
    "train, test = df_no_nulls.randomSplit([0.8, 0.2], seed=19)\n",
    "# train.count(), test.count()"
   ]
  },
  {
   "cell_type": "code",
   "execution_count": 13,
   "id": "37c81cc9-1a3e-4345-8d6a-ccfd46a8eab5",
   "metadata": {
    "execution": {
     "iopub.execute_input": "2022-11-18T20:14:57.704415Z",
     "iopub.status.busy": "2022-11-18T20:14:57.704186Z",
     "iopub.status.idle": "2022-11-18T20:14:57.968053Z",
     "shell.execute_reply": "2022-11-18T20:14:57.967290Z",
     "shell.execute_reply.started": "2022-11-18T20:14:57.704389Z"
    },
    "tags": []
   },
   "outputs": [
    {
     "data": {
      "application/vnd.jupyter.widget-view+json": {
       "model_id": "7615a400e0d441218ace28d0fa3a2a7f",
       "version_major": 2,
       "version_minor": 0
      },
      "text/plain": [
       "VBox()"
      ]
     },
     "metadata": {},
     "output_type": "display_data"
    },
    {
     "data": {
      "application/vnd.jupyter.widget-view+json": {
       "model_id": "",
       "version_major": 2,
       "version_minor": 0
      },
      "text/plain": [
       "FloatProgress(value=0.0, bar_style='info', description='Progress:', layout=Layout(height='25px', width='50%'),…"
      ]
     },
     "metadata": {},
     "output_type": "display_data"
    }
   ],
   "source": [
    "train_shuffled = train.orderBy(F.rand())"
   ]
  },
  {
   "cell_type": "code",
   "execution_count": 53,
   "id": "7ae4bfdc-8262-4359-a509-72a99a762c0c",
   "metadata": {
    "execution": {
     "iopub.execute_input": "2022-11-18T21:24:43.180309Z",
     "iopub.status.busy": "2022-11-18T21:24:43.180073Z",
     "iopub.status.idle": "2022-11-18T21:24:43.449662Z",
     "shell.execute_reply": "2022-11-18T21:24:43.448939Z",
     "shell.execute_reply.started": "2022-11-18T21:24:43.180283Z"
    },
    "tags": []
   },
   "outputs": [
    {
     "data": {
      "application/vnd.jupyter.widget-view+json": {
       "model_id": "adb1af53a1d642af91acf02fcb07ee69",
       "version_major": 2,
       "version_minor": 0
      },
      "text/plain": [
       "VBox()"
      ]
     },
     "metadata": {},
     "output_type": "display_data"
    },
    {
     "data": {
      "application/vnd.jupyter.widget-view+json": {
       "model_id": "",
       "version_major": 2,
       "version_minor": 0
      },
      "text/plain": [
       "FloatProgress(value=0.0, bar_style='info', description='Progress:', layout=Layout(height='25px', width='50%'),…"
      ]
     },
     "metadata": {},
     "output_type": "display_data"
    },
    {
     "name": "stderr",
     "output_type": "stream",
     "text": [
      "Exception in thread cell_monitor-53:\n",
      "Traceback (most recent call last):\n",
      "  File \"/mnt/notebook-env/lib/python3.7/threading.py\", line 926, in _bootstrap_inner\n",
      "    self.run()\n",
      "  File \"/mnt/notebook-env/lib/python3.7/threading.py\", line 870, in run\n",
      "    self._target(*self._args, **self._kwargs)\n",
      "  File \"/mnt/notebook-env/lib/python3.7/site-packages/awseditorssparkmonitoringwidget-1.0-py3.7.egg/awseditorssparkmonitoringwidget/cellmonitor.py\", line 154, in cell_monitor\n",
      "    job_group_filtered_jobs = [job for job in jobs_data if job['jobGroup'] == str(statement_id)]\n",
      "  File \"/mnt/notebook-env/lib/python3.7/site-packages/awseditorssparkmonitoringwidget-1.0-py3.7.egg/awseditorssparkmonitoringwidget/cellmonitor.py\", line 154, in <listcomp>\n",
      "    job_group_filtered_jobs = [job for job in jobs_data if job['jobGroup'] == str(statement_id)]\n",
      "KeyError: 'jobGroup'\n",
      "\n"
     ]
    }
   ],
   "source": [
    "df_no_holidays = df_no_nulls.filter(F.col(\"is_holiday\") == 0)\n",
    "train_no_hol, test_no_hol = df_no_holidays.randomSplit([0.8, 0.2], seed=19)"
   ]
  },
  {
   "cell_type": "markdown",
   "id": "1b5cc9f2-a577-4f2a-bd39-82d72c38c7ba",
   "metadata": {},
   "source": [
    "# modeling!"
   ]
  },
  {
   "cell_type": "markdown",
   "id": "36c265ba-411a-4d5d-aedb-a8a065543fed",
   "metadata": {},
   "source": [
    "## import things"
   ]
  },
  {
   "cell_type": "code",
   "execution_count": 15,
   "id": "1d2d12e9-9572-46d9-8b79-4e2fc6cb125c",
   "metadata": {
    "execution": {
     "iopub.execute_input": "2022-11-18T20:15:49.705885Z",
     "iopub.status.busy": "2022-11-18T20:15:49.705632Z",
     "iopub.status.idle": "2022-11-18T20:15:49.970795Z",
     "shell.execute_reply": "2022-11-18T20:15:49.970211Z",
     "shell.execute_reply.started": "2022-11-18T20:15:49.705860Z"
    },
    "tags": []
   },
   "outputs": [
    {
     "data": {
      "application/vnd.jupyter.widget-view+json": {
       "model_id": "016d4fcef8cf4eb2b300cca5b8a126fc",
       "version_major": 2,
       "version_minor": 0
      },
      "text/plain": [
       "VBox()"
      ]
     },
     "metadata": {},
     "output_type": "display_data"
    },
    {
     "data": {
      "application/vnd.jupyter.widget-view+json": {
       "model_id": "",
       "version_major": 2,
       "version_minor": 0
      },
      "text/plain": [
       "FloatProgress(value=0.0, bar_style='info', description='Progress:', layout=Layout(height='25px', width='50%'),…"
      ]
     },
     "metadata": {},
     "output_type": "display_data"
    }
   ],
   "source": [
    "from pyspark.ml.feature import (\n",
    "    MinMaxScaler, StandardScaler, OneHotEncoderEstimator,\n",
    "    VectorAssembler, VectorIndexer\n",
    ")\n",
    "from pyspark.ml.regression import (\n",
    "    LinearRegression, RandomForestRegressor\n",
    ")\n",
    "from pyspark.ml.evaluation import RegressionEvaluator\n",
    "from pyspark.ml import Pipeline\n",
    "from pyspark.ml.tuning import CrossValidator, ParamGridBuilder"
   ]
  },
  {
   "cell_type": "markdown",
   "id": "248657ad-7aec-483b-83f5-82004c86ee1b",
   "metadata": {},
   "source": [
    "## eval code"
   ]
  },
  {
   "cell_type": "code",
   "execution_count": 16,
   "id": "dcdec291-7a14-49dc-afe0-69349fccdeac",
   "metadata": {
    "execution": {
     "iopub.execute_input": "2022-11-18T20:17:13.153230Z",
     "iopub.status.busy": "2022-11-18T20:17:13.153004Z",
     "iopub.status.idle": "2022-11-18T20:17:13.209171Z",
     "shell.execute_reply": "2022-11-18T20:17:13.208624Z",
     "shell.execute_reply.started": "2022-11-18T20:17:13.153206Z"
    },
    "tags": []
   },
   "outputs": [
    {
     "data": {
      "application/vnd.jupyter.widget-view+json": {
       "model_id": "14eab75cd1a648538fc1eae4caa07945",
       "version_major": 2,
       "version_minor": 0
      },
      "text/plain": [
       "VBox()"
      ]
     },
     "metadata": {},
     "output_type": "display_data"
    },
    {
     "data": {
      "application/vnd.jupyter.widget-view+json": {
       "model_id": "",
       "version_major": 2,
       "version_minor": 0
      },
      "text/plain": [
       "FloatProgress(value=0.0, bar_style='info', description='Progress:', layout=Layout(height='25px', width='50%'),…"
      ]
     },
     "metadata": {},
     "output_type": "display_data"
    }
   ],
   "source": [
    "def calc_abs_pct_err(df, pred_col=\"prediction\"):\n",
    "    df = (df\n",
    "           .withColumn(\"pred_err\", F.col(\"fare\") - F.col(pred_col))\n",
    "           .withColumn(\"abs_pred_err\", F.abs(F.col(\"pred_err\")))\n",
    "           .withColumn(\"abs_pct_err\", F.col(\"abs_pred_err\") / F.col(\"fare\"))\n",
    "          )\n",
    "    print(df.select(F.mean(\"abs_pct_err\").alias(\"mape\")).show())\n",
    "    # err_by_market = df.groupBy(\"market\").agg(F.mean(\"abs_pct_err\").alias(\"mape\")).orderBy(\"mape\")\n",
    "    return df"
   ]
  },
  {
   "cell_type": "markdown",
   "id": "c1796abf-6ca7-4a25-ba29-9a1bb51f6dab",
   "metadata": {},
   "source": [
    "## Define Pipelines "
   ]
  },
  {
   "cell_type": "markdown",
   "id": "364e72cd-a8b4-41c8-a009-fca915761216",
   "metadata": {},
   "source": [
    "Useful refs:\n",
    "- https://spark.apache.org/docs/2.4.8/api/python/pyspark.ml.html\n",
    "    - For a specific algo, see `setParams` method. This enumerates the parameters accepted."
   ]
  },
  {
   "cell_type": "markdown",
   "id": "96b2ab78-b41c-4e06-ab39-af9e1eca6d01",
   "metadata": {},
   "source": [
    "### Linear Regression"
   ]
  },
  {
   "cell_type": "code",
   "execution_count": 17,
   "id": "0653cb24-e771-4703-895e-eb90c860d263",
   "metadata": {
    "execution": {
     "iopub.execute_input": "2022-11-18T20:20:46.742339Z",
     "iopub.status.busy": "2022-11-18T20:20:46.742087Z",
     "iopub.status.idle": "2022-11-18T20:20:47.009703Z",
     "shell.execute_reply": "2022-11-18T20:20:47.009113Z",
     "shell.execute_reply.started": "2022-11-18T20:20:46.742312Z"
    },
    "tags": []
   },
   "outputs": [
    {
     "data": {
      "application/vnd.jupyter.widget-view+json": {
       "model_id": "3b271918c6cb4d308f50ec5b84628bc4",
       "version_major": 2,
       "version_minor": 0
      },
      "text/plain": [
       "VBox()"
      ]
     },
     "metadata": {},
     "output_type": "display_data"
    },
    {
     "data": {
      "application/vnd.jupyter.widget-view+json": {
       "model_id": "",
       "version_major": 2,
       "version_minor": 0
      },
      "text/plain": [
       "FloatProgress(value=0.0, bar_style='info', description='Progress:', layout=Layout(height='25px', width='50%'),…"
      ]
     },
     "metadata": {},
     "output_type": "display_data"
    }
   ],
   "source": [
    "ohe = OneHotEncoderEstimator(\n",
    "    inputCols=categorial_features,\n",
    "    outputCols=['dept_dow_enc']\n",
    ")\n",
    "\n",
    "scale_assembler = VectorAssembler(\n",
    "    inputCols=features_to_scale,\n",
    "    outputCol=\"features_to_scale\"\n",
    ")\n",
    "\n",
    "scaler = StandardScaler(\n",
    "    inputCol=scale_assembler.getOutputCol(),\n",
    "    outputCol=\"scaled_features\"\n",
    ")\n",
    "\n",
    "norm_assembler = VectorAssembler(\n",
    "    inputCols=features_to_norm,\n",
    "    outputCol=\"features_to_norm\"\n",
    ")\n",
    "\n",
    "normer = MinMaxScaler(\n",
    "    inputCol=norm_assembler.getOutputCol(),\n",
    "    outputCol=\"normed_features\"\n",
    ")\n",
    "\n",
    "# Note: if shuffling data doesn't work, add a VectorSizeHint here\n",
    "# https://spark.apache.org/docs/2.4.8/ml-features.html#vectorsizehint\n",
    "# I think this is what's going on: https://www.matthewslipper.com/2017/10/01/watch-out-vectorassembler-incompatible-spark-streaming.html\n",
    "final_assembler = VectorAssembler(\n",
    "    inputCols=[*ohe.getOutputCols(), \n",
    "               scaler.getOutputCol(),\n",
    "               normer.getOutputCol()\n",
    "              ] + as_is_features,\n",
    "    outputCol='features'\n",
    ")\n",
    "\n",
    "lin_regression_model = LinearRegression(\n",
    "    #  elasticNetParam corresponds to α (ratio) and regParam corresponds to λ (weight).\n",
    "    labelCol=\"fare\",\n",
    "    maxIter=20,\n",
    "    # from tuning\n",
    "    regParam=1.0,\n",
    "    elasticNetParam=0.01\n",
    ")\n",
    "\n",
    "lin_pipeline = Pipeline(stages=[\n",
    "    scale_assembler,\n",
    "    norm_assembler,\n",
    "    ohe, \n",
    "    scaler,\n",
    "    normer,\n",
    "    final_assembler,\n",
    "    lin_regression_model\n",
    "])\n",
    "\n",
    "# lin_model = lin_pipeline.fit(train_shuffled)\n",
    "# test_tx = model.transform(test)"
   ]
  },
  {
   "cell_type": "markdown",
   "id": "28c293e5-6a39-486a-beb6-3fd44788957c",
   "metadata": {},
   "source": [
    "## tuning code"
   ]
  },
  {
   "cell_type": "code",
   "execution_count": null,
   "id": "e41a1a76-5b3d-484a-9485-072c55d40675",
   "metadata": {},
   "outputs": [],
   "source": [
    "# LINEAR REGRESSION\n",
    "\n",
    "# param_grid = (ParamGridBuilder()\n",
    "#               # regParam is lambda (weight / factor), elasticNet is alpha (ratio)\n",
    "#               # note alpha is the opposite of sklearn's defintion\n",
    "#               .addGrid(regression_model.elasticNetParam, [0.01, 0.1, 0.5, 0.9, 0.99])\n",
    "#               .addGrid(regression_model.regParam, [0.01, 0.1, 1, 10, 100])\n",
    "#               .build()\n",
    "#              )\n",
    "\n",
    "# cv = CrossValidator(estimator=pipeline,\n",
    "#                     estimatorParamMaps=param_grid,\n",
    "#                     evaluator=RegressionEvaluator(labelCol=\"fare\"),\n",
    "#                     numFolds=3,\n",
    "#                     parallelism=5\n",
    "#                    )\n",
    "\n",
    "# cv_model = cv.fit(train)\n",
    "\n",
    "# pred_cv = cv_model.transform(test)\n",
    "\n",
    "# cv_results = list(zip(\n",
    "#     cv_model.getEstimatorParamMaps(), \n",
    "#     cv_model.avgMetrics\n",
    "# ))\n",
    "\n",
    "# cv_results.sort(key=lambda x: x[1])\n",
    "# best_result = cv_results[0]\n",
    "# best_metric = best_result[1]\n",
    "# best_param_dict = best_result[0]\n",
    "# params = [x.name for x in list(best_param_dict.keys())]\n",
    "# param_vals = best_param_dict.values()\n",
    "# best_params = dict(zip(params, param_vals))\n",
    "# best_params, best_metric"
   ]
  },
  {
   "cell_type": "code",
   "execution_count": null,
   "id": "67fc064e-eb31-4d84-8896-aba13af97691",
   "metadata": {
    "tags": []
   },
   "outputs": [],
   "source": [
    "# RANDOM FOREST\n",
    "\n",
    "# param_grid = (ParamGridBuilder()\n",
    "#               # regParam is lambda (weight / factor), elasticNet is alpha (ratio)\n",
    "#               # note alpha is the opposite of sklearn's defintion\n",
    "#               .addGrid(regression_model.numTrees, [50, 100, 200])\n",
    "#               .addGrid(regression_model.maxDepth, [3, 5, 7, 10])\n",
    "#               .build()\n",
    "#              )\n",
    "\n",
    "# cv = CrossValidator(estimator=rf_pipeline,\n",
    "#                     estimatorParamMaps=param_grid,\n",
    "#                     evaluator=RegressionEvaluator(labelCol=\"fare\"),\n",
    "#                     numFolds=3,\n",
    "#                     parallelism=5\n",
    "#                    )\n",
    "\n",
    "# cv_model = cv.fit(train)\n",
    "# pred_cv = cv_model.transform(test)\n",
    "# pred_cv = calc_abs_pct_err(pred_cv)\n",
    "\n",
    "# cv_results = list(zip(\n",
    "#     cv_model.getEstimatorParamMaps(), \n",
    "#     cv_model.avgMetrics\n",
    "# ))\n",
    "\n",
    "# cv_results.sort(key=lambda x: x[1])\n",
    "# best_result = cv_results[0]\n",
    "# best_metric = best_result[1]\n",
    "# best_param_dict = best_result[0]\n",
    "# params = [x.name for x in list(best_param_dict.keys())]\n",
    "# param_vals = best_param_dict.values()\n",
    "# best_params = dict(zip(params, param_vals))\n",
    "# best_params, best_metric"
   ]
  },
  {
   "cell_type": "markdown",
   "id": "c46134b7-30a4-425f-ae02-55f24f9c5c89",
   "metadata": {
    "execution": {
     "iopub.execute_input": "2022-11-18T00:00:10.205528Z",
     "iopub.status.busy": "2022-11-18T00:00:10.205263Z",
     "iopub.status.idle": "2022-11-18T00:00:39.627899Z",
     "shell.execute_reply": "2022-11-18T00:00:39.627238Z",
     "shell.execute_reply.started": "2022-11-18T00:00:10.205502Z"
    },
    "tags": []
   },
   "source": [
    "## split out by market"
   ]
  },
  {
   "cell_type": "code",
   "execution_count": null,
   "id": "487f4a8c-9cbb-4900-a2d9-e840c6eb74ce",
   "metadata": {
    "tags": []
   },
   "outputs": [],
   "source": [
    "# temp = df.select(\"market\").distinct().collect()\n",
    "# market_list = [x['market'] for x in temp]\n",
    "\n",
    "## TODO: capture results in a dict\n",
    "# for market in market_list:\n",
    "#     print(market)\n",
    "#     market_model = rf_pipeline.fit(train.filter(F.col(\"market\") == market))\n",
    "#     market_pred_df = market_model.transform(test.filter(F.col(\"market\") == market))\n",
    "#     market_pred_df = calc_abs_pct_err(market_pred_df)\n",
    "#     print(\"\")"
   ]
  },
  {
   "cell_type": "markdown",
   "id": "2c97ec08-1154-4824-ba84-6b089b769d6b",
   "metadata": {},
   "source": [
    "Note: this was only marginally better than training one model on the whole dataset"
   ]
  },
  {
   "cell_type": "markdown",
   "id": "b7782bc4-bc22-4973-83f9-ae0c69fa2e72",
   "metadata": {},
   "source": [
    "# Gradient Boosing"
   ]
  },
  {
   "cell_type": "code",
   "execution_count": 19,
   "id": "1919847f-ff52-422e-b9e3-15a971fa8caf",
   "metadata": {
    "execution": {
     "iopub.execute_input": "2022-11-18T20:22:37.740678Z",
     "iopub.status.busy": "2022-11-18T20:22:37.740447Z",
     "iopub.status.idle": "2022-11-18T20:22:37.811171Z",
     "shell.execute_reply": "2022-11-18T20:22:37.810589Z",
     "shell.execute_reply.started": "2022-11-18T20:22:37.740655Z"
    }
   },
   "outputs": [
    {
     "data": {
      "application/vnd.jupyter.widget-view+json": {
       "model_id": "f8b1189b4cb145929295af7212863090",
       "version_major": 2,
       "version_minor": 0
      },
      "text/plain": [
       "VBox()"
      ]
     },
     "metadata": {},
     "output_type": "display_data"
    },
    {
     "data": {
      "application/vnd.jupyter.widget-view+json": {
       "model_id": "",
       "version_major": 2,
       "version_minor": 0
      },
      "text/plain": [
       "FloatProgress(value=0.0, bar_style='info', description='Progress:', layout=Layout(height='25px', width='50%'),…"
      ]
     },
     "metadata": {},
     "output_type": "display_data"
    }
   ],
   "source": [
    "from pyspark.ml.regression import GBTRegressor"
   ]
  },
  {
   "cell_type": "code",
   "execution_count": 24,
   "id": "73a194c8-11cf-414f-8172-efae8af49cc9",
   "metadata": {
    "execution": {
     "iopub.execute_input": "2022-11-18T20:38:44.962415Z",
     "iopub.status.busy": "2022-11-18T20:38:44.962132Z",
     "iopub.status.idle": "2022-11-18T20:38:45.023527Z",
     "shell.execute_reply": "2022-11-18T20:38:45.022988Z",
     "shell.execute_reply.started": "2022-11-18T20:38:44.962374Z"
    },
    "tags": []
   },
   "outputs": [
    {
     "data": {
      "application/vnd.jupyter.widget-view+json": {
       "model_id": "c56e32d8d512418dbdc1bffb1f6f87a0",
       "version_major": 2,
       "version_minor": 0
      },
      "text/plain": [
       "VBox()"
      ]
     },
     "metadata": {},
     "output_type": "display_data"
    },
    {
     "data": {
      "application/vnd.jupyter.widget-view+json": {
       "model_id": "",
       "version_major": 2,
       "version_minor": 0
      },
      "text/plain": [
       "FloatProgress(value=0.0, bar_style='info', description='Progress:', layout=Layout(height='25px', width='50%'),…"
      ]
     },
     "metadata": {},
     "output_type": "display_data"
    }
   ],
   "source": [
    "raw_feature_assembler = VectorAssembler(\n",
    "    inputCols=all_features,\n",
    "    outputCol='features'\n",
    ")\n",
    "\n",
    "gb_regression_model = GBTRegressor(\n",
    "    labelCol=\"fare\",\n",
    "    # maxIter=20,\n",
    "    # numTrees=100,\n",
    "    stepSize=0.1,\n",
    ")\n",
    "\n",
    "gb_pipeline = Pipeline(stages=[\n",
    "    raw_feature_assembler,\n",
    "    gb_regression_model\n",
    "])"
   ]
  },
  {
   "cell_type": "markdown",
   "id": "d13f2ea7",
   "metadata": {},
   "source": [
    "## tune"
   ]
  },
  {
   "cell_type": "code",
   "execution_count": 27,
   "id": "76d481f9-32de-41f3-8fea-e92dcef84a26",
   "metadata": {
    "execution": {
     "iopub.execute_input": "2022-11-18T20:39:54.098340Z",
     "iopub.status.busy": "2022-11-18T20:39:54.098062Z",
     "iopub.status.idle": "2022-11-18T20:55:05.044039Z",
     "shell.execute_reply": "2022-11-18T20:55:05.043314Z",
     "shell.execute_reply.started": "2022-11-18T20:39:54.098314Z"
    },
    "tags": []
   },
   "outputs": [
    {
     "data": {
      "application/vnd.jupyter.widget-view+json": {
       "model_id": "26776618f6c148d698271653bbd3b6b1",
       "version_major": 2,
       "version_minor": 0
      },
      "text/plain": [
       "VBox()"
      ]
     },
     "metadata": {},
     "output_type": "display_data"
    },
    {
     "name": "stderr",
     "output_type": "stream",
     "text": [
      "Exception in thread cell_monitor-27:\n",
      "Traceback (most recent call last):\n",
      "  File \"/mnt/notebook-env/lib/python3.7/threading.py\", line 926, in _bootstrap_inner\n",
      "    self.run()\n",
      "  File \"/mnt/notebook-env/lib/python3.7/threading.py\", line 870, in run\n",
      "    self._target(*self._args, **self._kwargs)\n",
      "  File \"/mnt/notebook-env/lib/python3.7/site-packages/awseditorssparkmonitoringwidget-1.0-py3.7.egg/awseditorssparkmonitoringwidget/cellmonitor.py\", line 154, in cell_monitor\n",
      "    job_group_filtered_jobs = [job for job in jobs_data if job['jobGroup'] == str(statement_id)]\n",
      "  File \"/mnt/notebook-env/lib/python3.7/site-packages/awseditorssparkmonitoringwidget-1.0-py3.7.egg/awseditorssparkmonitoringwidget/cellmonitor.py\", line 154, in <listcomp>\n",
      "    job_group_filtered_jobs = [job for job in jobs_data if job['jobGroup'] == str(statement_id)]\n",
      "KeyError: 'jobGroup'\n",
      "\n"
     ]
    },
    {
     "data": {
      "application/vnd.jupyter.widget-view+json": {
       "model_id": "",
       "version_major": 2,
       "version_minor": 0
      },
      "text/plain": [
       "FloatProgress(value=0.0, bar_style='info', description='Progress:', layout=Layout(height='25px', width='50%'),…"
      ]
     },
     "metadata": {},
     "output_type": "display_data"
    },
    {
     "name": "stdout",
     "output_type": "stream",
     "text": [
      "+-------------------+\n",
      "|               mape|\n",
      "+-------------------+\n",
      "|0.14425328413773864|\n",
      "+-------------------+\n",
      "\n",
      "None\n",
      "({'maxIter': 50, 'maxDepth': 5, 'lossType': 'squared'}, 117.03455006389265)"
     ]
    }
   ],
   "source": [
    "# GBT\n",
    "\n",
    "gb_param_grid = (ParamGridBuilder()\n",
    "              # regParam is lambda (weight / factor), elasticNet is alpha (ratio)\n",
    "              # note alpha is the opposite of sklearn's defintion\n",
    "              .addGrid(gb_regression_model.maxIter, [10, 20, 50])\n",
    "              # .addGrid(regression_model.numTrees, [50, 100, 200])\n",
    "              # .addGrid(gb_regression_model.stepSize, [0.01, 0.05, 0.1, 0.25])\n",
    "              .addGrid(gb_regression_model.maxDepth, [3, 5, 7, 10])\n",
    "              .addGrid(gb_regression_model.lossType, ['squared', 'absolute'])\n",
    "              .build()\n",
    "             )\n",
    "\n",
    "cv = CrossValidator(estimator=gb_pipeline,\n",
    "                    estimatorParamMaps=gb_param_grid,\n",
    "                    evaluator=RegressionEvaluator(labelCol=\"fare\"),\n",
    "                    numFolds=3,\n",
    "                    parallelism=5\n",
    "                   )\n",
    "\n",
    "cv_model = cv.fit(train)\n",
    "pred_cv = cv_model.transform(test)\n",
    "pred_cv = calc_abs_pct_err(pred_cv)\n",
    "\n",
    "cv_results = list(zip(\n",
    "    cv_model.getEstimatorParamMaps(), \n",
    "    cv_model.avgMetrics\n",
    "))\n",
    "\n",
    "cv_results.sort(key=lambda x: x[1])\n",
    "best_result = cv_results[0]\n",
    "best_metric = best_result[1]\n",
    "best_param_dict = best_result[0]\n",
    "params = [x.name for x in list(best_param_dict.keys())]\n",
    "param_vals = best_param_dict.values()\n",
    "best_params = dict(zip(params, param_vals))\n",
    "best_params, best_metric"
   ]
  },
  {
   "cell_type": "code",
   "execution_count": 46,
   "id": "03666384-9ea8-4e28-9be0-cc15e89ec59d",
   "metadata": {
    "execution": {
     "iopub.execute_input": "2022-11-18T21:15:21.043065Z",
     "iopub.status.busy": "2022-11-18T21:15:21.042843Z",
     "iopub.status.idle": "2022-11-18T21:15:30.351066Z",
     "shell.execute_reply": "2022-11-18T21:15:30.350360Z",
     "shell.execute_reply.started": "2022-11-18T21:15:21.043041Z"
    },
    "tags": []
   },
   "outputs": [
    {
     "data": {
      "application/vnd.jupyter.widget-view+json": {
       "model_id": "a3700ee07ef64a12bbc649f66b9e2686",
       "version_major": 2,
       "version_minor": 0
      },
      "text/plain": [
       "VBox()"
      ]
     },
     "metadata": {},
     "output_type": "display_data"
    },
    {
     "data": {
      "application/vnd.jupyter.widget-view+json": {
       "model_id": "",
       "version_major": 2,
       "version_minor": 0
      },
      "text/plain": [
       "FloatProgress(value=0.0, bar_style='info', description='Progress:', layout=Layout(height='25px', width='50%'),…"
      ]
     },
     "metadata": {},
     "output_type": "display_data"
    },
    {
     "name": "stderr",
     "output_type": "stream",
     "text": [
      "Exception in thread cell_monitor-46:\n",
      "Traceback (most recent call last):\n",
      "  File \"/mnt/notebook-env/lib/python3.7/threading.py\", line 926, in _bootstrap_inner\n",
      "    self.run()\n",
      "  File \"/mnt/notebook-env/lib/python3.7/threading.py\", line 870, in run\n",
      "    self._target(*self._args, **self._kwargs)\n",
      "  File \"/mnt/notebook-env/lib/python3.7/site-packages/awseditorssparkmonitoringwidget-1.0-py3.7.egg/awseditorssparkmonitoringwidget/cellmonitor.py\", line 154, in cell_monitor\n",
      "    job_group_filtered_jobs = [job for job in jobs_data if job['jobGroup'] == str(statement_id)]\n",
      "  File \"/mnt/notebook-env/lib/python3.7/site-packages/awseditorssparkmonitoringwidget-1.0-py3.7.egg/awseditorssparkmonitoringwidget/cellmonitor.py\", line 154, in <listcomp>\n",
      "    job_group_filtered_jobs = [job for job in jobs_data if job['jobGroup'] == str(statement_id)]\n",
      "KeyError: 'jobGroup'\n",
      "\n"
     ]
    },
    {
     "name": "stdout",
     "output_type": "stream",
     "text": [
      "+-------+--------------------+\n",
      "| market|                mape|\n",
      "+-------+--------------------+\n",
      "|LHR-EWR|0.046982340200654574|\n",
      "|LHR-JFK| 0.05928787072118872|\n",
      "|LHR-LAX| 0.09863349562329513|\n",
      "|EWR-LHR| 0.09981652787013846|\n",
      "|JFK-LHR| 0.10194048171014869|\n",
      "|EWR-CDG| 0.10334854786042848|\n",
      "|LAX-EWR| 0.11075375305733877|\n",
      "|LAX-JFK| 0.12030932259329453|\n",
      "|JFK-LAX| 0.12211097365267493|\n",
      "|ATL-EWR| 0.14210145290178597|\n",
      "|LGA-MIA|  0.2095614667697796|\n",
      "|SFO-LAX| 0.21965693629901145|\n",
      "|LAX-SFO| 0.22010284498942057|\n",
      "|OAK-LAS| 0.43575656178084005|\n",
      "+-------+--------------------+"
     ]
    }
   ],
   "source": [
    "pred_cv.groupBy(\"market\").agg(F.mean(\"abs_pct_err\").alias(\"mape\")).orderBy(\"mape\").show()"
   ]
  },
  {
   "cell_type": "code",
   "execution_count": null,
   "id": "598e59f0-7dba-4919-aade-31677de6d302",
   "metadata": {},
   "outputs": [],
   "source": [
    "raw_feature_assembler = VectorAssembler(\n",
    "    inputCols=all_features,\n",
    "    outputCol='features'\n",
    ")\n",
    "\n",
    "gb_regression_model = GBTRegressor(\n",
    "    labelCol=\"fare\",\n",
    "    # maxIter=20,\n",
    "    # numTrees=100,\n",
    "    stepSize=0.1,\n",
    ")\n",
    "\n",
    "gb_pipeline = Pipeline(stages=[\n",
    "    raw_feature_assembler,\n",
    "    gb_regression_model\n",
    "])"
   ]
  },
  {
   "cell_type": "markdown",
   "id": "c76bb890-4d3d-4ba2-a2ee-88f9fef2a9d3",
   "metadata": {},
   "source": [
    "## feature importances"
   ]
  },
  {
   "cell_type": "code",
   "execution_count": 34,
   "id": "61e87fc5-0e60-40ff-9799-5068888cf186",
   "metadata": {
    "collapsed": true,
    "execution": {
     "iopub.execute_input": "2022-11-18T20:57:59.223290Z",
     "iopub.status.busy": "2022-11-18T20:57:59.223042Z",
     "iopub.status.idle": "2022-11-18T20:57:59.481683Z",
     "shell.execute_reply": "2022-11-18T20:57:59.480956Z",
     "shell.execute_reply.started": "2022-11-18T20:57:59.223247Z"
    },
    "jupyter": {
     "outputs_hidden": true
    },
    "tags": []
   },
   "outputs": [
    {
     "data": {
      "application/vnd.jupyter.widget-view+json": {
       "model_id": "ed64f6b46ad5412587ec170207b83643",
       "version_major": 2,
       "version_minor": 0
      },
      "text/plain": [
       "VBox()"
      ]
     },
     "metadata": {},
     "output_type": "display_data"
    },
    {
     "data": {
      "application/vnd.jupyter.widget-view+json": {
       "model_id": "",
       "version_major": 2,
       "version_minor": 0
      },
      "text/plain": [
       "FloatProgress(value=0.0, bar_style='info', description='Progress:', layout=Layout(height='25px', width='50%'),…"
      ]
     },
     "metadata": {},
     "output_type": "display_data"
    },
    {
     "name": "stderr",
     "output_type": "stream",
     "text": [
      "Exception in thread cell_monitor-34:\n",
      "Traceback (most recent call last):\n",
      "  File \"/mnt/notebook-env/lib/python3.7/threading.py\", line 926, in _bootstrap_inner\n",
      "    self.run()\n",
      "  File \"/mnt/notebook-env/lib/python3.7/threading.py\", line 870, in run\n",
      "    self._target(*self._args, **self._kwargs)\n",
      "  File \"/mnt/notebook-env/lib/python3.7/site-packages/awseditorssparkmonitoringwidget-1.0-py3.7.egg/awseditorssparkmonitoringwidget/cellmonitor.py\", line 154, in cell_monitor\n",
      "    job_group_filtered_jobs = [job for job in jobs_data if job['jobGroup'] == str(statement_id)]\n",
      "  File \"/mnt/notebook-env/lib/python3.7/site-packages/awseditorssparkmonitoringwidget-1.0-py3.7.egg/awseditorssparkmonitoringwidget/cellmonitor.py\", line 154, in <listcomp>\n",
      "    job_group_filtered_jobs = [job for job in jobs_data if job['jobGroup'] == str(statement_id)]\n",
      "KeyError: 'jobGroup'\n",
      "\n"
     ]
    }
   ],
   "source": [
    "best_pipeline = cv_model.bestModel\n",
    "va = best_pipeline.stages[-2]\n",
    "gb_model = best_pipeline.stages[-1]\n",
    "\n",
    "feat_imps = list(zip(va.getInputCols(), gb_model.featureImportances))"
   ]
  },
  {
   "cell_type": "code",
   "execution_count": 35,
   "id": "2daa10cf-6ebf-4c27-a880-4c523e32e1ce",
   "metadata": {
    "execution": {
     "iopub.execute_input": "2022-11-18T20:58:02.984454Z",
     "iopub.status.busy": "2022-11-18T20:58:02.984228Z",
     "iopub.status.idle": "2022-11-18T20:58:03.059522Z",
     "shell.execute_reply": "2022-11-18T20:58:03.058974Z",
     "shell.execute_reply.started": "2022-11-18T20:58:02.984430Z"
    }
   },
   "outputs": [
    {
     "data": {
      "application/vnd.jupyter.widget-view+json": {
       "model_id": "50e6eaf4ae964095bb8e980331b28d0a",
       "version_major": 2,
       "version_minor": 0
      },
      "text/plain": [
       "VBox()"
      ]
     },
     "metadata": {},
     "output_type": "display_data"
    },
    {
     "data": {
      "application/vnd.jupyter.widget-view+json": {
       "model_id": "",
       "version_major": 2,
       "version_minor": 0
      },
      "text/plain": [
       "FloatProgress(value=0.0, bar_style='info', description='Progress:', layout=Layout(height='25px', width='50%'),…"
      ]
     },
     "metadata": {},
     "output_type": "display_data"
    },
    {
     "name": "stdout",
     "output_type": "stream",
     "text": [
      "[('fare_prev_shop_day', 0.06474978370814934), ('fr2_fare_prev_shop_day', 0.04157449094670529), ('avg_fare_dtd', 0.07560167409751524), ('fare_prev_dept_day', 0.04227825202159966), ('fare_next_dept_day', 0.09282471660989441), ('est_fare_from_prev_dept_day', 0.04304553821796271), ('est_fare_from_next_dept_day', 0.06759067485383125), ('trailing_avg_fare', 0.07498048384963131), ('trailing_std_fare', 0.05556758704440851), ('days_til_dept', 0.08747845922728532), ('num_itin_prev_shop_day', 0.020599876964054048), ('shop_counts_prev_shop_day', 0.06502197791453675), ('trailing_avg_shop_counts', 0.03873507489771725), ('solution_counts_prev_shop_day', 0.07928650926106635), ('trailing_avg_solution_counts', 0.05915389724315017), ('dept_dt_dow_int', 0.034913385742295674), ('avg_out_avail_max_prev_shop_day', 0.01744789120685597), ('avg_out_avail_low_prev_shop_day', 0.008852428143561054), ('fr1_fr2_out_cxrs_same', 0.019068112091959688), ('fr1_fr2_out_cxrs_overlap', 0.011036169169070686), ('is_holiday', 0.00019301678874939824)]"
     ]
    },
    {
     "name": "stderr",
     "output_type": "stream",
     "text": [
      "Exception in thread cell_monitor-35:\n",
      "Traceback (most recent call last):\n",
      "  File \"/mnt/notebook-env/lib/python3.7/threading.py\", line 926, in _bootstrap_inner\n",
      "    self.run()\n",
      "  File \"/mnt/notebook-env/lib/python3.7/threading.py\", line 870, in run\n",
      "    self._target(*self._args, **self._kwargs)\n",
      "  File \"/mnt/notebook-env/lib/python3.7/site-packages/awseditorssparkmonitoringwidget-1.0-py3.7.egg/awseditorssparkmonitoringwidget/cellmonitor.py\", line 154, in cell_monitor\n",
      "    job_group_filtered_jobs = [job for job in jobs_data if job['jobGroup'] == str(statement_id)]\n",
      "  File \"/mnt/notebook-env/lib/python3.7/site-packages/awseditorssparkmonitoringwidget-1.0-py3.7.egg/awseditorssparkmonitoringwidget/cellmonitor.py\", line 154, in <listcomp>\n",
      "    job_group_filtered_jobs = [job for job in jobs_data if job['jobGroup'] == str(statement_id)]\n",
      "KeyError: 'jobGroup'\n",
      "\n"
     ]
    }
   ],
   "source": [
    "feat_imps"
   ]
  },
  {
   "cell_type": "code",
   "execution_count": 37,
   "id": "4317e431-68e4-45d5-bf9b-e3bd6da204d5",
   "metadata": {
    "collapsed": true,
    "execution": {
     "iopub.execute_input": "2022-11-18T20:59:13.419070Z",
     "iopub.status.busy": "2022-11-18T20:59:13.418841Z",
     "iopub.status.idle": "2022-11-18T20:59:13.482601Z",
     "shell.execute_reply": "2022-11-18T20:59:13.481865Z",
     "shell.execute_reply.started": "2022-11-18T20:59:13.419043Z"
    },
    "jupyter": {
     "outputs_hidden": true
    },
    "tags": []
   },
   "outputs": [
    {
     "data": {
      "application/vnd.jupyter.widget-view+json": {
       "model_id": "e19b8fc991ad4bf3bc7ad6ac37e2bb90",
       "version_major": 2,
       "version_minor": 0
      },
      "text/plain": [
       "VBox()"
      ]
     },
     "metadata": {},
     "output_type": "display_data"
    },
    {
     "data": {
      "application/vnd.jupyter.widget-view+json": {
       "model_id": "",
       "version_major": 2,
       "version_minor": 0
      },
      "text/plain": [
       "FloatProgress(value=0.0, bar_style='info', description='Progress:', layout=Layout(height='25px', width='50%'),…"
      ]
     },
     "metadata": {},
     "output_type": "display_data"
    },
    {
     "name": "stderr",
     "output_type": "stream",
     "text": [
      "Exception in thread cell_monitor-37:\n",
      "Traceback (most recent call last):\n",
      "  File \"/mnt/notebook-env/lib/python3.7/threading.py\", line 926, in _bootstrap_inner\n",
      "    self.run()\n",
      "  File \"/mnt/notebook-env/lib/python3.7/threading.py\", line 870, in run\n",
      "    self._target(*self._args, **self._kwargs)\n",
      "  File \"/mnt/notebook-env/lib/python3.7/site-packages/awseditorssparkmonitoringwidget-1.0-py3.7.egg/awseditorssparkmonitoringwidget/cellmonitor.py\", line 154, in cell_monitor\n",
      "    job_group_filtered_jobs = [job for job in jobs_data if job['jobGroup'] == str(statement_id)]\n",
      "  File \"/mnt/notebook-env/lib/python3.7/site-packages/awseditorssparkmonitoringwidget-1.0-py3.7.egg/awseditorssparkmonitoringwidget/cellmonitor.py\", line 154, in <listcomp>\n",
      "    job_group_filtered_jobs = [job for job in jobs_data if job['jobGroup'] == str(statement_id)]\n",
      "KeyError: 'jobGroup'\n",
      "\n"
     ]
    }
   ],
   "source": [
    "feat_imps.sort(key=lambda x: x[1], reverse=True)"
   ]
  },
  {
   "cell_type": "code",
   "execution_count": 38,
   "id": "4a039d67-feb1-47d8-b53b-e8bb5bc3af2e",
   "metadata": {
    "execution": {
     "iopub.execute_input": "2022-11-18T20:59:22.661566Z",
     "iopub.status.busy": "2022-11-18T20:59:22.661344Z",
     "iopub.status.idle": "2022-11-18T20:59:22.836031Z",
     "shell.execute_reply": "2022-11-18T20:59:22.833975Z",
     "shell.execute_reply.started": "2022-11-18T20:59:22.661542Z"
    }
   },
   "outputs": [
    {
     "data": {
      "application/vnd.jupyter.widget-view+json": {
       "model_id": "ce4b820cb75442fc9c5b4fafe4c3f7ac",
       "version_major": 2,
       "version_minor": 0
      },
      "text/plain": [
       "VBox()"
      ]
     },
     "metadata": {},
     "output_type": "display_data"
    },
    {
     "data": {
      "application/vnd.jupyter.widget-view+json": {
       "model_id": "",
       "version_major": 2,
       "version_minor": 0
      },
      "text/plain": [
       "FloatProgress(value=0.0, bar_style='info', description='Progress:', layout=Layout(height='25px', width='50%'),…"
      ]
     },
     "metadata": {},
     "output_type": "display_data"
    },
    {
     "name": "stdout",
     "output_type": "stream",
     "text": [
      "('fare_next_dept_day', 0.09282471660989441)\n",
      "('days_til_dept', 0.08747845922728532)\n",
      "('solution_counts_prev_shop_day', 0.07928650926106635)\n",
      "('avg_fare_dtd', 0.07560167409751524)\n",
      "('trailing_avg_fare', 0.07498048384963131)\n",
      "('est_fare_from_next_dept_day', 0.06759067485383125)\n",
      "('shop_counts_prev_shop_day', 0.06502197791453675)\n",
      "('fare_prev_shop_day', 0.06474978370814934)\n",
      "('trailing_avg_solution_counts', 0.05915389724315017)\n",
      "('trailing_std_fare', 0.05556758704440851)\n",
      "('est_fare_from_prev_dept_day', 0.04304553821796271)\n",
      "('fare_prev_dept_day', 0.04227825202159966)\n",
      "('fr2_fare_prev_shop_day', 0.04157449094670529)\n",
      "('trailing_avg_shop_counts', 0.03873507489771725)\n",
      "('dept_dt_dow_int', 0.034913385742295674)\n",
      "('num_itin_prev_shop_day', 0.020599876964054048)\n",
      "('fr1_fr2_out_cxrs_same', 0.019068112091959688)\n",
      "('avg_out_avail_max_prev_shop_day', 0.01744789120685597)\n",
      "('fr1_fr2_out_cxrs_overlap', 0.011036169169070686)\n",
      "('avg_out_avail_low_prev_shop_day', 0.008852428143561054)\n",
      "('is_holiday', 0.00019301678874939824)"
     ]
    },
    {
     "name": "stderr",
     "output_type": "stream",
     "text": [
      "Exception in thread cell_monitor-38:\n",
      "Traceback (most recent call last):\n",
      "  File \"/mnt/notebook-env/lib/python3.7/threading.py\", line 926, in _bootstrap_inner\n",
      "    self.run()\n",
      "  File \"/mnt/notebook-env/lib/python3.7/threading.py\", line 870, in run\n",
      "    self._target(*self._args, **self._kwargs)\n",
      "  File \"/mnt/notebook-env/lib/python3.7/site-packages/awseditorssparkmonitoringwidget-1.0-py3.7.egg/awseditorssparkmonitoringwidget/cellmonitor.py\", line 154, in cell_monitor\n",
      "    job_group_filtered_jobs = [job for job in jobs_data if job['jobGroup'] == str(statement_id)]\n",
      "  File \"/mnt/notebook-env/lib/python3.7/site-packages/awseditorssparkmonitoringwidget-1.0-py3.7.egg/awseditorssparkmonitoringwidget/cellmonitor.py\", line 154, in <listcomp>\n",
      "    job_group_filtered_jobs = [job for job in jobs_data if job['jobGroup'] == str(statement_id)]\n",
      "KeyError: 'jobGroup'\n",
      "\n"
     ]
    }
   ],
   "source": [
    "for x in feat_imps:\n",
    "    print(x)"
   ]
  },
  {
   "cell_type": "code",
   "execution_count": 41,
   "id": "d37534b9-c9e0-43a1-90ac-ab983da472c4",
   "metadata": {
    "execution": {
     "iopub.execute_input": "2022-11-18T21:05:52.001048Z",
     "iopub.status.busy": "2022-11-18T21:05:52.000827Z",
     "iopub.status.idle": "2022-11-18T21:05:52.054057Z",
     "shell.execute_reply": "2022-11-18T21:05:52.053434Z",
     "shell.execute_reply.started": "2022-11-18T21:05:52.001024Z"
    },
    "tags": []
   },
   "outputs": [
    {
     "data": {
      "application/vnd.jupyter.widget-view+json": {
       "model_id": "6ac9b081aa1043b186f31f943b97a9b1",
       "version_major": 2,
       "version_minor": 0
      },
      "text/plain": [
       "VBox()"
      ]
     },
     "metadata": {},
     "output_type": "display_data"
    },
    {
     "data": {
      "application/vnd.jupyter.widget-view+json": {
       "model_id": "",
       "version_major": 2,
       "version_minor": 0
      },
      "text/plain": [
       "FloatProgress(value=0.0, bar_style='info', description='Progress:', layout=Layout(height='25px', width='50%'),…"
      ]
     },
     "metadata": {},
     "output_type": "display_data"
    },
    {
     "name": "stderr",
     "output_type": "stream",
     "text": [
      "Exception in thread cell_monitor-41:\n",
      "Traceback (most recent call last):\n",
      "  File \"/mnt/notebook-env/lib/python3.7/threading.py\", line 926, in _bootstrap_inner\n",
      "    self.run()\n",
      "  File \"/mnt/notebook-env/lib/python3.7/threading.py\", line 870, in run\n",
      "    self._target(*self._args, **self._kwargs)\n",
      "  File \"/mnt/notebook-env/lib/python3.7/site-packages/awseditorssparkmonitoringwidget-1.0-py3.7.egg/awseditorssparkmonitoringwidget/cellmonitor.py\", line 154, in cell_monitor\n",
      "    job_group_filtered_jobs = [job for job in jobs_data if job['jobGroup'] == str(statement_id)]\n",
      "  File \"/mnt/notebook-env/lib/python3.7/site-packages/awseditorssparkmonitoringwidget-1.0-py3.7.egg/awseditorssparkmonitoringwidget/cellmonitor.py\", line 154, in <listcomp>\n",
      "    job_group_filtered_jobs = [job for job in jobs_data if job['jobGroup'] == str(statement_id)]\n",
      "KeyError: 'jobGroup'\n",
      "\n"
     ]
    }
   ],
   "source": [
    "import matplotlib.pyplot as plt"
   ]
  },
  {
   "cell_type": "code",
   "execution_count": 44,
   "id": "b5798202-5b45-4884-a2f3-45191cb28c80",
   "metadata": {
    "execution": {
     "iopub.execute_input": "2022-11-18T21:11:13.592916Z",
     "iopub.status.busy": "2022-11-18T21:11:13.592690Z",
     "iopub.status.idle": "2022-11-18T21:11:13.859826Z",
     "shell.execute_reply": "2022-11-18T21:11:13.859013Z",
     "shell.execute_reply.started": "2022-11-18T21:11:13.592892Z"
    },
    "tags": []
   },
   "outputs": [
    {
     "data": {
      "application/vnd.jupyter.widget-view+json": {
       "model_id": "ae25b2e4a8b14fdf8a0453dfb07c0679",
       "version_major": 2,
       "version_minor": 0
      },
      "text/plain": [
       "VBox()"
      ]
     },
     "metadata": {},
     "output_type": "display_data"
    },
    {
     "data": {
      "application/vnd.jupyter.widget-view+json": {
       "model_id": "",
       "version_major": 2,
       "version_minor": 0
      },
      "text/plain": [
       "FloatProgress(value=0.0, bar_style='info', description='Progress:', layout=Layout(height='25px', width='50%'),…"
      ]
     },
     "metadata": {},
     "output_type": "display_data"
    },
    {
     "name": "stderr",
     "output_type": "stream",
     "text": [
      "Exception in thread cell_monitor-44:\n",
      "Traceback (most recent call last):\n",
      "  File \"/mnt/notebook-env/lib/python3.7/threading.py\", line 926, in _bootstrap_inner\n",
      "    self.run()\n",
      "  File \"/mnt/notebook-env/lib/python3.7/threading.py\", line 870, in run\n",
      "    self._target(*self._args, **self._kwargs)\n",
      "  File \"/mnt/notebook-env/lib/python3.7/site-packages/awseditorssparkmonitoringwidget-1.0-py3.7.egg/awseditorssparkmonitoringwidget/cellmonitor.py\", line 154, in cell_monitor\n",
      "    job_group_filtered_jobs = [job for job in jobs_data if job['jobGroup'] == str(statement_id)]\n",
      "  File \"/mnt/notebook-env/lib/python3.7/site-packages/awseditorssparkmonitoringwidget-1.0-py3.7.egg/awseditorssparkmonitoringwidget/cellmonitor.py\", line 154, in <listcomp>\n",
      "    job_group_filtered_jobs = [job for job in jobs_data if job['jobGroup'] == str(statement_id)]\n",
      "KeyError: 'jobGroup'\n",
      "\n"
     ]
    }
   ],
   "source": [
    "file_name = 'gb-feat-impt'\n",
    "xs = range(len(feat_imps))\n",
    "plt.bar(xs, [x[1] for x in feat_imps])\n",
    "plt.xticks(xs, [x[0] for x in feat_imps], rotation=90)\n",
    "plt.ylabel(\"feature importance\")\n",
    "plt.title(\"Gradient Boosted Regression\")\n",
    "plt.tight_layout()\n",
    "plt.savefig(f\"/tmp/{file_name}.png\")"
   ]
  },
  {
   "cell_type": "markdown",
   "id": "f80a4501-2db0-43c4-b5b1-eec7a4c49c1e",
   "metadata": {},
   "source": [
    "# Random Forest"
   ]
  },
  {
   "cell_type": "markdown",
   "id": "7bb7968f-0ef3-49c7-bdf4-c9002565d74d",
   "metadata": {},
   "source": [
    "Best params from tuning were: 100 tree, maxDepth 7"
   ]
  },
  {
   "cell_type": "code",
   "execution_count": 20,
   "id": "9a7a6724-864f-4d63-a1d8-cba93915de68",
   "metadata": {
    "execution": {
     "iopub.execute_input": "2022-11-18T20:25:01.806801Z",
     "iopub.status.busy": "2022-11-18T20:25:01.806573Z",
     "iopub.status.idle": "2022-11-18T20:25:01.865066Z",
     "shell.execute_reply": "2022-11-18T20:25:01.864529Z",
     "shell.execute_reply.started": "2022-11-18T20:25:01.806776Z"
    },
    "tags": []
   },
   "outputs": [],
   "source": [
    "raw_feature_assembler = VectorAssembler(\n",
    "    inputCols=all_features,\n",
    "    outputCol='features'\n",
    ")\n",
    "\n",
    "rf_regression_model = RandomForestRegressor(\n",
    "    labelCol=\"fare\",\n",
    "    numTrees=100,\n",
    "    maxDepth=7,\n",
    ")\n",
    "\n",
    "rf_pipeline = Pipeline(stages=[\n",
    "    raw_feature_assembler,\n",
    "    rf_regression_model\n",
    "])"
   ]
  },
  {
   "cell_type": "code",
   "execution_count": 47,
   "id": "85c5829f-5768-4f00-8a6d-f7d8a08f3a17",
   "metadata": {
    "execution": {
     "iopub.execute_input": "2022-11-18T21:20:14.890585Z",
     "iopub.status.busy": "2022-11-18T21:20:14.890360Z",
     "iopub.status.idle": "2022-11-18T21:20:54.394851Z",
     "shell.execute_reply": "2022-11-18T21:20:54.394128Z",
     "shell.execute_reply.started": "2022-11-18T21:20:14.890561Z"
    },
    "tags": []
   },
   "outputs": [
    {
     "data": {
      "application/vnd.jupyter.widget-view+json": {
       "model_id": "0dec2d5eeb174536898967e18294e559",
       "version_major": 2,
       "version_minor": 0
      },
      "text/plain": [
       "VBox()"
      ]
     },
     "metadata": {},
     "output_type": "display_data"
    },
    {
     "data": {
      "application/vnd.jupyter.widget-view+json": {
       "model_id": "",
       "version_major": 2,
       "version_minor": 0
      },
      "text/plain": [
       "FloatProgress(value=0.0, bar_style='info', description='Progress:', layout=Layout(height='25px', width='50%'),…"
      ]
     },
     "metadata": {},
     "output_type": "display_data"
    },
    {
     "name": "stderr",
     "output_type": "stream",
     "text": [
      "Exception in thread cell_monitor-47:\n",
      "Traceback (most recent call last):\n",
      "  File \"/mnt/notebook-env/lib/python3.7/threading.py\", line 926, in _bootstrap_inner\n",
      "    self.run()\n",
      "  File \"/mnt/notebook-env/lib/python3.7/threading.py\", line 870, in run\n",
      "    self._target(*self._args, **self._kwargs)\n",
      "  File \"/mnt/notebook-env/lib/python3.7/site-packages/awseditorssparkmonitoringwidget-1.0-py3.7.egg/awseditorssparkmonitoringwidget/cellmonitor.py\", line 154, in cell_monitor\n",
      "    job_group_filtered_jobs = [job for job in jobs_data if job['jobGroup'] == str(statement_id)]\n",
      "  File \"/mnt/notebook-env/lib/python3.7/site-packages/awseditorssparkmonitoringwidget-1.0-py3.7.egg/awseditorssparkmonitoringwidget/cellmonitor.py\", line 154, in <listcomp>\n",
      "    job_group_filtered_jobs = [job for job in jobs_data if job['jobGroup'] == str(statement_id)]\n",
      "KeyError: 'jobGroup'\n",
      "\n"
     ]
    },
    {
     "name": "stdout",
     "output_type": "stream",
     "text": [
      "+-------------------+\n",
      "|               mape|\n",
      "+-------------------+\n",
      "|0.13539775922015176|\n",
      "+-------------------+\n",
      "\n",
      "None"
     ]
    }
   ],
   "source": [
    "rf_model = rf_pipeline.fit(train_shuffled)\n",
    "pred_rf_df = rf_model.transform(test)\n",
    "pred_rf_df = calc_abs_pct_err(pred_rf_df)"
   ]
  },
  {
   "cell_type": "markdown",
   "id": "0fc7d0f7-e1d7-48cf-9d1e-b7f2ff79f31c",
   "metadata": {},
   "source": [
    "## feature importance"
   ]
  },
  {
   "cell_type": "code",
   "execution_count": 48,
   "id": "aa2bf9df-ca34-45d9-b08b-bbb59c4a19e6",
   "metadata": {
    "execution": {
     "iopub.execute_input": "2022-11-18T21:22:00.384954Z",
     "iopub.status.busy": "2022-11-18T21:22:00.384715Z",
     "iopub.status.idle": "2022-11-18T21:22:00.653997Z",
     "shell.execute_reply": "2022-11-18T21:22:00.653322Z",
     "shell.execute_reply.started": "2022-11-18T21:22:00.384928Z"
    }
   },
   "outputs": [
    {
     "data": {
      "application/vnd.jupyter.widget-view+json": {
       "model_id": "e81c395cd06c42aa8aaaea1c3331e29e",
       "version_major": 2,
       "version_minor": 0
      },
      "text/plain": [
       "VBox()"
      ]
     },
     "metadata": {},
     "output_type": "display_data"
    },
    {
     "data": {
      "application/vnd.jupyter.widget-view+json": {
       "model_id": "",
       "version_major": 2,
       "version_minor": 0
      },
      "text/plain": [
       "FloatProgress(value=0.0, bar_style='info', description='Progress:', layout=Layout(height='25px', width='50%'),…"
      ]
     },
     "metadata": {},
     "output_type": "display_data"
    },
    {
     "name": "stderr",
     "output_type": "stream",
     "text": [
      "Exception in thread cell_monitor-48:\n",
      "Traceback (most recent call last):\n",
      "  File \"/mnt/notebook-env/lib/python3.7/threading.py\", line 926, in _bootstrap_inner\n",
      "    self.run()\n",
      "  File \"/mnt/notebook-env/lib/python3.7/threading.py\", line 870, in run\n",
      "    self._target(*self._args, **self._kwargs)\n",
      "  File \"/mnt/notebook-env/lib/python3.7/site-packages/awseditorssparkmonitoringwidget-1.0-py3.7.egg/awseditorssparkmonitoringwidget/cellmonitor.py\", line 154, in cell_monitor\n",
      "    job_group_filtered_jobs = [job for job in jobs_data if job['jobGroup'] == str(statement_id)]\n",
      "  File \"/mnt/notebook-env/lib/python3.7/site-packages/awseditorssparkmonitoringwidget-1.0-py3.7.egg/awseditorssparkmonitoringwidget/cellmonitor.py\", line 154, in <listcomp>\n",
      "    job_group_filtered_jobs = [job for job in jobs_data if job['jobGroup'] == str(statement_id)]\n",
      "KeyError: 'jobGroup'\n",
      "\n"
     ]
    }
   ],
   "source": [
    "va = rf_model.stages[-2]\n",
    "algo = rf_model.stages[-1]\n",
    "\n",
    "feat_imps = list(zip(va.getInputCols(), algo.featureImportances))"
   ]
  },
  {
   "cell_type": "code",
   "execution_count": 49,
   "id": "b2de7bc8-76de-4b48-b24e-d0d4981cb3f0",
   "metadata": {
    "execution": {
     "iopub.execute_input": "2022-11-18T21:22:08.442472Z",
     "iopub.status.busy": "2022-11-18T21:22:08.442214Z",
     "iopub.status.idle": "2022-11-18T21:22:08.509525Z",
     "shell.execute_reply": "2022-11-18T21:22:08.508830Z",
     "shell.execute_reply.started": "2022-11-18T21:22:08.442447Z"
    }
   },
   "outputs": [
    {
     "data": {
      "application/vnd.jupyter.widget-view+json": {
       "model_id": "8bdf884e2f0e4c8f871bbf1c83f28e61",
       "version_major": 2,
       "version_minor": 0
      },
      "text/plain": [
       "VBox()"
      ]
     },
     "metadata": {},
     "output_type": "display_data"
    },
    {
     "data": {
      "application/vnd.jupyter.widget-view+json": {
       "model_id": "",
       "version_major": 2,
       "version_minor": 0
      },
      "text/plain": [
       "FloatProgress(value=0.0, bar_style='info', description='Progress:', layout=Layout(height='25px', width='50%'),…"
      ]
     },
     "metadata": {},
     "output_type": "display_data"
    },
    {
     "name": "stdout",
     "output_type": "stream",
     "text": [
      "('trailing_avg_fare', 0.3209345075359292)\n",
      "('fr2_fare_prev_shop_day', 0.20100481104338677)\n",
      "('fare_prev_shop_day', 0.16585044292420031)\n",
      "('est_fare_from_next_dept_day', 0.08488915451793487)\n",
      "('est_fare_from_prev_dept_day', 0.07502049700156743)\n",
      "('fare_prev_dept_day', 0.04241239533988256)\n",
      "('avg_fare_dtd', 0.03979723530861093)\n",
      "('fare_next_dept_day', 0.030494199925413176)\n",
      "('days_til_dept', 0.00811702169174535)\n",
      "('trailing_avg_solution_counts', 0.006490518883809328)\n",
      "('solution_counts_prev_shop_day', 0.005015096955370291)\n",
      "('trailing_avg_shop_counts', 0.0045890973027149775)\n",
      "('num_itin_prev_shop_day', 0.003851234028443653)\n",
      "('shop_counts_prev_shop_day', 0.0035870646399046497)\n",
      "('avg_out_avail_max_prev_shop_day', 0.002516591545239253)\n",
      "('trailing_std_fare', 0.0021661553708295293)\n",
      "('fr1_fr2_out_cxrs_overlap', 0.0012488322404018769)\n",
      "('fr1_fr2_out_cxrs_same', 0.0010185833979618963)\n",
      "('dept_dt_dow_int', 0.0009114447005432526)\n",
      "('avg_out_avail_low_prev_shop_day', 5.1640211248415916e-05)\n",
      "('is_holiday', 3.3475434862185555e-05)"
     ]
    },
    {
     "name": "stderr",
     "output_type": "stream",
     "text": [
      "Exception in thread cell_monitor-49:\n",
      "Traceback (most recent call last):\n",
      "  File \"/mnt/notebook-env/lib/python3.7/threading.py\", line 926, in _bootstrap_inner\n",
      "    self.run()\n",
      "  File \"/mnt/notebook-env/lib/python3.7/threading.py\", line 870, in run\n",
      "    self._target(*self._args, **self._kwargs)\n",
      "  File \"/mnt/notebook-env/lib/python3.7/site-packages/awseditorssparkmonitoringwidget-1.0-py3.7.egg/awseditorssparkmonitoringwidget/cellmonitor.py\", line 154, in cell_monitor\n",
      "    job_group_filtered_jobs = [job for job in jobs_data if job['jobGroup'] == str(statement_id)]\n",
      "  File \"/mnt/notebook-env/lib/python3.7/site-packages/awseditorssparkmonitoringwidget-1.0-py3.7.egg/awseditorssparkmonitoringwidget/cellmonitor.py\", line 154, in <listcomp>\n",
      "    job_group_filtered_jobs = [job for job in jobs_data if job['jobGroup'] == str(statement_id)]\n",
      "KeyError: 'jobGroup'\n",
      "\n"
     ]
    }
   ],
   "source": [
    "feat_imps.sort(key=lambda x: x[1], reverse=True)\n",
    "for x in feat_imps:\n",
    "    print(x)"
   ]
  },
  {
   "cell_type": "markdown",
   "id": "d310745c-007f-4276-8aec-d5dd865bec75",
   "metadata": {},
   "source": [
    "Could try fitting to just the most important features"
   ]
  },
  {
   "cell_type": "code",
   "execution_count": 51,
   "id": "69a41039-b098-4237-9715-a5474a3d1bbd",
   "metadata": {
    "execution": {
     "iopub.execute_input": "2022-11-18T21:23:14.300255Z",
     "iopub.status.busy": "2022-11-18T21:23:14.300037Z",
     "iopub.status.idle": "2022-11-18T21:23:15.083895Z",
     "shell.execute_reply": "2022-11-18T21:23:15.083316Z",
     "shell.execute_reply.started": "2022-11-18T21:23:14.300231Z"
    },
    "tags": []
   },
   "outputs": [
    {
     "data": {
      "application/vnd.jupyter.widget-view+json": {
       "model_id": "4d76bf09bdba410a99c0f7fb40d0a33f",
       "version_major": 2,
       "version_minor": 0
      },
      "text/plain": [
       "VBox()"
      ]
     },
     "metadata": {},
     "output_type": "display_data"
    },
    {
     "name": "stderr",
     "output_type": "stream",
     "text": [
      "Exception in thread cell_monitor-51:\n",
      "Traceback (most recent call last):\n",
      "  File \"/mnt/notebook-env/lib/python3.7/threading.py\", line 926, in _bootstrap_inner\n",
      "    self.run()\n",
      "  File \"/mnt/notebook-env/lib/python3.7/threading.py\", line 870, in run\n",
      "    self._target(*self._args, **self._kwargs)\n",
      "  File \"/mnt/notebook-env/lib/python3.7/site-packages/awseditorssparkmonitoringwidget-1.0-py3.7.egg/awseditorssparkmonitoringwidget/cellmonitor.py\", line 154, in cell_monitor\n",
      "    job_group_filtered_jobs = [job for job in jobs_data if job['jobGroup'] == str(statement_id)]\n",
      "  File \"/mnt/notebook-env/lib/python3.7/site-packages/awseditorssparkmonitoringwidget-1.0-py3.7.egg/awseditorssparkmonitoringwidget/cellmonitor.py\", line 154, in <listcomp>\n",
      "    job_group_filtered_jobs = [job for job in jobs_data if job['jobGroup'] == str(statement_id)]\n",
      "KeyError: 'jobGroup'\n",
      "\n"
     ]
    },
    {
     "data": {
      "application/vnd.jupyter.widget-view+json": {
       "model_id": "",
       "version_major": 2,
       "version_minor": 0
      },
      "text/plain": [
       "FloatProgress(value=0.0, bar_style='info', description='Progress:', layout=Layout(height='25px', width='50%'),…"
      ]
     },
     "metadata": {},
     "output_type": "display_data"
    }
   ],
   "source": [
    "file_name = 'rf-feat-impt'\n",
    "xs = range(len(feat_imps))\n",
    "plt.figure(figsize=(8,6))\n",
    "plt.bar(xs, [x[1] for x in feat_imps])\n",
    "plt.xticks(xs, [x[0] for x in feat_imps], rotation=90)\n",
    "plt.ylabel(\"feature importance\")\n",
    "plt.title(\"Random Forest Regression\")\n",
    "plt.tight_layout()\n",
    "plt.savefig(f\"/tmp/{file_name}.png\")"
   ]
  },
  {
   "cell_type": "markdown",
   "id": "33d938f3-675f-45f9-b826-198e98792337",
   "metadata": {},
   "source": [
    "## fit vs. no holiday dataset"
   ]
  },
  {
   "cell_type": "code",
   "execution_count": 54,
   "id": "3c6f0a52-7f24-4331-9089-d549a81fe19d",
   "metadata": {
    "execution": {
     "iopub.execute_input": "2022-11-18T21:24:47.632716Z",
     "iopub.status.busy": "2022-11-18T21:24:47.632495Z",
     "iopub.status.idle": "2022-11-18T21:25:17.030439Z",
     "shell.execute_reply": "2022-11-18T21:25:17.029825Z",
     "shell.execute_reply.started": "2022-11-18T21:24:47.632691Z"
    },
    "tags": []
   },
   "outputs": [],
   "source": [
    "rf_model = rf_pipeline.fit(train_no_hol)"
   ]
  },
  {
   "cell_type": "code",
   "execution_count": 55,
   "id": "f6bc822c-9be2-4eed-8f72-badf056f982a",
   "metadata": {
    "execution": {
     "iopub.execute_input": "2022-11-18T21:25:24.790803Z",
     "iopub.status.busy": "2022-11-18T21:25:24.790573Z",
     "iopub.status.idle": "2022-11-18T21:25:28.072560Z",
     "shell.execute_reply": "2022-11-18T21:25:28.071788Z",
     "shell.execute_reply.started": "2022-11-18T21:25:24.790776Z"
    },
    "tags": []
   },
   "outputs": [
    {
     "data": {
      "application/vnd.jupyter.widget-view+json": {
       "model_id": "3e3846743dd34a62b5c869efdcda7ff6",
       "version_major": 2,
       "version_minor": 0
      },
      "text/plain": [
       "VBox()"
      ]
     },
     "metadata": {},
     "output_type": "display_data"
    },
    {
     "data": {
      "application/vnd.jupyter.widget-view+json": {
       "model_id": "",
       "version_major": 2,
       "version_minor": 0
      },
      "text/plain": [
       "FloatProgress(value=0.0, bar_style='info', description='Progress:', layout=Layout(height='25px', width='50%'),…"
      ]
     },
     "metadata": {},
     "output_type": "display_data"
    },
    {
     "name": "stderr",
     "output_type": "stream",
     "text": [
      "Exception in thread cell_monitor-55:\n",
      "Traceback (most recent call last):\n",
      "  File \"/mnt/notebook-env/lib/python3.7/threading.py\", line 926, in _bootstrap_inner\n",
      "    self.run()\n",
      "  File \"/mnt/notebook-env/lib/python3.7/threading.py\", line 870, in run\n",
      "    self._target(*self._args, **self._kwargs)\n",
      "  File \"/mnt/notebook-env/lib/python3.7/site-packages/awseditorssparkmonitoringwidget-1.0-py3.7.egg/awseditorssparkmonitoringwidget/cellmonitor.py\", line 154, in cell_monitor\n",
      "    job_group_filtered_jobs = [job for job in jobs_data if job['jobGroup'] == str(statement_id)]\n",
      "  File \"/mnt/notebook-env/lib/python3.7/site-packages/awseditorssparkmonitoringwidget-1.0-py3.7.egg/awseditorssparkmonitoringwidget/cellmonitor.py\", line 154, in <listcomp>\n",
      "    job_group_filtered_jobs = [job for job in jobs_data if job['jobGroup'] == str(statement_id)]\n",
      "KeyError: 'jobGroup'\n",
      "\n"
     ]
    },
    {
     "name": "stdout",
     "output_type": "stream",
     "text": [
      "+-------------------+\n",
      "|               mape|\n",
      "+-------------------+\n",
      "|0.13204314670773593|\n",
      "+-------------------+\n",
      "\n",
      "None"
     ]
    }
   ],
   "source": [
    "pred_rf_df = rf_model.transform(test_no_hol)\n",
    "pred_rf_df = calc_abs_pct_err(pred_rf_df)"
   ]
  },
  {
   "cell_type": "code",
   "execution_count": 56,
   "id": "390a1580-66b2-40e2-b8b3-3c0501576e65",
   "metadata": {
    "execution": {
     "iopub.execute_input": "2022-11-18T21:28:06.405045Z",
     "iopub.status.busy": "2022-11-18T21:28:06.404822Z",
     "iopub.status.idle": "2022-11-18T21:28:15.699439Z",
     "shell.execute_reply": "2022-11-18T21:28:15.698780Z",
     "shell.execute_reply.started": "2022-11-18T21:28:06.405020Z"
    }
   },
   "outputs": [
    {
     "data": {
      "application/vnd.jupyter.widget-view+json": {
       "model_id": "9a7b0970fe8c4fd89343e3a0ecb5f193",
       "version_major": 2,
       "version_minor": 0
      },
      "text/plain": [
       "VBox()"
      ]
     },
     "metadata": {},
     "output_type": "display_data"
    },
    {
     "data": {
      "application/vnd.jupyter.widget-view+json": {
       "model_id": "",
       "version_major": 2,
       "version_minor": 0
      },
      "text/plain": [
       "FloatProgress(value=0.0, bar_style='info', description='Progress:', layout=Layout(height='25px', width='50%'),…"
      ]
     },
     "metadata": {},
     "output_type": "display_data"
    },
    {
     "name": "stderr",
     "output_type": "stream",
     "text": [
      "Exception in thread cell_monitor-56:\n",
      "Traceback (most recent call last):\n",
      "  File \"/mnt/notebook-env/lib/python3.7/threading.py\", line 926, in _bootstrap_inner\n",
      "    self.run()\n",
      "  File \"/mnt/notebook-env/lib/python3.7/threading.py\", line 870, in run\n",
      "    self._target(*self._args, **self._kwargs)\n",
      "  File \"/mnt/notebook-env/lib/python3.7/site-packages/awseditorssparkmonitoringwidget-1.0-py3.7.egg/awseditorssparkmonitoringwidget/cellmonitor.py\", line 154, in cell_monitor\n",
      "    job_group_filtered_jobs = [job for job in jobs_data if job['jobGroup'] == str(statement_id)]\n",
      "  File \"/mnt/notebook-env/lib/python3.7/site-packages/awseditorssparkmonitoringwidget-1.0-py3.7.egg/awseditorssparkmonitoringwidget/cellmonitor.py\", line 154, in <listcomp>\n",
      "    job_group_filtered_jobs = [job for job in jobs_data if job['jobGroup'] == str(statement_id)]\n",
      "KeyError: 'jobGroup'\n",
      "\n"
     ]
    },
    {
     "name": "stdout",
     "output_type": "stream",
     "text": [
      "+-------+-------------------+\n",
      "| market|               mape|\n",
      "+-------+-------------------+\n",
      "|LHR-EWR|0.03872246779303075|\n",
      "|LHR-JFK|0.05642332716873052|\n",
      "|JFK-LHR|0.06878773573750313|\n",
      "|EWR-LHR| 0.0925381468617531|\n",
      "|LAX-EWR|0.09848388174706794|\n",
      "|LAX-JFK|0.10551663265418912|\n",
      "|JFK-LAX|0.10636445441698905|\n",
      "|LHR-LAX|0.10795168470952722|\n",
      "|ATL-EWR|0.12037048626742097|\n",
      "|EWR-CDG|0.12553206585929064|\n",
      "|LGA-MIA| 0.1843305877429315|\n",
      "|LAX-SFO|0.20743189117602162|\n",
      "|SFO-LAX|0.21310929811278898|\n",
      "|OAK-LAS| 0.5397299369846683|\n",
      "+-------+-------------------+"
     ]
    }
   ],
   "source": [
    "pred_rf_df.groupBy(\"market\").agg(F.mean(\"abs_pct_err\").alias(\"mape\")).orderBy(\"mape\").show()"
   ]
  },
  {
   "cell_type": "code",
   "execution_count": null,
   "id": "b0daecfb-2bb9-4d9c-985e-ab845ef61eeb",
   "metadata": {},
   "outputs": [],
   "source": [
    "# va = rf_model.stages[-2]\n",
    "# algo = rf_model.stages[-1]\n",
    "\n",
    "# feat_imps = list(zip(va.getInputCols(), algo.featureImportances))\n",
    "\n",
    "# file_name = 'rf-feat-impt'\n",
    "# xs = range(len(feat_imps))\n",
    "# plt.figure(figsize=(8,6))\n",
    "# plt.bar(xs, [x[1] for x in feat_imps])\n",
    "# plt.xticks(xs, [x[0] for x in feat_imps], rotation=90)\n",
    "# plt.ylabel(\"feature importance\")\n",
    "# plt.title(\"Random Forest Regression\")\n",
    "# plt.tight_layout()\n",
    "# plt.savefig(f\"/tmp/{file_name}.png\")"
   ]
  },
  {
   "cell_type": "markdown",
   "id": "5df32a1b-4dfd-4011-b8c4-c910fe001ee3",
   "metadata": {},
   "source": [
    "## feature selection"
   ]
  },
  {
   "cell_type": "code",
   "execution_count": 57,
   "id": "04b80079-9403-4588-b3af-4a26fdf5e395",
   "metadata": {
    "execution": {
     "iopub.execute_input": "2022-11-18T21:33:31.581660Z",
     "iopub.status.busy": "2022-11-18T21:33:31.581441Z",
     "iopub.status.idle": "2022-11-18T21:33:31.641305Z",
     "shell.execute_reply": "2022-11-18T21:33:31.635264Z",
     "shell.execute_reply.started": "2022-11-18T21:33:31.581636Z"
    }
   },
   "outputs": [
    {
     "data": {
      "application/vnd.jupyter.widget-view+json": {
       "model_id": "56db5b9fbc0d44aa939af5e794c6680e",
       "version_major": 2,
       "version_minor": 0
      },
      "text/plain": [
       "VBox()"
      ]
     },
     "metadata": {},
     "output_type": "display_data"
    },
    {
     "data": {
      "application/vnd.jupyter.widget-view+json": {
       "model_id": "",
       "version_major": 2,
       "version_minor": 0
      },
      "text/plain": [
       "FloatProgress(value=0.0, bar_style='info', description='Progress:', layout=Layout(height='25px', width='50%'),…"
      ]
     },
     "metadata": {},
     "output_type": "display_data"
    },
    {
     "name": "stdout",
     "output_type": "stream",
     "text": [
      "[('trailing_avg_fare', 0.3209345075359292), ('fr2_fare_prev_shop_day', 0.20100481104338677), ('fare_prev_shop_day', 0.16585044292420031), ('est_fare_from_next_dept_day', 0.08488915451793487), ('est_fare_from_prev_dept_day', 0.07502049700156743), ('fare_prev_dept_day', 0.04241239533988256), ('avg_fare_dtd', 0.03979723530861093), ('fare_next_dept_day', 0.030494199925413176), ('days_til_dept', 0.00811702169174535), ('trailing_avg_solution_counts', 0.006490518883809328), ('solution_counts_prev_shop_day', 0.005015096955370291), ('trailing_avg_shop_counts', 0.0045890973027149775), ('num_itin_prev_shop_day', 0.003851234028443653), ('shop_counts_prev_shop_day', 0.0035870646399046497), ('avg_out_avail_max_prev_shop_day', 0.002516591545239253), ('trailing_std_fare', 0.0021661553708295293), ('fr1_fr2_out_cxrs_overlap', 0.0012488322404018769), ('fr1_fr2_out_cxrs_same', 0.0010185833979618963), ('dept_dt_dow_int', 0.0009114447005432526), ('avg_out_avail_low_prev_shop_day', 5.1640211248415916e-05), ('is_holiday', 3.3475434862185555e-05)]"
     ]
    },
    {
     "name": "stderr",
     "output_type": "stream",
     "text": [
      "Exception in thread cell_monitor-57:\n",
      "Traceback (most recent call last):\n",
      "  File \"/mnt/notebook-env/lib/python3.7/threading.py\", line 926, in _bootstrap_inner\n",
      "    self.run()\n",
      "  File \"/mnt/notebook-env/lib/python3.7/threading.py\", line 870, in run\n",
      "    self._target(*self._args, **self._kwargs)\n",
      "  File \"/mnt/notebook-env/lib/python3.7/site-packages/awseditorssparkmonitoringwidget-1.0-py3.7.egg/awseditorssparkmonitoringwidget/cellmonitor.py\", line 154, in cell_monitor\n",
      "    job_group_filtered_jobs = [job for job in jobs_data if job['jobGroup'] == str(statement_id)]\n",
      "  File \"/mnt/notebook-env/lib/python3.7/site-packages/awseditorssparkmonitoringwidget-1.0-py3.7.egg/awseditorssparkmonitoringwidget/cellmonitor.py\", line 154, in <listcomp>\n",
      "    job_group_filtered_jobs = [job for job in jobs_data if job['jobGroup'] == str(statement_id)]\n",
      "KeyError: 'jobGroup'\n",
      "\n"
     ]
    }
   ],
   "source": [
    "feat_imps"
   ]
  },
  {
   "cell_type": "code",
   "execution_count": 58,
   "id": "a5a0ee9f-6783-4be8-9943-7296bfb31854",
   "metadata": {
    "execution": {
     "iopub.execute_input": "2022-11-18T21:34:27.463215Z",
     "iopub.status.busy": "2022-11-18T21:34:27.462988Z",
     "iopub.status.idle": "2022-11-18T21:34:27.529226Z",
     "shell.execute_reply": "2022-11-18T21:34:27.528580Z",
     "shell.execute_reply.started": "2022-11-18T21:34:27.463190Z"
    }
   },
   "outputs": [
    {
     "data": {
      "application/vnd.jupyter.widget-view+json": {
       "model_id": "a165b4eee2ab4885a49ba6dec9b05123",
       "version_major": 2,
       "version_minor": 0
      },
      "text/plain": [
       "VBox()"
      ]
     },
     "metadata": {},
     "output_type": "display_data"
    },
    {
     "data": {
      "application/vnd.jupyter.widget-view+json": {
       "model_id": "",
       "version_major": 2,
       "version_minor": 0
      },
      "text/plain": [
       "FloatProgress(value=0.0, bar_style='info', description='Progress:', layout=Layout(height='25px', width='50%'),…"
      ]
     },
     "metadata": {},
     "output_type": "display_data"
    },
    {
     "name": "stderr",
     "output_type": "stream",
     "text": [
      "Exception in thread cell_monitor-58:\n",
      "Traceback (most recent call last):\n",
      "  File \"/mnt/notebook-env/lib/python3.7/threading.py\", line 926, in _bootstrap_inner\n",
      "    self.run()\n",
      "  File \"/mnt/notebook-env/lib/python3.7/threading.py\", line 870, in run\n",
      "    self._target(*self._args, **self._kwargs)\n",
      "  File \"/mnt/notebook-env/lib/python3.7/site-packages/awseditorssparkmonitoringwidget-1.0-py3.7.egg/awseditorssparkmonitoringwidget/cellmonitor.py\", line 154, in cell_monitor\n",
      "    job_group_filtered_jobs = [job for job in jobs_data if job['jobGroup'] == str(statement_id)]\n",
      "  File \"/mnt/notebook-env/lib/python3.7/site-packages/awseditorssparkmonitoringwidget-1.0-py3.7.egg/awseditorssparkmonitoringwidget/cellmonitor.py\", line 154, in <listcomp>\n",
      "    job_group_filtered_jobs = [job for job in jobs_data if job['jobGroup'] == str(statement_id)]\n",
      "KeyError: 'jobGroup'\n",
      "\n"
     ]
    }
   ],
   "source": [
    "feat_impt_cutoff = 0.02\n",
    "top_feature_imps = [x for x in feat_imps if x[1] > feat_impt_cutoff]"
   ]
  },
  {
   "cell_type": "code",
   "execution_count": 59,
   "id": "7c8e68d1-3f98-47d9-80b1-e255b7eb042a",
   "metadata": {
    "execution": {
     "iopub.execute_input": "2022-11-18T21:34:35.975394Z",
     "iopub.status.busy": "2022-11-18T21:34:35.975158Z",
     "iopub.status.idle": "2022-11-18T21:34:36.037428Z",
     "shell.execute_reply": "2022-11-18T21:34:36.031264Z",
     "shell.execute_reply.started": "2022-11-18T21:34:35.975355Z"
    }
   },
   "outputs": [
    {
     "data": {
      "application/vnd.jupyter.widget-view+json": {
       "model_id": "f4f2a0a7023f4e428a1ed6124b6fb187",
       "version_major": 2,
       "version_minor": 0
      },
      "text/plain": [
       "VBox()"
      ]
     },
     "metadata": {},
     "output_type": "display_data"
    },
    {
     "data": {
      "application/vnd.jupyter.widget-view+json": {
       "model_id": "",
       "version_major": 2,
       "version_minor": 0
      },
      "text/plain": [
       "FloatProgress(value=0.0, bar_style='info', description='Progress:', layout=Layout(height='25px', width='50%'),…"
      ]
     },
     "metadata": {},
     "output_type": "display_data"
    },
    {
     "name": "stdout",
     "output_type": "stream",
     "text": [
      "('trailing_avg_fare', 0.3209345075359292)\n",
      "('fr2_fare_prev_shop_day', 0.20100481104338677)\n",
      "('fare_prev_shop_day', 0.16585044292420031)\n",
      "('est_fare_from_next_dept_day', 0.08488915451793487)\n",
      "('est_fare_from_prev_dept_day', 0.07502049700156743)\n",
      "('fare_prev_dept_day', 0.04241239533988256)\n",
      "('avg_fare_dtd', 0.03979723530861093)\n",
      "('fare_next_dept_day', 0.030494199925413176)"
     ]
    },
    {
     "name": "stderr",
     "output_type": "stream",
     "text": [
      "Exception in thread cell_monitor-59:\n",
      "Traceback (most recent call last):\n",
      "  File \"/mnt/notebook-env/lib/python3.7/threading.py\", line 926, in _bootstrap_inner\n",
      "    self.run()\n",
      "  File \"/mnt/notebook-env/lib/python3.7/threading.py\", line 870, in run\n",
      "    self._target(*self._args, **self._kwargs)\n",
      "  File \"/mnt/notebook-env/lib/python3.7/site-packages/awseditorssparkmonitoringwidget-1.0-py3.7.egg/awseditorssparkmonitoringwidget/cellmonitor.py\", line 154, in cell_monitor\n",
      "    job_group_filtered_jobs = [job for job in jobs_data if job['jobGroup'] == str(statement_id)]\n",
      "  File \"/mnt/notebook-env/lib/python3.7/site-packages/awseditorssparkmonitoringwidget-1.0-py3.7.egg/awseditorssparkmonitoringwidget/cellmonitor.py\", line 154, in <listcomp>\n",
      "    job_group_filtered_jobs = [job for job in jobs_data if job['jobGroup'] == str(statement_id)]\n",
      "KeyError: 'jobGroup'\n",
      "\n"
     ]
    }
   ],
   "source": [
    "for x in top_feature_imps:\n",
    "    print(x)"
   ]
  },
  {
   "cell_type": "markdown",
   "id": "ddb2f73b",
   "metadata": {},
   "source": [
    "Note: these are all likely to be similar / correlated, so worth trying PCA on them."
   ]
  },
  {
   "cell_type": "code",
   "execution_count": 60,
   "id": "f7c8ae5b-c79f-4d69-8c96-879f4954fbca",
   "metadata": {
    "execution": {
     "iopub.execute_input": "2022-11-18T21:36:01.772130Z",
     "iopub.status.busy": "2022-11-18T21:36:01.771893Z",
     "iopub.status.idle": "2022-11-18T21:36:01.828804Z",
     "shell.execute_reply": "2022-11-18T21:36:01.828247Z",
     "shell.execute_reply.started": "2022-11-18T21:36:01.772106Z"
    }
   },
   "outputs": [
    {
     "data": {
      "application/vnd.jupyter.widget-view+json": {
       "model_id": "48911f5fc08a465993f3699f16a88441",
       "version_major": 2,
       "version_minor": 0
      },
      "text/plain": [
       "VBox()"
      ]
     },
     "metadata": {},
     "output_type": "display_data"
    },
    {
     "data": {
      "application/vnd.jupyter.widget-view+json": {
       "model_id": "",
       "version_major": 2,
       "version_minor": 0
      },
      "text/plain": [
       "FloatProgress(value=0.0, bar_style='info', description='Progress:', layout=Layout(height='25px', width='50%'),…"
      ]
     },
     "metadata": {},
     "output_type": "display_data"
    },
    {
     "name": "stderr",
     "output_type": "stream",
     "text": [
      "Exception in thread cell_monitor-60:\n",
      "Traceback (most recent call last):\n",
      "  File \"/mnt/notebook-env/lib/python3.7/threading.py\", line 926, in _bootstrap_inner\n",
      "    self.run()\n",
      "  File \"/mnt/notebook-env/lib/python3.7/threading.py\", line 870, in run\n",
      "    self._target(*self._args, **self._kwargs)\n",
      "  File \"/mnt/notebook-env/lib/python3.7/site-packages/awseditorssparkmonitoringwidget-1.0-py3.7.egg/awseditorssparkmonitoringwidget/cellmonitor.py\", line 154, in cell_monitor\n",
      "    job_group_filtered_jobs = [job for job in jobs_data if job['jobGroup'] == str(statement_id)]\n",
      "  File \"/mnt/notebook-env/lib/python3.7/site-packages/awseditorssparkmonitoringwidget-1.0-py3.7.egg/awseditorssparkmonitoringwidget/cellmonitor.py\", line 154, in <listcomp>\n",
      "    job_group_filtered_jobs = [job for job in jobs_data if job['jobGroup'] == str(statement_id)]\n",
      "KeyError: 'jobGroup'\n",
      "\n"
     ]
    }
   ],
   "source": [
    "top_features = [x[0] for x in top_feature_imps]"
   ]
  },
  {
   "cell_type": "code",
   "execution_count": 61,
   "id": "b107619a-5a2e-4834-8d6d-2428cf43e5c1",
   "metadata": {
    "execution": {
     "iopub.execute_input": "2022-11-18T21:36:04.444839Z",
     "iopub.status.busy": "2022-11-18T21:36:04.444613Z",
     "iopub.status.idle": "2022-11-18T21:36:04.495560Z",
     "shell.execute_reply": "2022-11-18T21:36:04.493874Z",
     "shell.execute_reply.started": "2022-11-18T21:36:04.444814Z"
    }
   },
   "outputs": [
    {
     "data": {
      "application/vnd.jupyter.widget-view+json": {
       "model_id": "7ddbf9785c924c18afb175041d1c99dd",
       "version_major": 2,
       "version_minor": 0
      },
      "text/plain": [
       "VBox()"
      ]
     },
     "metadata": {},
     "output_type": "display_data"
    },
    {
     "data": {
      "application/vnd.jupyter.widget-view+json": {
       "model_id": "",
       "version_major": 2,
       "version_minor": 0
      },
      "text/plain": [
       "FloatProgress(value=0.0, bar_style='info', description='Progress:', layout=Layout(height='25px', width='50%'),…"
      ]
     },
     "metadata": {},
     "output_type": "display_data"
    },
    {
     "name": "stdout",
     "output_type": "stream",
     "text": [
      "['trailing_avg_fare', 'fr2_fare_prev_shop_day', 'fare_prev_shop_day', 'est_fare_from_next_dept_day', 'est_fare_from_prev_dept_day', 'fare_prev_dept_day', 'avg_fare_dtd', 'fare_next_dept_day']"
     ]
    },
    {
     "name": "stderr",
     "output_type": "stream",
     "text": [
      "Exception in thread cell_monitor-61:\n",
      "Traceback (most recent call last):\n",
      "  File \"/mnt/notebook-env/lib/python3.7/threading.py\", line 926, in _bootstrap_inner\n",
      "    self.run()\n",
      "  File \"/mnt/notebook-env/lib/python3.7/threading.py\", line 870, in run\n",
      "    self._target(*self._args, **self._kwargs)\n",
      "  File \"/mnt/notebook-env/lib/python3.7/site-packages/awseditorssparkmonitoringwidget-1.0-py3.7.egg/awseditorssparkmonitoringwidget/cellmonitor.py\", line 154, in cell_monitor\n",
      "    job_group_filtered_jobs = [job for job in jobs_data if job['jobGroup'] == str(statement_id)]\n",
      "  File \"/mnt/notebook-env/lib/python3.7/site-packages/awseditorssparkmonitoringwidget-1.0-py3.7.egg/awseditorssparkmonitoringwidget/cellmonitor.py\", line 154, in <listcomp>\n",
      "    job_group_filtered_jobs = [job for job in jobs_data if job['jobGroup'] == str(statement_id)]\n",
      "KeyError: 'jobGroup'\n",
      "\n"
     ]
    }
   ],
   "source": [
    "top_features"
   ]
  },
  {
   "cell_type": "code",
   "execution_count": 62,
   "id": "1199e773-f496-4f37-945e-31cb900116d8",
   "metadata": {
    "execution": {
     "iopub.execute_input": "2022-11-18T21:36:51.343436Z",
     "iopub.status.busy": "2022-11-18T21:36:51.343212Z",
     "iopub.status.idle": "2022-11-18T21:37:28.849431Z",
     "shell.execute_reply": "2022-11-18T21:37:28.848787Z",
     "shell.execute_reply.started": "2022-11-18T21:36:51.343412Z"
    }
   },
   "outputs": [
    {
     "data": {
      "application/vnd.jupyter.widget-view+json": {
       "model_id": "384161e2770444e5a21bad510ff10832",
       "version_major": 2,
       "version_minor": 0
      },
      "text/plain": [
       "VBox()"
      ]
     },
     "metadata": {},
     "output_type": "display_data"
    },
    {
     "data": {
      "application/vnd.jupyter.widget-view+json": {
       "model_id": "",
       "version_major": 2,
       "version_minor": 0
      },
      "text/plain": [
       "FloatProgress(value=0.0, bar_style='info', description='Progress:', layout=Layout(height='25px', width='50%'),…"
      ]
     },
     "metadata": {},
     "output_type": "display_data"
    },
    {
     "name": "stderr",
     "output_type": "stream",
     "text": [
      "Exception in thread cell_monitor-62:\n",
      "Traceback (most recent call last):\n",
      "  File \"/mnt/notebook-env/lib/python3.7/threading.py\", line 926, in _bootstrap_inner\n",
      "    self.run()\n",
      "  File \"/mnt/notebook-env/lib/python3.7/threading.py\", line 870, in run\n",
      "    self._target(*self._args, **self._kwargs)\n",
      "  File \"/mnt/notebook-env/lib/python3.7/site-packages/awseditorssparkmonitoringwidget-1.0-py3.7.egg/awseditorssparkmonitoringwidget/cellmonitor.py\", line 154, in cell_monitor\n",
      "    job_group_filtered_jobs = [job for job in jobs_data if job['jobGroup'] == str(statement_id)]\n",
      "  File \"/mnt/notebook-env/lib/python3.7/site-packages/awseditorssparkmonitoringwidget-1.0-py3.7.egg/awseditorssparkmonitoringwidget/cellmonitor.py\", line 154, in <listcomp>\n",
      "    job_group_filtered_jobs = [job for job in jobs_data if job['jobGroup'] == str(statement_id)]\n",
      "KeyError: 'jobGroup'\n",
      "\n"
     ]
    },
    {
     "name": "stdout",
     "output_type": "stream",
     "text": [
      "+-------------------+\n",
      "|               mape|\n",
      "+-------------------+\n",
      "|0.13534445598849199|\n",
      "+-------------------+\n",
      "\n",
      "None"
     ]
    }
   ],
   "source": [
    "top_feature_assembler = VectorAssembler(\n",
    "    inputCols=top_features,\n",
    "    outputCol='features'\n",
    ")\n",
    "\n",
    "rf_regression_model = RandomForestRegressor(\n",
    "    labelCol=\"fare\",\n",
    "    numTrees=100,\n",
    "    maxDepth=7,\n",
    ")\n",
    "\n",
    "rf_pipeline = Pipeline(stages=[\n",
    "    top_feature_assembler,\n",
    "    rf_regression_model\n",
    "])\n",
    "rf_model = rf_pipeline.fit(train_shuffled)\n",
    "pred_rf_df = rf_model.transform(test)\n",
    "pred_rf_df = calc_abs_pct_err(pred_rf_df)"
   ]
  },
  {
   "cell_type": "markdown",
   "id": "b0d45c06-49df-4329-90f3-5778bb715118",
   "metadata": {},
   "source": [
    "Dang. Actually a little worse"
   ]
  },
  {
   "cell_type": "markdown",
   "id": "de5b3b0e-c684-472f-ba18-270ec912f180",
   "metadata": {},
   "source": [
    "Could try re-tuning"
   ]
  },
  {
   "cell_type": "markdown",
   "id": "4982c586-acb2-4f51-ac64-b9e8d3212563",
   "metadata": {},
   "source": [
    "Check train pred's for overfitting?"
   ]
  },
  {
   "cell_type": "code",
   "execution_count": 63,
   "id": "a597584b-7f09-459b-8485-f72c788a2c05",
   "metadata": {
    "execution": {
     "iopub.execute_input": "2022-11-18T21:45:56.870311Z",
     "iopub.status.busy": "2022-11-18T21:45:56.870055Z",
     "iopub.status.idle": "2022-11-18T21:46:08.207271Z",
     "shell.execute_reply": "2022-11-18T21:46:08.206521Z",
     "shell.execute_reply.started": "2022-11-18T21:45:56.870260Z"
    }
   },
   "outputs": [
    {
     "data": {
      "application/vnd.jupyter.widget-view+json": {
       "model_id": "6ed330029a134ba6aaae5790baffc10f",
       "version_major": 2,
       "version_minor": 0
      },
      "text/plain": [
       "VBox()"
      ]
     },
     "metadata": {},
     "output_type": "display_data"
    },
    {
     "data": {
      "application/vnd.jupyter.widget-view+json": {
       "model_id": "",
       "version_major": 2,
       "version_minor": 0
      },
      "text/plain": [
       "FloatProgress(value=0.0, bar_style='info', description='Progress:', layout=Layout(height='25px', width='50%'),…"
      ]
     },
     "metadata": {},
     "output_type": "display_data"
    },
    {
     "name": "stderr",
     "output_type": "stream",
     "text": [
      "Exception in thread cell_monitor-63:\n",
      "Traceback (most recent call last):\n",
      "  File \"/mnt/notebook-env/lib/python3.7/threading.py\", line 926, in _bootstrap_inner\n",
      "    self.run()\n",
      "  File \"/mnt/notebook-env/lib/python3.7/threading.py\", line 870, in run\n",
      "    self._target(*self._args, **self._kwargs)\n",
      "  File \"/mnt/notebook-env/lib/python3.7/site-packages/awseditorssparkmonitoringwidget-1.0-py3.7.egg/awseditorssparkmonitoringwidget/cellmonitor.py\", line 154, in cell_monitor\n",
      "    job_group_filtered_jobs = [job for job in jobs_data if job['jobGroup'] == str(statement_id)]\n",
      "  File \"/mnt/notebook-env/lib/python3.7/site-packages/awseditorssparkmonitoringwidget-1.0-py3.7.egg/awseditorssparkmonitoringwidget/cellmonitor.py\", line 154, in <listcomp>\n",
      "    job_group_filtered_jobs = [job for job in jobs_data if job['jobGroup'] == str(statement_id)]\n",
      "KeyError: 'jobGroup'\n",
      "\n"
     ]
    },
    {
     "name": "stdout",
     "output_type": "stream",
     "text": [
      "+-------------------+\n",
      "|               mape|\n",
      "+-------------------+\n",
      "|0.13068924642212273|\n",
      "+-------------------+\n",
      "\n",
      "None"
     ]
    }
   ],
   "source": [
    "pred_train = rf_model.transform(train_shuffled)\n",
    "pred_train = calc_abs_pct_err(pred_train)"
   ]
  },
  {
   "cell_type": "code",
   "execution_count": null,
   "id": "ce639523-87e0-4451-9882-c4ed5166ba94",
   "metadata": {},
   "outputs": [],
   "source": []
  }
 ],
 "metadata": {
  "kernelspec": {
   "display_name": "spark-ml",
   "language": "python",
   "name": "spark-ml"
  },
  "language_info": {
   "codemirror_mode": {
    "name": "ipython",
    "version": 3
   },
   "file_extension": ".py",
   "mimetype": "text/x-python",
   "name": "python",
   "nbconvert_exporter": "python",
   "pygments_lexer": "ipython3",
   "version": "3.7.13"
  },
  "toc": {
   "base_numbering": 1,
   "nav_menu": {},
   "number_sections": true,
   "sideBar": true,
   "skip_h1_title": false,
   "title_cell": "Table of Contents",
   "title_sidebar": "Contents",
   "toc_cell": false,
   "toc_position": {
    "height": "calc(100% - 180px)",
    "left": "10px",
    "top": "150px",
    "width": "274.908px"
   },
   "toc_section_display": true,
   "toc_window_display": true
  },
  "varInspector": {
   "cols": {
    "lenName": 16,
    "lenType": 16,
    "lenVar": 40
   },
   "kernels_config": {
    "python": {
     "delete_cmd_postfix": "",
     "delete_cmd_prefix": "del ",
     "library": "var_list.py",
     "varRefreshCmd": "print(var_dic_list())"
    },
    "r": {
     "delete_cmd_postfix": ") ",
     "delete_cmd_prefix": "rm(",
     "library": "var_list.r",
     "varRefreshCmd": "cat(var_dic_list()) "
    }
   },
   "types_to_exclude": [
    "module",
    "function",
    "builtin_function_or_method",
    "instance",
    "_Feature"
   ],
   "window_display": false
  }
 },
 "nbformat": 4,
 "nbformat_minor": 5
}
