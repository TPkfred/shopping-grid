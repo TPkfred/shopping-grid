{
 "cells": [
  {
   "cell_type": "markdown",
   "id": "07016241-adf0-470a-ac92-f30273242336",
   "metadata": {},
   "source": [
    "TODO:\n",
    "- add holiday indicator"
   ]
  },
  {
   "cell_type": "code",
   "execution_count": 1,
   "id": "9c98d751-a9d7-4baf-8fde-139a0730fbc3",
   "metadata": {
    "execution": {
     "iopub.execute_input": "2022-11-18T20:08:01.176368Z",
     "iopub.status.busy": "2022-11-18T20:08:01.176109Z",
     "iopub.status.idle": "2022-11-18T20:08:24.024063Z",
     "shell.execute_reply": "2022-11-18T20:08:24.023305Z",
     "shell.execute_reply.started": "2022-11-18T20:08:01.176342Z"
    },
    "tags": []
   },
   "outputs": [
    {
     "data": {
      "application/vnd.jupyter.widget-view+json": {
       "model_id": "233281b0312348ae99b623fb2c213247",
       "version_major": 2,
       "version_minor": 0
      },
      "text/plain": [
       "VBox()"
      ]
     },
     "metadata": {},
     "output_type": "display_data"
    },
    {
     "name": "stdout",
     "output_type": "stream",
     "text": [
      "Starting Spark application\n"
     ]
    },
    {
     "data": {
      "text/html": [
       "<table>\n",
       "<tr><th>ID</th><th>YARN Application ID</th><th>Kind</th><th>State</th><th>Spark UI</th><th>Driver log</th><th>User</th><th>Current session?</th></tr><tr><td>3</td><td>application_1668799821812_0004</td><td>pyspark</td><td>idle</td><td></td><td></td><td>None</td><td>✔</td></tr></table>"
      ],
      "text/plain": [
       "<IPython.core.display.HTML object>"
      ]
     },
     "metadata": {},
     "output_type": "display_data"
    },
    {
     "data": {
      "application/vnd.jupyter.widget-view+json": {
       "model_id": "",
       "version_major": 2,
       "version_minor": 0
      },
      "text/plain": [
       "FloatProgress(value=0.0, bar_style='info', description='Progress:', layout=Layout(height='25px', width='50%'),…"
      ]
     },
     "metadata": {},
     "output_type": "display_data"
    },
    {
     "name": "stdout",
     "output_type": "stream",
     "text": [
      "SparkSession available as 'spark'.\n"
     ]
    },
    {
     "data": {
      "application/vnd.jupyter.widget-view+json": {
       "model_id": "",
       "version_major": 2,
       "version_minor": 0
      },
      "text/plain": [
       "FloatProgress(value=0.0, bar_style='info', description='Progress:', layout=Layout(height='25px', width='50%'),…"
      ]
     },
     "metadata": {},
     "output_type": "display_data"
    }
   ],
   "source": [
    "import datetime\n",
    "\n",
    "from pyspark.sql import SparkSession\n",
    "import pyspark.sql.functions as F\n",
    "import pyspark.sql.types as T\n",
    "from pyspark.sql.window import Window"
   ]
  },
  {
   "cell_type": "code",
   "execution_count": 2,
   "id": "665c63eb-97ae-4b70-8df2-eb379164cd5f",
   "metadata": {
    "execution": {
     "iopub.execute_input": "2022-11-18T20:08:24.025348Z",
     "iopub.status.busy": "2022-11-18T20:08:24.025151Z",
     "iopub.status.idle": "2022-11-18T20:08:33.379342Z",
     "shell.execute_reply": "2022-11-18T20:08:33.378562Z",
     "shell.execute_reply.started": "2022-11-18T20:08:24.025312Z"
    },
    "tags": []
   },
   "outputs": [
    {
     "data": {
      "application/vnd.jupyter.widget-view+json": {
       "model_id": "f635c815c1c944c08c9b8e053a8da219",
       "version_major": 2,
       "version_minor": 0
      },
      "text/plain": [
       "VBox()"
      ]
     },
     "metadata": {},
     "output_type": "display_data"
    },
    {
     "data": {
      "application/vnd.jupyter.widget-view+json": {
       "model_id": "",
       "version_major": 2,
       "version_minor": 0
      },
      "text/plain": [
       "FloatProgress(value=0.0, bar_style='info', description='Progress:', layout=Layout(height='25px', width='50%'),…"
      ]
     },
     "metadata": {},
     "output_type": "display_data"
    },
    {
     "name": "stdout",
     "output_type": "stream",
     "text": [
      "+-------+------------------+-----------------------+------------------+-----------------+----+---+-------------+--------+---------------+--------------------+-------------+------------+------------------+-------+------+----------+-----------------+-----------------+-----------------+-----------------+----------------+----------------+----------------+----------------+------+---------+-------------------------+---------------------+---------+\n",
      "| market|out_origin_airport|out_destination_airport|out_departure_date|in_departure_date| pcc|gds|point_of_sale|currency|out_origin_city|out_destination_city|out_num_stops|in_num_stops|constricted_search|out_cxr|in_cxr|round_trip|out_avail_all_009|out_avail_any_000|out_avail_any_001|out_avail_any_002|in_avail_all_009|in_avail_any_000|in_avail_any_001|in_avail_any_002|  fare|fare_rank|total_solution_counts_day|total_shop_counts_day|shop_date|\n",
      "+-------+------------------+-----------------------+------------------+-----------------+----+---+-------------+--------+---------------+--------------------+-------------+------------+------------------+-------+------+----------+-----------------+-----------------+-----------------+-----------------+----------------+----------------+----------------+----------------+------+---------+-------------------------+---------------------+---------+\n",
      "|ATL-EWR|               ATL|                    EWR|          20221212|         20221228|8K9E| 1G|           US|     USD|            ATL|                 NYC|            0|           1|              true|     UA|    UA|         1|             true|            false|            false|            false|            true|           false|           false|           false|235.19|        1|                     5954|                   16| 20221109|\n",
      "|ATL-EWR|               ATL|                    EWR|          20221212|         20221228|8K9E| 1G|           US|     USD|            ATL|                 NYC|            1|           1|              true|     UA|    UA|         1|             true|            false|            false|            false|            true|           false|           false|           false|244.19|        2|                     5954|                   16| 20221109|\n",
      "|ATL-EWR|               ATL|                    EWR|          20221212|         20221228|8K9E| 1G|           US|     USD|            ATL|                 NYC|            0|           0|              true|     UA|    UA|         1|             true|            false|            false|            false|            true|           false|           false|           false| 257.2|        3|                     5954|                   16| 20221109|\n",
      "|ATL-EWR|               ATL|                    EWR|          20221224|         20221226|15XT| 1G|           US|     USD|            ATL|                 NYC|            0|           0|             false|     NK|    NK|         1|            false|            false|            false|            false|           false|           false|           false|           false|253.18|        1|                     4502|                   38| 20221109|\n",
      "|ATL-EWR|               ATL|                    EWR|          20221224|         20221226| G3B| 1P|           US|     USD|            ATL|                 NYC|            0|           0|             false|     NK|    NK|         1|            false|            false|            false|            false|           false|           false|           false|           false|253.18|        1|                     4502|                   38| 20221109|\n",
      "+-------+------------------+-----------------------+------------------+-----------------+----+---+-------------+--------+---------------+--------------------+-------------+------------+------------------+-------+------+----------+-----------------+-----------------+-----------------+-----------------+----------------+----------------+----------------+----------------+------+---------+-------------------------+---------------------+---------+\n",
      "only showing top 5 rows"
     ]
    }
   ],
   "source": [
    "BASE_INPUT_DIR = \"s3://tvlp-ds-users/kendra-frederick/shopping-grid/agg-raw-data_poc_v2/*\"\n",
    "# df = spark.read.parquet(BASE_INPUT_DIR).filter(F.col(\"shop_date\") >= 20221025)\n",
    "df = spark.read.parquet(BASE_INPUT_DIR)\n",
    "df.show(5)"
   ]
  },
  {
   "cell_type": "markdown",
   "id": "ca2c784a-4061-4157-9cb8-642754793155",
   "metadata": {},
   "source": [
    "## add basic features, filter"
   ]
  },
  {
   "cell_type": "code",
   "execution_count": 3,
   "id": "1b7cefb2-a9f6-4920-abd0-734152346d06",
   "metadata": {
    "execution": {
     "iopub.execute_input": "2022-11-18T20:08:36.037197Z",
     "iopub.status.busy": "2022-11-18T20:08:36.036974Z",
     "iopub.status.idle": "2022-11-18T20:08:36.105001Z",
     "shell.execute_reply": "2022-11-18T20:08:36.104437Z",
     "shell.execute_reply.started": "2022-11-18T20:08:36.037172Z"
    },
    "tags": []
   },
   "outputs": [
    {
     "data": {
      "application/vnd.jupyter.widget-view+json": {
       "model_id": "93e0fe5b365c4ed8959677f1e3b668a9",
       "version_major": 2,
       "version_minor": 0
      },
      "text/plain": [
       "VBox()"
      ]
     },
     "metadata": {},
     "output_type": "display_data"
    },
    {
     "data": {
      "application/vnd.jupyter.widget-view+json": {
       "model_id": "",
       "version_major": 2,
       "version_minor": 0
      },
      "text/plain": [
       "FloatProgress(value=0.0, bar_style='info', description='Progress:', layout=Layout(height='25px', width='50%'),…"
      ]
     },
     "metadata": {},
     "output_type": "display_data"
    }
   ],
   "source": [
    "def convert_dates(df, ow=False):\n",
    "    df.registerTempTable(\"data\")\n",
    "    df = spark.sql(\"\"\"\n",
    "        SELECT *,\n",
    "            TO_DATE(CAST(UNIX_TIMESTAMP(CAST(out_departure_date AS string), 'yyyyMMdd') AS TIMESTAMP)) AS outDeptDt_dt,\n",
    "            TO_DATE(CAST(UNIX_TIMESTAMP(CAST(shop_date AS string), 'yyyyMMdd') AS TIMESTAMP)) AS shopDate_dt\n",
    "        FROM data\n",
    "    \"\"\")\n",
    "    if not ow:\n",
    "        df = spark.sql(\"\"\"\n",
    "            SELECT *,\n",
    "                TO_DATE(CAST(UNIX_TIMESTAMP(CAST(in_departure_date AS string), 'yyyyMMdd') AS TIMESTAMP)) AS inDeptDt_dt,\n",
    "            FROM data\n",
    "        \"\"\")\n",
    "    return df\n",
    "\n",
    "\n",
    "def add_date_features(df, ow=False):\n",
    "    df_mod = df.withColumn('days_til_dept', F.datediff(\n",
    "                        F.col('outDeptDt_dt'), F.col('shopDate_dt'))\n",
    "                    )\n",
    "    if not ow:\n",
    "        df_mod = df_mod.withColumn('stay_duration', F.datediff(\n",
    "                        F.col('inDeptDt_dt'), F.col('outDeptDt_dt'))\n",
    "                   )\n",
    "    return df_mod\n",
    "\n",
    "\n",
    "def add_dow_ind(df, ow=False):\n",
    "    ## add in DOW indicators\n",
    "    df_mod = (df\n",
    "        .withColumn(\"dept_dt_dow_int\", (F.date_format(\"outDeptDt_dt\", \"u\") - 1).cast(T.IntegerType()))\n",
    "        .withColumn(\"dept_dt_dow\", F.date_format(\"outDeptDt_dt\", \"E\"))\n",
    "    )\n",
    "    if not ow:\n",
    "        df_mod = (df_mod\n",
    "        .withColumn(\"ret_dt_dow_int\", (F.date_format(\"inDeptDt_dt\", \"u\") - 1).cast(T.IntegerType()))\n",
    "        .withColumn(\"ret_dt_dow\", F.date_format(\"inDeptDt_dt\", \"E\"))\n",
    "        )\n",
    "    return df_mod\n",
    "\n",
    "\n",
    "AIRPORT_LOOKUP_PATH = \"s3://tvlp-ds-users/kendra-frederick/reference-data/AIRPORT.CSV\"\n",
    "def filter_pos(df, pos, currency):\n",
    "    airport_df = spark.read.option(\"header\", \"true\").csv(AIRPORT_LOOKUP_PATH)\n",
    "\n",
    "    \"\"\"Filters on pos and currency, and also O & D in pos country.\n",
    "    \n",
    "    Also enriches data with O & D city.\n",
    "    \"\"\"\n",
    "    pos_df = df.filter(\n",
    "        (F.col(\"point_of_sale\") == pos) & (F.col(\"currency\") == currency)\n",
    "    )\n",
    "\n",
    "    # filter on org or dest in country of POS\n",
    "    pos_df = (pos_df\n",
    "                .join(\n",
    "                    airport_df.select('airport_code', 'country_code'),\n",
    "                    on=[pos_df['out_origin_airport'] == airport_df['airport_code']])\n",
    "                .withColumnRenamed(\"country_code\", \"origin_country\")\n",
    "                .drop(\"airport_code\")\n",
    "            )\n",
    "    pos_df = (pos_df\n",
    "                .join(\n",
    "                    airport_df.select('airport_code', 'country_code'),\n",
    "                    on=[pos_df['out_destination_airport'] == airport_df['airport_code']])\n",
    "                .withColumnRenamed(\"country_code\", \"destination_country\")\n",
    "                .drop(\"airport_code\")\n",
    "            )\n",
    "\n",
    "    pos_df = pos_df.filter(\n",
    "        (F.col('origin_country') == pos) | (F.col(\"destination_country\") == pos)\n",
    "    )\n",
    "    return pos_df\n",
    "\n",
    "# new in version e\n",
    "def filter_dtd(df, dtd_cutoff):\n",
    "    df_filt = df.filter(F.col(\"days_til_dept\") > dtd_cutoff)\n",
    "    return df_filt"
   ]
  },
  {
   "cell_type": "markdown",
   "id": "4947287f-81e7-46e5-ad87-772a8d100c68",
   "metadata": {},
   "source": [
    "new in version f:"
   ]
  },
  {
   "cell_type": "code",
   "execution_count": 4,
   "id": "d9d9d270-be60-42bf-a751-9f5ece75e00c",
   "metadata": {
    "execution": {
     "iopub.execute_input": "2022-11-18T20:08:37.489361Z",
     "iopub.status.busy": "2022-11-18T20:08:37.489115Z",
     "iopub.status.idle": "2022-11-18T20:08:37.565904Z",
     "shell.execute_reply": "2022-11-18T20:08:37.565204Z",
     "shell.execute_reply.started": "2022-11-18T20:08:37.489335Z"
    },
    "tags": []
   },
   "outputs": [
    {
     "data": {
      "application/vnd.jupyter.widget-view+json": {
       "model_id": "7713a62785d84013beaf4f050ec3e84c",
       "version_major": 2,
       "version_minor": 0
      },
      "text/plain": [
       "VBox()"
      ]
     },
     "metadata": {},
     "output_type": "display_data"
    },
    {
     "data": {
      "application/vnd.jupyter.widget-view+json": {
       "model_id": "",
       "version_major": 2,
       "version_minor": 0
      },
      "text/plain": [
       "FloatProgress(value=0.0, bar_style='info', description='Progress:', layout=Layout(height='25px', width='50%'),…"
      ]
     },
     "metadata": {},
     "output_type": "display_data"
    }
   ],
   "source": [
    "def get_date_range(date_start, date_stop):\n",
    "    \"\"\"Return a list of dates between `date_start` and `date_stop`, inclusive.\"\"\"\n",
    "    num_days = (date_stop - date_start).days\n",
    "    date_list = [date_start + datetime.timedelta(days=x) for x in range(num_days + 1)]\n",
    "    return date_list"
   ]
  },
  {
   "cell_type": "code",
   "execution_count": 5,
   "id": "172fa309-5bfb-463a-bfde-b0d7da720c5c",
   "metadata": {
    "execution": {
     "iopub.execute_input": "2022-11-18T20:08:38.046801Z",
     "iopub.status.busy": "2022-11-18T20:08:38.046583Z",
     "iopub.status.idle": "2022-11-18T20:08:38.105080Z",
     "shell.execute_reply": "2022-11-18T20:08:38.104526Z",
     "shell.execute_reply.started": "2022-11-18T20:08:38.046777Z"
    },
    "tags": []
   },
   "outputs": [
    {
     "data": {
      "application/vnd.jupyter.widget-view+json": {
       "model_id": "4832c88bcac641328b601d05271f0f57",
       "version_major": 2,
       "version_minor": 0
      },
      "text/plain": [
       "VBox()"
      ]
     },
     "metadata": {},
     "output_type": "display_data"
    },
    {
     "data": {
      "application/vnd.jupyter.widget-view+json": {
       "model_id": "",
       "version_major": 2,
       "version_minor": 0
      },
      "text/plain": [
       "FloatProgress(value=0.0, bar_style='info', description='Progress:', layout=Layout(height='25px', width='50%'),…"
      ]
     },
     "metadata": {},
     "output_type": "display_data"
    }
   ],
   "source": [
    "TDAY_HOL = get_date_range(datetime.date(2022,11,23), datetime.date(2022,11,27))\n",
    "XMAS_HOL = get_date_range(datetime.date(2022,12,16), datetime.date(2023,1,2))\n",
    "HOLIDAYS = TDAY_HOL + XMAS_HOL"
   ]
  },
  {
   "cell_type": "code",
   "execution_count": 6,
   "id": "fa2a88f1-7dc6-4565-a820-98845e8cfe75",
   "metadata": {
    "execution": {
     "iopub.execute_input": "2022-11-18T20:08:38.774103Z",
     "iopub.status.busy": "2022-11-18T20:08:38.773861Z",
     "iopub.status.idle": "2022-11-18T20:08:38.836577Z",
     "shell.execute_reply": "2022-11-18T20:08:38.835802Z",
     "shell.execute_reply.started": "2022-11-18T20:08:38.774077Z"
    },
    "tags": []
   },
   "outputs": [
    {
     "data": {
      "application/vnd.jupyter.widget-view+json": {
       "model_id": "14cd870569524943a7fd1b41c0a5ce91",
       "version_major": 2,
       "version_minor": 0
      },
      "text/plain": [
       "VBox()"
      ]
     },
     "metadata": {},
     "output_type": "display_data"
    },
    {
     "data": {
      "application/vnd.jupyter.widget-view+json": {
       "model_id": "",
       "version_major": 2,
       "version_minor": 0
      },
      "text/plain": [
       "FloatProgress(value=0.0, bar_style='info', description='Progress:', layout=Layout(height='25px', width='50%'),…"
      ]
     },
     "metadata": {},
     "output_type": "display_data"
    },
    {
     "name": "stdout",
     "output_type": "stream",
     "text": [
      "[datetime.date(2022, 11, 23), datetime.date(2022, 11, 24), datetime.date(2022, 11, 25), datetime.date(2022, 11, 26), datetime.date(2022, 11, 27), datetime.date(2022, 12, 16), datetime.date(2022, 12, 17), datetime.date(2022, 12, 18), datetime.date(2022, 12, 19), datetime.date(2022, 12, 20), datetime.date(2022, 12, 21), datetime.date(2022, 12, 22), datetime.date(2022, 12, 23), datetime.date(2022, 12, 24), datetime.date(2022, 12, 25), datetime.date(2022, 12, 26), datetime.date(2022, 12, 27), datetime.date(2022, 12, 28), datetime.date(2022, 12, 29), datetime.date(2022, 12, 30), datetime.date(2022, 12, 31), datetime.date(2023, 1, 1), datetime.date(2023, 1, 2)]"
     ]
    }
   ],
   "source": [
    "HOLIDAYS"
   ]
  },
  {
   "cell_type": "code",
   "execution_count": 7,
   "id": "3c0d6d29-1d86-45ae-81bd-0735c0a9207f",
   "metadata": {
    "execution": {
     "iopub.execute_input": "2022-11-18T20:08:41.345539Z",
     "iopub.status.busy": "2022-11-18T20:08:41.345321Z",
     "iopub.status.idle": "2022-11-18T20:08:41.398177Z",
     "shell.execute_reply": "2022-11-18T20:08:41.397614Z",
     "shell.execute_reply.started": "2022-11-18T20:08:41.345515Z"
    },
    "tags": []
   },
   "outputs": [
    {
     "data": {
      "application/vnd.jupyter.widget-view+json": {
       "model_id": "2946d2da69874c7f86f6f023a652ba4d",
       "version_major": 2,
       "version_minor": 0
      },
      "text/plain": [
       "VBox()"
      ]
     },
     "metadata": {},
     "output_type": "display_data"
    },
    {
     "data": {
      "application/vnd.jupyter.widget-view+json": {
       "model_id": "",
       "version_major": 2,
       "version_minor": 0
      },
      "text/plain": [
       "FloatProgress(value=0.0, bar_style='info', description='Progress:', layout=Layout(height='25px', width='50%'),…"
      ]
     },
     "metadata": {},
     "output_type": "display_data"
    }
   ],
   "source": [
    "# new in version f\n",
    "def add_holiday_ind(df):\n",
    "    df_mod = df.withColumn(\"is_holiday\", F.when(F.col(\"outDeptDt_dt\").isin(HOLIDAYS), 1).otherwise(0))\n",
    "    return df_mod"
   ]
  },
  {
   "cell_type": "code",
   "execution_count": 8,
   "id": "d15e17b0-8e7d-4d97-9a8f-f43c351620ea",
   "metadata": {
    "execution": {
     "iopub.execute_input": "2022-11-18T20:08:43.113532Z",
     "iopub.status.busy": "2022-11-18T20:08:43.113296Z",
     "iopub.status.idle": "2022-11-18T20:08:50.440694Z",
     "shell.execute_reply": "2022-11-18T20:08:50.439962Z",
     "shell.execute_reply.started": "2022-11-18T20:08:43.113504Z"
    },
    "tags": []
   },
   "outputs": [
    {
     "data": {
      "application/vnd.jupyter.widget-view+json": {
       "model_id": "aa20d8f0875c41299e9cf95ba01ca777",
       "version_major": 2,
       "version_minor": 0
      },
      "text/plain": [
       "VBox()"
      ]
     },
     "metadata": {},
     "output_type": "display_data"
    },
    {
     "data": {
      "application/vnd.jupyter.widget-view+json": {
       "model_id": "",
       "version_major": 2,
       "version_minor": 0
      },
      "text/plain": [
       "FloatProgress(value=0.0, bar_style='info', description='Progress:', layout=Layout(height='25px', width='50%'),…"
      ]
     },
     "metadata": {},
     "output_type": "display_data"
    }
   ],
   "source": [
    "# Note: previous POS + currency filter plus limited markets must essentially do geo-filtering for us. But keep here for best practice\n",
    "df_pos_filt = filter_pos(df, 'US', 'USD')\n",
    "\n",
    "df_with_day_feats = convert_dates(df_pos_filt, ow=True)\n",
    "df_with_day_feats = add_date_features(df_with_day_feats, ow=True)\n",
    "\n",
    "df_with_hol = add_holiday_ind(df_with_day_feats)"
   ]
  },
  {
   "cell_type": "code",
   "execution_count": 9,
   "id": "7efb30ca-0cd8-484d-89a5-bd1a6ffd825a",
   "metadata": {
    "execution": {
     "iopub.execute_input": "2022-11-18T20:08:51.446043Z",
     "iopub.status.busy": "2022-11-18T20:08:51.445824Z",
     "iopub.status.idle": "2022-11-18T20:08:53.748855Z",
     "shell.execute_reply": "2022-11-18T20:08:53.748200Z",
     "shell.execute_reply.started": "2022-11-18T20:08:51.446018Z"
    },
    "tags": []
   },
   "outputs": [
    {
     "data": {
      "application/vnd.jupyter.widget-view+json": {
       "model_id": "0f64f9308c6943dfac103f9138a4838e",
       "version_major": 2,
       "version_minor": 0
      },
      "text/plain": [
       "VBox()"
      ]
     },
     "metadata": {},
     "output_type": "display_data"
    },
    {
     "data": {
      "application/vnd.jupyter.widget-view+json": {
       "model_id": "",
       "version_major": 2,
       "version_minor": 0
      },
      "text/plain": [
       "FloatProgress(value=0.0, bar_style='info', description='Progress:', layout=Layout(height='25px', width='50%'),…"
      ]
     },
     "metadata": {},
     "output_type": "display_data"
    },
    {
     "name": "stdout",
     "output_type": "stream",
     "text": [
      "+------------------+----------+\n",
      "|out_departure_date|is_holiday|\n",
      "+------------------+----------+\n",
      "|          20221224|         1|\n",
      "|          20221224|         1|\n",
      "|          20221224|         1|\n",
      "|          20221224|         1|\n",
      "|          20221224|         1|\n",
      "|          20221224|         1|\n",
      "|          20230103|         0|\n",
      "|          20230103|         0|\n",
      "|          20230103|         0|\n",
      "|          20230103|         0|\n",
      "|          20230103|         0|\n",
      "|          20230103|         0|\n",
      "|          20230103|         0|\n",
      "|          20230103|         0|\n",
      "|          20230103|         0|\n",
      "|          20230103|         0|\n",
      "|          20230103|         0|\n",
      "|          20230103|         0|\n",
      "|          20230103|         0|\n",
      "|          20230103|         0|\n",
      "+------------------+----------+\n",
      "only showing top 20 rows"
     ]
    }
   ],
   "source": [
    "(df_with_hol\n",
    " .filter(F.col(\"outDeptDt_dt\").between(datetime.date(2022,12,20), datetime.date(2023,1,3)))\n",
    " .select(\"out_departure_date\", \"is_holiday\")\n",
    " .show()\n",
    ")"
   ]
  },
  {
   "cell_type": "code",
   "execution_count": 10,
   "id": "bb1a3aee-f131-43c3-87e0-ea5a623e996c",
   "metadata": {
    "execution": {
     "iopub.execute_input": "2022-11-18T20:08:56.508236Z",
     "iopub.status.busy": "2022-11-18T20:08:56.507994Z",
     "iopub.status.idle": "2022-11-18T20:08:56.764155Z",
     "shell.execute_reply": "2022-11-18T20:08:56.763548Z",
     "shell.execute_reply.started": "2022-11-18T20:08:56.508198Z"
    },
    "tags": []
   },
   "outputs": [
    {
     "data": {
      "application/vnd.jupyter.widget-view+json": {
       "model_id": "3f1b2e21c1424e74a053f93323f0eea7",
       "version_major": 2,
       "version_minor": 0
      },
      "text/plain": [
       "VBox()"
      ]
     },
     "metadata": {},
     "output_type": "display_data"
    },
    {
     "data": {
      "application/vnd.jupyter.widget-view+json": {
       "model_id": "",
       "version_major": 2,
       "version_minor": 0
      },
      "text/plain": [
       "FloatProgress(value=0.0, bar_style='info', description='Progress:', layout=Layout(height='25px', width='50%'),…"
      ]
     },
     "metadata": {},
     "output_type": "display_data"
    }
   ],
   "source": [
    "df_dtd_filt = filter_dtd(df_with_hol, 3)"
   ]
  },
  {
   "cell_type": "code",
   "execution_count": 19,
   "id": "ca42cfde-510e-41cc-8123-7edbc76c8970",
   "metadata": {
    "execution": {
     "iopub.execute_input": "2022-11-18T19:53:30.229398Z",
     "iopub.status.busy": "2022-11-18T19:53:30.229164Z",
     "iopub.status.idle": "2022-11-18T19:53:45.589580Z",
     "shell.execute_reply": "2022-11-18T19:53:45.588945Z",
     "shell.execute_reply.started": "2022-11-18T19:53:30.229372Z"
    },
    "tags": []
   },
   "outputs": [
    {
     "data": {
      "application/vnd.jupyter.widget-view+json": {
       "model_id": "c40f4028ad9c4d13816d16fcee259702",
       "version_major": 2,
       "version_minor": 0
      },
      "text/plain": [
       "VBox()"
      ]
     },
     "metadata": {},
     "output_type": "display_data"
    },
    {
     "data": {
      "application/vnd.jupyter.widget-view+json": {
       "model_id": "",
       "version_major": 2,
       "version_minor": 0
      },
      "text/plain": [
       "FloatProgress(value=0.0, bar_style='info', description='Progress:', layout=Layout(height='25px', width='50%'),…"
      ]
     },
     "metadata": {},
     "output_type": "display_data"
    },
    {
     "name": "stdout",
     "output_type": "stream",
     "text": [
      "(14546219, 14546219, 14071936)"
     ]
    }
   ],
   "source": [
    "df.count(), df_pos_filt.count(), df_dtd_filt.count()"
   ]
  },
  {
   "cell_type": "code",
   "execution_count": 11,
   "id": "b9d4b9e4-3d16-48ef-8e58-42724d207b49",
   "metadata": {
    "execution": {
     "iopub.execute_input": "2022-11-18T20:08:57.864963Z",
     "iopub.status.busy": "2022-11-18T20:08:57.864615Z",
     "iopub.status.idle": "2022-11-18T20:08:57.977765Z",
     "shell.execute_reply": "2022-11-18T20:08:57.977051Z",
     "shell.execute_reply.started": "2022-11-18T20:08:57.864924Z"
    }
   },
   "outputs": [
    {
     "data": {
      "application/vnd.jupyter.widget-view+json": {
       "model_id": "c463ca6cca584205ae05fb1164f7057c",
       "version_major": 2,
       "version_minor": 0
      },
      "text/plain": [
       "VBox()"
      ]
     },
     "metadata": {},
     "output_type": "display_data"
    },
    {
     "data": {
      "application/vnd.jupyter.widget-view+json": {
       "model_id": "",
       "version_major": 2,
       "version_minor": 0
      },
      "text/plain": [
       "FloatProgress(value=0.0, bar_style='info', description='Progress:', layout=Layout(height='25px', width='50%'),…"
      ]
     },
     "metadata": {},
     "output_type": "display_data"
    },
    {
     "name": "stdout",
     "output_type": "stream",
     "text": [
      "['market', 'out_origin_airport', 'out_destination_airport', 'out_departure_date', 'in_departure_date', 'pcc', 'gds', 'point_of_sale', 'currency', 'out_origin_city', 'out_destination_city', 'out_num_stops', 'in_num_stops', 'constricted_search', 'out_cxr', 'in_cxr', 'round_trip', 'out_avail_all_009', 'out_avail_any_000', 'out_avail_any_001', 'out_avail_any_002', 'in_avail_all_009', 'in_avail_any_000', 'in_avail_any_001', 'in_avail_any_002', 'fare', 'fare_rank', 'total_solution_counts_day', 'total_shop_counts_day', 'shop_date', 'origin_country', 'destination_country', 'outDeptDt_dt', 'shopDate_dt', 'days_til_dept', 'is_holiday']"
     ]
    }
   ],
   "source": [
    "df_dtd_filt.columns"
   ]
  },
  {
   "cell_type": "markdown",
   "id": "771f33cc-b9ac-4ec5-afe5-e6cc10f45c77",
   "metadata": {},
   "source": [
    "# train-test split"
   ]
  },
  {
   "cell_type": "markdown",
   "id": "d54e7aa6-4ed9-4d03-9282-dde773daf483",
   "metadata": {},
   "source": [
    "Spark's `TrainValidationSplit` is built to be used alongside a model. Which we aren't doing here / yet. So maybe this should be done in Pandas afterall?"
   ]
  },
  {
   "cell_type": "markdown",
   "id": "2c605cf4-979b-430a-9860-c9d11d5e0052",
   "metadata": {},
   "source": [
    "Question: do we want to split now, on all data (includes multiple entries per shop day + market + travel dates), or by combo of  shop day + market + travel dates? Hmmm / gah. Probably the latter?"
   ]
  },
  {
   "cell_type": "code",
   "execution_count": null,
   "id": "73752e79-61a4-4ef1-9acc-e25ef698dbf8",
   "metadata": {},
   "outputs": [],
   "source": [
    "# train, test = df_mod.randomSplit([0.9, 0.1], seed=19)\n",
    "\n",
    "# train.count(), test.count()\n",
    "\n",
    "# train.groupBy('round_trip').count().show()\n",
    "\n",
    "# 952593 / (952593 + 6957040)\n",
    "\n",
    "# test.groupBy('round_trip').count().show()\n",
    "\n",
    "# 106146 / (106146 + 773118)"
   ]
  },
  {
   "cell_type": "markdown",
   "id": "7eded366-c8fb-4aa4-8de7-1d1dbc5a677b",
   "metadata": {},
   "source": [
    "## focus on one-ways for now"
   ]
  },
  {
   "cell_type": "code",
   "execution_count": 12,
   "id": "9456e8c4-73eb-4f15-97b9-928108b5726d",
   "metadata": {
    "execution": {
     "iopub.execute_input": "2022-11-18T20:09:05.916758Z",
     "iopub.status.busy": "2022-11-18T20:09:05.916538Z",
     "iopub.status.idle": "2022-11-18T20:09:06.706521Z",
     "shell.execute_reply": "2022-11-18T20:09:06.705871Z",
     "shell.execute_reply.started": "2022-11-18T20:09:05.916733Z"
    },
    "tags": []
   },
   "outputs": [
    {
     "data": {
      "application/vnd.jupyter.widget-view+json": {
       "model_id": "28f4c040fa994b61ae108938498d5d53",
       "version_major": 2,
       "version_minor": 0
      },
      "text/plain": [
       "VBox()"
      ]
     },
     "metadata": {},
     "output_type": "display_data"
    },
    {
     "data": {
      "application/vnd.jupyter.widget-view+json": {
       "model_id": "",
       "version_major": 2,
       "version_minor": 0
      },
      "text/plain": [
       "FloatProgress(value=0.0, bar_style='info', description='Progress:', layout=Layout(height='25px', width='50%'),…"
      ]
     },
     "metadata": {},
     "output_type": "display_data"
    }
   ],
   "source": [
    "# df_ow = train.filter(F.col(\"round_trip\") == 0)\n",
    "df_ow = df_dtd_filt.filter(F.col(\"round_trip\") == 0).cache()"
   ]
  },
  {
   "cell_type": "markdown",
   "id": "9a0d4f65-a99a-485e-9723-98f90e6a7690",
   "metadata": {},
   "source": [
    "# collapse to one entry per shop day + market + travel dates"
   ]
  },
  {
   "cell_type": "code",
   "execution_count": 13,
   "id": "38494e14-16dc-45d3-a09d-18d8215f2fe1",
   "metadata": {
    "execution": {
     "iopub.execute_input": "2022-11-18T20:09:07.862496Z",
     "iopub.status.busy": "2022-11-18T20:09:07.862206Z",
     "iopub.status.idle": "2022-11-18T20:09:07.940576Z",
     "shell.execute_reply": "2022-11-18T20:09:07.939861Z",
     "shell.execute_reply.started": "2022-11-18T20:09:07.862467Z"
    },
    "tags": []
   },
   "outputs": [
    {
     "data": {
      "application/vnd.jupyter.widget-view+json": {
       "model_id": "27c38680d9494cefb6a554be804ccf94",
       "version_major": 2,
       "version_minor": 0
      },
      "text/plain": [
       "VBox()"
      ]
     },
     "metadata": {},
     "output_type": "display_data"
    },
    {
     "data": {
      "application/vnd.jupyter.widget-view+json": {
       "model_id": "",
       "version_major": 2,
       "version_minor": 0
      },
      "text/plain": [
       "FloatProgress(value=0.0, bar_style='info', description='Progress:', layout=Layout(height='25px', width='50%'),…"
      ]
     },
     "metadata": {},
     "output_type": "display_data"
    }
   ],
   "source": [
    "# rename things to be less verbose\n",
    "df_ow = (df_ow\n",
    "         .withColumnRenamed(\"total_shop_counts_day\", \"shop_counts\")\n",
    "         .withColumnRenamed(\"total_solution_counts_day\", \"solution_counts\")\n",
    "        )"
   ]
  },
  {
   "cell_type": "code",
   "execution_count": 15,
   "id": "9e9e5884-1fca-49ae-bfef-89ead012deb5",
   "metadata": {
    "execution": {
     "iopub.execute_input": "2022-11-18T20:10:12.216077Z",
     "iopub.status.busy": "2022-11-18T20:10:12.215833Z",
     "iopub.status.idle": "2022-11-18T20:10:12.287957Z",
     "shell.execute_reply": "2022-11-18T20:10:12.287249Z",
     "shell.execute_reply.started": "2022-11-18T20:10:12.216050Z"
    },
    "tags": []
   },
   "outputs": [
    {
     "data": {
      "application/vnd.jupyter.widget-view+json": {
       "model_id": "d539bb0d0d184bd6803fedd880bd988a",
       "version_major": 2,
       "version_minor": 0
      },
      "text/plain": [
       "VBox()"
      ]
     },
     "metadata": {},
     "output_type": "display_data"
    },
    {
     "data": {
      "application/vnd.jupyter.widget-view+json": {
       "model_id": "",
       "version_major": 2,
       "version_minor": 0
      },
      "text/plain": [
       "FloatProgress(value=0.0, bar_style='info', description='Progress:', layout=Layout(height='25px', width='50%'),…"
      ]
     },
     "metadata": {},
     "output_type": "display_data"
    }
   ],
   "source": [
    "# =============================\n",
    "# FEATURE ENGINEERING\n",
    "# =============================\n",
    "def eng_avail_features_out(df):\n",
    "    # for now, collapse the 'any' features into one\n",
    "    df_mod = (df\n",
    "              .withColumn(\"out_avail_any_low\", \n",
    "                          F.col(\"out_avail_any_000\").cast('int')\n",
    "                          .bitwiseOR(F.col(\"out_avail_any_001\").cast('int'))\n",
    "                          .bitwiseOR(F.col(\"out_avail_any_002\").cast('int'))\n",
    "                         )\n",
    "              .withColumn(\"out_avail_all_max\", F.col(\"out_avail_all_009\").cast('int'))\n",
    "             )\n",
    "    return df_mod\n",
    "\n",
    "\n",
    "def agg_by_fare_rank(df):\n",
    "    \"\"\"Aggregate by fare rank, so there is one row per fare rank.\n",
    "    Also re-computes day/date-based features.\n",
    "    Note: Availability features should have already been engineered.\n",
    "\n",
    "    \"\"\"\n",
    "    # for now, take average of avail features. \n",
    "        # Considered taking `any` and `bit_and` equivalents. Out-of-the-box functions not\n",
    "        # available in this version of spark, however.\n",
    "        # The averages do capture this info, though:\n",
    "            # if any out_avail_max == 1, average will be non-zero\n",
    "            # if all out_avail_min == 1, average will be 1\n",
    "    df_agg = (df\n",
    "                 .groupBy(['market', 'out_departure_date', 'shop_date', 'fare_rank'])\n",
    "                 .agg(\n",
    "                     F.count(\"*\").alias(\"num_itin\"),\n",
    "                     F.first(\"fare\").alias(\"fare\"),\n",
    "                     F.collect_set(\"out_cxr\").alias(\"out_cxrs\"),\n",
    "                     F.first(\"solution_counts\").alias(\"solution_counts\"),\n",
    "                     F.first(\"shop_counts\").alias(\"shop_counts\"),\n",
    "                     # F.any(\"out_avail_all_max\").alias(\"out_avail_all_max\"),\n",
    "                     F.mean(\"out_avail_all_max\").alias(\"avg_out_avail_max\"),\n",
    "                     # F.bit_and(\"out_avail_any_low\").alias(\"out_avail_all_low\"),\n",
    "                     F.mean(\"out_avail_any_low\").alias(\"avg_out_avail_low\"),\n",
    "                 )\n",
    "                )\n",
    "\n",
    "    # alt: do this on raw data & then either agg on these above\n",
    "    df_agg = convert_dates(df_agg, ow=True)\n",
    "    df_agg = add_date_features(df_agg, ow=True)\n",
    "    df_agg = add_dow_ind(df_agg, ow=True)\n",
    "    df_agg = add_holiday_ind(df_agg)\n",
    "    return df_agg\n",
    "\n",
    "\n",
    "def collapse_fare_rank_features(df):\n",
    "    \"\"\"Shift fare rank features, so we are left with a single row per search criteria.\n",
    "    \n",
    "    Collapse 2nd-lowest fare info into lowest-fare row.\n",
    "    \"\"\"\n",
    "    w = (Window.partitionBy(\"market\", \"out_departure_date\", \"shop_date\").orderBy(\"fare_rank\"))\n",
    "    df_mod = (df\n",
    "                  # note: this temporarily pulls in 3rd-lowest fare to 2nd-lowest row\n",
    "                  # but when filter on fare_rank == 1 below, these column names become\n",
    "                  # accurate (could name them \"next-lowest\" instead of \"fr2\")\n",
    "                .withColumn(\"fr2_fare\", F.lead(\"fare\").over(w))\n",
    "                .withColumn(\"fr2_out_cxrs\", F.lead(\"out_cxrs\").over(w))\n",
    "                .withColumn(\"fr2_avg_out_avail_max\", F.lead(\"avg_out_avail_max\").over(w))\n",
    "                .withColumn(\"fr2_avg_out_avail_low\", F.lead(\"avg_out_avail_low\").over(w))\n",
    "                .filter(F.col(\"fare_rank\") == 1)\n",
    "            )\n",
    "\n",
    "    df_mod = (df_mod\n",
    "                .withColumn(\"fr1_fr2_out_cxrs_same\", F.col(\"out_cxrs\") == F.col(\"fr2_out_cxrs\"))\n",
    "                .withColumn(\"fr1_fr2_out_cxrs_overlap\", F.size(F.array_intersect(F.col(\"out_cxrs\"), F.col(\"fr2_out_cxrs\"))) > 0)\n",
    "            )\n",
    "    return df_mod\n",
    "\n",
    "\n",
    "def target_encode(df):\n",
    "    \"\"\"Target-encode appropriate features.\n",
    "    Features:\n",
    "        - days until departure \n",
    "    Note: Data should contain a single row per search criteria -- i.e. 'fare'\n",
    "        column should correspond to the lowest fare (e.g. the target).\n",
    "    \"\"\"\n",
    "    # target-encode by dtd\n",
    "    w3 = (Window\n",
    "        .partitionBy(\"market\", \"days_til_dept\")\n",
    "        .orderBy(\"shop_date\")\n",
    "        .rowsBetween(Window.unboundedPreceding, -1)\n",
    "        )\n",
    "    df_mod = (df\n",
    "              .withColumn(\"avg_fare_dtd\", F.mean(\"fare\").over(w3))\n",
    "             )\n",
    "    return df_mod\n",
    "\n",
    "def eng_shifted_day_features(df):\n",
    "    \"\"\"Engineer 'shifted' features based on shop and travel days.\n",
    "    \"\"\"\n",
    "    shifted_features_dict = {\n",
    "        \"shop_day\": {\n",
    "            'sort_col': 'shop_date',\n",
    "            'groupby_cols': ['market', 'out_departure_date'], #, 'inDeptDt'],\n",
    "            'target_cols': ['fare', 'fr2_fare', \n",
    "                            'avg_out_avail_max', 'avg_out_avail_low',\n",
    "                            # new in version e:\n",
    "                            'num_itin', 'shop_counts', 'solution_counts']\n",
    "        },        \n",
    "        \"dept_day\": {\n",
    "            'sort_col': 'out_departure_date',\n",
    "            'groupby_cols': ['market', 'shop_date'],\n",
    "            'target_cols': ['fare']\n",
    "        },\n",
    "    }\n",
    "    df_mod = df.select(\"*\")\n",
    "    for feature, kwargs in shifted_features_dict.items():\n",
    "        w = (Window\n",
    "            .orderBy(kwargs['sort_col'])\n",
    "            .partitionBy(kwargs['groupby_cols'])\n",
    "            )\n",
    "\n",
    "        for target_col in kwargs['target_cols']:\n",
    "            df_mod = (df_mod\n",
    "                .withColumn(\"{}_prev_{}\".format(target_col, feature), F.lag(target_col).over(w))\n",
    "                )\n",
    "            if feature != 'shop_day':\n",
    "                df_mod = (df_mod\n",
    "                .withColumn(\"{}_next_{}\".format(target_col, feature), F.lead(target_col).over(w))\n",
    "                )\n",
    "    # calc diff for dept day fares\n",
    "    df_mod = (df_mod\n",
    "              .withColumn('fare_diff_prev_dept_day', F.col('fare') - F.col('fare_prev_dept_day'))\n",
    "              .withColumn('fare_diff_next_dept_day', F.col('fare') - F.col('fare_next_dept_day'))\n",
    "    )\n",
    "    return df_mod\n",
    "\n",
    "\n",
    "# new in version e:\n",
    "def eng_trailing_avg_features(df):\n",
    "    # 3-day trailing avg of counts and min fare\n",
    "    w = (Window\n",
    "         .orderBy(\"shop_date\")\n",
    "         .partitionBy(\"market\", \"out_departure_date\")\n",
    "         .rowsBetween(-4, -1)\n",
    "        )\n",
    "    df_mod = (df\n",
    "              .withColumn(\"trailing_avg_shop_counts\", F.mean(\"shop_counts\").over(w))\n",
    "              .withColumn(\"trailing_avg_solution_counts\", F.mean(\"solution_counts\").over(w))\n",
    "              .withColumn(\"trailing_avg_fare\", F.mean(\"fare\").over(w))\n",
    "              .withColumn(\"trailing_std_fare\", F.stddev(\"fare\").over(w))\n",
    "             )\n",
    "    \n",
    "    # Trailing average (unbounded) of fare diff between prev/next dept day\n",
    "    days_to_sec = lambda i: i * 24 * 60 *60\n",
    "\n",
    "    w2 = (Window\n",
    "         .orderBy(F.col(\"shopDate_dt\").cast(\"timestamp\").cast(\"long\"))\n",
    "         .partitionBy(\"market\", \"dept_dt_dow\")\n",
    "         .rangeBetween(Window.unboundedPreceding, -days_to_sec(1))\n",
    "        )\n",
    "    df_mod = (df_mod\n",
    "              .withColumn(\"avg_diff_prev_dept_day\", F.mean(\"fare_diff_prev_dept_day\").over(w2))\n",
    "              .withColumn(\"avg_diff_next_dept_day\", F.mean(\"fare_diff_next_dept_day\").over(w2))\n",
    "             )\n",
    "    \n",
    "    # Calc estimated fare from fare & TA of fare diff\n",
    "    df_mod = (df_mod\n",
    "              .withColumn(\"est_fare_from_prev_dept_day\",\n",
    "                          F.col(\"fare_prev_dept_day\") + F.col(\"avg_diff_prev_dept_day\")\n",
    "                         )\n",
    "              .withColumn(\"est_fare_from_next_dept_day\",\n",
    "                          F.col(\"fare_next_dept_day\") + F.col(\"avg_diff_next_dept_day\")\n",
    "                         )\n",
    "             )\n",
    "          \n",
    "    return df_mod"
   ]
  },
  {
   "cell_type": "code",
   "execution_count": 16,
   "id": "7b6fb319-329d-4324-a90b-52121df68fbb",
   "metadata": {
    "execution": {
     "iopub.execute_input": "2022-11-18T20:10:13.585788Z",
     "iopub.status.busy": "2022-11-18T20:10:13.585564Z",
     "iopub.status.idle": "2022-11-18T20:10:14.874422Z",
     "shell.execute_reply": "2022-11-18T20:10:14.873622Z",
     "shell.execute_reply.started": "2022-11-18T20:10:13.585763Z"
    },
    "tags": []
   },
   "outputs": [
    {
     "data": {
      "application/vnd.jupyter.widget-view+json": {
       "model_id": "a979cadc7efa46b69ce829856ad9642d",
       "version_major": 2,
       "version_minor": 0
      },
      "text/plain": [
       "VBox()"
      ]
     },
     "metadata": {},
     "output_type": "display_data"
    },
    {
     "data": {
      "application/vnd.jupyter.widget-view+json": {
       "model_id": "",
       "version_major": 2,
       "version_minor": 0
      },
      "text/plain": [
       "FloatProgress(value=0.0, bar_style='info', description='Progress:', layout=Layout(height='25px', width='50%'),…"
      ]
     },
     "metadata": {},
     "output_type": "display_data"
    }
   ],
   "source": [
    "df_ow = eng_avail_features_out(df_ow)\n",
    "df_ow_agg = agg_by_fare_rank(df_ow)\n",
    "df_ow_mf = collapse_fare_rank_features(df_ow_agg)\n",
    "df_ow_mf = target_encode(df_ow_mf)\n",
    "df_ow_shift = eng_shifted_day_features(df_ow_mf)\n",
    "df_ow_trail = eng_trailing_avg_features(df_ow_shift)"
   ]
  },
  {
   "cell_type": "markdown",
   "id": "442603ed-4c99-4d14-af97-07ea3248619f",
   "metadata": {},
   "source": [
    "## Check"
   ]
  },
  {
   "cell_type": "code",
   "execution_count": 17,
   "id": "27075304-57ef-4917-887b-d92bfbaefb1e",
   "metadata": {
    "execution": {
     "iopub.execute_input": "2022-11-18T20:10:16.634337Z",
     "iopub.status.busy": "2022-11-18T20:10:16.634083Z",
     "iopub.status.idle": "2022-11-18T20:10:16.691811Z",
     "shell.execute_reply": "2022-11-18T20:10:16.691251Z",
     "shell.execute_reply.started": "2022-11-18T20:10:16.634309Z"
    },
    "tags": []
   },
   "outputs": [
    {
     "data": {
      "application/vnd.jupyter.widget-view+json": {
       "model_id": "319392a3ac374b739141e31be17041ea",
       "version_major": 2,
       "version_minor": 0
      },
      "text/plain": [
       "VBox()"
      ]
     },
     "metadata": {},
     "output_type": "display_data"
    },
    {
     "data": {
      "application/vnd.jupyter.widget-view+json": {
       "model_id": "",
       "version_major": 2,
       "version_minor": 0
      },
      "text/plain": [
       "FloatProgress(value=0.0, bar_style='info', description='Progress:', layout=Layout(height='25px', width='50%'),…"
      ]
     },
     "metadata": {},
     "output_type": "display_data"
    },
    {
     "name": "stdout",
     "output_type": "stream",
     "text": [
      "['market', 'out_departure_date', 'shop_date', 'fare_rank', 'num_itin', 'fare', 'out_cxrs', 'solution_counts', 'shop_counts', 'avg_out_avail_max', 'avg_out_avail_low', 'outDeptDt_dt', 'shopDate_dt', 'days_til_dept', 'dept_dt_dow_int', 'dept_dt_dow', 'is_holiday', 'fr2_fare', 'fr2_out_cxrs', 'fr2_avg_out_avail_max', 'fr2_avg_out_avail_low', 'fr1_fr2_out_cxrs_same', 'fr1_fr2_out_cxrs_overlap', 'avg_fare_dtd', 'fare_prev_shop_day', 'fr2_fare_prev_shop_day', 'avg_out_avail_max_prev_shop_day', 'avg_out_avail_low_prev_shop_day', 'num_itin_prev_shop_day', 'shop_counts_prev_shop_day', 'solution_counts_prev_shop_day', 'fare_prev_dept_day', 'fare_next_dept_day', 'fare_diff_prev_dept_day', 'fare_diff_next_dept_day', 'trailing_avg_shop_counts', 'trailing_avg_solution_counts', 'trailing_avg_fare', 'trailing_std_fare', 'avg_diff_prev_dept_day', 'avg_diff_next_dept_day', 'est_fare_from_prev_dept_day', 'est_fare_from_next_dept_day']"
     ]
    }
   ],
   "source": [
    "df_ow_trail.columns"
   ]
  },
  {
   "cell_type": "code",
   "execution_count": 12,
   "id": "3ec77f5c-e352-43c3-b2ad-be61efa71e3e",
   "metadata": {
    "execution": {
     "iopub.execute_input": "2022-11-17T18:52:58.713930Z",
     "iopub.status.busy": "2022-11-17T18:52:58.713678Z",
     "iopub.status.idle": "2022-11-17T18:53:20.074075Z",
     "shell.execute_reply": "2022-11-17T18:53:20.072981Z",
     "shell.execute_reply.started": "2022-11-17T18:52:58.713905Z"
    },
    "tags": []
   },
   "outputs": [
    {
     "data": {
      "application/vnd.jupyter.widget-view+json": {
       "model_id": "dab4b1e1f1ce4f3f99783b66d147dcd4",
       "version_major": 2,
       "version_minor": 0
      },
      "text/plain": [
       "VBox()"
      ]
     },
     "metadata": {},
     "output_type": "display_data"
    },
    {
     "data": {
      "application/vnd.jupyter.widget-view+json": {
       "model_id": "",
       "version_major": 2,
       "version_minor": 0
      },
      "text/plain": [
       "FloatProgress(value=0.0, bar_style='info', description='Progress:', layout=Layout(height='25px', width='50%'),…"
      ]
     },
     "metadata": {},
     "output_type": "display_data"
    },
    {
     "name": "stdout",
     "output_type": "stream",
     "text": [
      "+------------------+---------+-------------+------+------------------+--------+----------------------+\n",
      "|out_departure_date|shop_date|days_til_dept|  fare|fare_prev_shop_day|fr2_fare|fr2_fare_prev_shop_day|\n",
      "+------------------+---------+-------------+------+------------------+--------+----------------------+\n",
      "|          20221110| 20221015|           26| 43.98|              null|   48.59|                  null|\n",
      "|          20221110| 20221016|           25| 43.98|             43.98|   48.59|                 48.59|\n",
      "|          20221110| 20221017|           24| 42.98|             43.98|   43.98|                 48.59|\n",
      "|          20221110| 20221018|           23| 42.98|             42.98|   48.59|                 43.98|\n",
      "|          20221110| 20221019|           22| 42.98|             42.98|   47.98|                 48.59|\n",
      "|          20221110| 20221020|           21| 47.98|             42.98|   48.59|                 47.98|\n",
      "|          20221110| 20221021|           20| 47.98|             47.98|   48.59|                 48.59|\n",
      "|          20221110| 20221022|           19| 47.98|             47.98|   48.59|                 48.59|\n",
      "|          20221110| 20221023|           18| 67.59|             47.98|  111.98|                 48.59|\n",
      "|          20221110| 20221024|           17| 67.59|             67.59|   97.59|                111.98|\n",
      "|          20221110| 20221025|           16| 67.59|             67.59|   97.59|                 97.59|\n",
      "|          20221110| 20221026|           15| 97.59|             67.59|  111.98|                 97.59|\n",
      "|          20221110| 20221027|           14|111.98|             97.59|  131.59|                111.98|\n",
      "|          20221110| 20221028|           13| 47.98|            111.98|   48.59|                131.59|\n",
      "|          20221110| 20221029|           12| 47.98|             47.98|   48.59|                 48.59|\n",
      "|          20221110| 20221030|           11| 47.98|             47.98|   48.59|                 48.59|\n",
      "|          20221110| 20221031|           10| 47.98|             47.98|   48.59|                 48.59|\n",
      "|          20221110| 20221101|            9| 47.98|             47.98|   48.59|                 48.59|\n",
      "|          20221110| 20221102|            8| 47.98|             47.98|   48.59|                 48.59|\n",
      "|          20221110| 20221103|            7| 47.98|             47.98|   48.59|                 48.59|\n",
      "+------------------+---------+-------------+------+------------------+--------+----------------------+\n",
      "only showing top 20 rows"
     ]
    }
   ],
   "source": [
    "m = 'LGA-MIA'\n",
    "dd = 20221110\n",
    "# sd = 20221101\n",
    "ex_df_mf = df_ow_trail.filter((F.col(\"market\") == m) & (F.col(\"out_departure_date\") == dd)) #& (F.col(\"shop_date\") == sd))\n",
    "(ex_df_mf.select('out_departure_date', 'shop_date', 'days_til_dept', 'fare', \n",
    "                 'fare_prev_shop_day', 'fr2_fare', 'fr2_fare_prev_shop_day',)\n",
    " .orderBy(\"shop_date\")\n",
    " .show()\n",
    ")"
   ]
  },
  {
   "cell_type": "code",
   "execution_count": 15,
   "id": "d5a84bda-40c3-4969-b1ef-85dc5426b24f",
   "metadata": {
    "execution": {
     "iopub.execute_input": "2022-11-17T18:55:00.737932Z",
     "iopub.status.busy": "2022-11-17T18:55:00.737674Z",
     "iopub.status.idle": "2022-11-17T18:55:03.039564Z",
     "shell.execute_reply": "2022-11-17T18:55:03.038763Z",
     "shell.execute_reply.started": "2022-11-17T18:55:00.737907Z"
    },
    "tags": []
   },
   "outputs": [
    {
     "data": {
      "application/vnd.jupyter.widget-view+json": {
       "model_id": "c06ce890faa445549d6a7fa830ab3290",
       "version_major": 2,
       "version_minor": 0
      },
      "text/plain": [
       "VBox()"
      ]
     },
     "metadata": {},
     "output_type": "display_data"
    },
    {
     "data": {
      "application/vnd.jupyter.widget-view+json": {
       "model_id": "",
       "version_major": 2,
       "version_minor": 0
      },
      "text/plain": [
       "FloatProgress(value=0.0, bar_style='info', description='Progress:', layout=Layout(height='25px', width='50%'),…"
      ]
     },
     "metadata": {},
     "output_type": "display_data"
    },
    {
     "name": "stdout",
     "output_type": "stream",
     "text": [
      "+------------------+---------+-------------+------+------------------+------------------+------------------+------------------+\n",
      "|out_departure_date|shop_date|days_til_dept|  fare|      avg_fare_dtd|fare_prev_shop_day| trailing_avg_fare| trailing_std_fare|\n",
      "+------------------+---------+-------------+------+------------------+------------------+------------------+------------------+\n",
      "|          20221110| 20221015|           26| 43.98|              null|              null|              null|              null|\n",
      "|          20221110| 20221016|           25| 43.98|             35.97|             43.98|             43.98|               NaN|\n",
      "|          20221110| 20221017|           24| 42.98|             35.97|             43.98|             43.98|               0.0|\n",
      "|          20221110| 20221018|           23| 42.98| 38.63999999999999|             42.98| 43.64666666666667|0.5773502691896258|\n",
      "|          20221110| 20221019|           22| 42.98|           42.7275|             42.98|             43.48|0.5773502691896252|\n",
      "|          20221110| 20221020|           21| 47.98|41.175999999999995|             42.98|             43.23|0.5000000000000003|\n",
      "|          20221110| 20221021|           20| 47.98| 41.24333333333333|             47.98|             44.23|               2.5|\n",
      "|          20221110| 20221022|           19| 47.98|46.722857142857144|             47.98|             45.48| 2.886751345948129|\n",
      "|          20221110| 20221023|           18| 67.59|          44.58125|             47.98|             46.73|2.4999999999999996|\n",
      "|          20221110| 20221024|           17| 67.59| 45.58222222222222|             67.59|           52.8825| 9.805000000000003|\n",
      "|          20221110| 20221025|           16| 67.59|            47.145|             67.59|57.785000000000004|11.321838778808566|\n",
      "|          20221110| 20221026|           15| 97.59|52.275454545454565|             67.59|           62.6875| 9.805000000000005|\n",
      "|          20221110| 20221027|           14|111.98|47.968333333333355|             97.59|             75.09|              15.0|\n",
      "|          20221110| 20221028|           13| 47.98| 50.89230769230771|            111.98|           86.1875|22.263603145043707|\n",
      "|          20221110| 20221029|           12| 47.98| 60.58642857142859|             47.98| 81.28500000000001| 28.89528277533665|\n",
      "|          20221110| 20221030|           11| 47.98| 64.58733333333335|             47.98| 76.38250000000001| 33.31838368928881|\n",
      "|          20221110| 20221031|           10| 47.98| 62.52437500000002|             47.98|             63.98|              32.0|\n",
      "|          20221110| 20221101|            9| 47.98|63.234705882352955|             47.98|             47.98|               0.0|\n",
      "|          20221110| 20221102|            8| 47.98| 64.14222222222224|             47.98|             47.98|               0.0|\n",
      "|          20221110| 20221103|            7| 47.98|58.112631578947386|             47.98|             47.98|               0.0|\n",
      "+------------------+---------+-------------+------+------------------+------------------+------------------+------------------+\n",
      "only showing top 20 rows"
     ]
    }
   ],
   "source": [
    "m = 'LGA-MIA'\n",
    "dd = 20221110\n",
    "# sd = 20221101\n",
    "ex_df_mf = df_ow_trail.filter((F.col(\"market\") == m) & (F.col(\"out_departure_date\") == dd)) #& (F.col(\"shop_date\") == sd))\n",
    "(ex_df_mf.select('out_departure_date', 'shop_date', 'days_til_dept', \n",
    "                 'fare', 'avg_fare_dtd', \n",
    "                 'fare_prev_shop_day', 'trailing_avg_fare', 'trailing_std_fare',)\n",
    " .orderBy(\"shop_date\")\n",
    " .show()\n",
    ")"
   ]
  },
  {
   "cell_type": "code",
   "execution_count": null,
   "id": "e6c47166-8f1e-4e92-83fa-84cdf454cfea",
   "metadata": {
    "tags": []
   },
   "outputs": [],
   "source": [
    "m = 'LGA-MIA'\n",
    "dd = 20221110\n",
    "# sd = 20221101\n",
    "ex_df_mf = df_ow_trail.filter((F.col(\"market\") == m) & (F.col(\"out_departure_date\") == dd)) #& (F.col(\"shop_date\") == sd))\n",
    "(ex_df_mf.select('out_departure_date', 'shop_date', 'days_til_dept', \n",
    "                 'shop_counts', 'shop_counts_prev_shop_day', 'trailing_avg_shop_counts',\n",
    "                 'solution_counts','solution_counts_prev_shop_day','trailing_avg_solution_counts',\n",
    "                )\n",
    " .orderBy(\"shop_date\")\n",
    " .show()\n",
    ")"
   ]
  },
  {
   "cell_type": "markdown",
   "id": "14d64c82-ae17-408b-b88d-d4c6a58140a6",
   "metadata": {},
   "source": [
    "MIght want to clip off first X days, X being window size. Trailing avg is getting computed for less than X."
   ]
  },
  {
   "cell_type": "code",
   "execution_count": 16,
   "id": "e18247cf-609d-48eb-95d6-0024ca54c644",
   "metadata": {
    "execution": {
     "iopub.execute_input": "2022-11-17T18:55:34.238637Z",
     "iopub.status.busy": "2022-11-17T18:55:34.238403Z",
     "iopub.status.idle": "2022-11-17T18:55:36.525783Z",
     "shell.execute_reply": "2022-11-17T18:55:36.524947Z",
     "shell.execute_reply.started": "2022-11-17T18:55:34.238613Z"
    },
    "tags": []
   },
   "outputs": [
    {
     "data": {
      "application/vnd.jupyter.widget-view+json": {
       "model_id": "6d22cbc93744406ca96907cd454e9dc0",
       "version_major": 2,
       "version_minor": 0
      },
      "text/plain": [
       "VBox()"
      ]
     },
     "metadata": {},
     "output_type": "display_data"
    },
    {
     "data": {
      "application/vnd.jupyter.widget-view+json": {
       "model_id": "",
       "version_major": 2,
       "version_minor": 0
      },
      "text/plain": [
       "FloatProgress(value=0.0, bar_style='info', description='Progress:', layout=Layout(height='25px', width='50%'),…"
      ]
     },
     "metadata": {},
     "output_type": "display_data"
    },
    {
     "name": "stdout",
     "output_type": "stream",
     "text": [
      "+------------------+-----------+-----+------------------+-----------------------+------------------+-----------------------+\n",
      "|out_departure_date|dept_dt_dow| fare|fare_prev_dept_day|fare_diff_prev_dept_day|fare_next_dept_day|fare_diff_next_dept_day|\n",
      "+------------------+-----------+-----+------------------+-----------------------+------------------+-----------------------+\n",
      "|          20221105|        Sat|63.99|              null|                   null|             73.98|     -9.990000000000002|\n",
      "|          20221106|        Sun|73.98|             63.99|      9.990000000000002|             47.98|     26.000000000000007|\n",
      "|          20221107|        Mon|47.98|             73.98|    -26.000000000000007|             43.98|                    4.0|\n",
      "|          20221108|        Tue|43.98|             47.98|                   -4.0|             47.98|                   -4.0|\n",
      "|          20221109|        Wed|47.98|             43.98|                    4.0|             47.98|                    0.0|\n",
      "|          20221110|        Thu|47.98|             47.98|                    0.0|             47.98|                    0.0|\n",
      "|          20221111|        Fri|47.98|             47.98|                    0.0|             47.98|                    0.0|\n",
      "|          20221112|        Sat|47.98|             47.98|                    0.0|             47.98|                    0.0|\n",
      "|          20221113|        Sun|47.98|             47.98|                    0.0|             42.98|                    5.0|\n",
      "|          20221114|        Mon|42.98|             47.98|                   -5.0|             43.98|                   -1.0|\n",
      "|          20221115|        Tue|43.98|             42.98|                    1.0|             43.98|                    0.0|\n",
      "|          20221116|        Wed|43.98|             43.98|                    0.0|             43.98|                    0.0|\n",
      "|          20221117|        Thu|43.98|             43.98|                    0.0|             47.98|                   -4.0|\n",
      "|          20221118|        Fri|47.98|             43.98|                    4.0|             43.98|                    4.0|\n",
      "|          20221119|        Sat|43.98|             47.98|                   -4.0|             48.59|    -4.6100000000000065|\n",
      "|          20221120|        Sun|48.59|             43.98|     4.6100000000000065|             43.98|     4.6100000000000065|\n",
      "|          20221121|        Mon|43.98|             48.59|    -4.6100000000000065|             43.98|                    0.0|\n",
      "|          20221122|        Tue|43.98|             43.98|                    0.0|             63.99|    -20.010000000000005|\n",
      "|          20221123|        Wed|63.99|             43.98|     20.010000000000005|             43.98|     20.010000000000005|\n",
      "|          20221124|        Thu|43.98|             63.99|    -20.010000000000005|             47.98|                   -4.0|\n",
      "+------------------+-----------+-----+------------------+-----------------------+------------------+-----------------------+\n",
      "only showing top 20 rows"
     ]
    }
   ],
   "source": [
    "m = 'LGA-MIA'\n",
    "# dd = 20221110\n",
    "sd = 20221101\n",
    "ex_df_mf = df_ow_trail.filter((F.col(\"market\") == m) & (F.col(\"shop_date\") == sd)) # (F.col(\"out_departure_date\") == dd)\n",
    "(ex_df_mf.select('out_departure_date', 'dept_dt_dow', 'fare', \n",
    "                 'fare_prev_dept_day', 'fare_diff_prev_dept_day', #'avg_diff_prev_dept_day', 'est_fare_from_prev_dept_day',\n",
    "                 'fare_next_dept_day', 'fare_diff_next_dept_day', #'avg_diff_next_dept_day', 'est_fare_from_next_dept_day',\n",
    "                )\n",
    " .orderBy(\"out_departure_date\")\n",
    " .show()\n",
    ")"
   ]
  },
  {
   "cell_type": "markdown",
   "id": "9f7671b8-61f4-43bd-bbf4-0649a020e56e",
   "metadata": {},
   "source": [
    "Need to clip out dtd < 4"
   ]
  },
  {
   "cell_type": "code",
   "execution_count": 18,
   "id": "609769ae-d96c-40db-bae5-a07cc837fb55",
   "metadata": {
    "execution": {
     "iopub.execute_input": "2022-11-17T18:56:11.604216Z",
     "iopub.status.busy": "2022-11-17T18:56:11.603955Z",
     "iopub.status.idle": "2022-11-17T18:56:13.897056Z",
     "shell.execute_reply": "2022-11-17T18:56:13.896340Z",
     "shell.execute_reply.started": "2022-11-17T18:56:11.604188Z"
    },
    "tags": []
   },
   "outputs": [
    {
     "data": {
      "application/vnd.jupyter.widget-view+json": {
       "model_id": "853ffa5eb88b41c68332f5c5ae7aac52",
       "version_major": 2,
       "version_minor": 0
      },
      "text/plain": [
       "VBox()"
      ]
     },
     "metadata": {},
     "output_type": "display_data"
    },
    {
     "data": {
      "application/vnd.jupyter.widget-view+json": {
       "model_id": "",
       "version_major": 2,
       "version_minor": 0
      },
      "text/plain": [
       "FloatProgress(value=0.0, bar_style='info', description='Progress:', layout=Layout(height='25px', width='50%'),…"
      ]
     },
     "metadata": {},
     "output_type": "display_data"
    },
    {
     "name": "stdout",
     "output_type": "stream",
     "text": [
      "+------------------+-----------+---------+-----+------------------+----------------------+---------------------------+\n",
      "|out_departure_date|dept_dt_dow|shop_date| fare|fare_prev_dept_day|avg_diff_prev_dept_day|est_fare_from_prev_dept_day|\n",
      "+------------------+-----------+---------+-----+------------------+----------------------+---------------------------+\n",
      "|          20221109|        Wed| 20221101|47.98|             43.98|     4.297050610820246|          48.27705061082024|\n",
      "|          20221116|        Wed| 20221101|43.98|             43.98|     4.297050610820246|          48.27705061082024|\n",
      "|          20221123|        Wed| 20221101|63.99|             43.98|     4.297050610820246|          48.27705061082024|\n",
      "|          20221130|        Wed| 20221101|43.98|             43.98|     4.297050610820246|          48.27705061082024|\n",
      "|          20221207|        Wed| 20221101|43.98|             43.98|     4.297050610820246|          48.27705061082024|\n",
      "|          20221214|        Wed| 20221101|43.98|             43.98|     4.297050610820246|          48.27705061082024|\n",
      "|          20221221|        Wed| 20221101|53.99|             43.98|     4.297050610820246|          48.27705061082024|\n",
      "|          20221228|        Wed| 20221101|67.59|             67.59|     4.297050610820246|          71.88705061082025|\n",
      "|          20230104|        Wed| 20221101|48.98|             67.59|     4.297050610820246|          71.88705061082025|\n",
      "|          20230111|        Wed| 20221101|35.97|             35.97|     4.297050610820246|          40.26705061082025|\n",
      "|          20230118|        Wed| 20221101|35.97|             47.98|     4.297050610820246|          52.27705061082024|\n",
      "|          20230125|        Wed| 20221101|35.97|             35.97|     4.297050610820246|          40.26705061082025|\n",
      "|          20230201|        Wed| 20221101|35.97|             35.97|     4.297050610820246|          40.26705061082025|\n",
      "|          20230208|        Wed| 20221101|35.97|             35.97|     4.297050610820246|          40.26705061082025|\n",
      "|          20230215|        Wed| 20221101|53.99|             53.99|     4.297050610820246|         58.287050610820245|\n",
      "|          20230222|        Wed| 20221101|63.99|             63.99|     4.297050610820246|          68.28705061082024|\n",
      "|          20230301|        Wed| 20221101|67.59|             67.59|     4.297050610820246|          71.88705061082025|\n",
      "|          20230308|        Wed| 20221101|67.59|             67.59|     4.297050610820246|          71.88705061082025|\n",
      "|          20230315|        Wed| 20221101| 95.6|              95.6|     4.297050610820246|          99.89705061082024|\n",
      "|          20230322|        Wed| 20221101|67.59|             67.59|     4.297050610820246|          71.88705061082025|\n",
      "+------------------+-----------+---------+-----+------------------+----------------------+---------------------------+\n",
      "only showing top 20 rows"
     ]
    }
   ],
   "source": [
    "m = 'LGA-MIA'\n",
    "# dd = 20221110\n",
    "ddow = \"Wed\"\n",
    "sd = 20221101\n",
    "ex_df_mf = df_ow_trail.filter((F.col(\"market\") == m) \n",
    "                              & (F.col(\"shop_date\") == sd)\n",
    "                              & (F.col(\"dept_dt_dow\") == ddow)\n",
    "                             )\n",
    "(ex_df_mf.select('out_departure_date', 'dept_dt_dow', 'shop_date', 'fare', \n",
    "                 'fare_prev_dept_day', 'avg_diff_prev_dept_day', 'est_fare_from_prev_dept_day',\n",
    "                 # 'fare_next_dept_day', 'avg_diff_next_dept_day', 'est_fare_from_next_dept_day',\n",
    "                )\n",
    " .orderBy(\"shop_date\", 'out_departure_date')\n",
    " .show()\n",
    ")"
   ]
  },
  {
   "cell_type": "code",
   "execution_count": 19,
   "id": "05e06a7a-9eb6-4d20-af97-4ccca001b05a",
   "metadata": {
    "execution": {
     "iopub.execute_input": "2022-11-17T18:56:44.159570Z",
     "iopub.status.busy": "2022-11-17T18:56:44.159346Z",
     "iopub.status.idle": "2022-11-17T18:56:45.442202Z",
     "shell.execute_reply": "2022-11-17T18:56:45.441290Z",
     "shell.execute_reply.started": "2022-11-17T18:56:44.159547Z"
    },
    "tags": []
   },
   "outputs": [
    {
     "data": {
      "application/vnd.jupyter.widget-view+json": {
       "model_id": "060d3041038241ca9575190bd9e7bcb4",
       "version_major": 2,
       "version_minor": 0
      },
      "text/plain": [
       "VBox()"
      ]
     },
     "metadata": {},
     "output_type": "display_data"
    },
    {
     "data": {
      "application/vnd.jupyter.widget-view+json": {
       "model_id": "",
       "version_major": 2,
       "version_minor": 0
      },
      "text/plain": [
       "FloatProgress(value=0.0, bar_style='info', description='Progress:', layout=Layout(height='25px', width='50%'),…"
      ]
     },
     "metadata": {},
     "output_type": "display_data"
    },
    {
     "name": "stdout",
     "output_type": "stream",
     "text": [
      "+------------------+-----------+---------+------+------------------+----------------------+---------------------------+\n",
      "|out_departure_date|dept_dt_dow|shop_date|  fare|fare_next_dept_day|avg_diff_next_dept_day|est_fare_from_next_dept_day|\n",
      "+------------------+-----------+---------+------+------------------+----------------------+---------------------------+\n",
      "|          20221110|        Thu| 20221101| 47.98|             47.98|   -15.716934673366838|          32.26306532663316|\n",
      "|          20221117|        Thu| 20221101| 43.98|             47.98|   -15.716934673366838|          32.26306532663316|\n",
      "|          20221124|        Thu| 20221101| 43.98|             47.98|   -15.716934673366838|          32.26306532663316|\n",
      "|          20221201|        Thu| 20221101| 43.98|             47.98|   -15.716934673366838|          32.26306532663316|\n",
      "|          20221208|        Thu| 20221101| 43.98|             47.98|   -15.716934673366838|          32.26306532663316|\n",
      "|          20221215|        Thu| 20221101| 43.98|             47.98|   -15.716934673366838|          32.26306532663316|\n",
      "|          20221222|        Thu| 20221101| 66.98|             67.59|   -15.716934673366838|          51.87306532663317|\n",
      "|          20221229|        Thu| 20221101| 67.59|             67.59|   -15.716934673366838|          51.87306532663317|\n",
      "|          20230105|        Thu| 20221101| 63.99|             66.98|   -15.716934673366838|          51.26306532663317|\n",
      "|          20230112|        Thu| 20221101| 53.99|             53.99|   -15.716934673366838|         38.273065326633166|\n",
      "|          20230119|        Thu| 20221101| 47.98|             53.99|   -15.716934673366838|         38.273065326633166|\n",
      "|          20230126|        Thu| 20221101| 47.98|             66.98|   -15.716934673366838|          51.26306532663317|\n",
      "|          20230202|        Thu| 20221101| 53.99|             53.99|   -15.716934673366838|         38.273065326633166|\n",
      "|          20230209|        Thu| 20221101| 47.98|             67.59|   -15.716934673366838|          51.87306532663317|\n",
      "|          20230216|        Thu| 20221101|123.98|            243.98|   -15.716934673366838|         228.26306532663315|\n",
      "|          20230223|        Thu| 20221101| 67.59|            129.18|   -15.716934673366838|         113.46306532663317|\n",
      "|          20230302|        Thu| 20221101| 97.59|             97.59|   -15.716934673366838|          81.87306532663317|\n",
      "|          20230309|        Thu| 20221101|193.99|             67.59|   -15.716934673366838|          51.87306532663317|\n",
      "|          20230316|        Thu| 20221101|193.99|            223.99|   -15.716934673366838|         208.27306532663317|\n",
      "|          20230323|        Thu| 20221101| 67.59|            223.99|   -15.716934673366838|         208.27306532663317|\n",
      "+------------------+-----------+---------+------+------------------+----------------------+---------------------------+\n",
      "only showing top 20 rows"
     ]
    }
   ],
   "source": [
    "m = 'LGA-MIA'\n",
    "# dd = 20221110\n",
    "ddow = \"Thu\"\n",
    "sd = 20221101\n",
    "ex_df_mf = df_ow_trail.filter((F.col(\"market\") == m) \n",
    "                              & (F.col(\"shop_date\") == sd)\n",
    "                              & (F.col(\"dept_dt_dow\") == ddow)\n",
    "                             )\n",
    "(ex_df_mf.select('out_departure_date', 'dept_dt_dow', 'shop_date', 'fare', \n",
    "                 # 'fare_prev_dept_day', ' 'avg_diff_prev_dept_day', 'est_fare_from_prev_dept_day',\n",
    "                 'fare_next_dept_day', 'avg_diff_next_dept_day', 'est_fare_from_next_dept_day',\n",
    "                )\n",
    " .orderBy(\"shop_date\", 'out_departure_date')\n",
    " .show()\n",
    ")"
   ]
  },
  {
   "cell_type": "markdown",
   "id": "d2753c9c-6c83-412a-8bd9-06ea14ebd401",
   "metadata": {},
   "source": [
    "# save"
   ]
  },
  {
   "cell_type": "code",
   "execution_count": 20,
   "id": "83c1f0bb-1636-4716-a810-e8f41b603cf7",
   "metadata": {
    "execution": {
     "iopub.execute_input": "2022-11-17T18:56:54.986854Z",
     "iopub.status.busy": "2022-11-17T18:56:54.986618Z",
     "iopub.status.idle": "2022-11-17T18:56:56.264978Z",
     "shell.execute_reply": "2022-11-17T18:56:56.264305Z",
     "shell.execute_reply.started": "2022-11-17T18:56:54.986829Z"
    },
    "tags": []
   },
   "outputs": [
    {
     "data": {
      "application/vnd.jupyter.widget-view+json": {
       "model_id": "1e5fbb0d48e04d9bafe07a3d25acfaea",
       "version_major": 2,
       "version_minor": 0
      },
      "text/plain": [
       "VBox()"
      ]
     },
     "metadata": {},
     "output_type": "display_data"
    },
    {
     "data": {
      "application/vnd.jupyter.widget-view+json": {
       "model_id": "",
       "version_major": 2,
       "version_minor": 0
      },
      "text/plain": [
       "FloatProgress(value=0.0, bar_style='info', description='Progress:', layout=Layout(height='25px', width='50%'),…"
      ]
     },
     "metadata": {},
     "output_type": "display_data"
    },
    {
     "name": "stdout",
     "output_type": "stream",
     "text": [
      "133001"
     ]
    }
   ],
   "source": [
    "df_ow_trail.count()"
   ]
  },
  {
   "cell_type": "code",
   "execution_count": 18,
   "id": "a87472bb-b30d-4357-9f68-1a568d708ed4",
   "metadata": {
    "execution": {
     "iopub.execute_input": "2022-11-18T20:10:33.933066Z",
     "iopub.status.busy": "2022-11-18T20:10:33.932838Z",
     "iopub.status.idle": "2022-11-18T20:10:33.997377Z",
     "shell.execute_reply": "2022-11-18T20:10:33.996802Z",
     "shell.execute_reply.started": "2022-11-18T20:10:33.933041Z"
    },
    "tags": []
   },
   "outputs": [
    {
     "data": {
      "application/vnd.jupyter.widget-view+json": {
       "model_id": "6d73d2176358428bb337c433efe79e24",
       "version_major": 2,
       "version_minor": 0
      },
      "text/plain": [
       "VBox()"
      ]
     },
     "metadata": {},
     "output_type": "display_data"
    },
    {
     "data": {
      "application/vnd.jupyter.widget-view+json": {
       "model_id": "",
       "version_major": 2,
       "version_minor": 0
      },
      "text/plain": [
       "FloatProgress(value=0.0, bar_style='info', description='Progress:', layout=Layout(height='25px', width='50%'),…"
      ]
     },
     "metadata": {},
     "output_type": "display_data"
    },
    {
     "name": "stdout",
     "output_type": "stream",
     "text": [
      "root\n",
      " |-- market: string (nullable = true)\n",
      " |-- out_departure_date: long (nullable = true)\n",
      " |-- shop_date: long (nullable = true)\n",
      " |-- fare_rank: integer (nullable = true)\n",
      " |-- num_itin: long (nullable = false)\n",
      " |-- fare: double (nullable = true)\n",
      " |-- out_cxrs: array (nullable = true)\n",
      " |    |-- element: string (containsNull = true)\n",
      " |-- solution_counts: long (nullable = true)\n",
      " |-- shop_counts: long (nullable = true)\n",
      " |-- avg_out_avail_max: double (nullable = true)\n",
      " |-- avg_out_avail_low: double (nullable = true)\n",
      " |-- outDeptDt_dt: date (nullable = true)\n",
      " |-- shopDate_dt: date (nullable = true)\n",
      " |-- days_til_dept: integer (nullable = true)\n",
      " |-- dept_dt_dow_int: integer (nullable = true)\n",
      " |-- dept_dt_dow: string (nullable = true)\n",
      " |-- is_holiday: integer (nullable = false)\n",
      " |-- fr2_fare: double (nullable = true)\n",
      " |-- fr2_out_cxrs: array (nullable = true)\n",
      " |    |-- element: string (containsNull = true)\n",
      " |-- fr2_avg_out_avail_max: double (nullable = true)\n",
      " |-- fr2_avg_out_avail_low: double (nullable = true)\n",
      " |-- fr1_fr2_out_cxrs_same: boolean (nullable = true)\n",
      " |-- fr1_fr2_out_cxrs_overlap: boolean (nullable = false)\n",
      " |-- avg_fare_dtd: double (nullable = true)\n",
      " |-- fare_prev_shop_day: double (nullable = true)\n",
      " |-- fr2_fare_prev_shop_day: double (nullable = true)\n",
      " |-- avg_out_avail_max_prev_shop_day: double (nullable = true)\n",
      " |-- avg_out_avail_low_prev_shop_day: double (nullable = true)\n",
      " |-- num_itin_prev_shop_day: long (nullable = true)\n",
      " |-- shop_counts_prev_shop_day: long (nullable = true)\n",
      " |-- solution_counts_prev_shop_day: long (nullable = true)\n",
      " |-- fare_prev_dept_day: double (nullable = true)\n",
      " |-- fare_next_dept_day: double (nullable = true)\n",
      " |-- fare_diff_prev_dept_day: double (nullable = true)\n",
      " |-- fare_diff_next_dept_day: double (nullable = true)\n",
      " |-- trailing_avg_shop_counts: double (nullable = true)\n",
      " |-- trailing_avg_solution_counts: double (nullable = true)\n",
      " |-- trailing_avg_fare: double (nullable = true)\n",
      " |-- trailing_std_fare: double (nullable = true)\n",
      " |-- avg_diff_prev_dept_day: double (nullable = true)\n",
      " |-- avg_diff_next_dept_day: double (nullable = true)\n",
      " |-- est_fare_from_prev_dept_day: double (nullable = true)\n",
      " |-- est_fare_from_next_dept_day: double (nullable = true)"
     ]
    }
   ],
   "source": [
    "df_ow_trail.printSchema()"
   ]
  },
  {
   "cell_type": "code",
   "execution_count": 26,
   "id": "8ac2855a-dea3-4276-b215-b2b9655bcec0",
   "metadata": {
    "execution": {
     "iopub.execute_input": "2022-11-18T19:55:16.421572Z",
     "iopub.status.busy": "2022-11-18T19:55:16.421341Z",
     "iopub.status.idle": "2022-11-18T19:55:17.707036Z",
     "shell.execute_reply": "2022-11-18T19:55:17.706306Z",
     "shell.execute_reply.started": "2022-11-18T19:55:16.421548Z"
    },
    "tags": []
   },
   "outputs": [
    {
     "data": {
      "application/vnd.jupyter.widget-view+json": {
       "model_id": "1471cbee0c8d4a2aac550884aa9e5657",
       "version_major": 2,
       "version_minor": 0
      },
      "text/plain": [
       "VBox()"
      ]
     },
     "metadata": {},
     "output_type": "display_data"
    },
    {
     "data": {
      "application/vnd.jupyter.widget-view+json": {
       "model_id": "",
       "version_major": 2,
       "version_minor": 0
      },
      "text/plain": [
       "FloatProgress(value=0.0, bar_style='info', description='Progress:', layout=Layout(height='25px', width='50%'),…"
      ]
     },
     "metadata": {},
     "output_type": "display_data"
    },
    {
     "name": "stdout",
     "output_type": "stream",
     "text": [
      "+--------------+\n",
      "|max(shop_date)|\n",
      "+--------------+\n",
      "|      20221117|\n",
      "+--------------+"
     ]
    }
   ],
   "source": [
    "df_ow_trail.select(F.max(\"shop_date\")).show()"
   ]
  },
  {
   "cell_type": "code",
   "execution_count": 19,
   "id": "61ff0df5-b551-4415-9872-2f3010a79ab7",
   "metadata": {
    "execution": {
     "iopub.execute_input": "2022-11-18T20:10:38.686244Z",
     "iopub.status.busy": "2022-11-18T20:10:38.686022Z",
     "iopub.status.idle": "2022-11-18T20:10:38.748515Z",
     "shell.execute_reply": "2022-11-18T20:10:38.747970Z",
     "shell.execute_reply.started": "2022-11-18T20:10:38.686220Z"
    },
    "tags": []
   },
   "outputs": [
    {
     "data": {
      "application/vnd.jupyter.widget-view+json": {
       "model_id": "81637f49bae241439051b31bd60f7da2",
       "version_major": 2,
       "version_minor": 0
      },
      "text/plain": [
       "VBox()"
      ]
     },
     "metadata": {},
     "output_type": "display_data"
    },
    {
     "data": {
      "application/vnd.jupyter.widget-view+json": {
       "model_id": "",
       "version_major": 2,
       "version_minor": 0
      },
      "text/plain": [
       "FloatProgress(value=0.0, bar_style='info', description='Progress:', layout=Layout(height='25px', width='50%'),…"
      ]
     },
     "metadata": {},
     "output_type": "display_data"
    }
   ],
   "source": [
    "last_shop_day = \"20221117\""
   ]
  },
  {
   "cell_type": "code",
   "execution_count": 20,
   "id": "a207f168-83b1-43b5-b35b-ace660fcd93c",
   "metadata": {
    "execution": {
     "iopub.execute_input": "2022-11-18T20:10:39.760653Z",
     "iopub.status.busy": "2022-11-18T20:10:39.760429Z",
     "iopub.status.idle": "2022-11-18T20:11:15.166682Z",
     "shell.execute_reply": "2022-11-18T20:11:15.165925Z",
     "shell.execute_reply.started": "2022-11-18T20:10:39.760629Z"
    },
    "tags": []
   },
   "outputs": [
    {
     "data": {
      "application/vnd.jupyter.widget-view+json": {
       "model_id": "666091d0458442d19499cf0e36a4b7be",
       "version_major": 2,
       "version_minor": 0
      },
      "text/plain": [
       "VBox()"
      ]
     },
     "metadata": {},
     "output_type": "display_data"
    },
    {
     "data": {
      "application/vnd.jupyter.widget-view+json": {
       "model_id": "",
       "version_major": 2,
       "version_minor": 0
      },
      "text/plain": [
       "FloatProgress(value=0.0, bar_style='info', description='Progress:', layout=Layout(height='25px', width='50%'),…"
      ]
     },
     "metadata": {},
     "output_type": "display_data"
    }
   ],
   "source": [
    "# named for the last shop day in data set\n",
    "df_ow_trail.coalesce(1).write.mode(\"overwrite\").parquet(f\"s3://tvlp-ds-users/kendra-frederick/shopping-grid/engineered-features/parquet/{last_shop_day}/\") "
   ]
  },
  {
   "cell_type": "code",
   "execution_count": 21,
   "id": "6a404aeb-211d-4243-9a84-cb2728970c37",
   "metadata": {
    "execution": {
     "iopub.execute_input": "2022-11-18T20:11:15.168228Z",
     "iopub.status.busy": "2022-11-18T20:11:15.167978Z",
     "iopub.status.idle": "2022-11-18T20:11:25.173041Z",
     "shell.execute_reply": "2022-11-18T20:11:24.867263Z",
     "shell.execute_reply.started": "2022-11-18T20:11:15.168193Z"
    },
    "tags": []
   },
   "outputs": [
    {
     "data": {
      "application/vnd.jupyter.widget-view+json": {
       "model_id": "3f671088f4354ac6b90690383fa06bb7",
       "version_major": 2,
       "version_minor": 0
      },
      "text/plain": [
       "VBox()"
      ]
     },
     "metadata": {},
     "output_type": "display_data"
    },
    {
     "data": {
      "application/vnd.jupyter.widget-view+json": {
       "model_id": "",
       "version_major": 2,
       "version_minor": 0
      },
      "text/plain": [
       "FloatProgress(value=0.0, bar_style='info', description='Progress:', layout=Layout(height='25px', width='50%'),…"
      ]
     },
     "metadata": {},
     "output_type": "display_data"
    }
   ],
   "source": [
    "# drop arrays and save as a csv, for download & local analysis\n",
    "(df_ow_trail\n",
    " .drop('out_cxrs', 'fr2_out_cxrs')\n",
    " .coalesce(1)\n",
    " .write.mode(\"overwrite\")\n",
    " .csv(f\"s3://tvlp-ds-users/kendra-frederick/shopping-grid/engineered-features/csv/{last_shop_day}/\", header=True)\n",
    ")"
   ]
  },
  {
   "cell_type": "code",
   "execution_count": null,
   "id": "51980397-1a60-4cbf-b80e-fe0f4730da40",
   "metadata": {},
   "outputs": [],
   "source": []
  }
 ],
 "metadata": {
  "kernelspec": {
   "display_name": "PySpark",
   "language": "python",
   "name": "pysparkkernel"
  },
  "language_info": {
   "codemirror_mode": {
    "name": "python",
    "version": 3
   },
   "file_extension": ".py",
   "mimetype": "text/x-python",
   "name": "pyspark",
   "pygments_lexer": "python3"
  }
 },
 "nbformat": 4,
 "nbformat_minor": 5
}
