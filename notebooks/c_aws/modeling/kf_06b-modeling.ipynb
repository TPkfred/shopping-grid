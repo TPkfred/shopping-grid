{
 "cells": [
  {
   "cell_type": "markdown",
   "id": "135d27e7-c97e-4343-bbdc-8463375dbcd3",
   "metadata": {},
   "source": [
    "Version notes (f)\n",
    "- split out by market and tailor dtd clipping"
   ]
  },
  {
   "cell_type": "code",
   "execution_count": 1,
   "id": "41f7156c-a5ea-4ed8-9eef-b4ef1f17e673",
   "metadata": {
    "execution": {
     "iopub.execute_input": "2022-12-02T17:08:51.823125Z",
     "iopub.status.busy": "2022-12-02T17:08:51.822516Z",
     "iopub.status.idle": "2022-12-02T17:09:14.736516Z",
     "shell.execute_reply": "2022-12-02T17:09:14.735920Z",
     "shell.execute_reply.started": "2022-12-02T17:08:51.823079Z"
    },
    "tags": []
   },
   "outputs": [
    {
     "data": {
      "application/vnd.jupyter.widget-view+json": {
       "model_id": "9e68e6a093964308bfd69b9d4b7fc9df",
       "version_major": 2,
       "version_minor": 0
      },
      "text/plain": [
       "VBox()"
      ]
     },
     "metadata": {},
     "output_type": "display_data"
    },
    {
     "name": "stdout",
     "output_type": "stream",
     "text": [
      "Starting Spark application\n"
     ]
    },
    {
     "data": {
      "text/html": [
       "<table>\n",
       "<tr><th>ID</th><th>YARN Application ID</th><th>Kind</th><th>State</th><th>Spark UI</th><th>Driver log</th><th>User</th><th>Current session?</th></tr><tr><td>1</td><td>application_1669997821946_0002</td><td>pyspark</td><td>idle</td><td></td><td></td><td>None</td><td>✔</td></tr></table>"
      ],
      "text/plain": [
       "<IPython.core.display.HTML object>"
      ]
     },
     "metadata": {},
     "output_type": "display_data"
    },
    {
     "data": {
      "application/vnd.jupyter.widget-view+json": {
       "model_id": "",
       "version_major": 2,
       "version_minor": 0
      },
      "text/plain": [
       "FloatProgress(value=0.0, bar_style='info', description='Progress:', layout=Layout(height='25px', width='50%'),…"
      ]
     },
     "metadata": {},
     "output_type": "display_data"
    },
    {
     "name": "stdout",
     "output_type": "stream",
     "text": [
      "SparkSession available as 'spark'.\n"
     ]
    },
    {
     "data": {
      "application/vnd.jupyter.widget-view+json": {
       "model_id": "",
       "version_major": 2,
       "version_minor": 0
      },
      "text/plain": [
       "FloatProgress(value=0.0, bar_style='info', description='Progress:', layout=Layout(height='25px', width='50%'),…"
      ]
     },
     "metadata": {},
     "output_type": "display_data"
    }
   ],
   "source": [
    "import datetime\n",
    "\n",
    "from pyspark.sql import SparkSession\n",
    "import pyspark.sql.functions as F\n",
    "import pyspark.sql.types as T\n",
    "from pyspark.sql.window import Window"
   ]
  },
  {
   "cell_type": "code",
   "execution_count": 2,
   "id": "cb8f4634-5cd4-49a7-a711-664b4d9b6df5",
   "metadata": {
    "execution": {
     "iopub.execute_input": "2022-12-02T17:09:18.510868Z",
     "iopub.status.busy": "2022-12-02T17:09:18.510641Z",
     "iopub.status.idle": "2022-12-02T17:09:25.974028Z",
     "shell.execute_reply": "2022-12-02T17:09:25.973444Z",
     "shell.execute_reply.started": "2022-12-02T17:09:18.510842Z"
    },
    "tags": []
   },
   "outputs": [
    {
     "data": {
      "application/vnd.jupyter.widget-view+json": {
       "model_id": "259a356cd0744093bc1d3c5b24e3e790",
       "version_major": 2,
       "version_minor": 0
      },
      "text/plain": [
       "VBox()"
      ]
     },
     "metadata": {},
     "output_type": "display_data"
    },
    {
     "data": {
      "application/vnd.jupyter.widget-view+json": {
       "model_id": "",
       "version_major": 2,
       "version_minor": 0
      },
      "text/plain": [
       "FloatProgress(value=0.0, bar_style='info', description='Progress:', layout=Layout(height='25px', width='50%'),…"
      ]
     },
     "metadata": {},
     "output_type": "display_data"
    }
   ],
   "source": [
    "# this data has been updated to include holiday indicator\n",
    "last_shop_day = \"20221130\"\n",
    "df = spark.read.parquet(f\"s3://tvlp-ds-users/kendra-frederick/shopping-grid/engineered-features_v3/parquet/{last_shop_day}/\")"
   ]
  },
  {
   "cell_type": "code",
   "execution_count": 3,
   "id": "1ea4f893-c0bc-486e-9503-20b6b827442c",
   "metadata": {
    "execution": {
     "iopub.execute_input": "2022-12-02T17:09:25.975188Z",
     "iopub.status.busy": "2022-12-02T17:09:25.975012Z",
     "iopub.status.idle": "2022-12-02T17:09:26.241127Z",
     "shell.execute_reply": "2022-12-02T17:09:26.240382Z",
     "shell.execute_reply.started": "2022-12-02T17:09:25.975166Z"
    },
    "tags": []
   },
   "outputs": [
    {
     "data": {
      "application/vnd.jupyter.widget-view+json": {
       "model_id": "c873ebde2d714051a6969f57fd1d08eb",
       "version_major": 2,
       "version_minor": 0
      },
      "text/plain": [
       "VBox()"
      ]
     },
     "metadata": {},
     "output_type": "display_data"
    },
    {
     "data": {
      "application/vnd.jupyter.widget-view+json": {
       "model_id": "",
       "version_major": 2,
       "version_minor": 0
      },
      "text/plain": [
       "FloatProgress(value=0.0, bar_style='info', description='Progress:', layout=Layout(height='25px', width='50%'),…"
      ]
     },
     "metadata": {},
     "output_type": "display_data"
    },
    {
     "name": "stdout",
     "output_type": "stream",
     "text": [
      "root\n",
      " |-- market: string (nullable = true)\n",
      " |-- out_departure_date: long (nullable = true)\n",
      " |-- shop_date: long (nullable = true)\n",
      " |-- fare_rank: integer (nullable = true)\n",
      " |-- num_itin: long (nullable = true)\n",
      " |-- fare: double (nullable = true)\n",
      " |-- out_cxrs: array (nullable = true)\n",
      " |    |-- element: string (containsNull = true)\n",
      " |-- solution_counts: long (nullable = true)\n",
      " |-- shop_counts: long (nullable = true)\n",
      " |-- avg_out_avail_max: double (nullable = true)\n",
      " |-- avg_out_avail_low: double (nullable = true)\n",
      " |-- outDeptDt_dt: date (nullable = true)\n",
      " |-- shopDate_dt: date (nullable = true)\n",
      " |-- days_til_dept: integer (nullable = true)\n",
      " |-- dept_dt_dow_int: integer (nullable = true)\n",
      " |-- dept_dt_dow: string (nullable = true)\n",
      " |-- is_holiday: integer (nullable = true)\n",
      " |-- fr2_fare: double (nullable = true)\n",
      " |-- fr2_out_cxrs: array (nullable = true)\n",
      " |    |-- element: string (containsNull = true)\n",
      " |-- fr2_avg_out_avail_max: double (nullable = true)\n",
      " |-- fr2_avg_out_avail_low: double (nullable = true)\n",
      " |-- fr1_fr2_out_cxrs_same: boolean (nullable = true)\n",
      " |-- fr1_fr2_out_cxrs_overlap: boolean (nullable = true)\n",
      " |-- avg_fare_dtd: double (nullable = true)\n",
      " |-- fare_prev_shop_day: double (nullable = true)\n",
      " |-- fr2_fare_prev_shop_day: double (nullable = true)\n",
      " |-- avg_out_avail_max_prev_shop_day: double (nullable = true)\n",
      " |-- avg_out_avail_low_prev_shop_day: double (nullable = true)\n",
      " |-- num_itin_prev_shop_day: long (nullable = true)\n",
      " |-- shop_counts_prev_shop_day: long (nullable = true)\n",
      " |-- solution_counts_prev_shop_day: long (nullable = true)\n",
      " |-- fare_prev_dept_day: double (nullable = true)\n",
      " |-- fare_next_dept_day: double (nullable = true)\n",
      " |-- fare_diff_prev_dept_day: double (nullable = true)\n",
      " |-- fare_diff_next_dept_day: double (nullable = true)\n",
      " |-- trailing_avg_shop_counts: double (nullable = true)\n",
      " |-- trailing_avg_solution_counts: double (nullable = true)\n",
      " |-- trailing_avg_fare: double (nullable = true)\n",
      " |-- trailing_std_fare: double (nullable = true)\n",
      " |-- avg_diff_prev_dept_day: double (nullable = true)\n",
      " |-- avg_diff_next_dept_day: double (nullable = true)\n",
      " |-- est_fare_from_prev_dept_day: double (nullable = true)\n",
      " |-- est_fare_from_next_dept_day: double (nullable = true)"
     ]
    }
   ],
   "source": [
    "df.printSchema()"
   ]
  },
  {
   "cell_type": "markdown",
   "id": "fda6a969-82d8-418e-be26-c5640c78f3e0",
   "metadata": {},
   "source": [
    "# define features"
   ]
  },
  {
   "cell_type": "code",
   "execution_count": 4,
   "id": "bc24f456-9ab8-4112-b16e-874276091b49",
   "metadata": {
    "execution": {
     "iopub.execute_input": "2022-12-02T17:09:29.683062Z",
     "iopub.status.busy": "2022-12-02T17:09:29.682838Z",
     "iopub.status.idle": "2022-12-02T17:09:29.746925Z",
     "shell.execute_reply": "2022-12-02T17:09:29.746184Z",
     "shell.execute_reply.started": "2022-12-02T17:09:29.683038Z"
    },
    "tags": []
   },
   "outputs": [
    {
     "data": {
      "application/vnd.jupyter.widget-view+json": {
       "model_id": "f00996854ba74387b0f8ad6e10b8f244",
       "version_major": 2,
       "version_minor": 0
      },
      "text/plain": [
       "VBox()"
      ]
     },
     "metadata": {},
     "output_type": "display_data"
    },
    {
     "data": {
      "application/vnd.jupyter.widget-view+json": {
       "model_id": "",
       "version_major": 2,
       "version_minor": 0
      },
      "text/plain": [
       "FloatProgress(value=0.0, bar_style='info', description='Progress:', layout=Layout(height='25px', width='50%'),…"
      ]
     },
     "metadata": {},
     "output_type": "display_data"
    }
   ],
   "source": [
    "target_col = 'fare'\n",
    "\n",
    "# scale: mean = 0, std = 1\n",
    "features_to_scale = [\n",
    "    # fare-based features\n",
    "    'fare_prev_shop_day',\n",
    "    'fr2_fare_prev_shop_day', \n",
    "    'avg_fare_dtd',\n",
    "    'fare_prev_dept_day', 'fare_next_dept_day',\n",
    "    'est_fare_from_prev_dept_day', 'est_fare_from_next_dept_day',\n",
    "    'trailing_avg_fare', 'trailing_std_fare',\n",
    "                    ]\n",
    "# norm: [0,1]\n",
    "features_to_norm = [\n",
    "    'days_til_dept', # encoded in 'avg_fare_dtd', so exclude?\n",
    "    'num_itin_prev_shop_day',\n",
    "    # count-based features - expect some skew in these, so norm instead of scale (?)\n",
    "    'shop_counts_prev_shop_day', \n",
    "    'trailing_avg_shop_counts',\n",
    "    'solution_counts_prev_shop_day',\n",
    "    'trailing_avg_solution_counts',\n",
    "]\n",
    "categorial_features = [\n",
    "    'dept_dt_dow_int' \n",
    "]\n",
    "as_is_features = [\n",
    "    # avail-based features are already norm'd\n",
    "    'avg_out_avail_max_prev_shop_day',\n",
    "    'avg_out_avail_low_prev_shop_day',\n",
    "    # boolean feature(s) - new in version d\n",
    "    'fr1_fr2_out_cxrs_same',\n",
    "    'fr1_fr2_out_cxrs_overlap',\n",
    "    'is_holiday'\n",
    "]\n",
    "all_features = features_to_scale + features_to_norm + categorial_features + as_is_features\n",
    "all_cols_for_modeling = all_features + [target_col]"
   ]
  },
  {
   "cell_type": "markdown",
   "id": "eaf08592-60dc-45d0-a968-92b75a214efc",
   "metadata": {},
   "source": [
    "# prep data"
   ]
  },
  {
   "cell_type": "markdown",
   "id": "8645ccc5-f738-49ec-b6cd-6e1f445fa471",
   "metadata": {},
   "source": [
    "## clip"
   ]
  },
  {
   "cell_type": "code",
   "execution_count": 5,
   "id": "7421f26d-da3e-4cf4-9025-c80192527d5c",
   "metadata": {
    "execution": {
     "iopub.execute_input": "2022-12-02T17:10:11.333025Z",
     "iopub.status.busy": "2022-12-02T17:10:11.332764Z",
     "iopub.status.idle": "2022-12-02T17:10:14.672222Z",
     "shell.execute_reply": "2022-12-02T17:10:14.671529Z",
     "shell.execute_reply.started": "2022-12-02T17:10:11.332987Z"
    }
   },
   "outputs": [
    {
     "data": {
      "application/vnd.jupyter.widget-view+json": {
       "model_id": "43f7cb63b0934e94be88cedccc68eb8a",
       "version_major": 2,
       "version_minor": 0
      },
      "text/plain": [
       "VBox()"
      ]
     },
     "metadata": {},
     "output_type": "display_data"
    },
    {
     "data": {
      "application/vnd.jupyter.widget-view+json": {
       "model_id": "",
       "version_major": 2,
       "version_minor": 0
      },
      "text/plain": [
       "FloatProgress(value=0.0, bar_style='info', description='Progress:', layout=Layout(height='25px', width='50%'),…"
      ]
     },
     "metadata": {},
     "output_type": "display_data"
    },
    {
     "name": "stdout",
     "output_type": "stream",
     "text": [
      "+----------------+\n",
      "|min(shopDate_dt)|\n",
      "+----------------+\n",
      "|      2022-10-29|\n",
      "+----------------+"
     ]
    }
   ],
   "source": [
    "df.select(F.min(\"shopDate_dt\")).show()"
   ]
  },
  {
   "cell_type": "markdown",
   "id": "d1b02733-2fee-4d71-8b7c-7fe7f62634a2",
   "metadata": {},
   "source": [
    "based on shop date (given that we took a 3-day trailing average -- the first 2 days won't have valid data)"
   ]
  },
  {
   "cell_type": "code",
   "execution_count": 6,
   "id": "9ed2ce31-ab3e-4bfc-b03b-a51312da4b36",
   "metadata": {
    "execution": {
     "iopub.execute_input": "2022-12-02T17:10:25.406575Z",
     "iopub.status.busy": "2022-12-02T17:10:25.406345Z",
     "iopub.status.idle": "2022-12-02T17:10:25.678822Z",
     "shell.execute_reply": "2022-12-02T17:10:25.677928Z",
     "shell.execute_reply.started": "2022-12-02T17:10:25.406551Z"
    },
    "tags": []
   },
   "outputs": [
    {
     "data": {
      "application/vnd.jupyter.widget-view+json": {
       "model_id": "f8f911ee9c814a7592e85a59e916660c",
       "version_major": 2,
       "version_minor": 0
      },
      "text/plain": [
       "VBox()"
      ]
     },
     "metadata": {},
     "output_type": "display_data"
    },
    {
     "data": {
      "application/vnd.jupyter.widget-view+json": {
       "model_id": "",
       "version_major": 2,
       "version_minor": 0
      },
      "text/plain": [
       "FloatProgress(value=0.0, bar_style='info', description='Progress:', layout=Layout(height='25px', width='50%'),…"
      ]
     },
     "metadata": {},
     "output_type": "display_data"
    }
   ],
   "source": [
    "first_shop_date = datetime.date(2022,10,29)\n",
    "window_size = 3\n",
    "shop_cutoff = first_shop_date + datetime.timedelta(days=window_size)\n",
    "df_clip_shop = df.filter(F.col('shopDate_dt') >= shop_cutoff)"
   ]
  },
  {
   "cell_type": "markdown",
   "id": "45cac85e-b08b-424f-a8af-f553bf79418a",
   "metadata": {},
   "source": [
    "By days til dept -- such as 120"
   ]
  },
  {
   "cell_type": "code",
   "execution_count": 7,
   "id": "c49a485d-3bcb-40ba-a36b-ec9425535b41",
   "metadata": {
    "execution": {
     "iopub.execute_input": "2022-12-02T17:10:55.045617Z",
     "iopub.status.busy": "2022-12-02T17:10:55.045286Z",
     "iopub.status.idle": "2022-12-02T17:10:55.335355Z",
     "shell.execute_reply": "2022-12-02T17:10:55.334738Z",
     "shell.execute_reply.started": "2022-12-02T17:10:55.045578Z"
    }
   },
   "outputs": [
    {
     "data": {
      "application/vnd.jupyter.widget-view+json": {
       "model_id": "86727b6dafdc40a597bc2cd9ff0aeb2b",
       "version_major": 2,
       "version_minor": 0
      },
      "text/plain": [
       "VBox()"
      ]
     },
     "metadata": {},
     "output_type": "display_data"
    },
    {
     "data": {
      "application/vnd.jupyter.widget-view+json": {
       "model_id": "",
       "version_major": 2,
       "version_minor": 0
      },
      "text/plain": [
       "FloatProgress(value=0.0, bar_style='info', description='Progress:', layout=Layout(height='25px', width='50%'),…"
      ]
     },
     "metadata": {},
     "output_type": "display_data"
    }
   ],
   "source": [
    "dtd_grp = df.groupby('days_til_dept').count()"
   ]
  },
  {
   "cell_type": "code",
   "execution_count": 9,
   "id": "8cb1f2f0-88b6-4bb2-89f5-f408a2dccfdc",
   "metadata": {
    "execution": {
     "iopub.execute_input": "2022-12-02T17:11:15.576744Z",
     "iopub.status.busy": "2022-12-02T17:11:15.576504Z",
     "iopub.status.idle": "2022-12-02T17:11:16.869672Z",
     "shell.execute_reply": "2022-12-02T17:11:16.868980Z",
     "shell.execute_reply.started": "2022-12-02T17:11:15.576718Z"
    },
    "tags": []
   },
   "outputs": [
    {
     "data": {
      "application/vnd.jupyter.widget-view+json": {
       "model_id": "5c827ae6bba74ef0bae94d247dda5724",
       "version_major": 2,
       "version_minor": 0
      },
      "text/plain": [
       "VBox()"
      ]
     },
     "metadata": {},
     "output_type": "display_data"
    },
    {
     "data": {
      "application/vnd.jupyter.widget-view+json": {
       "model_id": "",
       "version_major": 2,
       "version_minor": 0
      },
      "text/plain": [
       "FloatProgress(value=0.0, bar_style='info', description='Progress:', layout=Layout(height='25px', width='50%'),…"
      ]
     },
     "metadata": {},
     "output_type": "display_data"
    },
    {
     "name": "stdout",
     "output_type": "stream",
     "text": [
      "+-------------+-----+\n",
      "|days_til_dept|count|\n",
      "+-------------+-----+\n",
      "|            4|  448|\n",
      "|            5|  448|\n",
      "|            6|  448|\n",
      "|            7|  448|\n",
      "|            8|  448|\n",
      "+-------------+-----+\n",
      "only showing top 5 rows"
     ]
    }
   ],
   "source": [
    "dtd_grp.orderBy(\"days_til_dept\").show(5)"
   ]
  },
  {
   "cell_type": "markdown",
   "id": "2ce6cfc6-8eb6-4446-81ed-e18a4a99d6c1",
   "metadata": {},
   "source": [
    "Already clipped off the first 3"
   ]
  },
  {
   "cell_type": "code",
   "execution_count": 10,
   "id": "2b8fe341-261a-4080-b065-4715111eab73",
   "metadata": {
    "execution": {
     "iopub.execute_input": "2022-12-02T17:11:50.414247Z",
     "iopub.status.busy": "2022-12-02T17:11:50.413981Z",
     "iopub.status.idle": "2022-12-02T17:11:50.686481Z",
     "shell.execute_reply": "2022-12-02T17:11:50.685821Z",
     "shell.execute_reply.started": "2022-12-02T17:11:50.414221Z"
    },
    "tags": []
   },
   "outputs": [
    {
     "data": {
      "application/vnd.jupyter.widget-view+json": {
       "model_id": "8751ad8dffa34ef8bb12aee8ae01afa3",
       "version_major": 2,
       "version_minor": 0
      },
      "text/plain": [
       "VBox()"
      ]
     },
     "metadata": {},
     "output_type": "display_data"
    },
    {
     "data": {
      "application/vnd.jupyter.widget-view+json": {
       "model_id": "",
       "version_major": 2,
       "version_minor": 0
      },
      "text/plain": [
       "FloatProgress(value=0.0, bar_style='info', description='Progress:', layout=Layout(height='25px', width='50%'),…"
      ]
     },
     "metadata": {},
     "output_type": "display_data"
    }
   ],
   "source": [
    "dtd_limit = 120\n",
    "df_clip_dtd = df_clip_shop.filter(F.col(\"days_til_dept\") <= 120)"
   ]
  },
  {
   "cell_type": "code",
   "execution_count": 11,
   "id": "ad11cac7-d518-4ec7-9d37-10427f2f2ebb",
   "metadata": {
    "execution": {
     "iopub.execute_input": "2022-12-02T17:12:02.730497Z",
     "iopub.status.busy": "2022-12-02T17:12:02.730270Z",
     "iopub.status.idle": "2022-12-02T17:12:04.011854Z",
     "shell.execute_reply": "2022-12-02T17:12:04.011149Z",
     "shell.execute_reply.started": "2022-12-02T17:12:02.730473Z"
    }
   },
   "outputs": [
    {
     "data": {
      "application/vnd.jupyter.widget-view+json": {
       "model_id": "4b45a1fa668f44b1b617a6b64aa295f2",
       "version_major": 2,
       "version_minor": 0
      },
      "text/plain": [
       "VBox()"
      ]
     },
     "metadata": {},
     "output_type": "display_data"
    },
    {
     "data": {
      "application/vnd.jupyter.widget-view+json": {
       "model_id": "",
       "version_major": 2,
       "version_minor": 0
      },
      "text/plain": [
       "FloatProgress(value=0.0, bar_style='info', description='Progress:', layout=Layout(height='25px', width='50%'),…"
      ]
     },
     "metadata": {},
     "output_type": "display_data"
    },
    {
     "name": "stdout",
     "output_type": "stream",
     "text": [
      "(133361, 120659, 47501)"
     ]
    }
   ],
   "source": [
    "df.count(), df_clip_shop.count(), df_clip_dtd.count()"
   ]
  },
  {
   "cell_type": "markdown",
   "id": "0fd5e6ff-c2e3-4320-9450-43cf4eaf434a",
   "metadata": {},
   "source": [
    "This cuts out a lot of data, but so be it"
   ]
  },
  {
   "cell_type": "markdown",
   "id": "a7a1c5b7-822c-4964-a3ad-9e098c14560c",
   "metadata": {},
   "source": [
    "## dealing with nulls"
   ]
  },
  {
   "cell_type": "markdown",
   "id": "46ed59e2-6b36-4ecc-9195-6562a31d5345",
   "metadata": {},
   "source": [
    "Drop for now. Revisit later"
   ]
  },
  {
   "cell_type": "code",
   "execution_count": 12,
   "id": "c38ac1d4-10fd-4b1b-8470-2c3fcb540ae4",
   "metadata": {
    "execution": {
     "iopub.execute_input": "2022-12-02T17:12:25.490772Z",
     "iopub.status.busy": "2022-12-02T17:12:25.490544Z",
     "iopub.status.idle": "2022-12-02T17:12:26.772669Z",
     "shell.execute_reply": "2022-12-02T17:12:26.771787Z",
     "shell.execute_reply.started": "2022-12-02T17:12:25.490748Z"
    },
    "tags": []
   },
   "outputs": [
    {
     "data": {
      "application/vnd.jupyter.widget-view+json": {
       "model_id": "d732b30f926d4b59a2c8030b2ae731c1",
       "version_major": 2,
       "version_minor": 0
      },
      "text/plain": [
       "VBox()"
      ]
     },
     "metadata": {},
     "output_type": "display_data"
    },
    {
     "data": {
      "application/vnd.jupyter.widget-view+json": {
       "model_id": "",
       "version_major": 2,
       "version_minor": 0
      },
      "text/plain": [
       "FloatProgress(value=0.0, bar_style='info', description='Progress:', layout=Layout(height='25px', width='50%'),…"
      ]
     },
     "metadata": {},
     "output_type": "display_data"
    },
    {
     "name": "stdout",
     "output_type": "stream",
     "text": [
      "47092"
     ]
    }
   ],
   "source": [
    "df_no_nulls = df_clip_dtd.dropna(subset=all_cols_for_modeling)\n",
    "df_no_nulls.count()"
   ]
  },
  {
   "cell_type": "markdown",
   "id": "d415d073-1844-4f39-96ae-74983c0c103b",
   "metadata": {},
   "source": [
    "## Train-test split"
   ]
  },
  {
   "cell_type": "code",
   "execution_count": 13,
   "id": "d6234539-68f5-43b1-924a-fb531c0f871b",
   "metadata": {
    "execution": {
     "iopub.execute_input": "2022-12-02T17:12:57.711439Z",
     "iopub.status.busy": "2022-12-02T17:12:57.711163Z",
     "iopub.status.idle": "2022-12-02T17:12:57.992371Z",
     "shell.execute_reply": "2022-12-02T17:12:57.991593Z",
     "shell.execute_reply.started": "2022-12-02T17:12:57.711398Z"
    },
    "tags": []
   },
   "outputs": [
    {
     "data": {
      "application/vnd.jupyter.widget-view+json": {
       "model_id": "b66859d4040947fb9f067bc949cdcb45",
       "version_major": 2,
       "version_minor": 0
      },
      "text/plain": [
       "VBox()"
      ]
     },
     "metadata": {},
     "output_type": "display_data"
    },
    {
     "data": {
      "application/vnd.jupyter.widget-view+json": {
       "model_id": "",
       "version_major": 2,
       "version_minor": 0
      },
      "text/plain": [
       "FloatProgress(value=0.0, bar_style='info', description='Progress:', layout=Layout(height='25px', width='50%'),…"
      ]
     },
     "metadata": {},
     "output_type": "display_data"
    }
   ],
   "source": [
    "train, test = df_no_nulls.randomSplit([0.8, 0.2], seed=19)\n",
    "train_shuffled = train.orderBy(F.rand())\n",
    "\n",
    "df_no_holidays = df_no_nulls.filter(F.col(\"is_holiday\") == 0)\n",
    "train_no_hol, test_no_hol = df_no_holidays.randomSplit([0.8, 0.2], seed=19)"
   ]
  },
  {
   "cell_type": "markdown",
   "id": "1b5cc9f2-a577-4f2a-bd39-82d72c38c7ba",
   "metadata": {},
   "source": [
    "# modeling prep"
   ]
  },
  {
   "cell_type": "markdown",
   "id": "36c265ba-411a-4d5d-aedb-a8a065543fed",
   "metadata": {},
   "source": [
    "## import things"
   ]
  },
  {
   "cell_type": "code",
   "execution_count": 14,
   "id": "1d2d12e9-9572-46d9-8b79-4e2fc6cb125c",
   "metadata": {
    "execution": {
     "iopub.execute_input": "2022-12-02T17:13:19.555109Z",
     "iopub.status.busy": "2022-12-02T17:13:19.554886Z",
     "iopub.status.idle": "2022-12-02T17:13:19.817302Z",
     "shell.execute_reply": "2022-12-02T17:13:19.816722Z",
     "shell.execute_reply.started": "2022-12-02T17:13:19.555084Z"
    },
    "tags": []
   },
   "outputs": [
    {
     "data": {
      "application/vnd.jupyter.widget-view+json": {
       "model_id": "f48c183524bf410c8b3e140373526920",
       "version_major": 2,
       "version_minor": 0
      },
      "text/plain": [
       "VBox()"
      ]
     },
     "metadata": {},
     "output_type": "display_data"
    },
    {
     "data": {
      "application/vnd.jupyter.widget-view+json": {
       "model_id": "",
       "version_major": 2,
       "version_minor": 0
      },
      "text/plain": [
       "FloatProgress(value=0.0, bar_style='info', description='Progress:', layout=Layout(height='25px', width='50%'),…"
      ]
     },
     "metadata": {},
     "output_type": "display_data"
    }
   ],
   "source": [
    "from pyspark.ml.feature import (\n",
    "    MinMaxScaler, StandardScaler, OneHotEncoderEstimator,\n",
    "    VectorAssembler, VectorIndexer\n",
    ")\n",
    "from pyspark.ml.regression import (\n",
    "    LinearRegression, RandomForestRegressor, GBTRegressor\n",
    ")\n",
    "from pyspark.ml.evaluation import RegressionEvaluator\n",
    "from pyspark.ml import Pipeline\n",
    "from pyspark.ml.tuning import CrossValidator, ParamGridBuilder"
   ]
  },
  {
   "cell_type": "markdown",
   "id": "248657ad-7aec-483b-83f5-82004c86ee1b",
   "metadata": {},
   "source": [
    "## eval code"
   ]
  },
  {
   "cell_type": "code",
   "execution_count": 15,
   "id": "dcdec291-7a14-49dc-afe0-69349fccdeac",
   "metadata": {
    "execution": {
     "iopub.execute_input": "2022-12-02T17:13:50.920895Z",
     "iopub.status.busy": "2022-12-02T17:13:50.920603Z",
     "iopub.status.idle": "2022-12-02T17:13:50.993686Z",
     "shell.execute_reply": "2022-12-02T17:13:50.992796Z",
     "shell.execute_reply.started": "2022-12-02T17:13:50.920862Z"
    },
    "tags": []
   },
   "outputs": [
    {
     "data": {
      "application/vnd.jupyter.widget-view+json": {
       "model_id": "66784a5bcec14411b69b80f7eaf0cf2f",
       "version_major": 2,
       "version_minor": 0
      },
      "text/plain": [
       "VBox()"
      ]
     },
     "metadata": {},
     "output_type": "display_data"
    },
    {
     "data": {
      "application/vnd.jupyter.widget-view+json": {
       "model_id": "",
       "version_major": 2,
       "version_minor": 0
      },
      "text/plain": [
       "FloatProgress(value=0.0, bar_style='info', description='Progress:', layout=Layout(height='25px', width='50%'),…"
      ]
     },
     "metadata": {},
     "output_type": "display_data"
    }
   ],
   "source": [
    "def calc_abs_pct_err(df, pred_col=\"prediction\"):\n",
    "    df = (df\n",
    "           .withColumn(\"err\", F.col(\"fare\") - F.col(pred_col))\n",
    "           .withColumn(\"abs_err\", F.abs(F.col(\"err\")))\n",
    "           .withColumn(\"abs_pct_err\", F.col(\"abs_err\") / F.col(\"fare\"))\n",
    "          )\n",
    "    print(df.select(F.mean(\"abs_pct_err\").alias(\"mape\")).show())\n",
    "    # err_by_market = df.groupBy(\"market\").agg(F.mean(\"abs_pct_err\").alias(\"mape\")).orderBy(\"mape\")\n",
    "    return df"
   ]
  },
  {
   "cell_type": "markdown",
   "id": "c1796abf-6ca7-4a25-ba29-9a1bb51f6dab",
   "metadata": {},
   "source": [
    "# Define Pipelines & quick fit-check"
   ]
  },
  {
   "cell_type": "markdown",
   "id": "364e72cd-a8b4-41c8-a009-fca915761216",
   "metadata": {},
   "source": [
    "Useful refs:\n",
    "- https://spark.apache.org/docs/2.4.8/api/python/pyspark.ml.html\n",
    "    - For a specific algo, see `setParams` method. This enumerates the parameters accepted."
   ]
  },
  {
   "cell_type": "markdown",
   "id": "7f2555fb-f641-4591-9968-7a1db7505fa8",
   "metadata": {},
   "source": [
    "## Random Forest"
   ]
  },
  {
   "cell_type": "markdown",
   "id": "9076da3d-c814-4ce9-8e0b-7e3e0706b721",
   "metadata": {},
   "source": [
    "Best params from tuning were: 100 tree, maxDepth 7"
   ]
  },
  {
   "cell_type": "code",
   "execution_count": 18,
   "id": "9a7a6724-864f-4d63-a1d8-cba93915de68",
   "metadata": {
    "execution": {
     "iopub.execute_input": "2022-12-02T17:16:02.026595Z",
     "iopub.status.busy": "2022-12-02T17:16:02.026361Z",
     "iopub.status.idle": "2022-12-02T17:16:02.093141Z",
     "shell.execute_reply": "2022-12-02T17:16:02.090583Z",
     "shell.execute_reply.started": "2022-12-02T17:16:02.026570Z"
    },
    "tags": []
   },
   "outputs": [
    {
     "data": {
      "application/vnd.jupyter.widget-view+json": {
       "model_id": "b2f7d629df2d45d99943370678935b92",
       "version_major": 2,
       "version_minor": 0
      },
      "text/plain": [
       "VBox()"
      ]
     },
     "metadata": {},
     "output_type": "display_data"
    },
    {
     "data": {
      "application/vnd.jupyter.widget-view+json": {
       "model_id": "",
       "version_major": 2,
       "version_minor": 0
      },
      "text/plain": [
       "FloatProgress(value=0.0, bar_style='info', description='Progress:', layout=Layout(height='25px', width='50%'),…"
      ]
     },
     "metadata": {},
     "output_type": "display_data"
    }
   ],
   "source": [
    "raw_feature_assembler = VectorAssembler(\n",
    "    inputCols=all_features,\n",
    "    outputCol='features'\n",
    ")\n",
    "\n",
    "rf_regression_model = RandomForestRegressor(\n",
    "    labelCol=\"fare\",\n",
    "    numTrees=100,\n",
    "    maxDepth=7,\n",
    ")\n",
    "\n",
    "rf_pipeline = Pipeline(stages=[\n",
    "    raw_feature_assembler,\n",
    "    rf_regression_model\n",
    "])"
   ]
  },
  {
   "cell_type": "code",
   "execution_count": 19,
   "id": "85c5829f-5768-4f00-8a6d-f7d8a08f3a17",
   "metadata": {
    "execution": {
     "iopub.execute_input": "2022-12-02T17:18:23.214157Z",
     "iopub.status.busy": "2022-12-02T17:18:23.213898Z",
     "iopub.status.idle": "2022-12-02T17:19:04.663322Z",
     "shell.execute_reply": "2022-12-02T17:19:04.662610Z",
     "shell.execute_reply.started": "2022-12-02T17:18:23.214131Z"
    },
    "tags": []
   },
   "outputs": [
    {
     "data": {
      "application/vnd.jupyter.widget-view+json": {
       "model_id": "3e4377d0cf1a4db280eddde730307112",
       "version_major": 2,
       "version_minor": 0
      },
      "text/plain": [
       "VBox()"
      ]
     },
     "metadata": {},
     "output_type": "display_data"
    },
    {
     "data": {
      "application/vnd.jupyter.widget-view+json": {
       "model_id": "",
       "version_major": 2,
       "version_minor": 0
      },
      "text/plain": [
       "FloatProgress(value=0.0, bar_style='info', description='Progress:', layout=Layout(height='25px', width='50%'),…"
      ]
     },
     "metadata": {},
     "output_type": "display_data"
    },
    {
     "name": "stdout",
     "output_type": "stream",
     "text": [
      "+-------------------+\n",
      "|               mape|\n",
      "+-------------------+\n",
      "|0.06425197397085082|\n",
      "+-------------------+\n",
      "\n",
      "None"
     ]
    }
   ],
   "source": [
    "rf_model = rf_pipeline.fit(train_shuffled)\n",
    "pred_rf_df = rf_model.transform(test)\n",
    "pred_rf_df = calc_abs_pct_err(pred_rf_df)"
   ]
  },
  {
   "cell_type": "code",
   "execution_count": 22,
   "id": "bf91667b-e863-4e97-aee6-f30a85a3f81d",
   "metadata": {
    "execution": {
     "iopub.execute_input": "2022-12-02T17:20:43.645814Z",
     "iopub.status.busy": "2022-12-02T17:20:43.645565Z",
     "iopub.status.idle": "2022-12-02T17:20:59.006403Z",
     "shell.execute_reply": "2022-12-02T17:20:59.005713Z",
     "shell.execute_reply.started": "2022-12-02T17:20:43.645787Z"
    }
   },
   "outputs": [
    {
     "data": {
      "application/vnd.jupyter.widget-view+json": {
       "model_id": "8f3ce3be98dd4e0581319cf58e246368",
       "version_major": 2,
       "version_minor": 0
      },
      "text/plain": [
       "VBox()"
      ]
     },
     "metadata": {},
     "output_type": "display_data"
    },
    {
     "data": {
      "application/vnd.jupyter.widget-view+json": {
       "model_id": "",
       "version_major": 2,
       "version_minor": 0
      },
      "text/plain": [
       "FloatProgress(value=0.0, bar_style='info', description='Progress:', layout=Layout(height='25px', width='50%'),…"
      ]
     },
     "metadata": {},
     "output_type": "display_data"
    },
    {
     "name": "stdout",
     "output_type": "stream",
     "text": [
      "+------------------+\n",
      "|              mape|\n",
      "+------------------+\n",
      "|0.0549286203820055|\n",
      "+------------------+\n",
      "\n",
      "None"
     ]
    }
   ],
   "source": [
    "rf_model = rf_pipeline.fit(train_no_hol)\n",
    "pred_rf_df = rf_model.transform(test_no_hol)\n",
    "pred_rf_df = calc_abs_pct_err(pred_rf_df)"
   ]
  },
  {
   "cell_type": "markdown",
   "id": "3b890484-123e-4198-bb58-52ed25b83359",
   "metadata": {},
   "source": [
    "In the range of what we saw before"
   ]
  },
  {
   "cell_type": "markdown",
   "id": "96b2ab78-b41c-4e06-ab39-af9e1eca6d01",
   "metadata": {},
   "source": [
    "## Linear Regression"
   ]
  },
  {
   "cell_type": "code",
   "execution_count": 20,
   "id": "f80d7384-d9ec-4c3a-b2bf-9a7ab23ef21c",
   "metadata": {
    "execution": {
     "iopub.execute_input": "2022-12-02T17:19:34.846603Z",
     "iopub.status.busy": "2022-12-02T17:19:34.846364Z",
     "iopub.status.idle": "2022-12-02T17:19:35.114651Z",
     "shell.execute_reply": "2022-12-02T17:19:35.114032Z",
     "shell.execute_reply.started": "2022-12-02T17:19:34.846579Z"
    },
    "tags": []
   },
   "outputs": [
    {
     "data": {
      "application/vnd.jupyter.widget-view+json": {
       "model_id": "3bdd4e238dd145d4a08ad508e480d51f",
       "version_major": 2,
       "version_minor": 0
      },
      "text/plain": [
       "VBox()"
      ]
     },
     "metadata": {},
     "output_type": "display_data"
    },
    {
     "data": {
      "application/vnd.jupyter.widget-view+json": {
       "model_id": "",
       "version_major": 2,
       "version_minor": 0
      },
      "text/plain": [
       "FloatProgress(value=0.0, bar_style='info', description='Progress:', layout=Layout(height='25px', width='50%'),…"
      ]
     },
     "metadata": {},
     "output_type": "display_data"
    }
   ],
   "source": [
    "ohe = OneHotEncoderEstimator(\n",
    "    inputCols=categorial_features,\n",
    "    outputCols=['dept_dow_enc']\n",
    ")\n",
    "\n",
    "scale_assembler = VectorAssembler(\n",
    "    inputCols=features_to_scale,\n",
    "    outputCol=\"features_to_scale\"\n",
    ")\n",
    "\n",
    "scaler = StandardScaler(\n",
    "    inputCol=scale_assembler.getOutputCol(),\n",
    "    outputCol=\"scaled_features\"\n",
    ")\n",
    "\n",
    "norm_assembler = VectorAssembler(\n",
    "    inputCols=features_to_norm,\n",
    "    outputCol=\"features_to_norm\"\n",
    ")\n",
    "\n",
    "normer = MinMaxScaler(\n",
    "    inputCol=norm_assembler.getOutputCol(),\n",
    "    outputCol=\"normed_features\"\n",
    ")\n",
    "\n",
    "# Note: if shuffling data doesn't work, add a VectorSizeHint here\n",
    "# https://spark.apache.org/docs/2.4.8/ml-features.html#vectorsizehint\n",
    "# I think this is what's going on: https://www.matthewslipper.com/2017/10/01/watch-out-vectorassembler-incompatible-spark-streaming.html\n",
    "final_assembler = VectorAssembler(\n",
    "    inputCols=[*ohe.getOutputCols(), \n",
    "               scaler.getOutputCol(),\n",
    "               normer.getOutputCol()\n",
    "              ] + as_is_features,\n",
    "    outputCol='features'\n",
    ")\n",
    "\n",
    "lin_regression_model = LinearRegression(\n",
    "    #  elasticNetParam corresponds to α (ratio) and regParam corresponds to λ (weight).\n",
    "    labelCol=\"fare\",\n",
    "    maxIter=20,\n",
    "    regParam=1.0,\n",
    "    elasticNetParam=0.01\n",
    ")\n",
    "\n",
    "lin_pipeline = Pipeline(stages=[\n",
    "    scale_assembler,\n",
    "    norm_assembler,\n",
    "    ohe, \n",
    "    scaler,\n",
    "    normer,\n",
    "    final_assembler,\n",
    "    lin_regression_model\n",
    "])"
   ]
  },
  {
   "cell_type": "code",
   "execution_count": 21,
   "id": "4fedb5f1-bab6-462f-9e8d-a45f9c1c7221",
   "metadata": {
    "execution": {
     "iopub.execute_input": "2022-12-02T17:20:04.799587Z",
     "iopub.status.busy": "2022-12-02T17:20:04.799369Z",
     "iopub.status.idle": "2022-12-02T17:20:36.284544Z",
     "shell.execute_reply": "2022-12-02T17:20:36.283833Z",
     "shell.execute_reply.started": "2022-12-02T17:20:04.799563Z"
    },
    "tags": []
   },
   "outputs": [
    {
     "data": {
      "application/vnd.jupyter.widget-view+json": {
       "model_id": "0ceafe4106ed4dfa99ef2440d4cd2916",
       "version_major": 2,
       "version_minor": 0
      },
      "text/plain": [
       "VBox()"
      ]
     },
     "metadata": {},
     "output_type": "display_data"
    },
    {
     "data": {
      "application/vnd.jupyter.widget-view+json": {
       "model_id": "",
       "version_major": 2,
       "version_minor": 0
      },
      "text/plain": [
       "FloatProgress(value=0.0, bar_style='info', description='Progress:', layout=Layout(height='25px', width='50%'),…"
      ]
     },
     "metadata": {},
     "output_type": "display_data"
    },
    {
     "name": "stdout",
     "output_type": "stream",
     "text": [
      "+-------------------+\n",
      "|               mape|\n",
      "+-------------------+\n",
      "|0.08362963197983488|\n",
      "+-------------------+\n",
      "\n",
      "None"
     ]
    }
   ],
   "source": [
    "lr_model = lin_pipeline.fit(train_shuffled)\n",
    "pred_lr_df = lr_model.transform(test)\n",
    "pred_lr_df = calc_abs_pct_err(pred_lr_df)"
   ]
  },
  {
   "cell_type": "code",
   "execution_count": 23,
   "id": "66a01edb-9b9d-437a-8b10-f7e7838ff89c",
   "metadata": {
    "execution": {
     "iopub.execute_input": "2022-12-02T17:21:12.040657Z",
     "iopub.status.busy": "2022-12-02T17:21:12.040295Z",
     "iopub.status.idle": "2022-12-02T17:21:27.437932Z",
     "shell.execute_reply": "2022-12-02T17:21:27.437359Z",
     "shell.execute_reply.started": "2022-12-02T17:21:12.040616Z"
    }
   },
   "outputs": [
    {
     "data": {
      "application/vnd.jupyter.widget-view+json": {
       "model_id": "7e2bea75c46c40e88f0bd1c0e6feb8ec",
       "version_major": 2,
       "version_minor": 0
      },
      "text/plain": [
       "VBox()"
      ]
     },
     "metadata": {},
     "output_type": "display_data"
    },
    {
     "data": {
      "application/vnd.jupyter.widget-view+json": {
       "model_id": "",
       "version_major": 2,
       "version_minor": 0
      },
      "text/plain": [
       "FloatProgress(value=0.0, bar_style='info', description='Progress:', layout=Layout(height='25px', width='50%'),…"
      ]
     },
     "metadata": {},
     "output_type": "display_data"
    },
    {
     "name": "stdout",
     "output_type": "stream",
     "text": [
      "+-------------------+\n",
      "|               mape|\n",
      "+-------------------+\n",
      "|0.06638198343686914|\n",
      "+-------------------+\n",
      "\n",
      "None"
     ]
    }
   ],
   "source": [
    "lr_model = lin_pipeline.fit(train_no_hol)\n",
    "pred_lr_df = lr_model.transform(test_no_hol)\n",
    "pred_lr_df = calc_abs_pct_err(pred_lr_df)"
   ]
  },
  {
   "cell_type": "markdown",
   "id": "b7782bc4-bc22-4973-83f9-ae0c69fa2e72",
   "metadata": {},
   "source": [
    "## Gradient Boosing"
   ]
  },
  {
   "cell_type": "code",
   "execution_count": 33,
   "id": "b637c2ae-30b0-42e9-8715-321123e356f8",
   "metadata": {
    "execution": {
     "iopub.execute_input": "2022-12-02T17:38:57.762734Z",
     "iopub.status.busy": "2022-12-02T17:38:57.762510Z",
     "iopub.status.idle": "2022-12-02T17:38:58.037492Z",
     "shell.execute_reply": "2022-12-02T17:38:58.036868Z",
     "shell.execute_reply.started": "2022-12-02T17:38:57.762709Z"
    },
    "tags": []
   },
   "outputs": [
    {
     "data": {
      "application/vnd.jupyter.widget-view+json": {
       "model_id": "c0ebefe28dfe47b4b08f7fc6a231aba6",
       "version_major": 2,
       "version_minor": 0
      },
      "text/plain": [
       "VBox()"
      ]
     },
     "metadata": {},
     "output_type": "display_data"
    },
    {
     "data": {
      "application/vnd.jupyter.widget-view+json": {
       "model_id": "",
       "version_major": 2,
       "version_minor": 0
      },
      "text/plain": [
       "FloatProgress(value=0.0, bar_style='info', description='Progress:', layout=Layout(height='25px', width='50%'),…"
      ]
     },
     "metadata": {},
     "output_type": "display_data"
    },
    {
     "name": "stderr",
     "output_type": "stream",
     "text": [
      "Exception in thread cell_monitor-33:\n",
      "Traceback (most recent call last):\n",
      "  File \"/mnt/notebook-env/lib/python3.7/threading.py\", line 926, in _bootstrap_inner\n",
      "    self.run()\n",
      "  File \"/mnt/notebook-env/lib/python3.7/threading.py\", line 870, in run\n",
      "    self._target(*self._args, **self._kwargs)\n",
      "  File \"/mnt/notebook-env/lib/python3.7/site-packages/awseditorssparkmonitoringwidget-1.0-py3.7.egg/awseditorssparkmonitoringwidget/cellmonitor.py\", line 154, in cell_monitor\n",
      "    job_group_filtered_jobs = [job for job in jobs_data if job['jobGroup'] == str(statement_id)]\n",
      "  File \"/mnt/notebook-env/lib/python3.7/site-packages/awseditorssparkmonitoringwidget-1.0-py3.7.egg/awseditorssparkmonitoringwidget/cellmonitor.py\", line 154, in <listcomp>\n",
      "    job_group_filtered_jobs = [job for job in jobs_data if job['jobGroup'] == str(statement_id)]\n",
      "KeyError: 'jobGroup'\n",
      "\n"
     ]
    }
   ],
   "source": [
    "raw_feature_assembler = VectorAssembler(\n",
    "    inputCols=all_features,\n",
    "    outputCol='features'\n",
    ")\n",
    "\n",
    "gb_regression_model = GBTRegressor(\n",
    "    labelCol=\"fare\",\n",
    "    # maxIter=20, # this is default\n",
    "    # maxDepth=5, # this is default\n",
    "    stepSize=0.1,\n",
    ")\n",
    "\n",
    "gb_pipeline = Pipeline(stages=[\n",
    "    raw_feature_assembler,\n",
    "    gb_regression_model\n",
    "])"
   ]
  },
  {
   "cell_type": "markdown",
   "id": "e0f246bb-8d7c-4ad4-833e-2918df9d37ce",
   "metadata": {},
   "source": [
    "GBT messes up the output, so do it last"
   ]
  },
  {
   "cell_type": "code",
   "execution_count": 34,
   "id": "3777f3d9-a48d-44c1-ace5-c9d555756960",
   "metadata": {
    "execution": {
     "iopub.execute_input": "2022-12-02T17:39:34.160590Z",
     "iopub.status.busy": "2022-12-02T17:39:34.160359Z",
     "iopub.status.idle": "2022-12-02T17:39:58.076805Z",
     "shell.execute_reply": "2022-12-02T17:39:58.076120Z",
     "shell.execute_reply.started": "2022-12-02T17:39:34.160565Z"
    }
   },
   "outputs": [
    {
     "data": {
      "application/vnd.jupyter.widget-view+json": {
       "model_id": "127f73706785453d8551d39afd410ae7",
       "version_major": 2,
       "version_minor": 0
      },
      "text/plain": [
       "VBox()"
      ]
     },
     "metadata": {},
     "output_type": "display_data"
    },
    {
     "data": {
      "application/vnd.jupyter.widget-view+json": {
       "model_id": "",
       "version_major": 2,
       "version_minor": 0
      },
      "text/plain": [
       "FloatProgress(value=0.0, bar_style='info', description='Progress:', layout=Layout(height='25px', width='50%'),…"
      ]
     },
     "metadata": {},
     "output_type": "display_data"
    },
    {
     "name": "stderr",
     "output_type": "stream",
     "text": [
      "Exception in thread cell_monitor-34:\n",
      "Traceback (most recent call last):\n",
      "  File \"/mnt/notebook-env/lib/python3.7/threading.py\", line 926, in _bootstrap_inner\n",
      "    self.run()\n",
      "  File \"/mnt/notebook-env/lib/python3.7/threading.py\", line 870, in run\n",
      "    self._target(*self._args, **self._kwargs)\n",
      "  File \"/mnt/notebook-env/lib/python3.7/site-packages/awseditorssparkmonitoringwidget-1.0-py3.7.egg/awseditorssparkmonitoringwidget/cellmonitor.py\", line 154, in cell_monitor\n",
      "    job_group_filtered_jobs = [job for job in jobs_data if job['jobGroup'] == str(statement_id)]\n",
      "  File \"/mnt/notebook-env/lib/python3.7/site-packages/awseditorssparkmonitoringwidget-1.0-py3.7.egg/awseditorssparkmonitoringwidget/cellmonitor.py\", line 154, in <listcomp>\n",
      "    job_group_filtered_jobs = [job for job in jobs_data if job['jobGroup'] == str(statement_id)]\n",
      "KeyError: 'jobGroup'\n",
      "\n"
     ]
    },
    {
     "name": "stdout",
     "output_type": "stream",
     "text": [
      "+-------------------+\n",
      "|               mape|\n",
      "+-------------------+\n",
      "|0.06205723630216071|\n",
      "+-------------------+\n",
      "\n",
      "None"
     ]
    }
   ],
   "source": [
    "gb_model = gb_pipeline.fit(train_no_hol)\n",
    "pred_gb_df = gb_model.transform(test_no_hol)\n",
    "pred_gb_df = calc_abs_pct_err(pred_gb_df)"
   ]
  },
  {
   "cell_type": "markdown",
   "id": "f3259be4-492a-4992-a4bb-1aaf21443531",
   "metadata": {},
   "source": [
    "# Tune"
   ]
  },
  {
   "cell_type": "code",
   "execution_count": 26,
   "id": "6d5e5fd6-be40-48b6-87d5-75c94fbefb6b",
   "metadata": {
    "execution": {
     "iopub.execute_input": "2022-12-02T17:31:14.842470Z",
     "iopub.status.busy": "2022-12-02T17:31:14.842239Z",
     "iopub.status.idle": "2022-12-02T17:31:14.901776Z",
     "shell.execute_reply": "2022-12-02T17:31:14.901098Z",
     "shell.execute_reply.started": "2022-12-02T17:31:14.842445Z"
    }
   },
   "outputs": [
    {
     "data": {
      "application/vnd.jupyter.widget-view+json": {
       "model_id": "d0d4d63df4a14feba9217ba4dd4c081b",
       "version_major": 2,
       "version_minor": 0
      },
      "text/plain": [
       "VBox()"
      ]
     },
     "metadata": {},
     "output_type": "display_data"
    },
    {
     "name": "stderr",
     "output_type": "stream",
     "text": [
      "Exception in thread cell_monitor-26:\n",
      "Traceback (most recent call last):\n",
      "  File \"/mnt/notebook-env/lib/python3.7/threading.py\", line 926, in _bootstrap_inner\n",
      "    self.run()\n",
      "  File \"/mnt/notebook-env/lib/python3.7/threading.py\", line 870, in run\n",
      "    self._target(*self._args, **self._kwargs)\n",
      "  File \"/mnt/notebook-env/lib/python3.7/site-packages/awseditorssparkmonitoringwidget-1.0-py3.7.egg/awseditorssparkmonitoringwidget/cellmonitor.py\", line 154, in cell_monitor\n",
      "    job_group_filtered_jobs = [job for job in jobs_data if job['jobGroup'] == str(statement_id)]\n",
      "  File \"/mnt/notebook-env/lib/python3.7/site-packages/awseditorssparkmonitoringwidget-1.0-py3.7.egg/awseditorssparkmonitoringwidget/cellmonitor.py\", line 154, in <listcomp>\n",
      "    job_group_filtered_jobs = [job for job in jobs_data if job['jobGroup'] == str(statement_id)]\n",
      "KeyError: 'jobGroup'\n"
     ]
    },
    {
     "data": {
      "application/vnd.jupyter.widget-view+json": {
       "model_id": "",
       "version_major": 2,
       "version_minor": 0
      },
      "text/plain": [
       "FloatProgress(value=0.0, bar_style='info', description='Progress:', layout=Layout(height='25px', width='50%'),…"
      ]
     },
     "metadata": {},
     "output_type": "display_data"
    },
    {
     "name": "stderr",
     "output_type": "stream",
     "text": [
      "\n"
     ]
    }
   ],
   "source": [
    "def get_cv_results_list(cv_model, print_vals=True):\n",
    "    cv_metrics = cv_model.avgMetrics\n",
    "    cv_params = [dict(zip([y.name for y in x.keys()], x.values())) for x in list(cv_model.getEstimatorParamMaps())]\n",
    "    cv_results = list(zip(cv_params, cv_metrics))\n",
    "    if print_vals:\n",
    "        for x in cv_results:\n",
    "            print(x[0], x[1])\n",
    "    return cv_results\n",
    "\n",
    "\n",
    "def get_best_from_cv(cv_model):\n",
    "    cv_results = list(zip(\n",
    "        cv_model.getEstimatorParamMaps(), \n",
    "        cv_model.avgMetrics\n",
    "    ))\n",
    "    cv_results.sort(key=lambda x: x[1])\n",
    "    best_result = cv_results[0]\n",
    "    best_metric = best_result[1]\n",
    "    best_param_dict = best_result[0]\n",
    "    params = [x.name for x in list(best_param_dict.keys())]\n",
    "    param_vals = best_param_dict.values()\n",
    "    best_params = dict(zip(params, param_vals))\n",
    "    print(best_params, best_metric)\n",
    "    return best_params"
   ]
  },
  {
   "cell_type": "markdown",
   "id": "4be101ee-deea-4059-b73b-60bc78ebcab1",
   "metadata": {},
   "source": [
    "## RFR"
   ]
  },
  {
   "cell_type": "code",
   "execution_count": 25,
   "id": "d5c07417-c45a-46da-9eee-47104e36b02c",
   "metadata": {
    "execution": {
     "iopub.execute_input": "2022-12-02T17:24:38.135995Z",
     "iopub.status.busy": "2022-12-02T17:24:38.135773Z",
     "iopub.status.idle": "2022-12-02T17:27:56.618620Z",
     "shell.execute_reply": "2022-12-02T17:27:56.617937Z",
     "shell.execute_reply.started": "2022-12-02T17:24:38.135972Z"
    },
    "tags": []
   },
   "outputs": [
    {
     "data": {
      "application/vnd.jupyter.widget-view+json": {
       "model_id": "e091b4896ccd4700a88e6b1a9f443e26",
       "version_major": 2,
       "version_minor": 0
      },
      "text/plain": [
       "VBox()"
      ]
     },
     "metadata": {},
     "output_type": "display_data"
    },
    {
     "data": {
      "application/vnd.jupyter.widget-view+json": {
       "model_id": "",
       "version_major": 2,
       "version_minor": 0
      },
      "text/plain": [
       "FloatProgress(value=0.0, bar_style='info', description='Progress:', layout=Layout(height='25px', width='50%'),…"
      ]
     },
     "metadata": {},
     "output_type": "display_data"
    },
    {
     "name": "stderr",
     "output_type": "stream",
     "text": [
      "Exception in thread cell_monitor-25:\n",
      "Traceback (most recent call last):\n",
      "  File \"/mnt/notebook-env/lib/python3.7/threading.py\", line 926, in _bootstrap_inner\n",
      "    self.run()\n",
      "  File \"/mnt/notebook-env/lib/python3.7/threading.py\", line 870, in run\n",
      "    self._target(*self._args, **self._kwargs)\n",
      "  File \"/mnt/notebook-env/lib/python3.7/site-packages/awseditorssparkmonitoringwidget-1.0-py3.7.egg/awseditorssparkmonitoringwidget/cellmonitor.py\", line 154, in cell_monitor\n",
      "    job_group_filtered_jobs = [job for job in jobs_data if job['jobGroup'] == str(statement_id)]\n",
      "  File \"/mnt/notebook-env/lib/python3.7/site-packages/awseditorssparkmonitoringwidget-1.0-py3.7.egg/awseditorssparkmonitoringwidget/cellmonitor.py\", line 154, in <listcomp>\n",
      "    job_group_filtered_jobs = [job for job in jobs_data if job['jobGroup'] == str(statement_id)]\n",
      "KeyError: 'jobGroup'\n",
      "\n"
     ]
    },
    {
     "name": "stdout",
     "output_type": "stream",
     "text": [
      "+-------------------+\n",
      "|               mape|\n",
      "+-------------------+\n",
      "|0.04640951809656454|\n",
      "+-------------------+\n",
      "\n",
      "None"
     ]
    }
   ],
   "source": [
    "rf_param_grid = (ParamGridBuilder()\n",
    "              .addGrid(rf_regression_model.numTrees, [50, 100, 200])\n",
    "              .addGrid(rf_regression_model.maxDepth, [3, 5, 7, 10])\n",
    "              .build()\n",
    "             )\n",
    "\n",
    "rf_cv = CrossValidator(estimator=rf_pipeline,\n",
    "                    estimatorParamMaps=rf_param_grid,\n",
    "                    evaluator=RegressionEvaluator(labelCol=\"fare\"),\n",
    "                    numFolds=3,\n",
    "                    parallelism=5\n",
    "                   )\n",
    "\n",
    "rf_cv_model = rf_cv.fit(train_no_hol)\n",
    "pred_rf_cv = rf_cv_model.transform(test_no_hol)\n",
    "pred_rf_cv = calc_abs_pct_err(pred_rf_cv)"
   ]
  },
  {
   "cell_type": "markdown",
   "id": "7c0d2d9f-8a4e-40f9-b8d7-e2557e8fc133",
   "metadata": {},
   "source": [
    "Same-ish as before"
   ]
  },
  {
   "cell_type": "code",
   "execution_count": 27,
   "id": "1e244f7d-52d8-4daf-aef3-52545df7eef1",
   "metadata": {
    "execution": {
     "iopub.execute_input": "2022-12-02T17:31:29.431904Z",
     "iopub.status.busy": "2022-12-02T17:31:29.431654Z",
     "iopub.status.idle": "2022-12-02T17:31:29.511357Z",
     "shell.execute_reply": "2022-12-02T17:31:29.510602Z",
     "shell.execute_reply.started": "2022-12-02T17:31:29.431880Z"
    }
   },
   "outputs": [
    {
     "data": {
      "application/vnd.jupyter.widget-view+json": {
       "model_id": "170d3fe049df40a2af733e85669c7117",
       "version_major": 2,
       "version_minor": 0
      },
      "text/plain": [
       "VBox()"
      ]
     },
     "metadata": {},
     "output_type": "display_data"
    },
    {
     "data": {
      "application/vnd.jupyter.widget-view+json": {
       "model_id": "",
       "version_major": 2,
       "version_minor": 0
      },
      "text/plain": [
       "FloatProgress(value=0.0, bar_style='info', description='Progress:', layout=Layout(height='25px', width='50%'),…"
      ]
     },
     "metadata": {},
     "output_type": "display_data"
    },
    {
     "name": "stdout",
     "output_type": "stream",
     "text": [
      "{'numTrees': 200, 'maxDepth': 10} 19.543118876363895\n",
      "{'numTrees': 200, 'maxDepth': 10}"
     ]
    },
    {
     "name": "stderr",
     "output_type": "stream",
     "text": [
      "Exception in thread cell_monitor-27:\n",
      "Traceback (most recent call last):\n",
      "  File \"/mnt/notebook-env/lib/python3.7/threading.py\", line 926, in _bootstrap_inner\n",
      "    self.run()\n",
      "  File \"/mnt/notebook-env/lib/python3.7/threading.py\", line 870, in run\n",
      "    self._target(*self._args, **self._kwargs)\n",
      "  File \"/mnt/notebook-env/lib/python3.7/site-packages/awseditorssparkmonitoringwidget-1.0-py3.7.egg/awseditorssparkmonitoringwidget/cellmonitor.py\", line 154, in cell_monitor\n",
      "    job_group_filtered_jobs = [job for job in jobs_data if job['jobGroup'] == str(statement_id)]\n",
      "  File \"/mnt/notebook-env/lib/python3.7/site-packages/awseditorssparkmonitoringwidget-1.0-py3.7.egg/awseditorssparkmonitoringwidget/cellmonitor.py\", line 154, in <listcomp>\n",
      "    job_group_filtered_jobs = [job for job in jobs_data if job['jobGroup'] == str(statement_id)]\n",
      "KeyError: 'jobGroup'\n",
      "\n"
     ]
    }
   ],
   "source": [
    "get_best_from_cv(rf_cv_model)"
   ]
  },
  {
   "cell_type": "code",
   "execution_count": 28,
   "id": "1dc11784-a40d-43b0-be79-7f9184776867",
   "metadata": {
    "execution": {
     "iopub.execute_input": "2022-12-02T17:31:59.895446Z",
     "iopub.status.busy": "2022-12-02T17:31:59.895209Z",
     "iopub.status.idle": "2022-12-02T17:31:59.964556Z",
     "shell.execute_reply": "2022-12-02T17:31:59.963823Z",
     "shell.execute_reply.started": "2022-12-02T17:31:59.895420Z"
    }
   },
   "outputs": [
    {
     "data": {
      "application/vnd.jupyter.widget-view+json": {
       "model_id": "18efd8375c58483382c936d5e70ffebd",
       "version_major": 2,
       "version_minor": 0
      },
      "text/plain": [
       "VBox()"
      ]
     },
     "metadata": {},
     "output_type": "display_data"
    },
    {
     "data": {
      "application/vnd.jupyter.widget-view+json": {
       "model_id": "",
       "version_major": 2,
       "version_minor": 0
      },
      "text/plain": [
       "FloatProgress(value=0.0, bar_style='info', description='Progress:', layout=Layout(height='25px', width='50%'),…"
      ]
     },
     "metadata": {},
     "output_type": "display_data"
    },
    {
     "name": "stdout",
     "output_type": "stream",
     "text": [
      "{'numTrees': 50, 'maxDepth': 3} 28.943790962496827\n",
      "{'numTrees': 50, 'maxDepth': 5} 21.696493694630657\n",
      "{'numTrees': 50, 'maxDepth': 7} 20.409910452933378\n",
      "{'numTrees': 50, 'maxDepth': 10} 19.59891077879365\n",
      "{'numTrees': 100, 'maxDepth': 3} 28.846583012696193\n",
      "{'numTrees': 100, 'maxDepth': 5} 21.673347775403652\n",
      "{'numTrees': 100, 'maxDepth': 7} 20.368780921639683\n",
      "{'numTrees': 100, 'maxDepth': 10} 19.593892974023653\n",
      "{'numTrees': 200, 'maxDepth': 3} 28.759434386415244\n",
      "{'numTrees': 200, 'maxDepth': 5} 21.708060290574455\n",
      "{'numTrees': 200, 'maxDepth': 7} 20.353285735004757\n",
      "{'numTrees': 200, 'maxDepth': 10} 19.543118876363895\n",
      "[({'numTrees': 50, 'maxDepth': 3}, 28.943790962496827), ({'numTrees': 50, 'maxDepth': 5}, 21.696493694630657), ({'numTrees': 50, 'maxDepth': 7}, 20.409910452933378), ({'numTrees': 50, 'maxDepth': 10}, 19.59891077879365), ({'numTrees': 100, 'maxDepth': 3}, 28.846583012696193), ({'numTrees': 100, 'maxDepth': 5}, 21.673347775403652), ({'numTrees': 100, 'maxDepth': 7}, 20.368780921639683), ({'numTrees': 100, 'maxDepth': 10}, 19.593892974023653), ({'numTrees': 200, 'maxDepth': 3}, 28.759434386415244), ({'numTrees': 200, 'maxDepth': 5}, 21.708060290574455), ({'numTrees': 200, 'maxDepth': 7}, 20.353285735004757), ({'numTrees': 200, 'maxDepth': 10}, 19.543118876363895)]"
     ]
    },
    {
     "name": "stderr",
     "output_type": "stream",
     "text": [
      "Exception in thread cell_monitor-28:\n",
      "Traceback (most recent call last):\n",
      "  File \"/mnt/notebook-env/lib/python3.7/threading.py\", line 926, in _bootstrap_inner\n",
      "    self.run()\n",
      "  File \"/mnt/notebook-env/lib/python3.7/threading.py\", line 870, in run\n",
      "    self._target(*self._args, **self._kwargs)\n",
      "  File \"/mnt/notebook-env/lib/python3.7/site-packages/awseditorssparkmonitoringwidget-1.0-py3.7.egg/awseditorssparkmonitoringwidget/cellmonitor.py\", line 154, in cell_monitor\n",
      "    job_group_filtered_jobs = [job for job in jobs_data if job['jobGroup'] == str(statement_id)]\n",
      "  File \"/mnt/notebook-env/lib/python3.7/site-packages/awseditorssparkmonitoringwidget-1.0-py3.7.egg/awseditorssparkmonitoringwidget/cellmonitor.py\", line 154, in <listcomp>\n",
      "    job_group_filtered_jobs = [job for job in jobs_data if job['jobGroup'] == str(statement_id)]\n",
      "KeyError: 'jobGroup'\n",
      "\n"
     ]
    }
   ],
   "source": [
    "get_cv_results_list(rf_cv_model)"
   ]
  },
  {
   "cell_type": "markdown",
   "id": "25d6a1f7-e69f-4ff9-833d-e45d9b7f323f",
   "metadata": {},
   "source": [
    "Looks like maxDepth is more important than numTrees -- so could set numTrees to 50 or 100 and be OK"
   ]
  },
  {
   "cell_type": "code",
   "execution_count": 45,
   "id": "6822d87e",
   "metadata": {
    "execution": {
     "iopub.execute_input": "2022-12-02T17:58:50.324122Z",
     "iopub.status.busy": "2022-12-02T17:58:50.323893Z",
     "iopub.status.idle": "2022-12-02T17:58:52.606458Z",
     "shell.execute_reply": "2022-12-02T17:58:52.605705Z",
     "shell.execute_reply.started": "2022-12-02T17:58:50.324099Z"
    },
    "tags": []
   },
   "outputs": [
    {
     "data": {
      "application/vnd.jupyter.widget-view+json": {
       "model_id": "20831f5fca0a4a2fa0ebfd2dfeb7c919",
       "version_major": 2,
       "version_minor": 0
      },
      "text/plain": [
       "VBox()"
      ]
     },
     "metadata": {},
     "output_type": "display_data"
    },
    {
     "data": {
      "application/vnd.jupyter.widget-view+json": {
       "model_id": "",
       "version_major": 2,
       "version_minor": 0
      },
      "text/plain": [
       "FloatProgress(value=0.0, bar_style='info', description='Progress:', layout=Layout(height='25px', width='50%'),…"
      ]
     },
     "metadata": {},
     "output_type": "display_data"
    },
    {
     "name": "stderr",
     "output_type": "stream",
     "text": [
      "Exception in thread cell_monitor-45:\n",
      "Traceback (most recent call last):\n",
      "  File \"/mnt/notebook-env/lib/python3.7/threading.py\", line 926, in _bootstrap_inner\n",
      "    self.run()\n",
      "  File \"/mnt/notebook-env/lib/python3.7/threading.py\", line 870, in run\n",
      "    self._target(*self._args, **self._kwargs)\n",
      "  File \"/mnt/notebook-env/lib/python3.7/site-packages/awseditorssparkmonitoringwidget-1.0-py3.7.egg/awseditorssparkmonitoringwidget/cellmonitor.py\", line 154, in cell_monitor\n",
      "    job_group_filtered_jobs = [job for job in jobs_data if job['jobGroup'] == str(statement_id)]\n",
      "  File \"/mnt/notebook-env/lib/python3.7/site-packages/awseditorssparkmonitoringwidget-1.0-py3.7.egg/awseditorssparkmonitoringwidget/cellmonitor.py\", line 154, in <listcomp>\n",
      "    job_group_filtered_jobs = [job for job in jobs_data if job['jobGroup'] == str(statement_id)]\n",
      "KeyError: 'jobGroup'\n",
      "\n"
     ]
    },
    {
     "name": "stdout",
     "output_type": "stream",
     "text": [
      "+-------+--------------------+\n",
      "| market|                mape|\n",
      "+-------+--------------------+\n",
      "|EWR-LHR|0.015811609564935016|\n",
      "|LHR-JFK|0.018773058458982576|\n",
      "|LHR-EWR|0.019062102237868986|\n",
      "|EWR-CDG|0.021300113325203648|\n",
      "|LAX-SFO| 0.02846503624735155|\n",
      "|SFO-LAX|0.033914739850896505|\n",
      "|JFK-LHR|0.035179532982902655|\n",
      "|LHR-LAX|0.042434450467471484|\n",
      "|LAX-JFK| 0.04459732349711695|\n",
      "|JFK-LAX| 0.04868007486205408|\n",
      "|ATL-EWR|0.052720328846765266|\n",
      "|LAX-EWR| 0.06034662651003775|\n",
      "|LGA-MIA|   0.082259064770822|\n",
      "|OAK-LAS| 0.14206486427769252|\n",
      "+-------+--------------------+"
     ]
    }
   ],
   "source": [
    "pred_rf_cv.groupBy(\"market\").agg(F.mean(\"abs_pct_err\").alias(\"mape\")).orderBy(\"mape\").show()"
   ]
  },
  {
   "cell_type": "markdown",
   "id": "95d8b94b-377c-4030-a9d2-94cd7607da51",
   "metadata": {},
   "source": [
    "## LR"
   ]
  },
  {
   "cell_type": "code",
   "execution_count": 29,
   "id": "600bbe0c-0f98-47bc-8f14-d0ae46b42638",
   "metadata": {
    "execution": {
     "iopub.execute_input": "2022-12-02T17:34:31.257255Z",
     "iopub.status.busy": "2022-12-02T17:34:31.257032Z",
     "iopub.status.idle": "2022-12-02T17:35:47.719606Z",
     "shell.execute_reply": "2022-12-02T17:35:47.718794Z",
     "shell.execute_reply.started": "2022-12-02T17:34:31.257230Z"
    }
   },
   "outputs": [
    {
     "data": {
      "application/vnd.jupyter.widget-view+json": {
       "model_id": "9d142322c1fc496fae985272121c8539",
       "version_major": 2,
       "version_minor": 0
      },
      "text/plain": [
       "VBox()"
      ]
     },
     "metadata": {},
     "output_type": "display_data"
    },
    {
     "data": {
      "application/vnd.jupyter.widget-view+json": {
       "model_id": "",
       "version_major": 2,
       "version_minor": 0
      },
      "text/plain": [
       "FloatProgress(value=0.0, bar_style='info', description='Progress:', layout=Layout(height='25px', width='50%'),…"
      ]
     },
     "metadata": {},
     "output_type": "display_data"
    },
    {
     "name": "stderr",
     "output_type": "stream",
     "text": [
      "Exception in thread cell_monitor-29:\n",
      "Traceback (most recent call last):\n",
      "  File \"/mnt/notebook-env/lib/python3.7/threading.py\", line 926, in _bootstrap_inner\n",
      "    self.run()\n",
      "  File \"/mnt/notebook-env/lib/python3.7/threading.py\", line 870, in run\n",
      "    self._target(*self._args, **self._kwargs)\n",
      "  File \"/mnt/notebook-env/lib/python3.7/site-packages/awseditorssparkmonitoringwidget-1.0-py3.7.egg/awseditorssparkmonitoringwidget/cellmonitor.py\", line 154, in cell_monitor\n",
      "    job_group_filtered_jobs = [job for job in jobs_data if job['jobGroup'] == str(statement_id)]\n",
      "  File \"/mnt/notebook-env/lib/python3.7/site-packages/awseditorssparkmonitoringwidget-1.0-py3.7.egg/awseditorssparkmonitoringwidget/cellmonitor.py\", line 154, in <listcomp>\n",
      "    job_group_filtered_jobs = [job for job in jobs_data if job['jobGroup'] == str(statement_id)]\n",
      "KeyError: 'jobGroup'\n",
      "\n"
     ]
    },
    {
     "name": "stdout",
     "output_type": "stream",
     "text": [
      "+------------------+\n",
      "|              mape|\n",
      "+------------------+\n",
      "|0.0702866120448544|\n",
      "+------------------+\n",
      "\n",
      "None"
     ]
    }
   ],
   "source": [
    "lr_param_grid = (ParamGridBuilder()\n",
    "              # regParam is lambda (weight / factor), elasticNet is alpha (ratio)\n",
    "              # note alpha is the opposite of sklearn's defintion\n",
    "              .addGrid(lin_regression_model.elasticNetParam, [0.01, 0.1, 0.5, 0.9, 0.99])\n",
    "              .addGrid(lin_regression_model.regParam, [0.01, 0.1, 1, 10, 100])\n",
    "              .build()\n",
    "             )\n",
    "\n",
    "lr_cv = CrossValidator(estimator=lin_pipeline,\n",
    "                    estimatorParamMaps=lr_param_grid,\n",
    "                    evaluator=RegressionEvaluator(labelCol=\"fare\"),\n",
    "                    numFolds=3,\n",
    "                    parallelism=5\n",
    "                   )\n",
    "\n",
    "lr_cv_model = lr_cv.fit(train_no_hol)\n",
    "pred_lr_cv = lr_cv_model.transform(test_no_hol)\n",
    "pred_lr_cv = calc_abs_pct_err(pred_lr_cv)"
   ]
  },
  {
   "cell_type": "markdown",
   "id": "023f56fe-4d33-4bcb-afdf-2520bb170fb7",
   "metadata": {},
   "source": [
    "Actually worse than above"
   ]
  },
  {
   "cell_type": "code",
   "execution_count": 31,
   "id": "78f55553-3313-412a-8883-a123d679d4ad",
   "metadata": {
    "execution": {
     "iopub.execute_input": "2022-12-02T17:38:22.707401Z",
     "iopub.status.busy": "2022-12-02T17:38:22.707184Z",
     "iopub.status.idle": "2022-12-02T17:38:22.773998Z",
     "shell.execute_reply": "2022-12-02T17:38:22.773340Z",
     "shell.execute_reply.started": "2022-12-02T17:38:22.707378Z"
    },
    "tags": []
   },
   "outputs": [
    {
     "data": {
      "application/vnd.jupyter.widget-view+json": {
       "model_id": "0810b0a66f02400fb9e0d6eea5b39dc5",
       "version_major": 2,
       "version_minor": 0
      },
      "text/plain": [
       "VBox()"
      ]
     },
     "metadata": {},
     "output_type": "display_data"
    },
    {
     "data": {
      "application/vnd.jupyter.widget-view+json": {
       "model_id": "",
       "version_major": 2,
       "version_minor": 0
      },
      "text/plain": [
       "FloatProgress(value=0.0, bar_style='info', description='Progress:', layout=Layout(height='25px', width='50%'),…"
      ]
     },
     "metadata": {},
     "output_type": "display_data"
    },
    {
     "name": "stdout",
     "output_type": "stream",
     "text": [
      "{'elasticNetParam': 0.01, 'regParam': 0.1} 19.921439570672902\n",
      "{'elasticNetParam': 0.01, 'regParam': 0.1}"
     ]
    },
    {
     "name": "stderr",
     "output_type": "stream",
     "text": [
      "Exception in thread cell_monitor-31:\n",
      "Traceback (most recent call last):\n",
      "  File \"/mnt/notebook-env/lib/python3.7/threading.py\", line 926, in _bootstrap_inner\n",
      "    self.run()\n",
      "  File \"/mnt/notebook-env/lib/python3.7/threading.py\", line 870, in run\n",
      "    self._target(*self._args, **self._kwargs)\n",
      "  File \"/mnt/notebook-env/lib/python3.7/site-packages/awseditorssparkmonitoringwidget-1.0-py3.7.egg/awseditorssparkmonitoringwidget/cellmonitor.py\", line 154, in cell_monitor\n",
      "    job_group_filtered_jobs = [job for job in jobs_data if job['jobGroup'] == str(statement_id)]\n",
      "  File \"/mnt/notebook-env/lib/python3.7/site-packages/awseditorssparkmonitoringwidget-1.0-py3.7.egg/awseditorssparkmonitoringwidget/cellmonitor.py\", line 154, in <listcomp>\n",
      "    job_group_filtered_jobs = [job for job in jobs_data if job['jobGroup'] == str(statement_id)]\n",
      "KeyError: 'jobGroup'\n",
      "\n"
     ]
    }
   ],
   "source": [
    "get_best_from_cv(lr_cv_model)"
   ]
  },
  {
   "cell_type": "code",
   "execution_count": 32,
   "id": "3d3639d2-80cd-4057-af29-550415b72dc8",
   "metadata": {
    "execution": {
     "iopub.execute_input": "2022-12-02T17:38:29.259921Z",
     "iopub.status.busy": "2022-12-02T17:38:29.259674Z",
     "iopub.status.idle": "2022-12-02T17:38:29.466177Z",
     "shell.execute_reply": "2022-12-02T17:38:29.463605Z",
     "shell.execute_reply.started": "2022-12-02T17:38:29.259894Z"
    }
   },
   "outputs": [
    {
     "data": {
      "application/vnd.jupyter.widget-view+json": {
       "model_id": "0e28cee009134790808d57a4b598f60f",
       "version_major": 2,
       "version_minor": 0
      },
      "text/plain": [
       "VBox()"
      ]
     },
     "metadata": {},
     "output_type": "display_data"
    },
    {
     "data": {
      "application/vnd.jupyter.widget-view+json": {
       "model_id": "",
       "version_major": 2,
       "version_minor": 0
      },
      "text/plain": [
       "FloatProgress(value=0.0, bar_style='info', description='Progress:', layout=Layout(height='25px', width='50%'),…"
      ]
     },
     "metadata": {},
     "output_type": "display_data"
    },
    {
     "name": "stdout",
     "output_type": "stream",
     "text": [
      "{'elasticNetParam': 0.01, 'regParam': 0.01} 20.33374745615661\n",
      "{'elasticNetParam': 0.01, 'regParam': 0.1} 19.921439570672902\n",
      "{'elasticNetParam': 0.01, 'regParam': 1.0} 20.106381844114868\n",
      "{'elasticNetParam': 0.01, 'regParam': 10.0} 21.223565888160948\n",
      "{'elasticNetParam': 0.01, 'regParam': 100.0} 26.15946292202313\n",
      "{'elasticNetParam': 0.1, 'regParam': 0.01} 19.929083900557327\n",
      "{'elasticNetParam': 0.1, 'regParam': 0.1} 20.43450844156545\n",
      "{'elasticNetParam': 0.1, 'regParam': 1.0} 20.361612158286427\n",
      "{'elasticNetParam': 0.1, 'regParam': 10.0} 21.14601936556225\n",
      "{'elasticNetParam': 0.1, 'regParam': 100.0} 30.21174862056361\n",
      "{'elasticNetParam': 0.5, 'regParam': 0.01} 19.927766074112903\n",
      "{'elasticNetParam': 0.5, 'regParam': 0.1} 20.23516065162236\n",
      "{'elasticNetParam': 0.5, 'regParam': 1.0} 20.030397193777635\n",
      "{'elasticNetParam': 0.5, 'regParam': 10.0} 21.24320146073316\n",
      "{'elasticNetParam': 0.5, 'regParam': 100.0} 59.34775957401261\n",
      "{'elasticNetParam': 0.9, 'regParam': 0.01} 20.466928790602815\n",
      "{'elasticNetParam': 0.9, 'regParam': 0.1} 20.426376965701266\n",
      "{'elasticNetParam': 0.9, 'regParam': 1.0} 20.51196984581776\n",
      "{'elasticNetParam': 0.9, 'regParam': 10.0} 22.906610268009047\n",
      "{'elasticNetParam': 0.9, 'regParam': 100.0} 93.2323035877677\n",
      "{'elasticNetParam': 0.99, 'regParam': 0.01} 20.46606570290512\n",
      "{'elasticNetParam': 0.99, 'regParam': 0.1} 20.4234075797621\n",
      "{'elasticNetParam': 0.99, 'regParam': 1.0} 20.212477353152625\n",
      "{'elasticNetParam': 0.99, 'regParam': 10.0} 23.797087798416232\n",
      "{'elasticNetParam': 0.99, 'regParam': 100.0} 101.29648613447259\n",
      "[({'elasticNetParam': 0.01, 'regParam': 0.01}, 20.33374745615661), ({'elasticNetParam': 0.01, 'regParam': 0.1}, 19.921439570672902), ({'elasticNetParam': 0.01, 'regParam': 1.0}, 20.106381844114868), ({'elasticNetParam': 0.01, 'regParam': 10.0}, 21.223565888160948), ({'elasticNetParam': 0.01, 'regParam': 100.0}, 26.15946292202313), ({'elasticNetParam': 0.1, 'regParam': 0.01}, 19.929083900557327), ({'elasticNetParam': 0.1, 'regParam': 0.1}, 20.43450844156545), ({'elasticNetParam': 0.1, 'regParam': 1.0}, 20.361612158286427), ({'elasticNetParam': 0.1, 'regParam': 10.0}, 21.14601936556225), ({'elasticNetParam': 0.1, 'regParam': 100.0}, 30.21174862056361), ({'elasticNetParam': 0.5, 'regParam': 0.01}, 19.927766074112903), ({'elasticNetParam': 0.5, 'regParam': 0.1}, 20.23516065162236), ({'elasticNetParam': 0.5, 'regParam': 1.0}, 20.030397193777635), ({'elasticNetParam': 0.5, 'regParam': 10.0}, 21.24320146073316), ({'elasticNetParam': 0.5, 'regParam': 100.0}, 59.34775957401261), ({'elasticNetParam': 0.9, 'regParam': 0.01}, 20.466928790602815), ({'elasticNetParam': 0.9, 'regParam': 0.1}, 20.426376965701266), ({'elasticNetParam': 0.9, 'regParam': 1.0}, 20.51196984581776), ({'elasticNetParam': 0.9, 'regParam': 10.0}, 22.906610268009047), ({'elasticNetParam': 0.9, 'regParam': 100.0}, 93.2323035877677), ({'elasticNetParam': 0.99, 'regParam': 0.01}, 20.46606570290512), ({'elasticNetParam': 0.99, 'regParam': 0.1}, 20.4234075797621), ({'elasticNetParam': 0.99, 'regParam': 1.0}, 20.212477353152625), ({'elasticNetParam': 0.99, 'regParam': 10.0}, 23.797087798416232), ({'elasticNetParam': 0.99, 'regParam': 100.0}, 101.29648613447259)]"
     ]
    },
    {
     "name": "stderr",
     "output_type": "stream",
     "text": [
      "Exception in thread cell_monitor-32:\n",
      "Traceback (most recent call last):\n",
      "  File \"/mnt/notebook-env/lib/python3.7/threading.py\", line 926, in _bootstrap_inner\n",
      "    self.run()\n",
      "  File \"/mnt/notebook-env/lib/python3.7/threading.py\", line 870, in run\n",
      "    self._target(*self._args, **self._kwargs)\n",
      "  File \"/mnt/notebook-env/lib/python3.7/site-packages/awseditorssparkmonitoringwidget-1.0-py3.7.egg/awseditorssparkmonitoringwidget/cellmonitor.py\", line 154, in cell_monitor\n",
      "    job_group_filtered_jobs = [job for job in jobs_data if job['jobGroup'] == str(statement_id)]\n",
      "  File \"/mnt/notebook-env/lib/python3.7/site-packages/awseditorssparkmonitoringwidget-1.0-py3.7.egg/awseditorssparkmonitoringwidget/cellmonitor.py\", line 154, in <listcomp>\n",
      "    job_group_filtered_jobs = [job for job in jobs_data if job['jobGroup'] == str(statement_id)]\n",
      "KeyError: 'jobGroup'\n",
      "\n"
     ]
    }
   ],
   "source": [
    "get_cv_results_list(lr_cv_model)"
   ]
  },
  {
   "cell_type": "markdown",
   "id": "f924e752-9f96-4e3c-b9f1-46dae617b3d6",
   "metadata": {},
   "source": [
    "Most ~19-20, except for a few"
   ]
  },
  {
   "cell_type": "markdown",
   "id": "f44d5654-fbe7-42ac-bf71-e312e4b79dfe",
   "metadata": {},
   "source": [
    "# feature importances"
   ]
  },
  {
   "cell_type": "code",
   "execution_count": 41,
   "id": "d2560bb9-6f2b-40b9-9ff0-c4e65361284f",
   "metadata": {
    "execution": {
     "iopub.execute_input": "2022-12-02T17:43:02.438147Z",
     "iopub.status.busy": "2022-12-02T17:43:02.437886Z",
     "iopub.status.idle": "2022-12-02T17:43:09.747215Z",
     "shell.execute_reply": "2022-12-02T17:43:09.746640Z",
     "shell.execute_reply.started": "2022-12-02T17:43:02.438114Z"
    }
   },
   "outputs": [
    {
     "data": {
      "application/vnd.jupyter.widget-view+json": {
       "model_id": "5a9b6bd1b48c4b9db2e0599a76437d95",
       "version_major": 2,
       "version_minor": 0
      },
      "text/plain": [
       "VBox()"
      ]
     },
     "metadata": {},
     "output_type": "display_data"
    },
    {
     "data": {
      "application/vnd.jupyter.widget-view+json": {
       "model_id": "",
       "version_major": 2,
       "version_minor": 0
      },
      "text/plain": [
       "FloatProgress(value=0.0, bar_style='info', description='Progress:', layout=Layout(height='25px', width='50%'),…"
      ]
     },
     "metadata": {},
     "output_type": "display_data"
    },
    {
     "name": "stderr",
     "output_type": "stream",
     "text": [
      "Exception in thread cell_monitor-41:\n",
      "Traceback (most recent call last):\n",
      "  File \"/mnt/notebook-env/lib/python3.7/threading.py\", line 926, in _bootstrap_inner\n",
      "    self.run()\n",
      "  File \"/mnt/notebook-env/lib/python3.7/threading.py\", line 870, in run\n",
      "    self._target(*self._args, **self._kwargs)\n",
      "  File \"/mnt/notebook-env/lib/python3.7/site-packages/awseditorssparkmonitoringwidget-1.0-py3.7.egg/awseditorssparkmonitoringwidget/cellmonitor.py\", line 154, in cell_monitor\n",
      "    job_group_filtered_jobs = [job for job in jobs_data if job['jobGroup'] == str(statement_id)]\n",
      "  File \"/mnt/notebook-env/lib/python3.7/site-packages/awseditorssparkmonitoringwidget-1.0-py3.7.egg/awseditorssparkmonitoringwidget/cellmonitor.py\", line 154, in <listcomp>\n",
      "    job_group_filtered_jobs = [job for job in jobs_data if job['jobGroup'] == str(statement_id)]\n",
      "KeyError: 'jobGroup'\n",
      "\n"
     ]
    }
   ],
   "source": [
    "import matplotlib.pyplot as plt"
   ]
  },
  {
   "cell_type": "code",
   "execution_count": 37,
   "id": "bbef6a4e-e2ed-40f6-bc22-d465d2ee6d78",
   "metadata": {
    "execution": {
     "iopub.execute_input": "2022-12-02T17:41:36.911773Z",
     "iopub.status.busy": "2022-12-02T17:41:36.911446Z",
     "iopub.status.idle": "2022-12-02T17:41:36.987212Z",
     "shell.execute_reply": "2022-12-02T17:41:36.986451Z",
     "shell.execute_reply.started": "2022-12-02T17:41:36.911734Z"
    },
    "tags": []
   },
   "outputs": [
    {
     "data": {
      "application/vnd.jupyter.widget-view+json": {
       "model_id": "4ffa60593d12468992126dcaf86c65c1",
       "version_major": 2,
       "version_minor": 0
      },
      "text/plain": [
       "VBox()"
      ]
     },
     "metadata": {},
     "output_type": "display_data"
    },
    {
     "data": {
      "application/vnd.jupyter.widget-view+json": {
       "model_id": "",
       "version_major": 2,
       "version_minor": 0
      },
      "text/plain": [
       "FloatProgress(value=0.0, bar_style='info', description='Progress:', layout=Layout(height='25px', width='50%'),…"
      ]
     },
     "metadata": {},
     "output_type": "display_data"
    },
    {
     "name": "stderr",
     "output_type": "stream",
     "text": [
      "Exception in thread cell_monitor-37:\n",
      "Traceback (most recent call last):\n",
      "  File \"/mnt/notebook-env/lib/python3.7/threading.py\", line 926, in _bootstrap_inner\n",
      "    self.run()\n",
      "  File \"/mnt/notebook-env/lib/python3.7/threading.py\", line 870, in run\n",
      "    self._target(*self._args, **self._kwargs)\n",
      "  File \"/mnt/notebook-env/lib/python3.7/site-packages/awseditorssparkmonitoringwidget-1.0-py3.7.egg/awseditorssparkmonitoringwidget/cellmonitor.py\", line 154, in cell_monitor\n",
      "    job_group_filtered_jobs = [job for job in jobs_data if job['jobGroup'] == str(statement_id)]\n",
      "  File \"/mnt/notebook-env/lib/python3.7/site-packages/awseditorssparkmonitoringwidget-1.0-py3.7.egg/awseditorssparkmonitoringwidget/cellmonitor.py\", line 154, in <listcomp>\n",
      "    job_group_filtered_jobs = [job for job in jobs_data if job['jobGroup'] == str(statement_id)]\n",
      "KeyError: 'jobGroup'\n",
      "\n"
     ]
    }
   ],
   "source": [
    "def get_feature_importances(pipeline_model, is_cross_val_model, print_imps=True):\n",
    "    \"\"\"\n",
    "    pipeline_model: fitted pipeline. Assumes last stage is an ML model\n",
    "        that has `.featureImportances` attribue, and penultimate stage \n",
    "        is a VectorAssembler whose `inputCols` are feature names\n",
    "    is_cross_val_model (bool): whether `pipeline_model` is a \n",
    "        CrossValidatorModel\n",
    "    print (bool): whether to print out the sorted list of feature\n",
    "        importances\n",
    "    \"\"\"\n",
    "    # FEATURE IMPORTANCE\n",
    "    if is_cross_val_model:\n",
    "        best_pipeline = pipeline_model.bestModel\n",
    "        # va = vector assembler; assumed to be stage just before ML algo,\n",
    "        # which has feature names\n",
    "        va = best_pipeline.stages[-2]\n",
    "        algo = best_pipeline.stages[-1]\n",
    "    else:\n",
    "        va = pipeline_model.stages[-2]\n",
    "        algo = pipeline_model.stages[-1]\n",
    "\n",
    "    feat_imps = list(zip(va.getInputCols(), algo.featureImportances))\n",
    "\n",
    "\n",
    "    feat_imps.sort(key=lambda x: x[1], reverse=True)\n",
    "    if print_imps:\n",
    "        for x in feat_imps:\n",
    "            print(x)\n",
    "    return feat_imps\n",
    "\n",
    "def plot_feature_impts(feat_imps, file_name, plot_title):\n",
    "    \"\"\"\n",
    "    feat_imps: list of tuples of (feature name, feature importance)\n",
    "    \"\"\"\n",
    "    xs = range(len(feat_imps))\n",
    "    plt.figure(figsize=(8,6))\n",
    "    plt.bar(xs, [x[1] for x in feat_imps])\n",
    "    plt.xticks(xs, [x[0] for x in feat_imps], rotation=90)\n",
    "    plt.ylabel(\"feature importance\")\n",
    "    plt.title(plot_title)\n",
    "    plt.tight_layout()\n",
    "    plt.savefig(f\"/tmp/{file_name}.png\")"
   ]
  },
  {
   "cell_type": "code",
   "execution_count": 38,
   "id": "75397310-8cf5-437d-8137-4d6f629954c4",
   "metadata": {
    "execution": {
     "iopub.execute_input": "2022-12-02T17:41:40.143359Z",
     "iopub.status.busy": "2022-12-02T17:41:40.143134Z",
     "iopub.status.idle": "2022-12-02T17:41:40.440442Z",
     "shell.execute_reply": "2022-12-02T17:41:40.439713Z",
     "shell.execute_reply.started": "2022-12-02T17:41:40.143335Z"
    },
    "tags": []
   },
   "outputs": [
    {
     "data": {
      "application/vnd.jupyter.widget-view+json": {
       "model_id": "6368a1ec437247c08c6a830fc2543a22",
       "version_major": 2,
       "version_minor": 0
      },
      "text/plain": [
       "VBox()"
      ]
     },
     "metadata": {},
     "output_type": "display_data"
    },
    {
     "data": {
      "application/vnd.jupyter.widget-view+json": {
       "model_id": "",
       "version_major": 2,
       "version_minor": 0
      },
      "text/plain": [
       "FloatProgress(value=0.0, bar_style='info', description='Progress:', layout=Layout(height='25px', width='50%'),…"
      ]
     },
     "metadata": {},
     "output_type": "display_data"
    },
    {
     "name": "stdout",
     "output_type": "stream",
     "text": [
      "('fare_prev_shop_day', 0.3113814012233963)\n",
      "('trailing_avg_fare', 0.25049541602749226)\n",
      "('fr2_fare_prev_shop_day', 0.1485442479832904)\n",
      "('est_fare_from_next_dept_day', 0.09075394027178695)\n",
      "('est_fare_from_prev_dept_day', 0.06855169966705582)\n",
      "('fare_prev_dept_day', 0.06287087219811671)\n",
      "('fare_next_dept_day', 0.04086388909387464)\n",
      "('avg_fare_dtd', 0.016054167284942168)\n",
      "('avg_out_avail_max_prev_shop_day', 0.00215132829993096)\n",
      "('days_til_dept', 0.001577829228033702)\n",
      "('trailing_avg_solution_counts', 0.0013338665995732376)\n",
      "('trailing_std_fare', 0.0009053506814738132)\n",
      "('num_itin_prev_shop_day', 0.0007870914510034137)\n",
      "('trailing_avg_shop_counts', 0.0007732651422761094)\n",
      "('dept_dt_dow_int', 0.0007500224969305588)\n",
      "('fr1_fr2_out_cxrs_overlap', 0.0006952594302412524)\n",
      "('solution_counts_prev_shop_day', 0.0005848354645387028)\n",
      "('shop_counts_prev_shop_day', 0.0005764045335395285)\n",
      "('fr1_fr2_out_cxrs_same', 0.00023070321090940397)\n",
      "('avg_out_avail_low_prev_shop_day', 0.00011840971159421579)\n",
      "('is_holiday', 0.0)"
     ]
    },
    {
     "name": "stderr",
     "output_type": "stream",
     "text": [
      "Exception in thread cell_monitor-39:\n",
      "Traceback (most recent call last):\n",
      "  File \"/mnt/notebook-env/lib/python3.7/threading.py\", line 926, in _bootstrap_inner\n",
      "    self.run()\n",
      "  File \"/mnt/notebook-env/lib/python3.7/threading.py\", line 870, in run\n",
      "    self._target(*self._args, **self._kwargs)\n",
      "  File \"/mnt/notebook-env/lib/python3.7/site-packages/awseditorssparkmonitoringwidget-1.0-py3.7.egg/awseditorssparkmonitoringwidget/cellmonitor.py\", line 154, in cell_monitor\n",
      "    job_group_filtered_jobs = [job for job in jobs_data if job['jobGroup'] == str(statement_id)]\n",
      "  File \"/mnt/notebook-env/lib/python3.7/site-packages/awseditorssparkmonitoringwidget-1.0-py3.7.egg/awseditorssparkmonitoringwidget/cellmonitor.py\", line 154, in <listcomp>\n",
      "    job_group_filtered_jobs = [job for job in jobs_data if job['jobGroup'] == str(statement_id)]\n",
      "KeyError: 'jobGroup'\n",
      "\n"
     ]
    }
   ],
   "source": [
    "rf_feat_imps = get_feature_importances(rf_cv_model, True, print_imps=True)"
   ]
  },
  {
   "cell_type": "code",
   "execution_count": 42,
   "id": "cf34670c-6202-4060-975a-273359a8ab0a",
   "metadata": {
    "execution": {
     "iopub.execute_input": "2022-12-02T17:43:09.748716Z",
     "iopub.status.busy": "2022-12-02T17:43:09.748464Z",
     "iopub.status.idle": "2022-12-02T17:43:10.533309Z",
     "shell.execute_reply": "2022-12-02T17:43:10.532666Z",
     "shell.execute_reply.started": "2022-12-02T17:43:09.748681Z"
    },
    "tags": []
   },
   "outputs": [
    {
     "data": {
      "application/vnd.jupyter.widget-view+json": {
       "model_id": "2a8744d1663d49ea9d35288c6d71ed56",
       "version_major": 2,
       "version_minor": 0
      },
      "text/plain": [
       "VBox()"
      ]
     },
     "metadata": {},
     "output_type": "display_data"
    },
    {
     "data": {
      "application/vnd.jupyter.widget-view+json": {
       "model_id": "",
       "version_major": 2,
       "version_minor": 0
      },
      "text/plain": [
       "FloatProgress(value=0.0, bar_style='info', description='Progress:', layout=Layout(height='25px', width='50%'),…"
      ]
     },
     "metadata": {},
     "output_type": "display_data"
    },
    {
     "name": "stderr",
     "output_type": "stream",
     "text": [
      "Exception in thread cell_monitor-42:\n",
      "Traceback (most recent call last):\n",
      "  File \"/mnt/notebook-env/lib/python3.7/threading.py\", line 926, in _bootstrap_inner\n",
      "    self.run()\n",
      "  File \"/mnt/notebook-env/lib/python3.7/threading.py\", line 870, in run\n",
      "    self._target(*self._args, **self._kwargs)\n",
      "  File \"/mnt/notebook-env/lib/python3.7/site-packages/awseditorssparkmonitoringwidget-1.0-py3.7.egg/awseditorssparkmonitoringwidget/cellmonitor.py\", line 154, in cell_monitor\n",
      "    job_group_filtered_jobs = [job for job in jobs_data if job['jobGroup'] == str(statement_id)]\n",
      "  File \"/mnt/notebook-env/lib/python3.7/site-packages/awseditorssparkmonitoringwidget-1.0-py3.7.egg/awseditorssparkmonitoringwidget/cellmonitor.py\", line 154, in <listcomp>\n",
      "    job_group_filtered_jobs = [job for job in jobs_data if job['jobGroup'] == str(statement_id)]\n",
      "KeyError: 'jobGroup'\n",
      "\n"
     ]
    }
   ],
   "source": [
    "plot_feature_impts(rf_feat_imps, 'rf-tuned-fixed-data', \"Random Forest - Feature Importances\")"
   ]
  },
  {
   "cell_type": "code",
   "execution_count": null,
   "id": "7725ac28-b238-4697-ae61-f67dee67f271",
   "metadata": {},
   "outputs": [],
   "source": []
  },
  {
   "cell_type": "markdown",
   "id": "cbe82a16",
   "metadata": {},
   "source": [
    "##"
   ]
  },
  {
   "cell_type": "code",
   "execution_count": null,
   "id": "2314c493-497f-4570-83f4-ee0bcbf96425",
   "metadata": {},
   "outputs": [],
   "source": [
    "# rf_cv_model = rf_cv.fit(train_no_hol)\n",
    "# pred_rf_cv = rf_cv_model.transform(test_no_hol)\n",
    "# pred_rf_cv = calc_abs_pct_err(pred_rf_cv)"
   ]
  },
  {
   "cell_type": "markdown",
   "id": "6d8c45d5",
   "metadata": {},
   "source": [
    "# save errors"
   ]
  },
  {
   "cell_type": "code",
   "execution_count": 46,
   "id": "0c21edb1-9386-4af5-a5ea-df6f825189f7",
   "metadata": {
    "execution": {
     "iopub.execute_input": "2022-12-02T17:59:18.260537Z",
     "iopub.status.busy": "2022-12-02T17:59:18.260314Z",
     "iopub.status.idle": "2022-12-02T17:59:18.521476Z",
     "shell.execute_reply": "2022-12-02T17:59:18.520801Z",
     "shell.execute_reply.started": "2022-12-02T17:59:18.260515Z"
    }
   },
   "outputs": [
    {
     "data": {
      "application/vnd.jupyter.widget-view+json": {
       "model_id": "6800b718b33d47569a30f28346920332",
       "version_major": 2,
       "version_minor": 0
      },
      "text/plain": [
       "VBox()"
      ]
     },
     "metadata": {},
     "output_type": "display_data"
    },
    {
     "data": {
      "application/vnd.jupyter.widget-view+json": {
       "model_id": "",
       "version_major": 2,
       "version_minor": 0
      },
      "text/plain": [
       "FloatProgress(value=0.0, bar_style='info', description='Progress:', layout=Layout(height='25px', width='50%'),…"
      ]
     },
     "metadata": {},
     "output_type": "display_data"
    },
    {
     "name": "stderr",
     "output_type": "stream",
     "text": [
      "Exception in thread cell_monitor-46:\n",
      "Traceback (most recent call last):\n",
      "  File \"/mnt/notebook-env/lib/python3.7/threading.py\", line 926, in _bootstrap_inner\n",
      "    self.run()\n",
      "  File \"/mnt/notebook-env/lib/python3.7/threading.py\", line 870, in run\n",
      "    self._target(*self._args, **self._kwargs)\n",
      "  File \"/mnt/notebook-env/lib/python3.7/site-packages/awseditorssparkmonitoringwidget-1.0-py3.7.egg/awseditorssparkmonitoringwidget/cellmonitor.py\", line 154, in cell_monitor\n",
      "    job_group_filtered_jobs = [job for job in jobs_data if job['jobGroup'] == str(statement_id)]\n",
      "  File \"/mnt/notebook-env/lib/python3.7/site-packages/awseditorssparkmonitoringwidget-1.0-py3.7.egg/awseditorssparkmonitoringwidget/cellmonitor.py\", line 154, in <listcomp>\n",
      "    job_group_filtered_jobs = [job for job in jobs_data if job['jobGroup'] == str(statement_id)]\n",
      "KeyError: 'jobGroup'\n",
      "\n"
     ]
    }
   ],
   "source": [
    "pred_rf_cv = pred_rf_cv.withColumn(\"data_split\", F.lit(\"test\"))"
   ]
  },
  {
   "cell_type": "code",
   "execution_count": 47,
   "id": "4d5bc807-3d90-40d9-9d90-34b503affaf1",
   "metadata": {
    "execution": {
     "iopub.execute_input": "2022-12-02T17:59:36.615995Z",
     "iopub.status.busy": "2022-12-02T17:59:36.615766Z",
     "iopub.status.idle": "2022-12-02T17:59:37.885232Z",
     "shell.execute_reply": "2022-12-02T17:59:37.884532Z",
     "shell.execute_reply.started": "2022-12-02T17:59:36.615971Z"
    }
   },
   "outputs": [
    {
     "data": {
      "application/vnd.jupyter.widget-view+json": {
       "model_id": "5ceb06a9c2424080806a836e8599519f",
       "version_major": 2,
       "version_minor": 0
      },
      "text/plain": [
       "VBox()"
      ]
     },
     "metadata": {},
     "output_type": "display_data"
    },
    {
     "data": {
      "application/vnd.jupyter.widget-view+json": {
       "model_id": "",
       "version_major": 2,
       "version_minor": 0
      },
      "text/plain": [
       "FloatProgress(value=0.0, bar_style='info', description='Progress:', layout=Layout(height='25px', width='50%'),…"
      ]
     },
     "metadata": {},
     "output_type": "display_data"
    },
    {
     "name": "stderr",
     "output_type": "stream",
     "text": [
      "Exception in thread cell_monitor-47:\n",
      "Traceback (most recent call last):\n",
      "  File \"/mnt/notebook-env/lib/python3.7/threading.py\", line 926, in _bootstrap_inner\n",
      "    self.run()\n",
      "  File \"/mnt/notebook-env/lib/python3.7/threading.py\", line 870, in run\n",
      "    self._target(*self._args, **self._kwargs)\n",
      "  File \"/mnt/notebook-env/lib/python3.7/site-packages/awseditorssparkmonitoringwidget-1.0-py3.7.egg/awseditorssparkmonitoringwidget/cellmonitor.py\", line 154, in cell_monitor\n",
      "    job_group_filtered_jobs = [job for job in jobs_data if job['jobGroup'] == str(statement_id)]\n",
      "  File \"/mnt/notebook-env/lib/python3.7/site-packages/awseditorssparkmonitoringwidget-1.0-py3.7.egg/awseditorssparkmonitoringwidget/cellmonitor.py\", line 154, in <listcomp>\n",
      "    job_group_filtered_jobs = [job for job in jobs_data if job['jobGroup'] == str(statement_id)]\n",
      "KeyError: 'jobGroup'\n",
      "\n"
     ]
    }
   ],
   "source": [
    "train_pred_rf_cv = rf_cv_model.transform(train_no_hol)"
   ]
  },
  {
   "cell_type": "code",
   "execution_count": 48,
   "id": "24166d0c-437a-472e-be9a-cbcceee47e25",
   "metadata": {
    "execution": {
     "iopub.execute_input": "2022-12-02T17:59:56.373125Z",
     "iopub.status.busy": "2022-12-02T17:59:56.372902Z",
     "iopub.status.idle": "2022-12-02T18:00:07.695047Z",
     "shell.execute_reply": "2022-12-02T18:00:07.694329Z",
     "shell.execute_reply.started": "2022-12-02T17:59:56.373101Z"
    },
    "tags": []
   },
   "outputs": [
    {
     "data": {
      "application/vnd.jupyter.widget-view+json": {
       "model_id": "e60c9973d0d1402884771518abfe84de",
       "version_major": 2,
       "version_minor": 0
      },
      "text/plain": [
       "VBox()"
      ]
     },
     "metadata": {},
     "output_type": "display_data"
    },
    {
     "data": {
      "application/vnd.jupyter.widget-view+json": {
       "model_id": "",
       "version_major": 2,
       "version_minor": 0
      },
      "text/plain": [
       "FloatProgress(value=0.0, bar_style='info', description='Progress:', layout=Layout(height='25px', width='50%'),…"
      ]
     },
     "metadata": {},
     "output_type": "display_data"
    },
    {
     "name": "stderr",
     "output_type": "stream",
     "text": [
      "Exception in thread cell_monitor-48:\n",
      "Traceback (most recent call last):\n",
      "  File \"/mnt/notebook-env/lib/python3.7/threading.py\", line 926, in _bootstrap_inner\n",
      "    self.run()\n",
      "  File \"/mnt/notebook-env/lib/python3.7/threading.py\", line 870, in run\n",
      "    self._target(*self._args, **self._kwargs)\n",
      "  File \"/mnt/notebook-env/lib/python3.7/site-packages/awseditorssparkmonitoringwidget-1.0-py3.7.egg/awseditorssparkmonitoringwidget/cellmonitor.py\", line 154, in cell_monitor\n",
      "    job_group_filtered_jobs = [job for job in jobs_data if job['jobGroup'] == str(statement_id)]\n",
      "  File \"/mnt/notebook-env/lib/python3.7/site-packages/awseditorssparkmonitoringwidget-1.0-py3.7.egg/awseditorssparkmonitoringwidget/cellmonitor.py\", line 154, in <listcomp>\n",
      "    job_group_filtered_jobs = [job for job in jobs_data if job['jobGroup'] == str(statement_id)]\n",
      "KeyError: 'jobGroup'\n",
      "\n"
     ]
    },
    {
     "name": "stdout",
     "output_type": "stream",
     "text": [
      "+-------------------+\n",
      "|               mape|\n",
      "+-------------------+\n",
      "|0.03701797054042594|\n",
      "+-------------------+\n",
      "\n",
      "None"
     ]
    }
   ],
   "source": [
    "train_pred_rf_cv = calc_abs_pct_err(train_pred_rf_cv)"
   ]
  },
  {
   "cell_type": "code",
   "execution_count": 49,
   "id": "f3675320-4495-47e0-bb65-9b64cc306cec",
   "metadata": {
    "execution": {
     "iopub.execute_input": "2022-12-02T18:00:17.249438Z",
     "iopub.status.busy": "2022-12-02T18:00:17.249107Z",
     "iopub.status.idle": "2022-12-02T18:00:17.377120Z",
     "shell.execute_reply": "2022-12-02T18:00:17.376551Z",
     "shell.execute_reply.started": "2022-12-02T18:00:17.249397Z"
    }
   },
   "outputs": [
    {
     "data": {
      "application/vnd.jupyter.widget-view+json": {
       "model_id": "59ebf65fdd25467b8bc4d9f6a9ce2101",
       "version_major": 2,
       "version_minor": 0
      },
      "text/plain": [
       "VBox()"
      ]
     },
     "metadata": {},
     "output_type": "display_data"
    },
    {
     "data": {
      "application/vnd.jupyter.widget-view+json": {
       "model_id": "",
       "version_major": 2,
       "version_minor": 0
      },
      "text/plain": [
       "FloatProgress(value=0.0, bar_style='info', description='Progress:', layout=Layout(height='25px', width='50%'),…"
      ]
     },
     "metadata": {},
     "output_type": "display_data"
    },
    {
     "name": "stderr",
     "output_type": "stream",
     "text": [
      "Exception in thread cell_monitor-49:\n",
      "Traceback (most recent call last):\n",
      "  File \"/mnt/notebook-env/lib/python3.7/threading.py\", line 926, in _bootstrap_inner\n",
      "    self.run()\n",
      "  File \"/mnt/notebook-env/lib/python3.7/threading.py\", line 870, in run\n",
      "    self._target(*self._args, **self._kwargs)\n",
      "  File \"/mnt/notebook-env/lib/python3.7/site-packages/awseditorssparkmonitoringwidget-1.0-py3.7.egg/awseditorssparkmonitoringwidget/cellmonitor.py\", line 154, in cell_monitor\n",
      "    job_group_filtered_jobs = [job for job in jobs_data if job['jobGroup'] == str(statement_id)]\n",
      "  File \"/mnt/notebook-env/lib/python3.7/site-packages/awseditorssparkmonitoringwidget-1.0-py3.7.egg/awseditorssparkmonitoringwidget/cellmonitor.py\", line 154, in <listcomp>\n",
      "    job_group_filtered_jobs = [job for job in jobs_data if job['jobGroup'] == str(statement_id)]\n",
      "KeyError: 'jobGroup'\n",
      "\n"
     ]
    }
   ],
   "source": [
    "train_pred_rf_cv = train_pred_rf_cv.withColumn(\"data_split\", F.lit(\"train\"))"
   ]
  },
  {
   "cell_type": "code",
   "execution_count": 52,
   "id": "205652bf-aa87-4f14-8161-bbfd8200696a",
   "metadata": {
    "execution": {
     "iopub.execute_input": "2022-12-02T18:02:23.270348Z",
     "iopub.status.busy": "2022-12-02T18:02:23.270112Z",
     "iopub.status.idle": "2022-12-02T18:02:23.327396Z",
     "shell.execute_reply": "2022-12-02T18:02:23.326609Z",
     "shell.execute_reply.started": "2022-12-02T18:02:23.270323Z"
    },
    "tags": []
   },
   "outputs": [
    {
     "data": {
      "application/vnd.jupyter.widget-view+json": {
       "model_id": "5238f5d3ec0742d3a0967ee8bfbb1874",
       "version_major": 2,
       "version_minor": 0
      },
      "text/plain": [
       "VBox()"
      ]
     },
     "metadata": {},
     "output_type": "display_data"
    },
    {
     "data": {
      "application/vnd.jupyter.widget-view+json": {
       "model_id": "",
       "version_major": 2,
       "version_minor": 0
      },
      "text/plain": [
       "FloatProgress(value=0.0, bar_style='info', description='Progress:', layout=Layout(height='25px', width='50%'),…"
      ]
     },
     "metadata": {},
     "output_type": "display_data"
    },
    {
     "name": "stderr",
     "output_type": "stream",
     "text": [
      "Exception in thread cell_monitor-52:\n",
      "Traceback (most recent call last):\n",
      "  File \"/mnt/notebook-env/lib/python3.7/threading.py\", line 926, in _bootstrap_inner\n",
      "    self.run()\n",
      "  File \"/mnt/notebook-env/lib/python3.7/threading.py\", line 870, in run\n",
      "    self._target(*self._args, **self._kwargs)\n",
      "  File \"/mnt/notebook-env/lib/python3.7/site-packages/awseditorssparkmonitoringwidget-1.0-py3.7.egg/awseditorssparkmonitoringwidget/cellmonitor.py\", line 154, in cell_monitor\n",
      "    job_group_filtered_jobs = [job for job in jobs_data if job['jobGroup'] == str(statement_id)]\n",
      "  File \"/mnt/notebook-env/lib/python3.7/site-packages/awseditorssparkmonitoringwidget-1.0-py3.7.egg/awseditorssparkmonitoringwidget/cellmonitor.py\", line 154, in <listcomp>\n",
      "    job_group_filtered_jobs = [job for job in jobs_data if job['jobGroup'] == str(statement_id)]\n",
      "KeyError: 'jobGroup'\n",
      "\n"
     ]
    }
   ],
   "source": [
    "combined_pred_df = pred_rf_cv.union(train_pred_rf_cv)"
   ]
  },
  {
   "cell_type": "code",
   "execution_count": 51,
   "id": "b1ac5e83-0c0e-4825-9e33-4e570d5ca138",
   "metadata": {
    "execution": {
     "iopub.execute_input": "2022-12-02T18:01:29.731756Z",
     "iopub.status.busy": "2022-12-02T18:01:29.731509Z",
     "iopub.status.idle": "2022-12-02T18:01:41.074232Z",
     "shell.execute_reply": "2022-12-02T18:01:41.073403Z",
     "shell.execute_reply.started": "2022-12-02T18:01:29.731705Z"
    }
   },
   "outputs": [
    {
     "data": {
      "application/vnd.jupyter.widget-view+json": {
       "model_id": "2b59cb384ca8476a840d663e09892809",
       "version_major": 2,
       "version_minor": 0
      },
      "text/plain": [
       "VBox()"
      ]
     },
     "metadata": {},
     "output_type": "display_data"
    },
    {
     "data": {
      "application/vnd.jupyter.widget-view+json": {
       "model_id": "",
       "version_major": 2,
       "version_minor": 0
      },
      "text/plain": [
       "FloatProgress(value=0.0, bar_style='info', description='Progress:', layout=Layout(height='25px', width='50%'),…"
      ]
     },
     "metadata": {},
     "output_type": "display_data"
    },
    {
     "name": "stderr",
     "output_type": "stream",
     "text": [
      "Exception in thread cell_monitor-51:\n",
      "Traceback (most recent call last):\n",
      "  File \"/mnt/notebook-env/lib/python3.7/threading.py\", line 926, in _bootstrap_inner\n",
      "    self.run()\n",
      "  File \"/mnt/notebook-env/lib/python3.7/threading.py\", line 870, in run\n",
      "    self._target(*self._args, **self._kwargs)\n",
      "  File \"/mnt/notebook-env/lib/python3.7/site-packages/awseditorssparkmonitoringwidget-1.0-py3.7.egg/awseditorssparkmonitoringwidget/cellmonitor.py\", line 154, in cell_monitor\n",
      "    job_group_filtered_jobs = [job for job in jobs_data if job['jobGroup'] == str(statement_id)]\n",
      "  File \"/mnt/notebook-env/lib/python3.7/site-packages/awseditorssparkmonitoringwidget-1.0-py3.7.egg/awseditorssparkmonitoringwidget/cellmonitor.py\", line 154, in <listcomp>\n",
      "    job_group_filtered_jobs = [job for job in jobs_data if job['jobGroup'] == str(statement_id)]\n",
      "KeyError: 'jobGroup'\n",
      "\n"
     ]
    },
    {
     "name": "stdout",
     "output_type": "stream",
     "text": [
      "(38454, 30790, 7664)"
     ]
    }
   ],
   "source": [
    "combined_pred_df.count(), train_pred_rf_cv.count(), pred_rf_cv.count()"
   ]
  },
  {
   "cell_type": "code",
   "execution_count": 53,
   "id": "9abc3855-8df9-40ad-a57f-adcecbb7dc1e",
   "metadata": {
    "execution": {
     "iopub.execute_input": "2022-12-02T18:03:48.601824Z",
     "iopub.status.busy": "2022-12-02T18:03:48.601596Z",
     "iopub.status.idle": "2022-12-02T18:04:07.935833Z",
     "shell.execute_reply": "2022-12-02T18:04:07.935098Z",
     "shell.execute_reply.started": "2022-12-02T18:03:48.601799Z"
    }
   },
   "outputs": [
    {
     "data": {
      "application/vnd.jupyter.widget-view+json": {
       "model_id": "8eacf6d7ad844c118464dcbd8781bd75",
       "version_major": 2,
       "version_minor": 0
      },
      "text/plain": [
       "VBox()"
      ]
     },
     "metadata": {},
     "output_type": "display_data"
    },
    {
     "data": {
      "application/vnd.jupyter.widget-view+json": {
       "model_id": "",
       "version_major": 2,
       "version_minor": 0
      },
      "text/plain": [
       "FloatProgress(value=0.0, bar_style='info', description='Progress:', layout=Layout(height='25px', width='50%'),…"
      ]
     },
     "metadata": {},
     "output_type": "display_data"
    },
    {
     "name": "stderr",
     "output_type": "stream",
     "text": [
      "Exception in thread cell_monitor-53:\n",
      "Traceback (most recent call last):\n",
      "  File \"/mnt/notebook-env/lib/python3.7/threading.py\", line 926, in _bootstrap_inner\n",
      "    self.run()\n",
      "  File \"/mnt/notebook-env/lib/python3.7/threading.py\", line 870, in run\n",
      "    self._target(*self._args, **self._kwargs)\n",
      "  File \"/mnt/notebook-env/lib/python3.7/site-packages/awseditorssparkmonitoringwidget-1.0-py3.7.egg/awseditorssparkmonitoringwidget/cellmonitor.py\", line 154, in cell_monitor\n",
      "    job_group_filtered_jobs = [job for job in jobs_data if job['jobGroup'] == str(statement_id)]\n",
      "  File \"/mnt/notebook-env/lib/python3.7/site-packages/awseditorssparkmonitoringwidget-1.0-py3.7.egg/awseditorssparkmonitoringwidget/cellmonitor.py\", line 154, in <listcomp>\n",
      "    job_group_filtered_jobs = [job for job in jobs_data if job['jobGroup'] == str(statement_id)]\n",
      "KeyError: 'jobGroup'\n",
      "\n"
     ]
    }
   ],
   "source": [
    "combined_pred_df.coalesce(1).write.parquet(\"s3://tvlp-ds-users/kendra-frederick/shopping-grid/modeled-data/06b\")"
   ]
  },
  {
   "cell_type": "code",
   "execution_count": null,
   "id": "3f6e8a7e-38cf-4467-af42-a370e19c149b",
   "metadata": {},
   "outputs": [],
   "source": []
  }
 ],
 "metadata": {
  "kernelspec": {
   "display_name": "Python 3 (ipykernel)",
   "language": "python",
   "name": "python3"
  },
  "language_info": {
   "codemirror_mode": {
    "name": "ipython",
    "version": 3
   },
   "file_extension": ".py",
   "mimetype": "text/x-python",
   "name": "python",
   "nbconvert_exporter": "python",
   "pygments_lexer": "ipython3",
   "version": "3.9.12"
  },
  "toc": {
   "base_numbering": 1,
   "nav_menu": {},
   "number_sections": true,
   "sideBar": true,
   "skip_h1_title": false,
   "title_cell": "Table of Contents",
   "title_sidebar": "Contents",
   "toc_cell": false,
   "toc_position": {},
   "toc_section_display": true,
   "toc_window_display": true
  },
  "varInspector": {
   "cols": {
    "lenName": 16,
    "lenType": 16,
    "lenVar": 40
   },
   "kernels_config": {
    "python": {
     "delete_cmd_postfix": "",
     "delete_cmd_prefix": "del ",
     "library": "var_list.py",
     "varRefreshCmd": "print(var_dic_list())"
    },
    "r": {
     "delete_cmd_postfix": ") ",
     "delete_cmd_prefix": "rm(",
     "library": "var_list.r",
     "varRefreshCmd": "cat(var_dic_list()) "
    }
   },
   "types_to_exclude": [
    "module",
    "function",
    "builtin_function_or_method",
    "instance",
    "_Feature"
   ],
   "window_display": false
  }
 },
 "nbformat": 4,
 "nbformat_minor": 5
}
