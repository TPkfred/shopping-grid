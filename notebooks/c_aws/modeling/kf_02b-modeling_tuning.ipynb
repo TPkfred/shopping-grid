{
 "cells": [
  {
   "cell_type": "code",
   "execution_count": 1,
   "id": "41f7156c-a5ea-4ed8-9eef-b4ef1f17e673",
   "metadata": {
    "execution": {
     "iopub.execute_input": "2022-11-17T22:47:09.870457Z",
     "iopub.status.busy": "2022-11-17T22:47:09.870222Z",
     "iopub.status.idle": "2022-11-17T22:47:32.702896Z",
     "shell.execute_reply": "2022-11-17T22:47:32.702196Z",
     "shell.execute_reply.started": "2022-11-17T22:47:09.870430Z"
    },
    "tags": []
   },
   "outputs": [
    {
     "data": {
      "application/vnd.jupyter.widget-view+json": {
       "model_id": "",
       "version_major": 2,
       "version_minor": 0
      },
      "text/plain": [
       "VBox()"
      ]
     },
     "metadata": {},
     "output_type": "display_data"
    },
    {
     "name": "stdout",
     "output_type": "stream",
     "text": [
      "Starting Spark application\n"
     ]
    },
    {
     "data": {
      "text/html": [
       "<table>\n",
       "<tr><th>ID</th><th>YARN Application ID</th><th>Kind</th><th>State</th><th>Spark UI</th><th>Driver log</th><th>User</th><th>Current session?</th></tr><tr><td>7</td><td>application_1668702798705_0008</td><td>pyspark</td><td>idle</td><td></td><td></td><td>None</td><td>✔</td></tr></table>"
      ],
      "text/plain": [
       "<IPython.core.display.HTML object>"
      ]
     },
     "metadata": {},
     "output_type": "display_data"
    },
    {
     "data": {
      "application/vnd.jupyter.widget-view+json": {
       "model_id": "",
       "version_major": 2,
       "version_minor": 0
      },
      "text/plain": [
       "FloatProgress(value=0.0, bar_style='info', description='Progress:', layout=Layout(height='25px', width='50%'),…"
      ]
     },
     "metadata": {},
     "output_type": "display_data"
    },
    {
     "name": "stdout",
     "output_type": "stream",
     "text": [
      "SparkSession available as 'spark'.\n"
     ]
    },
    {
     "data": {
      "application/vnd.jupyter.widget-view+json": {
       "model_id": "",
       "version_major": 2,
       "version_minor": 0
      },
      "text/plain": [
       "FloatProgress(value=0.0, bar_style='info', description='Progress:', layout=Layout(height='25px', width='50%'),…"
      ]
     },
     "metadata": {},
     "output_type": "display_data"
    }
   ],
   "source": [
    "import datetime\n",
    "\n",
    "from pyspark.sql import SparkSession\n",
    "import pyspark.sql.functions as F\n",
    "import pyspark.sql.types as T\n",
    "from pyspark.sql.window import Window"
   ]
  },
  {
   "cell_type": "code",
   "execution_count": 2,
   "id": "cb8f4634-5cd4-49a7-a711-664b4d9b6df5",
   "metadata": {
    "execution": {
     "iopub.execute_input": "2022-11-17T22:47:32.704153Z",
     "iopub.status.busy": "2022-11-17T22:47:32.703949Z",
     "iopub.status.idle": "2022-11-17T22:47:40.119175Z",
     "shell.execute_reply": "2022-11-17T22:47:40.118608Z",
     "shell.execute_reply.started": "2022-11-17T22:47:32.704108Z"
    },
    "tags": []
   },
   "outputs": [
    {
     "data": {
      "application/vnd.jupyter.widget-view+json": {
       "model_id": "",
       "version_major": 2,
       "version_minor": 0
      },
      "text/plain": [
       "VBox()"
      ]
     },
     "metadata": {},
     "output_type": "display_data"
    },
    {
     "data": {
      "application/vnd.jupyter.widget-view+json": {
       "model_id": "",
       "version_major": 2,
       "version_minor": 0
      },
      "text/plain": [
       "FloatProgress(value=0.0, bar_style='info', description='Progress:', layout=Layout(height='25px', width='50%'),…"
      ]
     },
     "metadata": {},
     "output_type": "display_data"
    }
   ],
   "source": [
    "df = spark.read.parquet(\"s3://tvlp-ds-users/kendra-frederick/shopping-grid/engineered-features/parquet/2022114/\") "
   ]
  },
  {
   "cell_type": "code",
   "execution_count": 6,
   "id": "1ea4f893-c0bc-486e-9503-20b6b827442c",
   "metadata": {
    "collapsed": true,
    "execution": {
     "iopub.execute_input": "2022-11-17T19:23:40.702405Z",
     "iopub.status.busy": "2022-11-17T19:23:40.702201Z",
     "iopub.status.idle": "2022-11-17T19:23:40.762231Z",
     "shell.execute_reply": "2022-11-17T19:23:40.761622Z",
     "shell.execute_reply.started": "2022-11-17T19:23:40.702375Z"
    },
    "jupyter": {
     "outputs_hidden": true
    },
    "tags": []
   },
   "outputs": [
    {
     "data": {
      "application/vnd.jupyter.widget-view+json": {
       "model_id": "",
       "version_major": 2,
       "version_minor": 0
      },
      "text/plain": [
       "VBox()"
      ]
     },
     "metadata": {},
     "output_type": "display_data"
    },
    {
     "data": {
      "application/vnd.jupyter.widget-view+json": {
       "model_id": "",
       "version_major": 2,
       "version_minor": 0
      },
      "text/plain": [
       "FloatProgress(value=0.0, bar_style='info', description='Progress:', layout=Layout(height='25px', width='50%'),…"
      ]
     },
     "metadata": {},
     "output_type": "display_data"
    },
    {
     "name": "stdout",
     "output_type": "stream",
     "text": [
      "root\n",
      " |-- market: string (nullable = true)\n",
      " |-- out_departure_date: long (nullable = true)\n",
      " |-- shop_date: long (nullable = true)\n",
      " |-- fare_rank: integer (nullable = true)\n",
      " |-- num_itin: long (nullable = true)\n",
      " |-- fare: double (nullable = true)\n",
      " |-- out_cxrs: array (nullable = true)\n",
      " |    |-- element: string (containsNull = true)\n",
      " |-- solution_counts: long (nullable = true)\n",
      " |-- shop_counts: long (nullable = true)\n",
      " |-- avg_out_avail_max: double (nullable = true)\n",
      " |-- avg_out_avail_low: double (nullable = true)\n",
      " |-- outDeptDt_dt: date (nullable = true)\n",
      " |-- shopDate_dt: date (nullable = true)\n",
      " |-- days_til_dept: integer (nullable = true)\n",
      " |-- dept_dt_dow_int: integer (nullable = true)\n",
      " |-- dept_dt_dow: string (nullable = true)\n",
      " |-- fr2_fare: double (nullable = true)\n",
      " |-- fr2_out_cxrs: array (nullable = true)\n",
      " |    |-- element: string (containsNull = true)\n",
      " |-- fr2_avg_out_avail_max: double (nullable = true)\n",
      " |-- fr2_avg_out_avail_low: double (nullable = true)\n",
      " |-- fr1_fr2_out_cxrs_same: boolean (nullable = true)\n",
      " |-- fr1_fr2_out_cxrs_overlap: boolean (nullable = true)\n",
      " |-- avg_fare_dtd: double (nullable = true)\n",
      " |-- fare_prev_shop_day: double (nullable = true)\n",
      " |-- fr2_fare_prev_shop_day: double (nullable = true)\n",
      " |-- avg_out_avail_max_prev_shop_day: double (nullable = true)\n",
      " |-- avg_out_avail_low_prev_shop_day: double (nullable = true)\n",
      " |-- num_itin_prev_shop_day: long (nullable = true)\n",
      " |-- shop_counts_prev_shop_day: long (nullable = true)\n",
      " |-- solution_counts_prev_shop_day: long (nullable = true)\n",
      " |-- fare_prev_dept_day: double (nullable = true)\n",
      " |-- fare_next_dept_day: double (nullable = true)\n",
      " |-- fare_diff_prev_dept_day: double (nullable = true)\n",
      " |-- fare_diff_next_dept_day: double (nullable = true)\n",
      " |-- trailing_avg_shop_counts: double (nullable = true)\n",
      " |-- trailing_avg_solution_counts: double (nullable = true)\n",
      " |-- trailing_avg_fare: double (nullable = true)\n",
      " |-- trailing_std_fare: double (nullable = true)\n",
      " |-- avg_diff_prev_dept_day: double (nullable = true)\n",
      " |-- avg_diff_next_dept_day: double (nullable = true)\n",
      " |-- est_fare_from_prev_dept_day: double (nullable = true)\n",
      " |-- est_fare_from_next_dept_day: double (nullable = true)"
     ]
    }
   ],
   "source": [
    "# df.printSchema()"
   ]
  },
  {
   "cell_type": "code",
   "execution_count": 7,
   "id": "264cc4f5-24f1-4e6f-be22-dccdf13c775e",
   "metadata": {
    "execution": {
     "iopub.execute_input": "2022-11-17T19:23:40.763524Z",
     "iopub.status.busy": "2022-11-17T19:23:40.763347Z",
     "iopub.status.idle": "2022-11-17T19:23:40.820645Z",
     "shell.execute_reply": "2022-11-17T19:23:40.819990Z",
     "shell.execute_reply.started": "2022-11-17T19:23:40.763500Z"
    },
    "tags": []
   },
   "outputs": [
    {
     "data": {
      "application/vnd.jupyter.widget-view+json": {
       "model_id": "",
       "version_major": 2,
       "version_minor": 0
      },
      "text/plain": [
       "VBox()"
      ]
     },
     "metadata": {},
     "output_type": "display_data"
    },
    {
     "data": {
      "application/vnd.jupyter.widget-view+json": {
       "model_id": "",
       "version_major": 2,
       "version_minor": 0
      },
      "text/plain": [
       "FloatProgress(value=0.0, bar_style='info', description='Progress:', layout=Layout(height='25px', width='50%'),…"
      ]
     },
     "metadata": {},
     "output_type": "display_data"
    },
    {
     "name": "stdout",
     "output_type": "stream",
     "text": [
      "['market', 'out_departure_date', 'shop_date', 'fare_rank', 'num_itin', 'fare', 'out_cxrs', 'solution_counts', 'shop_counts', 'avg_out_avail_max', 'avg_out_avail_low', 'outDeptDt_dt', 'shopDate_dt', 'days_til_dept', 'dept_dt_dow_int', 'dept_dt_dow', 'fr2_fare', 'fr2_out_cxrs', 'fr2_avg_out_avail_max', 'fr2_avg_out_avail_low', 'fr1_fr2_out_cxrs_same', 'fr1_fr2_out_cxrs_overlap', 'avg_fare_dtd', 'fare_prev_shop_day', 'fr2_fare_prev_shop_day', 'avg_out_avail_max_prev_shop_day', 'avg_out_avail_low_prev_shop_day', 'num_itin_prev_shop_day', 'shop_counts_prev_shop_day', 'solution_counts_prev_shop_day', 'fare_prev_dept_day', 'fare_next_dept_day', 'fare_diff_prev_dept_day', 'fare_diff_next_dept_day', 'trailing_avg_shop_counts', 'trailing_avg_solution_counts', 'trailing_avg_fare', 'trailing_std_fare', 'avg_diff_prev_dept_day', 'avg_diff_next_dept_day', 'est_fare_from_prev_dept_day', 'est_fare_from_next_dept_day']"
     ]
    }
   ],
   "source": [
    "# df.columns"
   ]
  },
  {
   "cell_type": "code",
   "execution_count": 8,
   "id": "66f0ef59-38d1-43ae-a31f-fd1b55955b53",
   "metadata": {
    "execution": {
     "iopub.execute_input": "2022-11-17T19:28:42.365459Z",
     "iopub.status.busy": "2022-11-17T19:28:42.365234Z",
     "iopub.status.idle": "2022-11-17T19:28:51.711763Z",
     "shell.execute_reply": "2022-11-17T19:28:51.711113Z",
     "shell.execute_reply.started": "2022-11-17T19:28:42.365437Z"
    },
    "tags": []
   },
   "outputs": [
    {
     "data": {
      "application/vnd.jupyter.widget-view+json": {
       "model_id": "",
       "version_major": 2,
       "version_minor": 0
      },
      "text/plain": [
       "VBox()"
      ]
     },
     "metadata": {},
     "output_type": "display_data"
    },
    {
     "data": {
      "application/vnd.jupyter.widget-view+json": {
       "model_id": "",
       "version_major": 2,
       "version_minor": 0
      },
      "text/plain": [
       "FloatProgress(value=0.0, bar_style='info', description='Progress:', layout=Layout(height='25px', width='50%'),…"
      ]
     },
     "metadata": {},
     "output_type": "display_data"
    },
    {
     "name": "stdout",
     "output_type": "stream",
     "text": [
      "14"
     ]
    }
   ],
   "source": [
    "# df.select(\"market\").distinct().count()"
   ]
  },
  {
   "cell_type": "markdown",
   "id": "fda6a969-82d8-418e-be26-c5640c78f3e0",
   "metadata": {},
   "source": [
    "# define features"
   ]
  },
  {
   "cell_type": "code",
   "execution_count": 3,
   "id": "bc24f456-9ab8-4112-b16e-874276091b49",
   "metadata": {
    "execution": {
     "iopub.execute_input": "2022-11-17T22:47:40.120806Z",
     "iopub.status.busy": "2022-11-17T22:47:40.120561Z",
     "iopub.status.idle": "2022-11-17T22:47:40.175597Z",
     "shell.execute_reply": "2022-11-17T22:47:40.175061Z",
     "shell.execute_reply.started": "2022-11-17T22:47:40.120771Z"
    },
    "tags": []
   },
   "outputs": [
    {
     "data": {
      "application/vnd.jupyter.widget-view+json": {
       "model_id": "",
       "version_major": 2,
       "version_minor": 0
      },
      "text/plain": [
       "VBox()"
      ]
     },
     "metadata": {},
     "output_type": "display_data"
    },
    {
     "data": {
      "application/vnd.jupyter.widget-view+json": {
       "model_id": "",
       "version_major": 2,
       "version_minor": 0
      },
      "text/plain": [
       "FloatProgress(value=0.0, bar_style='info', description='Progress:', layout=Layout(height='25px', width='50%'),…"
      ]
     },
     "metadata": {},
     "output_type": "display_data"
    }
   ],
   "source": [
    "target_col = 'fare'\n",
    "\n",
    "# scale: mean = 0, std = 1\n",
    "features_to_scale = [\n",
    "    # fare-based features\n",
    "    'fare_prev_shop_day',\n",
    "    'fr2_fare_prev_shop_day', \n",
    "    'avg_fare_dtd',\n",
    "    'fare_prev_dept_day', 'fare_next_dept_day',\n",
    "    'est_fare_from_prev_dept_day', 'est_fare_from_next_dept_day',\n",
    "    'trailing_avg_fare', 'trailing_std_fare',\n",
    "                    ]\n",
    "# norm: [0,1]\n",
    "features_to_norm = [\n",
    "    'days_til_dept', # encoded in 'avg_fare_dtd', so exclude?\n",
    "    'num_itin_prev_shop_day',\n",
    "    # count-based features - expect some skew in these, so norm instead of scale (?)\n",
    "    'shop_counts_prev_shop_day', \n",
    "    'trailing_avg_shop_counts',\n",
    "    'solution_counts_prev_shop_day',\n",
    "    'trailing_avg_solution_counts',\n",
    "]\n",
    "categorial_features = [\n",
    "    'dept_dt_dow_int' \n",
    "]\n",
    "as_is_features = [\n",
    "    # avail-based features are already norm'd\n",
    "    'avg_out_avail_max_prev_shop_day',\n",
    "    'avg_out_avail_low_prev_shop_day', \n",
    "]\n",
    "all_features = features_to_scale + features_to_norm + categorial_features + as_is_features\n",
    "all_cols_for_modeling = all_features + [target_col]"
   ]
  },
  {
   "cell_type": "markdown",
   "id": "eaf08592-60dc-45d0-a968-92b75a214efc",
   "metadata": {},
   "source": [
    "# prep data"
   ]
  },
  {
   "cell_type": "markdown",
   "id": "8645ccc5-f738-49ec-b6cd-6e1f445fa471",
   "metadata": {},
   "source": [
    "## clip"
   ]
  },
  {
   "cell_type": "markdown",
   "id": "e361a894-f6f9-4a59-93e0-583b1c328d0b",
   "metadata": {},
   "source": [
    "based on shop date (given that we took a 3-day trailing average -- the first 2 days won't have valid data)"
   ]
  },
  {
   "cell_type": "code",
   "execution_count": 4,
   "id": "9ed2ce31-ab3e-4bfc-b03b-a51312da4b36",
   "metadata": {
    "execution": {
     "iopub.execute_input": "2022-11-17T22:47:57.861677Z",
     "iopub.status.busy": "2022-11-17T22:47:57.861422Z",
     "iopub.status.idle": "2022-11-17T22:47:58.632056Z",
     "shell.execute_reply": "2022-11-17T22:47:58.631339Z",
     "shell.execute_reply.started": "2022-11-17T22:47:57.861651Z"
    },
    "tags": []
   },
   "outputs": [
    {
     "data": {
      "application/vnd.jupyter.widget-view+json": {
       "model_id": "",
       "version_major": 2,
       "version_minor": 0
      },
      "text/plain": [
       "VBox()"
      ]
     },
     "metadata": {},
     "output_type": "display_data"
    },
    {
     "data": {
      "application/vnd.jupyter.widget-view+json": {
       "model_id": "",
       "version_major": 2,
       "version_minor": 0
      },
      "text/plain": [
       "FloatProgress(value=0.0, bar_style='info', description='Progress:', layout=Layout(height='25px', width='50%'),…"
      ]
     },
     "metadata": {},
     "output_type": "display_data"
    }
   ],
   "source": [
    "first_shop_date = datetime.date(2022,10,15)\n",
    "window_size = 3\n",
    "shop_cutoff = first_shop_date + datetime.timedelta(days=window_size)\n",
    "df_clip_shop = df.filter(F.col('shopDate_dt') >= shop_cutoff)"
   ]
  },
  {
   "cell_type": "markdown",
   "id": "45cac85e-b08b-424f-a8af-f553bf79418a",
   "metadata": {},
   "source": [
    "Limit to a certain number out into the future -- such as 120"
   ]
  },
  {
   "cell_type": "code",
   "execution_count": 24,
   "id": "2b8fe341-261a-4080-b065-4715111eab73",
   "metadata": {
    "execution": {
     "iopub.execute_input": "2022-11-17T19:45:55.232651Z",
     "iopub.status.busy": "2022-11-17T19:45:55.232424Z",
     "iopub.status.idle": "2022-11-17T19:46:02.521158Z",
     "shell.execute_reply": "2022-11-17T19:46:02.520504Z",
     "shell.execute_reply.started": "2022-11-17T19:45:55.232625Z"
    }
   },
   "outputs": [
    {
     "data": {
      "application/vnd.jupyter.widget-view+json": {
       "model_id": "",
       "version_major": 2,
       "version_minor": 0
      },
      "text/plain": [
       "VBox()"
      ]
     },
     "metadata": {},
     "output_type": "display_data"
    },
    {
     "data": {
      "application/vnd.jupyter.widget-view+json": {
       "model_id": "",
       "version_major": 2,
       "version_minor": 0
      },
      "text/plain": [
       "FloatProgress(value=0.0, bar_style='info', description='Progress:', layout=Layout(height='25px', width='50%'),…"
      ]
     },
     "metadata": {},
     "output_type": "display_data"
    },
    {
     "name": "stdout",
     "output_type": "stream",
     "text": [
      "45548"
     ]
    }
   ],
   "source": [
    "# dtd_limit = 120\n",
    "# df_clip_dtd = df_clip_shop.filter(F.col(\"days_til_dept\") <= 120)\n",
    "# df_clip_dtd.count()"
   ]
  },
  {
   "cell_type": "markdown",
   "id": "0fd5e6ff-c2e3-4320-9450-43cf4eaf434a",
   "metadata": {},
   "source": [
    "This cuts out a lot of data, actually"
   ]
  },
  {
   "cell_type": "markdown",
   "id": "a7a1c5b7-822c-4964-a3ad-9e098c14560c",
   "metadata": {},
   "source": [
    "## dealing with nulls"
   ]
  },
  {
   "cell_type": "code",
   "execution_count": 5,
   "id": "b4c69cf6-3683-4e2b-81b1-fa0f6ecf9628",
   "metadata": {
    "execution": {
     "iopub.execute_input": "2022-11-17T22:48:02.510229Z",
     "iopub.status.busy": "2022-11-17T22:48:02.510004Z",
     "iopub.status.idle": "2022-11-17T22:48:19.966895Z",
     "shell.execute_reply": "2022-11-17T22:48:19.966282Z",
     "shell.execute_reply.started": "2022-11-17T22:48:02.510204Z"
    },
    "tags": []
   },
   "outputs": [
    {
     "data": {
      "application/vnd.jupyter.widget-view+json": {
       "model_id": "",
       "version_major": 2,
       "version_minor": 0
      },
      "text/plain": [
       "VBox()"
      ]
     },
     "metadata": {},
     "output_type": "display_data"
    },
    {
     "data": {
      "application/vnd.jupyter.widget-view+json": {
       "model_id": "",
       "version_major": 2,
       "version_minor": 0
      },
      "text/plain": [
       "FloatProgress(value=0.0, bar_style='info', description='Progress:', layout=Layout(height='25px', width='50%'),…"
      ]
     },
     "metadata": {},
     "output_type": "display_data"
    },
    {
     "name": "stdout",
     "output_type": "stream",
     "text": [
      "fare_prev_shop_day 415\n",
      "fr2_fare_prev_shop_day 2509\n",
      "avg_fare_dtd 48\n",
      "fare_prev_dept_day 392\n",
      "fare_next_dept_day 392\n",
      "est_fare_from_prev_dept_day 392\n",
      "est_fare_from_next_dept_day 392\n",
      "trailing_avg_fare 415\n",
      "trailing_std_fare 415\n",
      "days_til_dept 0\n",
      "num_itin_prev_shop_day 415\n",
      "shop_counts_prev_shop_day 415\n",
      "trailing_avg_shop_counts 415\n",
      "solution_counts_prev_shop_day 415\n",
      "trailing_avg_solution_counts 415\n",
      "dept_dt_dow_int 0\n",
      "avg_out_avail_max_prev_shop_day 415\n",
      "avg_out_avail_low_prev_shop_day 415\n",
      "fare 0"
     ]
    }
   ],
   "source": [
    "for col in all_cols_for_modeling:\n",
    "    print(col, df_clip_shop.filter(F.col(col).isNull()).count())"
   ]
  },
  {
   "cell_type": "code",
   "execution_count": 23,
   "id": "33797562-e86c-454a-9939-84f4d9721b4e",
   "metadata": {
    "collapsed": true,
    "execution": {
     "iopub.execute_input": "2022-11-17T19:42:41.654156Z",
     "iopub.status.busy": "2022-11-17T19:42:41.653918Z",
     "iopub.status.idle": "2022-11-17T19:42:48.960628Z",
     "shell.execute_reply": "2022-11-17T19:42:48.959884Z",
     "shell.execute_reply.started": "2022-11-17T19:42:41.654132Z"
    },
    "jupyter": {
     "outputs_hidden": true
    },
    "tags": []
   },
   "outputs": [
    {
     "data": {
      "application/vnd.jupyter.widget-view+json": {
       "model_id": "b07c53bb63694b818343438bfe2d0042",
       "version_major": 2,
       "version_minor": 0
      },
      "text/plain": [
       "VBox()"
      ]
     },
     "metadata": {},
     "output_type": "display_data"
    },
    {
     "data": {
      "application/vnd.jupyter.widget-view+json": {
       "model_id": "",
       "version_major": 2,
       "version_minor": 0
      },
      "text/plain": [
       "FloatProgress(value=0.0, bar_style='info', description='Progress:', layout=Layout(height='25px', width='50%'),…"
      ]
     },
     "metadata": {},
     "output_type": "display_data"
    },
    {
     "name": "stdout",
     "output_type": "stream",
     "text": [
      "+-------+------------------+---------+---------+--------+-------+--------+---------------+-----------+------------------+------------------+------------+-----------+-------------+---------------+-----------+--------+------------+---------------------+---------------------+---------------------+------------------------+------------------+------------------+----------------------+-------------------------------+-------------------------------+----------------------+-------------------------+-----------------------------+------------------+------------------+-----------------------+-----------------------+------------------------+----------------------------+-----------------+-----------------+----------------------+----------------------+---------------------------+---------------------------+\n",
      "| market|out_departure_date|shop_date|fare_rank|num_itin|   fare|out_cxrs|solution_counts|shop_counts| avg_out_avail_max| avg_out_avail_low|outDeptDt_dt|shopDate_dt|days_til_dept|dept_dt_dow_int|dept_dt_dow|fr2_fare|fr2_out_cxrs|fr2_avg_out_avail_max|fr2_avg_out_avail_low|fr1_fr2_out_cxrs_same|fr1_fr2_out_cxrs_overlap|      avg_fare_dtd|fare_prev_shop_day|fr2_fare_prev_shop_day|avg_out_avail_max_prev_shop_day|avg_out_avail_low_prev_shop_day|num_itin_prev_shop_day|shop_counts_prev_shop_day|solution_counts_prev_shop_day|fare_prev_dept_day|fare_next_dept_day|fare_diff_prev_dept_day|fare_diff_next_dept_day|trailing_avg_shop_counts|trailing_avg_solution_counts|trailing_avg_fare|trailing_std_fare|avg_diff_prev_dept_day|avg_diff_next_dept_day|est_fare_from_prev_dept_day|est_fare_from_next_dept_day|\n",
      "+-------+------------------+---------+---------+--------+-------+--------+---------------+-----------+------------------+------------------+------------+-----------+-------------+---------------+-----------+--------+------------+---------------------+---------------------+---------------------+------------------------+------------------+------------------+----------------------+-------------------------------+-------------------------------+----------------------+-------------------------+-----------------------------+------------------+------------------+-----------------------+-----------------------+------------------------+----------------------------+-----------------+-----------------+----------------------+----------------------+---------------------------+---------------------------+\n",
      "|JFK-LAX|          20230920| 20221028|        1|       1|  197.2|    [AS]|              9|          1|               0.0|               0.0|  2023-09-20| 2022-10-28|          327|              2|        Wed|  221.59|        [AS]|                  0.0|                  0.0|                 true|                    true|169.72499999999997|              null|                  null|                           null|                           null|                  null|                     null|                         null|             222.6|            224.59|    -25.400000000000006|    -27.390000000000015|                    null|                        null|             null|             null|    -2.087318087318087|   -23.172583333333364|          220.5126819126819|         201.41741666666664|\n",
      "|JFK-LAX|          20230927| 20221031|        1|       1| 1228.6|    [AS]|             15|          1|               0.0|               0.0|  2023-09-27| 2022-10-31|          331|              2|        Wed|  1318.6|        [AS]|                  0.0|                  0.0|                 true|                    true| 695.6033333333331|              null|                  null|                           null|                           null|                  null|                     null|                         null|            224.59|              null|     1004.0099999999999|                   null|                    null|                        null|             null|             null|   -1.6913776337115072|   -21.658849270664536|          222.8986223662885|                       null|\n",
      "|JFK-LAX|          20231004| 20221108|        1|       1|  151.6|    [DL]|            498|          7|               1.0|               0.0|  2023-10-04| 2022-11-08|          330|              2|        Wed|   168.6|        [B6]|                  0.0|                  0.0|                false|                   false| 515.8292307692308|              null|                  null|                           null|                           null|                  null|                     null|                         null|            208.61|              null|     -57.01000000000002|                   null|                    null|                        null|             null|             null|    0.6562978283350568|   -19.104808686659798|         209.26629782833507|                       null|\n",
      "|JFK-LAX|          20231011| 20221114|        1|       3|  156.6|[B6, DL]|            115|         28|0.6666666666666666|0.3333333333333333|  2023-10-11| 2022-11-14|          331|              2|        Wed|   188.6|        [DL]|                  1.0|                  0.0|                false|                    true| 867.0292857142858|              null|                  null|                           null|                           null|                  null|                     null|                         null|            1318.6|              null|                -1162.0|                   null|                    null|                        null|             null|             null|   -1.4632352941176474|   -21.245506535947715|         1317.1367647058823|                       null|\n",
      "|JFK-LHR|          20231013| 20221018|        1|       2|  515.9|    [TP]|            182|          6|               0.5|               0.0|  2023-10-13| 2022-10-18|          360|              4|        Fri|   590.9|        [TP]|                  1.0|                  0.0|                 true|                    true| 422.5666666666666|              null|                  null|                           null|                           null|                  null|                     null|                         null|             485.9|              null|                   30.0|                   null|                    null|                        null|             null|             null|     30.15205298013245|  -0.06967105263158029|          516.0520529801324|                       null|\n",
      "|JFK-LHR|          20231020| 20221027|        1|       3|  516.4|    [TP]|             77|          1|0.3333333333333333|0.6666666666666666|  2023-10-20| 2022-10-27|          358|              4|        Fri|   629.8|        [LX]|                  1.0|                  0.0|                false|                   false| 505.8916666666667|              null|                  null|                           null|                           null|                  null|                     null|                         null|             451.1|             591.4|      65.29999999999995|                  -75.0|                    null|                        null|             null|             null|    17.007715231788147|   -10.390776859504127|          468.1077152317882|          581.0092231404958|\n",
      "|JFK-LHR|          20231027| 20221101|        1|       1|  516.4|    [TP]|            215|          5|               0.0|               0.0|  2023-10-27| 2022-11-01|          360|              4|        Fri|   516.6|        [TP]|                  0.0|                  0.0|                 true|                    true|482.06250000000006|              null|                  null|                           null|                           null|                  null|                     null|                         null|             561.4|              null|                  -45.0|                   null|                    null|                        null|             null|             null|    14.421015169194918|   -12.755948777648431|          575.8210151691949|                       null|\n",
      "|JFK-LHR|          20231103| 20221108|        1|       1|  326.4|    [TP]|            209|         15|               1.0|               0.0|  2023-11-03| 2022-11-08|          360|              4|        Fri|   556.0|        [SN]|                  1.0|                  0.0|                false|                   false| 482.6521739130435|              null|                  null|                           null|                           null|                  null|                     null|                         null|             296.4|              null|                   30.0|                   null|                    null|                        null|             null|             null|    13.405668316831713|    -14.99276771004945|          309.8056683168317|                       null|\n",
      "|LGA-MIA|          20230924| 20221022|        1|       1|1248.59|    [UA]|             50|          1|               1.0|               0.0|  2023-09-24| 2022-10-22|          337|              6|        Sun|  1338.6|        [UA]|                  1.0|                  0.0|                 true|                    true|           1248.59|              null|                  null|                           null|                           null|                  null|                     null|                         null|           1248.59|              null|                    0.0|                   null|                    null|                        null|             null|             null|    23.418907849829353|     17.41619863013699|         1272.0089078498293|                       null|\n",
      "|LGA-MIA|          20231008| 20221106|        1|       2|1248.59|    [UA]|             19|          2|               1.0|               0.0|  2023-10-08| 2022-11-06|          336|              6|        Sun|  1338.6|        [UA]|                  1.0|                  0.0|                 true|                    true|           1248.59|              null|                  null|                           null|                           null|                  null|                     null|                         null|             307.6|           1248.59|      940.9899999999999|                    0.0|                    null|                        null|             null|             null|    13.947432258064532|    16.128606451612907|         321.54743225806453|          1264.718606451613|\n",
      "|LGA-MIA|          20231001| 20221107|        1|       1|  168.6|    [DL]|             22|          1|               1.0|               0.0|  2023-10-01| 2022-11-07|          328|              6|        Sun|   198.6|        [DL]|                  1.0|                  0.0|                 true|                    true|139.76666666666668|              null|                  null|                           null|                           null|                  null|                     null|                         null|             168.6|            347.61|                    0.0|    -179.01000000000002|                    null|                        null|             null|             null|    15.501447852760752|    17.356441717791412|         184.10144785276074|         364.96644171779144|\n",
      "|LGA-MIA|          20231015| 20221114|        1|       1|1248.59|    [UA]|              4|          1|               1.0|               0.0|  2023-10-15| 2022-11-14|          335|              6|        Sun| 2291.59|        [UA]|                  1.0|                  0.0|                 true|                    true|          1242.425|              null|                  null|                           null|                           null|                  null|                     null|                         null|             307.6|           1248.59|      940.9899999999999|                    0.0|                    null|                        null|             null|             null|    15.478292237442933|     18.48682191780822|         323.07829223744295|          1267.076821917808|\n",
      "|EWR-CDG|          20231019| 20221024|        1|       1|  954.7|    [LX]|             24|          3|               1.0|               0.0|  2023-10-19| 2022-10-24|          360|              3|        Thu|   954.8|        [LH]|                  1.0|                  0.0|                false|                   false| 908.7777777777778|              null|                  null|                           null|                           null|                  null|                     null|                         null|             904.7|              null|                   50.0|                   null|                    null|                        null|             null|             null|     36.66997811816193|    1.9863537117903909|           941.369978118162|                       null|\n",
      "|EWR-CDG|          20231026| 20221030|        1|       1| 1506.8|    [AF]|              6|          6|               1.0|               0.0|  2023-10-26| 2022-10-30|          361|              3|        Thu|    null|        null|                 null|                 null|                 null|                   false|1183.7999999999997|              null|                  null|                           null|                           null|                  null|                     null|                         null|             630.0|              null|                  876.8|                   null|                    null|                        null|             null|             null|     35.17808650065531|   -3.2227260812581946|          665.1780865006554|                       null|\n",
      "|EWR-CDG|          20231102| 20221106|        1|       1| 1531.8|    [AF]|             11|         10|               1.0|               0.0|  2023-11-02| 2022-11-06|          361|              3|        Thu|    null|        null|                 null|                 null|                 null|                   false|1298.6749999999997|              null|                  null|                           null|                           null|                  null|                     null|                         null|             597.7|              null|      934.0999999999999|                   null|                    null|                        null|             null|             null|     39.43241286863268|    -6.023762287756931|          637.1324128686327|                       null|\n",
      "|EWR-CDG|          20231109| 20221113|        1|       1| 1506.8|    [AF]|              4|          4|               1.0|               0.0|  2023-11-09| 2022-11-13|          361|              3|        Thu|    null|        null|                 null|                 null|                 null|                   false|1254.1913043478257|              null|                  null|                           null|                           null|                  null|                     null|                         null|             630.8|              null|                  876.0|                   null|                    null|                        null|             null|             null|     38.56558943089426|    -7.330704607046074|          669.3655894308943|                       null|\n",
      "|LAX-JFK|          20230917| 20221022|        1|       1|  236.1|    [AA]|             52|          2|               0.0|               0.0|  2023-09-17| 2022-10-22|          330|              6|        Sun|   282.6|        [AA]|                  0.0|                  0.0|                 true|                    true| 593.6585714285713|              null|                  null|                           null|                           null|                  null|                     null|                         null|             168.6|              null|                   67.5|                   null|                    null|                        null|             null|             null|    19.440961538461547|     28.65945686900959|         188.04096153846154|                       null|\n",
      "|LAX-JFK|          20230924| 20221030|        1|       1|  324.6|    [AS]|              9|          1|               0.0|               0.0|  2023-09-24| 2022-10-30|          329|              6|        Sun|  331.61|        [AS]|                  0.0|                  0.0|                 true|                    true|176.15999999999997|              null|                  null|                           null|                           null|                  null|                     null|                         null|             168.6|            1228.6|     156.00000000000003|     -903.9999999999999|                    null|                        null|             null|             null|     25.32675627240145|    30.660876565295165|         193.92675627240143|         1259.2608765652951|\n",
      "|LAX-JFK|          20231001| 20221105|        1|       2|  151.6|    [DL]|            324|          8|               1.0|               0.0|  2023-10-01| 2022-11-05|          330|              6|        Sun|   168.6|        [B6]|                  0.0|                  0.0|                false|                   false| 464.0228571428573|              null|                  null|                           null|                           null|                  null|                     null|                         null|             151.6|              null|                    0.0|                   null|                    null|                        null|             null|             null|    25.935751231527092|    30.842690417690388|          177.5357512315271|                       null|\n",
      "|LAX-JFK|          20231008| 20221110|        1|       1|  173.6|    [DL]|             10|          1|               1.0|               0.0|  2023-10-08| 2022-11-10|          332|              6|        Sun|    null|        null|                 null|                 null|                 null|                   false|              null|              null|                  null|                           null|                           null|                  null|                     null|                         null|            1228.6|              null|                -1055.0|                   null|                    null|                        null|             null|             null|     23.19324878048779|     30.48456140350872|         1251.7932487804876|                       null|\n",
      "+-------+------------------+---------+---------+--------+-------+--------+---------------+-----------+------------------+------------------+------------+-----------+-------------+---------------+-----------+--------+------------+---------------------+---------------------+---------------------+------------------------+------------------+------------------+----------------------+-------------------------------+-------------------------------+----------------------+-------------------------+-----------------------------+------------------+------------------+-----------------------+-----------------------+------------------------+----------------------------+-----------------+-----------------+----------------------+----------------------+---------------------------+---------------------------+\n",
      "only showing top 20 rows"
     ]
    }
   ],
   "source": [
    "col = 'fare_prev_shop_day'\n",
    "df_null = df_clip_shop.filter(F.col(col).isNull())\n",
    "df_null.show()"
   ]
  },
  {
   "cell_type": "markdown",
   "id": "605b0d90-68a2-44c9-8fbc-221b60bfb336",
   "metadata": {},
   "source": [
    "A lot of these have high values for days til dept. Which makes sense. "
   ]
  },
  {
   "cell_type": "markdown",
   "id": "64b74daf-1c78-4513-a9c6-8b434ca26429",
   "metadata": {},
   "source": [
    "Either drop nulls for now, or collapse fare-based features into one or a few, e.g. taking an average that ignores the nulls"
   ]
  },
  {
   "cell_type": "code",
   "execution_count": 14,
   "id": "ac341651-3988-4cd9-afc3-a2fda726e064",
   "metadata": {
    "execution": {
     "iopub.execute_input": "2022-11-17T19:31:38.209309Z",
     "iopub.status.busy": "2022-11-17T19:31:38.209073Z",
     "iopub.status.idle": "2022-11-17T19:31:38.993315Z",
     "shell.execute_reply": "2022-11-17T19:31:38.992489Z",
     "shell.execute_reply.started": "2022-11-17T19:31:38.209283Z"
    },
    "tags": []
   },
   "outputs": [
    {
     "data": {
      "application/vnd.jupyter.widget-view+json": {
       "model_id": "",
       "version_major": 2,
       "version_minor": 0
      },
      "text/plain": [
       "VBox()"
      ]
     },
     "metadata": {},
     "output_type": "display_data"
    },
    {
     "data": {
      "application/vnd.jupyter.widget-view+json": {
       "model_id": "",
       "version_major": 2,
       "version_minor": 0
      },
      "text/plain": [
       "FloatProgress(value=0.0, bar_style='info', description='Progress:', layout=Layout(height='25px', width='50%'),…"
      ]
     },
     "metadata": {},
     "output_type": "display_data"
    },
    {
     "name": "stdout",
     "output_type": "stream",
     "text": [
      "(133001, 119216)"
     ]
    }
   ],
   "source": [
    "df.count(), df_clip_shop.count()"
   ]
  },
  {
   "cell_type": "code",
   "execution_count": 6,
   "id": "a9673869-9b07-4dfc-8772-4466a43d4da9",
   "metadata": {
    "execution": {
     "iopub.execute_input": "2022-11-17T22:48:19.968509Z",
     "iopub.status.busy": "2022-11-17T22:48:19.968230Z",
     "iopub.status.idle": "2022-11-17T22:48:22.391097Z",
     "shell.execute_reply": "2022-11-17T22:48:21.948042Z",
     "shell.execute_reply.started": "2022-11-17T22:48:19.968474Z"
    },
    "tags": []
   },
   "outputs": [
    {
     "data": {
      "application/vnd.jupyter.widget-view+json": {
       "model_id": "",
       "version_major": 2,
       "version_minor": 0
      },
      "text/plain": [
       "VBox()"
      ]
     },
     "metadata": {},
     "output_type": "display_data"
    },
    {
     "data": {
      "application/vnd.jupyter.widget-view+json": {
       "model_id": "",
       "version_major": 2,
       "version_minor": 0
      },
      "text/plain": [
       "FloatProgress(value=0.0, bar_style='info', description='Progress:', layout=Layout(height='25px', width='50%'),…"
      ]
     },
     "metadata": {},
     "output_type": "display_data"
    },
    {
     "name": "stdout",
     "output_type": "stream",
     "text": [
      "115776"
     ]
    }
   ],
   "source": [
    "df_no_nulls = df_clip_shop.dropna(subset=all_cols_for_modeling)\n",
    "df_no_nulls.count()"
   ]
  },
  {
   "cell_type": "code",
   "execution_count": 26,
   "id": "7669d3fc-2333-4b7c-b015-08bf2284d71e",
   "metadata": {
    "execution": {
     "iopub.execute_input": "2022-11-17T19:49:02.311096Z",
     "iopub.status.busy": "2022-11-17T19:49:02.310843Z",
     "iopub.status.idle": "2022-11-17T19:49:02.370087Z",
     "shell.execute_reply": "2022-11-17T19:49:02.369504Z",
     "shell.execute_reply.started": "2022-11-17T19:49:02.311072Z"
    }
   },
   "outputs": [
    {
     "data": {
      "application/vnd.jupyter.widget-view+json": {
       "model_id": "",
       "version_major": 2,
       "version_minor": 0
      },
      "text/plain": [
       "VBox()"
      ]
     },
     "metadata": {},
     "output_type": "display_data"
    },
    {
     "data": {
      "application/vnd.jupyter.widget-view+json": {
       "model_id": "",
       "version_major": 2,
       "version_minor": 0
      },
      "text/plain": [
       "FloatProgress(value=0.0, bar_style='info', description='Progress:', layout=Layout(height='25px', width='50%'),…"
      ]
     },
     "metadata": {},
     "output_type": "display_data"
    },
    {
     "name": "stdout",
     "output_type": "stream",
     "text": [
      "0.9711448127768085"
     ]
    }
   ],
   "source": [
    "115776 / 119216"
   ]
  },
  {
   "cell_type": "markdown",
   "id": "46ed59e2-6b36-4ecc-9195-6562a31d5345",
   "metadata": {},
   "source": [
    "Drop for now. Revisit later"
   ]
  },
  {
   "cell_type": "markdown",
   "id": "d415d073-1844-4f39-96ae-74983c0c103b",
   "metadata": {},
   "source": [
    "## Train-test split"
   ]
  },
  {
   "cell_type": "code",
   "execution_count": 7,
   "id": "adcb1dd4-a393-4ae4-a831-884b929777a2",
   "metadata": {
    "execution": {
     "iopub.execute_input": "2022-11-17T22:48:22.392829Z",
     "iopub.status.busy": "2022-11-17T22:48:22.392572Z",
     "iopub.status.idle": "2022-11-17T22:48:22.858691Z",
     "shell.execute_reply": "2022-11-17T22:48:22.820564Z",
     "shell.execute_reply.started": "2022-11-17T22:48:22.392793Z"
    },
    "tags": []
   },
   "outputs": [
    {
     "data": {
      "application/vnd.jupyter.widget-view+json": {
       "model_id": "",
       "version_major": 2,
       "version_minor": 0
      },
      "text/plain": [
       "VBox()"
      ]
     },
     "metadata": {},
     "output_type": "display_data"
    },
    {
     "data": {
      "application/vnd.jupyter.widget-view+json": {
       "model_id": "",
       "version_major": 2,
       "version_minor": 0
      },
      "text/plain": [
       "FloatProgress(value=0.0, bar_style='info', description='Progress:', layout=Layout(height='25px', width='50%'),…"
      ]
     },
     "metadata": {},
     "output_type": "display_data"
    }
   ],
   "source": [
    "train, test = df_no_nulls.randomSplit([0.8, 0.2], seed=19)\n",
    "# train.count(), test.count()"
   ]
  },
  {
   "cell_type": "code",
   "execution_count": 9,
   "id": "37c81cc9-1a3e-4345-8d6a-ccfd46a8eab5",
   "metadata": {
    "execution": {
     "iopub.execute_input": "2022-11-17T22:49:52.482832Z",
     "iopub.status.busy": "2022-11-17T22:49:52.482596Z",
     "iopub.status.idle": "2022-11-17T22:49:52.755164Z",
     "shell.execute_reply": "2022-11-17T22:49:52.754475Z",
     "shell.execute_reply.started": "2022-11-17T22:49:52.482809Z"
    },
    "tags": []
   },
   "outputs": [
    {
     "data": {
      "application/vnd.jupyter.widget-view+json": {
       "model_id": "",
       "version_major": 2,
       "version_minor": 0
      },
      "text/plain": [
       "VBox()"
      ]
     },
     "metadata": {},
     "output_type": "display_data"
    },
    {
     "data": {
      "application/vnd.jupyter.widget-view+json": {
       "model_id": "",
       "version_major": 2,
       "version_minor": 0
      },
      "text/plain": [
       "FloatProgress(value=0.0, bar_style='info', description='Progress:', layout=Layout(height='25px', width='50%'),…"
      ]
     },
     "metadata": {},
     "output_type": "display_data"
    }
   ],
   "source": [
    "train_shuffled = train.orderBy(F.rand())"
   ]
  },
  {
   "cell_type": "markdown",
   "id": "1b5cc9f2-a577-4f2a-bd39-82d72c38c7ba",
   "metadata": {},
   "source": [
    "# assemble & scale/encode features"
   ]
  },
  {
   "cell_type": "markdown",
   "id": "36c265ba-411a-4d5d-aedb-a8a065543fed",
   "metadata": {},
   "source": [
    "## import things"
   ]
  },
  {
   "cell_type": "code",
   "execution_count": 12,
   "id": "9dd6fdda-199c-4f4c-83cd-ad448201abf8",
   "metadata": {
    "execution": {
     "iopub.execute_input": "2022-11-17T22:50:48.796476Z",
     "iopub.status.busy": "2022-11-17T22:50:48.796249Z",
     "iopub.status.idle": "2022-11-17T22:50:48.863505Z",
     "shell.execute_reply": "2022-11-17T22:50:48.862826Z",
     "shell.execute_reply.started": "2022-11-17T22:50:48.796453Z"
    },
    "tags": []
   },
   "outputs": [
    {
     "data": {
      "application/vnd.jupyter.widget-view+json": {
       "model_id": "",
       "version_major": 2,
       "version_minor": 0
      },
      "text/plain": [
       "VBox()"
      ]
     },
     "metadata": {},
     "output_type": "display_data"
    },
    {
     "data": {
      "application/vnd.jupyter.widget-view+json": {
       "model_id": "",
       "version_major": 2,
       "version_minor": 0
      },
      "text/plain": [
       "FloatProgress(value=0.0, bar_style='info', description='Progress:', layout=Layout(height='25px', width='50%'),…"
      ]
     },
     "metadata": {},
     "output_type": "display_data"
    }
   ],
   "source": [
    "from pyspark.ml.feature import (\n",
    "    MinMaxScaler, StandardScaler, OneHotEncoderEstimator,\n",
    "    VectorAssembler, VectorIndexer\n",
    ")\n",
    "from pyspark.ml.regression import (\n",
    "    LinearRegression, DecisionTreeRegressor\n",
    ")\n",
    "from pyspark.ml.evaluation import RegressionEvaluator"
   ]
  },
  {
   "cell_type": "code",
   "execution_count": 10,
   "id": "bf1c4d05-f04f-4f2d-bdf0-dc01c752a477",
   "metadata": {
    "execution": {
     "iopub.execute_input": "2022-11-17T22:50:02.429155Z",
     "iopub.status.busy": "2022-11-17T22:50:02.428925Z",
     "iopub.status.idle": "2022-11-17T22:50:02.484092Z",
     "shell.execute_reply": "2022-11-17T22:50:02.483584Z",
     "shell.execute_reply.started": "2022-11-17T22:50:02.429129Z"
    },
    "tags": []
   },
   "outputs": [
    {
     "data": {
      "application/vnd.jupyter.widget-view+json": {
       "model_id": "",
       "version_major": 2,
       "version_minor": 0
      },
      "text/plain": [
       "VBox()"
      ]
     },
     "metadata": {},
     "output_type": "display_data"
    },
    {
     "data": {
      "application/vnd.jupyter.widget-view+json": {
       "model_id": "",
       "version_major": 2,
       "version_minor": 0
      },
      "text/plain": [
       "FloatProgress(value=0.0, bar_style='info', description='Progress:', layout=Layout(height='25px', width='50%'),…"
      ]
     },
     "metadata": {},
     "output_type": "display_data"
    }
   ],
   "source": [
    "from pyspark.ml import Pipeline"
   ]
  },
  {
   "cell_type": "code",
   "execution_count": 80,
   "id": "4f997142-3654-49c5-b1b1-9f8d55234dca",
   "metadata": {
    "execution": {
     "iopub.execute_input": "2022-11-17T20:53:41.943990Z",
     "iopub.status.busy": "2022-11-17T20:53:41.943747Z",
     "iopub.status.idle": "2022-11-17T20:53:44.219375Z",
     "shell.execute_reply": "2022-11-17T20:53:44.218709Z",
     "shell.execute_reply.started": "2022-11-17T20:53:41.943962Z"
    }
   },
   "outputs": [],
   "source": [
    "# ## OneHotEncoding\n",
    "\n",
    "# categorial_features = [\n",
    "#     # note: this must be of type numeric, not string. Spark MLlib is lame.\n",
    "#     'dept_dt_dow_int' \n",
    "# ]\n",
    "\n",
    "# ohe = OneHotEncoderEstimator(\n",
    "#     inputCols=categorial_features,\n",
    "#     outputCols=['dept_dow_enc']\n",
    "# )\n",
    "# ohe_model = ohe.fit(train)\n",
    "# df_enc = ohe_model.transform(train)\n",
    "\n",
    "# df_enc.select(\"out_departure_date\", \"dept_dt_dow\", \"dept_dow_enc\").show()\n",
    "\n",
    "# ## Scale\n",
    "\n",
    "# # scale_models = []\n",
    "# # for col in features_to_scale:\n",
    "# #     scaler = StandardScaler(inputCol=col, outputCol=f\"{col}_scaled\")\n",
    "# #     scale_model = scaler.fit(df_clip_shop)\n",
    "# #     df_enc = df_enc.transform(df_enc)\n",
    "    \n",
    "\n",
    "# scale_assembler = VectorAssembler(\n",
    "#     inputCols=features_to_scale,\n",
    "#     outputCol=\"features_to_scale\"\n",
    "# )\n",
    "# df_enc2 = scale_assembler.transform(df_enc)\n",
    "\n",
    "# scaler = StandardScaler(\n",
    "#     inputCol=scale_assembler.getOutputCol(),\n",
    "#     outputCol=\"scaled_features\"\n",
    "# )\n",
    "# scale_model = scaler.fit(df_enc2)\n",
    "# df_enc2 = scale_model.transform(df_enc2)\n",
    "\n",
    "# df_enc2.select(*features_to_scale, \"features_to_scale\", \"scaled_features\").show(10, truncate=False)\n",
    "\n",
    "# (df_enc2.orderBy(F.desc(\"trailing_std_fare\"))\n",
    "#  .select(*features_to_scale, \"features_to_scale\", \"scaled_features\")\n",
    "#  .show(10, truncate=False)\n",
    "# )\n",
    "\n",
    "# features_to_scale\n",
    "\n",
    "# i = 2\n",
    "# vs = VectorSlicer(inputCol='scaled_features', outputCol='ex', indices=[i])\n",
    "# ex_output = vs.transform(df_enc2)\n",
    "# ex_output.select(features_to_scale[i], 'ex').show(truncate=False)\n",
    "\n",
    "# (ex_output\n",
    "#  .orderBy(F.desc(features_to_scale[i]))\n",
    "#  .select(features_to_scale[i], 'ex')\n",
    "#  .show(10, truncate=False)\n",
    "# )"
   ]
  },
  {
   "cell_type": "code",
   "execution_count": 87,
   "id": "efeaf257-fc76-4d11-8f84-13782ed85c4b",
   "metadata": {
    "execution": {
     "iopub.execute_input": "2022-11-17T21:19:30.013181Z",
     "iopub.status.busy": "2022-11-17T21:19:30.012957Z",
     "iopub.status.idle": "2022-11-17T21:19:30.066798Z",
     "shell.execute_reply": "2022-11-17T21:19:30.066167Z",
     "shell.execute_reply.started": "2022-11-17T21:19:30.013158Z"
    }
   },
   "outputs": [],
   "source": [
    "# ## resume\n",
    "# MinMax Scale instead of norm\n",
    "\n",
    "# norm_assembler = VectorAssembler(\n",
    "#     inputCols=features_to_norm,\n",
    "#     outputCol=\"features_to_norm\"\n",
    "# )\n",
    "# df_enc3 = norm_assembler.transform(df_enc2)\n",
    "\n",
    "# normer = MinMaxScaler(\n",
    "#     inputCol=norm_assembler.getOutputCol(),\n",
    "#     outputCol=\"normed_features\"\n",
    "# )\n",
    "# norm_model = normer.fit(df_enc3)\n",
    "# df_enc3 = norm_model.transform(df_enc3)\n",
    "\n",
    "# vs = VectorSlicer(inputCol='normed_features', outputCol='ex', indices=[1])\n",
    "# ex_output = vs.transform(df_enc3)\n",
    "# ex_output.select(\"num_itin_prev_shop_day\", 'ex').show(truncate=False)\n",
    "\n",
    "# ex_output.orderBy(F.desc(\"num_itin_prev_shop_day\")).select(\"num_itin_prev_shop_day\", 'ex').show(10, truncate=False)\n",
    "\n",
    "# ## final assembly\n",
    "\n",
    "# df_enc3.columns\n",
    "\n",
    "# final_assembler = VectorAssembler(\n",
    "#     inputCols=['dept_dow_enc', 'scaled_features', 'normed_features'] + as_is_features,\n",
    "#     outputCol='features'\n",
    "# )\n",
    "# df_enc_final = final_assembler.transform(df_enc3)\n",
    "\n",
    "# df_enc_final.select('features').show(10, truncate=False)\n",
    "\n",
    "# ohe.getOutputCols()\n",
    "\n",
    "# new_list = [*ohe.getOutputCols(), \n",
    "#                scaler.getOutputCol(),\n",
    "#                normer.getOutputCol()\n",
    "#               ] + as_is_features\n",
    "\n",
    "# new_list"
   ]
  },
  {
   "cell_type": "markdown",
   "id": "c1796abf-6ca7-4a25-ba29-9a1bb51f6dab",
   "metadata": {},
   "source": [
    "# Pipeline"
   ]
  },
  {
   "cell_type": "code",
   "execution_count": 13,
   "id": "0653cb24-e771-4703-895e-eb90c860d263",
   "metadata": {
    "execution": {
     "iopub.execute_input": "2022-11-17T22:50:52.131696Z",
     "iopub.status.busy": "2022-11-17T22:50:52.131466Z",
     "iopub.status.idle": "2022-11-17T22:51:35.601588Z",
     "shell.execute_reply": "2022-11-17T22:51:35.600414Z",
     "shell.execute_reply.started": "2022-11-17T22:50:52.131672Z"
    },
    "tags": []
   },
   "outputs": [
    {
     "data": {
      "application/vnd.jupyter.widget-view+json": {
       "model_id": "",
       "version_major": 2,
       "version_minor": 0
      },
      "text/plain": [
       "VBox()"
      ]
     },
     "metadata": {},
     "output_type": "display_data"
    },
    {
     "data": {
      "application/vnd.jupyter.widget-view+json": {
       "model_id": "",
       "version_major": 2,
       "version_minor": 0
      },
      "text/plain": [
       "FloatProgress(value=0.0, bar_style='info', description='Progress:', layout=Layout(height='25px', width='50%'),…"
      ]
     },
     "metadata": {},
     "output_type": "display_data"
    }
   ],
   "source": [
    "ohe = OneHotEncoderEstimator(\n",
    "    inputCols=categorial_features,\n",
    "    outputCols=['dept_dow_enc']\n",
    ")\n",
    "\n",
    "scale_assembler = VectorAssembler(\n",
    "    inputCols=features_to_scale,\n",
    "    outputCol=\"features_to_scale\"\n",
    ")\n",
    "\n",
    "scaler = StandardScaler(\n",
    "    inputCol=scale_assembler.getOutputCol(),\n",
    "    outputCol=\"scaled_features\"\n",
    ")\n",
    "\n",
    "norm_assembler = VectorAssembler(\n",
    "    inputCols=features_to_norm,\n",
    "    outputCol=\"features_to_norm\"\n",
    ")\n",
    "\n",
    "normer = MinMaxScaler(\n",
    "    inputCol=norm_assembler.getOutputCol(),\n",
    "    outputCol=\"normed_features\"\n",
    ")\n",
    "\n",
    "# Note: if shuffling data doesn't work, add a VectorSizeHint here\n",
    "# https://spark.apache.org/docs/2.4.8/ml-features.html#vectorsizehint\n",
    "# I think this is what's going on: https://www.matthewslipper.com/2017/10/01/watch-out-vectorassembler-incompatible-spark-streaming.html\n",
    "final_assembler = VectorAssembler(\n",
    "    inputCols=[*ohe.getOutputCols(), \n",
    "               scaler.getOutputCol(),\n",
    "               normer.getOutputCol()\n",
    "              ] + as_is_features,\n",
    "    outputCol='features'\n",
    ")\n",
    "\n",
    "regression_model = LinearRegression(\n",
    "    #  elasticNetParam corresponds to α (ratio) and regParam corresponds to λ (weight).\n",
    "    labelCol=\"fare\",\n",
    "    maxIter=20,\n",
    "    # will need to tune these\n",
    "    regParam=0.1,\n",
    "    elasticNetParam=0.5\n",
    ")\n",
    "\n",
    "pipeline = Pipeline(stages=[\n",
    "    scale_assembler,\n",
    "    norm_assembler,\n",
    "    ohe, \n",
    "    scaler,\n",
    "    normer,\n",
    "    final_assembler,\n",
    "    regression_model\n",
    "])\n",
    "\n",
    "model = pipeline.fit(train_shuffled)\n",
    "test_tx = model.transform(test)"
   ]
  },
  {
   "cell_type": "markdown",
   "id": "ff801367-5de4-4bb0-8945-dbf93bc0a3f4",
   "metadata": {},
   "source": [
    "## evalu"
   ]
  },
  {
   "cell_type": "code",
   "execution_count": 121,
   "id": "14045e22-83b4-447d-b329-81c33d07c4fd",
   "metadata": {
    "execution": {
     "iopub.execute_input": "2022-11-17T21:41:30.835236Z",
     "iopub.status.busy": "2022-11-17T21:41:30.834909Z",
     "iopub.status.idle": "2022-11-17T21:41:40.130452Z",
     "shell.execute_reply": "2022-11-17T21:41:40.129855Z",
     "shell.execute_reply.started": "2022-11-17T21:41:30.835196Z"
    }
   },
   "outputs": [
    {
     "data": {
      "application/vnd.jupyter.widget-view+json": {
       "model_id": "",
       "version_major": 2,
       "version_minor": 0
      },
      "text/plain": [
       "VBox()"
      ]
     },
     "metadata": {},
     "output_type": "display_data"
    },
    {
     "data": {
      "application/vnd.jupyter.widget-view+json": {
       "model_id": "",
       "version_major": 2,
       "version_minor": 0
      },
      "text/plain": [
       "FloatProgress(value=0.0, bar_style='info', description='Progress:', layout=Layout(height='25px', width='50%'),…"
      ]
     },
     "metadata": {},
     "output_type": "display_data"
    },
    {
     "name": "stdout",
     "output_type": "stream",
     "text": [
      "147.86357971629198"
     ]
    }
   ],
   "source": [
    "evaluator = RegressionEvaluator(\n",
    "    labelCol=\"fare\"\n",
    ")\n",
    "# guess this is MSE?\n",
    "evaluator.evaluate(test_tx)"
   ]
  },
  {
   "cell_type": "code",
   "execution_count": 123,
   "id": "7d6b82eb-5c1f-4b3e-bcd1-91a058b32950",
   "metadata": {
    "execution": {
     "iopub.execute_input": "2022-11-17T21:43:00.907397Z",
     "iopub.status.busy": "2022-11-17T21:43:00.907161Z",
     "iopub.status.idle": "2022-11-17T21:43:08.201061Z",
     "shell.execute_reply": "2022-11-17T21:43:08.200379Z",
     "shell.execute_reply.started": "2022-11-17T21:43:00.907372Z"
    },
    "tags": []
   },
   "outputs": [
    {
     "data": {
      "application/vnd.jupyter.widget-view+json": {
       "model_id": "",
       "version_major": 2,
       "version_minor": 0
      },
      "text/plain": [
       "VBox()"
      ]
     },
     "metadata": {},
     "output_type": "display_data"
    },
    {
     "data": {
      "application/vnd.jupyter.widget-view+json": {
       "model_id": "",
       "version_major": 2,
       "version_minor": 0
      },
      "text/plain": [
       "FloatProgress(value=0.0, bar_style='info', description='Progress:', layout=Layout(height='25px', width='50%'),…"
      ]
     },
     "metadata": {},
     "output_type": "display_data"
    },
    {
     "name": "stdout",
     "output_type": "stream",
     "text": [
      "0.651822747779349"
     ]
    }
   ],
   "source": [
    "# evaluator.evaluate(test_tx, {evaluator.metricName: \"mape\"})\n",
    "evaluator.evaluate(test_tx, {evaluator.metricName: \"r2\"})"
   ]
  },
  {
   "cell_type": "code",
   "execution_count": 124,
   "id": "95773348-c153-4b47-bb27-b5c07296a032",
   "metadata": {
    "execution": {
     "iopub.execute_input": "2022-11-17T21:43:10.129610Z",
     "iopub.status.busy": "2022-11-17T21:43:10.129376Z",
     "iopub.status.idle": "2022-11-17T21:43:12.412486Z",
     "shell.execute_reply": "2022-11-17T21:43:12.411752Z",
     "shell.execute_reply.started": "2022-11-17T21:43:10.129575Z"
    }
   },
   "outputs": [
    {
     "data": {
      "application/vnd.jupyter.widget-view+json": {
       "model_id": "",
       "version_major": 2,
       "version_minor": 0
      },
      "text/plain": [
       "VBox()"
      ]
     },
     "metadata": {},
     "output_type": "display_data"
    },
    {
     "data": {
      "application/vnd.jupyter.widget-view+json": {
       "model_id": "",
       "version_major": 2,
       "version_minor": 0
      },
      "text/plain": [
       "FloatProgress(value=0.0, bar_style='info', description='Progress:', layout=Layout(height='25px', width='50%'),…"
      ]
     },
     "metadata": {},
     "output_type": "display_data"
    },
    {
     "name": "stdout",
     "output_type": "stream",
     "text": [
      "35.36802506337732"
     ]
    }
   ],
   "source": [
    "evaluator.evaluate(test_tx, {evaluator.metricName: \"mae\"})"
   ]
  },
  {
   "cell_type": "code",
   "execution_count": 130,
   "id": "298d6bd1-e800-48f0-babe-b2c8ce771a4d",
   "metadata": {
    "execution": {
     "iopub.execute_input": "2022-11-17T22:25:33.795952Z",
     "iopub.status.busy": "2022-11-17T22:25:33.795707Z",
     "iopub.status.idle": "2022-11-17T22:25:34.056270Z",
     "shell.execute_reply": "2022-11-17T22:25:34.055673Z",
     "shell.execute_reply.started": "2022-11-17T22:25:33.795926Z"
    },
    "tags": []
   },
   "outputs": [
    {
     "data": {
      "application/vnd.jupyter.widget-view+json": {
       "model_id": "68529dfac07f407d913f4bd20ff0918f",
       "version_major": 2,
       "version_minor": 0
      },
      "text/plain": [
       "VBox()"
      ]
     },
     "metadata": {},
     "output_type": "display_data"
    },
    {
     "data": {
      "application/vnd.jupyter.widget-view+json": {
       "model_id": "",
       "version_major": 2,
       "version_minor": 0
      },
      "text/plain": [
       "FloatProgress(value=0.0, bar_style='info', description='Progress:', layout=Layout(height='25px', width='50%'),…"
      ]
     },
     "metadata": {},
     "output_type": "display_data"
    }
   ],
   "source": [
    "# calculate MAPE by hand\n",
    "test_tx = (test_tx\n",
    "           .withColumn(\"pred_err\", F.col(\"fare\") - F.col(\"prediction\"))\n",
    "           .withColumn(\"abs_pred_err\", F.abs(F.col(\"pred_err\")))\n",
    "           .withColumn(\"abs_pct_err\", F.col(\"abs_pred_err\") / F.col(\"fare\"))\n",
    "          )"
   ]
  },
  {
   "cell_type": "code",
   "execution_count": 133,
   "id": "fc673c0f-c874-4d1e-9c1c-f3b0945a5971",
   "metadata": {
    "execution": {
     "iopub.execute_input": "2022-11-17T22:25:57.571669Z",
     "iopub.status.busy": "2022-11-17T22:25:57.571452Z",
     "iopub.status.idle": "2022-11-17T22:26:06.878019Z",
     "shell.execute_reply": "2022-11-17T22:26:06.877355Z",
     "shell.execute_reply.started": "2022-11-17T22:25:57.571645Z"
    },
    "tags": []
   },
   "outputs": [
    {
     "data": {
      "application/vnd.jupyter.widget-view+json": {
       "model_id": "9b6edc0fad6746968e34940aae1d2e90",
       "version_major": 2,
       "version_minor": 0
      },
      "text/plain": [
       "VBox()"
      ]
     },
     "metadata": {},
     "output_type": "display_data"
    },
    {
     "data": {
      "application/vnd.jupyter.widget-view+json": {
       "model_id": "",
       "version_major": 2,
       "version_minor": 0
      },
      "text/plain": [
       "FloatProgress(value=0.0, bar_style='info', description='Progress:', layout=Layout(height='25px', width='50%'),…"
      ]
     },
     "metadata": {},
     "output_type": "display_data"
    },
    {
     "name": "stdout",
     "output_type": "stream",
     "text": [
      "+-------+------------------+---------+------+------------------+-------------------+------------------+--------------------+\n",
      "| market|out_departure_date|shop_date|  fare|        prediction|           pred_err|      abs_pred_err|         abs_pct_err|\n",
      "+-------+------------------+---------+------+------------------+-------------------+------------------+--------------------+\n",
      "|ATL-EWR|          20221025| 20221019| 72.59|58.912710815737555| 13.677289184262449|13.677289184262449| 0.18841836594933803|\n",
      "|ATL-EWR|          20221026| 20221021|  68.6| 57.98717889417168| 10.612821105828317|10.612821105828317|  0.1547058470237364|\n",
      "|ATL-EWR|          20221027| 20221019| 72.59| 67.79875862802177|  4.791241371978231| 4.791241371978231| 0.06600415170103638|\n",
      "|ATL-EWR|          20221027| 20221020|  68.6| 66.75598195841206| 1.8440180415879297|1.8440180415879297|0.026880729469211804|\n",
      "|ATL-EWR|          20221027| 20221021|  68.6|  64.0027741120784|  4.597225887921596| 4.597225887921596|  0.0670149546344256|\n",
      "|ATL-EWR|          20221029| 20221022|  68.6| 59.83481749583426|  8.765182504165736| 8.765182504165736|  0.1277723397108708|\n",
      "|ATL-EWR|          20221030| 20221021|  68.6| 74.66108651484744| -6.061086514847446| 6.061086514847446| 0.08835403082867997|\n",
      "|ATL-EWR|          20221030| 20221024| 107.6| 76.73807381961915|  30.86192618038085| 30.86192618038085|  0.2868208752823499|\n",
      "|ATL-EWR|          20221031| 20221018|  68.6| 59.36571923041427|  9.234280769585723| 9.234280769585723| 0.13461050684527295|\n",
      "|ATL-EWR|          20221031| 20221025|  68.6| 66.75117753865331| 1.8488224613466855|1.8488224613466855|0.026950764742663055|\n",
      "|ATL-EWR|          20221101| 20221024|  68.6| 61.73232105742716|  6.867678942572837| 6.867678942572837| 0.10011193793837957|\n",
      "|ATL-EWR|          20221101| 20221025| 43.59|58.965459556224374| -15.37545955622437| 15.37545955622437| 0.35272905611893485|\n",
      "|ATL-EWR|          20221102| 20221021|  68.6|52.533840991822984|  16.06615900817701| 16.06615900817701| 0.23420056863231795|\n",
      "|ATL-EWR|          20221103| 20221022|  68.6|59.709849371181626|  8.890150628818368| 8.890150628818368| 0.12959403249006368|\n",
      "|ATL-EWR|          20221104| 20221028| 65.91| 63.73908940940673|  2.170910590593266| 2.170910590593266|0.032937499477973996|\n",
      "|ATL-EWR|          20221105| 20221019| 48.59|49.701373606925245|-1.1113736069252411|1.1113736069252411| 0.02287247596059356|\n",
      "|ATL-EWR|          20221105| 20221028| 43.59| 56.90082490029381| -13.31082490029381| 13.31082490029381| 0.30536418674681826|\n",
      "|ATL-EWR|          20221105| 20221031| 43.59| 51.65989872169384|  -8.06989872169384|  8.06989872169384| 0.18513188166308417|\n",
      "|ATL-EWR|          20221106| 20221027|147.59|108.43532033375554|  39.15467966624446| 39.15467966624446| 0.26529358131475345|\n",
      "|ATL-EWR|          20221106| 20221029| 72.59|  86.6465325171621|-14.056532517162097|14.056532517162097|  0.1936428229392767|\n",
      "+-------+------------------+---------+------+------------------+-------------------+------------------+--------------------+\n",
      "only showing top 20 rows"
     ]
    }
   ],
   "source": [
    "test_tx.select(\"market\", \"out_departure_date\", \"shop_date\", \"fare\", \"prediction\", \"pred_err\", \"abs_pred_err\", \"abs_pct_err\").show()"
   ]
  },
  {
   "cell_type": "code",
   "execution_count": 19,
   "id": "dcdec291-7a14-49dc-afe0-69349fccdeac",
   "metadata": {
    "execution": {
     "iopub.execute_input": "2022-11-17T22:58:27.787146Z",
     "iopub.status.busy": "2022-11-17T22:58:27.786909Z",
     "iopub.status.idle": "2022-11-17T22:58:27.842606Z",
     "shell.execute_reply": "2022-11-17T22:58:27.842035Z",
     "shell.execute_reply.started": "2022-11-17T22:58:27.787122Z"
    }
   },
   "outputs": [
    {
     "data": {
      "application/vnd.jupyter.widget-view+json": {
       "model_id": "",
       "version_major": 2,
       "version_minor": 0
      },
      "text/plain": [
       "VBox()"
      ]
     },
     "metadata": {},
     "output_type": "display_data"
    },
    {
     "data": {
      "application/vnd.jupyter.widget-view+json": {
       "model_id": "",
       "version_major": 2,
       "version_minor": 0
      },
      "text/plain": [
       "FloatProgress(value=0.0, bar_style='info', description='Progress:', layout=Layout(height='25px', width='50%'),…"
      ]
     },
     "metadata": {},
     "output_type": "display_data"
    },
    {
     "name": "stderr",
     "output_type": "stream",
     "text": [
      "Exception in thread cell_monitor-19:\n",
      "Traceback (most recent call last):\n",
      "  File \"/mnt/notebook-env/lib/python3.7/threading.py\", line 926, in _bootstrap_inner\n",
      "    self.run()\n",
      "  File \"/mnt/notebook-env/lib/python3.7/threading.py\", line 870, in run\n",
      "    self._target(*self._args, **self._kwargs)\n",
      "  File \"/mnt/notebook-env/lib/python3.7/site-packages/awseditorssparkmonitoringwidget-1.0-py3.7.egg/awseditorssparkmonitoringwidget/cellmonitor.py\", line 154, in cell_monitor\n",
      "    job_group_filtered_jobs = [job for job in jobs_data if job['jobGroup'] == str(statement_id)]\n",
      "  File \"/mnt/notebook-env/lib/python3.7/site-packages/awseditorssparkmonitoringwidget-1.0-py3.7.egg/awseditorssparkmonitoringwidget/cellmonitor.py\", line 154, in <listcomp>\n",
      "    job_group_filtered_jobs = [job for job in jobs_data if job['jobGroup'] == str(statement_id)]\n",
      "KeyError: 'jobGroup'\n",
      "\n"
     ]
    }
   ],
   "source": [
    "def calc_abs_pct_err(df, pred_col=\"prediction\"):\n",
    "    df = (df\n",
    "           .withColumn(\"pred_err\", F.col(\"fare\") - F.col(pred_col))\n",
    "           .withColumn(\"abs_pred_err\", F.abs(F.col(\"pred_err\")))\n",
    "           .withColumn(\"abs_pct_err\", F.col(\"abs_pred_err\") / F.col(\"fare\"))\n",
    "          )\n",
    "    return df"
   ]
  },
  {
   "cell_type": "code",
   "execution_count": 134,
   "id": "7f589e5f-ccab-466a-a3b9-a1b629ef4192",
   "metadata": {
    "execution": {
     "iopub.execute_input": "2022-11-17T22:26:22.760384Z",
     "iopub.status.busy": "2022-11-17T22:26:22.760156Z",
     "iopub.status.idle": "2022-11-17T22:26:25.046502Z",
     "shell.execute_reply": "2022-11-17T22:26:25.045800Z",
     "shell.execute_reply.started": "2022-11-17T22:26:22.760360Z"
    },
    "tags": []
   },
   "outputs": [
    {
     "data": {
      "application/vnd.jupyter.widget-view+json": {
       "model_id": "c6b3504d8bb44c67bd4780f7bcb5fa62",
       "version_major": 2,
       "version_minor": 0
      },
      "text/plain": [
       "VBox()"
      ]
     },
     "metadata": {},
     "output_type": "display_data"
    },
    {
     "data": {
      "application/vnd.jupyter.widget-view+json": {
       "model_id": "",
       "version_major": 2,
       "version_minor": 0
      },
      "text/plain": [
       "FloatProgress(value=0.0, bar_style='info', description='Progress:', layout=Layout(height='25px', width='50%'),…"
      ]
     },
     "metadata": {},
     "output_type": "display_data"
    },
    {
     "name": "stdout",
     "output_type": "stream",
     "text": [
      "+-------------------+\n",
      "|               mape|\n",
      "+-------------------+\n",
      "|0.14932619204051534|\n",
      "+-------------------+"
     ]
    }
   ],
   "source": [
    "test_tx.select(F.mean(\"abs_pct_err\").alias(\"mape\")).show()"
   ]
  },
  {
   "cell_type": "code",
   "execution_count": 137,
   "id": "3b2d8aa2-f3e1-4df2-8fb7-7ad68340a54a",
   "metadata": {
    "execution": {
     "iopub.execute_input": "2022-11-17T22:27:03.684065Z",
     "iopub.status.busy": "2022-11-17T22:27:03.683828Z",
     "iopub.status.idle": "2022-11-17T22:27:05.965635Z",
     "shell.execute_reply": "2022-11-17T22:27:05.964929Z",
     "shell.execute_reply.started": "2022-11-17T22:27:03.684040Z"
    },
    "tags": []
   },
   "outputs": [
    {
     "data": {
      "application/vnd.jupyter.widget-view+json": {
       "model_id": "3df41c0dbf1c4baeb5660e4fc451e720",
       "version_major": 2,
       "version_minor": 0
      },
      "text/plain": [
       "VBox()"
      ]
     },
     "metadata": {},
     "output_type": "display_data"
    },
    {
     "data": {
      "application/vnd.jupyter.widget-view+json": {
       "model_id": "",
       "version_major": 2,
       "version_minor": 0
      },
      "text/plain": [
       "FloatProgress(value=0.0, bar_style='info', description='Progress:', layout=Layout(height='25px', width='50%'),…"
      ]
     },
     "metadata": {},
     "output_type": "display_data"
    },
    {
     "name": "stdout",
     "output_type": "stream",
     "text": [
      "+-------+--------------------+\n",
      "| market|                mape|\n",
      "+-------+--------------------+\n",
      "|LHR-EWR|0.045151099809955415|\n",
      "|LHR-JFK|0.060324624848442476|\n",
      "|EWR-LHR| 0.08656433938057669|\n",
      "|LHR-LAX| 0.10295271078710452|\n",
      "|JFK-LHR|   0.113395665248697|\n",
      "|LAX-EWR| 0.12455392098372574|\n",
      "|LAX-JFK| 0.12836529342361255|\n",
      "|JFK-LAX| 0.12958263317090377|\n",
      "|EWR-CDG| 0.13332879085323493|\n",
      "|ATL-EWR| 0.15042672584419317|\n",
      "|LGA-MIA|  0.2291117225446786|\n",
      "|LAX-SFO| 0.25686493430822466|\n",
      "|SFO-LAX| 0.26226365351769315|\n",
      "|OAK-LAS|   0.421095149942065|\n",
      "+-------+--------------------+"
     ]
    }
   ],
   "source": [
    "test_tx.groupBy(\"market\").agg(F.mean(\"abs_pct_err\").alias(\"mape\")).orderBy(\"mape\").show()"
   ]
  },
  {
   "cell_type": "markdown",
   "id": "339b0f90-c206-4e36-813b-6ba2be629482",
   "metadata": {},
   "source": [
    "# tune hyperparams"
   ]
  },
  {
   "cell_type": "code",
   "execution_count": 14,
   "id": "22063f2e-a404-45c9-87b8-9bea2b6bcff2",
   "metadata": {
    "execution": {
     "iopub.execute_input": "2022-11-17T22:51:35.602842Z",
     "iopub.status.busy": "2022-11-17T22:51:35.602670Z",
     "iopub.status.idle": "2022-11-17T22:51:35.683842Z",
     "shell.execute_reply": "2022-11-17T22:51:35.676264Z",
     "shell.execute_reply.started": "2022-11-17T22:51:35.602820Z"
    },
    "tags": []
   },
   "outputs": [
    {
     "data": {
      "application/vnd.jupyter.widget-view+json": {
       "model_id": "",
       "version_major": 2,
       "version_minor": 0
      },
      "text/plain": [
       "VBox()"
      ]
     },
     "metadata": {},
     "output_type": "display_data"
    },
    {
     "data": {
      "application/vnd.jupyter.widget-view+json": {
       "model_id": "",
       "version_major": 2,
       "version_minor": 0
      },
      "text/plain": [
       "FloatProgress(value=0.0, bar_style='info', description='Progress:', layout=Layout(height='25px', width='50%'),…"
      ]
     },
     "metadata": {},
     "output_type": "display_data"
    }
   ],
   "source": [
    "from pyspark.ml.tuning import CrossValidator, ParamGridBuilder"
   ]
  },
  {
   "cell_type": "code",
   "execution_count": 15,
   "id": "1a8af344-9845-40b7-83d6-774e6d934d1e",
   "metadata": {
    "execution": {
     "iopub.execute_input": "2022-11-17T22:54:52.805035Z",
     "iopub.status.busy": "2022-11-17T22:54:52.804799Z",
     "iopub.status.idle": "2022-11-17T22:54:52.863759Z",
     "shell.execute_reply": "2022-11-17T22:54:52.863226Z",
     "shell.execute_reply.started": "2022-11-17T22:54:52.805009Z"
    },
    "tags": []
   },
   "outputs": [
    {
     "data": {
      "application/vnd.jupyter.widget-view+json": {
       "model_id": "",
       "version_major": 2,
       "version_minor": 0
      },
      "text/plain": [
       "VBox()"
      ]
     },
     "metadata": {},
     "output_type": "display_data"
    },
    {
     "data": {
      "application/vnd.jupyter.widget-view+json": {
       "model_id": "",
       "version_major": 2,
       "version_minor": 0
      },
      "text/plain": [
       "FloatProgress(value=0.0, bar_style='info', description='Progress:', layout=Layout(height='25px', width='50%'),…"
      ]
     },
     "metadata": {},
     "output_type": "display_data"
    }
   ],
   "source": [
    "param_grid = (ParamGridBuilder()\n",
    "              # regParam is lambda (weight / factor), elasticNet is alpha (ratio)\n",
    "              # note alpha is the opposite of sklearn's defintion\n",
    "              .addGrid(regression_model.elasticNetParam, [0.01, 0.1, 0.5, 0.9, 0.99])\n",
    "              .addGrid(regression_model.regParam, [0.01, 0.1, 1, 10, 100])\n",
    "              .build()\n",
    "             )\n",
    "\n",
    "cv = CrossValidator(estimator=pipeline,\n",
    "                    estimatorParamMaps=param_grid,\n",
    "                    evaluator=RegressionEvaluator(labelCol=\"fare\"),\n",
    "                    numFolds=3,\n",
    "                    parallelism=5\n",
    "                   )"
   ]
  },
  {
   "cell_type": "code",
   "execution_count": 16,
   "id": "cfaed1ff-02c0-4b3b-87be-05d1ad44cbb8",
   "metadata": {
    "collapsed": true,
    "execution": {
     "iopub.execute_input": "2022-11-17T22:54:57.872311Z",
     "iopub.status.busy": "2022-11-17T22:54:57.871771Z",
     "iopub.status.idle": "2022-11-17T22:56:25.254180Z",
     "shell.execute_reply": "2022-11-17T22:56:25.253594Z",
     "shell.execute_reply.started": "2022-11-17T22:54:57.872267Z"
    },
    "jupyter": {
     "outputs_hidden": true
    },
    "tags": []
   },
   "outputs": [
    {
     "data": {
      "application/vnd.jupyter.widget-view+json": {
       "model_id": "300c5a8620e24c709bb593f6af98af2c",
       "version_major": 2,
       "version_minor": 0
      },
      "text/plain": [
       "VBox()"
      ]
     },
     "metadata": {},
     "output_type": "display_data"
    },
    {
     "data": {
      "application/vnd.jupyter.widget-view+json": {
       "model_id": "",
       "version_major": 2,
       "version_minor": 0
      },
      "text/plain": [
       "FloatProgress(value=0.0, bar_style='info', description='Progress:', layout=Layout(height='25px', width='50%'),…"
      ]
     },
     "metadata": {},
     "output_type": "display_data"
    },
    {
     "name": "stderr",
     "output_type": "stream",
     "text": [
      "Exception in thread cell_monitor-16:\n",
      "Traceback (most recent call last):\n",
      "  File \"/mnt/notebook-env/lib/python3.7/threading.py\", line 926, in _bootstrap_inner\n",
      "    self.run()\n",
      "  File \"/mnt/notebook-env/lib/python3.7/threading.py\", line 870, in run\n",
      "    self._target(*self._args, **self._kwargs)\n",
      "  File \"/mnt/notebook-env/lib/python3.7/site-packages/awseditorssparkmonitoringwidget-1.0-py3.7.egg/awseditorssparkmonitoringwidget/cellmonitor.py\", line 154, in cell_monitor\n",
      "    job_group_filtered_jobs = [job for job in jobs_data if job['jobGroup'] == str(statement_id)]\n",
      "  File \"/mnt/notebook-env/lib/python3.7/site-packages/awseditorssparkmonitoringwidget-1.0-py3.7.egg/awseditorssparkmonitoringwidget/cellmonitor.py\", line 154, in <listcomp>\n",
      "    job_group_filtered_jobs = [job for job in jobs_data if job['jobGroup'] == str(statement_id)]\n",
      "KeyError: 'jobGroup'\n",
      "\n"
     ]
    }
   ],
   "source": [
    "cv_model = cv.fit(train)"
   ]
  },
  {
   "cell_type": "code",
   "execution_count": 17,
   "id": "523eb031-3410-4789-9414-6f03a151da03",
   "metadata": {
    "execution": {
     "iopub.execute_input": "2022-11-17T22:56:57.393306Z",
     "iopub.status.busy": "2022-11-17T22:56:57.393082Z",
     "iopub.status.idle": "2022-11-17T22:56:59.692270Z",
     "shell.execute_reply": "2022-11-17T22:56:59.691563Z",
     "shell.execute_reply.started": "2022-11-17T22:56:57.393281Z"
    }
   },
   "outputs": [
    {
     "data": {
      "application/vnd.jupyter.widget-view+json": {
       "model_id": "",
       "version_major": 2,
       "version_minor": 0
      },
      "text/plain": [
       "VBox()"
      ]
     },
     "metadata": {},
     "output_type": "display_data"
    },
    {
     "data": {
      "application/vnd.jupyter.widget-view+json": {
       "model_id": "",
       "version_major": 2,
       "version_minor": 0
      },
      "text/plain": [
       "FloatProgress(value=0.0, bar_style='info', description='Progress:', layout=Layout(height='25px', width='50%'),…"
      ]
     },
     "metadata": {},
     "output_type": "display_data"
    },
    {
     "name": "stderr",
     "output_type": "stream",
     "text": [
      "Exception in thread cell_monitor-17:\n",
      "Traceback (most recent call last):\n",
      "  File \"/mnt/notebook-env/lib/python3.7/threading.py\", line 926, in _bootstrap_inner\n",
      "    self.run()\n",
      "  File \"/mnt/notebook-env/lib/python3.7/threading.py\", line 870, in run\n",
      "    self._target(*self._args, **self._kwargs)\n",
      "  File \"/mnt/notebook-env/lib/python3.7/site-packages/awseditorssparkmonitoringwidget-1.0-py3.7.egg/awseditorssparkmonitoringwidget/cellmonitor.py\", line 154, in cell_monitor\n",
      "    job_group_filtered_jobs = [job for job in jobs_data if job['jobGroup'] == str(statement_id)]\n",
      "  File \"/mnt/notebook-env/lib/python3.7/site-packages/awseditorssparkmonitoringwidget-1.0-py3.7.egg/awseditorssparkmonitoringwidget/cellmonitor.py\", line 154, in <listcomp>\n",
      "    job_group_filtered_jobs = [job for job in jobs_data if job['jobGroup'] == str(statement_id)]\n",
      "KeyError: 'jobGroup'\n",
      "\n"
     ]
    }
   ],
   "source": [
    "pred_cv = cv_model.transform(test)"
   ]
  },
  {
   "cell_type": "code",
   "execution_count": 18,
   "id": "8533acce-c494-4280-abae-3e3b9e74dd70",
   "metadata": {
    "execution": {
     "iopub.execute_input": "2022-11-17T22:57:37.738713Z",
     "iopub.status.busy": "2022-11-17T22:57:37.738136Z",
     "iopub.status.idle": "2022-11-17T22:57:40.072497Z",
     "shell.execute_reply": "2022-11-17T22:57:40.071773Z",
     "shell.execute_reply.started": "2022-11-17T22:57:37.738667Z"
    }
   },
   "outputs": [
    {
     "data": {
      "application/vnd.jupyter.widget-view+json": {
       "model_id": "",
       "version_major": 2,
       "version_minor": 0
      },
      "text/plain": [
       "VBox()"
      ]
     },
     "metadata": {},
     "output_type": "display_data"
    },
    {
     "data": {
      "application/vnd.jupyter.widget-view+json": {
       "model_id": "",
       "version_major": 2,
       "version_minor": 0
      },
      "text/plain": [
       "FloatProgress(value=0.0, bar_style='info', description='Progress:', layout=Layout(height='25px', width='50%'),…"
      ]
     },
     "metadata": {},
     "output_type": "display_data"
    },
    {
     "name": "stderr",
     "output_type": "stream",
     "text": [
      "Exception in thread cell_monitor-18:\n",
      "Traceback (most recent call last):\n",
      "  File \"/mnt/notebook-env/lib/python3.7/threading.py\", line 926, in _bootstrap_inner\n",
      "    self.run()\n",
      "  File \"/mnt/notebook-env/lib/python3.7/threading.py\", line 870, in run\n",
      "    self._target(*self._args, **self._kwargs)\n",
      "  File \"/mnt/notebook-env/lib/python3.7/site-packages/awseditorssparkmonitoringwidget-1.0-py3.7.egg/awseditorssparkmonitoringwidget/cellmonitor.py\", line 154, in cell_monitor\n",
      "    job_group_filtered_jobs = [job for job in jobs_data if job['jobGroup'] == str(statement_id)]\n",
      "  File \"/mnt/notebook-env/lib/python3.7/site-packages/awseditorssparkmonitoringwidget-1.0-py3.7.egg/awseditorssparkmonitoringwidget/cellmonitor.py\", line 154, in <listcomp>\n",
      "    job_group_filtered_jobs = [job for job in jobs_data if job['jobGroup'] == str(statement_id)]\n",
      "KeyError: 'jobGroup'\n",
      "\n"
     ]
    },
    {
     "name": "stdout",
     "output_type": "stream",
     "text": [
      "+-------+------------------+---------+------+------------------+\n",
      "| market|out_departure_date|shop_date|  fare|        prediction|\n",
      "+-------+------------------+---------+------+------------------+\n",
      "|ATL-EWR|          20221025| 20221019| 72.59| 59.68935230623153|\n",
      "|ATL-EWR|          20221026| 20221021|  68.6| 58.68260177673353|\n",
      "|ATL-EWR|          20221027| 20221019| 72.59|  68.7014445522757|\n",
      "|ATL-EWR|          20221027| 20221020|  68.6| 67.85245886419106|\n",
      "|ATL-EWR|          20221027| 20221021|  68.6| 64.92072286053926|\n",
      "|ATL-EWR|          20221029| 20221022|  68.6| 60.81067207918256|\n",
      "|ATL-EWR|          20221030| 20221021|  68.6|  75.5736277042584|\n",
      "|ATL-EWR|          20221030| 20221024| 107.6| 77.91242383628223|\n",
      "|ATL-EWR|          20221031| 20221018|  68.6|60.362345969818605|\n",
      "|ATL-EWR|          20221031| 20221025|  68.6| 67.69407317361086|\n",
      "|ATL-EWR|          20221101| 20221024|  68.6| 62.46751204715671|\n",
      "|ATL-EWR|          20221101| 20221025| 43.59| 59.65130929230471|\n",
      "|ATL-EWR|          20221102| 20221021|  68.6| 53.47635894851679|\n",
      "|ATL-EWR|          20221103| 20221022|  68.6| 60.96506686845928|\n",
      "|ATL-EWR|          20221104| 20221028| 65.91| 64.92614067107228|\n",
      "|ATL-EWR|          20221105| 20221019| 48.59|50.790497378512626|\n",
      "|ATL-EWR|          20221105| 20221028| 43.59|58.045821296706606|\n",
      "|ATL-EWR|          20221105| 20221031| 43.59| 52.92647623736975|\n",
      "|ATL-EWR|          20221106| 20221027|147.59|108.59717278215395|\n",
      "|ATL-EWR|          20221106| 20221029| 72.59| 86.81693790007188|\n",
      "+-------+------------------+---------+------+------------------+\n",
      "only showing top 20 rows"
     ]
    }
   ],
   "source": [
    "pred_cv.select(\"market\", \"out_departure_date\", \"shop_date\", \"fare\", \"prediction\").show() #, \"pred_err\", \"abs_pred_err\", \"abs_pct_err\").show()"
   ]
  },
  {
   "cell_type": "code",
   "execution_count": 20,
   "id": "81831e86-a2f9-4b87-a225-0c96f8cbb5b9",
   "metadata": {
    "execution": {
     "iopub.execute_input": "2022-11-17T22:58:43.486432Z",
     "iopub.status.busy": "2022-11-17T22:58:43.486201Z",
     "iopub.status.idle": "2022-11-17T22:58:43.744603Z",
     "shell.execute_reply": "2022-11-17T22:58:43.743860Z",
     "shell.execute_reply.started": "2022-11-17T22:58:43.486407Z"
    }
   },
   "outputs": [
    {
     "data": {
      "application/vnd.jupyter.widget-view+json": {
       "model_id": "",
       "version_major": 2,
       "version_minor": 0
      },
      "text/plain": [
       "VBox()"
      ]
     },
     "metadata": {},
     "output_type": "display_data"
    },
    {
     "data": {
      "application/vnd.jupyter.widget-view+json": {
       "model_id": "",
       "version_major": 2,
       "version_minor": 0
      },
      "text/plain": [
       "FloatProgress(value=0.0, bar_style='info', description='Progress:', layout=Layout(height='25px', width='50%'),…"
      ]
     },
     "metadata": {},
     "output_type": "display_data"
    },
    {
     "name": "stderr",
     "output_type": "stream",
     "text": [
      "Exception in thread cell_monitor-20:\n",
      "Traceback (most recent call last):\n",
      "  File \"/mnt/notebook-env/lib/python3.7/threading.py\", line 926, in _bootstrap_inner\n",
      "    self.run()\n",
      "  File \"/mnt/notebook-env/lib/python3.7/threading.py\", line 870, in run\n",
      "    self._target(*self._args, **self._kwargs)\n",
      "  File \"/mnt/notebook-env/lib/python3.7/site-packages/awseditorssparkmonitoringwidget-1.0-py3.7.egg/awseditorssparkmonitoringwidget/cellmonitor.py\", line 154, in cell_monitor\n",
      "    job_group_filtered_jobs = [job for job in jobs_data if job['jobGroup'] == str(statement_id)]\n",
      "  File \"/mnt/notebook-env/lib/python3.7/site-packages/awseditorssparkmonitoringwidget-1.0-py3.7.egg/awseditorssparkmonitoringwidget/cellmonitor.py\", line 154, in <listcomp>\n",
      "    job_group_filtered_jobs = [job for job in jobs_data if job['jobGroup'] == str(statement_id)]\n",
      "KeyError: 'jobGroup'\n",
      "\n"
     ]
    }
   ],
   "source": [
    "pred_cv = calc_abs_pct_err(pred_cv)"
   ]
  },
  {
   "cell_type": "code",
   "execution_count": 21,
   "id": "ffed9ed6-0dba-4b5c-b785-04d157618f03",
   "metadata": {
    "execution": {
     "iopub.execute_input": "2022-11-17T22:59:09.285168Z",
     "iopub.status.busy": "2022-11-17T22:59:09.284932Z",
     "iopub.status.idle": "2022-11-17T22:59:18.596847Z",
     "shell.execute_reply": "2022-11-17T22:59:18.596037Z",
     "shell.execute_reply.started": "2022-11-17T22:59:09.285143Z"
    }
   },
   "outputs": [
    {
     "data": {
      "application/vnd.jupyter.widget-view+json": {
       "model_id": "",
       "version_major": 2,
       "version_minor": 0
      },
      "text/plain": [
       "VBox()"
      ]
     },
     "metadata": {},
     "output_type": "display_data"
    },
    {
     "data": {
      "application/vnd.jupyter.widget-view+json": {
       "model_id": "",
       "version_major": 2,
       "version_minor": 0
      },
      "text/plain": [
       "FloatProgress(value=0.0, bar_style='info', description='Progress:', layout=Layout(height='25px', width='50%'),…"
      ]
     },
     "metadata": {},
     "output_type": "display_data"
    },
    {
     "name": "stderr",
     "output_type": "stream",
     "text": [
      "Exception in thread cell_monitor-21:\n",
      "Traceback (most recent call last):\n",
      "  File \"/mnt/notebook-env/lib/python3.7/threading.py\", line 926, in _bootstrap_inner\n",
      "    self.run()\n",
      "  File \"/mnt/notebook-env/lib/python3.7/threading.py\", line 870, in run\n",
      "    self._target(*self._args, **self._kwargs)\n",
      "  File \"/mnt/notebook-env/lib/python3.7/site-packages/awseditorssparkmonitoringwidget-1.0-py3.7.egg/awseditorssparkmonitoringwidget/cellmonitor.py\", line 154, in cell_monitor\n",
      "    job_group_filtered_jobs = [job for job in jobs_data if job['jobGroup'] == str(statement_id)]\n",
      "  File \"/mnt/notebook-env/lib/python3.7/site-packages/awseditorssparkmonitoringwidget-1.0-py3.7.egg/awseditorssparkmonitoringwidget/cellmonitor.py\", line 154, in <listcomp>\n",
      "    job_group_filtered_jobs = [job for job in jobs_data if job['jobGroup'] == str(statement_id)]\n",
      "KeyError: 'jobGroup'\n",
      "\n"
     ]
    },
    {
     "name": "stdout",
     "output_type": "stream",
     "text": [
      "+-------+------------------+---------+------+------------------+-------------------+------------------+--------------------+\n",
      "| market|out_departure_date|shop_date|  fare|        prediction|           pred_err|      abs_pred_err|         abs_pct_err|\n",
      "+-------+------------------+---------+------+------------------+-------------------+------------------+--------------------+\n",
      "|ATL-EWR|          20221025| 20221019| 72.59| 59.68935230623153| 12.900647693768477|12.900647693768477|  0.1777193510644507|\n",
      "|ATL-EWR|          20221026| 20221021|  68.6| 58.68260177673353|  9.917398223266467| 9.917398223266467|  0.1445684872196278|\n",
      "|ATL-EWR|          20221027| 20221019| 72.59|  68.7014445522757| 3.8885554477243005|3.8885554477243005| 0.05356874841884971|\n",
      "|ATL-EWR|          20221027| 20221020|  68.6| 67.85245886419106| 0.7475411358089303|0.7475411358089303| 0.01089710110508645|\n",
      "|ATL-EWR|          20221027| 20221021|  68.6| 64.92072286053926|  3.679277139460737| 3.679277139460737|0.053633777543159435|\n",
      "|ATL-EWR|          20221029| 20221022|  68.6| 60.81067207918256|  7.789327920817435| 7.789327920817435| 0.11354705423932122|\n",
      "|ATL-EWR|          20221030| 20221021|  68.6|  75.5736277042584| -6.973627704258405| 6.973627704258405| 0.10165638052854818|\n",
      "|ATL-EWR|          20221030| 20221024| 107.6| 77.91242383628223| 29.687576163717765|29.687576163717765|  0.2759068416702395|\n",
      "|ATL-EWR|          20221031| 20221018|  68.6|60.362345969818605|  8.237654030181389| 8.237654030181389| 0.12008242026503484|\n",
      "|ATL-EWR|          20221031| 20221025|  68.6| 67.69407317361086|  0.905926826389134| 0.905926826389134|0.013205930413835774|\n",
      "|ATL-EWR|          20221101| 20221024|  68.6| 62.46751204715671| 6.1324879528432845|6.1324879528432845| 0.08939486811724905|\n",
      "|ATL-EWR|          20221101| 20221025| 43.59| 59.65130929230471|-16.061309292304706|16.061309292304706|   0.368463163393088|\n",
      "|ATL-EWR|          20221102| 20221021|  68.6| 53.47635894851679| 15.123641051483204|15.123641051483204| 0.22046123981753943|\n",
      "|ATL-EWR|          20221103| 20221022|  68.6| 60.96506686845928|  7.634933131540713| 7.634933131540713| 0.11129640133441274|\n",
      "|ATL-EWR|          20221104| 20221028| 65.91| 64.92614067107228| 0.9838593289277213|0.9838593289277213|0.014927314958697032|\n",
      "|ATL-EWR|          20221105| 20221019| 48.59|50.790497378512626|-2.2004973785126225|2.2004973785126225|  0.0452870421591402|\n",
      "|ATL-EWR|          20221105| 20221028| 43.59|58.045821296706606|-14.455821296706603|14.455821296706603| 0.33163159662093605|\n",
      "|ATL-EWR|          20221105| 20221031| 43.59| 52.92647623736975| -9.336476237369745| 9.336476237369745| 0.21418848904266446|\n",
      "|ATL-EWR|          20221106| 20221027|147.59|108.59717278215395| 38.992827217846056|38.992827217846056|  0.2641969457134362|\n",
      "|ATL-EWR|          20221106| 20221029| 72.59| 86.81693790007188|-14.226937900071874|14.226937900071874| 0.19599032786984258|\n",
      "+-------+------------------+---------+------+------------------+-------------------+------------------+--------------------+\n",
      "only showing top 20 rows"
     ]
    }
   ],
   "source": [
    "pred_cv.select(\"market\", \"out_departure_date\", \"shop_date\", \"fare\", \"prediction\", \"pred_err\", \"abs_pred_err\", \"abs_pct_err\").show()"
   ]
  },
  {
   "cell_type": "code",
   "execution_count": 22,
   "id": "1ad3b4ab-e36a-4357-9aa4-f5a0ad72636c",
   "metadata": {
    "execution": {
     "iopub.execute_input": "2022-11-17T23:00:08.465903Z",
     "iopub.status.busy": "2022-11-17T23:00:08.465673Z",
     "iopub.status.idle": "2022-11-17T23:00:10.752311Z",
     "shell.execute_reply": "2022-11-17T23:00:10.751713Z",
     "shell.execute_reply.started": "2022-11-17T23:00:08.465878Z"
    },
    "tags": []
   },
   "outputs": [
    {
     "data": {
      "application/vnd.jupyter.widget-view+json": {
       "model_id": "",
       "version_major": 2,
       "version_minor": 0
      },
      "text/plain": [
       "VBox()"
      ]
     },
     "metadata": {},
     "output_type": "display_data"
    },
    {
     "data": {
      "application/vnd.jupyter.widget-view+json": {
       "model_id": "",
       "version_major": 2,
       "version_minor": 0
      },
      "text/plain": [
       "FloatProgress(value=0.0, bar_style='info', description='Progress:', layout=Layout(height='25px', width='50%'),…"
      ]
     },
     "metadata": {},
     "output_type": "display_data"
    },
    {
     "name": "stderr",
     "output_type": "stream",
     "text": [
      "Exception in thread cell_monitor-22:\n",
      "Traceback (most recent call last):\n",
      "  File \"/mnt/notebook-env/lib/python3.7/threading.py\", line 926, in _bootstrap_inner\n",
      "    self.run()\n",
      "  File \"/mnt/notebook-env/lib/python3.7/threading.py\", line 870, in run\n",
      "    self._target(*self._args, **self._kwargs)\n",
      "  File \"/mnt/notebook-env/lib/python3.7/site-packages/awseditorssparkmonitoringwidget-1.0-py3.7.egg/awseditorssparkmonitoringwidget/cellmonitor.py\", line 154, in cell_monitor\n",
      "    job_group_filtered_jobs = [job for job in jobs_data if job['jobGroup'] == str(statement_id)]\n",
      "  File \"/mnt/notebook-env/lib/python3.7/site-packages/awseditorssparkmonitoringwidget-1.0-py3.7.egg/awseditorssparkmonitoringwidget/cellmonitor.py\", line 154, in <listcomp>\n",
      "    job_group_filtered_jobs = [job for job in jobs_data if job['jobGroup'] == str(statement_id)]\n",
      "KeyError: 'jobGroup'\n",
      "\n"
     ]
    },
    {
     "name": "stdout",
     "output_type": "stream",
     "text": [
      "+-------------------+\n",
      "|               mape|\n",
      "+-------------------+\n",
      "|0.15039315031966055|\n",
      "+-------------------+"
     ]
    }
   ],
   "source": [
    "pred_cv.select(F.mean(\"abs_pct_err\").alias(\"mape\")).show()"
   ]
  },
  {
   "cell_type": "code",
   "execution_count": 23,
   "id": "017787e6-cba2-4d76-9205-fd24445d83cd",
   "metadata": {
    "execution": {
     "iopub.execute_input": "2022-11-17T23:00:12.834220Z",
     "iopub.status.busy": "2022-11-17T23:00:12.833953Z",
     "iopub.status.idle": "2022-11-17T23:00:15.118767Z",
     "shell.execute_reply": "2022-11-17T23:00:15.117923Z",
     "shell.execute_reply.started": "2022-11-17T23:00:12.834191Z"
    },
    "tags": []
   },
   "outputs": [
    {
     "data": {
      "application/vnd.jupyter.widget-view+json": {
       "model_id": "",
       "version_major": 2,
       "version_minor": 0
      },
      "text/plain": [
       "VBox()"
      ]
     },
     "metadata": {},
     "output_type": "display_data"
    },
    {
     "data": {
      "application/vnd.jupyter.widget-view+json": {
       "model_id": "",
       "version_major": 2,
       "version_minor": 0
      },
      "text/plain": [
       "FloatProgress(value=0.0, bar_style='info', description='Progress:', layout=Layout(height='25px', width='50%'),…"
      ]
     },
     "metadata": {},
     "output_type": "display_data"
    },
    {
     "name": "stderr",
     "output_type": "stream",
     "text": [
      "Exception in thread cell_monitor-23:\n",
      "Traceback (most recent call last):\n",
      "  File \"/mnt/notebook-env/lib/python3.7/threading.py\", line 926, in _bootstrap_inner\n",
      "    self.run()\n",
      "  File \"/mnt/notebook-env/lib/python3.7/threading.py\", line 870, in run\n",
      "    self._target(*self._args, **self._kwargs)\n",
      "  File \"/mnt/notebook-env/lib/python3.7/site-packages/awseditorssparkmonitoringwidget-1.0-py3.7.egg/awseditorssparkmonitoringwidget/cellmonitor.py\", line 154, in cell_monitor\n",
      "    job_group_filtered_jobs = [job for job in jobs_data if job['jobGroup'] == str(statement_id)]\n",
      "  File \"/mnt/notebook-env/lib/python3.7/site-packages/awseditorssparkmonitoringwidget-1.0-py3.7.egg/awseditorssparkmonitoringwidget/cellmonitor.py\", line 154, in <listcomp>\n",
      "    job_group_filtered_jobs = [job for job in jobs_data if job['jobGroup'] == str(statement_id)]\n",
      "KeyError: 'jobGroup'\n",
      "\n"
     ]
    },
    {
     "name": "stdout",
     "output_type": "stream",
     "text": [
      "+-------+-------------------+\n",
      "| market|               mape|\n",
      "+-------+-------------------+\n",
      "|LHR-EWR|0.04463653021047079|\n",
      "|LHR-JFK|0.06025625193495919|\n",
      "|EWR-LHR|0.08631058966526624|\n",
      "|LHR-LAX|0.10302899553423048|\n",
      "|JFK-LHR|0.11327558859594533|\n",
      "|LAX-EWR| 0.1255679229352553|\n",
      "|LAX-JFK| 0.1296015582648676|\n",
      "|JFK-LAX|0.13072139929501464|\n",
      "|EWR-CDG| 0.1324766548130451|\n",
      "|ATL-EWR|0.15610776124039252|\n",
      "|LGA-MIA|0.23158885639308674|\n",
      "|LAX-SFO| 0.2586462839090909|\n",
      "|SFO-LAX| 0.2648927709924579|\n",
      "|OAK-LAS|0.42577761405333125|\n",
      "+-------+-------------------+"
     ]
    }
   ],
   "source": [
    "pred_cv.groupBy(\"market\").agg(F.mean(\"abs_pct_err\").alias(\"mape\")).orderBy(\"mape\").show()"
   ]
  },
  {
   "cell_type": "code",
   "execution_count": 24,
   "id": "f0efda7a-7e4d-4282-b0be-d06e16c2d954",
   "metadata": {
    "execution": {
     "iopub.execute_input": "2022-11-17T23:00:38.492607Z",
     "iopub.status.busy": "2022-11-17T23:00:38.492271Z",
     "iopub.status.idle": "2022-11-17T23:00:38.580000Z",
     "shell.execute_reply": "2022-11-17T23:00:38.579293Z",
     "shell.execute_reply.started": "2022-11-17T23:00:38.492563Z"
    }
   },
   "outputs": [
    {
     "data": {
      "application/vnd.jupyter.widget-view+json": {
       "model_id": "",
       "version_major": 2,
       "version_minor": 0
      },
      "text/plain": [
       "VBox()"
      ]
     },
     "metadata": {},
     "output_type": "display_data"
    },
    {
     "data": {
      "application/vnd.jupyter.widget-view+json": {
       "model_id": "",
       "version_major": 2,
       "version_minor": 0
      },
      "text/plain": [
       "FloatProgress(value=0.0, bar_style='info', description='Progress:', layout=Layout(height='25px', width='50%'),…"
      ]
     },
     "metadata": {},
     "output_type": "display_data"
    },
    {
     "name": "stdout",
     "output_type": "stream",
     "text": [
      "[Param(parent='CrossValidatorModel_0afa70e8544f', name='estimator', doc='estimator to be cross-validated'), Param(parent='CrossValidatorModel_0afa70e8544f', name='estimatorParamMaps', doc='estimator param maps'), Param(parent='CrossValidatorModel_0afa70e8544f', name='evaluator', doc='evaluator used to select hyper-parameters that maximize the validator metric'), Param(parent='CrossValidatorModel_0afa70e8544f', name='seed', doc='random seed.')]"
     ]
    },
    {
     "name": "stderr",
     "output_type": "stream",
     "text": [
      "Exception in thread cell_monitor-24:\n",
      "Traceback (most recent call last):\n",
      "  File \"/mnt/notebook-env/lib/python3.7/threading.py\", line 926, in _bootstrap_inner\n",
      "    self.run()\n",
      "  File \"/mnt/notebook-env/lib/python3.7/threading.py\", line 870, in run\n",
      "    self._target(*self._args, **self._kwargs)\n",
      "  File \"/mnt/notebook-env/lib/python3.7/site-packages/awseditorssparkmonitoringwidget-1.0-py3.7.egg/awseditorssparkmonitoringwidget/cellmonitor.py\", line 154, in cell_monitor\n",
      "    job_group_filtered_jobs = [job for job in jobs_data if job['jobGroup'] == str(statement_id)]\n",
      "  File \"/mnt/notebook-env/lib/python3.7/site-packages/awseditorssparkmonitoringwidget-1.0-py3.7.egg/awseditorssparkmonitoringwidget/cellmonitor.py\", line 154, in <listcomp>\n",
      "    job_group_filtered_jobs = [job for job in jobs_data if job['jobGroup'] == str(statement_id)]\n",
      "KeyError: 'jobGroup'\n",
      "\n"
     ]
    }
   ],
   "source": [
    "cv_model.params"
   ]
  },
  {
   "cell_type": "code",
   "execution_count": 28,
   "id": "be89abf1-8388-4c82-892e-8bd14fe03b95",
   "metadata": {
    "execution": {
     "iopub.execute_input": "2022-11-17T23:02:58.316530Z",
     "iopub.status.busy": "2022-11-17T23:02:58.316270Z",
     "iopub.status.idle": "2022-11-17T23:02:58.373786Z",
     "shell.execute_reply": "2022-11-17T23:02:58.372572Z",
     "shell.execute_reply.started": "2022-11-17T23:02:58.316495Z"
    }
   },
   "outputs": [
    {
     "data": {
      "application/vnd.jupyter.widget-view+json": {
       "model_id": "",
       "version_major": 2,
       "version_minor": 0
      },
      "text/plain": [
       "VBox()"
      ]
     },
     "metadata": {},
     "output_type": "display_data"
    },
    {
     "data": {
      "application/vnd.jupyter.widget-view+json": {
       "model_id": "",
       "version_major": 2,
       "version_minor": 0
      },
      "text/plain": [
       "FloatProgress(value=0.0, bar_style='info', description='Progress:', layout=Layout(height='25px', width='50%'),…"
      ]
     },
     "metadata": {},
     "output_type": "display_data"
    },
    {
     "name": "stdout",
     "output_type": "stream",
     "text": [
      "Param(parent='CrossValidatorModel_0afa70e8544f', name='estimatorParamMaps', doc='estimator param maps')"
     ]
    },
    {
     "name": "stderr",
     "output_type": "stream",
     "text": [
      "Exception in thread cell_monitor-28:\n",
      "Traceback (most recent call last):\n",
      "  File \"/mnt/notebook-env/lib/python3.7/threading.py\", line 926, in _bootstrap_inner\n",
      "    self.run()\n",
      "  File \"/mnt/notebook-env/lib/python3.7/threading.py\", line 870, in run\n",
      "    self._target(*self._args, **self._kwargs)\n",
      "  File \"/mnt/notebook-env/lib/python3.7/site-packages/awseditorssparkmonitoringwidget-1.0-py3.7.egg/awseditorssparkmonitoringwidget/cellmonitor.py\", line 154, in cell_monitor\n",
      "    job_group_filtered_jobs = [job for job in jobs_data if job['jobGroup'] == str(statement_id)]\n",
      "  File \"/mnt/notebook-env/lib/python3.7/site-packages/awseditorssparkmonitoringwidget-1.0-py3.7.egg/awseditorssparkmonitoringwidget/cellmonitor.py\", line 154, in <listcomp>\n",
      "    job_group_filtered_jobs = [job for job in jobs_data if job['jobGroup'] == str(statement_id)]\n",
      "KeyError: 'jobGroup'\n",
      "\n"
     ]
    }
   ],
   "source": [
    "cv_model.estimatorParamMaps"
   ]
  },
  {
   "cell_type": "code",
   "execution_count": 33,
   "id": "67490b46-2261-458a-8458-27aa99984555",
   "metadata": {
    "collapsed": true,
    "execution": {
     "iopub.execute_input": "2022-11-17T23:04:16.081671Z",
     "iopub.status.busy": "2022-11-17T23:04:16.081428Z",
     "iopub.status.idle": "2022-11-17T23:04:16.147302Z",
     "shell.execute_reply": "2022-11-17T23:04:16.146619Z",
     "shell.execute_reply.started": "2022-11-17T23:04:16.081646Z"
    },
    "jupyter": {
     "outputs_hidden": true
    },
    "tags": []
   },
   "outputs": [
    {
     "data": {
      "application/vnd.jupyter.widget-view+json": {
       "model_id": "02052ad1732d4f7a9f895416662f4c67",
       "version_major": 2,
       "version_minor": 0
      },
      "text/plain": [
       "VBox()"
      ]
     },
     "metadata": {},
     "output_type": "display_data"
    },
    {
     "data": {
      "application/vnd.jupyter.widget-view+json": {
       "model_id": "",
       "version_major": 2,
       "version_minor": 0
      },
      "text/plain": [
       "FloatProgress(value=0.0, bar_style='info', description='Progress:', layout=Layout(height='25px', width='50%'),…"
      ]
     },
     "metadata": {},
     "output_type": "display_data"
    },
    {
     "name": "stdout",
     "output_type": "stream",
     "text": [
      "{Param(parent='CrossValidatorModel_0afa70e8544f', name='seed', doc='random seed.'): 7809051150349531440, Param(parent='CrossValidatorModel_0afa70e8544f', name='estimator', doc='estimator to be cross-validated'): Pipeline_a2ad036ad7a2, Param(parent='CrossValidatorModel_0afa70e8544f', name='estimatorParamMaps', doc='estimator param maps'): [{Param(parent='LinearRegression_62af007e8b1d', name='elasticNetParam', doc='the ElasticNet mixing parameter, in range [0, 1]. For alpha = 0, the penalty is an L2 penalty. For alpha = 1, it is an L1 penalty.'): 0.01, Param(parent='LinearRegression_62af007e8b1d', name='regParam', doc='regularization parameter (>= 0).'): 0.01}, {Param(parent='LinearRegression_62af007e8b1d', name='elasticNetParam', doc='the ElasticNet mixing parameter, in range [0, 1]. For alpha = 0, the penalty is an L2 penalty. For alpha = 1, it is an L1 penalty.'): 0.01, Param(parent='LinearRegression_62af007e8b1d', name='regParam', doc='regularization parameter (>= 0).'): 0.1}, {Param(parent='LinearRegression_62af007e8b1d', name='elasticNetParam', doc='the ElasticNet mixing parameter, in range [0, 1]. For alpha = 0, the penalty is an L2 penalty. For alpha = 1, it is an L1 penalty.'): 0.01, Param(parent='LinearRegression_62af007e8b1d', name='regParam', doc='regularization parameter (>= 0).'): 1.0}, {Param(parent='LinearRegression_62af007e8b1d', name='elasticNetParam', doc='the ElasticNet mixing parameter, in range [0, 1]. For alpha = 0, the penalty is an L2 penalty. For alpha = 1, it is an L1 penalty.'): 0.01, Param(parent='LinearRegression_62af007e8b1d', name='regParam', doc='regularization parameter (>= 0).'): 10.0}, {Param(parent='LinearRegression_62af007e8b1d', name='elasticNetParam', doc='the ElasticNet mixing parameter, in range [0, 1]. For alpha = 0, the penalty is an L2 penalty. For alpha = 1, it is an L1 penalty.'): 0.01, Param(parent='LinearRegression_62af007e8b1d', name='regParam', doc='regularization parameter (>= 0).'): 100.0}, {Param(parent='LinearRegression_62af007e8b1d', name='elasticNetParam', doc='the ElasticNet mixing parameter, in range [0, 1]. For alpha = 0, the penalty is an L2 penalty. For alpha = 1, it is an L1 penalty.'): 0.1, Param(parent='LinearRegression_62af007e8b1d', name='regParam', doc='regularization parameter (>= 0).'): 0.01}, {Param(parent='LinearRegression_62af007e8b1d', name='elasticNetParam', doc='the ElasticNet mixing parameter, in range [0, 1]. For alpha = 0, the penalty is an L2 penalty. For alpha = 1, it is an L1 penalty.'): 0.1, Param(parent='LinearRegression_62af007e8b1d', name='regParam', doc='regularization parameter (>= 0).'): 0.1}, {Param(parent='LinearRegression_62af007e8b1d', name='elasticNetParam', doc='the ElasticNet mixing parameter, in range [0, 1]. For alpha = 0, the penalty is an L2 penalty. For alpha = 1, it is an L1 penalty.'): 0.1, Param(parent='LinearRegression_62af007e8b1d', name='regParam', doc='regularization parameter (>= 0).'): 1.0}, {Param(parent='LinearRegression_62af007e8b1d', name='elasticNetParam', doc='the ElasticNet mixing parameter, in range [0, 1]. For alpha = 0, the penalty is an L2 penalty. For alpha = 1, it is an L1 penalty.'): 0.1, Param(parent='LinearRegression_62af007e8b1d', name='regParam', doc='regularization parameter (>= 0).'): 10.0}, {Param(parent='LinearRegression_62af007e8b1d', name='elasticNetParam', doc='the ElasticNet mixing parameter, in range [0, 1]. For alpha = 0, the penalty is an L2 penalty. For alpha = 1, it is an L1 penalty.'): 0.1, Param(parent='LinearRegression_62af007e8b1d', name='regParam', doc='regularization parameter (>= 0).'): 100.0}, {Param(parent='LinearRegression_62af007e8b1d', name='elasticNetParam', doc='the ElasticNet mixing parameter, in range [0, 1]. For alpha = 0, the penalty is an L2 penalty. For alpha = 1, it is an L1 penalty.'): 0.5, Param(parent='LinearRegression_62af007e8b1d', name='regParam', doc='regularization parameter (>= 0).'): 0.01}, {Param(parent='LinearRegression_62af007e8b1d', name='elasticNetParam', doc='the ElasticNet mixing parameter, in range [0, 1]. For alpha = 0, the penalty is an L2 penalty. For alpha = 1, it is an L1 penalty.'): 0.5, Param(parent='LinearRegression_62af007e8b1d', name='regParam', doc='regularization parameter (>= 0).'): 0.1}, {Param(parent='LinearRegression_62af007e8b1d', name='elasticNetParam', doc='the ElasticNet mixing parameter, in range [0, 1]. For alpha = 0, the penalty is an L2 penalty. For alpha = 1, it is an L1 penalty.'): 0.5, Param(parent='LinearRegression_62af007e8b1d', name='regParam', doc='regularization parameter (>= 0).'): 1.0}, {Param(parent='LinearRegression_62af007e8b1d', name='elasticNetParam', doc='the ElasticNet mixing parameter, in range [0, 1]. For alpha = 0, the penalty is an L2 penalty. For alpha = 1, it is an L1 penalty.'): 0.5, Param(parent='LinearRegression_62af007e8b1d', name='regParam', doc='regularization parameter (>= 0).'): 10.0}, {Param(parent='LinearRegression_62af007e8b1d', name='elasticNetParam', doc='the ElasticNet mixing parameter, in range [0, 1]. For alpha = 0, the penalty is an L2 penalty. For alpha = 1, it is an L1 penalty.'): 0.5, Param(parent='LinearRegression_62af007e8b1d', name='regParam', doc='regularization parameter (>= 0).'): 100.0}, {Param(parent='LinearRegression_62af007e8b1d', name='elasticNetParam', doc='the ElasticNet mixing parameter, in range [0, 1]. For alpha = 0, the penalty is an L2 penalty. For alpha = 1, it is an L1 penalty.'): 0.9, Param(parent='LinearRegression_62af007e8b1d', name='regParam', doc='regularization parameter (>= 0).'): 0.01}, {Param(parent='LinearRegression_62af007e8b1d', name='elasticNetParam', doc='the ElasticNet mixing parameter, in range [0, 1]. For alpha = 0, the penalty is an L2 penalty. For alpha = 1, it is an L1 penalty.'): 0.9, Param(parent='LinearRegression_62af007e8b1d', name='regParam', doc='regularization parameter (>= 0).'): 0.1}, {Param(parent='LinearRegression_62af007e8b1d', name='elasticNetParam', doc='the ElasticNet mixing parameter, in range [0, 1]. For alpha = 0, the penalty is an L2 penalty. For alpha = 1, it is an L1 penalty.'): 0.9, Param(parent='LinearRegression_62af007e8b1d', name='regParam', doc='regularization parameter (>= 0).'): 1.0}, {Param(parent='LinearRegression_62af007e8b1d', name='elasticNetParam', doc='the ElasticNet mixing parameter, in range [0, 1]. For alpha = 0, the penalty is an L2 penalty. For alpha = 1, it is an L1 penalty.'): 0.9, Param(parent='LinearRegression_62af007e8b1d', name='regParam', doc='regularization parameter (>= 0).'): 10.0}, {Param(parent='LinearRegression_62af007e8b1d', name='elasticNetParam', doc='the ElasticNet mixing parameter, in range [0, 1]. For alpha = 0, the penalty is an L2 penalty. For alpha = 1, it is an L1 penalty.'): 0.9, Param(parent='LinearRegression_62af007e8b1d', name='regParam', doc='regularization parameter (>= 0).'): 100.0}, {Param(parent='LinearRegression_62af007e8b1d', name='elasticNetParam', doc='the ElasticNet mixing parameter, in range [0, 1]. For alpha = 0, the penalty is an L2 penalty. For alpha = 1, it is an L1 penalty.'): 0.99, Param(parent='LinearRegression_62af007e8b1d', name='regParam', doc='regularization parameter (>= 0).'): 0.01}, {Param(parent='LinearRegression_62af007e8b1d', name='elasticNetParam', doc='the ElasticNet mixing parameter, in range [0, 1]. For alpha = 0, the penalty is an L2 penalty. For alpha = 1, it is an L1 penalty.'): 0.99, Param(parent='LinearRegression_62af007e8b1d', name='regParam', doc='regularization parameter (>= 0).'): 0.1}, {Param(parent='LinearRegression_62af007e8b1d', name='elasticNetParam', doc='the ElasticNet mixing parameter, in range [0, 1]. For alpha = 0, the penalty is an L2 penalty. For alpha = 1, it is an L1 penalty.'): 0.99, Param(parent='LinearRegression_62af007e8b1d', name='regParam', doc='regularization parameter (>= 0).'): 1.0}, {Param(parent='LinearRegression_62af007e8b1d', name='elasticNetParam', doc='the ElasticNet mixing parameter, in range [0, 1]. For alpha = 0, the penalty is an L2 penalty. For alpha = 1, it is an L1 penalty.'): 0.99, Param(parent='LinearRegression_62af007e8b1d', name='regParam', doc='regularization parameter (>= 0).'): 10.0}, {Param(parent='LinearRegression_62af007e8b1d', name='elasticNetParam', doc='the ElasticNet mixing parameter, in range [0, 1]. For alpha = 0, the penalty is an L2 penalty. For alpha = 1, it is an L1 penalty.'): 0.99, Param(parent='LinearRegression_62af007e8b1d', name='regParam', doc='regularization parameter (>= 0).'): 100.0}], Param(parent='CrossValidatorModel_0afa70e8544f', name='evaluator', doc='evaluator used to select hyper-parameters that maximize the validator metric'): RegressionEvaluator_90e3b0facd74}"
     ]
    },
    {
     "name": "stderr",
     "output_type": "stream",
     "text": [
      "Exception in thread cell_monitor-33:\n",
      "Traceback (most recent call last):\n",
      "  File \"/mnt/notebook-env/lib/python3.7/threading.py\", line 926, in _bootstrap_inner\n",
      "    self.run()\n",
      "  File \"/mnt/notebook-env/lib/python3.7/threading.py\", line 870, in run\n",
      "    self._target(*self._args, **self._kwargs)\n",
      "  File \"/mnt/notebook-env/lib/python3.7/site-packages/awseditorssparkmonitoringwidget-1.0-py3.7.egg/awseditorssparkmonitoringwidget/cellmonitor.py\", line 154, in cell_monitor\n",
      "    job_group_filtered_jobs = [job for job in jobs_data if job['jobGroup'] == str(statement_id)]\n",
      "  File \"/mnt/notebook-env/lib/python3.7/site-packages/awseditorssparkmonitoringwidget-1.0-py3.7.egg/awseditorssparkmonitoringwidget/cellmonitor.py\", line 154, in <listcomp>\n",
      "    job_group_filtered_jobs = [job for job in jobs_data if job['jobGroup'] == str(statement_id)]\n",
      "KeyError: 'jobGroup'\n",
      "\n"
     ]
    }
   ],
   "source": [
    "cv_model.extractParamMap()"
   ]
  },
  {
   "cell_type": "code",
   "execution_count": 41,
   "id": "e7be59cc-8c02-4f46-9d78-7d07ed3af495",
   "metadata": {
    "execution": {
     "iopub.execute_input": "2022-11-17T23:07:12.943805Z",
     "iopub.status.busy": "2022-11-17T23:07:12.943555Z",
     "iopub.status.idle": "2022-11-17T23:07:12.997202Z",
     "shell.execute_reply": "2022-11-17T23:07:12.996533Z",
     "shell.execute_reply.started": "2022-11-17T23:07:12.943780Z"
    },
    "tags": []
   },
   "outputs": [
    {
     "data": {
      "application/vnd.jupyter.widget-view+json": {
       "model_id": "",
       "version_major": 2,
       "version_minor": 0
      },
      "text/plain": [
       "VBox()"
      ]
     },
     "metadata": {},
     "output_type": "display_data"
    },
    {
     "data": {
      "application/vnd.jupyter.widget-view+json": {
       "model_id": "",
       "version_major": 2,
       "version_minor": 0
      },
      "text/plain": [
       "FloatProgress(value=0.0, bar_style='info', description='Progress:', layout=Layout(height='25px', width='50%'),…"
      ]
     },
     "metadata": {},
     "output_type": "display_data"
    },
    {
     "name": "stderr",
     "output_type": "stream",
     "text": [
      "Exception in thread cell_monitor-41:\n",
      "Traceback (most recent call last):\n",
      "  File \"/mnt/notebook-env/lib/python3.7/threading.py\", line 926, in _bootstrap_inner\n",
      "    self.run()\n",
      "  File \"/mnt/notebook-env/lib/python3.7/threading.py\", line 870, in run\n",
      "    self._target(*self._args, **self._kwargs)\n",
      "  File \"/mnt/notebook-env/lib/python3.7/site-packages/awseditorssparkmonitoringwidget-1.0-py3.7.egg/awseditorssparkmonitoringwidget/cellmonitor.py\", line 154, in cell_monitor\n",
      "    job_group_filtered_jobs = [job for job in jobs_data if job['jobGroup'] == str(statement_id)]\n",
      "  File \"/mnt/notebook-env/lib/python3.7/site-packages/awseditorssparkmonitoringwidget-1.0-py3.7.egg/awseditorssparkmonitoringwidget/cellmonitor.py\", line 154, in <listcomp>\n",
      "    job_group_filtered_jobs = [job for job in jobs_data if job['jobGroup'] == str(statement_id)]\n",
      "KeyError: 'jobGroup'\n",
      "\n"
     ]
    }
   ],
   "source": [
    "x = cv_model.extractParamMap()"
   ]
  },
  {
   "cell_type": "code",
   "execution_count": 29,
   "id": "6b0f37d8-fb69-4252-a39d-07cd2aa76bc2",
   "metadata": {
    "execution": {
     "iopub.execute_input": "2022-11-17T23:03:16.817851Z",
     "iopub.status.busy": "2022-11-17T23:03:16.817624Z",
     "iopub.status.idle": "2022-11-17T23:03:16.876840Z",
     "shell.execute_reply": "2022-11-17T23:03:16.869420Z",
     "shell.execute_reply.started": "2022-11-17T23:03:16.817827Z"
    }
   },
   "outputs": [
    {
     "data": {
      "application/vnd.jupyter.widget-view+json": {
       "model_id": "",
       "version_major": 2,
       "version_minor": 0
      },
      "text/plain": [
       "VBox()"
      ]
     },
     "metadata": {},
     "output_type": "display_data"
    },
    {
     "data": {
      "application/vnd.jupyter.widget-view+json": {
       "model_id": "",
       "version_major": 2,
       "version_minor": 0
      },
      "text/plain": [
       "FloatProgress(value=0.0, bar_style='info', description='Progress:', layout=Layout(height='25px', width='50%'),…"
      ]
     },
     "metadata": {},
     "output_type": "display_data"
    },
    {
     "name": "stdout",
     "output_type": "stream",
     "text": [
      "[135.84478252656768, 135.79289018511028, 135.63214047825554, 136.2831151009301, 139.92296898221207, 135.8459833213822, 135.70303015929642, 135.79741834072743, 136.31050253723407, 141.5253707283952, 135.70414446751784, 135.70864271321676, 135.84492537402036, 136.65829883729924, 151.8152590653045, 135.70415009565505, 135.80813764653433, 135.78519076347663, 137.45479672781923, 171.54772050397077, 135.70415274378956, 135.8077072884073, 135.71874294888184, 137.8387338504744, 175.81374590116377]"
     ]
    },
    {
     "name": "stderr",
     "output_type": "stream",
     "text": [
      "Exception in thread cell_monitor-29:\n",
      "Traceback (most recent call last):\n",
      "  File \"/mnt/notebook-env/lib/python3.7/threading.py\", line 926, in _bootstrap_inner\n",
      "    self.run()\n",
      "  File \"/mnt/notebook-env/lib/python3.7/threading.py\", line 870, in run\n",
      "    self._target(*self._args, **self._kwargs)\n",
      "  File \"/mnt/notebook-env/lib/python3.7/site-packages/awseditorssparkmonitoringwidget-1.0-py3.7.egg/awseditorssparkmonitoringwidget/cellmonitor.py\", line 154, in cell_monitor\n",
      "    job_group_filtered_jobs = [job for job in jobs_data if job['jobGroup'] == str(statement_id)]\n",
      "  File \"/mnt/notebook-env/lib/python3.7/site-packages/awseditorssparkmonitoringwidget-1.0-py3.7.egg/awseditorssparkmonitoringwidget/cellmonitor.py\", line 154, in <listcomp>\n",
      "    job_group_filtered_jobs = [job for job in jobs_data if job['jobGroup'] == str(statement_id)]\n",
      "KeyError: 'jobGroup'\n",
      "\n"
     ]
    }
   ],
   "source": [
    "cv_model.avgMetrics"
   ]
  },
  {
   "cell_type": "code",
   "execution_count": 36,
   "id": "4e1b244b-c36a-4052-a00a-69874aecc309",
   "metadata": {
    "execution": {
     "iopub.execute_input": "2022-11-17T23:06:39.195007Z",
     "iopub.status.busy": "2022-11-17T23:06:39.194773Z",
     "iopub.status.idle": "2022-11-17T23:06:39.254541Z",
     "shell.execute_reply": "2022-11-17T23:06:39.247708Z",
     "shell.execute_reply.started": "2022-11-17T23:06:39.194981Z"
    },
    "tags": []
   },
   "outputs": [
    {
     "data": {
      "application/vnd.jupyter.widget-view+json": {
       "model_id": "",
       "version_major": 2,
       "version_minor": 0
      },
      "text/plain": [
       "VBox()"
      ]
     },
     "metadata": {},
     "output_type": "display_data"
    },
    {
     "data": {
      "application/vnd.jupyter.widget-view+json": {
       "model_id": "",
       "version_major": 2,
       "version_minor": 0
      },
      "text/plain": [
       "FloatProgress(value=0.0, bar_style='info', description='Progress:', layout=Layout(height='25px', width='50%'),…"
      ]
     },
     "metadata": {},
     "output_type": "display_data"
    },
    {
     "name": "stderr",
     "output_type": "stream",
     "text": [
      "Exception in thread cell_monitor-36:\n",
      "Traceback (most recent call last):\n",
      "  File \"/mnt/notebook-env/lib/python3.7/threading.py\", line 926, in _bootstrap_inner\n",
      "    self.run()\n",
      "  File \"/mnt/notebook-env/lib/python3.7/threading.py\", line 870, in run\n",
      "    self._target(*self._args, **self._kwargs)\n",
      "  File \"/mnt/notebook-env/lib/python3.7/site-packages/awseditorssparkmonitoringwidget-1.0-py3.7.egg/awseditorssparkmonitoringwidget/cellmonitor.py\", line 154, in cell_monitor\n",
      "    job_group_filtered_jobs = [job for job in jobs_data if job['jobGroup'] == str(statement_id)]\n",
      "  File \"/mnt/notebook-env/lib/python3.7/site-packages/awseditorssparkmonitoringwidget-1.0-py3.7.egg/awseditorssparkmonitoringwidget/cellmonitor.py\", line 154, in <listcomp>\n",
      "    job_group_filtered_jobs = [job for job in jobs_data if job['jobGroup'] == str(statement_id)]\n",
      "KeyError: 'jobGroup'\n",
      "\n"
     ]
    }
   ],
   "source": [
    "# cv_results = list(zip(cv_model.estimatorParamMaps, cv_model.avgMetrics))\n",
    "\n",
    "cv_results = list(zip(cv_model.getEstimatorParamMaps(), cv_model.avgMetrics))"
   ]
  },
  {
   "cell_type": "code",
   "execution_count": null,
   "id": "ebfe5248-359b-43dd-a2bc-ba3a00e466a3",
   "metadata": {},
   "outputs": [],
   "source": []
  },
  {
   "cell_type": "code",
   "execution_count": 48,
   "id": "5e6b7666-3642-46ad-83ae-48e8a309d456",
   "metadata": {
    "execution": {
     "iopub.execute_input": "2022-11-17T23:08:50.539183Z",
     "iopub.status.busy": "2022-11-17T23:08:50.538954Z",
     "iopub.status.idle": "2022-11-17T23:08:50.591299Z",
     "shell.execute_reply": "2022-11-17T23:08:50.590740Z",
     "shell.execute_reply.started": "2022-11-17T23:08:50.539158Z"
    },
    "tags": []
   },
   "outputs": [
    {
     "data": {
      "application/vnd.jupyter.widget-view+json": {
       "model_id": "",
       "version_major": 2,
       "version_minor": 0
      },
      "text/plain": [
       "VBox()"
      ]
     },
     "metadata": {},
     "output_type": "display_data"
    },
    {
     "data": {
      "application/vnd.jupyter.widget-view+json": {
       "model_id": "",
       "version_major": 2,
       "version_minor": 0
      },
      "text/plain": [
       "FloatProgress(value=0.0, bar_style='info', description='Progress:', layout=Layout(height='25px', width='50%'),…"
      ]
     },
     "metadata": {},
     "output_type": "display_data"
    },
    {
     "name": "stdout",
     "output_type": "stream",
     "text": [
      "{Param(parent='LinearRegression_62af007e8b1d', name='elasticNetParam', doc='the ElasticNet mixing parameter, in range [0, 1]. For alpha = 0, the penalty is an L2 penalty. For alpha = 1, it is an L1 penalty.'): 0.01, Param(parent='LinearRegression_62af007e8b1d', name='regParam', doc='regularization parameter (>= 0).'): 0.01}"
     ]
    },
    {
     "name": "stderr",
     "output_type": "stream",
     "text": [
      "Exception in thread cell_monitor-48:\n",
      "Traceback (most recent call last):\n",
      "  File \"/mnt/notebook-env/lib/python3.7/threading.py\", line 926, in _bootstrap_inner\n",
      "    self.run()\n",
      "  File \"/mnt/notebook-env/lib/python3.7/threading.py\", line 870, in run\n",
      "    self._target(*self._args, **self._kwargs)\n",
      "  File \"/mnt/notebook-env/lib/python3.7/site-packages/awseditorssparkmonitoringwidget-1.0-py3.7.egg/awseditorssparkmonitoringwidget/cellmonitor.py\", line 154, in cell_monitor\n",
      "    job_group_filtered_jobs = [job for job in jobs_data if job['jobGroup'] == str(statement_id)]\n",
      "  File \"/mnt/notebook-env/lib/python3.7/site-packages/awseditorssparkmonitoringwidget-1.0-py3.7.egg/awseditorssparkmonitoringwidget/cellmonitor.py\", line 154, in <listcomp>\n",
      "    job_group_filtered_jobs = [job for job in jobs_data if job['jobGroup'] == str(statement_id)]\n",
      "KeyError: 'jobGroup'\n",
      "\n"
     ]
    }
   ],
   "source": [
    "cv_results[0][0]"
   ]
  },
  {
   "cell_type": "code",
   "execution_count": 57,
   "id": "31278a08-cda5-492c-83d4-364aca13141b",
   "metadata": {
    "execution": {
     "iopub.execute_input": "2022-11-17T23:10:54.212228Z",
     "iopub.status.busy": "2022-11-17T23:10:54.211959Z",
     "iopub.status.idle": "2022-11-17T23:10:54.262937Z",
     "shell.execute_reply": "2022-11-17T23:10:54.262318Z",
     "shell.execute_reply.started": "2022-11-17T23:10:54.212201Z"
    },
    "tags": []
   },
   "outputs": [
    {
     "data": {
      "application/vnd.jupyter.widget-view+json": {
       "model_id": "",
       "version_major": 2,
       "version_minor": 0
      },
      "text/plain": [
       "VBox()"
      ]
     },
     "metadata": {},
     "output_type": "display_data"
    },
    {
     "data": {
      "application/vnd.jupyter.widget-view+json": {
       "model_id": "",
       "version_major": 2,
       "version_minor": 0
      },
      "text/plain": [
       "FloatProgress(value=0.0, bar_style='info', description='Progress:', layout=Layout(height='25px', width='50%'),…"
      ]
     },
     "metadata": {},
     "output_type": "display_data"
    },
    {
     "name": "stdout",
     "output_type": "stream",
     "text": [
      "<class 'pyspark.ml.param.Param'>"
     ]
    },
    {
     "name": "stderr",
     "output_type": "stream",
     "text": [
      "Exception in thread cell_monitor-57:\n",
      "Traceback (most recent call last):\n",
      "  File \"/mnt/notebook-env/lib/python3.7/threading.py\", line 926, in _bootstrap_inner\n",
      "    self.run()\n",
      "  File \"/mnt/notebook-env/lib/python3.7/threading.py\", line 870, in run\n",
      "    self._target(*self._args, **self._kwargs)\n",
      "  File \"/mnt/notebook-env/lib/python3.7/site-packages/awseditorssparkmonitoringwidget-1.0-py3.7.egg/awseditorssparkmonitoringwidget/cellmonitor.py\", line 154, in cell_monitor\n",
      "    job_group_filtered_jobs = [job for job in jobs_data if job['jobGroup'] == str(statement_id)]\n",
      "  File \"/mnt/notebook-env/lib/python3.7/site-packages/awseditorssparkmonitoringwidget-1.0-py3.7.egg/awseditorssparkmonitoringwidget/cellmonitor.py\", line 154, in <listcomp>\n",
      "    job_group_filtered_jobs = [job for job in jobs_data if job['jobGroup'] == str(statement_id)]\n",
      "KeyError: 'jobGroup'\n",
      "\n"
     ]
    }
   ],
   "source": [
    "x = list(cv_results[0][0].keys())[0]\n",
    "type(x)"
   ]
  },
  {
   "cell_type": "code",
   "execution_count": 59,
   "id": "84bf0d74-3251-4d34-b9a6-4e8061b2fbb6",
   "metadata": {
    "execution": {
     "iopub.execute_input": "2022-11-17T23:11:21.860889Z",
     "iopub.status.busy": "2022-11-17T23:11:21.860663Z",
     "iopub.status.idle": "2022-11-17T23:11:21.926839Z",
     "shell.execute_reply": "2022-11-17T23:11:21.925253Z",
     "shell.execute_reply.started": "2022-11-17T23:11:21.860864Z"
    },
    "tags": []
   },
   "outputs": [
    {
     "data": {
      "application/vnd.jupyter.widget-view+json": {
       "model_id": "",
       "version_major": 2,
       "version_minor": 0
      },
      "text/plain": [
       "VBox()"
      ]
     },
     "metadata": {},
     "output_type": "display_data"
    },
    {
     "data": {
      "application/vnd.jupyter.widget-view+json": {
       "model_id": "",
       "version_major": 2,
       "version_minor": 0
      },
      "text/plain": [
       "FloatProgress(value=0.0, bar_style='info', description='Progress:', layout=Layout(height='25px', width='50%'),…"
      ]
     },
     "metadata": {},
     "output_type": "display_data"
    },
    {
     "name": "stdout",
     "output_type": "stream",
     "text": [
      "'elasticNetParam'"
     ]
    },
    {
     "name": "stderr",
     "output_type": "stream",
     "text": [
      "Exception in thread cell_monitor-59:\n",
      "Traceback (most recent call last):\n",
      "  File \"/mnt/notebook-env/lib/python3.7/threading.py\", line 926, in _bootstrap_inner\n",
      "    self.run()\n",
      "  File \"/mnt/notebook-env/lib/python3.7/threading.py\", line 870, in run\n",
      "    self._target(*self._args, **self._kwargs)\n",
      "  File \"/mnt/notebook-env/lib/python3.7/site-packages/awseditorssparkmonitoringwidget-1.0-py3.7.egg/awseditorssparkmonitoringwidget/cellmonitor.py\", line 154, in cell_monitor\n",
      "    job_group_filtered_jobs = [job for job in jobs_data if job['jobGroup'] == str(statement_id)]\n",
      "  File \"/mnt/notebook-env/lib/python3.7/site-packages/awseditorssparkmonitoringwidget-1.0-py3.7.egg/awseditorssparkmonitoringwidget/cellmonitor.py\", line 154, in <listcomp>\n",
      "    job_group_filtered_jobs = [job for job in jobs_data if job['jobGroup'] == str(statement_id)]\n",
      "KeyError: 'jobGroup'\n",
      "\n"
     ]
    }
   ],
   "source": [
    "x.name"
   ]
  },
  {
   "cell_type": "code",
   "execution_count": 54,
   "id": "319e99ed-f696-45a5-9791-052cdd3289f1",
   "metadata": {
    "execution": {
     "iopub.execute_input": "2022-11-17T23:09:41.718533Z",
     "iopub.status.busy": "2022-11-17T23:09:41.718196Z",
     "iopub.status.idle": "2022-11-17T23:09:41.841970Z",
     "shell.execute_reply": "2022-11-17T23:09:41.841116Z",
     "shell.execute_reply.started": "2022-11-17T23:09:41.718496Z"
    },
    "tags": []
   },
   "outputs": [
    {
     "data": {
      "application/vnd.jupyter.widget-view+json": {
       "model_id": "",
       "version_major": 2,
       "version_minor": 0
      },
      "text/plain": [
       "VBox()"
      ]
     },
     "metadata": {},
     "output_type": "display_data"
    },
    {
     "data": {
      "application/vnd.jupyter.widget-view+json": {
       "model_id": "",
       "version_major": 2,
       "version_minor": 0
      },
      "text/plain": [
       "FloatProgress(value=0.0, bar_style='info', description='Progress:', layout=Layout(height='25px', width='50%'),…"
      ]
     },
     "metadata": {},
     "output_type": "display_data"
    },
    {
     "name": "stdout",
     "output_type": "stream",
     "text": [
      "dict_values([0.01, 0.01])"
     ]
    },
    {
     "name": "stderr",
     "output_type": "stream",
     "text": [
      "Exception in thread cell_monitor-54:\n",
      "Traceback (most recent call last):\n",
      "  File \"/mnt/notebook-env/lib/python3.7/threading.py\", line 926, in _bootstrap_inner\n",
      "    self.run()\n",
      "  File \"/mnt/notebook-env/lib/python3.7/threading.py\", line 870, in run\n",
      "    self._target(*self._args, **self._kwargs)\n",
      "  File \"/mnt/notebook-env/lib/python3.7/site-packages/awseditorssparkmonitoringwidget-1.0-py3.7.egg/awseditorssparkmonitoringwidget/cellmonitor.py\", line 154, in cell_monitor\n",
      "    job_group_filtered_jobs = [job for job in jobs_data if job['jobGroup'] == str(statement_id)]\n",
      "  File \"/mnt/notebook-env/lib/python3.7/site-packages/awseditorssparkmonitoringwidget-1.0-py3.7.egg/awseditorssparkmonitoringwidget/cellmonitor.py\", line 154, in <listcomp>\n",
      "    job_group_filtered_jobs = [job for job in jobs_data if job['jobGroup'] == str(statement_id)]\n",
      "KeyError: 'jobGroup'\n",
      "\n"
     ]
    }
   ],
   "source": [
    "cv_results[0][0].values()"
   ]
  },
  {
   "cell_type": "code",
   "execution_count": 55,
   "id": "c6a4bdb7-8533-495f-911e-1290bb34f094",
   "metadata": {
    "execution": {
     "iopub.execute_input": "2022-11-17T23:10:25.189740Z",
     "iopub.status.busy": "2022-11-17T23:10:25.189520Z",
     "iopub.status.idle": "2022-11-17T23:10:25.243578Z",
     "shell.execute_reply": "2022-11-17T23:10:25.243026Z",
     "shell.execute_reply.started": "2022-11-17T23:10:25.189717Z"
    }
   },
   "outputs": [
    {
     "data": {
      "application/vnd.jupyter.widget-view+json": {
       "model_id": "",
       "version_major": 2,
       "version_minor": 0
      },
      "text/plain": [
       "VBox()"
      ]
     },
     "metadata": {},
     "output_type": "display_data"
    },
    {
     "data": {
      "application/vnd.jupyter.widget-view+json": {
       "model_id": "",
       "version_major": 2,
       "version_minor": 0
      },
      "text/plain": [
       "FloatProgress(value=0.0, bar_style='info', description='Progress:', layout=Layout(height='25px', width='50%'),…"
      ]
     },
     "metadata": {},
     "output_type": "display_data"
    },
    {
     "name": "stderr",
     "output_type": "stream",
     "text": [
      "An error was encountered:\n",
      "'dict' object has no attribute 'params'\n",
      "Traceback (most recent call last):\n",
      "AttributeError: 'dict' object has no attribute 'params'\n",
      "\n",
      "Exception in thread cell_monitor-55:\n",
      "Traceback (most recent call last):\n",
      "  File \"/mnt/notebook-env/lib/python3.7/threading.py\", line 926, in _bootstrap_inner\n",
      "    self.run()\n",
      "  File \"/mnt/notebook-env/lib/python3.7/threading.py\", line 870, in run\n",
      "    self._target(*self._args, **self._kwargs)\n",
      "  File \"/mnt/notebook-env/lib/python3.7/site-packages/awseditorssparkmonitoringwidget-1.0-py3.7.egg/awseditorssparkmonitoringwidget/cellmonitor.py\", line 154, in cell_monitor\n",
      "    job_group_filtered_jobs = [job for job in jobs_data if job['jobGroup'] == str(statement_id)]\n",
      "  File \"/mnt/notebook-env/lib/python3.7/site-packages/awseditorssparkmonitoringwidget-1.0-py3.7.egg/awseditorssparkmonitoringwidget/cellmonitor.py\", line 154, in <listcomp>\n",
      "    job_group_filtered_jobs = [job for job in jobs_data if job['jobGroup'] == str(statement_id)]\n",
      "KeyError: 'jobGroup'\n",
      "\n"
     ]
    }
   ],
   "source": [
    "cv_results[0][0].params"
   ]
  },
  {
   "cell_type": "code",
   "execution_count": 49,
   "id": "dc49bb4b-37d4-467a-b725-7c71e2d036b4",
   "metadata": {
    "execution": {
     "iopub.execute_input": "2022-11-17T23:08:58.508821Z",
     "iopub.status.busy": "2022-11-17T23:08:58.508593Z",
     "iopub.status.idle": "2022-11-17T23:08:58.560964Z",
     "shell.execute_reply": "2022-11-17T23:08:58.560394Z",
     "shell.execute_reply.started": "2022-11-17T23:08:58.508796Z"
    }
   },
   "outputs": [
    {
     "data": {
      "application/vnd.jupyter.widget-view+json": {
       "model_id": "",
       "version_major": 2,
       "version_minor": 0
      },
      "text/plain": [
       "VBox()"
      ]
     },
     "metadata": {},
     "output_type": "display_data"
    },
    {
     "data": {
      "application/vnd.jupyter.widget-view+json": {
       "model_id": "",
       "version_major": 2,
       "version_minor": 0
      },
      "text/plain": [
       "FloatProgress(value=0.0, bar_style='info', description='Progress:', layout=Layout(height='25px', width='50%'),…"
      ]
     },
     "metadata": {},
     "output_type": "display_data"
    },
    {
     "name": "stdout",
     "output_type": "stream",
     "text": [
      "<class 'dict'>"
     ]
    },
    {
     "name": "stderr",
     "output_type": "stream",
     "text": [
      "Exception in thread cell_monitor-49:\n",
      "Traceback (most recent call last):\n",
      "  File \"/mnt/notebook-env/lib/python3.7/threading.py\", line 926, in _bootstrap_inner\n",
      "    self.run()\n",
      "  File \"/mnt/notebook-env/lib/python3.7/threading.py\", line 870, in run\n",
      "    self._target(*self._args, **self._kwargs)\n",
      "  File \"/mnt/notebook-env/lib/python3.7/site-packages/awseditorssparkmonitoringwidget-1.0-py3.7.egg/awseditorssparkmonitoringwidget/cellmonitor.py\", line 154, in cell_monitor\n",
      "    job_group_filtered_jobs = [job for job in jobs_data if job['jobGroup'] == str(statement_id)]\n",
      "  File \"/mnt/notebook-env/lib/python3.7/site-packages/awseditorssparkmonitoringwidget-1.0-py3.7.egg/awseditorssparkmonitoringwidget/cellmonitor.py\", line 154, in <listcomp>\n",
      "    job_group_filtered_jobs = [job for job in jobs_data if job['jobGroup'] == str(statement_id)]\n",
      "KeyError: 'jobGroup'\n",
      "\n"
     ]
    }
   ],
   "source": [
    "type(cv_results[0][0])"
   ]
  },
  {
   "cell_type": "code",
   "execution_count": 60,
   "id": "ee91b990-c43a-451c-a8bc-1bcc68415ed5",
   "metadata": {
    "execution": {
     "iopub.execute_input": "2022-11-17T23:12:08.867749Z",
     "iopub.status.busy": "2022-11-17T23:12:08.867499Z",
     "iopub.status.idle": "2022-11-17T23:12:08.930105Z",
     "shell.execute_reply": "2022-11-17T23:12:08.929257Z",
     "shell.execute_reply.started": "2022-11-17T23:12:08.867720Z"
    }
   },
   "outputs": [
    {
     "data": {
      "application/vnd.jupyter.widget-view+json": {
       "model_id": "",
       "version_major": 2,
       "version_minor": 0
      },
      "text/plain": [
       "VBox()"
      ]
     },
     "metadata": {},
     "output_type": "display_data"
    },
    {
     "data": {
      "application/vnd.jupyter.widget-view+json": {
       "model_id": "",
       "version_major": 2,
       "version_minor": 0
      },
      "text/plain": [
       "FloatProgress(value=0.0, bar_style='info', description='Progress:', layout=Layout(height='25px', width='50%'),…"
      ]
     },
     "metadata": {},
     "output_type": "display_data"
    },
    {
     "name": "stderr",
     "output_type": "stream",
     "text": [
      "Exception in thread cell_monitor-60:\n",
      "Traceback (most recent call last):\n",
      "  File \"/mnt/notebook-env/lib/python3.7/threading.py\", line 926, in _bootstrap_inner\n",
      "    self.run()\n",
      "  File \"/mnt/notebook-env/lib/python3.7/threading.py\", line 870, in run\n",
      "    self._target(*self._args, **self._kwargs)\n",
      "  File \"/mnt/notebook-env/lib/python3.7/site-packages/awseditorssparkmonitoringwidget-1.0-py3.7.egg/awseditorssparkmonitoringwidget/cellmonitor.py\", line 154, in cell_monitor\n",
      "    job_group_filtered_jobs = [job for job in jobs_data if job['jobGroup'] == str(statement_id)]\n",
      "  File \"/mnt/notebook-env/lib/python3.7/site-packages/awseditorssparkmonitoringwidget-1.0-py3.7.egg/awseditorssparkmonitoringwidget/cellmonitor.py\", line 154, in <listcomp>\n",
      "    job_group_filtered_jobs = [job for job in jobs_data if job['jobGroup'] == str(statement_id)]\n",
      "KeyError: 'jobGroup'\n",
      "\n"
     ]
    }
   ],
   "source": [
    "cv_results.sort(key=lambda x: x[1])"
   ]
  },
  {
   "cell_type": "code",
   "execution_count": 61,
   "id": "b3e6a47d-0aeb-4ac0-899f-0123f61d03e4",
   "metadata": {
    "execution": {
     "iopub.execute_input": "2022-11-17T23:12:16.792420Z",
     "iopub.status.busy": "2022-11-17T23:12:16.792102Z",
     "iopub.status.idle": "2022-11-17T23:12:16.874321Z",
     "shell.execute_reply": "2022-11-17T23:12:16.873142Z",
     "shell.execute_reply.started": "2022-11-17T23:12:16.792383Z"
    }
   },
   "outputs": [
    {
     "data": {
      "application/vnd.jupyter.widget-view+json": {
       "model_id": "",
       "version_major": 2,
       "version_minor": 0
      },
      "text/plain": [
       "VBox()"
      ]
     },
     "metadata": {},
     "output_type": "display_data"
    },
    {
     "data": {
      "application/vnd.jupyter.widget-view+json": {
       "model_id": "",
       "version_major": 2,
       "version_minor": 0
      },
      "text/plain": [
       "FloatProgress(value=0.0, bar_style='info', description='Progress:', layout=Layout(height='25px', width='50%'),…"
      ]
     },
     "metadata": {},
     "output_type": "display_data"
    },
    {
     "name": "stdout",
     "output_type": "stream",
     "text": [
      "({Param(parent='LinearRegression_62af007e8b1d', name='elasticNetParam', doc='the ElasticNet mixing parameter, in range [0, 1]. For alpha = 0, the penalty is an L2 penalty. For alpha = 1, it is an L1 penalty.'): 0.01, Param(parent='LinearRegression_62af007e8b1d', name='regParam', doc='regularization parameter (>= 0).'): 1.0}, 135.63214047825554)"
     ]
    },
    {
     "name": "stderr",
     "output_type": "stream",
     "text": [
      "Exception in thread cell_monitor-61:\n",
      "Traceback (most recent call last):\n",
      "  File \"/mnt/notebook-env/lib/python3.7/threading.py\", line 926, in _bootstrap_inner\n",
      "    self.run()\n",
      "  File \"/mnt/notebook-env/lib/python3.7/threading.py\", line 870, in run\n",
      "    self._target(*self._args, **self._kwargs)\n",
      "  File \"/mnt/notebook-env/lib/python3.7/site-packages/awseditorssparkmonitoringwidget-1.0-py3.7.egg/awseditorssparkmonitoringwidget/cellmonitor.py\", line 154, in cell_monitor\n",
      "    job_group_filtered_jobs = [job for job in jobs_data if job['jobGroup'] == str(statement_id)]\n",
      "  File \"/mnt/notebook-env/lib/python3.7/site-packages/awseditorssparkmonitoringwidget-1.0-py3.7.egg/awseditorssparkmonitoringwidget/cellmonitor.py\", line 154, in <listcomp>\n",
      "    job_group_filtered_jobs = [job for job in jobs_data if job['jobGroup'] == str(statement_id)]\n",
      "KeyError: 'jobGroup'\n",
      "\n"
     ]
    }
   ],
   "source": [
    "cv_results[0]"
   ]
  },
  {
   "cell_type": "code",
   "execution_count": 62,
   "id": "a9334ee8-61d9-4d8e-a4be-c5cf19a0df7b",
   "metadata": {
    "execution": {
     "iopub.execute_input": "2022-11-17T23:16:36.198315Z",
     "iopub.status.busy": "2022-11-17T23:16:36.198036Z",
     "iopub.status.idle": "2022-11-17T23:16:36.271763Z",
     "shell.execute_reply": "2022-11-17T23:16:36.270913Z",
     "shell.execute_reply.started": "2022-11-17T23:16:36.198287Z"
    }
   },
   "outputs": [
    {
     "data": {
      "application/vnd.jupyter.widget-view+json": {
       "model_id": "",
       "version_major": 2,
       "version_minor": 0
      },
      "text/plain": [
       "VBox()"
      ]
     },
     "metadata": {},
     "output_type": "display_data"
    },
    {
     "name": "stderr",
     "output_type": "stream",
     "text": [
      "Exception in thread cell_monitor-62:\n",
      "Traceback (most recent call last):\n",
      "  File \"/mnt/notebook-env/lib/python3.7/threading.py\", line 926, in _bootstrap_inner\n",
      "    self.run()\n",
      "  File \"/mnt/notebook-env/lib/python3.7/threading.py\", line 870, in run\n",
      "    self._target(*self._args, **self._kwargs)\n",
      "  File \"/mnt/notebook-env/lib/python3.7/site-packages/awseditorssparkmonitoringwidget-1.0-py3.7.egg/awseditorssparkmonitoringwidget/cellmonitor.py\", line 154, in cell_monitor\n",
      "    job_group_filtered_jobs = [job for job in jobs_data if job['jobGroup'] == str(statement_id)]\n",
      "  File \"/mnt/notebook-env/lib/python3.7/site-packages/awseditorssparkmonitoringwidget-1.0-py3.7.egg/awseditorssparkmonitoringwidget/cellmonitor.py\", line 154, in <listcomp>\n",
      "    job_group_filtered_jobs = [job for job in jobs_data if job['jobGroup'] == str(statement_id)]\n",
      "KeyError: 'jobGroup'\n",
      "\n"
     ]
    },
    {
     "data": {
      "application/vnd.jupyter.widget-view+json": {
       "model_id": "",
       "version_major": 2,
       "version_minor": 0
      },
      "text/plain": [
       "FloatProgress(value=0.0, bar_style='info', description='Progress:', layout=Layout(height='25px', width='50%'),…"
      ]
     },
     "metadata": {},
     "output_type": "display_data"
    },
    {
     "name": "stdout",
     "output_type": "stream",
     "text": [
      "135.63214047825554"
     ]
    }
   ],
   "source": [
    "best_result = cv_results[0]\n",
    "best_metric = best_result[1]\n",
    "best_metric"
   ]
  },
  {
   "cell_type": "code",
   "execution_count": 65,
   "id": "12327408-48f4-4363-a75d-6f8577ab2a65",
   "metadata": {
    "execution": {
     "iopub.execute_input": "2022-11-17T23:18:07.620522Z",
     "iopub.status.busy": "2022-11-17T23:18:07.620231Z",
     "iopub.status.idle": "2022-11-17T23:18:07.703619Z",
     "shell.execute_reply": "2022-11-17T23:18:07.702937Z",
     "shell.execute_reply.started": "2022-11-17T23:18:07.620492Z"
    },
    "tags": []
   },
   "outputs": [
    {
     "data": {
      "application/vnd.jupyter.widget-view+json": {
       "model_id": "",
       "version_major": 2,
       "version_minor": 0
      },
      "text/plain": [
       "VBox()"
      ]
     },
     "metadata": {},
     "output_type": "display_data"
    },
    {
     "data": {
      "application/vnd.jupyter.widget-view+json": {
       "model_id": "",
       "version_major": 2,
       "version_minor": 0
      },
      "text/plain": [
       "FloatProgress(value=0.0, bar_style='info', description='Progress:', layout=Layout(height='25px', width='50%'),…"
      ]
     },
     "metadata": {},
     "output_type": "display_data"
    },
    {
     "name": "stderr",
     "output_type": "stream",
     "text": [
      "Exception in thread cell_monitor-65:\n",
      "Traceback (most recent call last):\n",
      "  File \"/mnt/notebook-env/lib/python3.7/threading.py\", line 926, in _bootstrap_inner\n",
      "    self.run()\n",
      "  File \"/mnt/notebook-env/lib/python3.7/threading.py\", line 870, in run\n",
      "    self._target(*self._args, **self._kwargs)\n",
      "  File \"/mnt/notebook-env/lib/python3.7/site-packages/awseditorssparkmonitoringwidget-1.0-py3.7.egg/awseditorssparkmonitoringwidget/cellmonitor.py\", line 154, in cell_monitor\n",
      "    job_group_filtered_jobs = [job for job in jobs_data if job['jobGroup'] == str(statement_id)]\n",
      "  File \"/mnt/notebook-env/lib/python3.7/site-packages/awseditorssparkmonitoringwidget-1.0-py3.7.egg/awseditorssparkmonitoringwidget/cellmonitor.py\", line 154, in <listcomp>\n",
      "    job_group_filtered_jobs = [job for job in jobs_data if job['jobGroup'] == str(statement_id)]\n",
      "KeyError: 'jobGroup'\n",
      "\n"
     ]
    }
   ],
   "source": [
    "params = [x.name for x in list(best_result[0].keys())]\n",
    "param_vals = best_result[0].values()"
   ]
  },
  {
   "cell_type": "code",
   "execution_count": 67,
   "id": "17369d39-e2d8-4b60-9cbf-a9c5941d5953",
   "metadata": {
    "execution": {
     "iopub.execute_input": "2022-11-17T23:18:25.784954Z",
     "iopub.status.busy": "2022-11-17T23:18:25.784724Z",
     "iopub.status.idle": "2022-11-17T23:18:25.855798Z",
     "shell.execute_reply": "2022-11-17T23:18:25.855229Z",
     "shell.execute_reply.started": "2022-11-17T23:18:25.784929Z"
    }
   },
   "outputs": [
    {
     "data": {
      "application/vnd.jupyter.widget-view+json": {
       "model_id": "",
       "version_major": 2,
       "version_minor": 0
      },
      "text/plain": [
       "VBox()"
      ]
     },
     "metadata": {},
     "output_type": "display_data"
    },
    {
     "data": {
      "application/vnd.jupyter.widget-view+json": {
       "model_id": "",
       "version_major": 2,
       "version_minor": 0
      },
      "text/plain": [
       "FloatProgress(value=0.0, bar_style='info', description='Progress:', layout=Layout(height='25px', width='50%'),…"
      ]
     },
     "metadata": {},
     "output_type": "display_data"
    },
    {
     "name": "stderr",
     "output_type": "stream",
     "text": [
      "Exception in thread cell_monitor-67:\n",
      "Traceback (most recent call last):\n",
      "  File \"/mnt/notebook-env/lib/python3.7/threading.py\", line 926, in _bootstrap_inner\n",
      "    self.run()\n",
      "  File \"/mnt/notebook-env/lib/python3.7/threading.py\", line 870, in run\n",
      "    self._target(*self._args, **self._kwargs)\n",
      "  File \"/mnt/notebook-env/lib/python3.7/site-packages/awseditorssparkmonitoringwidget-1.0-py3.7.egg/awseditorssparkmonitoringwidget/cellmonitor.py\", line 154, in cell_monitor\n",
      "    job_group_filtered_jobs = [job for job in jobs_data if job['jobGroup'] == str(statement_id)]\n",
      "  File \"/mnt/notebook-env/lib/python3.7/site-packages/awseditorssparkmonitoringwidget-1.0-py3.7.egg/awseditorssparkmonitoringwidget/cellmonitor.py\", line 154, in <listcomp>\n",
      "    job_group_filtered_jobs = [job for job in jobs_data if job['jobGroup'] == str(statement_id)]\n",
      "KeyError: 'jobGroup'\n",
      "\n"
     ]
    }
   ],
   "source": [
    "best_params = dict(zip(params, param_vals))"
   ]
  },
  {
   "cell_type": "code",
   "execution_count": 69,
   "id": "82e520b7-7d0f-4673-b156-92f38de49cb9",
   "metadata": {
    "execution": {
     "iopub.execute_input": "2022-11-17T23:20:07.622116Z",
     "iopub.status.busy": "2022-11-17T23:20:07.621846Z",
     "iopub.status.idle": "2022-11-17T23:20:07.735546Z",
     "shell.execute_reply": "2022-11-17T23:20:07.734762Z",
     "shell.execute_reply.started": "2022-11-17T23:20:07.622088Z"
    },
    "tags": []
   },
   "outputs": [
    {
     "data": {
      "application/vnd.jupyter.widget-view+json": {
       "model_id": "",
       "version_major": 2,
       "version_minor": 0
      },
      "text/plain": [
       "VBox()"
      ]
     },
     "metadata": {},
     "output_type": "display_data"
    },
    {
     "data": {
      "application/vnd.jupyter.widget-view+json": {
       "model_id": "",
       "version_major": 2,
       "version_minor": 0
      },
      "text/plain": [
       "FloatProgress(value=0.0, bar_style='info', description='Progress:', layout=Layout(height='25px', width='50%'),…"
      ]
     },
     "metadata": {},
     "output_type": "display_data"
    },
    {
     "name": "stdout",
     "output_type": "stream",
     "text": [
      "({'elasticNetParam': 0.01, 'regParam': 1.0}, 135.63214047825554)"
     ]
    },
    {
     "name": "stderr",
     "output_type": "stream",
     "text": [
      "Exception in thread cell_monitor-69:\n",
      "Traceback (most recent call last):\n",
      "  File \"/mnt/notebook-env/lib/python3.7/threading.py\", line 926, in _bootstrap_inner\n",
      "    self.run()\n",
      "  File \"/mnt/notebook-env/lib/python3.7/threading.py\", line 870, in run\n",
      "    self._target(*self._args, **self._kwargs)\n",
      "  File \"/mnt/notebook-env/lib/python3.7/site-packages/awseditorssparkmonitoringwidget-1.0-py3.7.egg/awseditorssparkmonitoringwidget/cellmonitor.py\", line 154, in cell_monitor\n",
      "    job_group_filtered_jobs = [job for job in jobs_data if job['jobGroup'] == str(statement_id)]\n",
      "  File \"/mnt/notebook-env/lib/python3.7/site-packages/awseditorssparkmonitoringwidget-1.0-py3.7.egg/awseditorssparkmonitoringwidget/cellmonitor.py\", line 154, in <listcomp>\n",
      "    job_group_filtered_jobs = [job for job in jobs_data if job['jobGroup'] == str(statement_id)]\n",
      "KeyError: 'jobGroup'\n",
      "\n"
     ]
    }
   ],
   "source": [
    "best_params, best_metric"
   ]
  },
  {
   "cell_type": "code",
   "execution_count": null,
   "id": "05852f91-fb83-460c-8013-f9b2822b9244",
   "metadata": {},
   "outputs": [],
   "source": []
  },
  {
   "cell_type": "code",
   "execution_count": null,
   "id": "016a73e3-eb53-42f0-85fd-e642a22dfc63",
   "metadata": {},
   "outputs": [],
   "source": []
  },
  {
   "cell_type": "code",
   "execution_count": null,
   "id": "033f4df2-b968-4399-8d11-2e54628c9786",
   "metadata": {},
   "outputs": [],
   "source": []
  },
  {
   "cell_type": "markdown",
   "id": "d563a21e-3d4d-436c-9958-b3fcf00a6994",
   "metadata": {},
   "source": [
    "# try a different model type"
   ]
  },
  {
   "cell_type": "code",
   "execution_count": 71,
   "id": "2ba0e9c1-31a1-4624-9ddc-de99e2eadb38",
   "metadata": {
    "execution": {
     "iopub.execute_input": "2022-11-17T23:25:02.211465Z",
     "iopub.status.busy": "2022-11-17T23:25:02.211231Z",
     "iopub.status.idle": "2022-11-17T23:25:02.268739Z",
     "shell.execute_reply": "2022-11-17T23:25:02.267498Z",
     "shell.execute_reply.started": "2022-11-17T23:25:02.211438Z"
    }
   },
   "outputs": [
    {
     "data": {
      "application/vnd.jupyter.widget-view+json": {
       "model_id": "",
       "version_major": 2,
       "version_minor": 0
      },
      "text/plain": [
       "VBox()"
      ]
     },
     "metadata": {},
     "output_type": "display_data"
    },
    {
     "data": {
      "application/vnd.jupyter.widget-view+json": {
       "model_id": "",
       "version_major": 2,
       "version_minor": 0
      },
      "text/plain": [
       "FloatProgress(value=0.0, bar_style='info', description='Progress:', layout=Layout(height='25px', width='50%'),…"
      ]
     },
     "metadata": {},
     "output_type": "display_data"
    },
    {
     "name": "stderr",
     "output_type": "stream",
     "text": [
      "Exception in thread cell_monitor-71:\n",
      "Traceback (most recent call last):\n",
      "  File \"/mnt/notebook-env/lib/python3.7/threading.py\", line 926, in _bootstrap_inner\n",
      "    self.run()\n",
      "  File \"/mnt/notebook-env/lib/python3.7/threading.py\", line 870, in run\n",
      "    self._target(*self._args, **self._kwargs)\n",
      "  File \"/mnt/notebook-env/lib/python3.7/site-packages/awseditorssparkmonitoringwidget-1.0-py3.7.egg/awseditorssparkmonitoringwidget/cellmonitor.py\", line 154, in cell_monitor\n",
      "    job_group_filtered_jobs = [job for job in jobs_data if job['jobGroup'] == str(statement_id)]\n",
      "  File \"/mnt/notebook-env/lib/python3.7/site-packages/awseditorssparkmonitoringwidget-1.0-py3.7.egg/awseditorssparkmonitoringwidget/cellmonitor.py\", line 154, in <listcomp>\n",
      "    job_group_filtered_jobs = [job for job in jobs_data if job['jobGroup'] == str(statement_id)]\n",
      "KeyError: 'jobGroup'\n",
      "\n"
     ]
    }
   ],
   "source": [
    "from pyspark.ml.regression import RandomForestRegressor"
   ]
  },
  {
   "cell_type": "code",
   "execution_count": 76,
   "id": "51b137f0-1d97-4205-b629-969bc28e7f31",
   "metadata": {
    "execution": {
     "iopub.execute_input": "2022-11-17T23:32:39.804846Z",
     "iopub.status.busy": "2022-11-17T23:32:39.804616Z",
     "iopub.status.idle": "2022-11-17T23:33:33.520824Z",
     "shell.execute_reply": "2022-11-17T23:33:33.520252Z",
     "shell.execute_reply.started": "2022-11-17T23:32:39.804813Z"
    },
    "tags": []
   },
   "outputs": [
    {
     "data": {
      "application/vnd.jupyter.widget-view+json": {
       "model_id": "",
       "version_major": 2,
       "version_minor": 0
      },
      "text/plain": [
       "VBox()"
      ]
     },
     "metadata": {},
     "output_type": "display_data"
    },
    {
     "data": {
      "application/vnd.jupyter.widget-view+json": {
       "model_id": "",
       "version_major": 2,
       "version_minor": 0
      },
      "text/plain": [
       "FloatProgress(value=0.0, bar_style='info', description='Progress:', layout=Layout(height='25px', width='50%'),…"
      ]
     },
     "metadata": {},
     "output_type": "display_data"
    },
    {
     "name": "stderr",
     "output_type": "stream",
     "text": [
      "Exception in thread cell_monitor-76:\n",
      "Traceback (most recent call last):\n",
      "  File \"/mnt/notebook-env/lib/python3.7/threading.py\", line 926, in _bootstrap_inner\n",
      "    self.run()\n",
      "  File \"/mnt/notebook-env/lib/python3.7/threading.py\", line 870, in run\n",
      "    self._target(*self._args, **self._kwargs)\n",
      "  File \"/mnt/notebook-env/lib/python3.7/site-packages/awseditorssparkmonitoringwidget-1.0-py3.7.egg/awseditorssparkmonitoringwidget/cellmonitor.py\", line 154, in cell_monitor\n",
      "    job_group_filtered_jobs = [job for job in jobs_data if job['jobGroup'] == str(statement_id)]\n",
      "  File \"/mnt/notebook-env/lib/python3.7/site-packages/awseditorssparkmonitoringwidget-1.0-py3.7.egg/awseditorssparkmonitoringwidget/cellmonitor.py\", line 154, in <listcomp>\n",
      "    job_group_filtered_jobs = [job for job in jobs_data if job['jobGroup'] == str(statement_id)]\n",
      "KeyError: 'jobGroup'\n",
      "\n"
     ]
    }
   ],
   "source": [
    "raw_feature_assembler = VectorAssembler(\n",
    "    inputCols=all_features,\n",
    "    outputCol='features'\n",
    ")\n",
    "\n",
    "regression_model = RandomForestRegressor(\n",
    "    labelCol=\"fare\",\n",
    "    numTrees=50,\n",
    "    maxDepth=10,\n",
    ")\n",
    "\n",
    "rf_pipeline = Pipeline(stages=[\n",
    "    # scale_assembler,\n",
    "    # norm_assembler,\n",
    "    # ohe, \n",
    "    # scaler,\n",
    "    # normer,\n",
    "    raw_feature_assembler,\n",
    "    regression_model\n",
    "])\n",
    "\n",
    "rf_model = rf_pipeline.fit(train_shuffled)\n",
    "test_rf_tx = rf_model.transform(test)"
   ]
  },
  {
   "cell_type": "code",
   "execution_count": 77,
   "id": "fae5cd95-9239-4ee4-8a28-e3fb045bdbc8",
   "metadata": {
    "execution": {
     "iopub.execute_input": "2022-11-17T23:34:44.558674Z",
     "iopub.status.busy": "2022-11-17T23:34:44.558437Z",
     "iopub.status.idle": "2022-11-17T23:34:46.835081Z",
     "shell.execute_reply": "2022-11-17T23:34:46.834369Z",
     "shell.execute_reply.started": "2022-11-17T23:34:44.558651Z"
    },
    "tags": []
   },
   "outputs": [
    {
     "data": {
      "application/vnd.jupyter.widget-view+json": {
       "model_id": "",
       "version_major": 2,
       "version_minor": 0
      },
      "text/plain": [
       "VBox()"
      ]
     },
     "metadata": {},
     "output_type": "display_data"
    },
    {
     "data": {
      "application/vnd.jupyter.widget-view+json": {
       "model_id": "",
       "version_major": 2,
       "version_minor": 0
      },
      "text/plain": [
       "FloatProgress(value=0.0, bar_style='info', description='Progress:', layout=Layout(height='25px', width='50%'),…"
      ]
     },
     "metadata": {},
     "output_type": "display_data"
    },
    {
     "name": "stderr",
     "output_type": "stream",
     "text": [
      "Exception in thread cell_monitor-77:\n",
      "Traceback (most recent call last):\n",
      "  File \"/mnt/notebook-env/lib/python3.7/threading.py\", line 926, in _bootstrap_inner\n",
      "    self.run()\n",
      "  File \"/mnt/notebook-env/lib/python3.7/threading.py\", line 870, in run\n",
      "    self._target(*self._args, **self._kwargs)\n",
      "  File \"/mnt/notebook-env/lib/python3.7/site-packages/awseditorssparkmonitoringwidget-1.0-py3.7.egg/awseditorssparkmonitoringwidget/cellmonitor.py\", line 154, in cell_monitor\n",
      "    job_group_filtered_jobs = [job for job in jobs_data if job['jobGroup'] == str(statement_id)]\n",
      "  File \"/mnt/notebook-env/lib/python3.7/site-packages/awseditorssparkmonitoringwidget-1.0-py3.7.egg/awseditorssparkmonitoringwidget/cellmonitor.py\", line 154, in <listcomp>\n",
      "    job_group_filtered_jobs = [job for job in jobs_data if job['jobGroup'] == str(statement_id)]\n",
      "KeyError: 'jobGroup'\n",
      "\n"
     ]
    },
    {
     "name": "stdout",
     "output_type": "stream",
     "text": [
      "+-------------------+\n",
      "|               mape|\n",
      "+-------------------+\n",
      "|0.13308420519822364|\n",
      "+-------------------+"
     ]
    }
   ],
   "source": [
    "test_rf_tx = calc_abs_pct_err(test_rf_tx)\n",
    "test_rf_tx.select(F.mean(\"abs_pct_err\").alias(\"mape\")).show()"
   ]
  },
  {
   "cell_type": "markdown",
   "id": "1d177a32-89fe-4608-9acc-b42bea2d176f",
   "metadata": {},
   "source": [
    "A tiny bit better"
   ]
  },
  {
   "cell_type": "code",
   "execution_count": 78,
   "id": "17f44b4d-7b37-4330-8efa-a27a37e05079",
   "metadata": {
    "execution": {
     "iopub.execute_input": "2022-11-17T23:34:49.436463Z",
     "iopub.status.busy": "2022-11-17T23:34:49.436240Z",
     "iopub.status.idle": "2022-11-17T23:34:51.722429Z",
     "shell.execute_reply": "2022-11-17T23:34:51.721702Z",
     "shell.execute_reply.started": "2022-11-17T23:34:49.436439Z"
    },
    "tags": []
   },
   "outputs": [
    {
     "data": {
      "application/vnd.jupyter.widget-view+json": {
       "model_id": "",
       "version_major": 2,
       "version_minor": 0
      },
      "text/plain": [
       "VBox()"
      ]
     },
     "metadata": {},
     "output_type": "display_data"
    },
    {
     "data": {
      "application/vnd.jupyter.widget-view+json": {
       "model_id": "",
       "version_major": 2,
       "version_minor": 0
      },
      "text/plain": [
       "FloatProgress(value=0.0, bar_style='info', description='Progress:', layout=Layout(height='25px', width='50%'),…"
      ]
     },
     "metadata": {},
     "output_type": "display_data"
    },
    {
     "name": "stderr",
     "output_type": "stream",
     "text": [
      "Exception in thread cell_monitor-78:\n",
      "Traceback (most recent call last):\n",
      "  File \"/mnt/notebook-env/lib/python3.7/threading.py\", line 926, in _bootstrap_inner\n",
      "    self.run()\n",
      "  File \"/mnt/notebook-env/lib/python3.7/threading.py\", line 870, in run\n",
      "    self._target(*self._args, **self._kwargs)\n",
      "  File \"/mnt/notebook-env/lib/python3.7/site-packages/awseditorssparkmonitoringwidget-1.0-py3.7.egg/awseditorssparkmonitoringwidget/cellmonitor.py\", line 154, in cell_monitor\n",
      "    job_group_filtered_jobs = [job for job in jobs_data if job['jobGroup'] == str(statement_id)]\n",
      "  File \"/mnt/notebook-env/lib/python3.7/site-packages/awseditorssparkmonitoringwidget-1.0-py3.7.egg/awseditorssparkmonitoringwidget/cellmonitor.py\", line 154, in <listcomp>\n",
      "    job_group_filtered_jobs = [job for job in jobs_data if job['jobGroup'] == str(statement_id)]\n",
      "KeyError: 'jobGroup'\n",
      "\n"
     ]
    },
    {
     "name": "stdout",
     "output_type": "stream",
     "text": [
      "+-------+--------------------+\n",
      "| market|                mape|\n",
      "+-------+--------------------+\n",
      "|LHR-EWR| 0.03601863988701263|\n",
      "|LHR-JFK|0.057528979278835914|\n",
      "|EWR-LHR|   0.064339470474955|\n",
      "|JFK-LHR| 0.09352950501069193|\n",
      "|LAX-EWR| 0.10154758151650022|\n",
      "|EWR-CDG| 0.11288659273284089|\n",
      "|LHR-LAX| 0.11337571493333565|\n",
      "|JFK-LAX| 0.11884334524102143|\n",
      "|LAX-JFK| 0.11982202249898405|\n",
      "|ATL-EWR| 0.12641200907072284|\n",
      "|LGA-MIA|  0.1952672733888646|\n",
      "|LAX-SFO|  0.2028225565392824|\n",
      "|SFO-LAX| 0.20561546207870865|\n",
      "|OAK-LAS|  0.4952043019033468|\n",
      "+-------+--------------------+"
     ]
    }
   ],
   "source": [
    "test_rf_tx.groupBy(\"market\").agg(F.mean(\"abs_pct_err\").alias(\"mape\")).orderBy(\"mape\").show()"
   ]
  },
  {
   "cell_type": "code",
   "execution_count": 79,
   "id": "37901172-fef9-4274-bef6-58a467a650e8",
   "metadata": {
    "execution": {
     "iopub.execute_input": "2022-11-17T23:35:30.347313Z",
     "iopub.status.busy": "2022-11-17T23:35:30.346992Z",
     "iopub.status.idle": "2022-11-17T23:35:30.417504Z",
     "shell.execute_reply": "2022-11-17T23:35:30.416616Z",
     "shell.execute_reply.started": "2022-11-17T23:35:30.347272Z"
    }
   },
   "outputs": [
    {
     "data": {
      "application/vnd.jupyter.widget-view+json": {
       "model_id": "",
       "version_major": 2,
       "version_minor": 0
      },
      "text/plain": [
       "VBox()"
      ]
     },
     "metadata": {},
     "output_type": "display_data"
    },
    {
     "data": {
      "application/vnd.jupyter.widget-view+json": {
       "model_id": "",
       "version_major": 2,
       "version_minor": 0
      },
      "text/plain": [
       "FloatProgress(value=0.0, bar_style='info', description='Progress:', layout=Layout(height='25px', width='50%'),…"
      ]
     },
     "metadata": {},
     "output_type": "display_data"
    },
    {
     "name": "stderr",
     "output_type": "stream",
     "text": [
      "Exception in thread cell_monitor-79:\n",
      "Traceback (most recent call last):\n",
      "  File \"/mnt/notebook-env/lib/python3.7/threading.py\", line 926, in _bootstrap_inner\n",
      "    self.run()\n",
      "  File \"/mnt/notebook-env/lib/python3.7/threading.py\", line 870, in run\n",
      "    self._target(*self._args, **self._kwargs)\n",
      "  File \"/mnt/notebook-env/lib/python3.7/site-packages/awseditorssparkmonitoringwidget-1.0-py3.7.egg/awseditorssparkmonitoringwidget/cellmonitor.py\", line 154, in cell_monitor\n",
      "    job_group_filtered_jobs = [job for job in jobs_data if job['jobGroup'] == str(statement_id)]\n",
      "  File \"/mnt/notebook-env/lib/python3.7/site-packages/awseditorssparkmonitoringwidget-1.0-py3.7.egg/awseditorssparkmonitoringwidget/cellmonitor.py\", line 154, in <listcomp>\n",
      "    job_group_filtered_jobs = [job for job in jobs_data if job['jobGroup'] == str(statement_id)]\n",
      "KeyError: 'jobGroup'\n",
      "\n"
     ]
    }
   ],
   "source": [
    "param_grid = (ParamGridBuilder()\n",
    "              # regParam is lambda (weight / factor), elasticNet is alpha (ratio)\n",
    "              # note alpha is the opposite of sklearn's defintion\n",
    "              .addGrid(regression_model.numTrees, [50, 100, 200])\n",
    "              .addGrid(regression_model.maxDepth, [3, 5, 7, 10])\n",
    "              .build()\n",
    "             )\n",
    "\n",
    "cv = CrossValidator(estimator=rf_pipeline,\n",
    "                    estimatorParamMaps=param_grid,\n",
    "                    evaluator=RegressionEvaluator(labelCol=\"fare\"),\n",
    "                    numFolds=3,\n",
    "                    parallelism=5\n",
    "                   )"
   ]
  },
  {
   "cell_type": "code",
   "execution_count": 80,
   "id": "c552859b-337f-46e7-bb48-5f61ea409a56",
   "metadata": {
    "execution": {
     "iopub.execute_input": "2022-11-17T23:35:46.394922Z",
     "iopub.status.busy": "2022-11-17T23:35:46.394696Z",
     "iopub.status.idle": "2022-11-17T23:40:29.076073Z",
     "shell.execute_reply": "2022-11-17T23:40:29.075514Z",
     "shell.execute_reply.started": "2022-11-17T23:35:46.394896Z"
    }
   },
   "outputs": [
    {
     "data": {
      "application/vnd.jupyter.widget-view+json": {
       "model_id": "",
       "version_major": 2,
       "version_minor": 0
      },
      "text/plain": [
       "VBox()"
      ]
     },
     "metadata": {},
     "output_type": "display_data"
    },
    {
     "data": {
      "application/vnd.jupyter.widget-view+json": {
       "model_id": "",
       "version_major": 2,
       "version_minor": 0
      },
      "text/plain": [
       "FloatProgress(value=0.0, bar_style='info', description='Progress:', layout=Layout(height='25px', width='50%'),…"
      ]
     },
     "metadata": {},
     "output_type": "display_data"
    },
    {
     "name": "stderr",
     "output_type": "stream",
     "text": [
      "Exception in thread cell_monitor-80:\n",
      "Traceback (most recent call last):\n",
      "  File \"/mnt/notebook-env/lib/python3.7/threading.py\", line 926, in _bootstrap_inner\n",
      "    self.run()\n",
      "  File \"/mnt/notebook-env/lib/python3.7/threading.py\", line 870, in run\n",
      "    self._target(*self._args, **self._kwargs)\n",
      "  File \"/mnt/notebook-env/lib/python3.7/site-packages/awseditorssparkmonitoringwidget-1.0-py3.7.egg/awseditorssparkmonitoringwidget/cellmonitor.py\", line 154, in cell_monitor\n",
      "    job_group_filtered_jobs = [job for job in jobs_data if job['jobGroup'] == str(statement_id)]\n",
      "  File \"/mnt/notebook-env/lib/python3.7/site-packages/awseditorssparkmonitoringwidget-1.0-py3.7.egg/awseditorssparkmonitoringwidget/cellmonitor.py\", line 154, in <listcomp>\n",
      "    job_group_filtered_jobs = [job for job in jobs_data if job['jobGroup'] == str(statement_id)]\n",
      "KeyError: 'jobGroup'\n",
      "\n"
     ]
    }
   ],
   "source": [
    "cv_model = cv.fit(train)"
   ]
  },
  {
   "cell_type": "code",
   "execution_count": 81,
   "id": "0d162620-8726-43a3-997d-1a30ef6ac1ef",
   "metadata": {
    "execution": {
     "iopub.execute_input": "2022-11-17T23:40:29.077592Z",
     "iopub.status.busy": "2022-11-17T23:40:29.077321Z",
     "iopub.status.idle": "2022-11-17T23:40:29.330968Z",
     "shell.execute_reply": "2022-11-17T23:40:29.330260Z",
     "shell.execute_reply.started": "2022-11-17T23:40:29.077557Z"
    },
    "tags": []
   },
   "outputs": [
    {
     "data": {
      "application/vnd.jupyter.widget-view+json": {
       "model_id": "",
       "version_major": 2,
       "version_minor": 0
      },
      "text/plain": [
       "VBox()"
      ]
     },
     "metadata": {},
     "output_type": "display_data"
    },
    {
     "data": {
      "application/vnd.jupyter.widget-view+json": {
       "model_id": "",
       "version_major": 2,
       "version_minor": 0
      },
      "text/plain": [
       "FloatProgress(value=0.0, bar_style='info', description='Progress:', layout=Layout(height='25px', width='50%'),…"
      ]
     },
     "metadata": {},
     "output_type": "display_data"
    },
    {
     "name": "stderr",
     "output_type": "stream",
     "text": [
      "Exception in thread cell_monitor-81:\n",
      "Traceback (most recent call last):\n",
      "  File \"/mnt/notebook-env/lib/python3.7/threading.py\", line 926, in _bootstrap_inner\n",
      "    self.run()\n",
      "  File \"/mnt/notebook-env/lib/python3.7/threading.py\", line 870, in run\n",
      "    self._target(*self._args, **self._kwargs)\n",
      "  File \"/mnt/notebook-env/lib/python3.7/site-packages/awseditorssparkmonitoringwidget-1.0-py3.7.egg/awseditorssparkmonitoringwidget/cellmonitor.py\", line 154, in cell_monitor\n",
      "    job_group_filtered_jobs = [job for job in jobs_data if job['jobGroup'] == str(statement_id)]\n",
      "  File \"/mnt/notebook-env/lib/python3.7/site-packages/awseditorssparkmonitoringwidget-1.0-py3.7.egg/awseditorssparkmonitoringwidget/cellmonitor.py\", line 154, in <listcomp>\n",
      "    job_group_filtered_jobs = [job for job in jobs_data if job['jobGroup'] == str(statement_id)]\n",
      "KeyError: 'jobGroup'\n",
      "\n"
     ]
    }
   ],
   "source": [
    "pred_cv = cv_model.transform(test)"
   ]
  },
  {
   "cell_type": "code",
   "execution_count": 82,
   "id": "76e0ce43-9ee8-4496-9ba9-cfa3fcd70228",
   "metadata": {
    "execution": {
     "iopub.execute_input": "2022-11-17T23:43:04.773271Z",
     "iopub.status.busy": "2022-11-17T23:43:04.773043Z",
     "iopub.status.idle": "2022-11-17T23:43:14.071142Z",
     "shell.execute_reply": "2022-11-17T23:43:14.070552Z",
     "shell.execute_reply.started": "2022-11-17T23:43:04.773245Z"
    }
   },
   "outputs": [
    {
     "data": {
      "application/vnd.jupyter.widget-view+json": {
       "model_id": "",
       "version_major": 2,
       "version_minor": 0
      },
      "text/plain": [
       "VBox()"
      ]
     },
     "metadata": {},
     "output_type": "display_data"
    },
    {
     "data": {
      "application/vnd.jupyter.widget-view+json": {
       "model_id": "",
       "version_major": 2,
       "version_minor": 0
      },
      "text/plain": [
       "FloatProgress(value=0.0, bar_style='info', description='Progress:', layout=Layout(height='25px', width='50%'),…"
      ]
     },
     "metadata": {},
     "output_type": "display_data"
    },
    {
     "name": "stderr",
     "output_type": "stream",
     "text": [
      "Exception in thread cell_monitor-82:\n",
      "Traceback (most recent call last):\n",
      "  File \"/mnt/notebook-env/lib/python3.7/threading.py\", line 926, in _bootstrap_inner\n",
      "    self.run()\n",
      "  File \"/mnt/notebook-env/lib/python3.7/threading.py\", line 870, in run\n",
      "    self._target(*self._args, **self._kwargs)\n",
      "  File \"/mnt/notebook-env/lib/python3.7/site-packages/awseditorssparkmonitoringwidget-1.0-py3.7.egg/awseditorssparkmonitoringwidget/cellmonitor.py\", line 154, in cell_monitor\n",
      "    job_group_filtered_jobs = [job for job in jobs_data if job['jobGroup'] == str(statement_id)]\n",
      "  File \"/mnt/notebook-env/lib/python3.7/site-packages/awseditorssparkmonitoringwidget-1.0-py3.7.egg/awseditorssparkmonitoringwidget/cellmonitor.py\", line 154, in <listcomp>\n",
      "    job_group_filtered_jobs = [job for job in jobs_data if job['jobGroup'] == str(statement_id)]\n",
      "KeyError: 'jobGroup'\n",
      "\n"
     ]
    },
    {
     "name": "stdout",
     "output_type": "stream",
     "text": [
      "+-------------------+\n",
      "|               mape|\n",
      "+-------------------+\n",
      "|0.13728407495010508|\n",
      "+-------------------+"
     ]
    }
   ],
   "source": [
    "pred_cv = calc_abs_pct_err(pred_cv)\n",
    "pred_cv.select(F.mean(\"abs_pct_err\").alias(\"mape\")).show()"
   ]
  },
  {
   "cell_type": "markdown",
   "id": "0688695c-01c2-4dff-8c74-d6e2baf4ab27",
   "metadata": {},
   "source": [
    "Worse!"
   ]
  },
  {
   "cell_type": "code",
   "execution_count": 83,
   "id": "b6842d61-70a3-414a-aea4-5e1bef4ce9b7",
   "metadata": {
    "execution": {
     "iopub.execute_input": "2022-11-17T23:43:14.072337Z",
     "iopub.status.busy": "2022-11-17T23:43:14.072152Z",
     "iopub.status.idle": "2022-11-17T23:43:17.352243Z",
     "shell.execute_reply": "2022-11-17T23:43:17.351469Z",
     "shell.execute_reply.started": "2022-11-17T23:43:14.072312Z"
    }
   },
   "outputs": [
    {
     "data": {
      "application/vnd.jupyter.widget-view+json": {
       "model_id": "",
       "version_major": 2,
       "version_minor": 0
      },
      "text/plain": [
       "VBox()"
      ]
     },
     "metadata": {},
     "output_type": "display_data"
    },
    {
     "data": {
      "application/vnd.jupyter.widget-view+json": {
       "model_id": "",
       "version_major": 2,
       "version_minor": 0
      },
      "text/plain": [
       "FloatProgress(value=0.0, bar_style='info', description='Progress:', layout=Layout(height='25px', width='50%'),…"
      ]
     },
     "metadata": {},
     "output_type": "display_data"
    },
    {
     "name": "stderr",
     "output_type": "stream",
     "text": [
      "Exception in thread cell_monitor-83:\n",
      "Traceback (most recent call last):\n",
      "  File \"/mnt/notebook-env/lib/python3.7/threading.py\", line 926, in _bootstrap_inner\n",
      "    self.run()\n",
      "  File \"/mnt/notebook-env/lib/python3.7/threading.py\", line 870, in run\n",
      "    self._target(*self._args, **self._kwargs)\n",
      "  File \"/mnt/notebook-env/lib/python3.7/site-packages/awseditorssparkmonitoringwidget-1.0-py3.7.egg/awseditorssparkmonitoringwidget/cellmonitor.py\", line 154, in cell_monitor\n",
      "    job_group_filtered_jobs = [job for job in jobs_data if job['jobGroup'] == str(statement_id)]\n",
      "  File \"/mnt/notebook-env/lib/python3.7/site-packages/awseditorssparkmonitoringwidget-1.0-py3.7.egg/awseditorssparkmonitoringwidget/cellmonitor.py\", line 154, in <listcomp>\n",
      "    job_group_filtered_jobs = [job for job in jobs_data if job['jobGroup'] == str(statement_id)]\n",
      "KeyError: 'jobGroup'\n",
      "\n"
     ]
    },
    {
     "name": "stdout",
     "output_type": "stream",
     "text": [
      "+-------+-------------------+\n",
      "| market|               mape|\n",
      "+-------+-------------------+\n",
      "|LHR-EWR|0.03879280927780875|\n",
      "|LHR-JFK|0.05583507142016448|\n",
      "|EWR-LHR|0.07129838774736268|\n",
      "|JFK-LHR|0.09648400306355556|\n",
      "|LHR-LAX|0.10177893301445474|\n",
      "|LAX-EWR|0.10425436292823402|\n",
      "|EWR-CDG|0.11884792408950245|\n",
      "|LAX-JFK|0.12084846678811713|\n",
      "|JFK-LAX|0.12106735555728934|\n",
      "|ATL-EWR|0.13327181418026415|\n",
      "|LAX-SFO|0.21271423216878468|\n",
      "|LGA-MIA|0.21383080579332997|\n",
      "|SFO-LAX| 0.2145632698261908|\n",
      "|OAK-LAS| 0.5021130688304055|\n",
      "+-------+-------------------+"
     ]
    }
   ],
   "source": [
    "pred_cv.groupBy(\"market\").agg(F.mean(\"abs_pct_err\").alias(\"mape\")).orderBy(\"mape\").show()"
   ]
  },
  {
   "cell_type": "code",
   "execution_count": 85,
   "id": "508a7754-d715-4f7b-b307-4c646e0b1873",
   "metadata": {
    "execution": {
     "iopub.execute_input": "2022-11-17T23:44:25.916827Z",
     "iopub.status.busy": "2022-11-17T23:44:25.916608Z",
     "iopub.status.idle": "2022-11-17T23:44:25.965901Z",
     "shell.execute_reply": "2022-11-17T23:44:25.965327Z",
     "shell.execute_reply.started": "2022-11-17T23:44:25.916804Z"
    },
    "tags": []
   },
   "outputs": [
    {
     "data": {
      "application/vnd.jupyter.widget-view+json": {
       "model_id": "",
       "version_major": 2,
       "version_minor": 0
      },
      "text/plain": [
       "VBox()"
      ]
     },
     "metadata": {},
     "output_type": "display_data"
    },
    {
     "data": {
      "application/vnd.jupyter.widget-view+json": {
       "model_id": "",
       "version_major": 2,
       "version_minor": 0
      },
      "text/plain": [
       "FloatProgress(value=0.0, bar_style='info', description='Progress:', layout=Layout(height='25px', width='50%'),…"
      ]
     },
     "metadata": {},
     "output_type": "display_data"
    },
    {
     "name": "stdout",
     "output_type": "stream",
     "text": [
      "({'numTrees': 100, 'maxDepth': 7}, 132.24015638150163)"
     ]
    },
    {
     "name": "stderr",
     "output_type": "stream",
     "text": [
      "Exception in thread cell_monitor-85:\n",
      "Traceback (most recent call last):\n",
      "  File \"/mnt/notebook-env/lib/python3.7/threading.py\", line 926, in _bootstrap_inner\n",
      "    self.run()\n",
      "  File \"/mnt/notebook-env/lib/python3.7/threading.py\", line 870, in run\n",
      "    self._target(*self._args, **self._kwargs)\n",
      "  File \"/mnt/notebook-env/lib/python3.7/site-packages/awseditorssparkmonitoringwidget-1.0-py3.7.egg/awseditorssparkmonitoringwidget/cellmonitor.py\", line 154, in cell_monitor\n",
      "    job_group_filtered_jobs = [job for job in jobs_data if job['jobGroup'] == str(statement_id)]\n",
      "  File \"/mnt/notebook-env/lib/python3.7/site-packages/awseditorssparkmonitoringwidget-1.0-py3.7.egg/awseditorssparkmonitoringwidget/cellmonitor.py\", line 154, in <listcomp>\n",
      "    job_group_filtered_jobs = [job for job in jobs_data if job['jobGroup'] == str(statement_id)]\n",
      "KeyError: 'jobGroup'\n",
      "\n"
     ]
    }
   ],
   "source": [
    "cv_results = list(zip(\n",
    "    cv_model.getEstimatorParamMaps(), \n",
    "    cv_model.avgMetrics\n",
    "))\n",
    "\n",
    "cv_results.sort(key=lambda x: x[1])\n",
    "best_result = cv_results[0]\n",
    "best_metric = best_result[1]\n",
    "best_param_dict = best_result[0]\n",
    "params = [x.name for x in list(best_param_dict.keys())]\n",
    "param_vals = best_param_dict.values()\n",
    "best_params = dict(zip(params, param_vals))\n",
    "best_params, best_metric"
   ]
  },
  {
   "cell_type": "code",
   "execution_count": 86,
   "id": "9f2ee173-bb56-452a-9c5f-6920d99f0c24",
   "metadata": {
    "execution": {
     "iopub.execute_input": "2022-11-17T23:44:42.203952Z",
     "iopub.status.busy": "2022-11-17T23:44:42.203731Z",
     "iopub.status.idle": "2022-11-17T23:44:42.267104Z",
     "shell.execute_reply": "2022-11-17T23:44:42.257803Z",
     "shell.execute_reply.started": "2022-11-17T23:44:42.203928Z"
    }
   },
   "outputs": [
    {
     "data": {
      "application/vnd.jupyter.widget-view+json": {
       "model_id": "",
       "version_major": 2,
       "version_minor": 0
      },
      "text/plain": [
       "VBox()"
      ]
     },
     "metadata": {},
     "output_type": "display_data"
    },
    {
     "data": {
      "application/vnd.jupyter.widget-view+json": {
       "model_id": "",
       "version_major": 2,
       "version_minor": 0
      },
      "text/plain": [
       "FloatProgress(value=0.0, bar_style='info', description='Progress:', layout=Layout(height='25px', width='50%'),…"
      ]
     },
     "metadata": {},
     "output_type": "display_data"
    },
    {
     "name": "stdout",
     "output_type": "stream",
     "text": [
      "[135.40395973335808, 132.93301068242337, 132.28642093206432, 133.4233221096628, 135.46124516821084, 133.01136754693533, 132.24015638150163, 134.06676966099332, 135.3185673654168, 132.93250354621387, 132.2436975298888, 133.59098721737925]"
     ]
    },
    {
     "name": "stderr",
     "output_type": "stream",
     "text": [
      "Exception in thread cell_monitor-86:\n",
      "Traceback (most recent call last):\n",
      "  File \"/mnt/notebook-env/lib/python3.7/threading.py\", line 926, in _bootstrap_inner\n",
      "    self.run()\n",
      "  File \"/mnt/notebook-env/lib/python3.7/threading.py\", line 870, in run\n",
      "    self._target(*self._args, **self._kwargs)\n",
      "  File \"/mnt/notebook-env/lib/python3.7/site-packages/awseditorssparkmonitoringwidget-1.0-py3.7.egg/awseditorssparkmonitoringwidget/cellmonitor.py\", line 154, in cell_monitor\n",
      "    job_group_filtered_jobs = [job for job in jobs_data if job['jobGroup'] == str(statement_id)]\n",
      "  File \"/mnt/notebook-env/lib/python3.7/site-packages/awseditorssparkmonitoringwidget-1.0-py3.7.egg/awseditorssparkmonitoringwidget/cellmonitor.py\", line 154, in <listcomp>\n",
      "    job_group_filtered_jobs = [job for job in jobs_data if job['jobGroup'] == str(statement_id)]\n",
      "KeyError: 'jobGroup'\n",
      "\n"
     ]
    }
   ],
   "source": [
    "cv_model.avgMetrics"
   ]
  },
  {
   "cell_type": "markdown",
   "id": "c5c6725d-0ce6-4962-a563-c678f14f1a03",
   "metadata": {},
   "source": [
    "# feature selection"
   ]
  },
  {
   "cell_type": "markdown",
   "id": "eac0dd70-e0af-4b20-a79e-48d62dc7ed16",
   "metadata": {},
   "source": [
    "Alt: try PCA on all our similar crappy features"
   ]
  },
  {
   "cell_type": "markdown",
   "id": "c90609a5-bec9-4351-aa38-79082740bc99",
   "metadata": {},
   "source": [
    "# split out by market"
   ]
  },
  {
   "cell_type": "code",
   "execution_count": null,
   "id": "bcd7ab6a-2985-4b1d-90f1-0b35e6176c28",
   "metadata": {},
   "outputs": [],
   "source": []
  }
 ],
 "metadata": {
  "kernelspec": {
   "display_name": "PySpark",
   "language": "python",
   "name": "pysparkkernel"
  },
  "language_info": {
   "codemirror_mode": {
    "name": "python",
    "version": 3
   },
   "file_extension": ".py",
   "mimetype": "text/x-python",
   "name": "pyspark",
   "pygments_lexer": "python3"
  }
 },
 "nbformat": 4,
 "nbformat_minor": 5
}
