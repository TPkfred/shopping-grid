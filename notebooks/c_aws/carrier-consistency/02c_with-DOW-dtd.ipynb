{
 "cells": [
  {
   "cell_type": "markdown",
   "id": "6056c21f-5f11-4e83-a2e0-068b7aa90aab",
   "metadata": {},
   "source": [
    "Add in return flights for round-trips; summarize frequencies by market"
   ]
  },
  {
   "cell_type": "markdown",
   "id": "3fb936a5-e6f2-461d-83fb-8579198bfcf7",
   "metadata": {},
   "source": [
    "## imports"
   ]
  },
  {
   "cell_type": "code",
   "execution_count": 1,
   "id": "77b4a6fb-2993-4696-b418-96e84ef9f473",
   "metadata": {
    "execution": {
     "iopub.execute_input": "2023-01-03T23:34:03.714185Z",
     "iopub.status.busy": "2023-01-03T23:34:03.713964Z",
     "iopub.status.idle": "2023-01-03T23:34:26.594487Z",
     "shell.execute_reply": "2023-01-03T23:34:26.593714Z",
     "shell.execute_reply.started": "2023-01-03T23:34:03.714161Z"
    },
    "tags": []
   },
   "outputs": [
    {
     "data": {
      "application/vnd.jupyter.widget-view+json": {
       "model_id": "d67f5ef9481f4fcab2cb0472be8ce78d",
       "version_major": 2,
       "version_minor": 0
      },
      "text/plain": [
       "VBox()"
      ]
     },
     "metadata": {},
     "output_type": "display_data"
    },
    {
     "name": "stdout",
     "output_type": "stream",
     "text": [
      "Starting Spark application\n"
     ]
    },
    {
     "data": {
      "text/html": [
       "<table>\n",
       "<tr><th>ID</th><th>YARN Application ID</th><th>Kind</th><th>State</th><th>Spark UI</th><th>Driver log</th><th>User</th><th>Current session?</th></tr><tr><td>1</td><td>application_1672772170539_0002</td><td>pyspark</td><td>idle</td><td></td><td></td><td>None</td><td>✔</td></tr></table>"
      ],
      "text/plain": [
       "<IPython.core.display.HTML object>"
      ]
     },
     "metadata": {},
     "output_type": "display_data"
    },
    {
     "data": {
      "application/vnd.jupyter.widget-view+json": {
       "model_id": "",
       "version_major": 2,
       "version_minor": 0
      },
      "text/plain": [
       "FloatProgress(value=0.0, bar_style='info', description='Progress:', layout=Layout(height='25px', width='50%'),…"
      ]
     },
     "metadata": {},
     "output_type": "display_data"
    },
    {
     "name": "stdout",
     "output_type": "stream",
     "text": [
      "SparkSession available as 'spark'.\n"
     ]
    },
    {
     "data": {
      "application/vnd.jupyter.widget-view+json": {
       "model_id": "",
       "version_major": 2,
       "version_minor": 0
      },
      "text/plain": [
       "FloatProgress(value=0.0, bar_style='info', description='Progress:', layout=Layout(height='25px', width='50%'),…"
      ]
     },
     "metadata": {},
     "output_type": "display_data"
    }
   ],
   "source": [
    "import datetime\n",
    "\n",
    "import pyspark.sql.functions as F\n",
    "import pyspark.sql.types as T \n",
    "from pyspark.sql.window import Window"
   ]
  },
  {
   "cell_type": "markdown",
   "id": "e565158d-0bb4-434d-965c-964b2410600b",
   "metadata": {},
   "source": [
    "## load data"
   ]
  },
  {
   "cell_type": "code",
   "execution_count": 2,
   "id": "915d6e3a-bd99-4381-a3b4-0da8267149aa",
   "metadata": {
    "execution": {
     "iopub.execute_input": "2023-01-03T23:34:26.595920Z",
     "iopub.status.busy": "2023-01-03T23:34:26.595688Z",
     "iopub.status.idle": "2023-01-03T23:34:34.082194Z",
     "shell.execute_reply": "2023-01-03T23:34:34.081465Z",
     "shell.execute_reply.started": "2023-01-03T23:34:26.595888Z"
    },
    "tags": []
   },
   "outputs": [
    {
     "data": {
      "application/vnd.jupyter.widget-view+json": {
       "model_id": "cef5ebd7150e4b3c8c9cd65417e874a6",
       "version_major": 2,
       "version_minor": 0
      },
      "text/plain": [
       "VBox()"
      ]
     },
     "metadata": {},
     "output_type": "display_data"
    },
    {
     "data": {
      "application/vnd.jupyter.widget-view+json": {
       "model_id": "",
       "version_major": 2,
       "version_minor": 0
      },
      "text/plain": [
       "FloatProgress(value=0.0, bar_style='info', description='Progress:', layout=Layout(height='25px', width='50%'),…"
      ]
     },
     "metadata": {},
     "output_type": "display_data"
    }
   ],
   "source": [
    "BASE_INPUT_DIR = \"s3://tvlp-ds-users/kendra-frederick/shopping-grid/agg-raw-data_v4/*\"\n",
    "input_dir = BASE_INPUT_DIR\n",
    "\n",
    "df = spark.read.parquet(input_dir)\n",
    "# df.count()"
   ]
  },
  {
   "cell_type": "code",
   "execution_count": 3,
   "id": "427c945c-2a23-4b00-89f8-8c1a1543971a",
   "metadata": {
    "execution": {
     "iopub.execute_input": "2023-01-03T23:34:34.083950Z",
     "iopub.status.busy": "2023-01-03T23:34:34.083694Z",
     "iopub.status.idle": "2023-01-03T23:34:39.390357Z",
     "shell.execute_reply": "2023-01-03T23:34:39.389685Z",
     "shell.execute_reply.started": "2023-01-03T23:34:34.083915Z"
    },
    "tags": []
   },
   "outputs": [
    {
     "data": {
      "application/vnd.jupyter.widget-view+json": {
       "model_id": "17f0a3eaef2f43ccb242d8aa74ce6a2f",
       "version_major": 2,
       "version_minor": 0
      },
      "text/plain": [
       "VBox()"
      ]
     },
     "metadata": {},
     "output_type": "display_data"
    },
    {
     "data": {
      "application/vnd.jupyter.widget-view+json": {
       "model_id": "",
       "version_major": 2,
       "version_minor": 0
      },
      "text/plain": [
       "FloatProgress(value=0.0, bar_style='info', description='Progress:', layout=Layout(height='25px', width='50%'),…"
      ]
     },
     "metadata": {},
     "output_type": "display_data"
    },
    {
     "name": "stdout",
     "output_type": "stream",
     "text": [
      "+--------------+--------------+\n",
      "|min(shop_date)|max(shop_date)|\n",
      "+--------------+--------------+\n",
      "|      20221110|      20221231|\n",
      "+--------------+--------------+"
     ]
    }
   ],
   "source": [
    "# df.printSchema()\n",
    "\n",
    "# df.columns\n",
    "\n",
    "df.select(F.min(\"shop_date\"), F.max('shop_date')).show()"
   ]
  },
  {
   "cell_type": "code",
   "execution_count": 4,
   "id": "5cfa76e1-705e-45c8-bba6-54fc54129ef6",
   "metadata": {
    "execution": {
     "iopub.execute_input": "2023-01-03T23:34:39.391576Z",
     "iopub.status.busy": "2023-01-03T23:34:39.391401Z",
     "iopub.status.idle": "2023-01-03T23:34:39.450563Z",
     "shell.execute_reply": "2023-01-03T23:34:39.449992Z",
     "shell.execute_reply.started": "2023-01-03T23:34:39.391554Z"
    },
    "tags": []
   },
   "outputs": [
    {
     "data": {
      "application/vnd.jupyter.widget-view+json": {
       "model_id": "ab913f25854041e8abfdb9cf942f614f",
       "version_major": 2,
       "version_minor": 0
      },
      "text/plain": [
       "VBox()"
      ]
     },
     "metadata": {},
     "output_type": "display_data"
    },
    {
     "data": {
      "application/vnd.jupyter.widget-view+json": {
       "model_id": "",
       "version_major": 2,
       "version_minor": 0
      },
      "text/plain": [
       "FloatProgress(value=0.0, bar_style='info', description='Progress:', layout=Layout(height='25px', width='50%'),…"
      ]
     },
     "metadata": {},
     "output_type": "display_data"
    }
   ],
   "source": [
    "# # if we want to impose any limits on date range\n",
    "# date_llim = 20221110\n",
    "# date_ulim = 20221213\n",
    "# df_filt = df.filter(F.col(\"shop_date\").between(date_llim, date_ulim)).cache()"
   ]
  },
  {
   "cell_type": "code",
   "execution_count": 5,
   "id": "efb63ca0-377b-42e9-ab5b-cbccbb79fd77",
   "metadata": {
    "execution": {
     "iopub.execute_input": "2023-01-03T23:34:39.451637Z",
     "iopub.status.busy": "2023-01-03T23:34:39.451460Z",
     "iopub.status.idle": "2023-01-03T23:34:40.228883Z",
     "shell.execute_reply": "2023-01-03T23:34:40.228282Z",
     "shell.execute_reply.started": "2023-01-03T23:34:39.451615Z"
    },
    "tags": []
   },
   "outputs": [
    {
     "data": {
      "application/vnd.jupyter.widget-view+json": {
       "model_id": "742cc12a152946e0a5cb45a0c649d5b3",
       "version_major": 2,
       "version_minor": 0
      },
      "text/plain": [
       "VBox()"
      ]
     },
     "metadata": {},
     "output_type": "display_data"
    },
    {
     "data": {
      "application/vnd.jupyter.widget-view+json": {
       "model_id": "",
       "version_major": 2,
       "version_minor": 0
      },
      "text/plain": [
       "FloatProgress(value=0.0, bar_style='info', description='Progress:', layout=Layout(height='25px', width='50%'),…"
      ]
     },
     "metadata": {},
     "output_type": "display_data"
    }
   ],
   "source": [
    "# apply fare rank filter here (so it's easier to modify in the future)\n",
    "# df_filt = df_filt.filter(F.col(\"fare_rank\") == 1)\n",
    "df_filt = df.filter(F.col(\"fare_rank\") == 1)"
   ]
  },
  {
   "cell_type": "markdown",
   "id": "7d7b6896-235b-4977-b8fc-12d7d8dc60e2",
   "metadata": {},
   "source": [
    "A peek at the data:"
   ]
  },
  {
   "cell_type": "code",
   "execution_count": 6,
   "id": "944bcc59-7825-4c65-a07c-81de6cdeff74",
   "metadata": {
    "execution": {
     "iopub.execute_input": "2023-01-03T23:34:40.230041Z",
     "iopub.status.busy": "2023-01-03T23:34:40.229834Z",
     "iopub.status.idle": "2023-01-03T23:34:41.507450Z",
     "shell.execute_reply": "2023-01-03T23:34:41.506841Z",
     "shell.execute_reply.started": "2023-01-03T23:34:40.230016Z"
    },
    "tags": []
   },
   "outputs": [
    {
     "data": {
      "application/vnd.jupyter.widget-view+json": {
       "model_id": "198e8bcb1d20494d8621e066e06cfc16",
       "version_major": 2,
       "version_minor": 0
      },
      "text/plain": [
       "VBox()"
      ]
     },
     "metadata": {},
     "output_type": "display_data"
    },
    {
     "data": {
      "application/vnd.jupyter.widget-view+json": {
       "model_id": "",
       "version_major": 2,
       "version_minor": 0
      },
      "text/plain": [
       "FloatProgress(value=0.0, bar_style='info', description='Progress:', layout=Layout(height='25px', width='50%'),…"
      ]
     },
     "metadata": {},
     "output_type": "display_data"
    },
    {
     "name": "stdout",
     "output_type": "stream",
     "text": [
      "+---------+-------+------------------+-----------------+------------------+----------------+--------+---------+\n",
      "|shop_date| market|out_departure_date|out_marketing_cxr|out_flight_numbers|in_marketing_cxr|adt_fare|fare_rank|\n",
      "+---------+-------+------------------+-----------------+------------------+----------------+--------+---------+\n",
      "| 20221229|ATL-EWR|          20221229|             [DL]|             [400]|            [DL]|   730.2|        1|\n",
      "| 20221229|ATL-EWR|          20221230|             [UA]|            [1829]|        [UA, UA]|  737.92|        1|\n",
      "| 20221229|ATL-EWR|          20230104|             [UA]|             [222]|            [UA]|  285.82|        1|\n",
      "| 20221229|ATL-EWR|          20230104|         [AA, AA]|      [2174, 2718]|        [AA, AA]|  242.19|        1|\n",
      "| 20221229|ATL-EWR|          20230104|         [AA, AA]|      [2174, 2718]|        [AA, AA]|  242.19|        1|\n",
      "| 20221229|ATL-EWR|          20230104|         [AA, AA]|      [2129, 1216]|        [AA, AA]|  242.19|        1|\n",
      "| 20221229|ATL-EWR|          20230104|         [AA, AA]|      [2040, 2794]|        [AA, AA]|  242.19|        1|\n",
      "| 20221229|ATL-EWR|          20230104|         [AA, AA]|      [2129, 1216]|        [AA, AA]|  242.19|        1|\n",
      "| 20221229|ATL-EWR|          20230104|         [AA, AA]|      [2174, 2718]|        [AA, AA]|  242.19|        1|\n",
      "| 20221229|ATL-EWR|          20230104|         [AA, AA]|      [2040, 2794]|        [AA, AA]|  242.19|        1|\n",
      "+---------+-------+------------------+-----------------+------------------+----------------+--------+---------+\n",
      "only showing top 10 rows"
     ]
    }
   ],
   "source": [
    "df_filt.select('shop_date', 'market', 'out_departure_date', 'out_marketing_cxr', 'out_flight_numbers', 'in_marketing_cxr', 'adt_fare', 'fare_rank',).show(10)"
   ]
  },
  {
   "cell_type": "markdown",
   "id": "7c623c44-3ed3-4d3b-ab5f-d1ea533ba728",
   "metadata": {},
   "source": [
    "## add date-based features"
   ]
  },
  {
   "cell_type": "code",
   "execution_count": 7,
   "id": "26d52580-9a3d-47d5-a56d-fcbec4092d83",
   "metadata": {
    "execution": {
     "iopub.execute_input": "2023-01-03T23:34:41.508512Z",
     "iopub.status.busy": "2023-01-03T23:34:41.508322Z",
     "iopub.status.idle": "2023-01-03T23:34:43.804539Z",
     "shell.execute_reply": "2023-01-03T23:34:43.803658Z",
     "shell.execute_reply.started": "2023-01-03T23:34:41.508490Z"
    },
    "tags": []
   },
   "outputs": [
    {
     "data": {
      "application/vnd.jupyter.widget-view+json": {
       "model_id": "8ca203168b714f06895f9204007ba303",
       "version_major": 2,
       "version_minor": 0
      },
      "text/plain": [
       "VBox()"
      ]
     },
     "metadata": {},
     "output_type": "display_data"
    },
    {
     "data": {
      "application/vnd.jupyter.widget-view+json": {
       "model_id": "",
       "version_major": 2,
       "version_minor": 0
      },
      "text/plain": [
       "FloatProgress(value=0.0, bar_style='info', description='Progress:', layout=Layout(height='25px', width='50%'),…"
      ]
     },
     "metadata": {},
     "output_type": "display_data"
    }
   ],
   "source": [
    "# convert dates (which are ints) to datetime\n",
    "df_filt.registerTempTable(\"data\")\n",
    "df_filt = spark.sql(\"\"\"\n",
    "    SELECT *,\n",
    "        TO_DATE(CAST(UNIX_TIMESTAMP(CAST(out_departure_date AS string), 'yyyyMMdd') AS TIMESTAMP)) AS outDeptDt_dt,\n",
    "        TO_DATE(CAST(UNIX_TIMESTAMP(CAST(in_departure_date AS string), 'yyyyMMdd') AS TIMESTAMP)) AS inDeptDt_dt,\n",
    "        TO_DATE(CAST(UNIX_TIMESTAMP(CAST(shop_date AS string), 'yyyyMMdd') AS TIMESTAMP)) AS searchDt_dt\n",
    "    FROM data\n",
    "\"\"\")\n",
    "\n",
    "# add days_til_dept column\n",
    "df_filt = df_filt.withColumn('days_til_dept', F.datediff(\n",
    "                    F.col('outDeptDt_dt'), F.col('searchDt_dt'))\n",
    "                )\n",
    "\n",
    "## add in DOW indicators\n",
    "def add_dow_ind(df):\n",
    "    df = (df\n",
    "        .withColumn(\"out_dt_dow_int\", (F.date_format(\"outDeptDt_dt\", \"u\") - 1).cast(T.IntegerType()))\n",
    "        .withColumn(\"out_dt_dow\", F.date_format(\"outDeptDt_dt\", \"E\"))\n",
    "        .withColumn(\"in_dt_dow_int\", (F.date_format(\"inDeptDt_dt\", \"u\") - 1).cast(T.IntegerType()))\n",
    "        .withColumn(\"in_dt_dow\", F.date_format(\"inDeptDt_dt\", \"E\"))\n",
    "        )\n",
    "    return df\n",
    "\n",
    "df_filt = add_dow_ind(df_filt)\n",
    "df_filt = df_filt.filter(F.col(\"days_til_dept\") > 0)"
   ]
  },
  {
   "cell_type": "code",
   "execution_count": 8,
   "id": "62cf359c-f9e6-4554-bfb9-9bd69f0ebbc0",
   "metadata": {
    "execution": {
     "iopub.execute_input": "2023-01-03T23:34:43.807437Z",
     "iopub.status.busy": "2023-01-03T23:34:43.807172Z",
     "iopub.status.idle": "2023-01-03T23:34:43.881158Z",
     "shell.execute_reply": "2023-01-03T23:34:43.880463Z",
     "shell.execute_reply.started": "2023-01-03T23:34:43.807401Z"
    },
    "tags": []
   },
   "outputs": [
    {
     "data": {
      "application/vnd.jupyter.widget-view+json": {
       "model_id": "9e47867eddd84ddd91ab9d6be1d62e56",
       "version_major": 2,
       "version_minor": 0
      },
      "text/plain": [
       "VBox()"
      ]
     },
     "metadata": {},
     "output_type": "display_data"
    },
    {
     "data": {
      "application/vnd.jupyter.widget-view+json": {
       "model_id": "",
       "version_major": 2,
       "version_minor": 0
      },
      "text/plain": [
       "FloatProgress(value=0.0, bar_style='info', description='Progress:', layout=Layout(height='25px', width='50%'),…"
      ]
     },
     "metadata": {},
     "output_type": "display_data"
    },
    {
     "name": "stdout",
     "output_type": "stream",
     "text": [
      "root\n",
      " |-- market: string (nullable = true)\n",
      " |-- out_origin_airport: string (nullable = true)\n",
      " |-- out_destination_airport: string (nullable = true)\n",
      " |-- out_departure_date: long (nullable = true)\n",
      " |-- in_departure_date: long (nullable = true)\n",
      " |-- pcc: string (nullable = true)\n",
      " |-- gds: string (nullable = true)\n",
      " |-- shop_req_timeStamp: long (nullable = true)\n",
      " |-- point_of_sale: string (nullable = true)\n",
      " |-- currency: string (nullable = true)\n",
      " |-- out_origin_city: string (nullable = true)\n",
      " |-- out_destination_city: string (nullable = true)\n",
      " |-- constricted_search: boolean (nullable = true)\n",
      " |-- out_marketing_cxr: array (nullable = true)\n",
      " |    |-- element: string (containsNull = true)\n",
      " |-- out_departure_time: integer (nullable = true)\n",
      " |-- out_flight_numbers: array (nullable = true)\n",
      " |    |-- element: integer (containsNull = true)\n",
      " |-- out_booking_class: array (nullable = true)\n",
      " |    |-- element: string (containsNull = true)\n",
      " |-- out_cabin_class: array (nullable = true)\n",
      " |    |-- element: string (containsNull = true)\n",
      " |-- out_num_stops: integer (nullable = true)\n",
      " |-- in_marketing_cxr: array (nullable = true)\n",
      " |    |-- element: string (containsNull = true)\n",
      " |-- in_departure_time: integer (nullable = true)\n",
      " |-- in_flight_numbers: array (nullable = true)\n",
      " |    |-- element: integer (containsNull = true)\n",
      " |-- in_booking_class: array (nullable = true)\n",
      " |    |-- element: string (containsNull = true)\n",
      " |-- in_cabin_class: array (nullable = true)\n",
      " |    |-- element: string (containsNull = true)\n",
      " |-- in_num_stops: integer (nullable = true)\n",
      " |-- round_trip: integer (nullable = true)\n",
      " |-- adt_fare: double (nullable = true)\n",
      " |-- fare_rank: integer (nullable = true)\n",
      " |-- total_solution_counts_day: long (nullable = true)\n",
      " |-- total_shop_counts_day: long (nullable = true)\n",
      " |-- shop_date: long (nullable = true)\n",
      " |-- outDeptDt_dt: date (nullable = true)\n",
      " |-- inDeptDt_dt: date (nullable = true)\n",
      " |-- searchDt_dt: date (nullable = true)\n",
      " |-- days_til_dept: integer (nullable = true)\n",
      " |-- out_dt_dow_int: integer (nullable = true)\n",
      " |-- out_dt_dow: string (nullable = true)\n",
      " |-- in_dt_dow_int: integer (nullable = true)\n",
      " |-- in_dt_dow: string (nullable = true)"
     ]
    }
   ],
   "source": [
    "df_filt.printSchema()"
   ]
  },
  {
   "cell_type": "markdown",
   "id": "9f8ce311-1c1d-432b-bf2b-6aa2584a110e",
   "metadata": {},
   "source": [
    "# Notes on processing"
   ]
  },
  {
   "cell_type": "markdown",
   "id": "cacd9b2a-b26a-47b4-b37c-34aeebf8719d",
   "metadata": {},
   "source": [
    "Notes:\n",
    "- eventually, we want to analyze:\n",
    "    - out-bound one-way (out_ow)\n",
    "    - out-bound round-trip (out_rt)\n",
    "    - in-bound round-trip (in_rt)\n",
    "    - round-trip (out+in) (rt)\n",
    "- first, process by out-bound and in-bound (rt only)\n",
    "    - out later gets split into ow & rt\n",
    "- include `round_trip` field in in-bound groupby's\n",
    "    - not necessary, but simplifies subsequent processing\n",
    "    "
   ]
  },
  {
   "cell_type": "markdown",
   "id": "137ac807-e500-47eb-8215-747391b243cf",
   "metadata": {},
   "source": [
    "# Analysis by carrier"
   ]
  },
  {
   "cell_type": "markdown",
   "id": "3f064dd1-f030-4ec1-a9ac-ed111d425b51",
   "metadata": {},
   "source": [
    "Notes:\n",
    "- Crude: list of carriers, no matter if they provide direct lowest-fare flight or not\n",
    "- Less Crude: combine interline carriers into single string"
   ]
  },
  {
   "cell_type": "markdown",
   "id": "d5b79daf-8b46-4c7c-ad36-3481a7b4f3e5",
   "metadata": {},
   "source": [
    "## common prep"
   ]
  },
  {
   "cell_type": "code",
   "execution_count": 9,
   "id": "3849dadc-5f5b-46aa-9fab-ac3a7a509fa5",
   "metadata": {
    "execution": {
     "iopub.execute_input": "2023-01-03T23:34:43.883526Z",
     "iopub.status.busy": "2023-01-03T23:34:43.883083Z",
     "iopub.status.idle": "2023-01-03T23:34:44.162235Z",
     "shell.execute_reply": "2023-01-03T23:34:44.161575Z",
     "shell.execute_reply.started": "2023-01-03T23:34:43.883489Z"
    },
    "tags": []
   },
   "outputs": [
    {
     "data": {
      "application/vnd.jupyter.widget-view+json": {
       "model_id": "e60b00b298ec4ab4a00ef3ba49e5d958",
       "version_major": 2,
       "version_minor": 0
      },
      "text/plain": [
       "VBox()"
      ]
     },
     "metadata": {},
     "output_type": "display_data"
    },
    {
     "data": {
      "application/vnd.jupyter.widget-view+json": {
       "model_id": "",
       "version_major": 2,
       "version_minor": 0
      },
      "text/plain": [
       "FloatProgress(value=0.0, bar_style='info', description='Progress:', layout=Layout(height='25px', width='50%'),…"
      ]
     },
     "metadata": {},
     "output_type": "display_data"
    }
   ],
   "source": [
    "# extract carrier info\n",
    "df_cxr = (df_filt\n",
    "          .withColumn(\"out_unique_cxr\", F.array_distinct(\"out_marketing_cxr\"))\n",
    "          .withColumn(\"out_cxr_all_same\", F.when(F.size(\"out_unique_cxr\") == 1, 1).otherwise(0))\n",
    "          .withColumn(\"in_unique_cxr\", F.array_distinct(\"in_marketing_cxr\"))\n",
    "          .withColumn(\"in_cxr_all_same\", F.when(F.size(\"in_unique_cxr\") == 1, 1).otherwise(0))\n",
    "         )"
   ]
  },
  {
   "cell_type": "markdown",
   "id": "acc7297f-affa-4fa3-b8f3-a0adb8f6efb6",
   "metadata": {},
   "source": [
    "Explode used for both crude & nuanced"
   ]
  },
  {
   "cell_type": "code",
   "execution_count": 10,
   "id": "c810ff3d-6ba6-4bea-be9e-3c387c083e22",
   "metadata": {
    "execution": {
     "iopub.execute_input": "2023-01-03T23:34:44.163326Z",
     "iopub.status.busy": "2023-01-03T23:34:44.163155Z",
     "iopub.status.idle": "2023-01-03T23:34:44.435998Z",
     "shell.execute_reply": "2023-01-03T23:34:44.435409Z",
     "shell.execute_reply.started": "2023-01-03T23:34:44.163304Z"
    }
   },
   "outputs": [
    {
     "data": {
      "application/vnd.jupyter.widget-view+json": {
       "model_id": "c9368d2ff2ee4955977db31380e4cdc7",
       "version_major": 2,
       "version_minor": 0
      },
      "text/plain": [
       "VBox()"
      ]
     },
     "metadata": {},
     "output_type": "display_data"
    },
    {
     "data": {
      "application/vnd.jupyter.widget-view+json": {
       "model_id": "",
       "version_major": 2,
       "version_minor": 0
      },
      "text/plain": [
       "FloatProgress(value=0.0, bar_style='info', description='Progress:', layout=Layout(height='25px', width='50%'),…"
      ]
     },
     "metadata": {},
     "output_type": "display_data"
    }
   ],
   "source": [
    "# Note we use `explode_outer` for in-bound carriers so nulls don't get dropped\n",
    "out_cxr_expl = (df_cxr\n",
    "               .select(\"*\", F.explode(\"out_unique_cxr\").alias(\"out_cxr\"))\n",
    "              .withColumn(\"out_uni_cxr_concat\", F.concat_ws(\"-\", \"out_unique_cxr\"))\n",
    "              )\n",
    "\n",
    "in_cxr_expl = (df_cxr\n",
    "               .select(\"*\", F.explode_outer(\"in_unique_cxr\").alias(\"in_cxr\"))\n",
    "              .withColumn(\"in_uni_cxr_concat\", F.concat_ws(\"-\", \"in_unique_cxr\"))\n",
    "              )\n",
    "\n",
    "# could merge exploded df's and concat those, but not worth the trouble (for now)\n",
    "rt_cxr = (df_cxr\n",
    "          .withColumn(\"rt_cxrs\", F.concat_ws(\"_\", \"out_unique_cxr\", \"in_unique_cxr\"))\n",
    "         )"
   ]
  },
  {
   "cell_type": "markdown",
   "id": "5a984e12-7000-478b-b8d0-f26333bab060",
   "metadata": {},
   "source": [
    "## group-by-agg's"
   ]
  },
  {
   "cell_type": "markdown",
   "id": "2fda1c06-b0e0-4099-8a50-8f0f85b6cbb1",
   "metadata": {},
   "source": [
    "### \"crude\" (single carrier)\n",
    "regardless of num stops / inter-line"
   ]
  },
  {
   "cell_type": "code",
   "execution_count": 11,
   "id": "30ea213b-aa26-4800-b399-51fc60c3dbcc",
   "metadata": {
    "execution": {
     "iopub.execute_input": "2023-01-03T23:34:44.438042Z",
     "iopub.status.busy": "2023-01-03T23:34:44.437865Z",
     "iopub.status.idle": "2023-01-03T23:34:44.702023Z",
     "shell.execute_reply": "2023-01-03T23:34:44.701394Z",
     "shell.execute_reply.started": "2023-01-03T23:34:44.438021Z"
    },
    "tags": []
   },
   "outputs": [
    {
     "data": {
      "application/vnd.jupyter.widget-view+json": {
       "model_id": "7a4f16b50e614ac9b5a7cf46228e044f",
       "version_major": 2,
       "version_minor": 0
      },
      "text/plain": [
       "VBox()"
      ]
     },
     "metadata": {},
     "output_type": "display_data"
    },
    {
     "data": {
      "application/vnd.jupyter.widget-view+json": {
       "model_id": "",
       "version_major": 2,
       "version_minor": 0
      },
      "text/plain": [
       "FloatProgress(value=0.0, bar_style='info', description='Progress:', layout=Layout(height='25px', width='50%'),…"
      ]
     },
     "metadata": {},
     "output_type": "display_data"
    }
   ],
   "source": [
    "# new to 02b: add DOW, DTD\n",
    "base_grpby_cols = [\"market\", \"round_trip\", \"days_til_dept\", \"out_dt_dow_int\", \"in_dt_dow_int\"]\n",
    "out_cxr_crude = (\n",
    "    out_cxr_expl\n",
    "    .groupBy(base_grpby_cols + [\"out_cxr\"])\n",
    "    .agg(F.count(\"*\").alias(\"count\"))\n",
    ")\n",
    "rt_in_cxr_crude = (\n",
    "    in_cxr_expl\n",
    "    .filter(F.col(\"round_trip\") == 1)\n",
    "    .groupBy(base_grpby_cols + [\"in_cxr\"])\n",
    "    .agg(F.count(\"*\").alias(\"count\"))\n",
    ")"
   ]
  },
  {
   "cell_type": "markdown",
   "id": "cb51d906-5f39-4cd1-ab43-84dd065b614e",
   "metadata": {},
   "source": [
    "### \"nuanced\" (inter-line)\n"
   ]
  },
  {
   "cell_type": "code",
   "execution_count": 12,
   "id": "8beefd10-aa8a-4b09-b9df-903faaf617b0",
   "metadata": {
    "execution": {
     "iopub.execute_input": "2023-01-03T23:34:44.703460Z",
     "iopub.status.busy": "2023-01-03T23:34:44.703196Z",
     "iopub.status.idle": "2023-01-03T23:34:45.477205Z",
     "shell.execute_reply": "2023-01-03T23:34:45.476458Z",
     "shell.execute_reply.started": "2023-01-03T23:34:44.703408Z"
    },
    "tags": []
   },
   "outputs": [
    {
     "data": {
      "application/vnd.jupyter.widget-view+json": {
       "model_id": "3468c883d2ba4edb8399de28d29ca035",
       "version_major": 2,
       "version_minor": 0
      },
      "text/plain": [
       "VBox()"
      ]
     },
     "metadata": {},
     "output_type": "display_data"
    },
    {
     "data": {
      "application/vnd.jupyter.widget-view+json": {
       "model_id": "",
       "version_major": 2,
       "version_minor": 0
      },
      "text/plain": [
       "FloatProgress(value=0.0, bar_style='info', description='Progress:', layout=Layout(height='25px', width='50%'),…"
      ]
     },
     "metadata": {},
     "output_type": "display_data"
    }
   ],
   "source": [
    "# exclude num stops for now\n",
    "out_cxr_nuanced = (\n",
    "    out_cxr_expl\n",
    "    .groupBy(base_grpby_cols + [\"out_uni_cxr_concat\"]) # \"out_num_stops\",\n",
    "    .agg(F.count(\"*\").alias(\"count\"))\n",
    ")\n",
    "rt_in_cxr_nuanced = (\n",
    "    in_cxr_expl\n",
    "    .filter(F.col(\"round_trip\") == 1)\n",
    "    .groupBy(base_grpby_cols + [\"in_uni_cxr_concat\"]) # \"in_num_stops\",\n",
    "    .agg(F.count(\"*\").alias(\"count\"))\n",
    ")\n",
    "rt_cxr_nuanced = (\n",
    "    rt_cxr\n",
    "    .filter(F.col(\"round_trip\") == 1)\n",
    "    .groupBy(base_grpby_cols + [\"rt_cxrs\"])\n",
    "    .agg(F.count(\"*\").alias(\"count\"))\n",
    ")"
   ]
  },
  {
   "cell_type": "markdown",
   "id": "d8af7a32-47fd-453b-9eaa-57124ef5391e",
   "metadata": {},
   "source": [
    "## window funcs\n",
    "- to calc pct by market"
   ]
  },
  {
   "cell_type": "code",
   "execution_count": 13,
   "id": "22951969-60af-4928-9552-549382d1e009",
   "metadata": {
    "execution": {
     "iopub.execute_input": "2023-01-03T23:34:45.478351Z",
     "iopub.status.busy": "2023-01-03T23:34:45.478169Z",
     "iopub.status.idle": "2023-01-03T23:34:46.253157Z",
     "shell.execute_reply": "2023-01-03T23:34:46.252424Z",
     "shell.execute_reply.started": "2023-01-03T23:34:45.478329Z"
    },
    "tags": []
   },
   "outputs": [
    {
     "data": {
      "application/vnd.jupyter.widget-view+json": {
       "model_id": "b703f9d9a8d542678d5218f6f1a206c7",
       "version_major": 2,
       "version_minor": 0
      },
      "text/plain": [
       "VBox()"
      ]
     },
     "metadata": {},
     "output_type": "display_data"
    },
    {
     "data": {
      "application/vnd.jupyter.widget-view+json": {
       "model_id": "",
       "version_major": 2,
       "version_minor": 0
      },
      "text/plain": [
       "FloatProgress(value=0.0, bar_style='info', description='Progress:', layout=Layout(height='25px', width='50%'),…"
      ]
     },
     "metadata": {},
     "output_type": "display_data"
    }
   ],
   "source": [
    "# use a single window func to make it easy\n",
    "w1 = Window.partitionBy(\"market\", \"round_trip\")\n",
    "\n",
    "def apply_window_1(df, w):\n",
    "    df = (df\n",
    "          .withColumn(\"count_market\", F.sum(\"count\").over(w))\n",
    "          .withColumn(\"pct_count\", F.col(\"count\") / F.col(\"count_market\"))\n",
    "         )\n",
    "    return df\n",
    "\n",
    "w2 = (Window\n",
    "      .partitionBy(\"market\", \"round_trip\")\n",
    "      .orderBy(F.desc(\"pct_count\"))\n",
    "      .rowsBetween(Window.unboundedPreceding, Window.currentRow)\n",
    "     )\n",
    "\n",
    "def apply_window_2(df, w2):\n",
    "    df = df.withColumn(\"cum_pct\", F.sum(\"pct_count\").over(w2))\n",
    "    return df\n",
    "\n",
    "out_cxr_crude = apply_window_1(out_cxr_crude, w1)\n",
    "out_cxr_crude = apply_window_2(out_cxr_crude, w2)\n",
    "\n",
    "rt_in_cxr_crude = apply_window_1(rt_in_cxr_crude, w1)\n",
    "rt_in_cxr_crude = apply_window_2(rt_in_cxr_crude, w2)\n",
    "\n",
    "\n",
    "out_cxr_nuanced = apply_window_1(out_cxr_nuanced, w1)\n",
    "out_cxr_nuanced = apply_window_2(out_cxr_nuanced, w2)\n",
    "\n",
    "rt_in_cxr_nuanced = apply_window_1(rt_in_cxr_nuanced, w1)\n",
    "rt_in_cxr_nuanced = apply_window_2(rt_in_cxr_nuanced, w2)\n",
    "\n",
    "rt_cxr_nuanced = apply_window_1(rt_cxr_nuanced, w1)\n",
    "rt_cxr_nuanced = apply_window_2(rt_cxr_nuanced, w2)"
   ]
  },
  {
   "cell_type": "code",
   "execution_count": 14,
   "id": "c3674c27-9e89-4fac-a2a6-415ac005c9d8",
   "metadata": {
    "execution": {
     "iopub.execute_input": "2023-01-03T23:34:46.254753Z",
     "iopub.status.busy": "2023-01-03T23:34:46.254299Z",
     "iopub.status.idle": "2023-01-03T23:34:46.541522Z",
     "shell.execute_reply": "2023-01-03T23:34:46.540479Z",
     "shell.execute_reply.started": "2023-01-03T23:34:46.254699Z"
    },
    "tags": []
   },
   "outputs": [
    {
     "data": {
      "application/vnd.jupyter.widget-view+json": {
       "model_id": "cf3797c0086148528e59a55db3d93d72",
       "version_major": 2,
       "version_minor": 0
      },
      "text/plain": [
       "VBox()"
      ]
     },
     "metadata": {},
     "output_type": "display_data"
    },
    {
     "data": {
      "application/vnd.jupyter.widget-view+json": {
       "model_id": "",
       "version_major": 2,
       "version_minor": 0
      },
      "text/plain": [
       "FloatProgress(value=0.0, bar_style='info', description='Progress:', layout=Layout(height='25px', width='50%'),…"
      ]
     },
     "metadata": {},
     "output_type": "display_data"
    }
   ],
   "source": [
    "# split 'out' into ow & rt\n",
    "ow_out_cxr_crude = out_cxr_crude.filter(F.col(\"round_trip\") == 0)\n",
    "rt_out_cxr_crude = out_cxr_crude.filter(F.col(\"round_trip\") == 1)\n",
    "\n",
    "ow_out_cxr_nuanced = out_cxr_nuanced.filter(F.col(\"round_trip\") == 0)\n",
    "rt_out_cxr_nuanced = out_cxr_nuanced.filter(F.col(\"round_trip\") == 1)"
   ]
  },
  {
   "cell_type": "markdown",
   "id": "2bdf6ba0-dd3b-4dee-952f-959d77c7ede7",
   "metadata": {},
   "source": [
    "## save\n",
    "plotting will be easier done locally"
   ]
  },
  {
   "cell_type": "code",
   "execution_count": 15,
   "id": "83fd8b28-561d-4c4c-a5da-96458842621f",
   "metadata": {
    "execution": {
     "iopub.execute_input": "2023-01-03T23:34:46.543019Z",
     "iopub.status.busy": "2023-01-03T23:34:46.542745Z",
     "iopub.status.idle": "2023-01-03T23:34:46.605870Z",
     "shell.execute_reply": "2023-01-03T23:34:46.603208Z",
     "shell.execute_reply.started": "2023-01-03T23:34:46.542983Z"
    }
   },
   "outputs": [
    {
     "data": {
      "application/vnd.jupyter.widget-view+json": {
       "model_id": "1121ff6eacab48838861ce98c9aeb798",
       "version_major": 2,
       "version_minor": 0
      },
      "text/plain": [
       "VBox()"
      ]
     },
     "metadata": {},
     "output_type": "display_data"
    },
    {
     "data": {
      "application/vnd.jupyter.widget-view+json": {
       "model_id": "",
       "version_major": 2,
       "version_minor": 0
      },
      "text/plain": [
       "FloatProgress(value=0.0, bar_style='info', description='Progress:', layout=Layout(height='25px', width='50%'),…"
      ]
     },
     "metadata": {},
     "output_type": "display_data"
    }
   ],
   "source": [
    "# ow_out_cxr_crude.count()"
   ]
  },
  {
   "cell_type": "code",
   "execution_count": 16,
   "id": "703ab148-9c1a-493d-958e-842380558dd1",
   "metadata": {
    "execution": {
     "iopub.execute_input": "2023-01-03T23:34:46.609384Z",
     "iopub.status.busy": "2023-01-03T23:34:46.608605Z",
     "iopub.status.idle": "2023-01-03T23:34:46.686011Z",
     "shell.execute_reply": "2023-01-03T23:34:46.685305Z",
     "shell.execute_reply.started": "2023-01-03T23:34:46.609343Z"
    },
    "tags": []
   },
   "outputs": [
    {
     "data": {
      "application/vnd.jupyter.widget-view+json": {
       "model_id": "9adc4c30be194b42bac7eba5246ad2cd",
       "version_major": 2,
       "version_minor": 0
      },
      "text/plain": [
       "VBox()"
      ]
     },
     "metadata": {},
     "output_type": "display_data"
    },
    {
     "data": {
      "application/vnd.jupyter.widget-view+json": {
       "model_id": "",
       "version_major": 2,
       "version_minor": 0
      },
      "text/plain": [
       "FloatProgress(value=0.0, bar_style='info', description='Progress:', layout=Layout(height='25px', width='50%'),…"
      ]
     },
     "metadata": {},
     "output_type": "display_data"
    }
   ],
   "source": [
    "if 1 == 0:\n",
    "    OUTPUT_DIR = \"s3://tvlp-ds-users/kendra-frederick/shopping-grid/carrier-consistency/\"\n",
    "\n",
    "    ow_out_cxr_crude.coalesce(1).write.mode(\"overwrite\").csv(OUTPUT_DIR + \"ow_out_cxr_crude\", header=True)\n",
    "    rt_out_cxr_crude.coalesce(1).write.mode(\"overwrite\").csv(OUTPUT_DIR + \"rt_out_cxr_crude\", header=True)\n",
    "    rt_in_cxr_crude.coalesce(1).write.mode(\"overwrite\").csv(OUTPUT_DIR + \"rt_in_cxr_crude\", header=True)\n",
    "\n",
    "    ow_out_cxr_nuanced.coalesce(1).write.mode(\"overwrite\").csv(OUTPUT_DIR + \"ow_out_cxr_nuanced\", header=True)\n",
    "    rt_out_cxr_nuanced.coalesce(1).write.mode(\"overwrite\").csv(OUTPUT_DIR + \"rt_out_cxr_nuanced\", header=True)\n",
    "    rt_in_cxr_nuanced.coalesce(1).write.mode(\"overwrite\").csv(OUTPUT_DIR + \"rt_in_cxr_nuanced\", header=True)\n",
    "    \n",
    "    rt_cxr_nuanced.coalesce(1).write.mode(\"overwrite\").csv(OUTPUT_DIR + \"rt_cxr_nuanced\", header=True)    "
   ]
  },
  {
   "cell_type": "markdown",
   "id": "ba423adf-0912-4ac1-8b5e-18300f690502",
   "metadata": {},
   "source": [
    "# Analysis by flight"
   ]
  },
  {
   "cell_type": "markdown",
   "id": "ed17718b-15e5-481c-b86b-09cdd3e4ee06",
   "metadata": {},
   "source": [
    "## common prep"
   ]
  },
  {
   "cell_type": "code",
   "execution_count": 17,
   "id": "4a20040c-6ddb-459c-92e9-3c026f78f762",
   "metadata": {
    "execution": {
     "iopub.execute_input": "2023-01-03T23:34:46.688435Z",
     "iopub.status.busy": "2023-01-03T23:34:46.687161Z",
     "iopub.status.idle": "2023-01-03T23:34:47.517536Z",
     "shell.execute_reply": "2023-01-03T23:34:47.516694Z",
     "shell.execute_reply.started": "2023-01-03T23:34:46.688394Z"
    },
    "tags": []
   },
   "outputs": [
    {
     "data": {
      "application/vnd.jupyter.widget-view+json": {
       "model_id": "1b8f8c65767643968fc5fb4a96f8f228",
       "version_major": 2,
       "version_minor": 0
      },
      "text/plain": [
       "VBox()"
      ]
     },
     "metadata": {},
     "output_type": "display_data"
    },
    {
     "data": {
      "application/vnd.jupyter.widget-view+json": {
       "model_id": "",
       "version_major": 2,
       "version_minor": 0
      },
      "text/plain": [
       "FloatProgress(value=0.0, bar_style='info', description='Progress:', layout=Layout(height='25px', width='50%'),…"
      ]
     },
     "metadata": {},
     "output_type": "display_data"
    }
   ],
   "source": [
    "# fi = flight info = carrier + flight no\n",
    "\n",
    "# combine cxr + flight no into array of concat'd strings\n",
    "df_fi = (df_filt\n",
    "       .withColumn(\"out_flight_nos_str\", F.col(\"out_flight_numbers\").cast('array<string>'))\n",
    "       .withColumn(\"out_fi_zip\", F.arrays_zip(F.col(\"out_marketing_cxr\"), F.col(\"out_flight_nos_str\")))\n",
    "       .withColumn('out_fi_zip_concat', F.expr(\"transform(out_fi_zip, x -> concat_ws('-', x.out_marketing_cxr, x.out_flight_nos_str))\"))\n",
    "       .withColumn(\"in_flight_nos_str\", F.col(\"in_flight_numbers\").cast('array<string>'))\n",
    "       .withColumn(\"in_fi_zip\", F.arrays_zip(F.col(\"in_marketing_cxr\"), F.col(\"in_flight_nos_str\")))\n",
    "       .withColumn('in_fi_zip_concat', F.expr(\"transform(in_fi_zip, x -> concat_ws('-', x.in_marketing_cxr, x.in_flight_nos_str))\"))\n",
    "      )"
   ]
  },
  {
   "cell_type": "code",
   "execution_count": 18,
   "id": "cd37e6b9-f92d-463a-ad05-6eb2f2f44732",
   "metadata": {
    "execution": {
     "iopub.execute_input": "2023-01-03T23:34:47.518926Z",
     "iopub.status.busy": "2023-01-03T23:34:47.518669Z",
     "iopub.status.idle": "2023-01-03T23:34:47.629645Z",
     "shell.execute_reply": "2023-01-03T23:34:47.627877Z",
     "shell.execute_reply.started": "2023-01-03T23:34:47.518890Z"
    },
    "tags": []
   },
   "outputs": [
    {
     "data": {
      "application/vnd.jupyter.widget-view+json": {
       "model_id": "5da68383962e4c2584db6f5e755d9d52",
       "version_major": 2,
       "version_minor": 0
      },
      "text/plain": [
       "VBox()"
      ]
     },
     "metadata": {},
     "output_type": "display_data"
    },
    {
     "data": {
      "application/vnd.jupyter.widget-view+json": {
       "model_id": "",
       "version_major": 2,
       "version_minor": 0
      },
      "text/plain": [
       "FloatProgress(value=0.0, bar_style='info', description='Progress:', layout=Layout(height='25px', width='50%'),…"
      ]
     },
     "metadata": {},
     "output_type": "display_data"
    }
   ],
   "source": [
    "# df_fi.select(\"out_marketing_cxr\", \"out_flight_numbers\", \"out_fi_zip_concat\").show(10)"
   ]
  },
  {
   "cell_type": "markdown",
   "id": "4619a549-b097-4f81-b69d-f19267723767",
   "metadata": {},
   "source": [
    "## group-by-agg"
   ]
  },
  {
   "cell_type": "markdown",
   "id": "fb18a11d-7420-4c02-84c8-d1eec05dcb56",
   "metadata": {},
   "source": [
    "### crude (single leg)"
   ]
  },
  {
   "cell_type": "code",
   "execution_count": 19,
   "id": "e81fad11-8ecd-46b7-b88d-709419ac925e",
   "metadata": {
    "execution": {
     "iopub.execute_input": "2023-01-03T23:34:47.634397Z",
     "iopub.status.busy": "2023-01-03T23:34:47.630832Z",
     "iopub.status.idle": "2023-01-03T23:34:47.729251Z",
     "shell.execute_reply": "2023-01-03T23:34:47.728550Z",
     "shell.execute_reply.started": "2023-01-03T23:34:47.634352Z"
    }
   },
   "outputs": [
    {
     "data": {
      "application/vnd.jupyter.widget-view+json": {
       "model_id": "0636948842364c408ad3378a230e8eda",
       "version_major": 2,
       "version_minor": 0
      },
      "text/plain": [
       "VBox()"
      ]
     },
     "metadata": {},
     "output_type": "display_data"
    },
    {
     "data": {
      "application/vnd.jupyter.widget-view+json": {
       "model_id": "",
       "version_major": 2,
       "version_minor": 0
      },
      "text/plain": [
       "FloatProgress(value=0.0, bar_style='info', description='Progress:', layout=Layout(height='25px', width='50%'),…"
      ]
     },
     "metadata": {},
     "output_type": "display_data"
    }
   ],
   "source": [
    "# # each leg separately (explode cols --> rows)\n",
    "# df_fi_expl = (df_fi\n",
    "#            .select(\"*\", F.posexplode(\"out_fi_zip_concat\").alias(\"out_leg_num\", \"out_fi_leg\"))\n",
    "#            .withColumn(\"out_leg_num\", F.col(\"out_leg_num\") + 1)\n",
    "#            .select(\"*\", F.posexplode_outer(\"in_fi_zip_concat\").alias(\"in_leg_num\", \"in_fi_leg\"))\n",
    "#            .withColumn(\"in_leg_num\", F.col(\"in_leg_num\") + 1)\n",
    "#           )"
   ]
  },
  {
   "cell_type": "code",
   "execution_count": 20,
   "id": "46f2fe86-c2b1-408a-a2e2-5d66062d559d",
   "metadata": {
    "execution": {
     "iopub.execute_input": "2023-01-03T23:34:47.730387Z",
     "iopub.status.busy": "2023-01-03T23:34:47.730162Z",
     "iopub.status.idle": "2023-01-03T23:34:47.840005Z",
     "shell.execute_reply": "2023-01-03T23:34:47.839174Z",
     "shell.execute_reply.started": "2023-01-03T23:34:47.730356Z"
    },
    "tags": []
   },
   "outputs": [
    {
     "data": {
      "application/vnd.jupyter.widget-view+json": {
       "model_id": "96f50d7f152c4e91a3f40d173c7583e2",
       "version_major": 2,
       "version_minor": 0
      },
      "text/plain": [
       "VBox()"
      ]
     },
     "metadata": {},
     "output_type": "display_data"
    },
    {
     "data": {
      "application/vnd.jupyter.widget-view+json": {
       "model_id": "",
       "version_major": 2,
       "version_minor": 0
      },
      "text/plain": [
       "FloatProgress(value=0.0, bar_style='info', description='Progress:', layout=Layout(height='25px', width='50%'),…"
      ]
     },
     "metadata": {},
     "output_type": "display_data"
    }
   ],
   "source": [
    "# df_fi_expl.select(\"market\", \"shop_req_timeStamp\", \"out_marketing_cxr\", \"out_flight_numbers\", \"out_fi_zip_concat\",\n",
    "#                  \"out_fi_leg\", \"out_leg_num\").show(10)"
   ]
  },
  {
   "cell_type": "code",
   "execution_count": 21,
   "id": "be95eec4-b612-4faa-9e24-53912615ff91",
   "metadata": {
    "execution": {
     "iopub.execute_input": "2023-01-03T23:34:47.841675Z",
     "iopub.status.busy": "2023-01-03T23:34:47.841263Z",
     "iopub.status.idle": "2023-01-03T23:34:47.933731Z",
     "shell.execute_reply": "2023-01-03T23:34:47.932698Z",
     "shell.execute_reply.started": "2023-01-03T23:34:47.841639Z"
    }
   },
   "outputs": [
    {
     "data": {
      "application/vnd.jupyter.widget-view+json": {
       "model_id": "d59ed81f56b1409a96a06ec8c92f1dd6",
       "version_major": 2,
       "version_minor": 0
      },
      "text/plain": [
       "VBox()"
      ]
     },
     "metadata": {},
     "output_type": "display_data"
    },
    {
     "data": {
      "application/vnd.jupyter.widget-view+json": {
       "model_id": "",
       "version_major": 2,
       "version_minor": 0
      },
      "text/plain": [
       "FloatProgress(value=0.0, bar_style='info', description='Progress:', layout=Layout(height='25px', width='50%'),…"
      ]
     },
     "metadata": {},
     "output_type": "display_data"
    },
    {
     "name": "stderr",
     "output_type": "stream",
     "text": [
      "An error was encountered:\n",
      "name 'df_fi_expl' is not defined\n",
      "Traceback (most recent call last):\n",
      "NameError: name 'df_fi_expl' is not defined\n",
      "\n"
     ]
    }
   ],
   "source": [
    " df_fi_expl.count()"
   ]
  },
  {
   "cell_type": "code",
   "execution_count": 22,
   "id": "e5740c21-44de-46e6-8329-9fb327a63cf8",
   "metadata": {
    "execution": {
     "iopub.execute_input": "2023-01-03T23:34:47.935057Z",
     "iopub.status.busy": "2023-01-03T23:34:47.934762Z",
     "iopub.status.idle": "2023-01-03T23:34:47.995684Z",
     "shell.execute_reply": "2023-01-03T23:34:47.995102Z",
     "shell.execute_reply.started": "2023-01-03T23:34:47.935024Z"
    }
   },
   "outputs": [
    {
     "data": {
      "application/vnd.jupyter.widget-view+json": {
       "model_id": "23040739576947258419b9db5fae59b0",
       "version_major": 2,
       "version_minor": 0
      },
      "text/plain": [
       "VBox()"
      ]
     },
     "metadata": {},
     "output_type": "display_data"
    },
    {
     "data": {
      "application/vnd.jupyter.widget-view+json": {
       "model_id": "",
       "version_major": 2,
       "version_minor": 0
      },
      "text/plain": [
       "FloatProgress(value=0.0, bar_style='info', description='Progress:', layout=Layout(height='25px', width='50%'),…"
      ]
     },
     "metadata": {},
     "output_type": "display_data"
    },
    {
     "name": "stderr",
     "output_type": "stream",
     "text": [
      "An error was encountered:\n",
      "name 'df_fi_expl' is not defined\n",
      "Traceback (most recent call last):\n",
      "NameError: name 'df_fi_expl' is not defined\n",
      "\n"
     ]
    }
   ],
   "source": [
    "df_fi_expl_no_dup = df_fi_expl.drop_duplicates()\n",
    "df_fi_expl_no_dup.count()"
   ]
  },
  {
   "cell_type": "markdown",
   "id": "a062bf90-4a1c-4f58-82d4-0668fae23268",
   "metadata": {},
   "source": [
    "Thos are not duplicates"
   ]
  },
  {
   "cell_type": "code",
   "execution_count": 23,
   "id": "fb3464a0-f0c1-4c6e-8de8-3157207cd12e",
   "metadata": {
    "execution": {
     "iopub.execute_input": "2023-01-03T23:34:47.997814Z",
     "iopub.status.busy": "2023-01-03T23:34:47.997612Z",
     "iopub.status.idle": "2023-01-03T23:34:48.079297Z",
     "shell.execute_reply": "2023-01-03T23:34:48.078609Z",
     "shell.execute_reply.started": "2023-01-03T23:34:47.997790Z"
    },
    "tags": []
   },
   "outputs": [
    {
     "data": {
      "application/vnd.jupyter.widget-view+json": {
       "model_id": "66cd1229e06a4d479ffc77ccedb724cd",
       "version_major": 2,
       "version_minor": 0
      },
      "text/plain": [
       "VBox()"
      ]
     },
     "metadata": {},
     "output_type": "display_data"
    },
    {
     "data": {
      "application/vnd.jupyter.widget-view+json": {
       "model_id": "",
       "version_major": 2,
       "version_minor": 0
      },
      "text/plain": [
       "FloatProgress(value=0.0, bar_style='info', description='Progress:', layout=Layout(height='25px', width='50%'),…"
      ]
     },
     "metadata": {},
     "output_type": "display_data"
    },
    {
     "name": "stderr",
     "output_type": "stream",
     "text": [
      "An error was encountered:\n",
      "name 'df_fi_expl' is not defined\n",
      "Traceback (most recent call last):\n",
      "NameError: name 'df_fi_expl' is not defined\n",
      "\n"
     ]
    }
   ],
   "source": [
    "df_fi_expl.show(10)"
   ]
  },
  {
   "cell_type": "markdown",
   "id": "6d9bb5b1-563b-45a7-8f0c-2184ab8b6a0a",
   "metadata": {},
   "source": [
    "Cause is the combination of exploding out + in"
   ]
  },
  {
   "cell_type": "code",
   "execution_count": 24,
   "id": "6631a161-c576-49ba-863c-eb22b0fa40a2",
   "metadata": {
    "execution": {
     "iopub.execute_input": "2023-01-03T23:34:48.085381Z",
     "iopub.status.busy": "2023-01-03T23:34:48.085080Z",
     "iopub.status.idle": "2023-01-03T23:34:48.382329Z",
     "shell.execute_reply": "2023-01-03T23:34:48.381562Z",
     "shell.execute_reply.started": "2023-01-03T23:34:48.085343Z"
    }
   },
   "outputs": [
    {
     "data": {
      "application/vnd.jupyter.widget-view+json": {
       "model_id": "8ba200c72ab746d8834c6ff733019da5",
       "version_major": 2,
       "version_minor": 0
      },
      "text/plain": [
       "VBox()"
      ]
     },
     "metadata": {},
     "output_type": "display_data"
    },
    {
     "data": {
      "application/vnd.jupyter.widget-view+json": {
       "model_id": "",
       "version_major": 2,
       "version_minor": 0
      },
      "text/plain": [
       "FloatProgress(value=0.0, bar_style='info', description='Progress:', layout=Layout(height='25px', width='50%'),…"
      ]
     },
     "metadata": {},
     "output_type": "display_data"
    }
   ],
   "source": [
    "# each leg separately (explode cols --> rows)\n",
    "out_fi_expl = (df_fi\n",
    "           .select(\"*\", F.posexplode(\"out_fi_zip_concat\").alias(\"out_leg_num\", \"out_fi_leg\"))\n",
    "           .withColumn(\"out_leg_num\", F.col(\"out_leg_num\") + 1)\n",
    "          )\n",
    "\n",
    "in_fi_expl = (df_fi\n",
    "           .select(\"*\", F.posexplode_outer(\"in_fi_zip_concat\").alias(\"in_leg_num\", \"in_fi_leg\"))\n",
    "           .withColumn(\"in_leg_num\", F.col(\"in_leg_num\") + 1)\n",
    "          )"
   ]
  },
  {
   "cell_type": "code",
   "execution_count": 25,
   "id": "ac4fcfb5-6dc7-423d-815f-42708fafd9af",
   "metadata": {
    "execution": {
     "iopub.execute_input": "2023-01-03T23:34:48.383512Z",
     "iopub.status.busy": "2023-01-03T23:34:48.383310Z",
     "iopub.status.idle": "2023-01-03T23:34:48.679698Z",
     "shell.execute_reply": "2023-01-03T23:34:48.678826Z",
     "shell.execute_reply.started": "2023-01-03T23:34:48.383488Z"
    }
   },
   "outputs": [
    {
     "data": {
      "application/vnd.jupyter.widget-view+json": {
       "model_id": "3803165311eb44b585a81c6c3f75fcc9",
       "version_major": 2,
       "version_minor": 0
      },
      "text/plain": [
       "VBox()"
      ]
     },
     "metadata": {},
     "output_type": "display_data"
    },
    {
     "data": {
      "application/vnd.jupyter.widget-view+json": {
       "model_id": "",
       "version_major": 2,
       "version_minor": 0
      },
      "text/plain": [
       "FloatProgress(value=0.0, bar_style='info', description='Progress:', layout=Layout(height='25px', width='50%'),…"
      ]
     },
     "metadata": {},
     "output_type": "display_data"
    }
   ],
   "source": [
    "# define above; copied here for reference\n",
    "# base_grpby_cols = [\"market\", \"round_trip\", \"days_til_dept\", \"out_dt_dow_int\", \"in_dt_dow_int\"]\n",
    "\n",
    "out_fi_per_leg = (out_fi_expl\n",
    "                    .groupBy(base_grpby_cols + [\"out_fi_leg\"])\n",
    "                    .agg(F.count(\"*\").alias(\"count\"))\n",
    "                 )\n",
    "\n",
    "rt_in_fi_per_leg = (in_fi_expl\n",
    "                    .filter(F.col(\"round_trip\") == 1)\n",
    "                    .groupBy(base_grpby_cols + [\"in_fi_leg\"])\n",
    "                    .agg(F.count(\"*\").alias(\"count\"))\n",
    "                 )"
   ]
  },
  {
   "cell_type": "markdown",
   "id": "1c763da5-07e2-4976-8a48-ec6eb412288b",
   "metadata": {},
   "source": [
    "### nuanced (all legs --> one string)"
   ]
  },
  {
   "cell_type": "code",
   "execution_count": 26,
   "id": "d60b3f7c-3ac4-40f8-8a43-c4de31415bfa",
   "metadata": {
    "execution": {
     "iopub.execute_input": "2023-01-03T23:34:48.681074Z",
     "iopub.status.busy": "2023-01-03T23:34:48.680789Z",
     "iopub.status.idle": "2023-01-03T23:34:48.977293Z",
     "shell.execute_reply": "2023-01-03T23:34:48.976668Z",
     "shell.execute_reply.started": "2023-01-03T23:34:48.681011Z"
    },
    "tags": []
   },
   "outputs": [
    {
     "data": {
      "application/vnd.jupyter.widget-view+json": {
       "model_id": "bec3167e998a426193c7bce3eede6348",
       "version_major": 2,
       "version_minor": 0
      },
      "text/plain": [
       "VBox()"
      ]
     },
     "metadata": {},
     "output_type": "display_data"
    },
    {
     "data": {
      "application/vnd.jupyter.widget-view+json": {
       "model_id": "",
       "version_major": 2,
       "version_minor": 0
      },
      "text/plain": [
       "FloatProgress(value=0.0, bar_style='info', description='Progress:', layout=Layout(height='25px', width='50%'),…"
      ]
     },
     "metadata": {},
     "output_type": "display_data"
    }
   ],
   "source": [
    "# combine mulit-legs into single string\n",
    "df_fi_one_str = (df_fi\n",
    "              .withColumn(\"out_fi_itin\", F.concat_ws(\".\", \"out_fi_zip_concat\"))\n",
    "              .withColumn(\"in_fi_itin\", F.concat_ws(\".\", \"in_fi_zip_concat\"))\n",
    "              .withColumn(\"rt_fi_itin\", F.concat_ws(\"_\", \"out_fi_itin\", \"in_fi_itin\"))\n",
    "             )\n",
    "\n",
    "out_fi_one_str = (df_fi_one_str\n",
    "                      .groupBy(base_grpby_cols + [\"out_fi_itin\"])\n",
    "                      .agg(F.count(\"*\").alias(\"count\"))\n",
    "                     )\n",
    "\n",
    "rt_in_fi_one_str = (df_fi_one_str\n",
    "                      .filter(F.col(\"round_trip\") == 1)\n",
    "                      .groupBy(base_grpby_cols + [\"in_fi_itin\"])\n",
    "                      .agg(F.count(\"*\").alias(\"count\"))\n",
    "                     )\n",
    "\n",
    "rt_fi_one_str = (df_fi_one_str\n",
    "                      .filter(F.col(\"round_trip\") == 1)\n",
    "                      .groupBy(base_grpby_cols + [\"rt_fi_itin\"])\n",
    "                      .agg(F.count(\"*\").alias(\"count\"))\n",
    "                     )"
   ]
  },
  {
   "cell_type": "markdown",
   "id": "3efdbba0-b269-4ccb-a6a4-4983554a7415",
   "metadata": {},
   "source": [
    "## window funcs"
   ]
  },
  {
   "cell_type": "code",
   "execution_count": 27,
   "id": "3d0babf1-8097-49f9-9ed3-e27ad96d3f3c",
   "metadata": {
    "execution": {
     "iopub.execute_input": "2023-01-03T23:34:48.978524Z",
     "iopub.status.busy": "2023-01-03T23:34:48.978336Z",
     "iopub.status.idle": "2023-01-03T23:34:49.247393Z",
     "shell.execute_reply": "2023-01-03T23:34:49.246662Z",
     "shell.execute_reply.started": "2023-01-03T23:34:48.978502Z"
    },
    "tags": []
   },
   "outputs": [
    {
     "data": {
      "application/vnd.jupyter.widget-view+json": {
       "model_id": "8bffad96ea62413e915cda350f050827",
       "version_major": 2,
       "version_minor": 0
      },
      "text/plain": [
       "VBox()"
      ]
     },
     "metadata": {},
     "output_type": "display_data"
    },
    {
     "data": {
      "application/vnd.jupyter.widget-view+json": {
       "model_id": "",
       "version_major": 2,
       "version_minor": 0
      },
      "text/plain": [
       "FloatProgress(value=0.0, bar_style='info', description='Progress:', layout=Layout(height='25px', width='50%'),…"
      ]
     },
     "metadata": {},
     "output_type": "display_data"
    }
   ],
   "source": [
    "out_fi_per_leg = apply_window_1(out_fi_per_leg, w1)\n",
    "out_fi_per_leg = apply_window_2(out_fi_per_leg, w2)\n",
    "\n",
    "rt_in_fi_per_leg = apply_window_1(rt_in_fi_per_leg, w1)\n",
    "rt_in_fi_per_leg = apply_window_2(rt_in_fi_per_leg, w2)\n",
    "\n",
    "out_fi_one_str = apply_window_1(out_fi_one_str, w1)\n",
    "out_fi_one_str = apply_window_2(out_fi_one_str, w2)\n",
    "\n",
    "rt_in_fi_one_str = apply_window_1(rt_in_fi_one_str, w1)\n",
    "rt_in_fi_one_str = apply_window_2(rt_in_fi_one_str, w2)\n",
    "\n",
    "rt_fi_one_str = apply_window_1(rt_fi_one_str, w1)\n",
    "rt_fi_one_str = apply_window_2(rt_fi_one_str, w2)"
   ]
  },
  {
   "cell_type": "code",
   "execution_count": 28,
   "id": "388ec56a-5bfc-4d8f-8285-0fa283f268ef",
   "metadata": {
    "execution": {
     "iopub.execute_input": "2023-01-03T23:34:49.248774Z",
     "iopub.status.busy": "2023-01-03T23:34:49.248515Z",
     "iopub.status.idle": "2023-01-03T23:34:49.523804Z",
     "shell.execute_reply": "2023-01-03T23:34:49.523003Z",
     "shell.execute_reply.started": "2023-01-03T23:34:49.248740Z"
    },
    "tags": []
   },
   "outputs": [
    {
     "data": {
      "application/vnd.jupyter.widget-view+json": {
       "model_id": "07ba85a13f9d4b01b645b6acf0851dbd",
       "version_major": 2,
       "version_minor": 0
      },
      "text/plain": [
       "VBox()"
      ]
     },
     "metadata": {},
     "output_type": "display_data"
    },
    {
     "data": {
      "application/vnd.jupyter.widget-view+json": {
       "model_id": "",
       "version_major": 2,
       "version_minor": 0
      },
      "text/plain": [
       "FloatProgress(value=0.0, bar_style='info', description='Progress:', layout=Layout(height='25px', width='50%'),…"
      ]
     },
     "metadata": {},
     "output_type": "display_data"
    }
   ],
   "source": [
    "# split into ow & rt\n",
    "ow_out_fi_per_leg = out_fi_per_leg.filter(F.col(\"round_trip\") == 0)\n",
    "rt_out_fi_per_leg = out_fi_per_leg.filter(F.col(\"round_trip\") == 1)\n",
    "\n",
    "ow_out_fi_one_str = out_fi_one_str.filter(F.col(\"round_trip\") == 0)\n",
    "rt_out_fi_one_str = out_fi_one_str.filter(F.col(\"round_trip\") == 1)"
   ]
  },
  {
   "cell_type": "markdown",
   "id": "da134224-bf06-4daa-9aed-4775a6647444",
   "metadata": {},
   "source": [
    "## save"
   ]
  },
  {
   "cell_type": "markdown",
   "id": "b2d2ebd6-8e80-42e5-a150-48f0ad6261bb",
   "metadata": {},
   "source": [
    "UPDATE THIS"
   ]
  },
  {
   "cell_type": "code",
   "execution_count": 31,
   "id": "948326ce-60fc-4553-aed5-b9cf026d2268",
   "metadata": {
    "execution": {
     "iopub.execute_input": "2023-01-03T23:35:01.592082Z",
     "iopub.status.busy": "2023-01-03T23:35:01.591847Z",
     "iopub.status.idle": "2023-01-03T23:35:01.648709Z",
     "shell.execute_reply": "2023-01-03T23:35:01.648180Z",
     "shell.execute_reply.started": "2023-01-03T23:35:01.592055Z"
    },
    "tags": []
   },
   "outputs": [
    {
     "data": {
      "application/vnd.jupyter.widget-view+json": {
       "model_id": "cbeb183d648448b7ba45dc724d703611",
       "version_major": 2,
       "version_minor": 0
      },
      "text/plain": [
       "VBox()"
      ]
     },
     "metadata": {},
     "output_type": "display_data"
    },
    {
     "data": {
      "application/vnd.jupyter.widget-view+json": {
       "model_id": "",
       "version_major": 2,
       "version_minor": 0
      },
      "text/plain": [
       "FloatProgress(value=0.0, bar_style='info', description='Progress:', layout=Layout(height='25px', width='50%'),…"
      ]
     },
     "metadata": {},
     "output_type": "display_data"
    }
   ],
   "source": [
    "if 1 == 0:\n",
    "    OUTPUT_DIR = \"s3://tvlp-ds-users/kendra-frederick/shopping-grid/carrier-consistency/\"\n",
    "\n",
    "    ow_out_fi_per_leg.coalesce(1).write.mode(\"overwrite\").csv(OUTPUT_DIR + \"ow_out_fi_per_leg\", header=True)\n",
    "    rt_out_fi_per_leg.coalesce(1).write.mode(\"overwrite\").csv(OUTPUT_DIR + \"rt_out_fi_per_leg\", header=True)\n",
    "    rt_in_fi_per_leg.coalesce(1).write.mode(\"overwrite\").csv(OUTPUT_DIR + \"rt_in_fi_per_leg\", header=True)\n",
    "\n",
    "    ow_out_fi_one_str.coalesce(1).write.mode(\"overwrite\").csv(OUTPUT_DIR + \"ow_out_fi_one_str\", header=True)\n",
    "    rt_out_fi_one_str.coalesce(1).write.mode(\"overwrite\").csv(OUTPUT_DIR + \"rt_out_fi_one_str\", header=True)\n",
    "    rt_in_fi_one_str.coalesce(1).write.mode(\"overwrite\").csv(OUTPUT_DIR + \"rt_in_fi_one_str\", header=True)"
   ]
  },
  {
   "cell_type": "markdown",
   "id": "f6966a26-bd8e-47e5-924c-3b17b8086e7f",
   "metadata": {},
   "source": [
    "# Dev analysis"
   ]
  },
  {
   "cell_type": "markdown",
   "id": "404c509e-3d8c-49a2-8638-3aa8240f4fc1",
   "metadata": {},
   "source": [
    "For market overview, we want to agg-out the DTD and DOW dimensions"
   ]
  },
  {
   "cell_type": "code",
   "execution_count": 30,
   "id": "cabfd404-861d-43bf-89bb-465ef1294236",
   "metadata": {
    "execution": {
     "iopub.execute_input": "2023-01-03T23:34:49.856469Z",
     "iopub.status.busy": "2023-01-03T23:34:49.856246Z",
     "iopub.status.idle": "2023-01-03T23:34:49.915699Z",
     "shell.execute_reply": "2023-01-03T23:34:49.915046Z",
     "shell.execute_reply.started": "2023-01-03T23:34:49.856445Z"
    },
    "tags": []
   },
   "outputs": [
    {
     "data": {
      "application/vnd.jupyter.widget-view+json": {
       "model_id": "d6343eef5ccc431b8744d616fccea1be",
       "version_major": 2,
       "version_minor": 0
      },
      "text/plain": [
       "VBox()"
      ]
     },
     "metadata": {},
     "output_type": "display_data"
    },
    {
     "data": {
      "application/vnd.jupyter.widget-view+json": {
       "model_id": "",
       "version_major": 2,
       "version_minor": 0
      },
      "text/plain": [
       "FloatProgress(value=0.0, bar_style='info', description='Progress:', layout=Layout(height='25px', width='50%'),…"
      ]
     },
     "metadata": {},
     "output_type": "display_data"
    }
   ],
   "source": [
    "market = 'ATL-EWR'"
   ]
  },
  {
   "cell_type": "code",
   "execution_count": 56,
   "id": "b5d2b984-c8dd-4773-95c4-5cc06d22385c",
   "metadata": {
    "execution": {
     "iopub.execute_input": "2023-01-03T21:16:40.490613Z",
     "iopub.status.busy": "2023-01-03T21:16:40.490368Z",
     "iopub.status.idle": "2023-01-03T21:16:40.751605Z",
     "shell.execute_reply": "2023-01-03T21:16:40.751023Z",
     "shell.execute_reply.started": "2023-01-03T21:16:40.490587Z"
    },
    "tags": []
   },
   "outputs": [
    {
     "data": {
      "application/vnd.jupyter.widget-view+json": {
       "model_id": "",
       "version_major": 2,
       "version_minor": 0
      },
      "text/plain": [
       "VBox()"
      ]
     },
     "metadata": {},
     "output_type": "display_data"
    },
    {
     "data": {
      "application/vnd.jupyter.widget-view+json": {
       "model_id": "",
       "version_major": 2,
       "version_minor": 0
      },
      "text/plain": [
       "FloatProgress(value=0.0, bar_style='info', description='Progress:', layout=Layout(height='25px', width='50%'),…"
      ]
     },
     "metadata": {},
     "output_type": "display_data"
    }
   ],
   "source": [
    "mdf = ow_out_cxr_crude.filter(F.col(\"market\") == market)"
   ]
  },
  {
   "cell_type": "code",
   "execution_count": 57,
   "id": "76c176ca-a6d9-45fd-a0e8-300590e7fa5c",
   "metadata": {
    "execution": {
     "iopub.execute_input": "2023-01-03T21:17:42.413454Z",
     "iopub.status.busy": "2023-01-03T21:17:42.413192Z",
     "iopub.status.idle": "2023-01-03T21:17:42.476199Z",
     "shell.execute_reply": "2023-01-03T21:17:42.475630Z",
     "shell.execute_reply.started": "2023-01-03T21:17:42.413429Z"
    }
   },
   "outputs": [
    {
     "data": {
      "application/vnd.jupyter.widget-view+json": {
       "model_id": "",
       "version_major": 2,
       "version_minor": 0
      },
      "text/plain": [
       "VBox()"
      ]
     },
     "metadata": {},
     "output_type": "display_data"
    },
    {
     "data": {
      "application/vnd.jupyter.widget-view+json": {
       "model_id": "",
       "version_major": 2,
       "version_minor": 0
      },
      "text/plain": [
       "FloatProgress(value=0.0, bar_style='info', description='Progress:', layout=Layout(height='25px', width='50%'),…"
      ]
     },
     "metadata": {},
     "output_type": "display_data"
    }
   ],
   "source": [
    "agg_df = (mdf\n",
    " .groupBy('round_trip', 'out_cxr')\n",
    " .agg(\n",
    "     F.sum(\"count\").alias('count'),\n",
    "     F.sum(\"pct_count\").alias('pct_count')\n",
    " )\n",
    "         )"
   ]
  },
  {
   "cell_type": "code",
   "execution_count": 58,
   "id": "7ab9231f-c756-4540-95e8-ee459edec232",
   "metadata": {
    "execution": {
     "iopub.execute_input": "2023-01-03T21:17:46.972773Z",
     "iopub.status.busy": "2023-01-03T21:17:46.972530Z",
     "iopub.status.idle": "2023-01-03T21:18:14.618231Z",
     "shell.execute_reply": "2023-01-03T21:18:14.501983Z",
     "shell.execute_reply.started": "2023-01-03T21:17:46.972745Z"
    }
   },
   "outputs": [
    {
     "data": {
      "application/vnd.jupyter.widget-view+json": {
       "model_id": "",
       "version_major": 2,
       "version_minor": 0
      },
      "text/plain": [
       "VBox()"
      ]
     },
     "metadata": {},
     "output_type": "display_data"
    },
    {
     "data": {
      "application/vnd.jupyter.widget-view+json": {
       "model_id": "",
       "version_major": 2,
       "version_minor": 0
      },
      "text/plain": [
       "FloatProgress(value=0.0, bar_style='info', description='Progress:', layout=Layout(height='25px', width='50%'),…"
      ]
     },
     "metadata": {},
     "output_type": "display_data"
    },
    {
     "name": "stdout",
     "output_type": "stream",
     "text": [
      "+----------+-------+------+--------------------+\n",
      "|round_trip|out_cxr| count|           pct_count|\n",
      "+----------+-------+------+--------------------+\n",
      "|         0|     NK|388702|  0.5377822235319661|\n",
      "|         0|     AS|     6|8.301200768691191E-6|\n",
      "|         0|     AA|  9184|0.012706371309943319|\n",
      "|         0|     B6|   130|1.798593499883090...|\n",
      "|         0|     UA|198977| 0.27529133755864377|\n",
      "|         0|     DL|125788| 0.17403190704868776|\n",
      "+----------+-------+------+--------------------+"
     ]
    }
   ],
   "source": [
    "agg_df.show(10)"
   ]
  },
  {
   "cell_type": "code",
   "execution_count": 60,
   "id": "8c0bd168-c67a-405d-9940-d3a71a8cd6db",
   "metadata": {
    "collapsed": true,
    "execution": {
     "iopub.execute_input": "2023-01-03T21:19:04.981200Z",
     "iopub.status.busy": "2023-01-03T21:19:04.980957Z",
     "iopub.status.idle": "2023-01-03T21:19:05.267483Z",
     "shell.execute_reply": "2023-01-03T21:19:05.266831Z",
     "shell.execute_reply.started": "2023-01-03T21:19:04.981175Z"
    },
    "jupyter": {
     "outputs_hidden": true
    },
    "tags": []
   },
   "outputs": [
    {
     "data": {
      "application/vnd.jupyter.widget-view+json": {
       "model_id": "4f7edf3eb7c84bee9165f94c5f8de819",
       "version_major": 2,
       "version_minor": 0
      },
      "text/plain": [
       "VBox()"
      ]
     },
     "metadata": {},
     "output_type": "display_data"
    },
    {
     "data": {
      "application/vnd.jupyter.widget-view+json": {
       "model_id": "",
       "version_major": 2,
       "version_minor": 0
      },
      "text/plain": [
       "FloatProgress(value=0.0, bar_style='info', description='Progress:', layout=Layout(height='25px', width='50%'),…"
      ]
     },
     "metadata": {},
     "output_type": "display_data"
    },
    {
     "name": "stderr",
     "output_type": "stream",
     "text": [
      "An error was encountered:\n",
      "\"cannot resolve '`market`' given input columns: [data.round_trip, out_cxr, count, pct_count];;\\n'Project [round_trip#25, out_cxr#2975, count#5162L, pct_count#5164, sum(pct_count#5164) windowspecdefinition('market, round_trip#25, pct_count#5164 DESC NULLS LAST, specifiedwindowframe(RowFrame, unboundedpreceding$(), currentrow$())) AS cum_pct#5193]\\n+- Aggregate [round_trip#25, out_cxr#2975], [round_trip#25, out_cxr#2975, sum(count#3250L) AS count#5162L, sum(pct_count#3487) AS pct_count#5164]\\n   +- Filter (market#0 = ATL-EWR)\\n      +- Filter (round_trip#25 = 0)\\n         +- Project [market#0, round_trip#25, days_til_dept#151, out_dt_dow_int#187, in_dt_dow_int#262, out_cxr#2975, count#3250L, count_market#3478L, pct_count#3487, cum_pct#3498]\\n            +- Project [market#0, round_trip#25, days_til_dept#151, out_dt_dow_int#187, in_dt_dow_int#262, out_cxr#2975, count#3250L, count_market#3478L, pct_count#3487, cum_pct#3498, cum_pct#3498]\\n               +- Window [sum(pct_count#3487) windowspecdefinition(market#0, round_trip#25, pct_count#3487 DESC NULLS LAST, specifiedwindowframe(RowFrame, unboundedpreceding$(), currentrow$())) AS cum_pct#3498], [market#0, round_trip#25], [pct_count#3487 DESC NULLS LAST]\\n                  +- Project [market#0, round_trip#25, days_til_dept#151, out_dt_dow_int#187, in_dt_dow_int#262, out_cxr#2975, count#3250L, count_market#3478L, pct_count#3487]\\n                     +- Project [market#0, round_trip#25, days_til_dept#151, out_dt_dow_int#187, in_dt_dow_int#262, out_cxr#2975, count#3250L, count_market#3478L, (cast(count#3250L as double) / cast(count_market#3478L as double)) AS pct_count#3487]\\n                        +- Project [market#0, round_trip#25, days_til_dept#151, out_dt_dow_int#187, in_dt_dow_int#262, out_cxr#2975, count#3250L, count_market#3478L]\\n                           +- Project [market#0, round_trip#25, days_til_dept#151, out_dt_dow_int#187, in_dt_dow_int#262, out_cxr#2975, count#3250L, count_market#3478L, count_market#3478L]\\n                              +- Window [sum(count#3250L) windowspecdefinition(market#0, round_trip#25, specifiedwindowframe(RowFrame, unboundedpreceding$(), unboundedfollowing$())) AS count_market#3478L], [market#0, round_trip#25]\\n                                 +- Project [market#0, round_trip#25, days_til_dept#151, out_dt_dow_int#187, in_dt_dow_int#262, out_cxr#2975, count#3250L]\\n                                    +- Aggregate [market#0, round_trip#25, days_til_dept#151, out_dt_dow_int#187, in_dt_dow_int#262, out_cxr#2975], [market#0, round_trip#25, days_til_dept#151, out_dt_dow_int#187, in_dt_dow_int#262, out_cxr#2975, count(1) AS count#3250L]\\n                                       +- Project [market#0, out_origin_airport#1, out_destination_airport#2, out_departure_date#3L, in_departure_date#4L, pcc#5, gds#6, shop_req_timeStamp#7L, point_of_sale#8, currency#9, out_origin_city#10, out_destination_city#11, constricted_search#12, out_marketing_cxr#13, out_departure_time#14, out_flight_numbers#15, out_booking_class#16, out_cabin_class#17, out_num_stops#18, in_marketing_cxr#19, in_departure_time#20, in_flight_numbers#21, in_booking_class#22, in_cabin_class#23, ... 21 more fields]\\n                                          +- Project [market#0, out_origin_airport#1, out_destination_airport#2, out_departure_date#3L, in_departure_date#4L, pcc#5, gds#6, shop_req_timeStamp#7L, point_of_sale#8, currency#9, out_origin_city#10, out_destination_city#11, constricted_search#12, out_marketing_cxr#13, out_departure_time#14, out_flight_numbers#15, out_booking_class#16, out_cabin_class#17, out_num_stops#18, in_marketing_cxr#19, in_departure_time#20, in_flight_numbers#21, in_booking_class#22, in_cabin_class#23, ... 20 more fields]\\n                                             +- Generate explode(out_unique_cxr#341), false, [out_cxr#2975]\\n                                                +- Project [market#0, out_origin_airport#1, out_destination_airport#2, out_departure_date#3L, in_departure_date#4L, pcc#5, gds#6, shop_req_timeStamp#7L, point_of_sale#8, currency#9, out_origin_city#10, out_destination_city#11, constricted_search#12, out_marketing_cxr#13, out_departure_time#14, out_flight_numbers#15, out_booking_class#16, out_cabin_class#17, out_num_stops#18, in_marketing_cxr#19, in_departure_time#20, in_flight_numbers#21, in_booking_class#22, in_cabin_class#23, ... 19 more fields]\\n                                                   +- Project [market#0, out_origin_airport#1, out_destination_airport#2, out_departure_date#3L, in_departure_date#4L, pcc#5, gds#6, shop_req_timeStamp#7L, point_of_sale#8, currency#9, out_origin_city#10, out_destination_city#11, constricted_search#12, out_marketing_cxr#13, out_departure_time#14, out_flight_numbers#15, out_booking_class#16, out_cabin_class#17, out_num_stops#18, in_marketing_cxr#19, in_departure_time#20, in_flight_numbers#21, in_booking_class#22, in_cabin_class#23, ... 18 more fields]\\n                                                      +- Project [market#0, out_origin_airport#1, out_destination_airport#2, out_departure_date#3L, in_departure_date#4L, pcc#5, gds#6, shop_req_timeStamp#7L, point_of_sale#8, currency#9, out_origin_city#10, out_destination_city#11, constricted_search#12, out_marketing_cxr#13, out_departure_time#14, out_flight_numbers#15, out_booking_class#16, out_cabin_class#17, out_num_stops#18, in_marketing_cxr#19, in_departure_time#20, in_flight_numbers#21, in_booking_class#22, in_cabin_class#23, ... 17 more fields]\\n                                                         +- Project [market#0, out_origin_airport#1, out_destination_airport#2, out_departure_date#3L, in_departure_date#4L, pcc#5, gds#6, shop_req_timeStamp#7L, point_of_sale#8, currency#9, out_origin_city#10, out_destination_city#11, constricted_search#12, out_marketing_cxr#13, out_departure_time#14, out_flight_numbers#15, out_booking_class#16, out_cabin_class#17, out_num_stops#18, in_marketing_cxr#19, in_departure_time#20, in_flight_numbers#21, in_booking_class#22, in_cabin_class#23, ... 16 more fields]\\n                                                            +- Filter (days_til_dept#151 > 0)\\n                                                               +- Project [market#0, out_origin_airport#1, out_destination_airport#2, out_departure_date#3L, in_departure_date#4L, pcc#5, gds#6, shop_req_timeStamp#7L, point_of_sale#8, currency#9, out_origin_city#10, out_destination_city#11, constricted_search#12, out_marketing_cxr#13, out_departure_time#14, out_flight_numbers#15, out_booking_class#16, out_cabin_class#17, out_num_stops#18, in_marketing_cxr#19, in_departure_time#20, in_flight_numbers#21, in_booking_class#22, in_cabin_class#23, ... 15 more fields]\\n                                                                  +- Project [market#0, out_origin_airport#1, out_destination_airport#2, out_departure_date#3L, in_departure_date#4L, pcc#5, gds#6, shop_req_timeStamp#7L, point_of_sale#8, currency#9, out_origin_city#10, out_destination_city#11, constricted_search#12, out_marketing_cxr#13, out_departure_time#14, out_flight_numbers#15, out_booking_class#16, out_cabin_class#17, out_num_stops#18, in_marketing_cxr#19, in_departure_time#20, in_flight_numbers#21, in_booking_class#22, in_cabin_class#23, ... 14 more fields]\\n                                                                     +- Project [market#0, out_origin_airport#1, out_destination_airport#2, out_departure_date#3L, in_departure_date#4L, pcc#5, gds#6, shop_req_timeStamp#7L, point_of_sale#8, currency#9, out_origin_city#10, out_destination_city#11, constricted_search#12, out_marketing_cxr#13, out_departure_time#14, out_flight_numbers#15, out_booking_class#16, out_cabin_class#17, out_num_stops#18, in_marketing_cxr#19, in_departure_time#20, in_flight_numbers#21, in_booking_class#22, in_cabin_class#23, ... 13 more fields]\\n                                                                        +- Project [market#0, out_origin_airport#1, out_destination_airport#2, out_departure_date#3L, in_departure_date#4L, pcc#5, gds#6, shop_req_timeStamp#7L, point_of_sale#8, currency#9, out_origin_city#10, out_destination_city#11, constricted_search#12, out_marketing_cxr#13, out_departure_time#14, out_flight_numbers#15, out_booking_class#16, out_cabin_class#17, out_num_stops#18, in_marketing_cxr#19, in_departure_time#20, in_flight_numbers#21, in_booking_class#22, in_cabin_class#23, ... 12 more fields]\\n                                                                           +- Project [market#0, out_origin_airport#1, out_destination_airport#2, out_departure_date#3L, in_departure_date#4L, pcc#5, gds#6, shop_req_timeStamp#7L, point_of_sale#8, currency#9, out_origin_city#10, out_destination_city#11, constricted_search#12, out_marketing_cxr#13, out_departure_time#14, out_flight_numbers#15, out_booking_class#16, out_cabin_class#17, out_num_stops#18, in_marketing_cxr#19, in_departure_time#20, in_flight_numbers#21, in_booking_class#22, in_cabin_class#23, ... 11 more fields]\\n                                                                              +- Project [market#0, out_origin_airport#1, out_destination_airport#2, out_departure_date#3L, in_departure_date#4L, pcc#5, gds#6, shop_req_timeStamp#7L, point_of_sale#8, currency#9, out_origin_city#10, out_destination_city#11, constricted_search#12, out_marketing_cxr#13, out_departure_time#14, out_flight_numbers#15, out_booking_class#16, out_cabin_class#17, out_num_stops#18, in_marketing_cxr#19, in_departure_time#20, in_flight_numbers#21, in_booking_class#22, in_cabin_class#23, ... 10 more fields]\\n                                                                                 +- SubqueryAlias `data`\\n                                                                                    +- Filter (fare_rank#27 = 1)\\n                                                                                       +- Relation[market#0,out_origin_airport#1,out_destination_airport#2,out_departure_date#3L,in_departure_date#4L,pcc#5,gds#6,shop_req_timeStamp#7L,point_of_sale#8,currency#9,out_origin_city#10,out_destination_city#11,constricted_search#12,out_marketing_cxr#13,out_departure_time#14,out_flight_numbers#15,out_booking_class#16,out_cabin_class#17,out_num_stops#18,in_marketing_cxr#19,in_departure_time#20,in_flight_numbers#21,in_booking_class#22,in_cabin_class#23,... 7 more fields] parquet\\n\"\n",
      "Traceback (most recent call last):\n",
      "  File \"<stdin>\", line 18, in apply_window_2\n",
      "  File \"/usr/lib/spark/python/lib/pyspark.zip/pyspark/sql/dataframe.py\", line 2000, in withColumn\n",
      "    return DataFrame(self._jdf.withColumn(colName, col._jc), self.sql_ctx)\n",
      "  File \"/usr/lib/spark/python/lib/py4j-0.10.7-src.zip/py4j/java_gateway.py\", line 1257, in __call__\n",
      "    answer, self.gateway_client, self.target_id, self.name)\n",
      "  File \"/usr/lib/spark/python/lib/pyspark.zip/pyspark/sql/utils.py\", line 69, in deco\n",
      "    raise AnalysisException(s.split(': ', 1)[1], stackTrace)\n",
      "pyspark.sql.utils.AnalysisException: \"cannot resolve '`market`' given input columns: [data.round_trip, out_cxr, count, pct_count];;\\n'Project [round_trip#25, out_cxr#2975, count#5162L, pct_count#5164, sum(pct_count#5164) windowspecdefinition('market, round_trip#25, pct_count#5164 DESC NULLS LAST, specifiedwindowframe(RowFrame, unboundedpreceding$(), currentrow$())) AS cum_pct#5193]\\n+- Aggregate [round_trip#25, out_cxr#2975], [round_trip#25, out_cxr#2975, sum(count#3250L) AS count#5162L, sum(pct_count#3487) AS pct_count#5164]\\n   +- Filter (market#0 = ATL-EWR)\\n      +- Filter (round_trip#25 = 0)\\n         +- Project [market#0, round_trip#25, days_til_dept#151, out_dt_dow_int#187, in_dt_dow_int#262, out_cxr#2975, count#3250L, count_market#3478L, pct_count#3487, cum_pct#3498]\\n            +- Project [market#0, round_trip#25, days_til_dept#151, out_dt_dow_int#187, in_dt_dow_int#262, out_cxr#2975, count#3250L, count_market#3478L, pct_count#3487, cum_pct#3498, cum_pct#3498]\\n               +- Window [sum(pct_count#3487) windowspecdefinition(market#0, round_trip#25, pct_count#3487 DESC NULLS LAST, specifiedwindowframe(RowFrame, unboundedpreceding$(), currentrow$())) AS cum_pct#3498], [market#0, round_trip#25], [pct_count#3487 DESC NULLS LAST]\\n                  +- Project [market#0, round_trip#25, days_til_dept#151, out_dt_dow_int#187, in_dt_dow_int#262, out_cxr#2975, count#3250L, count_market#3478L, pct_count#3487]\\n                     +- Project [market#0, round_trip#25, days_til_dept#151, out_dt_dow_int#187, in_dt_dow_int#262, out_cxr#2975, count#3250L, count_market#3478L, (cast(count#3250L as double) / cast(count_market#3478L as double)) AS pct_count#3487]\\n                        +- Project [market#0, round_trip#25, days_til_dept#151, out_dt_dow_int#187, in_dt_dow_int#262, out_cxr#2975, count#3250L, count_market#3478L]\\n                           +- Project [market#0, round_trip#25, days_til_dept#151, out_dt_dow_int#187, in_dt_dow_int#262, out_cxr#2975, count#3250L, count_market#3478L, count_market#3478L]\\n                              +- Window [sum(count#3250L) windowspecdefinition(market#0, round_trip#25, specifiedwindowframe(RowFrame, unboundedpreceding$(), unboundedfollowing$())) AS count_market#3478L], [market#0, round_trip#25]\\n                                 +- Project [market#0, round_trip#25, days_til_dept#151, out_dt_dow_int#187, in_dt_dow_int#262, out_cxr#2975, count#3250L]\\n                                    +- Aggregate [market#0, round_trip#25, days_til_dept#151, out_dt_dow_int#187, in_dt_dow_int#262, out_cxr#2975], [market#0, round_trip#25, days_til_dept#151, out_dt_dow_int#187, in_dt_dow_int#262, out_cxr#2975, count(1) AS count#3250L]\\n                                       +- Project [market#0, out_origin_airport#1, out_destination_airport#2, out_departure_date#3L, in_departure_date#4L, pcc#5, gds#6, shop_req_timeStamp#7L, point_of_sale#8, currency#9, out_origin_city#10, out_destination_city#11, constricted_search#12, out_marketing_cxr#13, out_departure_time#14, out_flight_numbers#15, out_booking_class#16, out_cabin_class#17, out_num_stops#18, in_marketing_cxr#19, in_departure_time#20, in_flight_numbers#21, in_booking_class#22, in_cabin_class#23, ... 21 more fields]\\n                                          +- Project [market#0, out_origin_airport#1, out_destination_airport#2, out_departure_date#3L, in_departure_date#4L, pcc#5, gds#6, shop_req_timeStamp#7L, point_of_sale#8, currency#9, out_origin_city#10, out_destination_city#11, constricted_search#12, out_marketing_cxr#13, out_departure_time#14, out_flight_numbers#15, out_booking_class#16, out_cabin_class#17, out_num_stops#18, in_marketing_cxr#19, in_departure_time#20, in_flight_numbers#21, in_booking_class#22, in_cabin_class#23, ... 20 more fields]\\n                                             +- Generate explode(out_unique_cxr#341), false, [out_cxr#2975]\\n                                                +- Project [market#0, out_origin_airport#1, out_destination_airport#2, out_departure_date#3L, in_departure_date#4L, pcc#5, gds#6, shop_req_timeStamp#7L, point_of_sale#8, currency#9, out_origin_city#10, out_destination_city#11, constricted_search#12, out_marketing_cxr#13, out_departure_time#14, out_flight_numbers#15, out_booking_class#16, out_cabin_class#17, out_num_stops#18, in_marketing_cxr#19, in_departure_time#20, in_flight_numbers#21, in_booking_class#22, in_cabin_class#23, ... 19 more fields]\\n                                                   +- Project [market#0, out_origin_airport#1, out_destination_airport#2, out_departure_date#3L, in_departure_date#4L, pcc#5, gds#6, shop_req_timeStamp#7L, point_of_sale#8, currency#9, out_origin_city#10, out_destination_city#11, constricted_search#12, out_marketing_cxr#13, out_departure_time#14, out_flight_numbers#15, out_booking_class#16, out_cabin_class#17, out_num_stops#18, in_marketing_cxr#19, in_departure_time#20, in_flight_numbers#21, in_booking_class#22, in_cabin_class#23, ... 18 more fields]\\n                                                      +- Project [market#0, out_origin_airport#1, out_destination_airport#2, out_departure_date#3L, in_departure_date#4L, pcc#5, gds#6, shop_req_timeStamp#7L, point_of_sale#8, currency#9, out_origin_city#10, out_destination_city#11, constricted_search#12, out_marketing_cxr#13, out_departure_time#14, out_flight_numbers#15, out_booking_class#16, out_cabin_class#17, out_num_stops#18, in_marketing_cxr#19, in_departure_time#20, in_flight_numbers#21, in_booking_class#22, in_cabin_class#23, ... 17 more fields]\\n                                                         +- Project [market#0, out_origin_airport#1, out_destination_airport#2, out_departure_date#3L, in_departure_date#4L, pcc#5, gds#6, shop_req_timeStamp#7L, point_of_sale#8, currency#9, out_origin_city#10, out_destination_city#11, constricted_search#12, out_marketing_cxr#13, out_departure_time#14, out_flight_numbers#15, out_booking_class#16, out_cabin_class#17, out_num_stops#18, in_marketing_cxr#19, in_departure_time#20, in_flight_numbers#21, in_booking_class#22, in_cabin_class#23, ... 16 more fields]\\n                                                            +- Filter (days_til_dept#151 > 0)\\n                                                               +- Project [market#0, out_origin_airport#1, out_destination_airport#2, out_departure_date#3L, in_departure_date#4L, pcc#5, gds#6, shop_req_timeStamp#7L, point_of_sale#8, currency#9, out_origin_city#10, out_destination_city#11, constricted_search#12, out_marketing_cxr#13, out_departure_time#14, out_flight_numbers#15, out_booking_class#16, out_cabin_class#17, out_num_stops#18, in_marketing_cxr#19, in_departure_time#20, in_flight_numbers#21, in_booking_class#22, in_cabin_class#23, ... 15 more fields]\\n                                                                  +- Project [market#0, out_origin_airport#1, out_destination_airport#2, out_departure_date#3L, in_departure_date#4L, pcc#5, gds#6, shop_req_timeStamp#7L, point_of_sale#8, currency#9, out_origin_city#10, out_destination_city#11, constricted_search#12, out_marketing_cxr#13, out_departure_time#14, out_flight_numbers#15, out_booking_class#16, out_cabin_class#17, out_num_stops#18, in_marketing_cxr#19, in_departure_time#20, in_flight_numbers#21, in_booking_class#22, in_cabin_class#23, ... 14 more fields]\\n                                                                     +- Project [market#0, out_origin_airport#1, out_destination_airport#2, out_departure_date#3L, in_departure_date#4L, pcc#5, gds#6, shop_req_timeStamp#7L, point_of_sale#8, currency#9, out_origin_city#10, out_destination_city#11, constricted_search#12, out_marketing_cxr#13, out_departure_time#14, out_flight_numbers#15, out_booking_class#16, out_cabin_class#17, out_num_stops#18, in_marketing_cxr#19, in_departure_time#20, in_flight_numbers#21, in_booking_class#22, in_cabin_class#23, ... 13 more fields]\\n                                                                        +- Project [market#0, out_origin_airport#1, out_destination_airport#2, out_departure_date#3L, in_departure_date#4L, pcc#5, gds#6, shop_req_timeStamp#7L, point_of_sale#8, currency#9, out_origin_city#10, out_destination_city#11, constricted_search#12, out_marketing_cxr#13, out_departure_time#14, out_flight_numbers#15, out_booking_class#16, out_cabin_class#17, out_num_stops#18, in_marketing_cxr#19, in_departure_time#20, in_flight_numbers#21, in_booking_class#22, in_cabin_class#23, ... 12 more fields]\\n                                                                           +- Project [market#0, out_origin_airport#1, out_destination_airport#2, out_departure_date#3L, in_departure_date#4L, pcc#5, gds#6, shop_req_timeStamp#7L, point_of_sale#8, currency#9, out_origin_city#10, out_destination_city#11, constricted_search#12, out_marketing_cxr#13, out_departure_time#14, out_flight_numbers#15, out_booking_class#16, out_cabin_class#17, out_num_stops#18, in_marketing_cxr#19, in_departure_time#20, in_flight_numbers#21, in_booking_class#22, in_cabin_class#23, ... 11 more fields]\\n                                                                              +- Project [market#0, out_origin_airport#1, out_destination_airport#2, out_departure_date#3L, in_departure_date#4L, pcc#5, gds#6, shop_req_timeStamp#7L, point_of_sale#8, currency#9, out_origin_city#10, out_destination_city#11, constricted_search#12, out_marketing_cxr#13, out_departure_time#14, out_flight_numbers#15, out_booking_class#16, out_cabin_class#17, out_num_stops#18, in_marketing_cxr#19, in_departure_time#20, in_flight_numbers#21, in_booking_class#22, in_cabin_class#23, ... 10 more fields]\\n                                                                                 +- SubqueryAlias `data`\\n                                                                                    +- Filter (fare_rank#27 = 1)\\n                                                                                       +- Relation[market#0,out_origin_airport#1,out_destination_airport#2,out_departure_date#3L,in_departure_date#4L,pcc#5,gds#6,shop_req_timeStamp#7L,point_of_sale#8,currency#9,out_origin_city#10,out_destination_city#11,constricted_search#12,out_marketing_cxr#13,out_departure_time#14,out_flight_numbers#15,out_booking_class#16,out_cabin_class#17,out_num_stops#18,in_marketing_cxr#19,in_departure_time#20,in_flight_numbers#21,in_booking_class#22,in_cabin_class#23,... 7 more fields] parquet\\n\"\n",
      "\n"
     ]
    }
   ],
   "source": [
    "cum_agg_df = apply_window_2(agg_df, w2)\n",
    "cum_agg_df.show(10)"
   ]
  },
  {
   "cell_type": "code",
   "execution_count": null,
   "id": "2318a22c-42f9-4b84-ab91-9c87787a4d3a",
   "metadata": {},
   "outputs": [],
   "source": [
    "(ow_out_cxr_crude\n",
    " .filter(F.col(\"market\") == market)\n",
    " .groupBy(\"\n",
    " .drop(\"count_market\").orderBy(F.desc(\"pct_count\")).show()\n",
    "    )"
   ]
  },
  {
   "cell_type": "code",
   "execution_count": null,
   "id": "6ce4390f-5a85-42d7-82b6-516749dac39a",
   "metadata": {},
   "outputs": [],
   "source": []
  },
  {
   "cell_type": "code",
   "execution_count": null,
   "id": "ce0c7e45-0647-4aea-b1b2-5b343ac037e5",
   "metadata": {},
   "outputs": [],
   "source": []
  },
  {
   "cell_type": "markdown",
   "id": "cab7770a-78f5-43e4-ba08-e7cd0534c06a",
   "metadata": {},
   "source": [
    "# Results by market"
   ]
  },
  {
   "cell_type": "markdown",
   "id": "fbc77244-acd9-4573-81d6-4f6dea985b9c",
   "metadata": {},
   "source": [
    "For market overview, we want to agg-out the DTD and DOW dimensions"
   ]
  },
  {
   "cell_type": "code",
   "execution_count": 32,
   "id": "aa5a6c20-83ba-42bb-80ac-0385dee6ffd7",
   "metadata": {
    "execution": {
     "iopub.execute_input": "2023-01-03T23:35:07.971779Z",
     "iopub.status.busy": "2023-01-03T23:35:07.971549Z",
     "iopub.status.idle": "2023-01-03T23:35:08.238333Z",
     "shell.execute_reply": "2023-01-03T23:35:08.237595Z",
     "shell.execute_reply.started": "2023-01-03T23:35:07.971755Z"
    },
    "tags": []
   },
   "outputs": [
    {
     "data": {
      "application/vnd.jupyter.widget-view+json": {
       "model_id": "042744fb81714f8b8816c8a4368802a4",
       "version_major": 2,
       "version_minor": 0
      },
      "text/plain": [
       "VBox()"
      ]
     },
     "metadata": {},
     "output_type": "display_data"
    },
    {
     "data": {
      "application/vnd.jupyter.widget-view+json": {
       "model_id": "",
       "version_major": 2,
       "version_minor": 0
      },
      "text/plain": [
       "FloatProgress(value=0.0, bar_style='info', description='Progress:', layout=Layout(height='25px', width='50%'),…"
      ]
     },
     "metadata": {},
     "output_type": "display_data"
    }
   ],
   "source": [
    "ow_out_cxr_crude_agg = (ow_out_cxr_crude\n",
    "                        .groupBy('market', 'round_trip', 'out_cxr')\n",
    "                        .agg(\n",
    "                             F.sum(\"count\").alias('count'),\n",
    "                             F.sum(\"pct_count\").alias('pct_count')\n",
    "                         )\n",
    "                        .withColumn(\"cum_pct\", F.sum(\"pct_count\").over(w2))\n",
    "                       )"
   ]
  },
  {
   "cell_type": "code",
   "execution_count": 33,
   "id": "ccfe8eb2-4dea-466f-89c7-551511f47801",
   "metadata": {
    "execution": {
     "iopub.execute_input": "2023-01-03T23:35:08.950913Z",
     "iopub.status.busy": "2023-01-03T23:35:08.950681Z",
     "iopub.status.idle": "2023-01-03T23:35:09.214205Z",
     "shell.execute_reply": "2023-01-03T23:35:09.213593Z",
     "shell.execute_reply.started": "2023-01-03T23:35:08.950890Z"
    },
    "tags": []
   },
   "outputs": [
    {
     "data": {
      "application/vnd.jupyter.widget-view+json": {
       "model_id": "1f63045cb2a14badb4da1c51e7bbaf15",
       "version_major": 2,
       "version_minor": 0
      },
      "text/plain": [
       "VBox()"
      ]
     },
     "metadata": {},
     "output_type": "display_data"
    },
    {
     "data": {
      "application/vnd.jupyter.widget-view+json": {
       "model_id": "",
       "version_major": 2,
       "version_minor": 0
      },
      "text/plain": [
       "FloatProgress(value=0.0, bar_style='info', description='Progress:', layout=Layout(height='25px', width='50%'),…"
      ]
     },
     "metadata": {},
     "output_type": "display_data"
    }
   ],
   "source": [
    "ow_out_cxr_nuanced_agg = (ow_out_cxr_nuanced\n",
    "                        .groupBy('market', 'round_trip', 'out_uni_cxr_concat')\n",
    "                        .agg(\n",
    "                             F.sum(\"count\").alias('count'),\n",
    "                             F.sum(\"pct_count\").alias('pct_count')\n",
    "                         )\n",
    "                        .withColumn(\"cum_pct\", F.sum(\"pct_count\").over(w2))\n",
    "                       )"
   ]
  },
  {
   "cell_type": "code",
   "execution_count": 34,
   "id": "b51e1fad-26a3-4ee5-8c94-ca98f17374e1",
   "metadata": {
    "execution": {
     "iopub.execute_input": "2023-01-03T23:35:13.966002Z",
     "iopub.status.busy": "2023-01-03T23:35:13.965772Z",
     "iopub.status.idle": "2023-01-03T23:35:14.235609Z",
     "shell.execute_reply": "2023-01-03T23:35:14.234848Z",
     "shell.execute_reply.started": "2023-01-03T23:35:13.965978Z"
    },
    "tags": []
   },
   "outputs": [
    {
     "data": {
      "application/vnd.jupyter.widget-view+json": {
       "model_id": "8b8196b86d784cd09d5c3ad919adca67",
       "version_major": 2,
       "version_minor": 0
      },
      "text/plain": [
       "VBox()"
      ]
     },
     "metadata": {},
     "output_type": "display_data"
    },
    {
     "data": {
      "application/vnd.jupyter.widget-view+json": {
       "model_id": "",
       "version_major": 2,
       "version_minor": 0
      },
      "text/plain": [
       "FloatProgress(value=0.0, bar_style='info', description='Progress:', layout=Layout(height='25px', width='50%'),…"
      ]
     },
     "metadata": {},
     "output_type": "display_data"
    }
   ],
   "source": [
    "rt_out_cxr_nuanced_agg = (rt_out_cxr_nuanced\n",
    "                        .groupBy('market', 'round_trip', 'out_uni_cxr_concat')\n",
    "                        .agg(\n",
    "                             F.sum(\"count\").alias('count'),\n",
    "                             F.sum(\"pct_count\").alias('pct_count')\n",
    "                         )\n",
    "                        .withColumn(\"cum_pct\", F.sum(\"pct_count\").over(w2))\n",
    "                       )"
   ]
  },
  {
   "cell_type": "code",
   "execution_count": 35,
   "id": "37256506-030e-48f4-bd6e-62ad53452cba",
   "metadata": {
    "execution": {
     "iopub.execute_input": "2023-01-03T23:35:16.446993Z",
     "iopub.status.busy": "2023-01-03T23:35:16.446640Z",
     "iopub.status.idle": "2023-01-03T23:35:16.718333Z",
     "shell.execute_reply": "2023-01-03T23:35:16.717545Z",
     "shell.execute_reply.started": "2023-01-03T23:35:16.446948Z"
    },
    "tags": []
   },
   "outputs": [
    {
     "data": {
      "application/vnd.jupyter.widget-view+json": {
       "model_id": "919445c5131844d28b6304eb4ba19f83",
       "version_major": 2,
       "version_minor": 0
      },
      "text/plain": [
       "VBox()"
      ]
     },
     "metadata": {},
     "output_type": "display_data"
    },
    {
     "data": {
      "application/vnd.jupyter.widget-view+json": {
       "model_id": "",
       "version_major": 2,
       "version_minor": 0
      },
      "text/plain": [
       "FloatProgress(value=0.0, bar_style='info', description='Progress:', layout=Layout(height='25px', width='50%'),…"
      ]
     },
     "metadata": {},
     "output_type": "display_data"
    }
   ],
   "source": [
    "rt_in_cxr_nuanced_agg = (rt_in_cxr_nuanced\n",
    "                        .groupBy('market', 'round_trip', 'in_uni_cxr_concat')\n",
    "                        .agg(\n",
    "                             F.sum(\"count\").alias('count'),\n",
    "                             F.sum(\"pct_count\").alias('pct_count')\n",
    "                         )\n",
    "                        .withColumn(\"cum_pct\", F.sum(\"pct_count\").over(w2))\n",
    "                       )"
   ]
  },
  {
   "cell_type": "code",
   "execution_count": 36,
   "id": "a5b19aff-7d70-456d-b785-a39262c39786",
   "metadata": {
    "execution": {
     "iopub.execute_input": "2023-01-03T23:35:19.149455Z",
     "iopub.status.busy": "2023-01-03T23:35:19.149185Z",
     "iopub.status.idle": "2023-01-03T23:35:19.411796Z",
     "shell.execute_reply": "2023-01-03T23:35:19.411089Z",
     "shell.execute_reply.started": "2023-01-03T23:35:19.149430Z"
    },
    "tags": []
   },
   "outputs": [
    {
     "data": {
      "application/vnd.jupyter.widget-view+json": {
       "model_id": "b14e9601f09f4164bc9a9528f0d93fe2",
       "version_major": 2,
       "version_minor": 0
      },
      "text/plain": [
       "VBox()"
      ]
     },
     "metadata": {},
     "output_type": "display_data"
    },
    {
     "data": {
      "application/vnd.jupyter.widget-view+json": {
       "model_id": "",
       "version_major": 2,
       "version_minor": 0
      },
      "text/plain": [
       "FloatProgress(value=0.0, bar_style='info', description='Progress:', layout=Layout(height='25px', width='50%'),…"
      ]
     },
     "metadata": {},
     "output_type": "display_data"
    }
   ],
   "source": [
    "rt_cxr_nuanced_agg = (rt_cxr_nuanced\n",
    "                        .groupBy('market', 'round_trip', 'rt_cxrs')\n",
    "                        .agg(\n",
    "                             F.sum(\"count\").alias('count'),\n",
    "                             F.sum(\"pct_count\").alias('pct_count')\n",
    "                         )\n",
    "                        .withColumn(\"cum_pct\", F.sum(\"pct_count\").over(w2))\n",
    "                       )"
   ]
  },
  {
   "cell_type": "code",
   "execution_count": 37,
   "id": "4c9d3ba0-5e0e-4b41-b0d1-ad194d0d6c7a",
   "metadata": {
    "execution": {
     "iopub.execute_input": "2023-01-03T23:35:20.791980Z",
     "iopub.status.busy": "2023-01-03T23:35:20.791728Z",
     "iopub.status.idle": "2023-01-03T23:35:21.067295Z",
     "shell.execute_reply": "2023-01-03T23:35:21.066699Z",
     "shell.execute_reply.started": "2023-01-03T23:35:20.791947Z"
    },
    "tags": []
   },
   "outputs": [
    {
     "data": {
      "application/vnd.jupyter.widget-view+json": {
       "model_id": "b4f4073de781430489dbbf3f033c0e17",
       "version_major": 2,
       "version_minor": 0
      },
      "text/plain": [
       "VBox()"
      ]
     },
     "metadata": {},
     "output_type": "display_data"
    },
    {
     "data": {
      "application/vnd.jupyter.widget-view+json": {
       "model_id": "",
       "version_major": 2,
       "version_minor": 0
      },
      "text/plain": [
       "FloatProgress(value=0.0, bar_style='info', description='Progress:', layout=Layout(height='25px', width='50%'),…"
      ]
     },
     "metadata": {},
     "output_type": "display_data"
    }
   ],
   "source": [
    "ow_out_fi_per_leg_agg = (ow_out_fi_per_leg\n",
    "                        .groupBy('market', 'round_trip', 'out_fi_leg')\n",
    "                        .agg(\n",
    "                             F.sum(\"count\").alias('count'),\n",
    "                             F.sum(\"pct_count\").alias('pct_count')\n",
    "                         )\n",
    "                        .withColumn(\"cum_pct\", F.sum(\"pct_count\").over(w2))\n",
    "                       )"
   ]
  },
  {
   "cell_type": "code",
   "execution_count": 38,
   "id": "238bf512-f836-4ddb-b6d5-d94ab5113cd1",
   "metadata": {
    "execution": {
     "iopub.execute_input": "2023-01-03T23:35:22.945019Z",
     "iopub.status.busy": "2023-01-03T23:35:22.944789Z",
     "iopub.status.idle": "2023-01-03T23:35:23.207906Z",
     "shell.execute_reply": "2023-01-03T23:35:23.207249Z",
     "shell.execute_reply.started": "2023-01-03T23:35:22.944997Z"
    },
    "tags": []
   },
   "outputs": [
    {
     "data": {
      "application/vnd.jupyter.widget-view+json": {
       "model_id": "c883cc7fb9294fae94373edcd31645a4",
       "version_major": 2,
       "version_minor": 0
      },
      "text/plain": [
       "VBox()"
      ]
     },
     "metadata": {},
     "output_type": "display_data"
    },
    {
     "data": {
      "application/vnd.jupyter.widget-view+json": {
       "model_id": "",
       "version_major": 2,
       "version_minor": 0
      },
      "text/plain": [
       "FloatProgress(value=0.0, bar_style='info', description='Progress:', layout=Layout(height='25px', width='50%'),…"
      ]
     },
     "metadata": {},
     "output_type": "display_data"
    }
   ],
   "source": [
    "rt_out_fi_per_leg_agg = (rt_out_fi_per_leg\n",
    "                        .groupBy('market', 'round_trip', 'out_fi_leg')\n",
    "                        .agg(\n",
    "                             F.sum(\"count\").alias('count'),\n",
    "                             F.sum(\"pct_count\").alias('pct_count')\n",
    "                         )\n",
    "                        .withColumn(\"cum_pct\", F.sum(\"pct_count\").over(w2))\n",
    "                       )"
   ]
  },
  {
   "cell_type": "code",
   "execution_count": 39,
   "id": "dcf8a105-8805-4e8c-a30d-add17781cf41",
   "metadata": {
    "execution": {
     "iopub.execute_input": "2023-01-03T23:35:24.996029Z",
     "iopub.status.busy": "2023-01-03T23:35:24.995795Z",
     "iopub.status.idle": "2023-01-03T23:35:25.261859Z",
     "shell.execute_reply": "2023-01-03T23:35:25.261096Z",
     "shell.execute_reply.started": "2023-01-03T23:35:24.996005Z"
    },
    "tags": []
   },
   "outputs": [
    {
     "data": {
      "application/vnd.jupyter.widget-view+json": {
       "model_id": "c07091bdd706450eb74201551d812935",
       "version_major": 2,
       "version_minor": 0
      },
      "text/plain": [
       "VBox()"
      ]
     },
     "metadata": {},
     "output_type": "display_data"
    },
    {
     "data": {
      "application/vnd.jupyter.widget-view+json": {
       "model_id": "",
       "version_major": 2,
       "version_minor": 0
      },
      "text/plain": [
       "FloatProgress(value=0.0, bar_style='info', description='Progress:', layout=Layout(height='25px', width='50%'),…"
      ]
     },
     "metadata": {},
     "output_type": "display_data"
    }
   ],
   "source": [
    "rt_in_fi_per_leg_agg = (rt_in_fi_per_leg\n",
    "                        .groupBy('market', 'round_trip', 'in_fi_leg')\n",
    "                        .agg(\n",
    "                             F.sum(\"count\").alias('count'),\n",
    "                             F.sum(\"pct_count\").alias('pct_count')\n",
    "                         )\n",
    "                        .withColumn(\"cum_pct\", F.sum(\"pct_count\").over(w2))\n",
    "                       )"
   ]
  },
  {
   "cell_type": "code",
   "execution_count": 40,
   "id": "0bcf501d-1dff-4ccb-8ae7-f115fc1bbf03",
   "metadata": {
    "execution": {
     "iopub.execute_input": "2023-01-03T23:35:26.301422Z",
     "iopub.status.busy": "2023-01-03T23:35:26.301161Z",
     "iopub.status.idle": "2023-01-03T23:35:26.571827Z",
     "shell.execute_reply": "2023-01-03T23:35:26.571207Z",
     "shell.execute_reply.started": "2023-01-03T23:35:26.301398Z"
    },
    "tags": []
   },
   "outputs": [
    {
     "data": {
      "application/vnd.jupyter.widget-view+json": {
       "model_id": "6d64a7c7ebe0461c8e71dd0e7db7d52e",
       "version_major": 2,
       "version_minor": 0
      },
      "text/plain": [
       "VBox()"
      ]
     },
     "metadata": {},
     "output_type": "display_data"
    },
    {
     "data": {
      "application/vnd.jupyter.widget-view+json": {
       "model_id": "",
       "version_major": 2,
       "version_minor": 0
      },
      "text/plain": [
       "FloatProgress(value=0.0, bar_style='info', description='Progress:', layout=Layout(height='25px', width='50%'),…"
      ]
     },
     "metadata": {},
     "output_type": "display_data"
    }
   ],
   "source": [
    "ow_out_fi_one_str_agg = (ow_out_fi_one_str\n",
    "                        .groupBy('market', 'round_trip', 'out_fi_itin')\n",
    "                        .agg(\n",
    "                             F.sum(\"count\").alias('count'),\n",
    "                             F.sum(\"pct_count\").alias('pct_count')\n",
    "                         )\n",
    "                        .withColumn(\"cum_pct\", F.sum(\"pct_count\").over(w2))\n",
    "                       )"
   ]
  },
  {
   "cell_type": "code",
   "execution_count": 41,
   "id": "11933b8f-9df2-4054-8219-7cc6650f94c0",
   "metadata": {
    "execution": {
     "iopub.execute_input": "2023-01-03T23:35:27.618732Z",
     "iopub.status.busy": "2023-01-03T23:35:27.618482Z",
     "iopub.status.idle": "2023-01-03T23:35:27.888536Z",
     "shell.execute_reply": "2023-01-03T23:35:27.887827Z",
     "shell.execute_reply.started": "2023-01-03T23:35:27.618707Z"
    },
    "tags": []
   },
   "outputs": [
    {
     "data": {
      "application/vnd.jupyter.widget-view+json": {
       "model_id": "111d5e81198248fe80c8843619511419",
       "version_major": 2,
       "version_minor": 0
      },
      "text/plain": [
       "VBox()"
      ]
     },
     "metadata": {},
     "output_type": "display_data"
    },
    {
     "data": {
      "application/vnd.jupyter.widget-view+json": {
       "model_id": "",
       "version_major": 2,
       "version_minor": 0
      },
      "text/plain": [
       "FloatProgress(value=0.0, bar_style='info', description='Progress:', layout=Layout(height='25px', width='50%'),…"
      ]
     },
     "metadata": {},
     "output_type": "display_data"
    }
   ],
   "source": [
    "rt_out_fi_one_str_agg = (rt_out_fi_one_str\n",
    "                        .groupBy('market', 'round_trip', 'out_fi_itin')\n",
    "                        .agg(\n",
    "                             F.sum(\"count\").alias('count'),\n",
    "                             F.sum(\"pct_count\").alias('pct_count')\n",
    "                         )\n",
    "                        .withColumn(\"cum_pct\", F.sum(\"pct_count\").over(w2))\n",
    "                       )"
   ]
  },
  {
   "cell_type": "code",
   "execution_count": 42,
   "id": "f56c8977-fec0-448d-bcfc-1461f07d9bc1",
   "metadata": {
    "execution": {
     "iopub.execute_input": "2023-01-03T23:35:33.281390Z",
     "iopub.status.busy": "2023-01-03T23:35:33.281135Z",
     "iopub.status.idle": "2023-01-03T23:35:33.545344Z",
     "shell.execute_reply": "2023-01-03T23:35:33.544740Z",
     "shell.execute_reply.started": "2023-01-03T23:35:33.281366Z"
    },
    "tags": []
   },
   "outputs": [
    {
     "data": {
      "application/vnd.jupyter.widget-view+json": {
       "model_id": "b3cd436234784b38b174cd57a0fffc89",
       "version_major": 2,
       "version_minor": 0
      },
      "text/plain": [
       "VBox()"
      ]
     },
     "metadata": {},
     "output_type": "display_data"
    },
    {
     "data": {
      "application/vnd.jupyter.widget-view+json": {
       "model_id": "",
       "version_major": 2,
       "version_minor": 0
      },
      "text/plain": [
       "FloatProgress(value=0.0, bar_style='info', description='Progress:', layout=Layout(height='25px', width='50%'),…"
      ]
     },
     "metadata": {},
     "output_type": "display_data"
    }
   ],
   "source": [
    "rt_in_fi_one_str_agg = (rt_in_fi_one_str\n",
    "                        .groupBy('market', 'round_trip', 'in_fi_itin')\n",
    "                        .agg(\n",
    "                             F.sum(\"count\").alias('count'),\n",
    "                             F.sum(\"pct_count\").alias('pct_count')\n",
    "                         )\n",
    "                        .withColumn(\"cum_pct\", F.sum(\"pct_count\").over(w2))\n",
    "                       )"
   ]
  },
  {
   "cell_type": "code",
   "execution_count": 43,
   "id": "ee2fb4cc-a903-435a-bfcc-381f780eb1bc",
   "metadata": {
    "execution": {
     "iopub.execute_input": "2023-01-03T23:35:34.908410Z",
     "iopub.status.busy": "2023-01-03T23:35:34.908183Z",
     "iopub.status.idle": "2023-01-03T23:35:35.169038Z",
     "shell.execute_reply": "2023-01-03T23:35:35.168331Z",
     "shell.execute_reply.started": "2023-01-03T23:35:34.908386Z"
    },
    "tags": []
   },
   "outputs": [
    {
     "data": {
      "application/vnd.jupyter.widget-view+json": {
       "model_id": "1b08c66b3d944908a2b710b5e34b9833",
       "version_major": 2,
       "version_minor": 0
      },
      "text/plain": [
       "VBox()"
      ]
     },
     "metadata": {},
     "output_type": "display_data"
    },
    {
     "data": {
      "application/vnd.jupyter.widget-view+json": {
       "model_id": "",
       "version_major": 2,
       "version_minor": 0
      },
      "text/plain": [
       "FloatProgress(value=0.0, bar_style='info', description='Progress:', layout=Layout(height='25px', width='50%'),…"
      ]
     },
     "metadata": {},
     "output_type": "display_data"
    }
   ],
   "source": [
    "rt_fi_one_str_agg = (rt_fi_one_str\n",
    "                        .groupBy('market', 'round_trip', 'rt_fi_itin')\n",
    "                        .agg(\n",
    "                             F.sum(\"count\").alias('count'),\n",
    "                             F.sum(\"pct_count\").alias('pct_count')\n",
    "                         )\n",
    "                        .withColumn(\"cum_pct\", F.sum(\"pct_count\").over(w2))\n",
    "                       )"
   ]
  },
  {
   "cell_type": "code",
   "execution_count": 44,
   "id": "0cd0714d-76e5-4f7b-81d9-d7100c86fefa",
   "metadata": {
    "execution": {
     "iopub.execute_input": "2023-01-03T23:35:35.852384Z",
     "iopub.status.busy": "2023-01-03T23:35:35.852134Z",
     "iopub.status.idle": "2023-01-03T23:35:35.914268Z",
     "shell.execute_reply": "2023-01-03T23:35:35.913600Z",
     "shell.execute_reply.started": "2023-01-03T23:35:35.852359Z"
    },
    "tags": []
   },
   "outputs": [
    {
     "data": {
      "application/vnd.jupyter.widget-view+json": {
       "model_id": "403d85380eb8416b9fb787df7278c4cb",
       "version_major": 2,
       "version_minor": 0
      },
      "text/plain": [
       "VBox()"
      ]
     },
     "metadata": {},
     "output_type": "display_data"
    },
    {
     "data": {
      "application/vnd.jupyter.widget-view+json": {
       "model_id": "",
       "version_major": 2,
       "version_minor": 0
      },
      "text/plain": [
       "FloatProgress(value=0.0, bar_style='info', description='Progress:', layout=Layout(height='25px', width='50%'),…"
      ]
     },
     "metadata": {},
     "output_type": "display_data"
    }
   ],
   "source": [
    "def show_market_analysis(market):\n",
    "    # For market overview, we want to agg-out the DTD and DOW dimensions\n",
    "    \n",
    "    print(\"Carriers - any leg - one-way\")\n",
    "    (ow_out_cxr_crude_agg\n",
    "     .filter(F.col(\"market\") == market)\n",
    "     .orderBy(F.desc(\"pct_count\")).show()\n",
    "    )\n",
    "    \n",
    "    # print(\"Carriers - any leg - Round-trip\")\n",
    "    # same_cxr_crude.filter(F.col(\"market\") == market).drop(\"count_market\").orderBy(F.desc(\"pct_count\")).show()\n",
    "    \n",
    "    print(\"Carriers - incl. interline - one-way (out-bound)\")\n",
    "    (ow_out_cxr_nuanced_agg\n",
    "     .filter(F.col(\"market\") == market)\n",
    "     .orderBy(F.desc(\"pct_count\"))\n",
    "     .show()\n",
    "    )\n",
    "\n",
    "    print(\"Carriers - incl. interline - round-trip, out-bound\")\n",
    "    (rt_out_cxr_nuanced_agg\n",
    "     .filter(F.col(\"market\") == market)\n",
    "     .orderBy(F.desc(\"pct_count\"))\n",
    "     .show()\n",
    "    )\n",
    "\n",
    "    print(\"Carriers - incl. interline - round-trip, in-bound\")\n",
    "    (rt_in_cxr_nuanced_agg\n",
    "     .filter(F.col(\"market\") == market)\n",
    "     .orderBy(F.desc(\"pct_count\"))\n",
    "     .show()\n",
    "    )\n",
    "    \n",
    "    print(\"Carriers - incl. interline - round-trip\")\n",
    "    (rt_cxr_nuanced_agg\n",
    "     .filter(F.col(\"market\") == market)\n",
    "     .orderBy(F.desc(\"pct_count\"))\n",
    "     .show()\n",
    "    )  \n",
    "    \n",
    "    print(\"Individual Legs - one-way (out-bound)\")\n",
    "    (ow_out_fi_per_leg_agg\n",
    "     .filter(F.col(\"market\") == market)\n",
    "     .orderBy(F.desc(\"count\"))\n",
    "     .show()\n",
    "    )\n",
    "    \n",
    "    print(\"Individual Legs - round-trip, out-bound\")\n",
    "    (rt_out_fi_per_leg_agg\n",
    "     .filter(F.col(\"market\") == market)\n",
    "     .orderBy(F.desc(\"count\"))\n",
    "     .show()\n",
    "    )\n",
    "    \n",
    "    print(\"Individual Legs - round-trip, in-bound\")\n",
    "    (rt_in_fi_per_leg_agg\n",
    "     .filter(F.col(\"market\") == market)\n",
    "     .orderBy(F.desc(\"count\"))\n",
    "     .show()\n",
    "    )\n",
    "    \n",
    "    print(\"Itineraries - one-way (out-bound)\")\n",
    "    (ow_out_fi_one_str_agg\n",
    "     .filter(F.col(\"market\") == market)\n",
    "     .orderBy(F.desc(\"pct_count\"))\n",
    "     .show()\n",
    "    )\n",
    "\n",
    "    print(\"Itineraries - round-trip, out-bound\")\n",
    "    (rt_out_fi_one_str_agg\n",
    "     .filter(F.col(\"market\") == market)\n",
    "     .orderBy(F.desc(\"pct_count\"))\n",
    "     .show(truncate=False)\n",
    "    )\n",
    "    \n",
    "    print(\"Itineraries - round-trip, in-bound\")\n",
    "    (rt_in_fi_one_str_agg\n",
    "     .filter(F.col(\"market\") == market)\n",
    "     .orderBy(F.desc(\"pct_count\"))\n",
    "     .show(truncate=False)\n",
    "    )\n",
    "    \n",
    "    print(\"Itineraries - round-trip, out+in\")\n",
    "    (rt_fi_one_str_agg\n",
    "     .filter(F.col(\"market\") == market)\n",
    "     .orderBy(F.desc(\"pct_count\"))\n",
    "     .show(truncate=False)\n",
    "    )\n",
    "    "
   ]
  },
  {
   "cell_type": "markdown",
   "id": "e8e221e1-9879-49f6-a66f-8200c85f946d",
   "metadata": {},
   "source": [
    "## JFK-LHR"
   ]
  },
  {
   "cell_type": "code",
   "execution_count": 92,
   "id": "c63ac832-f04e-4311-b375-172661da20c7",
   "metadata": {
    "execution": {
     "iopub.execute_input": "2023-01-03T21:36:24.758731Z",
     "iopub.status.busy": "2023-01-03T21:36:24.758495Z",
     "iopub.status.idle": "2023-01-03T21:40:57.292255Z",
     "shell.execute_reply": "2023-01-03T21:40:57.291538Z",
     "shell.execute_reply.started": "2023-01-03T21:36:24.758696Z"
    },
    "tags": []
   },
   "outputs": [
    {
     "data": {
      "application/vnd.jupyter.widget-view+json": {
       "model_id": "",
       "version_major": 2,
       "version_minor": 0
      },
      "text/plain": [
       "VBox()"
      ]
     },
     "metadata": {},
     "output_type": "display_data"
    },
    {
     "data": {
      "application/vnd.jupyter.widget-view+json": {
       "model_id": "",
       "version_major": 2,
       "version_minor": 0
      },
      "text/plain": [
       "FloatProgress(value=0.0, bar_style='info', description='Progress:', layout=Layout(height='25px', width='50%'),…"
      ]
     },
     "metadata": {},
     "output_type": "display_data"
    },
    {
     "name": "stdout",
     "output_type": "stream",
     "text": [
      "Carriers - any leg - one-way\n",
      "+-------+----------+-------+-------+--------------------+------------------+\n",
      "| market|round_trip|out_cxr|  count|           pct_count|           cum_pct|\n",
      "+-------+----------+-------+-------+--------------------+------------------+\n",
      "|JFK-LHR|         0|     TP|1553417|  0.8271814582175185|0.8271814582175185|\n",
      "|JFK-LHR|         0|     DL| 125581| 0.06687082393485705|0.8940522821523755|\n",
      "|JFK-LHR|         0|     VS| 119529| 0.06364818494923222|0.9577004671016077|\n",
      "|JFK-LHR|         0|     WS|  47143| 0.02510325011555064|0.9828037172171583|\n",
      "|JFK-LHR|         0|     FI|  22945|0.012218019088757887|0.9950217363059162|\n",
      "|JFK-LHR|         0|     SK|   1847|9.835119310061336E-4|0.9960052482369223|\n",
      "|JFK-LHR|         0|     TK|   1584|8.434666479229633E-4|0.9968487148848453|\n",
      "|JFK-LHR|         0|     AF|   1221|6.501722077739509E-4|0.9974988870926192|\n",
      "|JFK-LHR|         0|     AZ|   1148|6.113003231158851E-4|0.9981101874157351|\n",
      "|JFK-LHR|         0|     JU|    718|3.823289477327574E-4|0.9984925163634678|\n",
      "|JFK-LHR|         0|     LH|    682|3.631592511890537E-4|0.9992188348658458|\n",
      "|JFK-LHR|         0|     DE|    682|3.631592511890537E-4|0.9988556756146568|\n",
      "|JFK-LHR|         0|     EI|    528|2.811555493076544...|0.9994999904151535|\n",
      "|JFK-LHR|         0|     KL|    366|1.948919148609877...|0.9996948823300145|\n",
      "|JFK-LHR|         0|     BA|    293|1.560200302029218...|0.9998509023602173|\n",
      "|JFK-LHR|         0|     B6|    183|9.744595743049387E-5|0.9999483483176478|\n",
      "|JFK-LHR|         0|     S4|     83|4.419680036465022E-5|0.9999925451180124|\n",
      "|JFK-LHR|         0|     LX|     10|5.324915706584365E-6| 0.999997870033719|\n",
      "|JFK-LHR|         0|     AA|      2|1.064983141316873E-6|0.9999989350168603|\n",
      "|JFK-LHR|         0|     AT|      2|1.064983141316873E-6|1.0000000000000016|\n",
      "+-------+----------+-------+-------+--------------------+------------------+\n",
      "\n",
      "Carriers - incl. interline - one-way (out-bound)\n",
      "+-------+----------+------------------+-------+--------------------+------------------+\n",
      "| market|round_trip|out_uni_cxr_concat|  count|           pct_count|           cum_pct|\n",
      "+-------+----------+------------------+-------+--------------------+------------------+\n",
      "|JFK-LHR|         0|                TP|1553369|  0.8271558986221252|0.8271558986221252|\n",
      "|JFK-LHR|         0|                DL| 123573| 0.06580158086097498|0.8929574794831002|\n",
      "|JFK-LHR|         0|                VS| 117521| 0.06257894187535004|0.9555364213584503|\n",
      "|JFK-LHR|         0|                WS|  47143|0.025103250115550608|0.9806396714740009|\n",
      "|JFK-LHR|         0|                FI|  22945|0.012218019088757888|0.9928576905627587|\n",
      "|JFK-LHR|         0|             DL-VS|   4016|0.002138486147764...| 0.994996176710523|\n",
      "|JFK-LHR|         0|                SK|   1847|9.835119310061342E-4|0.9959796886415291|\n",
      "|JFK-LHR|         0|                TK|   1584|8.434666479229634E-4|0.9968231552894521|\n",
      "|JFK-LHR|         0|             DE-LH|   1364|7.263185023781074E-4|0.9975494737918302|\n",
      "|JFK-LHR|         0|                AF|   1221|6.501722077739509E-4|0.9981996459996042|\n",
      "|JFK-LHR|         0|                AZ|   1148|6.113003231158851E-4|  0.99881094632272|\n",
      "|JFK-LHR|         0|                JU|    718|3.823289477327574E-4|0.9991932752704528|\n",
      "|JFK-LHR|         0|                EI|    528|2.811555493076544...|0.9994744308197604|\n",
      "|JFK-LHR|         0|                KL|    366|1.948919148609878E-4|0.9996693227346214|\n",
      "|JFK-LHR|         0|                BA|    293|1.560200302029218...|0.9998253427648243|\n",
      "|JFK-LHR|         0|                B6|    135|7.188636203888892E-5|0.9998972291268632|\n",
      "|JFK-LHR|         0|             B6-TP|     96| 5.11191907832099E-5|0.9999483483176463|\n",
      "|JFK-LHR|         0|                S4|     83|4.419680036465021...| 0.999992545118011|\n",
      "|JFK-LHR|         0|                LX|     10|5.324915706584365E-6|0.9999978700337175|\n",
      "|JFK-LHR|         0|                AA|      2|1.064983141316873E-6|0.9999989350168589|\n",
      "+-------+----------+------------------+-------+--------------------+------------------+\n",
      "only showing top 20 rows\n",
      "\n",
      "Carriers - incl. interline - round-trip, out-bound\n",
      "+-------+----------+------------------+------+--------------------+-------------------+\n",
      "| market|round_trip|out_uni_cxr_concat| count|           pct_count|            cum_pct|\n",
      "+-------+----------+------------------+------+--------------------+-------------------+\n",
      "|JFK-LHR|         1|                VS|865455| 0.21661437282936202|0.21661437282936202|\n",
      "|JFK-LHR|         1|                FI|793879| 0.19869964548982888| 0.4153140183191909|\n",
      "|JFK-LHR|         1|                DL|787099| 0.19700268210319302|  0.612316700422384|\n",
      "|JFK-LHR|         1|                AA|556141| 0.13919630011923798|  0.751513000541622|\n",
      "|JFK-LHR|         1|                AY|295507| 0.07396232440934232| 0.8254753249509643|\n",
      "|JFK-LHR|         1|                TP|163856| 0.04101145024793725| 0.8664867751989016|\n",
      "|JFK-LHR|         1|                EI|157422| 0.03940108705772602| 0.9058878622566277|\n",
      "|JFK-LHR|         1|                SK| 85601|0.021425038769856762| 0.9273129010264844|\n",
      "|JFK-LHR|         1|                B6| 54380|0.013610747635013843| 0.9409236486614982|\n",
      "|JFK-LHR|         1|                BA| 54266|0.013582214622317937| 0.9545058632838161|\n",
      "|JFK-LHR|         1|                IB| 36642| 0.00917111097539848| 0.9636769742592146|\n",
      "|JFK-LHR|         1|                LX| 27251|0.006820641482194866| 0.9704976157414095|\n",
      "|JFK-LHR|         1|             AA-AY| 25648|0.006419427277359932| 0.9769170430187694|\n",
      "|JFK-LHR|         1|                TK| 16441|0.004115011067805446| 0.9810320540865748|\n",
      "|JFK-LHR|         1|                AZ| 10468|0.002620031376302...| 0.9836520854628772|\n",
      "|JFK-LHR|         1|                AF|  8446|0.002113945835331493| 0.9857660312982087|\n",
      "|JFK-LHR|         1|                AC|  7676|0.001921222854843...| 0.9876872541530518|\n",
      "|JFK-LHR|         1|             DL-VS|  6498|0.001626381723654...| 0.9893136358767061|\n",
      "|JFK-LHR|         1|                AT|  5280|0.001321529009063497| 0.9906351648857695|\n",
      "|JFK-LHR|         1|                KL|  5162|0.001291994838027...| 0.9919271597237971|\n",
      "+-------+----------+------------------+------+--------------------+-------------------+\n",
      "only showing top 20 rows\n",
      "\n",
      "Carriers - incl. interline - round-trip, in-bound\n",
      "+-------+----------+-----------------+------+--------------------+-------------------+\n",
      "| market|round_trip|in_uni_cxr_concat| count|           pct_count|            cum_pct|\n",
      "+-------+----------+-----------------+------+--------------------+-------------------+\n",
      "|JFK-LHR|         1|               VS|869754| 0.21560975198608773|0.21560975198608773|\n",
      "|JFK-LHR|         1|               FI|793887| 0.19680252022408692| 0.4124122722101746|\n",
      "|JFK-LHR|         1|               DL|775297| 0.19219410762762879| 0.6046063798378034|\n",
      "|JFK-LHR|         1|               AA|551143| 0.13662691466652652|   0.74123329450433|\n",
      "|JFK-LHR|         1|               AY|220725| 0.05471715278932955| 0.7959504472936595|\n",
      "|JFK-LHR|         1|               TP|163873|0.040623690017197116| 0.8365741373108566|\n",
      "|JFK-LHR|         1|               EI|157422| 0.03902450391392811| 0.8755986412247847|\n",
      "|JFK-LHR|         1|               SK| 85601|0.021220265017190598| 0.8968189062419754|\n",
      "|JFK-LHR|         1|               IB| 82762| 0.02051648430921033| 0.9173353905511857|\n",
      "|JFK-LHR|         1|               B6| 54380|0.013480660408579453| 0.9308160509597652|\n",
      "|JFK-LHR|         1|            BA-AY| 51078| 0.01266210320613119| 0.9434781541658963|\n",
      "|JFK-LHR|         1|               BA| 48018|0.011903537173577722|  0.955381691339474|\n",
      "|JFK-LHR|         1|            IB-AY| 46010| 0.01140575920188922| 0.9667874505413633|\n",
      "|JFK-LHR|         1|               LX| 17453|0.004326553256913162| 0.9711140037982764|\n",
      "|JFK-LHR|         1|               TK| 16441|0.004075681091898775| 0.9751896848901752|\n",
      "|JFK-LHR|         1|               AZ| 16332|0.004048660275706508| 0.9792383451658817|\n",
      "|JFK-LHR|         1|            IB-AA| 12154|0.003012944954135259|  0.982251290120017|\n",
      "|JFK-LHR|         1|               LH| 10749|0.002664649112390952| 0.9849159392324079|\n",
      "|JFK-LHR|         1|               AF|  9471|0.002347836239971...| 0.9872637754723795|\n",
      "|JFK-LHR|         1|               UA|  8859|0.002196123033460894| 0.9894598985058404|\n",
      "+-------+----------+-----------------+------+--------------------+-------------------+\n",
      "only showing top 20 rows\n",
      "\n",
      "Carriers - incl. interline - round-trip\n",
      "+-------+----------+-------+------+--------------------+-------------------+\n",
      "| market|round_trip|rt_cxrs| count|           pct_count|            cum_pct|\n",
      "+-------+----------+-------+------+--------------------+-------------------+\n",
      "|JFK-LHR|         1|  FI_FI|793877| 0.19999254320344956|0.19999254320344956|\n",
      "|JFK-LHR|         1|  VS_VS|501473| 0.12633047766576289|0.32632302086921244|\n",
      "|JFK-LHR|         1|  DL_DL|417110|  0.1050778517271445|0.43140087259635695|\n",
      "|JFK-LHR|         1|  AA_AA|410316| 0.10336631538269438| 0.5347671879790513|\n",
      "|JFK-LHR|         1|  DL_VS|363993| 0.09169668069266772|  0.626463868671719|\n",
      "|JFK-LHR|         1|  VS_DL|354389| 0.08927725251308062| 0.7157411211847996|\n",
      "|JFK-LHR|         1|  TP_TP|163856| 0.04127840730886998| 0.7570195284936696|\n",
      "|JFK-LHR|         1|  EI_EI|157422|0.039657561733332396|  0.796677090227002|\n",
      "|JFK-LHR|         1|  AY_AY|126191| 0.03178988561122935| 0.8284669758382313|\n",
      "|JFK-LHR|         1|  AY_AA|119892|0.030203049074034316| 0.8586700249122656|\n",
      "|JFK-LHR|         1|  SK_SK| 85601|0.021564501416161466| 0.8802345263284271|\n",
      "|JFK-LHR|         1|  AA_AY| 85329|0.021495979501870256| 0.9017305058302973|\n",
      "|JFK-LHR|         1|  B6_B6| 54380|0.013699344482083573| 0.9154298503123809|\n",
      "|JFK-LHR|         1|  AA_IB| 23474|0.005913541970806158| 0.9213433922831871|\n",
      "|JFK-LHR|         1|  IB_IB| 22511|0.005670944163960...| 0.9270143364471479|\n",
      "|JFK-LHR|         1|  BA_BA| 19891|0.005010916901308049|  0.932025253348456|\n",
      "|JFK-LHR|         1|  AY_IB| 18719|0.004715668064732062| 0.9367409214131881|\n",
      "|JFK-LHR|         1|  LX_LX| 17391|0.004381119894959935|  0.941122041308148|\n",
      "|JFK-LHR|         1|  TK_TK| 16441|0.004141797032547668| 0.9452638383406957|\n",
      "|JFK-LHR|         1|  BA_IB| 15813|0.003983592024552992| 0.9492474303652487|\n",
      "+-------+----------+-------+------+--------------------+-------------------+\n",
      "only showing top 20 rows\n",
      "\n",
      "Individual Legs - one-way (out-bound)\n",
      "+-------+----------+----------+-------+--------------------+------------------+\n",
      "| market|round_trip|out_fi_leg|  count|           pct_count|           cum_pct|\n",
      "+-------+----------+----------+-------+--------------------+------------------+\n",
      "|JFK-LHR|         0|    TP-210|1142859|  0.3234933553966227|0.3234933553966227|\n",
      "|JFK-LHR|         0|   TP-1356| 495204| 0.14017057534291574|0.4636639307395385|\n",
      "|JFK-LHR|         0|    TP-208| 409557|  0.1159276587542073|0.5795915894937458|\n",
      "|JFK-LHR|         0|   TP-1358| 304164| 0.08609551392679102|0.6656871034205368|\n",
      "|JFK-LHR|         0|   TP-1366| 224501| 0.06354640579450078|0.7292335092150376|\n",
      "|JFK-LHR|         0|   TP-1364| 222854| 0.06308021219026946|0.7923137214053071|\n",
      "|JFK-LHR|         0|   TP-1368| 182186|0.051568881591070384|0.8438826029963775|\n",
      "|JFK-LHR|         0|   TP-1350| 124485| 0.03523625429431684|0.8791188572906944|\n",
      "|JFK-LHR|         0|   WS-1681|  47143|0.013344119662585644|  0.89246297695328|\n",
      "|JFK-LHR|         0|     WS-18|  47143|0.013344119662585644|0.9058070966158657|\n",
      "|JFK-LHR|         0|     VS-26|  23959|0.006781744118870027|0.9125888407347357|\n",
      "|JFK-LHR|         0|   DL-5996|  22949|0.006495857330604294|  0.91908469806534|\n",
      "|JFK-LHR|         0|     VS-10|  20968| 0.00593512294688705| 0.925019821012227|\n",
      "|JFK-LHR|         0|      VS-4|  19791|0.005601965768878363|0.9306217867811054|\n",
      "|JFK-LHR|         0|   DL-5990|  19495|0.005518181125980682|0.9361399679070861|\n",
      "|JFK-LHR|         0|   DL-5994|  18906|0.005351461008863...|0.9414914289159494|\n",
      "|JFK-LHR|         0|    VS-138|  18435|0.005218141526414666| 0.946709570442364|\n",
      "|JFK-LHR|         0|   DL-5988|  17636|0.004991979601836129|0.9517015500442002|\n",
      "|JFK-LHR|         0|      DL-1|  17437|0.004935651412860...|0.9566372014570612|\n",
      "|JFK-LHR|         0|      DL-3|  15415| 0.00436331172387752|0.9610005131809387|\n",
      "+-------+----------+----------+-------+--------------------+------------------+\n",
      "only showing top 20 rows\n",
      "\n",
      "Individual Legs - round-trip, out-bound\n",
      "+-------+----------+----------+------+--------------------+-------------------+\n",
      "| market|round_trip|out_fi_leg| count|           pct_count|            cum_pct|\n",
      "+-------+----------+----------+------+--------------------+-------------------+\n",
      "|JFK-LHR|         1|    FI-614|596005| 0.10972455134356932|0.10972455134356932|\n",
      "|JFK-LHR|         1|    FI-454|405419| 0.07463765888064484|0.18436221022421417|\n",
      "|JFK-LHR|         1|    FI-450|388460| 0.07151550610300794| 0.2558777163272221|\n",
      "|JFK-LHR|         1|     VS-10|316323| 0.05823508066988099| 0.3141127969971031|\n",
      "|JFK-LHR|         1|      DL-3|301231|0.055456642688861885|  0.369569439685965|\n",
      "|JFK-LHR|         1|   VS-4030|278919| 0.05134900233420442| 0.4209184420201694|\n",
      "|JFK-LHR|         1|   DL-5990|264664| 0.04872465609650051|0.46964309811666993|\n",
      "|JFK-LHR|         1|   AA-6929|163149|  0.0300357393430458|0.49967883745971575|\n",
      "|JFK-LHR|         1|   AA-6937|157279| 0.02895507203927028|  0.528633909498986|\n",
      "|JFK-LHR|         1|    VS-138|135680| 0.02497869502151098|  0.553612604520497|\n",
      "|JFK-LHR|         1|    TP-210|128016|0.023567752224894982| 0.5771803567453919|\n",
      "|JFK-LHR|         1|    FI-612|105953|0.019505952783123195| 0.5966863095285151|\n",
      "|JFK-LHR|         1|   DL-5988| 92608| 0.01704913759251226| 0.6137354471210273|\n",
      "|JFK-LHR|         1|    FI-618| 91908|0.016920267556287023| 0.6306557146773144|\n",
      "|JFK-LHR|         1|    EI-106| 87469|0.016103047426566562|  0.646758762103881|\n",
      "|JFK-LHR|         1|    SK-920| 85601| 0.01575914852989654| 0.6625179106337775|\n",
      "|JFK-LHR|         1|    EI-104| 68555| 0.01262097904775716| 0.6751388896815347|\n",
      "|JFK-LHR|         1|   AY-5516| 60466|0.011131793729146756| 0.6862706834106814|\n",
      "|JFK-LHR|         1|   AY-5476| 57800|0.010640982991179868| 0.6969116664018613|\n",
      "|JFK-LHR|         1|    SK-505| 49995|0.009204082087267366| 0.7061157484891287|\n",
      "+-------+----------+----------+------+--------------------+-------------------+\n",
      "only showing top 20 rows\n",
      "\n",
      "Individual Legs - round-trip, in-bound\n",
      "+-------+----------+---------+------+--------------------+-------------------+\n",
      "| market|round_trip|in_fi_leg| count|           pct_count|            cum_pct|\n",
      "+-------+----------+---------+------+--------------------+-------------------+\n",
      "|JFK-LHR|         1|   FI-615|592538| 0.10616793453809224|0.10616793453809224|\n",
      "|JFK-LHR|         1|   FI-455|492275| 0.08820332193840624| 0.1943712564764985|\n",
      "|JFK-LHR|         1|    VS-25|420580| 0.07535737776822855|0.26972863424472704|\n",
      "|JFK-LHR|         1|  DL-5991|357667| 0.06408494753490339|0.33381358177963044|\n",
      "|JFK-LHR|         1|   FI-451|301612| 0.05404129873848368| 0.3878548805181141|\n",
      "|JFK-LHR|         1|     DL-4|277064| 0.04964291339097663|0.43749779390909077|\n",
      "|JFK-LHR|         1|  VS-4029|274433| 0.04917150423954691| 0.4866692981486377|\n",
      "|JFK-LHR|         1|  AA-6934|236632|0.042398513995084076| 0.5290678121437218|\n",
      "|JFK-LHR|         1|   TP-209|163588| 0.02931086289017432| 0.5583786750338962|\n",
      "|JFK-LHR|         1|   FI-619|120778|0.021640385591543923| 0.5800190606254401|\n",
      "|JFK-LHR|         1|   SK-919| 85601|0.015337550274236259| 0.5953566108996763|\n",
      "|JFK-LHR|         1|   FI-613| 80491|0.014421966555572398| 0.6097785774552487|\n",
      "|JFK-LHR|         1|   EI-107| 79496| 0.01424368753403212| 0.6240222649892808|\n",
      "|JFK-LHR|         1|   EI-105| 75533|0.013533617421103537| 0.6375558824103843|\n",
      "|JFK-LHR|         1|  AA-8835| 68872|0.012340133438712259| 0.6498960158490965|\n",
      "|JFK-LHR|         1|  IB-6251| 64483|0.011553734820079107| 0.6614497506691757|\n",
      "|JFK-LHR|         1|  TP-1351| 59984|0.010747626962883623| 0.6721973776320593|\n",
      "|JFK-LHR|         1|   AA-105| 59639|0.010685811623756604| 0.6828831892558159|\n",
      "|JFK-LHR|         1|   VS-153| 55791|0.009996346623870347| 0.6928795358796863|\n",
      "|JFK-LHR|         1|  AY-4015| 54165|0.009705008242941316| 0.7025845441226276|\n",
      "+-------+----------+---------+------+--------------------+-------------------+\n",
      "only showing top 20 rows\n",
      "\n",
      "Itineraries - one-way (out-bound)\n",
      "+-------+----------+--------------+------+--------------------+------------------+\n",
      "| market|round_trip|   out_fi_itin| count|           pct_count|           cum_pct|\n",
      "+-------+----------+--------------+------+--------------------+------------------+\n",
      "|JFK-LHR|         0|TP-210.TP-1356|495145|  0.2640455070482168|0.2640455070482168|\n",
      "|JFK-LHR|         0|TP-210.TP-1358|226162| 0.12060519638699535|0.3846507034352121|\n",
      "|JFK-LHR|         0|TP-210.TP-1366|154424| 0.08234954080201531|0.4670002442372274|\n",
      "|JFK-LHR|         0|TP-210.TP-1368|139622| 0.07445609222568374|0.5414563364629111|\n",
      "|JFK-LHR|         0|TP-210.TP-1364|127506| 0.06799500433547741|0.6094513407983886|\n",
      "|JFK-LHR|         0|TP-208.TP-1350|124317| 0.06629440931386406|0.6757457501122527|\n",
      "|JFK-LHR|         0|TP-208.TP-1364| 95171| 0.05075174938914036|0.7264974995013931|\n",
      "|JFK-LHR|         0|TP-208.TP-1358| 77871| 0.04152619470933092| 0.768023694210724|\n",
      "|JFK-LHR|         0|TP-208.TP-1366| 69691|  0.0371640538260455|0.8051877480367695|\n",
      "|JFK-LHR|         0| WS-1681.WS-18| 47143|0.025139903137008507| 0.830327651173778|\n",
      "|JFK-LHR|         0|TP-208.TP-1368| 42507|0.022667667790442332|0.8529953189642204|\n",
      "|JFK-LHR|         0|         VS-26| 23959|0.012776593327950864|0.8657719122921713|\n",
      "|JFK-LHR|         0|       DL-5996| 22949| 0.01223799158074813|0.8780099038729194|\n",
      "|JFK-LHR|         0|         VS-10| 20968|0.011181585579551467| 0.889191489452471|\n",
      "|JFK-LHR|         0|          VS-4| 19791|0.010553927899890465|0.8997454173523615|\n",
      "|JFK-LHR|         0|       DL-5990| 19495|0.010396080259126092|0.9101414976114875|\n",
      "|JFK-LHR|         0|       DL-5994| 18906|0.010081984784767281|0.9202234823962548|\n",
      "|JFK-LHR|         0|        VS-138| 18435|0.009830815059091537|0.9300542974553464|\n",
      "|JFK-LHR|         0|       DL-5988| 17636|0.009404733082839078|0.9394590305381855|\n",
      "|JFK-LHR|         0|          DL-1| 17437|0.009298612540568445|0.9487576430787539|\n",
      "+-------+----------+--------------+------+--------------------+------------------+\n",
      "only showing top 20 rows\n",
      "\n",
      "Itineraries - round-trip, out-bound\n",
      "+-------+----------+--------------+------+--------------------+-------------------+\n",
      "|market |round_trip|out_fi_itin   |count |pct_count           |cum_pct            |\n",
      "+-------+----------+--------------+------+--------------------+-------------------+\n",
      "|JFK-LHR|1         |FI-614.FI-450 |323560|0.08151084774959938 |0.08151084774959938|\n",
      "|JFK-LHR|1         |VS-10         |316323|0.0796877113756209  |0.1611985591252203 |\n",
      "|JFK-LHR|1         |DL-3          |301231|0.07588575280769794 |0.23708431193291823|\n",
      "|JFK-LHR|1         |VS-4030       |278919|0.07026494048544299 |0.3073492524183612 |\n",
      "|JFK-LHR|1         |FI-614.FI-454 |272445|0.06863401815780523 |0.37598327057616643|\n",
      "|JFK-LHR|1         |DL-5990       |264664|0.06667383795524545 |0.4426571085314119 |\n",
      "|JFK-LHR|1         |AA-6929       |163149|0.041100300715475824|0.4837574092468877 |\n",
      "|JFK-LHR|1         |AA-6937       |157279|0.03962153734456996 |0.5233789465914577 |\n",
      "|JFK-LHR|1         |VS-138        |135680|0.034180343128524755|0.5575592897199825 |\n",
      "|JFK-LHR|1         |DL-5988       |92608 |0.023329696465553714|0.5808889861855362 |\n",
      "|JFK-LHR|1         |FI-618.FI-454 |91898 |0.023150834115751046|0.6040398203012872 |\n",
      "|JFK-LHR|1         |FI-612.FI-450 |64886 |0.016346003421561044|0.6203858237228482 |\n",
      "|JFK-LHR|1         |AY-5516       |60466 |0.015232522314337096|0.6356183460371854 |\n",
      "|JFK-LHR|1         |AY-5476       |57800 |0.01456090678676758 |0.650179252823953  |\n",
      "|JFK-LHR|1         |SK-920.SK-505 |49995 |0.012594680532949177|0.6627739333569022 |\n",
      "|JFK-LHR|1         |VS-26         |47604 |0.011992342676077973|0.6747662760329801 |\n",
      "|JFK-LHR|1         |TP-210.TP-1356|46119 |0.011618243254307116|0.6863845192872873 |\n",
      "|JFK-LHR|1         |B6-7          |43651 |0.010996507649640164|0.6973810269369274 |\n",
      "|JFK-LHR|1         |FI-612.FI-454 |41067 |0.01034554946387887 |0.7077265764008063 |\n",
      "|JFK-LHR|1         |DL-5996       |38252 |0.009636398034731047|0.7173629744355373 |\n",
      "+-------+----------+--------------+------+--------------------+-------------------+\n",
      "only showing top 20 rows\n",
      "\n",
      "Itineraries - round-trip, in-bound\n",
      "+-------+----------+--------------+------+--------------------+-------------------+\n",
      "|market |round_trip|in_fi_itin    |count |pct_count           |cum_pct            |\n",
      "+-------+----------+--------------+------+--------------------+-------------------+\n",
      "|JFK-LHR|1         |VS-25         |420580|0.10595200997195577 |0.10595200997195577|\n",
      "|JFK-LHR|1         |DL-5991       |357667|0.09010304234780309 |0.19605505231975884|\n",
      "|JFK-LHR|1         |FI-455.FI-615 |341956|0.08614514604111113 |0.28220019836086996|\n",
      "|JFK-LHR|1         |DL-4          |277064|0.06979763110673239 |0.35199782946760233|\n",
      "|JFK-LHR|1         |VS-4029       |274433|0.06913483273725213 |0.42113266220485446|\n",
      "|JFK-LHR|1         |FI-451.FI-615 |250582|0.06312631737788994 |0.4842589795827444 |\n",
      "|JFK-LHR|1         |AA-6934       |236632|0.05961205008246531 |0.5438710296652097 |\n",
      "|JFK-LHR|1         |FI-455.FI-619 |81459 |0.0205210537360439  |0.5643920834012536 |\n",
      "|JFK-LHR|1         |FI-455.FI-613 |68801 |0.017332265533502107|0.5817243489347557 |\n",
      "|JFK-LHR|1         |TP-1351.TP-209|59915 |0.015093715054138306|0.5968180639888939 |\n",
      "|JFK-LHR|1         |AA-105        |59639 |0.015024185464637642|0.6118422494535316 |\n",
      "|JFK-LHR|1         |VS-153        |55791 |0.014054801912466552|0.6258970513659982 |\n",
      "|JFK-LHR|1         |AY-4015       |54165 |0.013645181939537792|0.639542233305536  |\n",
      "|JFK-LHR|1         |TP-1367.TP-209|51042 |0.012858439519207693|0.6524006728247437 |\n",
      "|JFK-LHR|1         |B6-20         |50427 |0.012703509455645997|0.6651041822803897 |\n",
      "|JFK-LHR|1         |VS-9          |49176 |0.012388359033669348|0.677492541314059  |\n",
      "|JFK-LHR|1         |EI-163.EI-107 |48716 |0.012272476384501643|0.6897650176985607 |\n",
      "|JFK-LHR|1         |DL-5922       |43039 |0.010842333342486372|0.7006073510410471 |\n",
      "|JFK-LHR|1         |FI-451.FI-619 |39317 |0.009904691559435207|0.7105120426004823 |\n",
      "|JFK-LHR|1         |TP-1363.TP-209|38779 |0.009769159243669102|0.7202812018441513 |\n",
      "+-------+----------+--------------+------+--------------------+-------------------+\n",
      "only showing top 20 rows\n",
      "\n",
      "Itineraries - round-trip, out+in\n",
      "+-------+----------+---------------------------+------+--------------------+--------------------+\n",
      "|market |round_trip|rt_fi_itin                 |count |pct_count           |cum_pct             |\n",
      "+-------+----------+---------------------------+------+--------------------+--------------------+\n",
      "|JFK-LHR|1         |FI-614.FI-450_FI-455.FI-615|154775|0.038990732663012256|0.038990732663012256|\n",
      "|JFK-LHR|1         |FI-614.FI-454_FI-455.FI-615|137184|0.034559229007543935|0.07354996167055619 |\n",
      "|JFK-LHR|1         |FI-614.FI-450_FI-451.FI-615|114984|0.028966631591172385|0.10251659326172857 |\n",
      "|JFK-LHR|1         |FI-614.FI-454_FI-451.FI-615|99658 |0.02510572402345587 |0.12762231728518444 |\n",
      "|JFK-LHR|1         |VS-10_VS-25                |93940 |0.02366525231053627 |0.1512875695957207  |\n",
      "|JFK-LHR|1         |VS-4030_VS-25              |77229 |0.019455437201302953|0.17074300679702364 |\n",
      "|JFK-LHR|1         |DL-3_DL-5991               |73478 |0.018510489772978235|0.18925349657000187 |\n",
      "|JFK-LHR|1         |AA-6929_AA-6934            |72892 |0.01836286535468998 |0.20761636192469185 |\n",
      "|JFK-LHR|1         |DL-3_VS-25                 |72090 |0.018160826475053748|0.2257771883997456  |\n",
      "|JFK-LHR|1         |AA-6937_AA-6934            |69471 |0.017501051131203073|0.24327823953094865 |\n",
      "|JFK-LHR|1         |VS-10_DL-5991              |67745 |0.01706623927802073 |0.2603444788089694  |\n",
      "|JFK-LHR|1         |DL-5990_DL-5991            |67693 |0.017053139500288694|0.2773976183092581  |\n",
      "|JFK-LHR|1         |DL-5990_VS-25              |66062 |0.01664225993334717 |0.29403987824260525 |\n",
      "|JFK-LHR|1         |VS-10_VS-4029              |64904 |0.0163505379600067  |0.31039041620261193 |\n",
      "|JFK-LHR|1         |DL-3_DL-4                  |63685 |0.016043448939711397|0.3264338651423233  |\n",
      "|JFK-LHR|1         |VS-4030_DL-5991            |59678 |0.015034010297936634|0.3414678754402599  |\n",
      "|JFK-LHR|1         |VS-4030_VS-4029            |58150 |0.014649078367656667|0.3561169538079166  |\n",
      "|JFK-LHR|1         |VS-10_DL-4                 |57595 |0.014509263432247432|0.37062621724016404 |\n",
      "|JFK-LHR|1         |DL-5990_DL-4               |57292 |0.014432932035078016|0.38505914927524204 |\n",
      "|JFK-LHR|1         |DL-3_VS-4029               |54203 |0.0136547548540343  |0.3987139041292763  |\n",
      "+-------+----------+---------------------------+------+--------------------+--------------------+\n",
      "only showing top 20 rows"
     ]
    }
   ],
   "source": [
    "show_market_analysis(\"JFK-LHR\")"
   ]
  },
  {
   "cell_type": "markdown",
   "id": "d7e50049-0c68-4783-93fc-af6ebbe379ec",
   "metadata": {},
   "source": [
    "## LHR-JFK"
   ]
  },
  {
   "cell_type": "code",
   "execution_count": 93,
   "id": "52dda5fe-cea9-4a73-b2ae-b22727a6f16e",
   "metadata": {
    "execution": {
     "iopub.execute_input": "2023-01-03T21:48:00.411641Z",
     "iopub.status.busy": "2023-01-03T21:48:00.411414Z",
     "iopub.status.idle": "2023-01-03T21:53:17.249570Z",
     "shell.execute_reply": "2023-01-03T21:53:17.248696Z",
     "shell.execute_reply.started": "2023-01-03T21:48:00.411617Z"
    },
    "tags": []
   },
   "outputs": [
    {
     "data": {
      "application/vnd.jupyter.widget-view+json": {
       "model_id": "",
       "version_major": 2,
       "version_minor": 0
      },
      "text/plain": [
       "VBox()"
      ]
     },
     "metadata": {},
     "output_type": "display_data"
    },
    {
     "data": {
      "application/vnd.jupyter.widget-view+json": {
       "model_id": "",
       "version_major": 2,
       "version_minor": 0
      },
      "text/plain": [
       "FloatProgress(value=0.0, bar_style='info', description='Progress:', layout=Layout(height='25px', width='50%'),…"
      ]
     },
     "metadata": {},
     "output_type": "display_data"
    },
    {
     "name": "stdout",
     "output_type": "stream",
     "text": [
      "Carriers - any leg - one-way\n",
      "+-------+----------+-------+------+--------------------+------------------+\n",
      "| market|round_trip|out_cxr| count|           pct_count|           cum_pct|\n",
      "+-------+----------+-------+------+--------------------+------------------+\n",
      "|LHR-JFK|         0|     TP|708534|  0.9174906636693692|0.9174906636693692|\n",
      "|LHR-JFK|         0|     FI| 26689| 0.03455996229210156|0.9520506259614707|\n",
      "|LHR-JFK|         0|     DE|  9596|0.012425995659447957|0.9644766216209186|\n",
      "|LHR-JFK|         0|     LH|  9596|0.012425995659447955|0.9769026172803665|\n",
      "|LHR-JFK|         0|     TK|  8794|0.011387474554938033|0.9882900918353046|\n",
      "|LHR-JFK|         0|     WS|  3657|0.004735500846873821|0.9930255926821784|\n",
      "|LHR-JFK|         0|     AT|  2764|0.003579142559682...| 0.996604735241861|\n",
      "|LHR-JFK|         0|     S4|  1988|0.002574289221653...| 0.999179024463514|\n",
      "|LHR-JFK|         0|     EI|   355|4.596945038666136...|0.9996387189673807|\n",
      "|LHR-JFK|         0|     JU|   104|1.346710659214867...|0.9997733900333021|\n",
      "|LHR-JFK|         0|     AA|    96|1.243117531582954...|0.9998977017864604|\n",
      "|LHR-JFK|         0|     B6|    49|6.345079067454667E-5| 0.999961152577135|\n",
      "|LHR-JFK|         0|     LX|    13|1.683388324018584...|0.9999779864603752|\n",
      "|LHR-JFK|         0|     SK|     7|9.064398667792378E-6|0.9999870508590429|\n",
      "|LHR-JFK|         0|     DL|     7|9.064398667792378E-6|0.9999961152577107|\n",
      "|LHR-JFK|         0|     LO|     3|3.884742286196734E-6|0.9999999999999969|\n",
      "+-------+----------+-------+------+--------------------+------------------+\n",
      "\n",
      "Carriers - incl. interline - one-way (out-bound)\n",
      "+-------+----------+------------------+------+--------------------+------------------+\n",
      "| market|round_trip|out_uni_cxr_concat| count|           pct_count|           cum_pct|\n",
      "+-------+----------+------------------+------+--------------------+------------------+\n",
      "|LHR-JFK|         0|                TP|708517|  0.9174686501297483|0.9174686501297483|\n",
      "|LHR-JFK|         0|                FI| 26689| 0.03455996229210158|0.9520286124218499|\n",
      "|LHR-JFK|         0|             LH-DE| 19192| 0.02485199131889591|0.9768806037407458|\n",
      "|LHR-JFK|         0|                TK|  8794|0.011387474554938028|0.9882680782956839|\n",
      "|LHR-JFK|         0|                WS|  3657|0.004735500846873822|0.9930035791425577|\n",
      "|LHR-JFK|         0|                AT|  2764|0.003579142559682...|0.9965827217022403|\n",
      "|LHR-JFK|         0|                S4|  1988|0.002574289221653...|0.9991570109238933|\n",
      "|LHR-JFK|         0|                EI|   355|4.596945038666135...|0.9996167054277599|\n",
      "|LHR-JFK|         0|                JU|   104|1.346710659214867...|0.9997513764936814|\n",
      "|LHR-JFK|         0|                AA|    93|1.204270108720987...|0.9998718035045535|\n",
      "|LHR-JFK|         0|                B6|    35|4.532199333896191E-5|0.9999171254978925|\n",
      "|LHR-JFK|         0|             TP-B6|    28|3.625759467116951...|0.9999533830925637|\n",
      "|LHR-JFK|         0|                LX|    13|1.683388324018584...|0.9999702169758038|\n",
      "|LHR-JFK|         0|                SK|     7|9.064398667792378E-6|0.9999883457731393|\n",
      "|LHR-JFK|         0|                DL|     7|9.064398667792378E-6|0.9999792813744716|\n",
      "|LHR-JFK|         0|             TP-AA|     6|7.769484572393468E-6|0.9999961152577117|\n",
      "|LHR-JFK|         0|                LO|     3|3.884742286196734E-6|0.9999999999999979|\n",
      "+-------+----------+------------------+------+--------------------+------------------+\n",
      "\n",
      "Carriers - incl. interline - round-trip, out-bound\n",
      "+-------+----------+------------------+-------+--------------------+-------------------+\n",
      "| market|round_trip|out_uni_cxr_concat|  count|           pct_count|            cum_pct|\n",
      "+-------+----------+------------------+-------+--------------------+-------------------+\n",
      "|LHR-JFK|         1|                AA|5359054| 0.29271119331290557|0.29271119331290557|\n",
      "|LHR-JFK|         1|                DL|5182492|   0.283067387948426| 0.5757785812613316|\n",
      "|LHR-JFK|         1|                VS|4746683| 0.25926352770620903| 0.8350421089675406|\n",
      "|LHR-JFK|         1|                AZ|1880858| 0.10273234597600955| 0.9377744549435502|\n",
      "|LHR-JFK|         1|                FI| 349254| 0.01907623157171065| 0.9568506865152608|\n",
      "|LHR-JFK|         1|                TP| 143933|0.007861611431253591| 0.9647122979465145|\n",
      "|LHR-JFK|         1|                BA| 123665|0.006754574542641287| 0.9714668724891558|\n",
      "|LHR-JFK|         1|             LH-DE|  69062|0.003772162107822708| 0.9752390345969785|\n",
      "|LHR-JFK|         1|                AF|  67126|0.003666417909265...| 0.9789054525062442|\n",
      "|LHR-JFK|         1|                KL|  65111|0.003556358735664238| 0.9824618112419085|\n",
      "|LHR-JFK|         1|                AY|  51321|0.002803149800694...| 0.9852649610426031|\n",
      "|LHR-JFK|         1|                EI|  51126|0.002792498912926...| 0.9880574599555297|\n",
      "|LHR-JFK|         1|                IB|  49922| 0.00272673650845218|  0.990784196463982|\n",
      "|LHR-JFK|         1|             BA-AA|  33938|0.001853691431109...| 0.9926378878950916|\n",
      "|LHR-JFK|         1|             VS-DL|  26432|0.001443714181952...| 0.9940816020770435|\n",
      "|LHR-JFK|         1|                SK|  20944|0.001143959966207...| 0.9952255620432513|\n",
      "|LHR-JFK|         1|             IB-AA|  16206|8.851707034168548E-4| 0.9961107327466682|\n",
      "|LHR-JFK|         1|                AT|  16108|8.798179495642805E-4| 0.9969905506962324|\n",
      "|LHR-JFK|         1|                B6|  13619|7.438689256962989E-4| 0.9977344196219288|\n",
      "|LHR-JFK|         1|                AC|   8392|4.583705135798027E-4| 0.9981927901355085|\n",
      "+-------+----------+------------------+-------+--------------------+-------------------+\n",
      "only showing top 20 rows\n",
      "\n",
      "Carriers - incl. interline - round-trip, in-bound\n",
      "+-------+----------+-----------------+-------+--------------------+------------------+\n",
      "| market|round_trip|in_uni_cxr_concat|  count|           pct_count|           cum_pct|\n",
      "+-------+----------+-----------------+-------+--------------------+------------------+\n",
      "|LHR-JFK|         1|               DL|6266787|  0.3427200923488939|0.3427200923488939|\n",
      "|LHR-JFK|         1|               AA|5407766|  0.2957416715968194|0.6384617639457133|\n",
      "|LHR-JFK|         1|               VS|4936113|  0.2699477584294123|0.9084095223751256|\n",
      "|LHR-JFK|         1|               AZ| 653191|  0.0357219225484231|0.9441314449235487|\n",
      "|LHR-JFK|         1|               FI| 349254| 0.01910011671582593|0.9632315616393746|\n",
      "|LHR-JFK|         1|               TP| 143933|0.007871454870263552|0.9711030165096382|\n",
      "|LHR-JFK|         1|               BA| 100134|0.005476160866368093|0.9765791773760062|\n",
      "|LHR-JFK|         1|               AY|  83407|0.004561389232240403|0.9811405666082466|\n",
      "|LHR-JFK|         1|            DE-LH|  69062|0.003776885191374...|0.9849174517996212|\n",
      "|LHR-JFK|         1|               AF|  51549|0.002819128532770...|0.9877365803323914|\n",
      "|LHR-JFK|         1|               EI|  51126|0.002795995370742...| 0.990532575703134|\n",
      "|LHR-JFK|         1|               KL|  34216|0.001871215772900815|0.9924037914760349|\n",
      "|LHR-JFK|         1|            DL-VS|  25152|0.001375520783259...|0.9937793122592942|\n",
      "|LHR-JFK|         1|               SK|  20944|0.001145392306161...| 0.994924704565456|\n",
      "|LHR-JFK|         1|               AT|  16108|8.809195601439628E-4|0.9958056241255999|\n",
      "|LHR-JFK|         1|               IB|  15943|8.718959863034148E-4|0.9966775201119034|\n",
      "|LHR-JFK|         1|               B6|  13619|7.448003159672534E-4|0.9974223204278706|\n",
      "|LHR-JFK|         1|               AC|  10255|  5.6082878627243E-4| 0.997983149214143|\n",
      "|LHR-JFK|         1|               LX|   6373|3.485287035508798...|0.9983316779176938|\n",
      "|LHR-JFK|         1|            DL-AF|   5436|2.972857418017554E-4|0.9986289636594956|\n",
      "+-------+----------+-----------------+-------+--------------------+------------------+\n",
      "only showing top 20 rows\n",
      "\n",
      "Carriers - incl. interline - round-trip\n",
      "+-------+----------+-----------+-------+--------------------+-------------------+\n",
      "| market|round_trip|    rt_cxrs|  count|           pct_count|            cum_pct|\n",
      "+-------+----------+-----------+-------+--------------------+-------------------+\n",
      "|LHR-JFK|         1|      AA_AA|5306892|  0.2911140922220165| 0.2911140922220165|\n",
      "|LHR-JFK|         1|      DL_DL|3469897| 0.19034416288458503|0.48145825510660156|\n",
      "|LHR-JFK|         1|      VS_VS|3276791| 0.17975116836111785| 0.6612094234677194|\n",
      "|LHR-JFK|         1|      DL_VS|1583987| 0.08689095945356855| 0.7481003829212879|\n",
      "|LHR-JFK|         1|      VS_DL|1456354| 0.07988954225258292| 0.8279899251738708|\n",
      "|LHR-JFK|         1|      AZ_DL|1305080| 0.07159127780951736| 0.8995812029833882|\n",
      "|LHR-JFK|         1|      AZ_AZ| 509320| 0.02793918350901358| 0.9275203864924018|\n",
      "|LHR-JFK|         1|      FI_FI| 349254| 0.01915862639844693| 0.9466790128908487|\n",
      "|LHR-JFK|         1|      TP_TP| 143933|0.007895567619576806| 0.9545745805104254|\n",
      "|LHR-JFK|         1|      DL_AZ| 116412|0.006385879664358951| 0.9609604601747844|\n",
      "|LHR-JFK|         1|      BA_BA|  73843| 0.00405072081963425| 0.9650111809944186|\n",
      "|LHR-JFK|         1|      EI_EI|  51126|0.002804560386558237| 0.9678157413809768|\n",
      "|LHR-JFK|         1|      BA_AA|  40248|0.002207838407819...| 0.9700235797887966|\n",
      "|LHR-JFK|         1|      AY_AY|  38754|0.002125883762091...| 0.9721494635508878|\n",
      "|LHR-JFK|         1|      AZ_AF|  38389|0.002105861375417...| 0.9742553249263051|\n",
      "|LHR-JFK|         1|      KL_VS|  37507|0.002057478512276339| 0.9763128034385814|\n",
      "|LHR-JFK|         1|LH_DE_DE_LH|  34531|0.001894227491066...| 0.9782070309296474|\n",
      "|LHR-JFK|         1|      AF_VS|  30970|0.001698885795323...|  0.979905916724971|\n",
      "|LHR-JFK|         1|      IB_AA|  27722|0.001520713981852...|  0.981426630706823|\n",
      "|LHR-JFK|         1|      AZ_KL|  27165|0.001490159271229...|  0.982916789978052|\n",
      "+-------+----------+-----------+-------+--------------------+-------------------+\n",
      "only showing top 20 rows\n",
      "\n",
      "Individual Legs - one-way (out-bound)\n",
      "+-------+----------+----------+------+--------------------+------------------+\n",
      "| market|round_trip|out_fi_leg| count|           pct_count|           cum_pct|\n",
      "+-------+----------+----------+------+--------------------+------------------+\n",
      "|LHR-JFK|         0|    TP-209|708410|  0.4642279534153424|0.4642279534153424|\n",
      "|LHR-JFK|         0|   TP-1367|280426| 0.18376588143088138|0.6479938348462237|\n",
      "|LHR-JFK|         0|   TP-1351|247933| 0.16247290294338895|0.8104667377896126|\n",
      "|LHR-JFK|         0|   TP-1363|102170| 0.06695299332370463|0.8774197311133173|\n",
      "|LHR-JFK|         0|   TP-1357| 43522|0.028520389306394212|0.9059401204197115|\n",
      "|LHR-JFK|         0|   TP-1369| 29921| 0.01960752190700383|0.9255476423267154|\n",
      "|LHR-JFK|         0|    FI-455| 16228|0.010634366014065581|0.9361820083407809|\n",
      "|LHR-JFK|         0|    FI-613| 12689|0.008315224941611906|0.9444972332823928|\n",
      "|LHR-JFK|         0|    FI-615| 12656|0.008293599721100183| 0.952790833003493|\n",
      "|LHR-JFK|         0|    FI-451| 10461|0.006855194902214685|0.9596460279057076|\n",
      "|LHR-JFK|         0|   DE-2016|  9596|0.006288352000922673|0.9659343799066303|\n",
      "|LHR-JFK|         0|      TK-1|  5191|0.003401712717464527|0.9693360926240948|\n",
      "|LHR-JFK|         0|   TP-1361|  4502|0.002950204325568...|0.9722862969496632|\n",
      "|LHR-JFK|         0|    LH-921|  4481|0.002936442821606...|0.9752227397712695|\n",
      "|LHR-JFK|         0|   TK-1984|  4314|0.002827006099622...|0.9780497458708923|\n",
      "|LHR-JFK|         0|   WS-1680|  3657|0.002396467618525...|0.9804462134894182|\n",
      "|LHR-JFK|         0|     WS-19|  3657|0.002396467618525865| 0.982842681107944|\n",
      "|LHR-JFK|         0|   TK-1988|  3105|0.002034736657238944| 0.984877417765183|\n",
      "|LHR-JFK|         0|    LH-917|  2961|0.001940372058642...|0.9868177898238254|\n",
      "|LHR-JFK|         0|      TK-3|  2258|0.001479689330771...|0.9882974791545969|\n",
      "+-------+----------+----------+------+--------------------+------------------+\n",
      "only showing top 20 rows\n",
      "\n",
      "Individual Legs - round-trip, out-bound\n",
      "+-------+----------+----------+-------+--------------------+--------------------+\n",
      "| market|round_trip|out_fi_leg|  count|           pct_count|             cum_pct|\n",
      "+-------+----------+----------+-------+--------------------+--------------------+\n",
      "|LHR-JFK|         1|    AZ-209|1304755|0.057731370050977504|0.057731370050977504|\n",
      "|LHR-JFK|         1|    AZ-608|1286574| 0.05692691707789308| 0.11465828712887058|\n",
      "|LHR-JFK|         1|     VS-25| 838180|  0.0370868705230703| 0.15174515765194088|\n",
      "|LHR-JFK|         1|   DL-5991| 762322|0.033730388831620224|  0.1854755464835611|\n",
      "|LHR-JFK|         1|      VS-9| 658949|0.029156453559267072| 0.21463200004282817|\n",
      "|LHR-JFK|         1|   DL-5993| 628031| 0.02778842776190514| 0.24242042780473333|\n",
      "|LHR-JFK|         1|    AZ-207| 576072|0.025489402844217038| 0.26790983064895035|\n",
      "|LHR-JFK|         1|   AA-6942| 557457|0.024665746714523124|  0.2925755773634735|\n",
      "|LHR-JFK|         1|   AA-6940| 553700|0.024499511093826795|  0.3170750884573003|\n",
      "|LHR-JFK|         1|    AZ-610| 547503|0.024225313025832487|  0.3413004014831328|\n",
      "|LHR-JFK|         1|    AA-107| 526718|0.023305641113090598| 0.36460604259622337|\n",
      "|LHR-JFK|         1|   DL-5997| 493094|0.021817883191799194| 0.38642392578802254|\n",
      "|LHR-JFK|         1|     VS-45| 483130|0.021377007034062853|  0.4078009328220854|\n",
      "|LHR-JFK|         1|   DL-5995| 473799|0.020964139166956452| 0.42876507198904185|\n",
      "|LHR-JFK|         1|   VS-4007| 473682|0.020958962279115294| 0.44972403426815716|\n",
      "|LHR-JFK|         1|      VS-3| 470914| 0.02083648684709834|  0.4705605211152555|\n",
      "|LHR-JFK|         1|    VS-137| 448995|0.019866638944505632|  0.4904271600597611|\n",
      "|LHR-JFK|         1|    AA-141| 444614|0.019672793255320037|  0.5100999533150812|\n",
      "|LHR-JFK|         1|   AA-6913| 438392|0.019397489014709935|  0.5294974423297911|\n",
      "|LHR-JFK|         1|   AA-6928| 437018| 0.01933669376774775|  0.5488341360975388|\n",
      "+-------+----------+----------+-------+--------------------+--------------------+\n",
      "only showing top 20 rows\n",
      "\n",
      "Individual Legs - round-trip, in-bound\n",
      "+-------+----------+---------+------+--------------------+-------------------+\n",
      "| market|round_trip|in_fi_leg| count|           pct_count|            cum_pct|\n",
      "+-------+----------+---------+------+--------------------+-------------------+\n",
      "|LHR-JFK|         1|  DL-5996|928565|  0.0467794561227324| 0.0467794561227324|\n",
      "|LHR-JFK|         1|  DL-5988|883109|0.044489463545460066|0.09126891966819246|\n",
      "|LHR-JFK|         1|  DL-5990|865097| 0.04358205096402236|0.13485097063221482|\n",
      "|LHR-JFK|         1|  DL-5994|832192| 0.04192435548366445|0.17677532611587926|\n",
      "|LHR-JFK|         1|    VS-26|739019| 0.03723046516330628|0.21400579127918554|\n",
      "|LHR-JFK|         1|    VS-10|716877| 0.03611499051428373|0.25012078179346925|\n",
      "|LHR-JFK|         1|   VS-138|701844| 0.03535765466392017| 0.2854784364573894|\n",
      "|LHR-JFK|         1|     VS-4|672569|0.033882832138848164| 0.3193612685962376|\n",
      "|LHR-JFK|         1|     DL-1|665335| 0.03351839606211516|0.35287966465835274|\n",
      "|LHR-JFK|         1|  VS-4000|641776| 0.03233153546883914| 0.3852112001271919|\n",
      "|LHR-JFK|         1|     DL-3|597480|0.030099981632098993| 0.4153111817592909|\n",
      "|LHR-JFK|         1|  VS-4030|544923| 0.02745225328196442| 0.4427634350412553|\n",
      "|LHR-JFK|         1|  AA-6939|517777| 0.02608468599705989| 0.4688481210383152|\n",
      "|LHR-JFK|         1|  AA-6941|492019| 0.02478704368789545|0.49363516472621066|\n",
      "|LHR-JFK|         1|    VS-46|490414|0.024706186637417478| 0.5183413513636281|\n",
      "|LHR-JFK|         1|  AA-6929|481311|0.024247593658912867|  0.542588945022541|\n",
      "|LHR-JFK|         1|     DL-5|473501| 0.02385413972481179| 0.5664430847473527|\n",
      "|LHR-JFK|         1|  AA-6937|472812|0.023819429128064548| 0.5902625138754173|\n",
      "|LHR-JFK|         1|  AA-6914|470953|0.023725776008539208| 0.6139882898839565|\n",
      "|LHR-JFK|         1|  DL-5923|468609|0.023607689450084256| 0.6375959793340408|\n",
      "+-------+----------+---------+------+--------------------+-------------------+\n",
      "only showing top 20 rows\n",
      "\n",
      "Itineraries - one-way (out-bound)\n",
      "+-------+----------+--------------+------+--------------------+-------------------+\n",
      "| market|round_trip|   out_fi_itin| count|           pct_count|            cum_pct|\n",
      "+-------+----------+--------------+------+--------------------+-------------------+\n",
      "|LHR-JFK|         0|TP-1367.TP-209|280416| 0.36769166014326543|0.36769166014326543|\n",
      "|LHR-JFK|         0|TP-1351.TP-209|247909| 0.32506729920709454|   0.69275895935036|\n",
      "|LHR-JFK|         0|TP-1363.TP-209|102160|  0.1339559083655582| 0.8267148677159182|\n",
      "|LHR-JFK|         0|TP-1357.TP-209| 43518|0.057062384693151336| 0.8837772524090695|\n",
      "|LHR-JFK|         0|TP-1369.TP-209| 29905| 0.03921252388089286| 0.9229897762899624|\n",
      "|LHR-JFK|         0| FI-455.FI-613| 10077| 0.01321332898002856|  0.936203105269991|\n",
      "|LHR-JFK|         0| FI-451.FI-615|  7275|0.009539244649172156| 0.9457423499191631|\n",
      "|LHR-JFK|         0| FI-455.FI-615|  5381|0.007055762949442659| 0.9527981128686057|\n",
      "|LHR-JFK|         0|TP-1361.TP-209|  4502|0.005903186173274642| 0.9587012990418804|\n",
      "|LHR-JFK|         0|LH-921.DE-2016|  4481|0.005875650209338888| 0.9645769492512193|\n",
      "|LHR-JFK|         0| WS-19.WS-1680|  3657| 0.00479519143395499| 0.9693721406851743|\n",
      "|LHR-JFK|         0|LH-917.DE-2016|  2961|0.003882570914941...| 0.9732547116001157|\n",
      "|LHR-JFK|         0| FI-451.FI-613|  2612|0.003424949419056...| 0.9766796610191724|\n",
      "|LHR-JFK|         0|  TK-1988.TK-1|  2432|0.003188926871035968| 0.9798685878902084|\n",
      "|LHR-JFK|         0|  TK-1984.TK-1|  2070|0.002714259302238674|  0.982582847192447|\n",
      "|LHR-JFK|         0|  TK-1984.TK-3|  1617|0.002120269223053...| 0.9847031164155001|\n",
      "|LHR-JFK|         0| AT-801.AT-202|  1485|0.001947186021171...| 0.9866503024366714|\n",
      "|LHR-JFK|         0|LH-911.DE-2016|   726|9.519576103503755E-4| 0.9876022600470218|\n",
      "|LHR-JFK|         0| AT-801.AT-200|   648|8.496811728747157E-4| 0.9884519412198965|\n",
      "|LHR-JFK|         0| TK-1988.TK-11|   643|8.431249909852499E-4| 0.9892950662108818|\n",
      "+-------+----------+--------------+------+--------------------+-------------------+\n",
      "only showing top 20 rows\n",
      "\n",
      "Itineraries - round-trip, out-bound\n",
      "+-------+----------+-------------+------+--------------------+-------------------+\n",
      "|market |round_trip|out_fi_itin  |count |pct_count           |cum_pct            |\n",
      "+-------+----------+-------------+------+--------------------+-------------------+\n",
      "|LHR-JFK|1         |AZ-209.AZ-608|853448|0.04681661880036221 |0.04681661880036221|\n",
      "|LHR-JFK|1         |VS-25        |838180|0.045979079622996875|0.09279569842335908|\n",
      "|LHR-JFK|1         |DL-5991      |762322|0.04181782425775199 |0.13461352268111107|\n",
      "|LHR-JFK|1         |VS-9         |658949|0.03614721007241171 |0.17076073275352277|\n",
      "|LHR-JFK|1         |DL-5993      |628031|0.03445117678149147 |0.20521190953501423|\n",
      "|LHR-JFK|1         |AA-6942      |557457|0.030579779748259983|0.2357916892832742 |\n",
      "|LHR-JFK|1         |AA-6940      |553700|0.030373686305152876|0.26616537558842707|\n",
      "|LHR-JFK|1         |AA-107       |526718|0.028893565655187872|0.2950589412436149 |\n",
      "|LHR-JFK|1         |DL-5997      |493094|0.027049092423611237|0.3221080336672262 |\n",
      "|LHR-JFK|1         |VS-45        |483130|0.026502508695338198|0.3486105423625644 |\n",
      "|LHR-JFK|1         |DL-5995      |473799|0.025990648722585444|0.37460119108514983|\n",
      "|LHR-JFK|1         |VS-4007      |473682|0.02598423058767877 |0.4005854216728286 |\n",
      "|LHR-JFK|1         |VS-3         |470914|0.025832389584079914|0.42641781125690853|\n",
      "|LHR-JFK|1         |VS-137       |448995|0.024630004122417375|0.4510478153793259 |\n",
      "|LHR-JFK|1         |AA-141       |444614|0.024389680626475136|0.47543749600580104|\n",
      "|LHR-JFK|1         |AA-6913      |438392|0.02404836750350101 |0.4994858635093021 |\n",
      "|LHR-JFK|1         |AA-6928      |437018|0.023972995560240656|0.5234588590695427 |\n",
      "|LHR-JFK|1         |AZ-207.AZ-608|433126|0.02375949657685756 |0.5472183556464003 |\n",
      "|LHR-JFK|1         |AA-105       |429361|0.023552964286918603|0.5707713199333189 |\n",
      "|LHR-JFK|1         |VS-153       |419542|0.0230143346574622  |0.593785654590781  |\n",
      "+-------+----------+-------------+------+--------------------+-------------------+\n",
      "only showing top 20 rows\n",
      "\n",
      "Itineraries - round-trip, in-bound\n",
      "+-------+----------+----------+------+--------------------+-------------------+\n",
      "|market |round_trip|in_fi_itin|count |pct_count           |cum_pct            |\n",
      "+-------+----------+----------+------+--------------------+-------------------+\n",
      "|LHR-JFK|1         |DL-5996   |928565|0.05093722597786592 |0.05093722597786592|\n",
      "|LHR-JFK|1         |DL-5988   |883109|0.04844369828292827 |0.0993809242607942 |\n",
      "|LHR-JFK|1         |DL-5990   |865097|0.047455634642457833|0.14683655890325203|\n",
      "|LHR-JFK|1         |DL-5994   |832192|0.045650602769835284|0.19248716167308733|\n",
      "|LHR-JFK|1         |VS-26     |739019|0.040539518294289   |0.23302667996737633|\n",
      "|LHR-JFK|1         |VS-10     |716877|0.039324899977206416|0.27235157994458276|\n",
      "|LHR-JFK|1         |VS-138    |701844|0.038500251925508065|0.3108518318700908 |\n",
      "|LHR-JFK|1         |VS-4      |672569|0.03689434680254708 |0.3477461786726379 |\n",
      "|LHR-JFK|1         |DL-1      |665335|0.03649751955542527 |0.38424369822806315|\n",
      "|LHR-JFK|1         |VS-4000   |641776|0.035205170493364454|0.4194488687214276 |\n",
      "|LHR-JFK|1         |DL-3      |597480|0.03277527558895242 |0.45222414431038005|\n",
      "|LHR-JFK|1         |VS-4030   |544923|0.0298922164754614  |0.48211636078584147|\n",
      "|LHR-JFK|1         |AA-6939   |517777|0.02840309946545596 |0.5105194602512975 |\n",
      "|LHR-JFK|1         |AA-6941   |492019|0.026990122380666275|0.5375095826319637 |\n",
      "|LHR-JFK|1         |VS-46     |490414|0.02690207873515505 |0.5644116613671187 |\n",
      "|LHR-JFK|1         |AA-6929   |481311|0.02640272589709104 |0.5908143872642098 |\n",
      "|LHR-JFK|1         |DL-5      |473501|0.025974301678122234|0.616788688942332  |\n",
      "|LHR-JFK|1         |AA-6937   |472812|0.02593650599478388 |0.6427251949371159 |\n",
      "|LHR-JFK|1         |AA-6914   |470953|0.02583452896238131 |0.6685597238994971 |\n",
      "|LHR-JFK|1         |DL-5923   |468609|0.025705946840837098|0.6942656707403342 |\n",
      "+-------+----------+----------+------+--------------------+-------------------+\n",
      "only showing top 20 rows\n",
      "\n",
      "Itineraries - round-trip, out+in\n",
      "+-------+----------+---------------------------+------+---------------------+--------------------+\n",
      "|market |round_trip|rt_fi_itin                 |count |pct_count            |cum_pct             |\n",
      "+-------+----------+---------------------------+------+---------------------+--------------------+\n",
      "|LHR-JFK|1         |AZ-209.AZ-608_DL-5996      |105222|0.005772042659203373 |0.005772042659203373|\n",
      "|LHR-JFK|1         |AZ-209.AZ-608_DL-5990      |96865 |0.005313612288150149 |0.011085654947353522|\n",
      "|LHR-JFK|1         |AZ-209.AZ-608_DL-5988      |88294 |0.0048434427643620605|0.015929097711715582|\n",
      "|LHR-JFK|1         |VS-25_VS-26                |86983 |0.004771526739897496 |0.020700624451613078|\n",
      "|LHR-JFK|1         |AZ-209.AZ-608_DL-5994      |86228 |0.004730110570201971 |0.02543073502181505 |\n",
      "|LHR-JFK|1         |AZ-209.AZ-608_DL-1         |83546 |0.004582987170038658 |0.030013722191853706|\n",
      "|LHR-JFK|1         |AZ-209.AZ-608_DL-3         |82485 |0.004524785109049371 |0.034538507300903076|\n",
      "|LHR-JFK|1         |VS-25_VS-138               |81732 |0.00448347865106174  |0.039021985951964815|\n",
      "|LHR-JFK|1         |VS-25_VS-10                |81724 |0.004483039804230537 |0.04350502575619535 |\n",
      "|LHR-JFK|1         |VS-25_VS-4                 |77991 |0.0042782629016169796|0.04778328865781233 |\n",
      "|LHR-JFK|1         |DL-5991_DL-5996            |74065 |0.004062898819200498 |0.051846187477012834|\n",
      "|LHR-JFK|1         |VS-25_VS-4000              |73276 |0.004019617550472402 |0.055865805027485234|\n",
      "|LHR-JFK|1         |DL-5991_DL-5988            |71030 |0.003896411302610061 |0.05976221633009529 |\n",
      "|LHR-JFK|1         |FI-451.FI-615_FI-614.FI-450|70459 |0.0038650886100323237|0.06362730494012761 |\n",
      "|LHR-JFK|1         |AZ-209.AZ-608_AZ-611.AZ-204|70404 |0.0038620715380677044|0.06748937647819532 |\n",
      "|LHR-JFK|1         |DL-5991_DL-5994            |67125 |0.003682199193125435 |0.07117157567132075 |\n",
      "|LHR-JFK|1         |VS-9_VS-26                 |66948 |0.0036724897069849087|0.07484406537830565 |\n",
      "|LHR-JFK|1         |DL-5991_DL-5990            |66866 |0.0036679915269650165|0.07851205690527067 |\n",
      "|LHR-JFK|1         |VS-9_VS-10                 |66140 |0.003628166177032648 |0.08214022308230333 |\n",
      "|LHR-JFK|1         |VS-9_VS-138                |65234 |0.003578466773398074 |0.0857186898557014  |\n",
      "+-------+----------+---------------------------+------+---------------------+--------------------+\n",
      "only showing top 20 rows"
     ]
    }
   ],
   "source": [
    "show_market_analysis(\"LHR-JFK\")"
   ]
  },
  {
   "cell_type": "markdown",
   "id": "ef461896-75de-4fd2-be80-15a69c6d7b96",
   "metadata": {},
   "source": [
    "## ATL-EWR"
   ]
  },
  {
   "cell_type": "code",
   "execution_count": 94,
   "id": "0e84c0e8-edf2-437b-bd0d-37c28dc2d22a",
   "metadata": {
    "execution": {
     "iopub.execute_input": "2023-01-03T21:53:17.250942Z",
     "iopub.status.busy": "2023-01-03T21:53:17.250712Z",
     "iopub.status.idle": "2023-01-03T21:57:17.909530Z",
     "shell.execute_reply": "2023-01-03T21:57:17.903528Z",
     "shell.execute_reply.started": "2023-01-03T21:53:17.250908Z"
    },
    "tags": []
   },
   "outputs": [
    {
     "data": {
      "application/vnd.jupyter.widget-view+json": {
       "model_id": "",
       "version_major": 2,
       "version_minor": 0
      },
      "text/plain": [
       "VBox()"
      ]
     },
     "metadata": {},
     "output_type": "display_data"
    },
    {
     "data": {
      "application/vnd.jupyter.widget-view+json": {
       "model_id": "",
       "version_major": 2,
       "version_minor": 0
      },
      "text/plain": [
       "FloatProgress(value=0.0, bar_style='info', description='Progress:', layout=Layout(height='25px', width='50%'),…"
      ]
     },
     "metadata": {},
     "output_type": "display_data"
    },
    {
     "name": "stdout",
     "output_type": "stream",
     "text": [
      "Carriers - any leg - one-way\n",
      "+-------+----------+-------+------+--------------------+------------------+\n",
      "| market|round_trip|out_cxr| count|           pct_count|           cum_pct|\n",
      "+-------+----------+-------+------+--------------------+------------------+\n",
      "|ATL-EWR|         0|     NK|388702|  0.5377822235319664|0.5377822235319664|\n",
      "|ATL-EWR|         0|     UA|198977| 0.27529133755864355|0.8130735610906099|\n",
      "|ATL-EWR|         0|     DL|125788| 0.17403190704868776|0.9871054681392977|\n",
      "|ATL-EWR|         0|     AA|  9184|0.012706371309943308| 0.999811839449241|\n",
      "|ATL-EWR|         0|     B6|   130|1.798593499883091...|0.9999916987992293|\n",
      "|ATL-EWR|         0|     AS|     6|8.301200768691191E-6| 0.999999999999998|\n",
      "+-------+----------+-------+------+--------------------+------------------+\n",
      "\n",
      "Carriers - incl. interline - one-way (out-bound)\n",
      "+-------+----------+------------------+------+--------------------+------------------+\n",
      "| market|round_trip|out_uni_cxr_concat| count|           pct_count|           cum_pct|\n",
      "+-------+----------+------------------+------+--------------------+------------------+\n",
      "|ATL-EWR|         0|                NK|388702|   0.537782223531967| 0.537782223531967|\n",
      "|ATL-EWR|         0|                UA|198977|  0.2752913375586436|0.8130735610906106|\n",
      "|ATL-EWR|         0|                DL|125788| 0.17403190704868757|0.9871054681392981|\n",
      "|ATL-EWR|         0|                AA|  9184|0.012706371309943324|0.9998118394492415|\n",
      "|ATL-EWR|         0|                B6|   130|1.798593499883091...|0.9999916987992298|\n",
      "|ATL-EWR|         0|                AS|     6|8.301200768691191E-6|0.9999999999999984|\n",
      "+-------+----------+------------------+------+--------------------+------------------+\n",
      "\n",
      "Carriers - incl. interline - round-trip, out-bound\n",
      "+-------+----------+------------------+-------+--------------------+------------------+\n",
      "| market|round_trip|out_uni_cxr_concat|  count|           pct_count|           cum_pct|\n",
      "+-------+----------+------------------+-------+--------------------+------------------+\n",
      "|ATL-EWR|         1|                UA|1277053|  0.5444473577066796|0.5444473577066796|\n",
      "|ATL-EWR|         1|                DL| 742447|   0.316528215655302|0.8609755733619816|\n",
      "|ATL-EWR|         1|                NK| 302663|  0.1290346372668778|0.9900102106288594|\n",
      "|ATL-EWR|         1|                AA|  23179|0.009881927613249481|0.9998921382421089|\n",
      "|ATL-EWR|         1|                AS|    181|7.716592165314132E-5|0.9999693041637621|\n",
      "|ATL-EWR|         1|                B6|     72|3.069583623771368E-5|0.9999999999999998|\n",
      "+-------+----------+------------------+-------+--------------------+------------------+\n",
      "\n",
      "Carriers - incl. interline - round-trip, in-bound\n",
      "+-------+----------+-----------------+-------+--------------------+------------------+\n",
      "| market|round_trip|in_uni_cxr_concat|  count|           pct_count|           cum_pct|\n",
      "+-------+----------+-----------------+-------+--------------------+------------------+\n",
      "|ATL-EWR|         1|               UA|1277320|  0.5445611880993946|0.5445611880993946|\n",
      "|ATL-EWR|         1|               DL| 742180|  0.3164143852625869|0.8609755733619815|\n",
      "|ATL-EWR|         1|               NK| 302663| 0.12903463726687814|0.9900102106288596|\n",
      "|ATL-EWR|         1|               AA|  23179|0.009881927613249478|0.9998921382421091|\n",
      "|ATL-EWR|         1|               AS|    181|7.716592165314131E-5|0.9999693041637623|\n",
      "|ATL-EWR|         1|               B6|     72|3.069583623771368E-5|               1.0|\n",
      "+-------+----------+-----------------+-------+--------------------+------------------+\n",
      "\n",
      "Carriers - incl. interline - round-trip\n",
      "+-------+----------+-------+-------+--------------------+------------------+\n",
      "| market|round_trip|rt_cxrs|  count|           pct_count|           cum_pct|\n",
      "+-------+----------+-------+-------+--------------------+------------------+\n",
      "|ATL-EWR|         1|  UA_UA|1276931|  0.5443953453174994|0.5443953453174994|\n",
      "|ATL-EWR|         1|  DL_DL| 742058| 0.31636237287340724|0.8607577181909067|\n",
      "|ATL-EWR|         1|  NK_NK| 302663| 0.12903463726687758|0.9897923554577843|\n",
      "|ATL-EWR|         1|  AA_AA|  23179|0.009881927613249493|0.9996742830710338|\n",
      "|ATL-EWR|         1|  DL_UA|    389|1.658427818954252...|0.9998401258529293|\n",
      "|ATL-EWR|         1|  AS_AS|    181|7.716592165314135E-5|0.9999172917745824|\n",
      "|ATL-EWR|         1|  UA_DL|    122|5.201238918057039...|0.9999693041637631|\n",
      "|ATL-EWR|         1|  B6_B6|     72|3.069583623771368E-5|1.0000000000000007|\n",
      "+-------+----------+-------+-------+--------------------+------------------+\n",
      "\n",
      "Individual Legs - one-way (out-bound)\n",
      "+-------+----------+----------+------+--------------------+-------------------+\n",
      "| market|round_trip|out_fi_leg| count|           pct_count|            cum_pct|\n",
      "+-------+----------+----------+------+--------------------+-------------------+\n",
      "|ATL-EWR|         0|     NK-99|168840|    0.21156197999158|   0.21156197999158|\n",
      "|ATL-EWR|         0|   NK-1173|161553| 0.20243113334268945|0.41399311333426947|\n",
      "|ATL-EWR|         0|    UA-222| 37286|0.046720563764309705| 0.4607136770985792|\n",
      "|ATL-EWR|         0|   DL-1292| 30473| 0.03818365444375392| 0.4988973315423331|\n",
      "|ATL-EWR|         0|   UA-1697| 26111| 0.03271792738427001| 0.5316152589266031|\n",
      "|ATL-EWR|         0|    UA-287| 22914|0.028711982998857362| 0.5603272419254605|\n",
      "|ATL-EWR|         0|    UA-271| 22336|0.027987730307343844| 0.5883149722328043|\n",
      "|ATL-EWR|         0|    UA-556| 22024|0.027596784217807188| 0.6159117564506115|\n",
      "|ATL-EWR|         0|    UA-751| 21402| 0.02681739810341038| 0.6427291545540218|\n",
      "|ATL-EWR|         0|   NK-1079| 19857| 0.02488146314080073| 0.6676106176948226|\n",
      "|ATL-EWR|         0|   UA-2127| 19432|0.024348924397040856| 0.6919595420918634|\n",
      "|ATL-EWR|         0|   NK-1520| 18839|0.023605876220453487| 0.7155654183123169|\n",
      "|ATL-EWR|         0|   NK-1215| 17556|0.021998235730467722| 0.7375636540427847|\n",
      "|ATL-EWR|         0|   DL-2198| 16211|0.020312907235509946| 0.7578765612782946|\n",
      "|ATL-EWR|         0|   DL-2727| 14347|0.017977254956995935| 0.7758538162352906|\n",
      "|ATL-EWR|         0|   NK-3101| 13502|0.016918442631167426|  0.792772258866458|\n",
      "|ATL-EWR|         0|     NK-69| 13124|0.016444796407305676| 0.8092170552737636|\n",
      "|ATL-EWR|         0|   DL-2639| 12073|0.015127859419795858| 0.8243449146935595|\n",
      "|ATL-EWR|         0|   NK-1877| 12006|0.015043906253132566| 0.8393888209466921|\n",
      "|ATL-EWR|         0|   DL-2465| 11402|0.014287074720824355| 0.8536758956675164|\n",
      "+-------+----------+----------+------+--------------------+-------------------+\n",
      "only showing top 20 rows\n",
      "\n",
      "Individual Legs - round-trip, out-bound\n",
      "+-------+----------+----------+------+--------------------+-------------------+\n",
      "| market|round_trip|out_fi_leg| count|           pct_count|            cum_pct|\n",
      "+-------+----------+----------+------+--------------------+-------------------+\n",
      "|ATL-EWR|         1|    UA-222|225224| 0.09190138057725103|0.09190138057725103|\n",
      "|ATL-EWR|         1|    UA-751|163003| 0.06651245310550397|  0.158413833682755|\n",
      "|ATL-EWR|         1|     NK-99|131905|0.053823089923998466|0.21223692360675345|\n",
      "|ATL-EWR|         1|   NK-1173|122742| 0.05008417954930781| 0.2623211031560613|\n",
      "|ATL-EWR|         1|   UA-2127|120499| 0.04916893607332468|0.31149003922938595|\n",
      "|ATL-EWR|         1|    UA-320|114507|0.046723934330975325| 0.3582139735603613|\n",
      "|ATL-EWR|         1|    UA-287|113404|0.046273861413450294| 0.4044878349738116|\n",
      "|ATL-EWR|         1|   UA-1697|107279|0.043774589772614295|0.44826242474642586|\n",
      "|ATL-EWR|         1|    UA-556|100968| 0.04119942188276634| 0.4894618466291922|\n",
      "|ATL-EWR|         1|   DL-2465| 73100|0.029828041950223632| 0.5192898885794158|\n",
      "|ATL-EWR|         1|   DL-2727| 72743|0.029682370117443454| 0.5489722586968593|\n",
      "|ATL-EWR|         1|   DL-2178| 70697|0.028847511378316777|  0.577819770075176|\n",
      "|ATL-EWR|         1|   DL-2198| 68397| 0.02790900937441099|  0.605728779449587|\n",
      "|ATL-EWR|         1|   DL-2776| 64158| 0.02617930937677757| 0.6319080888263646|\n",
      "|ATL-EWR|         1|    UA-271| 56862|0.023202217802648733| 0.6551103066290134|\n",
      "|ATL-EWR|         1|   DL-2644| 53347|0.021767941914070735| 0.6768782485430841|\n",
      "|ATL-EWR|         1|   DL-2226| 52420|0.021389684802061774| 0.6982679333451459|\n",
      "|ATL-EWR|         1|   DL-1305| 46925|0.019147481101425882| 0.7174154144465718|\n",
      "|ATL-EWR|         1|   DL-2639| 45873| 0.01871821844572643| 0.7361336328922982|\n",
      "|ATL-EWR|         1|   UA-1348| 45697|0.018646402640210044| 0.7547800355325082|\n",
      "+-------+----------+----------+------+--------------------+-------------------+\n",
      "only showing top 20 rows\n",
      "\n",
      "Individual Legs - round-trip, in-bound\n",
      "+-------+----------+---------+------+--------------------+-------------------+\n",
      "| market|round_trip|in_fi_leg| count|           pct_count|            cum_pct|\n",
      "+-------+----------+---------+------+--------------------+-------------------+\n",
      "|ATL-EWR|         1|    NK-98|136031| 0.05592929188272582|0.05592929188272582|\n",
      "|ATL-EWR|         1|  NK-1146|130024|0.053459507375227346|0.10938879925795317|\n",
      "|ATL-EWR|         1|   UA-672|125961| 0.05178900055752067|0.16117779981547384|\n",
      "|ATL-EWR|         1|  UA-1358|125429| 0.05157026818562292|0.21274806800109675|\n",
      "|ATL-EWR|         1|  UA-2455|124993|0.051391006316925135|0.26413907431802186|\n",
      "|ATL-EWR|         1|  DL-2093| 92198| 0.03790730681244378|0.30204638113046567|\n",
      "|ATL-EWR|         1|  UA-1283| 91408| 0.03758249746319765| 0.3396288785936633|\n",
      "|ATL-EWR|         1|  DL-2575| 91216| 0.03750355645679825|0.37713243505046157|\n",
      "|ATL-EWR|         1|  UA-1213| 87992| 0.03617800539101237| 0.4133104404414739|\n",
      "|ATL-EWR|         1|   UA-626| 86604| 0.03560732769891886|0.44891776814039275|\n",
      "|ATL-EWR|         1|  DL-2266| 85375| 0.03510202302774894| 0.4840197911681417|\n",
      "|ATL-EWR|         1|   UA-730| 78712| 0.03236252341505357| 0.5163823145831953|\n",
      "|ATL-EWR|         1|  DL-2178| 73289|0.030132851135352093| 0.5465151657185474|\n",
      "|ATL-EWR|         1|  DL-2644| 67902|0.027917980294350966| 0.5744331460128984|\n",
      "|ATL-EWR|         1|  UA-1167| 67128| 0.02759974936230461|  0.602032895375203|\n",
      "|ATL-EWR|         1|  DL-2198| 63786| 0.02622568246966909|  0.628258577844872|\n",
      "|ATL-EWR|         1|  DL-2226| 57028|0.023447123504848833| 0.6517057013497208|\n",
      "|ATL-EWR|         1|  UA-1391| 54990|0.022609197614007898| 0.6743148989637288|\n",
      "|ATL-EWR|         1|  UA-1210| 52467|0.021571863451794026| 0.6958867624155228|\n",
      "|ATL-EWR|         1|  UA-1546| 49808|  0.0204786127433808| 0.7163653751589036|\n",
      "+-------+----------+---------+------+--------------------+-------------------+\n",
      "only showing top 20 rows\n",
      "\n",
      "Itineraries - one-way (out-bound)\n",
      "+-------+----------+---------------+------+--------------------+------------------+\n",
      "| market|round_trip|    out_fi_itin| count|           pct_count|           cum_pct|\n",
      "+-------+----------+---------------+------+--------------------+------------------+\n",
      "|ATL-EWR|         0|          NK-99|168840|  0.2335957896309696|0.2335957896309696|\n",
      "|ATL-EWR|         0|        NK-1173|161553|  0.2235139812973943|0.4571097709283639|\n",
      "|ATL-EWR|         0|         UA-222| 37286| 0.05158642864357022|0.5086961995719341|\n",
      "|ATL-EWR|         0|        DL-1292| 30473|0.042160415170721305|0.5508566147426555|\n",
      "|ATL-EWR|         0|        UA-1697| 26111| 0.03612544221188271|0.5869820569545382|\n",
      "|ATL-EWR|         0|         UA-287| 22914|  0.0317022857356318|  0.61868434269017|\n",
      "|ATL-EWR|         0|         UA-271| 22336|0.030902603394914498|0.6495869460850845|\n",
      "|ATL-EWR|         0|         UA-556| 22024| 0.03047094095494257|0.6800578870400271|\n",
      "|ATL-EWR|         0|         UA-751| 21402|0.029610383141921624|0.7096682701819488|\n",
      "|ATL-EWR|         0|        UA-2127| 19432|0.026884822222867907|0.7365530924048167|\n",
      "|ATL-EWR|         0|        DL-2198| 16211|0.022428460943542197|0.7589815533483589|\n",
      "|ATL-EWR|         0|        DL-2727| 14347| 0.01984955457140214|0.7788311079197611|\n",
      "|ATL-EWR|         0|NK-1079.NK-1215| 13411|0.018554567251486256|0.7973856751712474|\n",
      "|ATL-EWR|         0|  NK-3101.NK-69| 13119|0.018150575480743295|0.8155362506519906|\n",
      "|ATL-EWR|         0|        DL-2639| 12073|0.016703399480068153|0.8322396501320588|\n",
      "|ATL-EWR|         0|NK-1877.NK-1520| 11419|0.015798568596280784|0.8480382187283396|\n",
      "|ATL-EWR|         0|        DL-2465| 11402|0.015775048527436192|0.8638132672557758|\n",
      "|ATL-EWR|         0|        DL-2226| 10313|0.014268380587918747|0.8780816478436946|\n",
      "|ATL-EWR|         0|        DL-2647|  9073|0.012552799095722541|0.8906344469394171|\n",
      "|ATL-EWR|         0|        DL-2644|  8140| 0.01126196237619108|0.9018964093156081|\n",
      "+-------+----------+---------------+------+--------------------+------------------+\n",
      "only showing top 20 rows\n",
      "\n",
      "Itineraries - round-trip, out-bound\n",
      "+-------+----------+-----------+------+--------------------+-------------------+\n",
      "|market |round_trip|out_fi_itin|count |pct_count           |cum_pct            |\n",
      "+-------+----------+-----------+------+--------------------+-------------------+\n",
      "|ATL-EWR|1         |UA-222     |225224|0.09601998640004099 |0.09601998640004099|\n",
      "|ATL-EWR|1         |UA-751     |163003|0.06949324158689005 |0.16551322798693102|\n",
      "|ATL-EWR|1         |NK-99      |131905|0.056235198318550624|0.22174842630548164|\n",
      "|ATL-EWR|1         |NK-1173    |122742|0.05232872682624259 |0.2740771531317242 |\n",
      "|ATL-EWR|1         |UA-2127    |120499|0.051372466261225776|0.32544961939295   |\n",
      "|ATL-EWR|1         |UA-287     |113404|0.048347647398634945|0.3737972667915849 |\n",
      "|ATL-EWR|1         |UA-320     |108446|0.04623389800882073 |0.42003116480040564|\n",
      "|ATL-EWR|1         |UA-1697    |107279|0.04573636966313476 |0.4657675344635404 |\n",
      "|ATL-EWR|1         |UA-556     |100968|0.043045794350687366|0.5088133288142278 |\n",
      "|ATL-EWR|1         |DL-2465    |73100 |0.031164800402456515|0.5399781292166843 |\n",
      "|ATL-EWR|1         |DL-2727    |72743 |0.03101260021444449 |0.5709907294311288 |\n",
      "|ATL-EWR|1         |DL-2178    |70697 |0.030140326868022784|0.6011310562991516 |\n",
      "|ATL-EWR|1         |DL-2198    |68397 |0.029159765432651384|0.6302908217318031 |\n",
      "|ATL-EWR|1         |DL-2776    |64158 |0.027352548074155998|0.657643369805959  |\n",
      "|ATL-EWR|1         |UA-271     |56862 |0.02424203666873429 |0.6818854064746933 |\n",
      "|ATL-EWR|1         |DL-2644    |53347 |0.02274348299685157 |0.7046288894715449 |\n",
      "|ATL-EWR|1         |DL-2226    |52420 |0.022348274105290968|0.7269771635768358 |\n",
      "|ATL-EWR|1         |DL-1305    |46925 |0.02000558493687104 |0.7469827485137068 |\n",
      "|ATL-EWR|1         |DL-2639    |45873 |0.019557084662953313|0.7665398331766602 |\n",
      "|ATL-EWR|1         |UA-1348    |45697 |0.019482050396594543|0.7860218835732548 |\n",
      "+-------+----------+-----------+------+--------------------+-------------------+\n",
      "only showing top 20 rows\n",
      "\n",
      "Itineraries - round-trip, in-bound\n",
      "+-------+----------+----------+------+--------------------+--------------------+\n",
      "|market |round_trip|in_fi_itin|count |pct_count           |cum_pct             |\n",
      "+-------+----------+----------+------+--------------------+--------------------+\n",
      "|ATL-EWR|1         |NK-98     |136031|0.057994240267395206|0.057994240267395206|\n",
      "|ATL-EWR|1         |NK-1146   |130024|0.05543326959684022 |0.11342750986423543 |\n",
      "|ATL-EWR|1         |UA-672    |125961|0.05370108650470372 |0.16712859636893915 |\n",
      "|ATL-EWR|1         |UA-1358   |125429|0.05347427838139213 |0.22060287475033127 |\n",
      "|ATL-EWR|1         |UA-2455   |124918|0.053256423210315824|0.2738592979606471  |\n",
      "|ATL-EWR|1         |DL-2093   |92198 |0.03930687096451047 |0.3131661689251576  |\n",
      "|ATL-EWR|1         |UA-1283   |91408 |0.03897006942801293 |0.35213623835317054 |\n",
      "|ATL-EWR|1         |DL-2575   |91216 |0.03888821386471272 |0.3910244522178833  |\n",
      "|ATL-EWR|1         |UA-1213   |87992 |0.037513722530957146|0.42853817474884043 |\n",
      "|ATL-EWR|1         |UA-626    |86604 |0.03692197502126332 |0.46546014977010375 |\n",
      "|ATL-EWR|1         |DL-2266   |85375 |0.036398014149928215|0.5018581639200319  |\n",
      "|ATL-EWR|1         |UA-730    |78712 |0.03355737030476285 |0.5354155342247947  |\n",
      "|ATL-EWR|1         |DL-2178   |73289 |0.031245376972580594|0.5666609111973753  |\n",
      "|ATL-EWR|1         |DL-2644   |67902 |0.02894873155851723 |0.5956096427558925  |\n",
      "|ATL-EWR|1         |UA-1167   |67128 |0.02861875131896176 |0.6242283940748542  |\n",
      "|ATL-EWR|1         |DL-2198   |63786 |0.027193952920261204|0.6514223469951154  |\n",
      "|ATL-EWR|1         |DL-2226   |57028 |0.024312807624504683|0.6757351546196201  |\n",
      "|ATL-EWR|1         |UA-1391   |54990 |0.023443944926553776|0.6991790995461739  |\n",
      "|ATL-EWR|1         |UA-1210   |52467 |0.022368311665057213|0.7215474112112311  |\n",
      "|ATL-EWR|1         |UA-1546   |49808 |0.021234697379556133|0.7427821085907873  |\n",
      "+-------+----------+----------+------+--------------------+--------------------+\n",
      "only showing top 20 rows\n",
      "\n",
      "Itineraries - round-trip, out+in\n",
      "+-------+----------+---------------+-----+---------------------+--------------------+\n",
      "|market |round_trip|rt_fi_itin     |count|pct_count            |cum_pct             |\n",
      "+-------+----------+---------------+-----+---------------------+--------------------+\n",
      "|ATL-EWR|1         |NK-99_NK-98    |62671|0.02671859378963555  |0.02671859378963555 |\n",
      "|ATL-EWR|1         |NK-99_NK-1146  |60339|0.025724389760380634 |0.052442983550016184|\n",
      "|ATL-EWR|1         |NK-1173_NK-98  |59112|0.02520128155116295  |0.07764426510117914 |\n",
      "|ATL-EWR|1         |NK-1173_NK-1146|56030|0.02388732922776525  |0.10153159432894439 |\n",
      "|ATL-EWR|1         |UA-222_UA-1358 |23107|0.009851231777011445 |0.11138282610595583 |\n",
      "|ATL-EWR|1         |UA-222_UA-2455 |22270|0.009494392680748172 |0.120877218786704   |\n",
      "|ATL-EWR|1         |UA-222_UA-672  |21608|0.009212161519784752 |0.13008938030648876 |\n",
      "|ATL-EWR|1         |UA-751_UA-1358 |16395|0.0069896977099625935|0.13707907801645136 |\n",
      "|ATL-EWR|1         |UA-222_UA-1283 |15805|0.006738162385236973 |0.14381724040168833 |\n",
      "|ATL-EWR|1         |UA-751_UA-2455 |15613|0.006656306821936395 |0.15047354722362472 |\n",
      "|ATL-EWR|1         |UA-751_UA-672  |15451|0.006587241190401528 |0.15706078841402624 |\n",
      "|ATL-EWR|1         |UA-222_UA-626  |15122|0.006446978272037541 |0.1635077666860638  |\n",
      "|ATL-EWR|1         |UA-222_UA-1213 |14805|0.006311831326379741 |0.16981959801244353 |\n",
      "|ATL-EWR|1         |UA-287_UA-1358 |14045|0.005987819721648352 |0.1758074177340919  |\n",
      "|ATL-EWR|1         |UA-320_UA-1358 |13651|0.005819845284458699 |0.1816272630185506  |\n",
      "|ATL-EWR|1         |UA-320_UA-1283 |13486|0.0057495006597472935|0.1873767636782979  |\n",
      "|ATL-EWR|1         |UA-222_UA-730  |13377|0.005703030574331859 |0.19307979425262975 |\n",
      "|ATL-EWR|1         |UA-320_UA-2455 |13004|0.005544009089378157 |0.1986238033420079  |\n",
      "|ATL-EWR|1         |UA-320_UA-626  |12683|0.0054071568194850005|0.2040309601614929  |\n",
      "|ATL-EWR|1         |UA-2127_UA-672 |12446|0.005306116358535847 |0.20933707652002875 |\n",
      "+-------+----------+---------------+-----+---------------------+--------------------+\n",
      "only showing top 20 rows"
     ]
    }
   ],
   "source": [
    "show_market_analysis(\"ATL-EWR\")"
   ]
  },
  {
   "cell_type": "markdown",
   "id": "a1fc95c5-023d-4df1-b1fc-2ae8e60d5e4a",
   "metadata": {},
   "source": [
    "## SFO-LAX"
   ]
  },
  {
   "cell_type": "code",
   "execution_count": null,
   "id": "77c1e8ab-7a76-451c-be52-8ec47fa3da56",
   "metadata": {
    "tags": []
   },
   "outputs": [],
   "source": [
    "market = 'SFO-LAX'\n",
    "show_market_analysis(market)"
   ]
  },
  {
   "cell_type": "markdown",
   "id": "904f1eaf-662e-4434-a641-63e974146803",
   "metadata": {},
   "source": [
    "## LGA-MIA"
   ]
  },
  {
   "cell_type": "code",
   "execution_count": null,
   "id": "8c141d3b-5956-47a4-9cc4-54742d6e6291",
   "metadata": {
    "execution": {
     "iopub.status.busy": "2023-01-03T21:57:22.155853Z",
     "iopub.status.idle": "2023-01-03T21:57:22.156108Z",
     "shell.execute_reply": "2023-01-03T21:57:22.155996Z"
    },
    "tags": []
   },
   "outputs": [],
   "source": [
    "market = 'LGA-MIA'\n",
    "show_market_analysis(market)"
   ]
  },
  {
   "cell_type": "markdown",
   "id": "494c3cb1-0906-4d0d-ae33-b6abdea49a86",
   "metadata": {},
   "source": [
    "## OAK-LAS"
   ]
  },
  {
   "cell_type": "code",
   "execution_count": null,
   "id": "785df48b-dc17-4333-8aa0-c32c9ef29fec",
   "metadata": {
    "execution": {
     "iopub.status.busy": "2023-01-03T21:57:22.156967Z",
     "iopub.status.idle": "2023-01-03T21:57:22.157199Z",
     "shell.execute_reply": "2023-01-03T21:57:22.157090Z"
    },
    "tags": []
   },
   "outputs": [],
   "source": [
    "market = 'OAK-LAS'\n",
    "show_market_analysis(market)"
   ]
  },
  {
   "cell_type": "markdown",
   "id": "cead5277-cfc8-473f-a904-901ba130acf9",
   "metadata": {},
   "source": [
    "## LAX-SFO"
   ]
  },
  {
   "cell_type": "code",
   "execution_count": null,
   "id": "c9bc8e29-f8cd-4db9-b7f1-89cc6ad46bbc",
   "metadata": {
    "execution": {
     "iopub.status.busy": "2023-01-03T21:57:22.158196Z",
     "iopub.status.idle": "2023-01-03T21:57:22.158581Z",
     "shell.execute_reply": "2023-01-03T21:57:22.158374Z"
    },
    "tags": []
   },
   "outputs": [],
   "source": [
    "market = 'LAX-SFO'\n",
    "show_market_analysis(market)"
   ]
  },
  {
   "cell_type": "markdown",
   "id": "7ee54e75-8ae5-4967-b44d-412dfcbd1472",
   "metadata": {},
   "source": [
    "## LAX-JFK"
   ]
  },
  {
   "cell_type": "code",
   "execution_count": null,
   "id": "60d207b4-77b6-4b7e-85c3-6d209a4a5682",
   "metadata": {
    "execution": {
     "iopub.status.busy": "2023-01-03T21:57:22.159778Z",
     "iopub.status.idle": "2023-01-03T21:57:22.160214Z",
     "shell.execute_reply": "2023-01-03T21:57:22.160032Z"
    },
    "tags": []
   },
   "outputs": [],
   "source": [
    "market = 'LAX-JFK'\n",
    "show_market_analysis(market)"
   ]
  },
  {
   "cell_type": "markdown",
   "id": "4190d56e-084b-4485-8744-55586005a677",
   "metadata": {},
   "source": [
    "## JFK-LAX"
   ]
  },
  {
   "cell_type": "code",
   "execution_count": null,
   "id": "cbf62784-9fe2-40e4-8774-021703246272",
   "metadata": {
    "execution": {
     "iopub.status.busy": "2023-01-03T21:57:22.161188Z",
     "iopub.status.idle": "2023-01-03T21:57:22.161597Z",
     "shell.execute_reply": "2023-01-03T21:57:22.161421Z"
    },
    "tags": []
   },
   "outputs": [],
   "source": [
    "market = 'JFK-LAX'\n",
    "show_market_analysis(market)"
   ]
  },
  {
   "cell_type": "markdown",
   "id": "2ae463a2-90ce-410e-ba06-7b700a400cee",
   "metadata": {},
   "source": [
    "## EWR-CDG"
   ]
  },
  {
   "cell_type": "code",
   "execution_count": null,
   "id": "d59c8e53-0635-4431-8183-d997f1261eec",
   "metadata": {
    "execution": {
     "iopub.status.busy": "2023-01-03T21:57:22.162619Z",
     "iopub.status.idle": "2023-01-03T21:57:22.163004Z",
     "shell.execute_reply": "2023-01-03T21:57:22.162824Z"
    },
    "tags": []
   },
   "outputs": [],
   "source": [
    "market = 'EWR-CDG'\n",
    "show_market_analysis(market)"
   ]
  },
  {
   "cell_type": "markdown",
   "id": "cb5e2de3-426a-48e9-add7-86b71923a724",
   "metadata": {},
   "source": [
    "## others"
   ]
  },
  {
   "cell_type": "code",
   "execution_count": null,
   "id": "f4fe66d3-50c2-4f0f-b9ba-d28debc892de",
   "metadata": {
    "execution": {
     "iopub.status.busy": "2023-01-03T21:57:22.164274Z",
     "iopub.status.idle": "2023-01-03T21:57:22.164627Z",
     "shell.execute_reply": "2023-01-03T21:57:22.164453Z"
    }
   },
   "outputs": [],
   "source": [
    "market_one_str_grp.select(\"market\").distinct().show()"
   ]
  },
  {
   "cell_type": "markdown",
   "id": "fb0231a1-2e23-41d7-a9fe-3621833c450c",
   "metadata": {},
   "source": [
    "# Higher level summary"
   ]
  },
  {
   "cell_type": "markdown",
   "id": "bbe012ac-b6f3-4a71-a2cf-30a9b3cc4b7a",
   "metadata": {},
   "source": [
    "## num to get to X %"
   ]
  },
  {
   "cell_type": "code",
   "execution_count": 96,
   "id": "44d19526-4be3-492b-95ed-efea21e905f7",
   "metadata": {
    "execution": {
     "iopub.execute_input": "2023-01-03T21:57:48.245840Z",
     "iopub.status.busy": "2023-01-03T21:57:48.245612Z",
     "iopub.status.idle": "2023-01-03T21:57:48.299371Z",
     "shell.execute_reply": "2023-01-03T21:57:48.298528Z",
     "shell.execute_reply.started": "2023-01-03T21:57:48.245817Z"
    },
    "tags": []
   },
   "outputs": [
    {
     "data": {
      "application/vnd.jupyter.widget-view+json": {
       "model_id": "",
       "version_major": 2,
       "version_minor": 0
      },
      "text/plain": [
       "VBox()"
      ]
     },
     "metadata": {},
     "output_type": "display_data"
    },
    {
     "data": {
      "application/vnd.jupyter.widget-view+json": {
       "model_id": "",
       "version_major": 2,
       "version_minor": 0
      },
      "text/plain": [
       "FloatProgress(value=0.0, bar_style='info', description='Progress:', layout=Layout(height='25px', width='50%'),…"
      ]
     },
     "metadata": {},
     "output_type": "display_data"
    }
   ],
   "source": [
    "def count_num_records_to_cutoff(df, cutoff, things=\"things\"):\n",
    "    w3 = Window.partitionBy(\"market\").orderBy('cum_pct')\n",
    "\n",
    "    window_df = df.withColumn(\"row_num\", F.row_number().over(w3))\n",
    "    filt_df = window_df.filter(F.col(\"cum_pct\") <= cutoff)\n",
    "    # could add a collect_list agg here \n",
    "    final_result = filt_df.groupBy(\"market\").agg(F.max(\"row_num\").alias(f\"num_{things}\"))\n",
    "    final_result.orderBy(\"market\").show()"
   ]
  },
  {
   "cell_type": "code",
   "execution_count": 97,
   "id": "5aa7406f-652e-4c72-8aae-c64126d49111",
   "metadata": {
    "execution": {
     "iopub.execute_input": "2023-01-03T21:57:51.755210Z",
     "iopub.status.busy": "2023-01-03T21:57:51.754982Z",
     "iopub.status.idle": "2023-01-03T21:57:51.817648Z",
     "shell.execute_reply": "2023-01-03T21:57:51.816789Z",
     "shell.execute_reply.started": "2023-01-03T21:57:51.755186Z"
    }
   },
   "outputs": [
    {
     "data": {
      "application/vnd.jupyter.widget-view+json": {
       "model_id": "",
       "version_major": 2,
       "version_minor": 0
      },
      "text/plain": [
       "VBox()"
      ]
     },
     "metadata": {},
     "output_type": "display_data"
    },
    {
     "data": {
      "application/vnd.jupyter.widget-view+json": {
       "model_id": "",
       "version_major": 2,
       "version_minor": 0
      },
      "text/plain": [
       "FloatProgress(value=0.0, bar_style='info', description='Progress:', layout=Layout(height='25px', width='50%'),…"
      ]
     },
     "metadata": {},
     "output_type": "display_data"
    }
   ],
   "source": [
    "cutoff = 0.99"
   ]
  },
  {
   "cell_type": "code",
   "execution_count": 98,
   "id": "759095c0-b708-4409-b1d7-f1303686b7b5",
   "metadata": {
    "execution": {
     "iopub.execute_input": "2023-01-03T21:57:52.588854Z",
     "iopub.status.busy": "2023-01-03T21:57:52.588618Z",
     "iopub.status.idle": "2023-01-03T21:58:21.942562Z",
     "shell.execute_reply": "2023-01-03T21:58:21.941815Z",
     "shell.execute_reply.started": "2023-01-03T21:57:52.588830Z"
    },
    "tags": []
   },
   "outputs": [
    {
     "data": {
      "application/vnd.jupyter.widget-view+json": {
       "model_id": "",
       "version_major": 2,
       "version_minor": 0
      },
      "text/plain": [
       "VBox()"
      ]
     },
     "metadata": {},
     "output_type": "display_data"
    },
    {
     "data": {
      "application/vnd.jupyter.widget-view+json": {
       "model_id": "",
       "version_major": 2,
       "version_minor": 0
      },
      "text/plain": [
       "FloatProgress(value=0.0, bar_style='info', description='Progress:', layout=Layout(height='25px', width='50%'),…"
      ]
     },
     "metadata": {},
     "output_type": "display_data"
    },
    {
     "name": "stdout",
     "output_type": "stream",
     "text": [
      "+-------+------------+\n",
      "| market|num_carriers|\n",
      "+-------+------------+\n",
      "|ATL-EWR|           3|\n",
      "|EWR-CDG|           8|\n",
      "|EWR-LHR|           4|\n",
      "|JFK-LAX|           2|\n",
      "|JFK-LHR|           4|\n",
      "|LAX-EWR|           5|\n",
      "|LAX-JFK|           2|\n",
      "|LAX-SFO|           3|\n",
      "|LGA-MIA|           3|\n",
      "|LHR-EWR|           2|\n",
      "|LHR-JFK|           5|\n",
      "|LHR-LAX|           8|\n",
      "|OAK-LAS|           2|\n",
      "|SFO-LAX|           4|\n",
      "+-------+------------+"
     ]
    }
   ],
   "source": [
    "count_num_records_to_cutoff(ow_out_cxr_crude_agg, cutoff, \"carriers\")"
   ]
  },
  {
   "cell_type": "markdown",
   "id": "ff36d2ba-0f6f-4574-a77c-43253409b518",
   "metadata": {},
   "source": [
    "Num carriers, round-trip, including inter-line"
   ]
  },
  {
   "cell_type": "code",
   "execution_count": 99,
   "id": "806253ed-544c-4fc5-b340-215e9a77c56e",
   "metadata": {
    "execution": {
     "iopub.execute_input": "2023-01-03T21:58:38.763505Z",
     "iopub.status.busy": "2023-01-03T21:58:38.763275Z",
     "iopub.status.idle": "2023-01-03T21:59:22.168295Z",
     "shell.execute_reply": "2023-01-03T21:59:22.167601Z",
     "shell.execute_reply.started": "2023-01-03T21:58:38.763481Z"
    },
    "tags": []
   },
   "outputs": [
    {
     "data": {
      "application/vnd.jupyter.widget-view+json": {
       "model_id": "",
       "version_major": 2,
       "version_minor": 0
      },
      "text/plain": [
       "VBox()"
      ]
     },
     "metadata": {},
     "output_type": "display_data"
    },
    {
     "data": {
      "application/vnd.jupyter.widget-view+json": {
       "model_id": "",
       "version_major": 2,
       "version_minor": 0
      },
      "text/plain": [
       "FloatProgress(value=0.0, bar_style='info', description='Progress:', layout=Layout(height='25px', width='50%'),…"
      ]
     },
     "metadata": {},
     "output_type": "display_data"
    },
    {
     "name": "stdout",
     "output_type": "stream",
     "text": [
      "+-------+------------+\n",
      "| market|num_carriers|\n",
      "+-------+------------+\n",
      "|ATL-EWR|           2|\n",
      "|EWR-CDG|          17|\n",
      "|EWR-LHR|          15|\n",
      "|JFK-LAX|           2|\n",
      "|JFK-LHR|          18|\n",
      "|LAX-EWR|           4|\n",
      "|LAX-JFK|           2|\n",
      "|LAX-SFO|           4|\n",
      "|LGA-MIA|           3|\n",
      "|LHR-EWR|          10|\n",
      "|LHR-JFK|          12|\n",
      "|LHR-LAX|          22|\n",
      "|OAK-LAS|           3|\n",
      "|SFO-LAX|           4|\n",
      "+-------+------------+"
     ]
    }
   ],
   "source": [
    "count_num_records_to_cutoff(rt_out_cxr_nuanced_agg, cutoff, \"carriers\")"
   ]
  },
  {
   "cell_type": "markdown",
   "id": "aafcabdb-329e-428d-99fc-5a65b182b21d",
   "metadata": {},
   "source": [
    "Num legs - one-way"
   ]
  },
  {
   "cell_type": "code",
   "execution_count": 100,
   "id": "a6aeb90c-3190-4813-8d2c-ffbe03c104c3",
   "metadata": {
    "execution": {
     "iopub.execute_input": "2023-01-03T22:00:00.036634Z",
     "iopub.status.busy": "2023-01-03T22:00:00.036388Z",
     "iopub.status.idle": "2023-01-03T22:00:00.097621Z",
     "shell.execute_reply": "2023-01-03T22:00:00.097072Z",
     "shell.execute_reply.started": "2023-01-03T22:00:00.036609Z"
    }
   },
   "outputs": [
    {
     "data": {
      "application/vnd.jupyter.widget-view+json": {
       "model_id": "",
       "version_major": 2,
       "version_minor": 0
      },
      "text/plain": [
       "VBox()"
      ]
     },
     "metadata": {},
     "output_type": "display_data"
    },
    {
     "data": {
      "application/vnd.jupyter.widget-view+json": {
       "model_id": "",
       "version_major": 2,
       "version_minor": 0
      },
      "text/plain": [
       "FloatProgress(value=0.0, bar_style='info', description='Progress:', layout=Layout(height='25px', width='50%'),…"
      ]
     },
     "metadata": {},
     "output_type": "display_data"
    }
   ],
   "source": [
    "cutoff = 0.90"
   ]
  },
  {
   "cell_type": "code",
   "execution_count": 101,
   "id": "c0d67b14-3129-4169-ac45-fc2c75b63a4f",
   "metadata": {
    "execution": {
     "iopub.execute_input": "2023-01-03T22:00:01.023280Z",
     "iopub.status.busy": "2023-01-03T22:00:01.023048Z",
     "iopub.status.idle": "2023-01-03T22:00:40.800369Z",
     "shell.execute_reply": "2023-01-03T22:00:40.799594Z",
     "shell.execute_reply.started": "2023-01-03T22:00:01.023255Z"
    },
    "tags": []
   },
   "outputs": [
    {
     "data": {
      "application/vnd.jupyter.widget-view+json": {
       "model_id": "",
       "version_major": 2,
       "version_minor": 0
      },
      "text/plain": [
       "VBox()"
      ]
     },
     "metadata": {},
     "output_type": "display_data"
    },
    {
     "data": {
      "application/vnd.jupyter.widget-view+json": {
       "model_id": "",
       "version_major": 2,
       "version_minor": 0
      },
      "text/plain": [
       "FloatProgress(value=0.0, bar_style='info', description='Progress:', layout=Layout(height='25px', width='50%'),…"
      ]
     },
     "metadata": {},
     "output_type": "display_data"
    },
    {
     "name": "stdout",
     "output_type": "stream",
     "text": [
      "+-------+--------+\n",
      "| market|num_legs|\n",
      "+-------+--------+\n",
      "|ATL-EWR|      24|\n",
      "|EWR-CDG|      25|\n",
      "|EWR-LHR|       8|\n",
      "|JFK-LAX|      25|\n",
      "|JFK-LHR|       9|\n",
      "|LAX-EWR|      18|\n",
      "|LAX-JFK|      36|\n",
      "|LAX-SFO|      31|\n",
      "|LGA-MIA|      12|\n",
      "|LHR-EWR|       7|\n",
      "|LHR-JFK|       4|\n",
      "|LHR-LAX|      25|\n",
      "|OAK-LAS|      11|\n",
      "|SFO-LAX|      36|\n",
      "+-------+--------+"
     ]
    }
   ],
   "source": [
    "count_num_records_to_cutoff(ow_out_fi_per_leg_agg, cutoff, \"legs\")"
   ]
  },
  {
   "cell_type": "markdown",
   "id": "c494399f-86af-4d20-b158-bf67f9c05268",
   "metadata": {},
   "source": [
    "Num legs - round-trip, out-bound"
   ]
  },
  {
   "cell_type": "code",
   "execution_count": 102,
   "id": "c1ca1ade-a4f7-4087-bdaa-2bd1068004b0",
   "metadata": {
    "execution": {
     "iopub.execute_input": "2023-01-03T22:01:11.272256Z",
     "iopub.status.busy": "2023-01-03T22:01:11.272032Z",
     "iopub.status.idle": "2023-01-03T22:02:12.713118Z",
     "shell.execute_reply": "2023-01-03T22:02:12.712543Z",
     "shell.execute_reply.started": "2023-01-03T22:01:11.272233Z"
    },
    "tags": []
   },
   "outputs": [
    {
     "data": {
      "application/vnd.jupyter.widget-view+json": {
       "model_id": "",
       "version_major": 2,
       "version_minor": 0
      },
      "text/plain": [
       "VBox()"
      ]
     },
     "metadata": {},
     "output_type": "display_data"
    },
    {
     "data": {
      "application/vnd.jupyter.widget-view+json": {
       "model_id": "",
       "version_major": 2,
       "version_minor": 0
      },
      "text/plain": [
       "FloatProgress(value=0.0, bar_style='info', description='Progress:', layout=Layout(height='25px', width='50%'),…"
      ]
     },
     "metadata": {},
     "output_type": "display_data"
    },
    {
     "name": "stdout",
     "output_type": "stream",
     "text": [
      "+-------+--------+\n",
      "| market|num_legs|\n",
      "+-------+--------+\n",
      "|ATL-EWR|      40|\n",
      "|EWR-CDG|      46|\n",
      "|EWR-LHR|      75|\n",
      "|JFK-LAX|      33|\n",
      "|JFK-LHR|      69|\n",
      "|LAX-EWR|      76|\n",
      "|LAX-JFK|      36|\n",
      "|LAX-SFO|      42|\n",
      "|LGA-MIA|      20|\n",
      "|LHR-EWR|      49|\n",
      "|LHR-JFK|      54|\n",
      "|LHR-LAX|     169|\n",
      "|OAK-LAS|      30|\n",
      "|SFO-LAX|      42|\n",
      "+-------+--------+"
     ]
    }
   ],
   "source": [
    "count_num_records_to_cutoff(rt_out_fi_per_leg_agg, cutoff, \"legs\")"
   ]
  },
  {
   "cell_type": "markdown",
   "id": "a3cb4a16-32d5-41b1-85c6-bfe613e2c2b9",
   "metadata": {},
   "source": [
    "Num legs - round-trip, in-bound"
   ]
  },
  {
   "cell_type": "code",
   "execution_count": 103,
   "id": "173c4909-c900-48ce-bc99-7b47e92f3538",
   "metadata": {
    "execution": {
     "iopub.execute_input": "2023-01-03T22:04:46.530435Z",
     "iopub.status.busy": "2023-01-03T22:04:46.530088Z",
     "iopub.status.idle": "2023-01-03T22:06:02.046449Z",
     "shell.execute_reply": "2023-01-03T22:06:02.045674Z",
     "shell.execute_reply.started": "2023-01-03T22:04:46.530393Z"
    },
    "tags": []
   },
   "outputs": [
    {
     "data": {
      "application/vnd.jupyter.widget-view+json": {
       "model_id": "",
       "version_major": 2,
       "version_minor": 0
      },
      "text/plain": [
       "VBox()"
      ]
     },
     "metadata": {},
     "output_type": "display_data"
    },
    {
     "data": {
      "application/vnd.jupyter.widget-view+json": {
       "model_id": "",
       "version_major": 2,
       "version_minor": 0
      },
      "text/plain": [
       "FloatProgress(value=0.0, bar_style='info', description='Progress:', layout=Layout(height='25px', width='50%'),…"
      ]
     },
     "metadata": {},
     "output_type": "display_data"
    },
    {
     "name": "stdout",
     "output_type": "stream",
     "text": [
      "+-------+--------+\n",
      "| market|num_legs|\n",
      "+-------+--------+\n",
      "|ATL-EWR|      40|\n",
      "|EWR-CDG|      44|\n",
      "|EWR-LHR|      89|\n",
      "|JFK-LAX|      35|\n",
      "|JFK-LHR|      72|\n",
      "|LAX-EWR|      74|\n",
      "|LAX-JFK|      32|\n",
      "|LAX-SFO|      40|\n",
      "|LGA-MIA|      23|\n",
      "|LHR-EWR|      47|\n",
      "|LHR-JFK|      33|\n",
      "|LHR-LAX|     110|\n",
      "|OAK-LAS|      25|\n",
      "|SFO-LAX|      38|\n",
      "+-------+--------+"
     ]
    }
   ],
   "source": [
    "count_num_records_to_cutoff(rt_in_fi_per_leg_agg, cutoff, \"legs\")"
   ]
  },
  {
   "cell_type": "markdown",
   "id": "c9c0503e-0b96-4942-a1df-0e33a10f5a1e",
   "metadata": {},
   "source": [
    "Num itin - one-way"
   ]
  },
  {
   "cell_type": "code",
   "execution_count": 104,
   "id": "68504dd2-1e83-43c5-8108-06f4b3281164",
   "metadata": {
    "execution": {
     "iopub.execute_input": "2023-01-03T22:06:02.047692Z",
     "iopub.status.busy": "2023-01-03T22:06:02.047496Z",
     "iopub.status.idle": "2023-01-03T22:06:41.876526Z",
     "shell.execute_reply": "2023-01-03T22:06:41.871982Z",
     "shell.execute_reply.started": "2023-01-03T22:06:02.047669Z"
    },
    "tags": []
   },
   "outputs": [
    {
     "data": {
      "application/vnd.jupyter.widget-view+json": {
       "model_id": "",
       "version_major": 2,
       "version_minor": 0
      },
      "text/plain": [
       "VBox()"
      ]
     },
     "metadata": {},
     "output_type": "display_data"
    },
    {
     "data": {
      "application/vnd.jupyter.widget-view+json": {
       "model_id": "",
       "version_major": 2,
       "version_minor": 0
      },
      "text/plain": [
       "FloatProgress(value=0.0, bar_style='info', description='Progress:', layout=Layout(height='25px', width='50%'),…"
      ]
     },
     "metadata": {},
     "output_type": "display_data"
    },
    {
     "name": "stdout",
     "output_type": "stream",
     "text": [
      "+-------+--------+\n",
      "| market|num_itin|\n",
      "+-------+--------+\n",
      "|ATL-EWR|      19|\n",
      "|EWR-CDG|      24|\n",
      "|EWR-LHR|      11|\n",
      "|JFK-LAX|      24|\n",
      "|JFK-LHR|      15|\n",
      "|LAX-EWR|      15|\n",
      "|LAX-JFK|      32|\n",
      "|LAX-SFO|      31|\n",
      "|LGA-MIA|      11|\n",
      "|LHR-EWR|      11|\n",
      "|LHR-JFK|       4|\n",
      "|LHR-LAX|      24|\n",
      "|OAK-LAS|       6|\n",
      "|SFO-LAX|      35|\n",
      "+-------+--------+"
     ]
    }
   ],
   "source": [
    "count_num_records_to_cutoff(ow_out_fi_one_str_agg, cutoff, \"itin\")"
   ]
  },
  {
   "cell_type": "markdown",
   "id": "46c2cd7e-a02f-4303-8a80-16aa39a83cae",
   "metadata": {},
   "source": [
    "Num itin - round-trip, out-bound"
   ]
  },
  {
   "cell_type": "code",
   "execution_count": 105,
   "id": "bbe0efb2-b5c5-4a89-b597-7268e63d0840",
   "metadata": {
    "execution": {
     "iopub.execute_input": "2023-01-03T22:06:41.892873Z",
     "iopub.status.busy": "2023-01-03T22:06:41.892645Z",
     "iopub.status.idle": "2023-01-03T22:07:47.436372Z",
     "shell.execute_reply": "2023-01-03T22:07:47.435493Z",
     "shell.execute_reply.started": "2023-01-03T22:06:41.892837Z"
    },
    "tags": []
   },
   "outputs": [
    {
     "data": {
      "application/vnd.jupyter.widget-view+json": {
       "model_id": "",
       "version_major": 2,
       "version_minor": 0
      },
      "text/plain": [
       "VBox()"
      ]
     },
     "metadata": {},
     "output_type": "display_data"
    },
    {
     "data": {
      "application/vnd.jupyter.widget-view+json": {
       "model_id": "",
       "version_major": 2,
       "version_minor": 0
      },
      "text/plain": [
       "FloatProgress(value=0.0, bar_style='info', description='Progress:', layout=Layout(height='25px', width='50%'),…"
      ]
     },
     "metadata": {},
     "output_type": "display_data"
    },
    {
     "name": "stdout",
     "output_type": "stream",
     "text": [
      "+-------+--------+\n",
      "| market|num_itin|\n",
      "+-------+--------+\n",
      "|ATL-EWR|      40|\n",
      "|EWR-CDG|      46|\n",
      "|EWR-LHR|      75|\n",
      "|JFK-LAX|      33|\n",
      "|JFK-LHR|      69|\n",
      "|LAX-EWR|      76|\n",
      "|LAX-JFK|      36|\n",
      "|LAX-SFO|      42|\n",
      "|LGA-MIA|      20|\n",
      "|LHR-EWR|      49|\n",
      "|LHR-JFK|      54|\n",
      "|LHR-LAX|     169|\n",
      "|OAK-LAS|      30|\n",
      "|SFO-LAX|      42|\n",
      "+-------+--------+"
     ]
    }
   ],
   "source": [
    "count_num_records_to_cutoff(rt_out_fi_per_leg_agg, cutoff, \"itin\")"
   ]
  },
  {
   "cell_type": "markdown",
   "id": "012aaf09-3244-4a3d-9335-69b1816e39be",
   "metadata": {},
   "source": [
    "Num itin - round-trip, out+in"
   ]
  },
  {
   "cell_type": "code",
   "execution_count": 106,
   "id": "b1c5d9da-3ca0-417a-8e11-2b06b09d7cf5",
   "metadata": {
    "execution": {
     "iopub.execute_input": "2023-01-03T22:07:47.437992Z",
     "iopub.status.busy": "2023-01-03T22:07:47.437687Z",
     "iopub.status.idle": "2023-01-03T22:09:33.008941Z",
     "shell.execute_reply": "2023-01-03T22:09:33.008022Z",
     "shell.execute_reply.started": "2023-01-03T22:07:47.437952Z"
    },
    "tags": []
   },
   "outputs": [
    {
     "data": {
      "application/vnd.jupyter.widget-view+json": {
       "model_id": "",
       "version_major": 2,
       "version_minor": 0
      },
      "text/plain": [
       "VBox()"
      ]
     },
     "metadata": {},
     "output_type": "display_data"
    },
    {
     "data": {
      "application/vnd.jupyter.widget-view+json": {
       "model_id": "",
       "version_major": 2,
       "version_minor": 0
      },
      "text/plain": [
       "FloatProgress(value=0.0, bar_style='info', description='Progress:', layout=Layout(height='25px', width='50%'),…"
      ]
     },
     "metadata": {},
     "output_type": "display_data"
    },
    {
     "name": "stdout",
     "output_type": "stream",
     "text": [
      "+-------+--------+\n",
      "| market|num_itin|\n",
      "+-------+--------+\n",
      "|ATL-EWR|     481|\n",
      "|EWR-CDG|     675|\n",
      "|EWR-LHR|    2168|\n",
      "|JFK-LAX|     407|\n",
      "|JFK-LHR|    1059|\n",
      "|LAX-EWR|    1181|\n",
      "|LAX-JFK|     426|\n",
      "|LAX-SFO|     487|\n",
      "|LGA-MIA|     163|\n",
      "|LHR-EWR|     653|\n",
      "|LHR-JFK|     660|\n",
      "|LHR-LAX|    3945|\n",
      "|OAK-LAS|     189|\n",
      "|SFO-LAX|     530|\n",
      "+-------+--------+"
     ]
    }
   ],
   "source": [
    "count_num_records_to_cutoff(rt_fi_one_str_agg, cutoff, \"itin\")"
   ]
  },
  {
   "cell_type": "markdown",
   "id": "b5b111c0-67be-45f2-8a5d-c5cd443808fa",
   "metadata": {},
   "source": [
    "## reverse: top X = Y %"
   ]
  },
  {
   "cell_type": "code",
   "execution_count": 45,
   "id": "728adfde-4fb6-4b4d-8af0-277cf3a71ef9",
   "metadata": {
    "execution": {
     "iopub.execute_input": "2023-01-03T23:35:49.444404Z",
     "iopub.status.busy": "2023-01-03T23:35:49.444144Z",
     "iopub.status.idle": "2023-01-03T23:35:49.518101Z",
     "shell.execute_reply": "2023-01-03T23:35:49.517385Z",
     "shell.execute_reply.started": "2023-01-03T23:35:49.444379Z"
    },
    "tags": []
   },
   "outputs": [
    {
     "data": {
      "application/vnd.jupyter.widget-view+json": {
       "model_id": "04f60eb484e245fabda07d3b67fa7aae",
       "version_major": 2,
       "version_minor": 0
      },
      "text/plain": [
       "VBox()"
      ]
     },
     "metadata": {},
     "output_type": "display_data"
    },
    {
     "data": {
      "application/vnd.jupyter.widget-view+json": {
       "model_id": "",
       "version_major": 2,
       "version_minor": 0
      },
      "text/plain": [
       "FloatProgress(value=0.0, bar_style='info', description='Progress:', layout=Layout(height='25px', width='50%'),…"
      ]
     },
     "metadata": {},
     "output_type": "display_data"
    }
   ],
   "source": [
    "def top_num_records_to_cutoff(df, top_n):\n",
    "    w3 = Window.partitionBy(\"market\").orderBy('cum_pct')\n",
    "    window_df = df.withColumn(\"row_num\", F.row_number().over(w3))\n",
    "    \n",
    "    filt_df = window_df.filter(F.col(\"row_num\") <= top_n)\n",
    "    # could add a collect_list agg here \n",
    "    final_result = filt_df.groupBy(\"market\").agg(F.max(\"cum_pct\").alias(\"pct_lowest_fares\"))\n",
    "    final_result.orderBy(\"market\").show()"
   ]
  },
  {
   "cell_type": "markdown",
   "id": "66386eb3-f09c-4d1a-a2fc-1ef6f5e6a508",
   "metadata": {},
   "source": [
    "Num itin - one-way"
   ]
  },
  {
   "cell_type": "code",
   "execution_count": 46,
   "id": "cf8e7183-a724-4526-8b88-0a50ec4d2ab0",
   "metadata": {
    "execution": {
     "iopub.execute_input": "2023-01-03T23:35:50.759259Z",
     "iopub.status.busy": "2023-01-03T23:35:50.759028Z",
     "iopub.status.idle": "2023-01-03T23:35:50.818753Z",
     "shell.execute_reply": "2023-01-03T23:35:50.818171Z",
     "shell.execute_reply.started": "2023-01-03T23:35:50.759235Z"
    }
   },
   "outputs": [
    {
     "data": {
      "application/vnd.jupyter.widget-view+json": {
       "model_id": "5cffe761e00b417697ebcaa29d9ad6a9",
       "version_major": 2,
       "version_minor": 0
      },
      "text/plain": [
       "VBox()"
      ]
     },
     "metadata": {},
     "output_type": "display_data"
    },
    {
     "data": {
      "application/vnd.jupyter.widget-view+json": {
       "model_id": "",
       "version_major": 2,
       "version_minor": 0
      },
      "text/plain": [
       "FloatProgress(value=0.0, bar_style='info', description='Progress:', layout=Layout(height='25px', width='50%'),…"
      ]
     },
     "metadata": {},
     "output_type": "display_data"
    }
   ],
   "source": [
    "num = 50"
   ]
  },
  {
   "cell_type": "code",
   "execution_count": 47,
   "id": "88ad5b7e-66e4-4451-8c4b-652e78eb34de",
   "metadata": {
    "execution": {
     "iopub.execute_input": "2023-01-03T23:35:51.260977Z",
     "iopub.status.busy": "2023-01-03T23:35:51.260753Z",
     "iopub.status.idle": "2023-01-03T23:36:40.677684Z",
     "shell.execute_reply": "2023-01-03T23:36:40.676980Z",
     "shell.execute_reply.started": "2023-01-03T23:35:51.260955Z"
    },
    "tags": []
   },
   "outputs": [
    {
     "data": {
      "application/vnd.jupyter.widget-view+json": {
       "model_id": "42d888a116c047de8f5de65ce7f41c2b",
       "version_major": 2,
       "version_minor": 0
      },
      "text/plain": [
       "VBox()"
      ]
     },
     "metadata": {},
     "output_type": "display_data"
    },
    {
     "data": {
      "application/vnd.jupyter.widget-view+json": {
       "model_id": "",
       "version_major": 2,
       "version_minor": 0
      },
      "text/plain": [
       "FloatProgress(value=0.0, bar_style='info', description='Progress:', layout=Layout(height='25px', width='50%'),…"
      ]
     },
     "metadata": {},
     "output_type": "display_data"
    },
    {
     "name": "stdout",
     "output_type": "stream",
     "text": [
      "+-------+------------------+\n",
      "| market|  pct_lowest_fares|\n",
      "+-------+------------------+\n",
      "|ATL-EWR|0.9872548897531371|\n",
      "|EWR-CDG|0.9714459694733725|\n",
      "|EWR-LHR| 0.991232873065948|\n",
      "|JFK-LAX|0.9807788155956191|\n",
      "|JFK-LHR|0.9962724492941113|\n",
      "|LAX-EWR|0.9732849236633097|\n",
      "|LAX-JFK|0.9732303440851725|\n",
      "|LAX-SFO|0.9665233613782483|\n",
      "|LGA-MIA|0.9974719748789513|\n",
      "|LHR-EWR|0.9999662973340323|\n",
      "|LHR-JFK|0.9984920781654234|\n",
      "|LHR-LAX|0.9584603871371288|\n",
      "|OAK-LAS|0.9993746846469986|\n",
      "|SFO-LAX|0.9521480233388164|\n",
      "+-------+------------------+"
     ]
    }
   ],
   "source": [
    "top_num_records_to_cutoff(ow_out_fi_one_str_agg, num)"
   ]
  },
  {
   "cell_type": "markdown",
   "id": "0e852156-b725-4fc3-86bf-298aa2d91f63",
   "metadata": {},
   "source": [
    "Num legs - one-way"
   ]
  },
  {
   "cell_type": "code",
   "execution_count": 51,
   "id": "28609fd8-e572-4a5e-bb76-ec92bd400db4",
   "metadata": {
    "execution": {
     "iopub.execute_input": "2023-01-03T23:55:34.888792Z",
     "iopub.status.busy": "2023-01-03T23:55:34.888554Z",
     "iopub.status.idle": "2023-01-03T23:56:30.316893Z",
     "shell.execute_reply": "2023-01-03T23:56:30.316318Z",
     "shell.execute_reply.started": "2023-01-03T23:55:34.888767Z"
    },
    "tags": []
   },
   "outputs": [
    {
     "data": {
      "application/vnd.jupyter.widget-view+json": {
       "model_id": "dda9ac11f7414e7dabb33c0a6305a2aa",
       "version_major": 2,
       "version_minor": 0
      },
      "text/plain": [
       "VBox()"
      ]
     },
     "metadata": {},
     "output_type": "display_data"
    },
    {
     "data": {
      "application/vnd.jupyter.widget-view+json": {
       "model_id": "",
       "version_major": 2,
       "version_minor": 0
      },
      "text/plain": [
       "FloatProgress(value=0.0, bar_style='info', description='Progress:', layout=Layout(height='25px', width='50%'),…"
      ]
     },
     "metadata": {},
     "output_type": "display_data"
    },
    {
     "name": "stdout",
     "output_type": "stream",
     "text": [
      "+-------+------------------+\n",
      "| market|  pct_lowest_fares|\n",
      "+-------+------------------+\n",
      "|ATL-EWR|0.9803800196475481|\n",
      "|EWR-CDG|0.9699616361756168|\n",
      "|EWR-LHR|0.9962520570627592|\n",
      "|JFK-LAX| 0.965064610426311|\n",
      "|JFK-LHR|  0.99654331736802|\n",
      "|LAX-EWR| 0.947163290885227|\n",
      "|LAX-JFK|0.9533860238944117|\n",
      "|LAX-SFO|0.9658425706989779|\n",
      "|LGA-MIA|0.9949153966451393|\n",
      "|LHR-EWR|0.9999863367508157|\n",
      "|LHR-JFK| 0.999050456226621|\n",
      "|LHR-LAX|0.9687831973805302|\n",
      "|OAK-LAS|0.9975421362144964|\n",
      "|SFO-LAX|0.9504294396601616|\n",
      "+-------+------------------+"
     ]
    }
   ],
   "source": [
    "top_num_records_to_cutoff(ow_out_fi_per_leg_agg, num)"
   ]
  },
  {
   "cell_type": "markdown",
   "id": "7bd7e03f-5030-4529-866c-0a3b37d3af97",
   "metadata": {},
   "source": [
    "Carriers"
   ]
  },
  {
   "cell_type": "code",
   "execution_count": 52,
   "id": "01c7f6f9-2320-4b4e-a91c-90c8f4ef8082",
   "metadata": {
    "execution": {
     "iopub.execute_input": "2023-01-04T00:01:40.351337Z",
     "iopub.status.busy": "2023-01-04T00:01:40.351105Z",
     "iopub.status.idle": "2023-01-04T00:01:40.404625Z",
     "shell.execute_reply": "2023-01-04T00:01:40.404069Z",
     "shell.execute_reply.started": "2023-01-04T00:01:40.351312Z"
    }
   },
   "outputs": [
    {
     "data": {
      "application/vnd.jupyter.widget-view+json": {
       "model_id": "2217d20c5dd5493db6b66b94d4544b66",
       "version_major": 2,
       "version_minor": 0
      },
      "text/plain": [
       "VBox()"
      ]
     },
     "metadata": {},
     "output_type": "display_data"
    },
    {
     "data": {
      "application/vnd.jupyter.widget-view+json": {
       "model_id": "",
       "version_major": 2,
       "version_minor": 0
      },
      "text/plain": [
       "FloatProgress(value=0.0, bar_style='info', description='Progress:', layout=Layout(height='25px', width='50%'),…"
      ]
     },
     "metadata": {},
     "output_type": "display_data"
    }
   ],
   "source": [
    "num = 8"
   ]
  },
  {
   "cell_type": "code",
   "execution_count": 53,
   "id": "19c348ed-69d2-45bc-b59b-e8c905a4aa3f",
   "metadata": {
    "execution": {
     "iopub.execute_input": "2023-01-04T00:01:40.976434Z",
     "iopub.status.busy": "2023-01-04T00:01:40.976196Z",
     "iopub.status.idle": "2023-01-04T00:02:26.368333Z",
     "shell.execute_reply": "2023-01-04T00:02:26.367619Z",
     "shell.execute_reply.started": "2023-01-04T00:01:40.976408Z"
    },
    "tags": []
   },
   "outputs": [
    {
     "data": {
      "application/vnd.jupyter.widget-view+json": {
       "model_id": "84ebd3621a634421951798caf5d62883",
       "version_major": 2,
       "version_minor": 0
      },
      "text/plain": [
       "VBox()"
      ]
     },
     "metadata": {},
     "output_type": "display_data"
    },
    {
     "data": {
      "application/vnd.jupyter.widget-view+json": {
       "model_id": "",
       "version_major": 2,
       "version_minor": 0
      },
      "text/plain": [
       "FloatProgress(value=0.0, bar_style='info', description='Progress:', layout=Layout(height='25px', width='50%'),…"
      ]
     },
     "metadata": {},
     "output_type": "display_data"
    },
    {
     "name": "stdout",
     "output_type": "stream",
     "text": [
      "+-------+------------------+\n",
      "| market|  pct_lowest_fares|\n",
      "+-------+------------------+\n",
      "|ATL-EWR| 0.999999999999998|\n",
      "|EWR-CDG|0.9847512151860822|\n",
      "|EWR-LHR|0.9995539732840663|\n",
      "|JFK-LAX| 1.000000000000002|\n",
      "|JFK-LHR|0.9974988870926151|\n",
      "|LAX-EWR|1.0000000000000029|\n",
      "|LAX-JFK| 1.000000000000001|\n",
      "|LAX-SFO|0.9999999999999994|\n",
      "|LGA-MIA|1.0000000000000013|\n",
      "|LHR-EWR|1.0000000000000013|\n",
      "|LHR-JFK|0.9991790244635154|\n",
      "|LHR-LAX|0.9843805842054117|\n",
      "|OAK-LAS| 1.000000000000001|\n",
      "|SFO-LAX|0.9999999999999981|\n",
      "+-------+------------------+"
     ]
    }
   ],
   "source": [
    "top_num_records_to_cutoff(ow_out_cxr_crude_agg, num)"
   ]
  },
  {
   "cell_type": "code",
   "execution_count": 54,
   "id": "d16cced0-8eaf-4372-827a-d104a52cbef8",
   "metadata": {
    "execution": {
     "iopub.execute_input": "2023-01-04T00:02:26.369573Z",
     "iopub.status.busy": "2023-01-04T00:02:26.369397Z",
     "iopub.status.idle": "2023-01-04T00:03:15.778072Z",
     "shell.execute_reply": "2023-01-04T00:03:15.777324Z",
     "shell.execute_reply.started": "2023-01-04T00:02:26.369551Z"
    }
   },
   "outputs": [
    {
     "data": {
      "application/vnd.jupyter.widget-view+json": {
       "model_id": "97798bb07f174a01a6ca03116680a443",
       "version_major": 2,
       "version_minor": 0
      },
      "text/plain": [
       "VBox()"
      ]
     },
     "metadata": {},
     "output_type": "display_data"
    },
    {
     "data": {
      "application/vnd.jupyter.widget-view+json": {
       "model_id": "",
       "version_major": 2,
       "version_minor": 0
      },
      "text/plain": [
       "FloatProgress(value=0.0, bar_style='info', description='Progress:', layout=Layout(height='25px', width='50%'),…"
      ]
     },
     "metadata": {},
     "output_type": "display_data"
    },
    {
     "name": "stdout",
     "output_type": "stream",
     "text": [
      "+-------+--------------------+\n",
      "| market|    pct_lowest_fares|\n",
      "+-------+--------------------+\n",
      "|ATL-EWR|0.007121860338208427|\n",
      "|EWR-CDG|0.004824391714101888|\n",
      "|EWR-LHR| 0.00706630454013813|\n",
      "|JFK-LAX|0.006077636122111586|\n",
      "|JFK-LHR|0.004519228747661...|\n",
      "|LAX-EWR|0.044480279618341285|\n",
      "|LAX-JFK|0.009122535049097552|\n",
      "|LAX-SFO|0.006372895370040743|\n",
      "|LGA-MIA|0.012548261322763347|\n",
      "|LHR-EWR|0.008032519048467517|\n",
      "|LHR-JFK|0.003894893106871...|\n",
      "|LHR-LAX|0.005810493021404...|\n",
      "|OAK-LAS|0.014641903360541303|\n",
      "|SFO-LAX|0.006205120934300121|\n",
      "+-------+--------------------+"
     ]
    }
   ],
   "source": [
    "top_num_records_to_cutoff(rt_out_cxr_crude, num)"
   ]
  },
  {
   "cell_type": "code",
   "execution_count": 55,
   "id": "d2a9b700-7ebc-4556-b5a8-4998e09436ba",
   "metadata": {
    "execution": {
     "iopub.execute_input": "2023-01-04T00:03:15.779893Z",
     "iopub.status.busy": "2023-01-04T00:03:15.779628Z",
     "iopub.status.idle": "2023-01-04T00:04:01.186852Z",
     "shell.execute_reply": "2023-01-04T00:04:01.186121Z",
     "shell.execute_reply.started": "2023-01-04T00:03:15.779857Z"
    }
   },
   "outputs": [
    {
     "data": {
      "application/vnd.jupyter.widget-view+json": {
       "model_id": "b94b17a87cd949efbb0ba42d655776c5",
       "version_major": 2,
       "version_minor": 0
      },
      "text/plain": [
       "VBox()"
      ]
     },
     "metadata": {},
     "output_type": "display_data"
    },
    {
     "data": {
      "application/vnd.jupyter.widget-view+json": {
       "model_id": "",
       "version_major": 2,
       "version_minor": 0
      },
      "text/plain": [
       "FloatProgress(value=0.0, bar_style='info', description='Progress:', layout=Layout(height='25px', width='50%'),…"
      ]
     },
     "metadata": {},
     "output_type": "display_data"
    },
    {
     "name": "stdout",
     "output_type": "stream",
     "text": [
      "+-------+--------------------+\n",
      "| market|    pct_lowest_fares|\n",
      "+-------+--------------------+\n",
      "|ATL-EWR|0.007121860338208427|\n",
      "|EWR-CDG| 0.00482597615525814|\n",
      "|EWR-LHR|0.007468572609879005|\n",
      "|JFK-LAX|0.006077749695275943|\n",
      "|JFK-LHR|0.004520409020787932|\n",
      "|LAX-EWR| 0.04447893463127946|\n",
      "|LAX-JFK|0.009122208661439264|\n",
      "|LAX-SFO|0.006372895370040743|\n",
      "|LGA-MIA|0.012548261322763347|\n",
      "|LHR-EWR|0.008283242014615066|\n",
      "|LHR-JFK|0.003954950381828425|\n",
      "|LHR-LAX|0.005845304618325546|\n",
      "|OAK-LAS|0.014654595107017679|\n",
      "|SFO-LAX|0.006205128719877742|\n",
      "+-------+--------------------+"
     ]
    }
   ],
   "source": [
    "top_num_records_to_cutoff(rt_in_cxr_crude, num)"
   ]
  },
  {
   "cell_type": "code",
   "execution_count": null,
   "id": "8cf0f3e8-a81c-487a-8020-e4959aea31d0",
   "metadata": {},
   "outputs": [],
   "source": []
  }
 ],
 "metadata": {
  "kernelspec": {
   "display_name": "Python 3 (ipykernel)",
   "language": "python",
   "name": "python3"
  },
  "language_info": {
   "codemirror_mode": {
    "name": "ipython",
    "version": 3
   },
   "file_extension": ".py",
   "mimetype": "text/x-python",
   "name": "python",
   "nbconvert_exporter": "python",
   "pygments_lexer": "ipython3",
   "version": "3.9.12"
  },
  "toc": {
   "base_numbering": 1,
   "nav_menu": {},
   "number_sections": true,
   "sideBar": true,
   "skip_h1_title": false,
   "title_cell": "Table of Contents",
   "title_sidebar": "Contents",
   "toc_cell": false,
   "toc_position": {
    "height": "calc(100% - 180px)",
    "left": "10px",
    "top": "150px",
    "width": "349.091px"
   },
   "toc_section_display": true,
   "toc_window_display": true
  },
  "varInspector": {
   "cols": {
    "lenName": 16,
    "lenType": 16,
    "lenVar": 40
   },
   "kernels_config": {
    "python": {
     "delete_cmd_postfix": "",
     "delete_cmd_prefix": "del ",
     "library": "var_list.py",
     "varRefreshCmd": "print(var_dic_list())"
    },
    "r": {
     "delete_cmd_postfix": ") ",
     "delete_cmd_prefix": "rm(",
     "library": "var_list.r",
     "varRefreshCmd": "cat(var_dic_list()) "
    }
   },
   "types_to_exclude": [
    "module",
    "function",
    "builtin_function_or_method",
    "instance",
    "_Feature"
   ],
   "window_display": false
  }
 },
 "nbformat": 4,
 "nbformat_minor": 5
}
