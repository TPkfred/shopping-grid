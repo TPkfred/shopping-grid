{
 "cells": [
  {
   "cell_type": "markdown",
   "id": "6056c21f-5f11-4e83-a2e0-068b7aa90aab",
   "metadata": {},
   "source": [
    "Add in return flights for round-trips; summarize frequencies by market"
   ]
  },
  {
   "cell_type": "code",
   "execution_count": 1,
   "id": "77b4a6fb-2993-4696-b418-96e84ef9f473",
   "metadata": {
    "execution": {
     "iopub.execute_input": "2022-12-17T00:10:58.173666Z",
     "iopub.status.busy": "2022-12-17T00:10:58.173418Z",
     "iopub.status.idle": "2022-12-17T00:11:21.048065Z",
     "shell.execute_reply": "2022-12-17T00:11:21.047244Z",
     "shell.execute_reply.started": "2022-12-17T00:10:58.173640Z"
    },
    "tags": []
   },
   "outputs": [
    {
     "data": {
      "application/vnd.jupyter.widget-view+json": {
       "model_id": "ed557058a2d94a8db8267cbf1887125f",
       "version_major": 2,
       "version_minor": 0
      },
      "text/plain": [
       "VBox()"
      ]
     },
     "metadata": {},
     "output_type": "display_data"
    },
    {
     "name": "stdout",
     "output_type": "stream",
     "text": [
      "Starting Spark application\n"
     ]
    },
    {
     "data": {
      "text/html": [
       "<table>\n",
       "<tr><th>ID</th><th>YARN Application ID</th><th>Kind</th><th>State</th><th>Spark UI</th><th>Driver log</th><th>User</th><th>Current session?</th></tr><tr><td>2</td><td>application_1671213594375_0003</td><td>pyspark</td><td>idle</td><td></td><td></td><td>None</td><td>✔</td></tr></table>"
      ],
      "text/plain": [
       "<IPython.core.display.HTML object>"
      ]
     },
     "metadata": {},
     "output_type": "display_data"
    },
    {
     "data": {
      "application/vnd.jupyter.widget-view+json": {
       "model_id": "",
       "version_major": 2,
       "version_minor": 0
      },
      "text/plain": [
       "FloatProgress(value=0.0, bar_style='info', description='Progress:', layout=Layout(height='25px', width='50%'),…"
      ]
     },
     "metadata": {},
     "output_type": "display_data"
    },
    {
     "name": "stdout",
     "output_type": "stream",
     "text": [
      "SparkSession available as 'spark'.\n"
     ]
    },
    {
     "data": {
      "application/vnd.jupyter.widget-view+json": {
       "model_id": "",
       "version_major": 2,
       "version_minor": 0
      },
      "text/plain": [
       "FloatProgress(value=0.0, bar_style='info', description='Progress:', layout=Layout(height='25px', width='50%'),…"
      ]
     },
     "metadata": {},
     "output_type": "display_data"
    }
   ],
   "source": [
    "import datetime\n",
    "\n",
    "import pyspark.sql.functions as F\n",
    "import pyspark.sql.types as T \n",
    "from pyspark.sql.window import Window"
   ]
  },
  {
   "cell_type": "code",
   "execution_count": 2,
   "id": "915d6e3a-bd99-4381-a3b4-0da8267149aa",
   "metadata": {
    "execution": {
     "iopub.execute_input": "2022-12-17T00:11:21.049764Z",
     "iopub.status.busy": "2022-12-17T00:11:21.049368Z",
     "iopub.status.idle": "2022-12-17T00:11:28.408987Z",
     "shell.execute_reply": "2022-12-17T00:11:28.408253Z",
     "shell.execute_reply.started": "2022-12-17T00:11:21.049726Z"
    },
    "tags": []
   },
   "outputs": [
    {
     "data": {
      "application/vnd.jupyter.widget-view+json": {
       "model_id": "9f32f645348043cfa7662cb910c54b60",
       "version_major": 2,
       "version_minor": 0
      },
      "text/plain": [
       "VBox()"
      ]
     },
     "metadata": {},
     "output_type": "display_data"
    },
    {
     "data": {
      "application/vnd.jupyter.widget-view+json": {
       "model_id": "",
       "version_major": 2,
       "version_minor": 0
      },
      "text/plain": [
       "FloatProgress(value=0.0, bar_style='info', description='Progress:', layout=Layout(height='25px', width='50%'),…"
      ]
     },
     "metadata": {},
     "output_type": "display_data"
    }
   ],
   "source": [
    "BASE_INPUT_DIR = \"s3://tvlp-ds-users/kendra-frederick/shopping-grid/agg-raw-data_v4/*\"\n",
    "# date = datetime.date(2022,11,30)\n",
    "# date_str = date.strftime(\"%Y%m%d\")\n",
    "# input_dir = \"{}/{}\".format(BASE_INPUT_DIR, date_str)\n",
    "input_dir = BASE_INPUT_DIR\n",
    "\n",
    "df = spark.read.parquet(input_dir)\n",
    "# df.count()"
   ]
  },
  {
   "cell_type": "code",
   "execution_count": 3,
   "id": "427c945c-2a23-4b00-89f8-8c1a1543971a",
   "metadata": {
    "execution": {
     "iopub.execute_input": "2022-12-17T00:11:28.410474Z",
     "iopub.status.busy": "2022-12-17T00:11:28.410290Z",
     "iopub.status.idle": "2022-12-17T00:11:28.475279Z",
     "shell.execute_reply": "2022-12-17T00:11:28.474581Z",
     "shell.execute_reply.started": "2022-12-17T00:11:28.410449Z"
    },
    "tags": []
   },
   "outputs": [
    {
     "data": {
      "application/vnd.jupyter.widget-view+json": {
       "model_id": "f36e2874256040cd98490a70e09458ec",
       "version_major": 2,
       "version_minor": 0
      },
      "text/plain": [
       "VBox()"
      ]
     },
     "metadata": {},
     "output_type": "display_data"
    },
    {
     "data": {
      "application/vnd.jupyter.widget-view+json": {
       "model_id": "",
       "version_major": 2,
       "version_minor": 0
      },
      "text/plain": [
       "FloatProgress(value=0.0, bar_style='info', description='Progress:', layout=Layout(height='25px', width='50%'),…"
      ]
     },
     "metadata": {},
     "output_type": "display_data"
    }
   ],
   "source": [
    "# df.printSchema()\n",
    "\n",
    "# df.columns\n",
    "\n",
    "# df.select(F.min(\"shop_date\"), F.max('shop_date')).show()\n",
    "\n",
    "# df.groupBy(\"shop_date\").count().orderBy(\"shop_date\").show(40)"
   ]
  },
  {
   "cell_type": "code",
   "execution_count": 4,
   "id": "5cfa76e1-705e-45c8-bba6-54fc54129ef6",
   "metadata": {
    "execution": {
     "iopub.execute_input": "2022-12-17T00:11:28.476957Z",
     "iopub.status.busy": "2022-12-17T00:11:28.476703Z",
     "iopub.status.idle": "2022-12-17T00:11:29.253198Z",
     "shell.execute_reply": "2022-12-17T00:11:29.252578Z",
     "shell.execute_reply.started": "2022-12-17T00:11:28.476921Z"
    },
    "tags": []
   },
   "outputs": [
    {
     "data": {
      "application/vnd.jupyter.widget-view+json": {
       "model_id": "3dd6c68c894142efa15f5d2c0e309b22",
       "version_major": 2,
       "version_minor": 0
      },
      "text/plain": [
       "VBox()"
      ]
     },
     "metadata": {},
     "output_type": "display_data"
    },
    {
     "data": {
      "application/vnd.jupyter.widget-view+json": {
       "model_id": "",
       "version_major": 2,
       "version_minor": 0
      },
      "text/plain": [
       "FloatProgress(value=0.0, bar_style='info', description='Progress:', layout=Layout(height='25px', width='50%'),…"
      ]
     },
     "metadata": {},
     "output_type": "display_data"
    }
   ],
   "source": [
    "# if we want to impose any limits on date range\n",
    "date_llim = 20221110\n",
    "date_ulim = 20221213\n",
    "df_filt = df.filter(F.col(\"shop_date\").between(date_llim, date_ulim)).cache()"
   ]
  },
  {
   "cell_type": "code",
   "execution_count": 5,
   "id": "efb63ca0-377b-42e9-ab5b-cbccbb79fd77",
   "metadata": {
    "execution": {
     "iopub.execute_input": "2022-12-17T00:11:29.254224Z",
     "iopub.status.busy": "2022-12-17T00:11:29.254052Z",
     "iopub.status.idle": "2022-12-17T00:11:29.526488Z",
     "shell.execute_reply": "2022-12-17T00:11:29.525745Z",
     "shell.execute_reply.started": "2022-12-17T00:11:29.254202Z"
    }
   },
   "outputs": [
    {
     "data": {
      "application/vnd.jupyter.widget-view+json": {
       "model_id": "74263adc3c1f436cb1638761e7bd8d28",
       "version_major": 2,
       "version_minor": 0
      },
      "text/plain": [
       "VBox()"
      ]
     },
     "metadata": {},
     "output_type": "display_data"
    },
    {
     "data": {
      "application/vnd.jupyter.widget-view+json": {
       "model_id": "",
       "version_major": 2,
       "version_minor": 0
      },
      "text/plain": [
       "FloatProgress(value=0.0, bar_style='info', description='Progress:', layout=Layout(height='25px', width='50%'),…"
      ]
     },
     "metadata": {},
     "output_type": "display_data"
    }
   ],
   "source": [
    "# apply fare rank filter here (so it's easier to modify in the future)\n",
    "df_filt = df_filt.filter(F.col(\"fare_rank\") == 1)"
   ]
  },
  {
   "cell_type": "code",
   "execution_count": 6,
   "id": "8fd3e172-71f3-4611-bca2-e4a423ce80dd",
   "metadata": {
    "execution": {
     "iopub.execute_input": "2022-12-17T00:11:29.527942Z",
     "iopub.status.busy": "2022-12-17T00:11:29.527701Z",
     "iopub.status.idle": "2022-12-17T00:11:29.618178Z",
     "shell.execute_reply": "2022-12-17T00:11:29.617440Z",
     "shell.execute_reply.started": "2022-12-17T00:11:29.527909Z"
    },
    "tags": []
   },
   "outputs": [
    {
     "data": {
      "application/vnd.jupyter.widget-view+json": {
       "model_id": "578017bc574c45649396ca0f86d5420c",
       "version_major": 2,
       "version_minor": 0
      },
      "text/plain": [
       "VBox()"
      ]
     },
     "metadata": {},
     "output_type": "display_data"
    },
    {
     "data": {
      "application/vnd.jupyter.widget-view+json": {
       "model_id": "",
       "version_major": 2,
       "version_minor": 0
      },
      "text/plain": [
       "FloatProgress(value=0.0, bar_style='info', description='Progress:', layout=Layout(height='25px', width='50%'),…"
      ]
     },
     "metadata": {},
     "output_type": "display_data"
    }
   ],
   "source": [
    "# check\n",
    "# df2.select(F.min(\"shop_date\"), F.max('shop_date')).show()"
   ]
  },
  {
   "cell_type": "markdown",
   "id": "7d7b6896-235b-4977-b8fc-12d7d8dc60e2",
   "metadata": {},
   "source": [
    "A peek at the data:"
   ]
  },
  {
   "cell_type": "code",
   "execution_count": 7,
   "id": "944bcc59-7825-4c65-a07c-81de6cdeff74",
   "metadata": {
    "execution": {
     "iopub.execute_input": "2022-12-17T00:11:29.619652Z",
     "iopub.status.busy": "2022-12-17T00:11:29.619267Z",
     "iopub.status.idle": "2022-12-17T00:11:46.959552Z",
     "shell.execute_reply": "2022-12-17T00:11:46.958859Z",
     "shell.execute_reply.started": "2022-12-17T00:11:29.619616Z"
    },
    "tags": []
   },
   "outputs": [
    {
     "data": {
      "application/vnd.jupyter.widget-view+json": {
       "model_id": "b2058756362243b5985e3028befe00ae",
       "version_major": 2,
       "version_minor": 0
      },
      "text/plain": [
       "VBox()"
      ]
     },
     "metadata": {},
     "output_type": "display_data"
    },
    {
     "data": {
      "application/vnd.jupyter.widget-view+json": {
       "model_id": "",
       "version_major": 2,
       "version_minor": 0
      },
      "text/plain": [
       "FloatProgress(value=0.0, bar_style='info', description='Progress:', layout=Layout(height='25px', width='50%'),…"
      ]
     },
     "metadata": {},
     "output_type": "display_data"
    },
    {
     "name": "stdout",
     "output_type": "stream",
     "text": [
      "+---------+-------+------------------+-----------------+------------------+--------+---------+\n",
      "|shop_date| market|out_departure_date|out_marketing_cxr|out_flight_numbers|adt_fare|fare_rank|\n",
      "+---------+-------+------------------+-----------------+------------------+--------+---------+\n",
      "| 20221205|ATL-EWR|          20221222|             [NK]|              [99]|  135.17|        1|\n",
      "| 20221205|ATL-EWR|          20221222|             [NK]|              [99]|  135.17|        1|\n",
      "| 20221205|ATL-EWR|          20221222|             [NK]|              [99]|  135.17|        1|\n",
      "| 20221205|ATL-EWR|          20221222|             [NK]|              [99]|  135.17|        1|\n",
      "| 20221205|ATL-EWR|          20221222|             [NK]|            [1173]|  135.17|        1|\n",
      "| 20221205|ATL-EWR|          20221222|             [NK]|              [99]|  135.17|        1|\n",
      "| 20221205|ATL-EWR|          20221222|             [NK]|            [1173]|  135.17|        1|\n",
      "| 20221205|ATL-EWR|          20221222|             [NK]|            [1173]|  135.17|        1|\n",
      "| 20221205|ATL-EWR|          20221222|             [NK]|            [1173]|  135.17|        1|\n",
      "| 20221205|ATL-EWR|          20221222|             [NK]|            [1173]|  135.17|        1|\n",
      "+---------+-------+------------------+-----------------+------------------+--------+---------+\n",
      "only showing top 10 rows"
     ]
    }
   ],
   "source": [
    "df_filt.select('shop_date', 'market', 'out_departure_date', 'out_marketing_cxr', 'out_flight_numbers', 'adt_fare', 'fare_rank',).show(10)"
   ]
  },
  {
   "cell_type": "markdown",
   "id": "137ac807-e500-47eb-8215-747391b243cf",
   "metadata": {},
   "source": [
    "# Analysis by carrier"
   ]
  },
  {
   "cell_type": "markdown",
   "id": "3f064dd1-f030-4ec1-a9ac-ed111d425b51",
   "metadata": {},
   "source": [
    "Notes:\n",
    "- Crude: list of carriers, no matter if they provide direct lowest-fare flight or not\n",
    "- Less Crude: distinguish between direct and 1+ stop initineraries"
   ]
  },
  {
   "cell_type": "markdown",
   "id": "d5b79daf-8b46-4c7c-ad36-3481a7b4f3e5",
   "metadata": {},
   "source": [
    "## preprocessing"
   ]
  },
  {
   "cell_type": "code",
   "execution_count": 8,
   "id": "d7721931-e891-4c78-a013-3dc824d95435",
   "metadata": {
    "execution": {
     "iopub.execute_input": "2022-12-17T00:11:46.962371Z",
     "iopub.status.busy": "2022-12-17T00:11:46.962111Z",
     "iopub.status.idle": "2022-12-17T00:11:47.225713Z",
     "shell.execute_reply": "2022-12-17T00:11:47.224931Z",
     "shell.execute_reply.started": "2022-12-17T00:11:46.962345Z"
    },
    "tags": []
   },
   "outputs": [
    {
     "data": {
      "application/vnd.jupyter.widget-view+json": {
       "model_id": "c32369d9c5554eb2a1392031c7c11c69",
       "version_major": 2,
       "version_minor": 0
      },
      "text/plain": [
       "VBox()"
      ]
     },
     "metadata": {},
     "output_type": "display_data"
    },
    {
     "data": {
      "application/vnd.jupyter.widget-view+json": {
       "model_id": "",
       "version_major": 2,
       "version_minor": 0
      },
      "text/plain": [
       "FloatProgress(value=0.0, bar_style='info', description='Progress:', layout=Layout(height='25px', width='50%'),…"
      ]
     },
     "metadata": {},
     "output_type": "display_data"
    }
   ],
   "source": [
    "df_cxr = (df_filt\n",
    "          .withColumn(\"out_unique_cxr\", F.array_distinct(\"out_marketing_cxr\"))\n",
    "          .withColumn(\"out_cxr_all_same\", F.when(F.size(\"out_unique_cxr\") == 1, 1).otherwise(0))\n",
    "          .withColumn(\"in_unique_cxr\", F.array_distinct(\"in_marketing_cxr\"))\n",
    "          .withColumn(\"in_cxr_all_same\", F.when(F.size(\"in_unique_cxr\") == 1, 1).otherwise(0))\n",
    "         )"
   ]
  },
  {
   "cell_type": "code",
   "execution_count": 9,
   "id": "6b51cdab-3b57-4f47-ab7b-ee5189b2b095",
   "metadata": {
    "execution": {
     "iopub.execute_input": "2022-12-17T00:11:47.227934Z",
     "iopub.status.busy": "2022-12-17T00:11:47.227517Z",
     "iopub.status.idle": "2022-12-17T00:11:47.301699Z",
     "shell.execute_reply": "2022-12-17T00:11:47.300585Z",
     "shell.execute_reply.started": "2022-12-17T00:11:47.227895Z"
    }
   },
   "outputs": [
    {
     "data": {
      "application/vnd.jupyter.widget-view+json": {
       "model_id": "5413f78541204767a64aeb3438808e71",
       "version_major": 2,
       "version_minor": 0
      },
      "text/plain": [
       "VBox()"
      ]
     },
     "metadata": {},
     "output_type": "display_data"
    },
    {
     "data": {
      "application/vnd.jupyter.widget-view+json": {
       "model_id": "",
       "version_major": 2,
       "version_minor": 0
      },
      "text/plain": [
       "FloatProgress(value=0.0, bar_style='info', description='Progress:', layout=Layout(height='25px', width='50%'),…"
      ]
     },
     "metadata": {},
     "output_type": "display_data"
    }
   ],
   "source": [
    "# # check\n",
    "# df_cxr.select(\"market\", \"in_marketing_cxr\", \"in_unique_cxr\", \"in_cxr_all_same\").show(10)\n",
    "\n",
    "# # check\n",
    "\n",
    "# # df_cxr.filter(F.col(\"out_num_stops\") > 0).select(\"market\", \"out_marketing_cxr\", \"out_unique_cxr\", \"out_cxr_all_same\").show(10)\n",
    "# df_cxr.filter(F.col(\"in_num_stops\") > 0).select(\"market\", \"in_marketing_cxr\", \"in_unique_cxr\", \"in_cxr_all_same\").show(10)\n",
    "\n",
    "# # check\n",
    "\n",
    "# (df_cxr\n",
    "#  .filter(F.col(\"in_cxr_all_same\") == 0)\n",
    "#  .select(\"market\", \"round_trip\", \"in_marketing_cxr\", \"in_unique_cxr\", \"in_cxr_all_same\").show(10)\n",
    "# )\n",
    "\n",
    "# # check\n",
    "# (df_cxr\n",
    "#  .filter((F.col(\"in_cxr_all_same\") == 0) & (F.col(\"round_trip\") == 1))\n",
    "#  .select(\"market\", \"round_trip\", \"in_marketing_cxr\", \"in_unique_cxr\", \"in_cxr_all_same\").show(10)\n",
    "# )"
   ]
  },
  {
   "cell_type": "markdown",
   "id": "f4b97ebf-9220-4bd2-8557-525143f07eec",
   "metadata": {},
   "source": [
    "Note we use `explode_outer` for in-bound carriers so nulls don't get dropped"
   ]
  },
  {
   "cell_type": "code",
   "execution_count": 10,
   "id": "286522d7-cfd0-4481-92ff-563df481f5bf",
   "metadata": {
    "execution": {
     "iopub.execute_input": "2022-12-17T00:11:47.303598Z",
     "iopub.status.busy": "2022-12-17T00:11:47.303095Z",
     "iopub.status.idle": "2022-12-17T00:11:47.583551Z",
     "shell.execute_reply": "2022-12-17T00:11:47.582735Z",
     "shell.execute_reply.started": "2022-12-17T00:11:47.303559Z"
    }
   },
   "outputs": [
    {
     "data": {
      "application/vnd.jupyter.widget-view+json": {
       "model_id": "bcfd3d1db76a49caad3a00f08b872d8b",
       "version_major": 2,
       "version_minor": 0
      },
      "text/plain": [
       "VBox()"
      ]
     },
     "metadata": {},
     "output_type": "display_data"
    },
    {
     "data": {
      "application/vnd.jupyter.widget-view+json": {
       "model_id": "",
       "version_major": 2,
       "version_minor": 0
      },
      "text/plain": [
       "FloatProgress(value=0.0, bar_style='info', description='Progress:', layout=Layout(height='25px', width='50%'),…"
      ]
     },
     "metadata": {},
     "output_type": "display_data"
    }
   ],
   "source": [
    "df_cxr_expl = (df_cxr\n",
    "               .select(\"*\", F.explode(\"out_unique_cxr\").alias(\"out_cxr\"))\n",
    "               .select(\"*\", F.explode_outer(\"in_unique_cxr\").alias(\"in_cxr\"))\n",
    "              )"
   ]
  },
  {
   "cell_type": "code",
   "execution_count": 11,
   "id": "2e4edb55-e8ff-46ab-b5d6-971da4aafd31",
   "metadata": {
    "execution": {
     "iopub.execute_input": "2022-12-17T00:11:47.585101Z",
     "iopub.status.busy": "2022-12-17T00:11:47.584843Z",
     "iopub.status.idle": "2022-12-17T00:11:47.669679Z",
     "shell.execute_reply": "2022-12-17T00:11:47.668786Z",
     "shell.execute_reply.started": "2022-12-17T00:11:47.585067Z"
    },
    "tags": []
   },
   "outputs": [
    {
     "data": {
      "application/vnd.jupyter.widget-view+json": {
       "model_id": "a44dbe72a1ef4ecba2003d56908c9cf9",
       "version_major": 2,
       "version_minor": 0
      },
      "text/plain": [
       "VBox()"
      ]
     },
     "metadata": {},
     "output_type": "display_data"
    },
    {
     "data": {
      "application/vnd.jupyter.widget-view+json": {
       "model_id": "",
       "version_major": 2,
       "version_minor": 0
      },
      "text/plain": [
       "FloatProgress(value=0.0, bar_style='info', description='Progress:', layout=Layout(height='25px', width='50%'),…"
      ]
     },
     "metadata": {},
     "output_type": "display_data"
    }
   ],
   "source": [
    "# # check\n",
    "# df_cxr_expl.count() > df_cxr.count()\n",
    "\n",
    "# # check\n",
    "# (df_cxr_expl\n",
    "# .filter(F.col(\"round_trip\") == 0)\n",
    "# .select(\"market\", \"out_marketing_cxr\", \"out_unique_cxr\", \"out_cxr_all_same\", \"out_cxr\")\n",
    "#  .show()\n",
    "# )\n",
    "\n",
    "\n",
    "\n",
    "# # check\n",
    "# (df_cxr_expl\n",
    "# .filter((F.col(\"in_cxr_all_same\") == 0) & (F.col(\"round_trip\") == 1))\n",
    "# .select(\"market\", \"in_marketing_cxr\", \"in_cxr\")\n",
    "#  .show()\n",
    "# )"
   ]
  },
  {
   "cell_type": "markdown",
   "id": "b92b48e4-df88-46b6-8919-fcc000e3ab1a",
   "metadata": {},
   "source": [
    "### combine out + in"
   ]
  },
  {
   "cell_type": "markdown",
   "id": "397182d9-0559-4b0e-b5c3-613dbb494020",
   "metadata": {},
   "source": [
    "Combine out_unique + in_unique -- all as one string. Can combine with num_stops to determine if a single unique carrier involved multiple legs\n",
    "\n",
    "Combine in/out unique first, then together "
   ]
  },
  {
   "cell_type": "code",
   "execution_count": 12,
   "id": "22f21c03-4cd6-4b02-b55b-42138f7f9364",
   "metadata": {
    "execution": {
     "iopub.execute_input": "2022-12-17T00:11:47.671269Z",
     "iopub.status.busy": "2022-12-17T00:11:47.671013Z",
     "iopub.status.idle": "2022-12-17T00:11:47.961144Z",
     "shell.execute_reply": "2022-12-17T00:11:47.960536Z",
     "shell.execute_reply.started": "2022-12-17T00:11:47.671234Z"
    }
   },
   "outputs": [
    {
     "data": {
      "application/vnd.jupyter.widget-view+json": {
       "model_id": "2b81b03e830e484bb31eb3b610e24327",
       "version_major": 2,
       "version_minor": 0
      },
      "text/plain": [
       "VBox()"
      ]
     },
     "metadata": {},
     "output_type": "display_data"
    },
    {
     "data": {
      "application/vnd.jupyter.widget-view+json": {
       "model_id": "",
       "version_major": 2,
       "version_minor": 0
      },
      "text/plain": [
       "FloatProgress(value=0.0, bar_style='info', description='Progress:', layout=Layout(height='25px', width='50%'),…"
      ]
     },
     "metadata": {},
     "output_type": "display_data"
    }
   ],
   "source": [
    "# resume\n",
    "df_cxr_expl = (df_cxr_expl\n",
    "              .withColumn(\"out_uni_cxr_concat\", F.concat_ws(\"-\", \"out_unique_cxr\"))\n",
    "              .withColumn(\"in_uni_cxr_concat\", F.concat_ws(\"-\", \"in_unique_cxr\"))\n",
    "              .withColumn(\"rt_cxrs\", F.concat_ws(\"_\", \"out_uni_cxr_concat\", \"in_uni_cxr_concat\"))\n",
    "              .withColumn(\"out_in_same_cxr\", F.when(F.col(\"out_cxr\") == F.col(\"in_cxr\"), 1).otherwise(0))\n",
    "              )"
   ]
  },
  {
   "cell_type": "code",
   "execution_count": 13,
   "id": "029fb5af-dbda-4fab-a7e1-fb91b44057fa",
   "metadata": {
    "execution": {
     "iopub.execute_input": "2022-12-17T00:11:47.962285Z",
     "iopub.status.busy": "2022-12-17T00:11:47.962108Z",
     "iopub.status.idle": "2022-12-17T00:11:48.020816Z",
     "shell.execute_reply": "2022-12-17T00:11:48.020273Z",
     "shell.execute_reply.started": "2022-12-17T00:11:47.962260Z"
    },
    "tags": []
   },
   "outputs": [
    {
     "data": {
      "application/vnd.jupyter.widget-view+json": {
       "model_id": "98ffcade00014c6fb71181014ace0af3",
       "version_major": 2,
       "version_minor": 0
      },
      "text/plain": [
       "VBox()"
      ]
     },
     "metadata": {},
     "output_type": "display_data"
    },
    {
     "data": {
      "application/vnd.jupyter.widget-view+json": {
       "model_id": "",
       "version_major": 2,
       "version_minor": 0
      },
      "text/plain": [
       "FloatProgress(value=0.0, bar_style='info', description='Progress:', layout=Layout(height='25px', width='50%'),…"
      ]
     },
     "metadata": {},
     "output_type": "display_data"
    }
   ],
   "source": [
    "# (df_cxr_expl\n",
    "#  # .filter(F.col(\"out_cxr_all_same\") == 0)\n",
    "#  .filter(F.col(\"round_trip\") == 0)\n",
    "#  .select('out_marketing_cxr', 'out_unique_cxr', 'out_uni_cxr_concat', 'in_marketing_cxr', 'rt_cxrs')\n",
    "#  .show() \n",
    "# )"
   ]
  },
  {
   "cell_type": "markdown",
   "id": "2fda1c06-b0e0-4099-8a50-8f0f85b6cbb1",
   "metadata": {},
   "source": [
    "## \"crude\" (single carrier)\n",
    "regardless of num stops / inter-line"
   ]
  },
  {
   "cell_type": "code",
   "execution_count": 14,
   "id": "30ea213b-aa26-4800-b399-51fc60c3dbcc",
   "metadata": {
    "execution": {
     "iopub.execute_input": "2022-12-17T00:11:48.021872Z",
     "iopub.status.busy": "2022-12-17T00:11:48.021709Z",
     "iopub.status.idle": "2022-12-17T00:11:48.301311Z",
     "shell.execute_reply": "2022-12-17T00:11:48.300094Z",
     "shell.execute_reply.started": "2022-12-17T00:11:48.021851Z"
    },
    "tags": []
   },
   "outputs": [
    {
     "data": {
      "application/vnd.jupyter.widget-view+json": {
       "model_id": "a6f762f57127450a8187bd881cd8d233",
       "version_major": 2,
       "version_minor": 0
      },
      "text/plain": [
       "VBox()"
      ]
     },
     "metadata": {},
     "output_type": "display_data"
    },
    {
     "data": {
      "application/vnd.jupyter.widget-view+json": {
       "model_id": "",
       "version_major": 2,
       "version_minor": 0
      },
      "text/plain": [
       "FloatProgress(value=0.0, bar_style='info', description='Progress:', layout=Layout(height='25px', width='50%'),…"
      ]
     },
     "metadata": {},
     "output_type": "display_data"
    }
   ],
   "source": [
    "out_cxr_crude = (\n",
    "    df_cxr_expl\n",
    "    .filter(F.col(\"fare_rank\") == 1)\n",
    "    .groupBy(\"market\", \"round_trip\", \"out_cxr\")\n",
    "    .agg(F.count(\"*\").alias(\"count\"))\n",
    ")\n",
    "# alt to additional processing below: add round_trip == 1 filter here\n",
    "rt_in_cxr_crude = (\n",
    "    df_cxr_expl\n",
    "    .filter((F.col(\"fare_rank\") == 1) & (F.col(\"round_trip\") == 1))\n",
    "    .groupBy(\"market\", \"round_trip\", \"in_cxr\")\n",
    "    .agg(F.count(\"*\").alias(\"count\"))\n",
    ")\n",
    "\n",
    "# combine out_rt + in counts\n",
    "same_cxr_crude = (\n",
    "    df_cxr_expl\n",
    "    .filter((F.col(\"fare_rank\") == 1) & (F.col(\"round_trip\") == 1))\n",
    "    .groupBy(\"market\", \"round_trip\", \"out_cxr\",  \"out_in_same_cxr\") # don't need in_cxr \n",
    "    .agg(F.count(\"*\").alias(\"count\"))\n",
    ")"
   ]
  },
  {
   "cell_type": "code",
   "execution_count": 15,
   "id": "a4d535ae-15cd-4145-9cc9-8933cf423c88",
   "metadata": {
    "execution": {
     "iopub.execute_input": "2022-12-17T00:11:48.303353Z",
     "iopub.status.busy": "2022-12-17T00:11:48.303066Z",
     "iopub.status.idle": "2022-12-17T00:11:48.403608Z",
     "shell.execute_reply": "2022-12-17T00:11:48.402895Z",
     "shell.execute_reply.started": "2022-12-17T00:11:48.303315Z"
    },
    "tags": []
   },
   "outputs": [
    {
     "data": {
      "application/vnd.jupyter.widget-view+json": {
       "model_id": "eeb4a877a36541bd8747d482e2a1ee5f",
       "version_major": 2,
       "version_minor": 0
      },
      "text/plain": [
       "VBox()"
      ]
     },
     "metadata": {},
     "output_type": "display_data"
    },
    {
     "data": {
      "application/vnd.jupyter.widget-view+json": {
       "model_id": "",
       "version_major": 2,
       "version_minor": 0
      },
      "text/plain": [
       "FloatProgress(value=0.0, bar_style='info', description='Progress:', layout=Layout(height='25px', width='50%'),…"
      ]
     },
     "metadata": {},
     "output_type": "display_data"
    }
   ],
   "source": [
    "# # check\n",
    "# out_cxr_m_grp_crude.show(10)\n",
    "\n",
    "# # check\n",
    "# out_cxr_m_grp_crude.groupBy(\"round_trip\").count().show()\n",
    "\n",
    "# # check\n",
    "# in_cxr_m_grp_crude.show(10)\n",
    "\n",
    "# in_cxr_m_grp_crude.groupBy(\"round_trip\").count().show()\n",
    "\n",
    "# in_cxr_m_grp_crude.filter(F.col(\"round_trip\") == 0).show()"
   ]
  },
  {
   "cell_type": "code",
   "execution_count": 16,
   "id": "ac5523c6-41fc-496f-a488-7819f39e0ea1",
   "metadata": {
    "execution": {
     "iopub.execute_input": "2022-12-17T00:11:48.404998Z",
     "iopub.status.busy": "2022-12-17T00:11:48.404635Z",
     "iopub.status.idle": "2022-12-17T00:11:48.475032Z",
     "shell.execute_reply": "2022-12-17T00:11:48.474332Z",
     "shell.execute_reply.started": "2022-12-17T00:11:48.404961Z"
    },
    "tags": []
   },
   "outputs": [
    {
     "data": {
      "application/vnd.jupyter.widget-view+json": {
       "model_id": "9b1c193f9caa4e23bfead92cdab52712",
       "version_major": 2,
       "version_minor": 0
      },
      "text/plain": [
       "VBox()"
      ]
     },
     "metadata": {},
     "output_type": "display_data"
    },
    {
     "data": {
      "application/vnd.jupyter.widget-view+json": {
       "model_id": "",
       "version_major": 2,
       "version_minor": 0
      },
      "text/plain": [
       "FloatProgress(value=0.0, bar_style='info', description='Progress:', layout=Layout(height='25px', width='50%'),…"
      ]
     },
     "metadata": {},
     "output_type": "display_data"
    }
   ],
   "source": [
    "# process\n",
    "# in_cxr_m_grp_crude = in_cxr_m_grp_crude.dropna(subset=[\"in_cxr\"])"
   ]
  },
  {
   "cell_type": "code",
   "execution_count": 17,
   "id": "8538d7bb-f9fb-47f0-a26f-b4f641b62413",
   "metadata": {
    "execution": {
     "iopub.execute_input": "2022-12-17T00:11:48.476283Z",
     "iopub.status.busy": "2022-12-17T00:11:48.475961Z",
     "iopub.status.idle": "2022-12-17T00:11:48.532697Z",
     "shell.execute_reply": "2022-12-17T00:11:48.532067Z",
     "shell.execute_reply.started": "2022-12-17T00:11:48.476242Z"
    },
    "tags": []
   },
   "outputs": [
    {
     "data": {
      "application/vnd.jupyter.widget-view+json": {
       "model_id": "08a3baf382e443ae9d180ae821f9fe20",
       "version_major": 2,
       "version_minor": 0
      },
      "text/plain": [
       "VBox()"
      ]
     },
     "metadata": {},
     "output_type": "display_data"
    },
    {
     "data": {
      "application/vnd.jupyter.widget-view+json": {
       "model_id": "",
       "version_major": 2,
       "version_minor": 0
      },
      "text/plain": [
       "FloatProgress(value=0.0, bar_style='info', description='Progress:', layout=Layout(height='25px', width='50%'),…"
      ]
     },
     "metadata": {},
     "output_type": "display_data"
    }
   ],
   "source": [
    "# check\n",
    "# in_cxr_m_grp_crude.filter(F.col(\"round_trip\") == 0).show()"
   ]
  },
  {
   "cell_type": "markdown",
   "id": "cb51d906-5f39-4cd1-ab43-84dd065b614e",
   "metadata": {},
   "source": [
    "## \"nuanced\" (inter-line)\n",
    "exclude num stops for now"
   ]
  },
  {
   "cell_type": "code",
   "execution_count": 18,
   "id": "8beefd10-aa8a-4b09-b9df-903faaf617b0",
   "metadata": {
    "execution": {
     "iopub.execute_input": "2022-12-17T00:11:48.536091Z",
     "iopub.status.busy": "2022-12-17T00:11:48.535913Z",
     "iopub.status.idle": "2022-12-17T00:11:48.807829Z",
     "shell.execute_reply": "2022-12-17T00:11:48.807033Z",
     "shell.execute_reply.started": "2022-12-17T00:11:48.536069Z"
    },
    "tags": []
   },
   "outputs": [
    {
     "data": {
      "application/vnd.jupyter.widget-view+json": {
       "model_id": "17e110aefa514575937dc6a61d7edb50",
       "version_major": 2,
       "version_minor": 0
      },
      "text/plain": [
       "VBox()"
      ]
     },
     "metadata": {},
     "output_type": "display_data"
    },
    {
     "data": {
      "application/vnd.jupyter.widget-view+json": {
       "model_id": "",
       "version_major": 2,
       "version_minor": 0
      },
      "text/plain": [
       "FloatProgress(value=0.0, bar_style='info', description='Progress:', layout=Layout(height='25px', width='50%'),…"
      ]
     },
     "metadata": {},
     "output_type": "display_data"
    }
   ],
   "source": [
    "out_cxr_nuanced = (\n",
    "    df_cxr_expl\n",
    "    .filter(F.col(\"fare_rank\") == 1) \n",
    "    .groupBy(\"market\", \"round_trip\", \"out_uni_cxr_concat\") # \"out_num_stops\",\n",
    "    .agg(F.count(\"*\").alias(\"count\"))\n",
    ")\n",
    "rt_in_cxr_nuanced = (\n",
    "    df_cxr_expl\n",
    "    .filter((F.col(\"fare_rank\") == 1) & (F.col(\"round_trip\") == 1))\n",
    "    # not necessary to include round-trip here, but makes processing below simpler\n",
    "    .groupBy(\"market\", \"round_trip\", \"in_uni_cxr_concat\") # \"in_num_stops\",\n",
    "    .agg(F.count(\"*\").alias(\"count\"))\n",
    ")"
   ]
  },
  {
   "cell_type": "code",
   "execution_count": 19,
   "id": "55353834-923f-4735-a9b7-1ff4dd82bbe1",
   "metadata": {
    "execution": {
     "iopub.execute_input": "2022-12-17T00:11:48.808926Z",
     "iopub.status.busy": "2022-12-17T00:11:48.808746Z",
     "iopub.status.idle": "2022-12-17T00:11:48.865696Z",
     "shell.execute_reply": "2022-12-17T00:11:48.865146Z",
     "shell.execute_reply.started": "2022-12-17T00:11:48.808904Z"
    },
    "tags": []
   },
   "outputs": [
    {
     "data": {
      "application/vnd.jupyter.widget-view+json": {
       "model_id": "27685322f3c4499c809696392f2f855d",
       "version_major": 2,
       "version_minor": 0
      },
      "text/plain": [
       "VBox()"
      ]
     },
     "metadata": {},
     "output_type": "display_data"
    },
    {
     "data": {
      "application/vnd.jupyter.widget-view+json": {
       "model_id": "",
       "version_major": 2,
       "version_minor": 0
      },
      "text/plain": [
       "FloatProgress(value=0.0, bar_style='info', description='Progress:', layout=Layout(height='25px', width='50%'),…"
      ]
     },
     "metadata": {},
     "output_type": "display_data"
    }
   ],
   "source": [
    "# # check\n",
    "# out_cxr_m_grp_nuanced.show(10)\n",
    "\n",
    "# # check\n",
    "# in_cxr_m_grp_nuanced.show(10)"
   ]
  },
  {
   "cell_type": "markdown",
   "id": "d8af7a32-47fd-453b-9eaa-57124ef5391e",
   "metadata": {},
   "source": [
    "## window func to calc pct by market"
   ]
  },
  {
   "cell_type": "code",
   "execution_count": 20,
   "id": "55d6c838-b126-492c-9367-c2dbe3eb8778",
   "metadata": {
    "execution": {
     "iopub.execute_input": "2022-12-17T00:11:48.867164Z",
     "iopub.status.busy": "2022-12-17T00:11:48.866871Z",
     "iopub.status.idle": "2022-12-17T00:11:49.138174Z",
     "shell.execute_reply": "2022-12-17T00:11:49.137519Z",
     "shell.execute_reply.started": "2022-12-17T00:11:48.867129Z"
    },
    "tags": []
   },
   "outputs": [],
   "source": [
    "# just use a single window func to make it easy\n",
    "w1 = Window.partitionBy(\"market\", \"round_trip\")\n",
    "# w1b = Window.partitionBy(\"market\")\n",
    "\n",
    "\n",
    "def apply_window_1(df, w):\n",
    "    df = (df\n",
    "          .withColumn(\"count_market\", F.sum(\"count\").over(w))\n",
    "          .withColumn(\"pct_count\", F.col(\"count\") / F.col(\"count_market\"))\n",
    "         )\n",
    "    return df\n",
    "\n",
    "w2 = (Window\n",
    "      .partitionBy(\"market\", \"round_trip\")\n",
    "      .orderBy(F.desc(\"pct_count\"))\n",
    "      .rowsBetween(Window.unboundedPreceding, Window.currentRow)\n",
    "     )\n",
    "# w2b = (Window\n",
    "#       .partitionBy(\"market\")\n",
    "#       .orderBy(F.desc(\"pct_count\"))\n",
    "#       .rowsBetween(Window.unboundedPreceding, Window.currentRow)\n",
    "#      )\n",
    "\n",
    "def apply_window_2(df, w2):\n",
    "    df = df.withColumn(\"cum_pct\", F.sum(\"pct_count\").over(w2))\n",
    "    return df"
   ]
  },
  {
   "cell_type": "code",
   "execution_count": 20,
   "id": "8acd5e78-4960-425e-8869-c366b65134a4",
   "metadata": {
    "execution": {
     "iopub.execute_input": "2022-12-17T00:11:48.867164Z",
     "iopub.status.busy": "2022-12-17T00:11:48.866871Z",
     "iopub.status.idle": "2022-12-17T00:11:49.138174Z",
     "shell.execute_reply": "2022-12-17T00:11:49.137519Z",
     "shell.execute_reply.started": "2022-12-17T00:11:48.867129Z"
    },
    "tags": []
   },
   "outputs": [
    {
     "data": {
      "application/vnd.jupyter.widget-view+json": {
       "model_id": "fde46f54468e48e78dd113678d8187c2",
       "version_major": 2,
       "version_minor": 0
      },
      "text/plain": [
       "VBox()"
      ]
     },
     "metadata": {},
     "output_type": "display_data"
    },
    {
     "data": {
      "application/vnd.jupyter.widget-view+json": {
       "model_id": "",
       "version_major": 2,
       "version_minor": 0
      },
      "text/plain": [
       "FloatProgress(value=0.0, bar_style='info', description='Progress:', layout=Layout(height='25px', width='50%'),…"
      ]
     },
     "metadata": {},
     "output_type": "display_data"
    }
   ],
   "source": [
    "out_cxr_crude = apply_window_1(out_cxr_crude, w1)\n",
    "out_cxr_crude = apply_window_2(out_cxr_crude, w2)\n",
    "\n",
    "rt_in_cxr_crude = apply_window_1(rt_in_cxr_crude, w1)\n",
    "rt_in_cxr_crude = apply_window_2(rt_in_cxr_crude, w2)\n",
    "\n",
    "out_cxr_nuanced = apply_window_1(out_cxr_nuanced, w1)\n",
    "out_cxr_nuanced = apply_window_2(out_cxr_nuanced, w2)\n",
    "\n",
    "rt_in_cxr_nuanced = apply_window_1(rt_in_cxr_nuanced, w1)\n",
    "rt_in_cxr_nuanced = apply_window_2(rt_in_cxr_nuanced, w2)\n",
    "\n",
    "same_cxr_crude = apply_window_1(same_cxr_crude, w1)\n",
    "same_cxr_crude = apply_window_2(same_cxr_crude, w2)"
   ]
  },
  {
   "cell_type": "code",
   "execution_count": 21,
   "id": "c3674c27-9e89-4fac-a2a6-415ac005c9d8",
   "metadata": {
    "execution": {
     "iopub.execute_input": "2022-12-17T00:11:49.139623Z",
     "iopub.status.busy": "2022-12-17T00:11:49.139315Z",
     "iopub.status.idle": "2022-12-17T00:11:49.411083Z",
     "shell.execute_reply": "2022-12-17T00:11:49.410427Z",
     "shell.execute_reply.started": "2022-12-17T00:11:49.139583Z"
    },
    "tags": []
   },
   "outputs": [
    {
     "data": {
      "application/vnd.jupyter.widget-view+json": {
       "model_id": "304184b725184015962313cff847582e",
       "version_major": 2,
       "version_minor": 0
      },
      "text/plain": [
       "VBox()"
      ]
     },
     "metadata": {},
     "output_type": "display_data"
    },
    {
     "data": {
      "application/vnd.jupyter.widget-view+json": {
       "model_id": "",
       "version_major": 2,
       "version_minor": 0
      },
      "text/plain": [
       "FloatProgress(value=0.0, bar_style='info', description='Progress:', layout=Layout(height='25px', width='50%'),…"
      ]
     },
     "metadata": {},
     "output_type": "display_data"
    }
   ],
   "source": [
    "# split out into ow & rt\n",
    "ow_out_cxr_crude = out_cxr_crude.filter(F.col(\"round_trip\") == 0)\n",
    "rt_out_cxr_crude = out_cxr_crude.filter(F.col(\"round_trip\") == 1)\n",
    "\n",
    "ow_out_cxr_nuanced = out_cxr_nuanced.filter(F.col(\"round_trip\") == 0)\n",
    "rt_out_cxr_nuanced = out_cxr_nuanced.filter(F.col(\"round_trip\") == 1)"
   ]
  },
  {
   "cell_type": "code",
   "execution_count": 22,
   "id": "be95b8fd-4dd9-4592-afb9-831b3940830f",
   "metadata": {
    "execution": {
     "iopub.execute_input": "2022-12-17T00:11:49.412475Z",
     "iopub.status.busy": "2022-12-17T00:11:49.412215Z",
     "iopub.status.idle": "2022-12-17T00:11:49.466782Z",
     "shell.execute_reply": "2022-12-17T00:11:49.466246Z",
     "shell.execute_reply.started": "2022-12-17T00:11:49.412439Z"
    },
    "tags": []
   },
   "outputs": [
    {
     "data": {
      "application/vnd.jupyter.widget-view+json": {
       "model_id": "b36dffd311d04e338a9d575a64595be0",
       "version_major": 2,
       "version_minor": 0
      },
      "text/plain": [
       "VBox()"
      ]
     },
     "metadata": {},
     "output_type": "display_data"
    },
    {
     "data": {
      "application/vnd.jupyter.widget-view+json": {
       "model_id": "",
       "version_major": 2,
       "version_minor": 0
      },
      "text/plain": [
       "FloatProgress(value=0.0, bar_style='info', description='Progress:', layout=Layout(height='25px', width='50%'),…"
      ]
     },
     "metadata": {},
     "output_type": "display_data"
    }
   ],
   "source": [
    "# # check\n",
    "# same_cxr_m_grp_crude.show(10)"
   ]
  },
  {
   "cell_type": "markdown",
   "id": "09b5a482-9593-42a6-8008-7a812092a4dd",
   "metadata": {},
   "source": [
    "# Analysis by flight"
   ]
  },
  {
   "cell_type": "markdown",
   "id": "25c33026-5d46-4b9d-babc-f7708a2b0f1a",
   "metadata": {},
   "source": [
    "## preprocess"
   ]
  },
  {
   "cell_type": "markdown",
   "id": "db619348-78ad-4564-ba0f-ef9a13ad3be2",
   "metadata": {},
   "source": [
    "### Concat carrier + flight no"
   ]
  },
  {
   "cell_type": "code",
   "execution_count": 23,
   "id": "0a102254-fceb-4ab1-a3f0-344deea2f7a6",
   "metadata": {
    "execution": {
     "iopub.execute_input": "2022-12-17T00:11:49.470067Z",
     "iopub.status.busy": "2022-12-17T00:11:49.469892Z",
     "iopub.status.idle": "2022-12-17T00:11:50.267767Z",
     "shell.execute_reply": "2022-12-17T00:11:50.266999Z",
     "shell.execute_reply.started": "2022-12-17T00:11:49.470045Z"
    },
    "tags": []
   },
   "outputs": [
    {
     "data": {
      "application/vnd.jupyter.widget-view+json": {
       "model_id": "b9ea6d881edd418293da01c7fb63093c",
       "version_major": 2,
       "version_minor": 0
      },
      "text/plain": [
       "VBox()"
      ]
     },
     "metadata": {},
     "output_type": "display_data"
    },
    {
     "data": {
      "application/vnd.jupyter.widget-view+json": {
       "model_id": "",
       "version_major": 2,
       "version_minor": 0
      },
      "text/plain": [
       "FloatProgress(value=0.0, bar_style='info', description='Progress:', layout=Layout(height='25px', width='50%'),…"
      ]
     },
     "metadata": {},
     "output_type": "display_data"
    }
   ],
   "source": [
    "# fi = flight info = carrier + flight no\n",
    "df_fi = (df_filt\n",
    "       .withColumn(\"out_flight_nos_str\", F.col(\"out_flight_numbers\").cast('array<string>'))\n",
    "       .withColumn(\"out_cxr_fn_zip\", F.arrays_zip(F.col(\"out_marketing_cxr\"), F.col(\"out_flight_nos_str\")))\n",
    "       .withColumn('out_zip_concat', F.expr(\"transform(out_cxr_fn_zip, x -> concat_ws('-', x.out_marketing_cxr, x.out_flight_nos_str))\"))\n",
    "       .withColumn(\"in_flight_nos_str\", F.col(\"in_flight_numbers\").cast('array<string>'))\n",
    "       .withColumn(\"in_cxr_fn_zip\", F.arrays_zip(F.col(\"in_marketing_cxr\"), F.col(\"in_flight_nos_str\")))\n",
    "       .withColumn('in_zip_concat', F.expr(\"transform(in_cxr_fn_zip, x -> concat_ws('-', x.in_marketing_cxr, x.in_flight_nos_str))\"))\n",
    "      )"
   ]
  },
  {
   "cell_type": "code",
   "execution_count": 24,
   "id": "88635ee5-2ded-4f64-955c-c067f09bea94",
   "metadata": {
    "execution": {
     "iopub.execute_input": "2022-12-17T00:11:50.269930Z",
     "iopub.status.busy": "2022-12-17T00:11:50.269404Z",
     "iopub.status.idle": "2022-12-17T00:11:50.371862Z",
     "shell.execute_reply": "2022-12-17T00:11:50.371061Z",
     "shell.execute_reply.started": "2022-12-17T00:11:50.269891Z"
    },
    "tags": []
   },
   "outputs": [
    {
     "data": {
      "application/vnd.jupyter.widget-view+json": {
       "model_id": "7d58c4ec577646c28c9a5fa94db59007",
       "version_major": 2,
       "version_minor": 0
      },
      "text/plain": [
       "VBox()"
      ]
     },
     "metadata": {},
     "output_type": "display_data"
    },
    {
     "data": {
      "application/vnd.jupyter.widget-view+json": {
       "model_id": "",
       "version_major": 2,
       "version_minor": 0
      },
      "text/plain": [
       "FloatProgress(value=0.0, bar_style='info', description='Progress:', layout=Layout(height='25px', width='50%'),…"
      ]
     },
     "metadata": {},
     "output_type": "display_data"
    }
   ],
   "source": [
    "# # check\n",
    "# df_combined.groupBy(\"round_trip\").count().show()\n",
    "\n",
    "# # df_combined.select(\"out_marketing_cxr\",  \"out_flight_nos_str\", \"out_cxr_fn_zip\", \"out_zip_concat\").show(10) #.printSchema()\n",
    "# df_combined.select(\"in_marketing_cxr\",  \"in_flight_nos_str\", \"in_cxr_fn_zip\", \"in_zip_concat\").show(10)\n",
    "\n",
    "# df2.columns\n",
    "\n",
    "# (df_combined\n",
    "#  .filter((F.col(\"round_trip\") == 0)) #& (F.col(\"in_num_stops\") > 0))\n",
    "#  .select(\"out_marketing_cxr\",  \"out_flight_nos_str\", \"out_cxr_fn_zip\", \"out_zip_concat\")\n",
    "#  .show(10)\n",
    "# )"
   ]
  },
  {
   "cell_type": "markdown",
   "id": "4ac18b09-ee14-442b-b7a6-f34aeed2c539",
   "metadata": {},
   "source": [
    "From here we can explode array elements to rows, or combine multi-legs into one entity"
   ]
  },
  {
   "cell_type": "markdown",
   "id": "2d8a27dc-491e-42a3-a3ba-14869fd435af",
   "metadata": {},
   "source": [
    "### combine multi-legs into one string"
   ]
  },
  {
   "cell_type": "code",
   "execution_count": 25,
   "id": "c42a8f8d-0d24-4040-a0a3-8660e739994e",
   "metadata": {
    "execution": {
     "iopub.execute_input": "2022-12-17T00:11:50.373326Z",
     "iopub.status.busy": "2022-12-17T00:11:50.372949Z",
     "iopub.status.idle": "2022-12-17T00:11:50.657435Z",
     "shell.execute_reply": "2022-12-17T00:11:50.656522Z",
     "shell.execute_reply.started": "2022-12-17T00:11:50.373289Z"
    },
    "tags": []
   },
   "outputs": [
    {
     "data": {
      "application/vnd.jupyter.widget-view+json": {
       "model_id": "a7f0dccb97964f5ca0b953632814c9b1",
       "version_major": 2,
       "version_minor": 0
      },
      "text/plain": [
       "VBox()"
      ]
     },
     "metadata": {},
     "output_type": "display_data"
    },
    {
     "data": {
      "application/vnd.jupyter.widget-view+json": {
       "model_id": "",
       "version_major": 2,
       "version_minor": 0
      },
      "text/plain": [
       "FloatProgress(value=0.0, bar_style='info', description='Progress:', layout=Layout(height='25px', width='50%'),…"
      ]
     },
     "metadata": {},
     "output_type": "display_data"
    }
   ],
   "source": [
    "df_fi_one_str = (df_fi\n",
    "              .withColumn(\"out_cxr_fn_single\", F.concat_ws(\".\", \"out_zip_concat\"))\n",
    "              .withColumn(\"in_cxr_fn_single\", F.concat_ws(\".\", \"in_zip_concat\"))\n",
    "              .withColumn(\"rt_cxr_fn_single\", F.concat_ws(\"_\", \"out_cxr_fn_single\", \"in_cxr_fn_single\"))\n",
    "             )"
   ]
  },
  {
   "cell_type": "code",
   "execution_count": 26,
   "id": "52eb317b-81fd-4432-9426-9aa18a165854",
   "metadata": {
    "execution": {
     "iopub.execute_input": "2022-12-17T00:11:50.658558Z",
     "iopub.status.busy": "2022-12-17T00:11:50.658387Z",
     "iopub.status.idle": "2022-12-17T00:11:50.735892Z",
     "shell.execute_reply": "2022-12-17T00:11:50.735158Z",
     "shell.execute_reply.started": "2022-12-17T00:11:50.658537Z"
    },
    "tags": []
   },
   "outputs": [
    {
     "data": {
      "application/vnd.jupyter.widget-view+json": {
       "model_id": "6e2cc279e97c45cdadddc4ca90f7ed2d",
       "version_major": 2,
       "version_minor": 0
      },
      "text/plain": [
       "VBox()"
      ]
     },
     "metadata": {},
     "output_type": "display_data"
    },
    {
     "data": {
      "application/vnd.jupyter.widget-view+json": {
       "model_id": "",
       "version_major": 2,
       "version_minor": 0
      },
      "text/plain": [
       "FloatProgress(value=0.0, bar_style='info', description='Progress:', layout=Layout(height='25px', width='50%'),…"
      ]
     },
     "metadata": {},
     "output_type": "display_data"
    }
   ],
   "source": [
    "# df_one_str.select(\"out_cxr_fn_single\", \"in_cxr_fn_single\", \"rt_cxr_fn_single\").show(10)\n",
    "\n",
    "# df_one_str.filter(F.col(\"round_trip\") == 0).select(\"out_cxr_fn_single\", \"in_cxr_fn_single\", \"rt_cxr_fn_single\").show(10)\n",
    "\n",
    "# df_one_str.filter(F.col(\"out_num_stops\") > 0).select(\"out_cxr_fn_single\", \"in_cxr_fn_single\", \"rt_cxr_fn_single\").show(10, truncate=False)"
   ]
  },
  {
   "cell_type": "markdown",
   "id": "f7c2d7ac-15d0-4b4a-979a-deb0c701840f",
   "metadata": {},
   "source": [
    "### each leg separately (explode cols --> rows)"
   ]
  },
  {
   "cell_type": "markdown",
   "id": "100175b8-8342-4685-a146-0f4769d5d617",
   "metadata": {},
   "source": [
    "This explodes cols --> rows to count by leg. Note it doesn't make sense to concat out + in here (since we want to analyze by individual leg -- keep them separate)"
   ]
  },
  {
   "cell_type": "code",
   "execution_count": 27,
   "id": "32522ee0-3c34-44fe-8a54-69f405fc7844",
   "metadata": {
    "execution": {
     "iopub.execute_input": "2022-12-17T00:11:50.738498Z",
     "iopub.status.busy": "2022-12-17T00:11:50.737541Z",
     "iopub.status.idle": "2022-12-17T00:11:51.068646Z",
     "shell.execute_reply": "2022-12-17T00:11:51.067868Z",
     "shell.execute_reply.started": "2022-12-17T00:11:50.738460Z"
    },
    "tags": []
   },
   "outputs": [
    {
     "data": {
      "application/vnd.jupyter.widget-view+json": {
       "model_id": "024050e7b4794d47bade8354694e63c1",
       "version_major": 2,
       "version_minor": 0
      },
      "text/plain": [
       "VBox()"
      ]
     },
     "metadata": {},
     "output_type": "display_data"
    },
    {
     "data": {
      "application/vnd.jupyter.widget-view+json": {
       "model_id": "",
       "version_major": 2,
       "version_minor": 0
      },
      "text/plain": [
       "FloatProgress(value=0.0, bar_style='info', description='Progress:', layout=Layout(height='25px', width='50%'),…"
      ]
     },
     "metadata": {},
     "output_type": "display_data"
    }
   ],
   "source": [
    "df_fi_expl = (df_fi\n",
    "           .select(\"*\", F.posexplode(\"out_zip_concat\").alias(\"out_leg_num\", \"out_leg_fn\"))\n",
    "           .withColumn(\"out_leg_num\", F.col(\"out_leg_num\") + 1)\n",
    "           .select(\"*\", F.posexplode_outer(\"in_zip_concat\").alias(\"in_leg_num\", \"in_leg_fn\"))\n",
    "           .withColumn(\"in_leg_num\", F.col(\"in_leg_num\") + 1)\n",
    "          )"
   ]
  },
  {
   "cell_type": "code",
   "execution_count": 28,
   "id": "44bd0e72-4cec-4b76-8607-d6c1cf7a9631",
   "metadata": {
    "execution": {
     "iopub.execute_input": "2022-12-17T00:11:51.071724Z",
     "iopub.status.busy": "2022-12-17T00:11:51.071446Z",
     "iopub.status.idle": "2022-12-17T00:11:51.210530Z",
     "shell.execute_reply": "2022-12-17T00:11:51.209815Z",
     "shell.execute_reply.started": "2022-12-17T00:11:51.071686Z"
    },
    "tags": []
   },
   "outputs": [
    {
     "data": {
      "application/vnd.jupyter.widget-view+json": {
       "model_id": "9ad926d12443422e84522732b425d103",
       "version_major": 2,
       "version_minor": 0
      },
      "text/plain": [
       "VBox()"
      ]
     },
     "metadata": {},
     "output_type": "display_data"
    },
    {
     "data": {
      "application/vnd.jupyter.widget-view+json": {
       "model_id": "",
       "version_major": 2,
       "version_minor": 0
      },
      "text/plain": [
       "FloatProgress(value=0.0, bar_style='info', description='Progress:', layout=Layout(height='25px', width='50%'),…"
      ]
     },
     "metadata": {},
     "output_type": "display_data"
    }
   ],
   "source": [
    "# df_fi_expl.groupBy(\"round_trip\").count().show()\n",
    "\n",
    "# df_fi_expl.select(\"out_zip_concat\", \"out_leg_num\", \"out_leg_fn\", \"out_num_stops\").show(10)\n",
    "\n",
    "# df_fi_expl.select(\"in_zip_concat\", \"in_leg_num\", \"in_leg_fn\", \"in_num_stops\").show(10)"
   ]
  },
  {
   "cell_type": "markdown",
   "id": "6028b179-4198-4f63-8901-b180fc1c21b2",
   "metadata": {},
   "source": [
    "## groupBy market & count"
   ]
  },
  {
   "cell_type": "markdown",
   "id": "1e2f3e55-06d6-4f18-831d-252dce7f0366",
   "metadata": {},
   "source": [
    "We separate into out-bound and in-bound legs. Note we'll later want to divide the out-bound df into one-way and round-trip\n",
    "\n",
    "Note: for the in-bound (round-trip), it's not nec to include round_trip in the groupBy, but it makes processing below simpler"
   ]
  },
  {
   "cell_type": "code",
   "execution_count": null,
   "id": "abb4ff05-73bb-4773-826e-97a797c0881d",
   "metadata": {},
   "outputs": [],
   "source": []
  },
  {
   "cell_type": "code",
   "execution_count": 29,
   "id": "51a96798-d062-4bf6-9009-983ec266284f",
   "metadata": {
    "execution": {
     "iopub.execute_input": "2022-12-17T00:11:51.212065Z",
     "iopub.status.busy": "2022-12-17T00:11:51.211683Z",
     "iopub.status.idle": "2022-12-17T00:11:51.525838Z",
     "shell.execute_reply": "2022-12-17T00:11:51.525111Z",
     "shell.execute_reply.started": "2022-12-17T00:11:51.212028Z"
    },
    "tags": []
   },
   "outputs": [
    {
     "data": {
      "application/vnd.jupyter.widget-view+json": {
       "model_id": "aaf289d86663461c94a753b1e39e5259",
       "version_major": 2,
       "version_minor": 0
      },
      "text/plain": [
       "VBox()"
      ]
     },
     "metadata": {},
     "output_type": "display_data"
    },
    {
     "data": {
      "application/vnd.jupyter.widget-view+json": {
       "model_id": "",
       "version_major": 2,
       "version_minor": 0
      },
      "text/plain": [
       "FloatProgress(value=0.0, bar_style='info', description='Progress:', layout=Layout(height='25px', width='50%'),…"
      ]
     },
     "metadata": {},
     "output_type": "display_data"
    }
   ],
   "source": [
    "out_fi_per_leg = (df_fi_expl\n",
    "                    .filter(F.col(\"fare_rank\") == 1)\n",
    "                    .groupBy(\"market\", \"round_trip\", \"out_leg_fn\")\n",
    "                    .agg(F.count(\"*\").alias(\"count\"))\n",
    "                 )\n",
    "\n",
    "rt_in_fi_per_leg = (df_fi_expl\n",
    "                    .filter((F.col(\"fare_rank\") == 1) & (F.col(\"round_trip\") == 1))\n",
    "                    .groupBy(\"market\", \"round_trip\", \"in_leg_fn\")\n",
    "                    .agg(F.count(\"*\").alias(\"count\"))\n",
    "                 )"
   ]
  },
  {
   "cell_type": "code",
   "execution_count": 37,
   "id": "f323bae9-95e3-4f51-886b-d0f7e288d84c",
   "metadata": {
    "execution": {
     "iopub.execute_input": "2022-12-17T00:12:51.011622Z",
     "iopub.status.busy": "2022-12-17T00:12:51.011276Z",
     "iopub.status.idle": "2022-12-17T00:12:51.320753Z",
     "shell.execute_reply": "2022-12-17T00:12:51.319974Z",
     "shell.execute_reply.started": "2022-12-17T00:12:51.011580Z"
    },
    "tags": []
   },
   "outputs": [],
   "source": [
    "# ow_out_fi_one_str = (df_one_str\n",
    "#                       .filter((F.col(\"fare_rank\") == 1) & (F.col(\"round_trip\") == 0))\n",
    "#                       .groupBy(\"market\", \"out_cxr_fn_single\")\n",
    "#                       .agg(F.count(\"*\").alias(\"count\"))\n",
    "#                      )\n",
    "\n",
    "# rt_out_fi_one_str = (df_one_str\n",
    "#                       .filter((F.col(\"fare_rank\") == 1) & (F.col(\"round_trip\") == 1))\n",
    "#                       .groupBy(\"market\", \"out_cxr_fn_single\")\n",
    "#                       .agg(F.count(\"*\").alias(\"count\"))\n",
    "#                      )"
   ]
  },
  {
   "cell_type": "code",
   "execution_count": 71,
   "id": "6ce134d8-0231-4d36-84b8-1144c299e6ff",
   "metadata": {
    "execution": {
     "iopub.execute_input": "2022-12-17T00:33:31.108410Z",
     "iopub.status.busy": "2022-12-17T00:33:31.108151Z",
     "iopub.status.idle": "2022-12-17T00:33:31.369763Z",
     "shell.execute_reply": "2022-12-17T00:33:31.369182Z",
     "shell.execute_reply.started": "2022-12-17T00:33:31.108382Z"
    },
    "tags": []
   },
   "outputs": [
    {
     "data": {
      "application/vnd.jupyter.widget-view+json": {
       "model_id": "c1a8ac15a71b427aa674382bcf1fff5d",
       "version_major": 2,
       "version_minor": 0
      },
      "text/plain": [
       "VBox()"
      ]
     },
     "metadata": {},
     "output_type": "display_data"
    },
    {
     "data": {
      "application/vnd.jupyter.widget-view+json": {
       "model_id": "",
       "version_major": 2,
       "version_minor": 0
      },
      "text/plain": [
       "FloatProgress(value=0.0, bar_style='info', description='Progress:', layout=Layout(height='25px', width='50%'),…"
      ]
     },
     "metadata": {},
     "output_type": "display_data"
    }
   ],
   "source": [
    "out_fi_one_str = (df_fi_one_str\n",
    "                      .filter(F.col(\"fare_rank\") == 1)\n",
    "                      .groupBy(\"market\", \"round_trip\", \"out_cxr_fn_single\")\n",
    "                      .agg(F.count(\"*\").alias(\"count\"))\n",
    "                     )"
   ]
  },
  {
   "cell_type": "code",
   "execution_count": 37,
   "id": "351dd476-c9ce-4ad9-9147-bf00b8c3f58b",
   "metadata": {
    "execution": {
     "iopub.execute_input": "2022-12-17T00:12:51.011622Z",
     "iopub.status.busy": "2022-12-17T00:12:51.011276Z",
     "iopub.status.idle": "2022-12-17T00:12:51.320753Z",
     "shell.execute_reply": "2022-12-17T00:12:51.319974Z",
     "shell.execute_reply.started": "2022-12-17T00:12:51.011580Z"
    },
    "tags": []
   },
   "outputs": [
    {
     "data": {
      "application/vnd.jupyter.widget-view+json": {
       "model_id": "898e0f0f7e204bb5981f6a920d792400",
       "version_major": 2,
       "version_minor": 0
      },
      "text/plain": [
       "VBox()"
      ]
     },
     "metadata": {},
     "output_type": "display_data"
    },
    {
     "data": {
      "application/vnd.jupyter.widget-view+json": {
       "model_id": "",
       "version_major": 2,
       "version_minor": 0
      },
      "text/plain": [
       "FloatProgress(value=0.0, bar_style='info', description='Progress:', layout=Layout(height='25px', width='50%'),…"
      ]
     },
     "metadata": {},
     "output_type": "display_data"
    }
   ],
   "source": [
    "rt_in_fi_one_str = (df_fi_one_str\n",
    "                      .filter((F.col(\"fare_rank\") == 1) & (F.col(\"round_trip\") == 1))\n",
    "                      .groupBy(\"market\", \"round_trip\", \"in_cxr_fn_single\")\n",
    "                      .agg(F.count(\"*\").alias(\"count\"))\n",
    "                     )\n",
    "\n",
    "rt_fi_one_str = (df_fi_one_str\n",
    "                      .filter((F.col(\"fare_rank\") == 1) & (F.col(\"round_trip\") == 1))\n",
    "                      .groupBy(\"market\", \"round_trip\", \"rt_cxr_fn_single\")\n",
    "                      .agg(F.count(\"*\").alias(\"count\"))\n",
    "                     )"
   ]
  },
  {
   "cell_type": "markdown",
   "id": "67be89ba-b0b9-4f28-ba44-0c02a2d90e5d",
   "metadata": {},
   "source": [
    "## window func to calc pct by market"
   ]
  },
  {
   "cell_type": "markdown",
   "id": "6ae53fda-cf2d-4c77-a1c6-7bfc12041292",
   "metadata": {},
   "source": [
    "Note: these are the same window functions we used above; we could combine definitions"
   ]
  },
  {
   "cell_type": "code",
   "execution_count": 38,
   "id": "333968b5-e1cb-43e3-ac9a-8c790d975cc8",
   "metadata": {
    "execution": {
     "iopub.execute_input": "2022-12-17T00:13:33.361197Z",
     "iopub.status.busy": "2022-12-17T00:13:33.360926Z",
     "iopub.status.idle": "2022-12-17T00:13:33.627377Z",
     "shell.execute_reply": "2022-12-17T00:13:33.626800Z",
     "shell.execute_reply.started": "2022-12-17T00:13:33.361169Z"
    },
    "tags": []
   },
   "outputs": [],
   "source": [
    "out_fi_per_leg = apply_window_1(out_fi_per_leg, w1)\n",
    "out_fi_per_leg = apply_window_2(out_fi_per_leg, w2)\n",
    "\n",
    "rt_in_fi_per_leg = apply_window_1(rt_in_fi_per_leg, w1)\n",
    "rt_in_fi_per_leg = apply_window_2(rt_in_fi_per_leg, w2)"
   ]
  },
  {
   "cell_type": "code",
   "execution_count": 72,
   "id": "56d57a88-0f9b-42cc-a57d-dd35d66eb800",
   "metadata": {
    "execution": {
     "iopub.execute_input": "2022-12-17T00:33:36.763209Z",
     "iopub.status.busy": "2022-12-17T00:33:36.762942Z",
     "iopub.status.idle": "2022-12-17T00:33:36.832506Z",
     "shell.execute_reply": "2022-12-17T00:33:36.831953Z",
     "shell.execute_reply.started": "2022-12-17T00:33:36.763183Z"
    },
    "tags": []
   },
   "outputs": [
    {
     "data": {
      "application/vnd.jupyter.widget-view+json": {
       "model_id": "3d2e0b46bc8849b395c3ba8e2c2e84ad",
       "version_major": 2,
       "version_minor": 0
      },
      "text/plain": [
       "VBox()"
      ]
     },
     "metadata": {},
     "output_type": "display_data"
    },
    {
     "data": {
      "application/vnd.jupyter.widget-view+json": {
       "model_id": "",
       "version_major": 2,
       "version_minor": 0
      },
      "text/plain": [
       "FloatProgress(value=0.0, bar_style='info', description='Progress:', layout=Layout(height='25px', width='50%'),…"
      ]
     },
     "metadata": {},
     "output_type": "display_data"
    }
   ],
   "source": [
    "out_fi_one_str = apply_window_1(out_fi_one_str, w1)\n",
    "out_fi_one_str = apply_window_2(out_fi_one_str, w2)"
   ]
  },
  {
   "cell_type": "code",
   "execution_count": 38,
   "id": "483d364f-7dd7-419e-b860-d1661660755f",
   "metadata": {
    "execution": {
     "iopub.execute_input": "2022-12-17T00:13:33.361197Z",
     "iopub.status.busy": "2022-12-17T00:13:33.360926Z",
     "iopub.status.idle": "2022-12-17T00:13:33.627377Z",
     "shell.execute_reply": "2022-12-17T00:13:33.626800Z",
     "shell.execute_reply.started": "2022-12-17T00:13:33.361169Z"
    },
    "tags": []
   },
   "outputs": [
    {
     "data": {
      "application/vnd.jupyter.widget-view+json": {
       "model_id": "0cf4e39a582645949200463e739b1f1b",
       "version_major": 2,
       "version_minor": 0
      },
      "text/plain": [
       "VBox()"
      ]
     },
     "metadata": {},
     "output_type": "display_data"
    },
    {
     "data": {
      "application/vnd.jupyter.widget-view+json": {
       "model_id": "",
       "version_major": 2,
       "version_minor": 0
      },
      "text/plain": [
       "FloatProgress(value=0.0, bar_style='info', description='Progress:', layout=Layout(height='25px', width='50%'),…"
      ]
     },
     "metadata": {},
     "output_type": "display_data"
    }
   ],
   "source": [
    "rt_in_fi_one_str = apply_window_1(rt_in_fi_one_str, w1)\n",
    "rt_in_fi_one_str = apply_window_2(rt_in_fi_one_str, w2)\n",
    "\n",
    "rt_fi_one_str = apply_window_1(rt_fi_one_str, w1)\n",
    "rt_fi_one_str = apply_window_2(rt_fi_one_str, w2)"
   ]
  },
  {
   "cell_type": "code",
   "execution_count": 32,
   "id": "1f13580a-7b96-4eb4-91d8-5237ea607d82",
   "metadata": {
    "execution": {
     "iopub.execute_input": "2022-12-17T00:11:51.772062Z",
     "iopub.status.busy": "2022-12-17T00:11:51.771751Z",
     "iopub.status.idle": "2022-12-17T00:11:51.863340Z",
     "shell.execute_reply": "2022-12-17T00:11:51.862710Z",
     "shell.execute_reply.started": "2022-12-17T00:11:51.772019Z"
    },
    "tags": []
   },
   "outputs": [
    {
     "data": {
      "application/vnd.jupyter.widget-view+json": {
       "model_id": "f1aa5ed36cb44a5184b6639c0ff2d00d",
       "version_major": 2,
       "version_minor": 0
      },
      "text/plain": [
       "VBox()"
      ]
     },
     "metadata": {},
     "output_type": "display_data"
    },
    {
     "data": {
      "application/vnd.jupyter.widget-view+json": {
       "model_id": "",
       "version_major": 2,
       "version_minor": 0
      },
      "text/plain": [
       "FloatProgress(value=0.0, bar_style='info', description='Progress:', layout=Layout(height='25px', width='50%'),…"
      ]
     },
     "metadata": {},
     "output_type": "display_data"
    }
   ],
   "source": [
    "# out_fi_per_leg_grp.groupBy(\"round_trip\").count().show()"
   ]
  },
  {
   "cell_type": "code",
   "execution_count": 65,
   "id": "88cf9e18-67f6-49ec-b5e5-acfedc03021c",
   "metadata": {
    "execution": {
     "iopub.execute_input": "2022-12-17T00:31:32.277568Z",
     "iopub.status.busy": "2022-12-17T00:31:32.277324Z",
     "iopub.status.idle": "2022-12-17T00:31:32.535698Z",
     "shell.execute_reply": "2022-12-17T00:31:32.535099Z",
     "shell.execute_reply.started": "2022-12-17T00:31:32.277544Z"
    },
    "tags": []
   },
   "outputs": [],
   "source": [
    "# split into ow & rt\n",
    "ow_out_fi_per_leg = out_fi_per_leg.filter(F.col(\"round_trip\") == 0)\n",
    "rt_out_fi_per_leg = out_fi_per_leg.filter(F.col(\"round_trip\") == 1)"
   ]
  },
  {
   "cell_type": "code",
   "execution_count": 73,
   "id": "49e325db-1351-4fdb-87f6-85ddd91f1bba",
   "metadata": {
    "execution": {
     "iopub.execute_input": "2022-12-17T00:33:40.627956Z",
     "iopub.status.busy": "2022-12-17T00:33:40.627728Z",
     "iopub.status.idle": "2022-12-17T00:33:40.889260Z",
     "shell.execute_reply": "2022-12-17T00:33:40.888650Z",
     "shell.execute_reply.started": "2022-12-17T00:33:40.627932Z"
    },
    "tags": []
   },
   "outputs": [
    {
     "data": {
      "application/vnd.jupyter.widget-view+json": {
       "model_id": "2dd10fc69d644db3998a5c1930583842",
       "version_major": 2,
       "version_minor": 0
      },
      "text/plain": [
       "VBox()"
      ]
     },
     "metadata": {},
     "output_type": "display_data"
    },
    {
     "data": {
      "application/vnd.jupyter.widget-view+json": {
       "model_id": "",
       "version_major": 2,
       "version_minor": 0
      },
      "text/plain": [
       "FloatProgress(value=0.0, bar_style='info', description='Progress:', layout=Layout(height='25px', width='50%'),…"
      ]
     },
     "metadata": {},
     "output_type": "display_data"
    }
   ],
   "source": [
    "ow_out_fi_one_str = out_fi_one_str.filter(F.col(\"round_trip\") == 0)\n",
    "rt_out_fi_one_str = out_fi_one_str.filter(F.col(\"round_trip\") == 1)"
   ]
  },
  {
   "cell_type": "code",
   "execution_count": 34,
   "id": "7b6b2df1-1e61-443b-8042-320e5f2e618b",
   "metadata": {
    "execution": {
     "iopub.execute_input": "2022-12-17T00:11:52.181291Z",
     "iopub.status.busy": "2022-12-17T00:11:52.181037Z",
     "iopub.status.idle": "2022-12-17T00:11:52.293722Z",
     "shell.execute_reply": "2022-12-17T00:11:52.292329Z",
     "shell.execute_reply.started": "2022-12-17T00:11:52.181255Z"
    },
    "tags": []
   },
   "outputs": [
    {
     "data": {
      "application/vnd.jupyter.widget-view+json": {
       "model_id": "fba09d783d1f47bcad287c01ad4b39a4",
       "version_major": 2,
       "version_minor": 0
      },
      "text/plain": [
       "VBox()"
      ]
     },
     "metadata": {},
     "output_type": "display_data"
    },
    {
     "data": {
      "application/vnd.jupyter.widget-view+json": {
       "model_id": "",
       "version_major": 2,
       "version_minor": 0
      },
      "text/plain": [
       "FloatProgress(value=0.0, bar_style='info', description='Progress:', layout=Layout(height='25px', width='50%'),…"
      ]
     },
     "metadata": {},
     "output_type": "display_data"
    }
   ],
   "source": [
    "# out_ow_fi_per_leg_grp.show(10)"
   ]
  },
  {
   "cell_type": "markdown",
   "id": "d3f4cb30-c279-42fc-8f78-a2685e91fb3a",
   "metadata": {},
   "source": [
    "# Overall results"
   ]
  },
  {
   "cell_type": "code",
   "execution_count": 35,
   "id": "c8cc7a0b-6558-4f0b-a519-b8fcca83fefc",
   "metadata": {
    "execution": {
     "iopub.execute_input": "2022-12-17T00:11:52.299896Z",
     "iopub.status.busy": "2022-12-17T00:11:52.294776Z",
     "iopub.status.idle": "2022-12-17T00:11:52.370129Z",
     "shell.execute_reply": "2022-12-17T00:11:52.369380Z",
     "shell.execute_reply.started": "2022-12-17T00:11:52.299853Z"
    },
    "tags": []
   },
   "outputs": [
    {
     "data": {
      "application/vnd.jupyter.widget-view+json": {
       "model_id": "60a245198147415884cf1ed63c90a323",
       "version_major": 2,
       "version_minor": 0
      },
      "text/plain": [
       "VBox()"
      ]
     },
     "metadata": {},
     "output_type": "display_data"
    },
    {
     "data": {
      "application/vnd.jupyter.widget-view+json": {
       "model_id": "",
       "version_major": 2,
       "version_minor": 0
      },
      "text/plain": [
       "FloatProgress(value=0.0, bar_style='info', description='Progress:', layout=Layout(height='25px', width='50%'),…"
      ]
     },
     "metadata": {},
     "output_type": "display_data"
    }
   ],
   "source": [
    "# out_ow_fi_per_leg.orderBy(F.desc(\"pct_count\")).show()\n",
    "\n",
    "# out_rt_fi_per_leg.orderBy(F.desc(\"pct_count\")).show(truncate=False)\n",
    "\n",
    "# out_ow_fi_per_leg.orderBy(F.desc(\"pct_count\")).show(truncate=False)\n",
    "\n",
    "# out_rt_fi_per_leg.orderBy(F.desc(\"pct_count\")).show(truncate=False)\n",
    "\n",
    "# rt_fi_one_str.orderBy(F.desc(\"pct_count\")).show(truncate=False)"
   ]
  },
  {
   "cell_type": "markdown",
   "id": "6a05516d-61cf-4fcb-b732-91a877afcba6",
   "metadata": {},
   "source": [
    "# Results by market"
   ]
  },
  {
   "cell_type": "code",
   "execution_count": 44,
   "id": "a72f95c0-fadc-4b38-a45a-9dcdccc522c3",
   "metadata": {
    "execution": {
     "iopub.execute_input": "2022-12-17T00:16:31.930469Z",
     "iopub.status.busy": "2022-12-17T00:16:31.930228Z",
     "iopub.status.idle": "2022-12-17T00:16:31.984563Z",
     "shell.execute_reply": "2022-12-17T00:16:31.984029Z",
     "shell.execute_reply.started": "2022-12-17T00:16:31.930442Z"
    },
    "tags": []
   },
   "outputs": [
    {
     "data": {
      "application/vnd.jupyter.widget-view+json": {
       "model_id": "f774141218a24fc4be485db3f8c11410",
       "version_major": 2,
       "version_minor": 0
      },
      "text/plain": [
       "VBox()"
      ]
     },
     "metadata": {},
     "output_type": "display_data"
    },
    {
     "data": {
      "application/vnd.jupyter.widget-view+json": {
       "model_id": "",
       "version_major": 2,
       "version_minor": 0
      },
      "text/plain": [
       "FloatProgress(value=0.0, bar_style='info', description='Progress:', layout=Layout(height='25px', width='50%'),…"
      ]
     },
     "metadata": {},
     "output_type": "display_data"
    }
   ],
   "source": [
    "def show_market_analysis(market):\n",
    "    # mdf = cxr_market_grp_crude.filter(F.col(\"market\") == market)\n",
    "    print(\"Carriers - any leg - one-way\")\n",
    "    (ow_out_cxr_crude.filter(F.col(\"market\") == market)\n",
    "     .drop(\"count_market\").orderBy(F.desc(\"pct_count\")).show()\n",
    "    )\n",
    "    \n",
    "    print(\"Carriers - any leg - Round-trip\")\n",
    "    same_cxr_crude.filter(F.col(\"market\") == market).drop(\"count_market\").orderBy(F.desc(\"pct_count\")).show()\n",
    "    \n",
    "    print(\"Interline carriers - one-way (out-bound)\")\n",
    "    (ow_out_cxr_nuanced\n",
    "     .filter(F.col(\"market\") == market)\n",
    "     .drop(\"count_market\")\n",
    "     .orderBy(F.desc(\"pct_count\"))\n",
    "     .show()\n",
    "    )\n",
    "\n",
    "    print(\"Interline carriers - round-trip, out-bound\")\n",
    "    (rt_out_cxr_nuanced\n",
    "     .filter(F.col(\"market\") == market)\n",
    "     .drop(\"count_market\")\n",
    "     .orderBy(F.desc(\"pct_count\"))\n",
    "     .show()\n",
    "    )\n",
    "\n",
    "    print(\"Interline carriers - round-trip, in-bound\")\n",
    "    (rt_in_cxr_nuanced\n",
    "     .filter(F.col(\"market\") == market)\n",
    "     .drop(\"count_market\")\n",
    "     .orderBy(F.desc(\"pct_count\"))\n",
    "     .show()\n",
    "    )\n",
    "    \n",
    "    \n",
    "    print(\"Individual Legs - one-way (out-bound)\")\n",
    "    mdf_leg = ow_out_fi_per_leg.filter(F.col(\"market\") == market)\n",
    "    mdf_leg.orderBy(F.desc(\"count\")).drop(\"count_market\").show()\n",
    "    \n",
    "    print(\"Individual Legs - round-trip, out-bound\")\n",
    "    mdf_leg = rt_out_fi_per_leg.filter(F.col(\"market\") == market)\n",
    "    mdf_leg.orderBy(F.desc(\"count\")).drop(\"count_market\").show()\n",
    "    \n",
    "    print(\"Individual Legs - round-trip, in-bound\")\n",
    "    mdf_leg = rt_in_fi_per_leg.filter(F.col(\"market\") == market)\n",
    "    mdf_leg.orderBy(F.desc(\"count\")).drop(\"count_market\").show()    \n",
    "\n",
    "    \n",
    "    print(\"Itineraries - one-way (out-bound)\")\n",
    "    mdf_single = ow_out_fi_one_str.filter(F.col(\"market\") == market)\n",
    "    mdf_single.orderBy(F.desc(\"pct_count\")).drop(\"count_market\").show()\n",
    "\n",
    "    print(\"Itineraries - round-trip, out-bound\")\n",
    "    mdf_single = rt_out_fi_one_str.filter(F.col(\"market\") == market)\n",
    "    mdf_single.orderBy(F.desc(\"pct_count\")).drop(\"count_market\").show(truncate=False)\n",
    "    \n",
    "    print(\"Itineraries - round-trip, in-bound\")\n",
    "    mdf_single = rt_in_fi_one_str.filter(F.col(\"market\") == market)\n",
    "    mdf_single.orderBy(F.desc(\"pct_count\")).drop(\"count_market\").show(truncate=False)\n",
    "    \n",
    "    print(\"Itineraries - round-trip, out+in\")\n",
    "    mdf_single = rt_fi_one_str.filter(F.col(\"market\") == market)\n",
    "    mdf_single.orderBy(F.desc(\"pct_count\")).drop(\"count_market\").show(truncate=False)\n",
    "    "
   ]
  },
  {
   "cell_type": "markdown",
   "id": "e8e221e1-9879-49f6-a66f-8200c85f946d",
   "metadata": {},
   "source": [
    "## JFK-LHR"
   ]
  },
  {
   "cell_type": "code",
   "execution_count": 74,
   "id": "c63ac832-f04e-4311-b375-172661da20c7",
   "metadata": {
    "execution": {
     "iopub.execute_input": "2022-12-17T00:33:48.676359Z",
     "iopub.status.busy": "2022-12-17T00:33:48.676132Z",
     "iopub.status.idle": "2022-12-17T00:34:09.133941Z",
     "shell.execute_reply": "2022-12-17T00:34:09.116199Z",
     "shell.execute_reply.started": "2022-12-17T00:33:48.676335Z"
    },
    "tags": []
   },
   "outputs": [
    {
     "data": {
      "application/vnd.jupyter.widget-view+json": {
       "model_id": "e6a4b11865a64e6b81a09a606b7515d3",
       "version_major": 2,
       "version_minor": 0
      },
      "text/plain": [
       "VBox()"
      ]
     },
     "metadata": {},
     "output_type": "display_data"
    },
    {
     "data": {
      "application/vnd.jupyter.widget-view+json": {
       "model_id": "",
       "version_major": 2,
       "version_minor": 0
      },
      "text/plain": [
       "FloatProgress(value=0.0, bar_style='info', description='Progress:', layout=Layout(height='25px', width='50%'),…"
      ]
     },
     "metadata": {},
     "output_type": "display_data"
    },
    {
     "name": "stdout",
     "output_type": "stream",
     "text": [
      "Carriers - any leg - one-way\n",
      "+-------+----------+-------+------+--------------------+------------------+\n",
      "| market|round_trip|out_cxr| count|           pct_count|           cum_pct|\n",
      "+-------+----------+-------+------+--------------------+------------------+\n",
      "|JFK-LHR|         0|     TP|866038|  0.7634239029348218|0.7634239029348218|\n",
      "|JFK-LHR|         0|     DL|114666| 0.10107958917960214|0.8645034921144239|\n",
      "|JFK-LHR|         0|     VS|112383| 0.09906709461192705| 0.963570586726351|\n",
      "|JFK-LHR|         0|     WS| 19658| 0.01732878590072575|0.9808993726270767|\n",
      "|JFK-LHR|         0|     FI| 14246|0.012558036623346171|0.9934574092504229|\n",
      "|JFK-LHR|         0|     TK|  1620|0.001428051335800...|0.9948854605862238|\n",
      "|JFK-LHR|         0|     AZ|  1224|0.001078972120382...|0.9959644327066068|\n",
      "|JFK-LHR|         0|     AF|  1130|9.961098823796978E-4|0.9969605425889866|\n",
      "|JFK-LHR|         0|     JU|   682|6.011919821088087E-4|0.9975617345710954|\n",
      "|JFK-LHR|         0|     SK|   577|5.086330992328191E-4|0.9980703676703282|\n",
      "|JFK-LHR|         0|     LH|   477|4.204817822080671E-4|0.9989113312347444|\n",
      "|JFK-LHR|         0|     DE|   477|4.204817822080671E-4|0.9984908494525363|\n",
      "|JFK-LHR|         0|     EI|   421| 3.71117044674206E-4|0.9992824482794186|\n",
      "|JFK-LHR|         0|     KL|   298|2.626909247337609...|0.9995451392041523|\n",
      "|JFK-LHR|         0|     BA|   294|2.591648720527709E-4|0.9998043040762051|\n",
      "|JFK-LHR|         0|     B6|   179|1.577908574743061E-4|0.9999620949336795|\n",
      "|JFK-LHR|         0|     S4|    23|2.027480291569296...|0.9999823697365952|\n",
      "|JFK-LHR|         0|     AA|    12|1.057815804297024E-5|0.9999929478946381|\n",
      "|JFK-LHR|         0|     LX|     5|  4.4075658512376E-6|0.9999973554604893|\n",
      "|JFK-LHR|         0|     AT|     2| 1.76302634049504E-6|0.9999991184868298|\n",
      "+-------+----------+-------+------+--------------------+------------------+\n",
      "only showing top 20 rows\n",
      "\n",
      "Carriers - any leg - Round-trip\n",
      "+-------+----------+-------+---------------+------+--------------------+-------------------+\n",
      "| market|round_trip|out_cxr|out_in_same_cxr| count|           pct_count|            cum_pct|\n",
      "+-------+----------+-------+---------------+------+--------------------+-------------------+\n",
      "|JFK-LHR|         1|     FI|              1|504714| 0.21496181307401774|0.21496181307401774|\n",
      "|JFK-LHR|         1|     VS|              1|290024| 0.12352358934957008| 0.3384854024235878|\n",
      "|JFK-LHR|         1|     DL|              1|237879| 0.10131460813893466| 0.4398000105625225|\n",
      "|JFK-LHR|         1|     AA|              1|211716| 0.09017157284477692| 0.5299715834072994|\n",
      "|JFK-LHR|         1|     VS|              0|204232| 0.08698407614556519| 0.6169556595528647|\n",
      "|JFK-LHR|         1|     DL|              0|203750| 0.08677878841052777| 0.7037344479633925|\n",
      "|JFK-LHR|         1|     AY|              0|112862| 0.04806884720289072| 0.7518032951662832|\n",
      "|JFK-LHR|         1|     TP|              1| 96525|0.041110785527981315| 0.7929140806942645|\n",
      "|JFK-LHR|         1|     AY|              1| 90571|0.038574928319656004| 0.8314890090139205|\n",
      "|JFK-LHR|         1|     AA|              0| 89808| 0.03824996039054075| 0.8697389694044613|\n",
      "|JFK-LHR|         1|     EI|              1| 68288|0.029084416701733104| 0.8988233861061944|\n",
      "|JFK-LHR|         1|     SK|              1| 56588|0.024101291183189915| 0.9229246772893843|\n",
      "|JFK-LHR|         1|     BA|              0| 34605|0.014738552014460435| 0.9376632293038447|\n",
      "|JFK-LHR|         1|     B6|              1| 32123|0.013681447951466913| 0.9513446772553116|\n",
      "|JFK-LHR|         1|     IB|              1| 19651|0.008369521330332669| 0.9597141985856442|\n",
      "|JFK-LHR|         1|     BA|              1| 17354|0.007391210277675...| 0.9671054088633193|\n",
      "|JFK-LHR|         1|     IB|              0| 15792|0.006725941725541372| 0.9738313505888607|\n",
      "|JFK-LHR|         1|     TK|              1| 14010|0.005966973377332486| 0.9797983239661933|\n",
      "|JFK-LHR|         1|     LX|              0|  6458|0.002750514922970...| 0.9825488388891636|\n",
      "|JFK-LHR|         1|     AF|              0|  6335|0.002698128218800...| 0.9852469671079646|\n",
      "+-------+----------+-------+---------------+------+--------------------+-------------------+\n",
      "only showing top 20 rows\n",
      "\n",
      "Interline carriers - one-way (out-bound)\n",
      "+-------+----------+------------------+------+--------------------+------------------+\n",
      "| market|round_trip|out_uni_cxr_concat| count|           pct_count|           cum_pct|\n",
      "+-------+----------+------------------+------+--------------------+------------------+\n",
      "|JFK-LHR|         0|                TP|865990|    0.76338159030265|  0.76338159030265|\n",
      "|JFK-LHR|         0|                DL|112658| 0.09930951073374512|0.8626911010363951|\n",
      "|JFK-LHR|         0|                VS|110375| 0.09729701616607003|0.9599881172024651|\n",
      "|JFK-LHR|         0|                WS| 19658| 0.01732878590072575|0.9773169031031909|\n",
      "|JFK-LHR|         0|                FI| 14246|0.012558036623346171|0.9898749397265371|\n",
      "|JFK-LHR|         0|             DL-VS|  4016|0.003540156891714...|0.9934150966182511|\n",
      "|JFK-LHR|         0|                TK|  1620|0.001428051335800...| 0.994843147954052|\n",
      "|JFK-LHR|         0|                AZ|  1224|0.001078972120382...| 0.995922120074435|\n",
      "|JFK-LHR|         0|                AF|  1130|9.961098823796978E-4|0.9969182299568148|\n",
      "|JFK-LHR|         0|             DE-LH|   954|8.409635644161342E-4|0.9977591935212309|\n",
      "|JFK-LHR|         0|                JU|   682|6.011919821088087E-4|0.9983603855033397|\n",
      "|JFK-LHR|         0|                SK|   577|5.086330992328191E-4|0.9988690186025725|\n",
      "|JFK-LHR|         0|                EI|   421| 3.71117044674206E-4|0.9992401356472467|\n",
      "|JFK-LHR|         0|                KL|   298|2.626909247337609...|0.9995028265719804|\n",
      "|JFK-LHR|         0|                BA|   294|2.591648720527709E-4|0.9997619914440332|\n",
      "|JFK-LHR|         0|                B6|   131|1.154782253024251...|0.9998774696693357|\n",
      "|JFK-LHR|         0|             B6-TP|    96|8.462526434376192E-5|0.9999620949336794|\n",
      "|JFK-LHR|         0|                S4|    23|2.027480291569296...| 0.999982369736595|\n",
      "|JFK-LHR|         0|                AA|    11|9.696644872722721E-6|0.9999920663814678|\n",
      "|JFK-LHR|         0|                LX|     5|  4.4075658512376E-6|0.9999964739473189|\n",
      "+-------+----------+------------------+------+--------------------+------------------+\n",
      "only showing top 20 rows\n",
      "\n",
      "Interline carriers - round-trip, out-bound\n",
      "+-------+----------+------------------+------+--------------------+-------------------+\n",
      "| market|round_trip|out_uni_cxr_concat| count|           pct_count|            cum_pct|\n",
      "+-------+----------+------------------+------+--------------------+-------------------+\n",
      "|JFK-LHR|         1|                FI|504706|  0.2149584058087059| 0.2149584058087059|\n",
      "|JFK-LHR|         1|                VS|491167|  0.2091920351766071|0.42415044098531296|\n",
      "|JFK-LHR|         1|                DL|438435| 0.18673304587371653| 0.6108834868590295|\n",
      "|JFK-LHR|         1|                AA|286035| 0.12182464168346165| 0.7327081285424911|\n",
      "|JFK-LHR|         1|                AY|185538| 0.07902214892815951| 0.8117302774706506|\n",
      "|JFK-LHR|         1|                TP| 96508|0.041103545089193685| 0.8528338225598443|\n",
      "|JFK-LHR|         1|                EI| 68288|0.029084416701733104| 0.8819182392615774|\n",
      "|JFK-LHR|         1|                SK| 56588|0.024101291183189915| 0.9060195304447674|\n",
      "|JFK-LHR|         1|                BA| 47088| 0.02005516362539844| 0.9260746940701657|\n",
      "|JFK-LHR|         1|                B6| 32123|0.013681447951466913| 0.9397561420216326|\n",
      "|JFK-LHR|         1|                IB| 29958|0.012759356776454433| 0.9525154987980871|\n",
      "|JFK-LHR|         1|             AA-AY| 24082| 0.01025672040491941| 0.9627722192030065|\n",
      "|JFK-LHR|         1|                TK| 14010|0.005966973377332486|  0.968739192580339|\n",
      "|JFK-LHR|         1|                LX| 12612|0.005371553764091172| 0.9741107463444302|\n",
      "|JFK-LHR|         1|                AZ|  8381|0.003569536322300...| 0.9776802826667302|\n",
      "|JFK-LHR|         1|                AF|  7009|0.002985190321322155| 0.9806654729880524|\n",
      "|JFK-LHR|         1|             AY-IB|  6814|0.002902138229346...| 0.9835676112173989|\n",
      "|JFK-LHR|         1|             DL-VS|  6178|0.002631260637056...| 0.9861988718544553|\n",
      "|JFK-LHR|         1|             AY-BA|  4894|0.002084394554508...| 0.9882832664089639|\n",
      "|JFK-LHR|         1|                KL|  4256|0.001812665145890...| 0.9900959315548545|\n",
      "+-------+----------+------------------+------+--------------------+-------------------+\n",
      "only showing top 20 rows\n",
      "\n",
      "Interline carriers - round-trip, in-bound\n",
      "+-------+----------+-----------------+------+--------------------+-------------------+\n",
      "| market|round_trip|in_uni_cxr_concat| count|           pct_count|            cum_pct|\n",
      "+-------+----------+-----------------+------+--------------------+-------------------+\n",
      "|JFK-LHR|         1|               FI|504722| 0.21496522033932955|0.21496522033932955|\n",
      "|JFK-LHR|         1|               VS|491117| 0.20917073976840816| 0.4241359601077377|\n",
      "|JFK-LHR|         1|               DL|434798| 0.18518401788132835|  0.609319977989066|\n",
      "|JFK-LHR|         1|               AA|282827| 0.12045832829342006| 0.7297783062824861|\n",
      "|JFK-LHR|         1|               AY|117333| 0.04997308260403659| 0.7797513888865226|\n",
      "|JFK-LHR|         1|               TP| 96542| 0.04111802596676894| 0.8208694148532916|\n",
      "|JFK-LHR|         1|               EI| 68288|0.029084416701733104| 0.8499538315550247|\n",
      "|JFK-LHR|         1|               IB| 61655|0.026259367850066696| 0.8762131994050913|\n",
      "|JFK-LHR|         1|               SK| 56588|0.024101291183189915| 0.9003144905882813|\n",
      "|JFK-LHR|         1|            IB-AY| 39658|0.016890665967041522| 0.9172051565553228|\n",
      "|JFK-LHR|         1|            BA-AY| 33742|0.014370993268947377| 0.9315761498242702|\n",
      "|JFK-LHR|         1|               BA| 32995|0.014052839870455773|  0.945628989694726|\n",
      "|JFK-LHR|         1|               B6| 32123|0.013681447951466913| 0.9593104376461928|\n",
      "|JFK-LHR|         1|               TK| 14010|0.005966973377332486| 0.9652774110235254|\n",
      "|JFK-LHR|         1|               AZ| 12158|0.005178191457645137| 0.9704556024811705|\n",
      "|JFK-LHR|         1|            IB-AA| 11436|0.004870685763252985| 0.9753262882444235|\n",
      "|JFK-LHR|         1|               AF|  8584|0.003655995679587...| 0.9789822839240111|\n",
      "|JFK-LHR|         1|               KL|  7315|0.003115518219499...| 0.9820978021435105|\n",
      "|JFK-LHR|         1|               LH|  6411|0.002730497239263281| 0.9848282993827738|\n",
      "|JFK-LHR|         1|            BA-AA|  6084|0.002591225269642...| 0.9874195246524163|\n",
      "+-------+----------+-----------------+------+--------------------+-------------------+\n",
      "only showing top 20 rows\n",
      "\n",
      "Individual Legs - one-way (out-bound)\n",
      "+-------+----------+----------+------+--------------------+-------------------+\n",
      "| market|round_trip|out_leg_fn| count|           pct_count|            cum_pct|\n",
      "+-------+----------+----------+------+--------------------+-------------------+\n",
      "|JFK-LHR|         0|    TP-210|671250|  0.3252960375671491| 0.3252960375671491|\n",
      "|JFK-LHR|         0|   TP-1356|283757| 0.13751214559693337|0.46280818316408245|\n",
      "|JFK-LHR|         0|    TP-208|193849|  0.0939416187506209| 0.5567498019147034|\n",
      "|JFK-LHR|         0|   TP-1358|176529| 0.08554813290978214| 0.6422979348244855|\n",
      "|JFK-LHR|         0|   TP-1366|127843|0.061954296209604534| 0.7042522310340901|\n",
      "|JFK-LHR|         0|   TP-1364|123162|0.059685825815784306| 0.7639380568498744|\n",
      "|JFK-LHR|         0|   TP-1368| 97847|0.047417864264927875| 0.8113559211148023|\n",
      "|JFK-LHR|         0|   TP-1350| 56877| 0.02756329643010315| 0.8389192175449054|\n",
      "|JFK-LHR|         0|     VS-26| 21227|0.010286866278492178| 0.8492060838233976|\n",
      "|JFK-LHR|         0|   DL-5996| 20395|0.009883668806230176| 0.8590897526296277|\n",
      "|JFK-LHR|         0|     VS-10| 20147|0.009763484944305926| 0.8688532375739336|\n",
      "|JFK-LHR|         0|   WS-1681| 19658|0.009526509506882707| 0.8783797470808163|\n",
      "|JFK-LHR|         0|     WS-18| 19658|0.009526509506882707| 0.8879062565876991|\n",
      "|JFK-LHR|         0|   DL-5990| 18715|0.009069520064162674| 0.8969757766518618|\n",
      "|JFK-LHR|         0|      VS-4| 18239| 0.00883884458724355| 0.9058146212391054|\n",
      "|JFK-LHR|         0|   DL-5994| 17472|0.008467146917502017| 0.9142817681566074|\n",
      "|JFK-LHR|         0|    VS-138| 16834|0.008157964240454955| 0.9224397323970625|\n",
      "|JFK-LHR|         0|   DL-5988| 16172| 0.00783715086709264| 0.9302768832641551|\n",
      "|JFK-LHR|         0|      DL-1| 15253|0.007391792120687...|  0.937668675384843|\n",
      "|JFK-LHR|         0|      DL-3| 13093|0.006345029452315...| 0.9440137048371584|\n",
      "+-------+----------+----------+------+--------------------+-------------------+\n",
      "only showing top 20 rows\n",
      "\n",
      "Individual Legs - round-trip, out-bound\n",
      "+-------+----------+----------+------+--------------------+-------------------+\n",
      "| market|round_trip|out_leg_fn| count|           pct_count|            cum_pct|\n",
      "+-------+----------+----------+------+--------------------+-------------------+\n",
      "|JFK-LHR|         1|    FI-614|752402| 0.15030006997604275|0.15030006997604275|\n",
      "|JFK-LHR|         1|    FI-454|512649| 0.10240693216279108|0.25270700213883385|\n",
      "|JFK-LHR|         1|    FI-450|496761| 0.09923314007853377|0.35194014221736764|\n",
      "|JFK-LHR|         1|     VS-10|186038| 0.03716301181842026| 0.3891031540357879|\n",
      "|JFK-LHR|         1|      DL-3|153622|0.030687581040267888|0.41979073507605574|\n",
      "|JFK-LHR|         1|   DL-5990|152585| 0.03048042958058921|0.45027116465664496|\n",
      "|JFK-LHR|         1|    TP-210|151024|0.030168603709269617|0.48043976836591457|\n",
      "|JFK-LHR|         1|   VS-4030|136410| 0.02724930628232247|  0.507689074648237|\n",
      "|JFK-LHR|         1|    FI-612|135713| 0.02711007333401385| 0.5347991479822508|\n",
      "|JFK-LHR|         1|    FI-618|121299|  0.0242307279725785| 0.5590298759548293|\n",
      "|JFK-LHR|         1|    SK-920|113183|  0.0226094731541097|  0.581639349108939|\n",
      "|JFK-LHR|         1|   AA-6937| 93356| 0.01864882513959751| 0.6002881742485365|\n",
      "|JFK-LHR|         1|   AA-6929| 91742|0.018326411970917292| 0.6186145862194539|\n",
      "|JFK-LHR|         1|    EI-106| 72362|0.014455056822823976| 0.6330696430422779|\n",
      "|JFK-LHR|         1|    VS-138| 69550|0.013893330781728082| 0.6469629738240059|\n",
      "|JFK-LHR|         1|    SK-505| 67754|0.013534561233432128|  0.660497535057438|\n",
      "|JFK-LHR|         1|    EI-104| 61524| 0.01229005439273959| 0.6727875894501776|\n",
      "|JFK-LHR|         1|   TP-1356| 52398|0.010467041643436205| 0.6832546310936138|\n",
      "|JFK-LHR|         1|   DL-5988| 46694|0.009327608735039699| 0.6925822398286535|\n",
      "|JFK-LHR|         1|   AY-5516| 41762|0.008342390799518738| 0.7009246306281722|\n",
      "+-------+----------+----------+------+--------------------+-------------------+\n",
      "only showing top 20 rows\n",
      "\n",
      "Individual Legs - round-trip, in-bound\n",
      "+-------+----------+---------+------+--------------------+-------------------+\n",
      "| market|round_trip|in_leg_fn| count|           pct_count|            cum_pct|\n",
      "+-------+----------+---------+------+--------------------+-------------------+\n",
      "|JFK-LHR|         1|   FI-615|751326| 0.15008512786358927|0.15008512786358927|\n",
      "|JFK-LHR|         1|   FI-455|620008|  0.1238530011691972|0.27393812903278647|\n",
      "|JFK-LHR|         1|   FI-451|389426| 0.07779186531998908| 0.3517299943527755|\n",
      "|JFK-LHR|         1|    VS-25|242903|0.048522382845062495|  0.400252377197838|\n",
      "|JFK-LHR|         1|  DL-5991|202418| 0.04043508598383659| 0.4406874631816746|\n",
      "|JFK-LHR|         1|   TP-209|193076|0.038568925003780466| 0.4792563881854551|\n",
      "|JFK-LHR|         1|     DL-4|165453|0.033050945475618355| 0.5123073336610734|\n",
      "|JFK-LHR|         1|  VS-4029|157929|0.031547948771064475| 0.5438552824321379|\n",
      "|JFK-LHR|         1|   FI-619|157752| 0.03151259119308653| 0.5753678736252245|\n",
      "|JFK-LHR|         1|  AA-6934|123912|0.024752701708490154| 0.6001205753337147|\n",
      "|JFK-LHR|         1|   SK-919|113191| 0.02261107123673017| 0.6227316465704448|\n",
      "|JFK-LHR|         1|   FI-613|100316|0.020039157019408112| 0.6427708035898528|\n",
      "|JFK-LHR|         1|  TP-1351| 74170|0.014816223495050638| 0.6575870270849035|\n",
      "|JFK-LHR|         1|   EI-107| 67652| 0.01351418568002111| 0.6711012127649246|\n",
      "|JFK-LHR|         1|   EI-105| 65162|0.013016782464399215| 0.6841179952293238|\n",
      "|JFK-LHR|         1|  IB-6251| 59554| 0.01189652654744837| 0.6960145217767721|\n",
      "|JFK-LHR|         1|  TP-1367| 58292|0.011644429014068921| 0.7076589507908411|\n",
      "|JFK-LHR|         1|  AA-8835| 48414| 0.00967119649844117| 0.7173301472892822|\n",
      "|JFK-LHR|         1|  TP-1363| 45838|  0.0091566138946492| 0.7264867611839314|\n",
      "|JFK-LHR|         1|     VS-9| 44398|0.008868959022964248| 0.7353557202068957|\n",
      "+-------+----------+---------+------+--------------------+-------------------+\n",
      "only showing top 20 rows\n",
      "\n",
      "Itineraries - one-way (out-bound)\n",
      "+-------+----------+-----------------+------+--------------------+-------------------+\n",
      "| market|round_trip|out_cxr_fn_single| count|           pct_count|            cum_pct|\n",
      "+-------+----------+-----------------+------+--------------------+-------------------+\n",
      "|JFK-LHR|         0|   TP-210.TP-1356|283698|  0.2506433991619246| 0.2506433991619246|\n",
      "|JFK-LHR|         0|   TP-210.TP-1358|138320| 0.12220387514919881| 0.3728472743111234|\n",
      "|JFK-LHR|         0|   TP-210.TP-1366| 93979| 0.08302919304978712|0.45587646736091053|\n",
      "|JFK-LHR|         0|   TP-210.TP-1368| 78061| 0.06896585235700989| 0.5248423197179204|\n",
      "|JFK-LHR|         0|   TP-210.TP-1364| 77192|  0.0681981024473464| 0.5930404221652668|\n",
      "|JFK-LHR|         0|   TP-208.TP-1350| 56727| 0.05011754790043812| 0.6431579700657049|\n",
      "|JFK-LHR|         0|   TP-208.TP-1364| 45793|0.040457504733279796| 0.6836154747989847|\n",
      "|JFK-LHR|         0|   TP-208.TP-1358| 38100|0.033660841839101174| 0.7172763166380858|\n",
      "|JFK-LHR|         0|   TP-208.TP-1366| 33498|0.029595036218535726| 0.7468713528566215|\n",
      "|JFK-LHR|         0|            VS-26| 21227|0.018753771383690308| 0.7656251242403118|\n",
      "|JFK-LHR|         0|          DL-5996| 20395|0.018018710480537232| 0.7836438347208491|\n",
      "|JFK-LHR|         0|            VS-10| 20147|0.017799605788251217| 0.8014434405091003|\n",
      "|JFK-LHR|         0|   TP-208.TP-1368| 19731| 0.01743207533667468|  0.818875515845775|\n",
      "|JFK-LHR|         0|    WS-1681.WS-18| 19658|0.017367580810316297| 0.8362430966560913|\n",
      "|JFK-LHR|         0|          DL-5990| 18715|0.016534452887631983| 0.8527775495437233|\n",
      "|JFK-LHR|         0|             VS-4| 18239|0.016113913236308827| 0.8688914627800322|\n",
      "|JFK-LHR|         0|          DL-5994| 17472|0.015436278966214587| 0.8843277417462467|\n",
      "|JFK-LHR|         0|           VS-138| 16834| 0.01487261447557557| 0.8992003562218223|\n",
      "|JFK-LHR|         0|          DL-5988| 16172|0.014287746305037905| 0.9134881025268602|\n",
      "|JFK-LHR|         0|             DL-1| 15253|0.013475822062252236| 0.9269639245891125|\n",
      "+-------+----------+-----------------+------+--------------------+-------------------+\n",
      "only showing top 20 rows\n",
      "\n",
      "Itineraries - round-trip, out-bound\n",
      "+-------+----------+-----------------+------+--------------------+-------------------+\n",
      "|market |round_trip|out_cxr_fn_single|count |pct_count           |cum_pct            |\n",
      "+-------+----------+-----------------+------+--------------------+-------------------+\n",
      "|JFK-LHR|1         |FI-614.FI-450    |206700|0.09082480523418036 |0.09082480523418036|\n",
      "|JFK-LHR|1         |VS-10            |183466|0.08061569287418545 |0.1714404981083658 |\n",
      "|JFK-LHR|1         |FI-614.FI-454    |169501|0.07447941611997487 |0.2459199142283407 |\n",
      "|JFK-LHR|1         |DL-3             |150647|0.06619489324680004 |0.31211480747514075|\n",
      "|JFK-LHR|1         |DL-5990          |150218|0.06600638893404985 |0.3781211964091906 |\n",
      "|JFK-LHR|1         |VS-4030          |135528|0.059551544285331375|0.437672740694522  |\n",
      "|JFK-LHR|1         |AA-6937          |69770 |0.030657216551469586|0.4683299572459916 |\n",
      "|JFK-LHR|1         |AA-6929          |69071 |0.03035007316076474 |0.49868003040675635|\n",
      "|JFK-LHR|1         |VS-138           |68369 |0.030041611558082618|0.528721641964839  |\n",
      "|JFK-LHR|1         |FI-618.FI-454    |60639 |0.026645018696639877|0.5553666606614789 |\n",
      "|JFK-LHR|1         |DL-5988          |45269 |0.01989137933307262 |0.5752580399945515 |\n",
      "|JFK-LHR|1         |FI-612.FI-450    |41676 |0.01831260078829076 |0.5935706407828423 |\n",
      "|JFK-LHR|1         |VS-26            |38630 |0.0169741762273652  |0.6105448170102075 |\n",
      "|JFK-LHR|1         |SK-920.SK-505    |33876 |0.014885249647378297|0.6254300666575857 |\n",
      "|JFK-LHR|1         |DL-5996          |31121 |0.013674691648248315|0.639104758305834  |\n",
      "|JFK-LHR|1         |AY-5516          |30207 |0.013273076399172162|0.6523778347050062 |\n",
      "|JFK-LHR|1         |AY-5476          |28984 |0.012735685316436785|0.665113520021443  |\n",
      "|JFK-LHR|1         |FI-612.FI-454    |26180 |0.011503596521677996|0.676617116543121  |\n",
      "|JFK-LHR|1         |TP-210.TP-1356   |26013 |0.011430216054943074|0.688047332598064  |\n",
      "|JFK-LHR|1         |B6-7             |24811 |0.010902052456048616|0.6989493850541126 |\n",
      "+-------+----------+-----------------+------+--------------------+-------------------+\n",
      "only showing top 20 rows\n",
      "\n",
      "Itineraries - round-trip, in-bound\n",
      "+-------+----------+----------------+------+--------------------+-------------------+\n",
      "|market |round_trip|in_cxr_fn_single|count |pct_count           |cum_pct            |\n",
      "+-------+----------+----------------+------+--------------------+-------------------+\n",
      "|JFK-LHR|1         |VS-25           |228541|0.10042182783272768 |0.10042182783272768|\n",
      "|JFK-LHR|1         |FI-455.FI-615   |214219|0.09412868385322148 |0.19455051168594917|\n",
      "|JFK-LHR|1         |DL-5991         |190866|0.08386728241812805 |0.2784177941040772 |\n",
      "|JFK-LHR|1         |FI-451.FI-615   |161444|0.07093913815300926 |0.3493569322570864 |\n",
      "|JFK-LHR|1         |DL-4            |155773|0.06844727811196892 |0.41780421036905535|\n",
      "|JFK-LHR|1         |VS-4029         |148292|0.06516009684463993 |0.48296430721369527|\n",
      "|JFK-LHR|1         |AA-6934         |114716|0.050406668394989036|0.5333709756086843 |\n",
      "|JFK-LHR|1         |FI-455.FI-619   |53235 |0.023391671536727582|0.5567626471454119 |\n",
      "|JFK-LHR|1         |VS-9            |43631 |0.019171635593481003|0.5759342827388929 |\n",
      "|JFK-LHR|1         |FI-455.FI-613   |42537 |0.01869092762576841 |0.5946252103646613 |\n",
      "|JFK-LHR|1         |TP-1351.TP-209  |36902 |0.016214886128455362|0.6108400964931167 |\n",
      "|JFK-LHR|1         |VS-45           |32377 |0.014226583062733708|0.6250666795558504 |\n",
      "|JFK-LHR|1         |B6-20           |30005 |0.01318431679270238 |0.6382509963485528 |\n",
      "|JFK-LHR|1         |TP-1367.TP-209  |29022 |0.012752382668148923|0.6510033790167017 |\n",
      "|JFK-LHR|1         |DL-5993         |27503 |0.012084928003655841|0.6630883070203575 |\n",
      "|JFK-LHR|1         |FI-451.FI-619   |25634 |0.011263681941814123|0.6743519889621716 |\n",
      "|JFK-LHR|1         |DL-5995         |24138 |0.010606333569146809|0.6849583225313185 |\n",
      "|JFK-LHR|1         |TP-1363.TP-209  |22811 |0.010023244471199266|0.6949815670025178 |\n",
      "|JFK-LHR|1         |AA-6800.AA-8835 |21947 |0.009643599421744345|0.7046251664242621 |\n",
      "|JFK-LHR|1         |SK-502.SK-919   |20339 |0.008937037801925469|0.7135622042261875 |\n",
      "+-------+----------+----------------+------+--------------------+-------------------+\n",
      "only showing top 20 rows\n",
      "\n",
      "Itineraries - round-trip, out+in\n",
      "+-------+----------+---------------------------+-----+--------------------+-------------------+\n",
      "|market |round_trip|rt_cxr_fn_single           |count|pct_count           |cum_pct            |\n",
      "+-------+----------+---------------------------+-----+--------------------+-------------------+\n",
      "|JFK-LHR|1         |FI-614.FI-450_FI-455.FI-615|97345|0.04277378164258001 |0.04277378164258001|\n",
      "|JFK-LHR|1         |FI-614.FI-454_FI-455.FI-615|83926|0.03687741946823329 |0.0796512011108133 |\n",
      "|JFK-LHR|1         |FI-614.FI-450_FI-451.FI-615|74945|0.03293113221226728 |0.11258233332308057|\n",
      "|JFK-LHR|1         |FI-614.FI-454_FI-451.FI-615|63275|0.027803287620671323|0.1403856209437519 |\n",
      "|JFK-LHR|1         |VS-10_VS-25                |54471|0.02393477487136448 |0.16432039581511637|\n",
      "|JFK-LHR|1         |DL-5990_DL-5991            |37690|0.016561136474486007|0.18088153228960238|\n",
      "|JFK-LHR|1         |VS-10_DL-5991              |37266|0.016374829181697945|0.19725636147130032|\n",
      "|JFK-LHR|1         |DL-5990_VS-25              |36476|0.016027700027682452|0.21328406149898277|\n",
      "|JFK-LHR|1         |VS-10_VS-4029              |35504|0.015600599347045668|0.22888466084602843|\n",
      "|JFK-LHR|1         |VS-4030_VS-25              |35445|0.01557467451149261 |0.24445933535752104|\n",
      "|JFK-LHR|1         |DL-3_DL-5991               |34388|0.01511022449149973 |0.25956955984902075|\n",
      "|JFK-LHR|1         |DL-3_VS-25                 |33447|0.01469674533462811 |0.27426630518364886|\n",
      "|JFK-LHR|1         |AA-6929_AA-6934            |32868|0.014442330423014224|0.2887086356066631 |\n",
      "|JFK-LHR|1         |AA-6937_AA-6934            |32703|0.014369828764264151|0.3030784643709272 |\n",
      "|JFK-LHR|1         |DL-3_DL-4                  |32267|0.014178248623566994|0.3172567129944942 |\n",
      "|JFK-LHR|1         |DL-5990_DL-4               |32066|0.014089928421089633|0.33134664141558384|\n",
      "|JFK-LHR|1         |VS-10_DL-4                 |31884|0.014009956894468344|0.34535659831005217|\n",
      "|JFK-LHR|1         |VS-4030_VS-4029            |27872|0.012247068076860546|0.3576036663869127 |\n",
      "|JFK-LHR|1         |VS-4030_DL-5991            |26299|0.011555885596776533|0.3691595519836892 |\n",
      "|JFK-LHR|1         |DL-5990_VS-4029            |25483|0.011197331938957998|0.3803568839226472 |\n",
      "+-------+----------+---------------------------+-----+--------------------+-------------------+\n",
      "only showing top 20 rows"
     ]
    }
   ],
   "source": [
    "show_market_analysis(\"JFK-LHR\")"
   ]
  },
  {
   "cell_type": "markdown",
   "id": "d7e50049-0c68-4783-93fc-af6ebbe379ec",
   "metadata": {},
   "source": [
    "## LHR-JFK"
   ]
  },
  {
   "cell_type": "code",
   "execution_count": null,
   "id": "52dda5fe-cea9-4a73-b2ae-b22727a6f16e",
   "metadata": {
    "tags": []
   },
   "outputs": [],
   "source": [
    "show_market_analysis(\"LHR-JFK\")"
   ]
  },
  {
   "cell_type": "markdown",
   "id": "ef461896-75de-4fd2-be80-15a69c6d7b96",
   "metadata": {},
   "source": [
    "## ATL-EWR"
   ]
  },
  {
   "cell_type": "code",
   "execution_count": 75,
   "id": "0e84c0e8-edf2-437b-bd0d-37c28dc2d22a",
   "metadata": {
    "execution": {
     "iopub.execute_input": "2022-12-17T00:34:09.135260Z",
     "iopub.status.busy": "2022-12-17T00:34:09.134987Z",
     "iopub.status.idle": "2022-12-17T00:34:26.607656Z",
     "shell.execute_reply": "2022-12-17T00:34:26.606809Z",
     "shell.execute_reply.started": "2022-12-17T00:34:09.135228Z"
    },
    "tags": []
   },
   "outputs": [
    {
     "data": {
      "application/vnd.jupyter.widget-view+json": {
       "model_id": "d0f2a45bc14f4e5183abada2273ba336",
       "version_major": 2,
       "version_minor": 0
      },
      "text/plain": [
       "VBox()"
      ]
     },
     "metadata": {},
     "output_type": "display_data"
    },
    {
     "data": {
      "application/vnd.jupyter.widget-view+json": {
       "model_id": "",
       "version_major": 2,
       "version_minor": 0
      },
      "text/plain": [
       "FloatProgress(value=0.0, bar_style='info', description='Progress:', layout=Layout(height='25px', width='50%'),…"
      ]
     },
     "metadata": {},
     "output_type": "display_data"
    },
    {
     "name": "stdout",
     "output_type": "stream",
     "text": [
      "Carriers - any leg - one-way\n",
      "+-------+----------+-------+------+--------------------+------------------+\n",
      "| market|round_trip|out_cxr| count|           pct_count|           cum_pct|\n",
      "+-------+----------+-------+------+--------------------+------------------+\n",
      "|ATL-EWR|         0|     NK|210032|  0.6462065761499955|0.6462065761499955|\n",
      "|ATL-EWR|         0|     UA| 75605| 0.23261430729517604|0.8788208834451716|\n",
      "|ATL-EWR|         0|     DL| 36129| 0.11115828725967085|0.9899791707048424|\n",
      "|ATL-EWR|         0|     AA|  3139|0.009657778064936944|0.9996369487697794|\n",
      "|ATL-EWR|         0|     B6|   113|3.476677035163665...|0.9999846164732957|\n",
      "|ATL-EWR|         0|     AS|     5|1.538352670426400...|               1.0|\n",
      "+-------+----------+-------+------+--------------------+------------------+\n",
      "\n",
      "Carriers - any leg - Round-trip\n",
      "+-------+----------+-------+---------------+------+--------------------+------------------+\n",
      "| market|round_trip|out_cxr|out_in_same_cxr| count|           pct_count|           cum_pct|\n",
      "+-------+----------+-------+---------------+------+--------------------+------------------+\n",
      "|ATL-EWR|         1|     UA|              1|641633|  0.5513135125010096|0.5513135125010096|\n",
      "|ATL-EWR|         1|     DL|              1|279171| 0.23987348624278887|0.7911869987437985|\n",
      "|ATL-EWR|         1|     NK|              1|233327|  0.2004827182070172|0.9916697169508157|\n",
      "|ATL-EWR|         1|     AA|              1|  8958| 0.00769702687515144|0.9993667438259671|\n",
      "|ATL-EWR|         1|     DL|              0|   360|3.093245897582628E-4|0.9996760684157254|\n",
      "|ATL-EWR|         1|     UA|              0|   188|1.615361746515372...| 0.999837604590377|\n",
      "|ATL-EWR|         1|     AS|              1|   152|1.306037156757109...|0.9999682083060527|\n",
      "|ATL-EWR|         1|     B6|              1|    37|3.179169394737701...|               1.0|\n",
      "+-------+----------+-------+---------------+------+--------------------+------------------+\n",
      "\n",
      "Interline carriers - one-way (out-bound)\n",
      "+-------+----------+------------------+------+--------------------+------------------+\n",
      "| market|round_trip|out_uni_cxr_concat| count|           pct_count|           cum_pct|\n",
      "+-------+----------+------------------+------+--------------------+------------------+\n",
      "|ATL-EWR|         0|                NK|210032|  0.6462065761499955|0.6462065761499955|\n",
      "|ATL-EWR|         0|                UA| 75605| 0.23261430729517604|0.8788208834451716|\n",
      "|ATL-EWR|         0|                DL| 36129| 0.11115828725967085|0.9899791707048424|\n",
      "|ATL-EWR|         0|                AA|  3139|0.009657778064936944|0.9996369487697794|\n",
      "|ATL-EWR|         0|                B6|   113|3.476677035163665...|0.9999846164732957|\n",
      "|ATL-EWR|         0|                AS|     5|1.538352670426400...|               1.0|\n",
      "+-------+----------+------------------+------+--------------------+------------------+\n",
      "\n",
      "Interline carriers - round-trip, out-bound\n",
      "+-------+----------+------------------+------+--------------------+------------------+\n",
      "| market|round_trip|out_uni_cxr_concat| count|           pct_count|           cum_pct|\n",
      "+-------+----------+------------------+------+--------------------+------------------+\n",
      "|ATL-EWR|         1|                UA|641821|  0.5514750486756611|0.5514750486756611|\n",
      "|ATL-EWR|         1|                DL|279531| 0.24018281083254714|0.7916578595082082|\n",
      "|ATL-EWR|         1|                NK|233327|  0.2004827182070172|0.9921405777152255|\n",
      "|ATL-EWR|         1|                AA|  8958| 0.00769702687515144|0.9998376045903768|\n",
      "|ATL-EWR|         1|                AS|   152|1.306037156757109...|0.9999682083060526|\n",
      "|ATL-EWR|         1|                B6|    37|3.179169394737701...|               1.0|\n",
      "+-------+----------+------------------+------+--------------------+------------------+\n",
      "\n",
      "Interline carriers - round-trip, in-bound\n",
      "+-------+----------+-----------------+------+--------------------+------------------+\n",
      "| market|round_trip|in_uni_cxr_concat| count|           pct_count|           cum_pct|\n",
      "+-------+----------+-----------------+------+--------------------+------------------+\n",
      "|ATL-EWR|         1|               UA|641993|  0.5516228370907679|0.5516228370907679|\n",
      "|ATL-EWR|         1|               DL|279359|  0.2400350224174404|0.7916578595082082|\n",
      "|ATL-EWR|         1|               NK|233327|  0.2004827182070172|0.9921405777152255|\n",
      "|ATL-EWR|         1|               AA|  8958| 0.00769702687515144|0.9998376045903768|\n",
      "|ATL-EWR|         1|               AS|   152|1.306037156757109...|0.9999682083060526|\n",
      "|ATL-EWR|         1|               B6|    37|3.179169394737701...|               1.0|\n",
      "+-------+----------+-----------------+------+--------------------+------------------+\n",
      "\n",
      "Individual Legs - one-way (out-bound)\n",
      "+-------+----------+----------+-----+--------------------+-------------------+\n",
      "| market|round_trip|out_leg_fn|count|           pct_count|            cum_pct|\n",
      "+-------+----------+----------+-----+--------------------+-------------------+\n",
      "|ATL-EWR|         0|     NK-99|84873| 0.22514404252835754|0.22514404252835754|\n",
      "|ATL-EWR|         0|   NK-1173|80640|  0.2139150918370595|0.43905913436541705|\n",
      "|ATL-EWR|         0|   NK-1079|15072| 0.03998174930764089| 0.4790408836730579|\n",
      "|ATL-EWR|         0|   NK-1520|13958|0.037026622666935474| 0.5160675063399934|\n",
      "|ATL-EWR|         0|    UA-222|13161|0.034912407287543905| 0.5509799136275373|\n",
      "|ATL-EWR|         0|   DL-1292|12969| 0.03440308564031281| 0.5853829992678501|\n",
      "|ATL-EWR|         0|   NK-1215|12916|0.034262491643941725| 0.6196454909117918|\n",
      "|ATL-EWR|         0|     NK-69|10368| 0.02750336895047908| 0.6471488598622709|\n",
      "|ATL-EWR|         0|   NK-3101|10364|0.027492758082828434| 0.6746416179450994|\n",
      "|ATL-EWR|         0|   UA-1697| 9813|  0.0260311110639517| 0.7006727290090511|\n",
      "|ATL-EWR|         0|   NK-1877| 9420|0.024988593317275553| 0.7256613223263266|\n",
      "|ATL-EWR|         0|    UA-751| 9263|0.024572116761987627| 0.7502334390883143|\n",
      "|ATL-EWR|         0|    UA-287| 7982|0.021173986396867673| 0.7714074254851819|\n",
      "|ATL-EWR|         0|    UA-271| 7661|0.020322464267903188| 0.7917298897530851|\n",
      "|ATL-EWR|         0|    UA-556| 7522|0.019953736617043177| 0.8116836263701283|\n",
      "|ATL-EWR|         0|   UA-2127| 7520|0.019948431183217853| 0.8316320575533461|\n",
      "|ATL-EWR|         0|   NK-1777| 5289|0.014030219751069046| 0.8456622773044151|\n",
      "|ATL-EWR|         0|   DL-2198| 4859|0.012889551478624407| 0.8585518287830395|\n",
      "|ATL-EWR|         0|    NK-403| 4728|0.012542045563065691| 0.8710938743461052|\n",
      "|ATL-EWR|         0|   DL-2647| 3905|0.010358859543944908| 0.8814527338900501|\n",
      "+-------+----------+----------+-----+--------------------+-------------------+\n",
      "only showing top 20 rows\n",
      "\n",
      "Individual Legs - round-trip, out-bound\n",
      "+-------+----------+----------+------+--------------------+-------------------+\n",
      "| market|round_trip|out_leg_fn| count|           pct_count|            cum_pct|\n",
      "+-------+----------+----------+------+--------------------+-------------------+\n",
      "|ATL-EWR|         1|    UA-222|111343| 0.08387407325939998|0.08387407325939998|\n",
      "|ATL-EWR|         1|     NK-99|107025|    0.08062134746313|0.16449542072252998|\n",
      "|ATL-EWR|         1|   NK-1173| 98263| 0.07402098075935103|0.23851640148188102|\n",
      "|ATL-EWR|         1|    UA-751| 86083| 0.06484585333958065| 0.3033622548214617|\n",
      "|ATL-EWR|         1|   UA-1697| 63008| 0.04746358197577103| 0.3508258367972327|\n",
      "|ATL-EWR|         1|    UA-320| 58595|0.044139293198804976| 0.3949651299960377|\n",
      "|ATL-EWR|         1|   UA-2127| 57673|0.043444755638786234|0.43840988563482397|\n",
      "|ATL-EWR|         1|    UA-556| 45282|0.034110683072417214| 0.4725205687072412|\n",
      "|ATL-EWR|         1|    UA-287| 44349|  0.0334078592725284| 0.5059284279797696|\n",
      "|ATL-EWR|         1|    UA-271| 26032|0.019609763299791638| 0.5255381912795611|\n",
      "|ATL-EWR|         1|   DL-2465| 22976|0.017307695204978976| 0.5428458864845401|\n",
      "|ATL-EWR|         1|   DL-2802| 22526|0.016968712664839677| 0.5598145991493798|\n",
      "|ATL-EWR|         1|   UA-1829| 20579|0.015502048207836974| 0.5753166473572168|\n",
      "|ATL-EWR|         1|   DL-2198| 20167|0.015191690859976105| 0.5905083382171928|\n",
      "|ATL-EWR|         1|   DL-2776| 20038|0.015094515865136174| 0.6056028540823291|\n",
      "|ATL-EWR|         1|   DL-2178| 18485|0.013924649454388769| 0.6195275035367178|\n",
      "|ATL-EWR|         1|    UA-374| 18449|0.013897530851177625| 0.6334250343878954|\n",
      "|ATL-EWR|         1|   UA-1348| 17637|0.013285855689859601| 0.6467108900777551|\n",
      "|ATL-EWR|         1|   DL-2727| 16515|0.012440659223112282| 0.6591515493008674|\n",
      "|ATL-EWR|         1|   DL-1292| 16077|0.012110716217376697| 0.6712622655182441|\n",
      "+-------+----------+----------+------+--------------------+-------------------+\n",
      "only showing top 20 rows\n",
      "\n",
      "Individual Legs - round-trip, in-bound\n",
      "+-------+----------+---------+------+--------------------+-------------------+\n",
      "| market|round_trip|in_leg_fn| count|           pct_count|            cum_pct|\n",
      "+-------+----------+---------+------+--------------------+-------------------+\n",
      "|ATL-EWR|         1|    NK-98|114983| 0.08661606536186009|0.08661606536186009|\n",
      "|ATL-EWR|         1|  NK-1146|108627|  0.0818281253060259|  0.168444190667886|\n",
      "|ATL-EWR|         1|  UA-1358| 70287| 0.05294681288615761| 0.2213910035540436|\n",
      "|ATL-EWR|         1|   UA-672| 63360| 0.04772874165161333| 0.2691197452056569|\n",
      "|ATL-EWR|         1|  UA-2455| 62967| 0.04743269689989168|0.31655244210554856|\n",
      "|ATL-EWR|         1|  UA-1283| 50607| 0.03812197646406559| 0.3546744185696141|\n",
      "|ATL-EWR|         1|  UA-1213| 48985|0.036900132730496825|0.39157455130011093|\n",
      "|ATL-EWR|         1|   UA-626| 47807| 0.03601275176986551|0.42758730306997644|\n",
      "|ATL-EWR|         1|   UA-730| 45186|  0.0340383667971875| 0.4616256698671639|\n",
      "|ATL-EWR|         1|  UA-1167| 32422|0.024423315369769688|0.48604898523693363|\n",
      "|ATL-EWR|         1|  UA-1546| 30798| 0.02319996504713364| 0.5092489502840672|\n",
      "|ATL-EWR|         1|  DL-2093| 27437|0.020668142119559894| 0.5299170924036272|\n",
      "|ATL-EWR|         1|   UA-454| 27363|0.020612398324070323| 0.5505294907276975|\n",
      "|ATL-EWR|         1|  UA-1391| 27294| 0.02056042100124896| 0.5710899117289465|\n",
      "|ATL-EWR|         1|  DL-2575| 27062| 0.02038565666944381| 0.5914755683983903|\n",
      "|ATL-EWR|         1|  UA-1308| 24828|  0.0187027966812856| 0.6101783650796759|\n",
      "|ATL-EWR|         1|  DL-2266| 24458|0.018424077703837735| 0.6286024427835136|\n",
      "|ATL-EWR|         1|  UA-1210| 20297|0.015289619149349681| 0.6438920619328633|\n",
      "|ATL-EWR|         1|  DL-2178| 19923| 0.01500788699376724| 0.6588999489266305|\n",
      "|ATL-EWR|         1|   UA-305| 19536|0.014716362009247443| 0.6736163109358779|\n",
      "+-------+----------+---------+------+--------------------+-------------------+\n",
      "only showing top 20 rows\n",
      "\n",
      "Itineraries - one-way (out-bound)\n",
      "+-------+----------+-----------------+-----+--------------------+------------------+\n",
      "| market|round_trip|out_cxr_fn_single|count|           pct_count|           cum_pct|\n",
      "+-------+----------+-----------------+-----+--------------------+------------------+\n",
      "|ATL-EWR|         0|            NK-99|84873|  0.2611292123941998|0.2611292123941998|\n",
      "|ATL-EWR|         0|          NK-1173|80640| 0.24810551868636987|0.5092347310805696|\n",
      "|ATL-EWR|         0|           UA-222|13161| 0.04049251899096372|0.5497272500715333|\n",
      "|ATL-EWR|         0|          DL-1292|12969| 0.03990179156551998|0.5896290416370533|\n",
      "|ATL-EWR|         0|    NK-3101.NK-69|10364| 0.03188697415259843|0.6215160157896518|\n",
      "|ATL-EWR|         0|  NK-1079.NK-1215| 9822|0.030219399857856214| 0.651735415647508|\n",
      "|ATL-EWR|         0|          UA-1697| 9813| 0.03019170950978854|0.6819271251572966|\n",
      "|ATL-EWR|         0|           UA-751| 9263|0.028499521572319497|0.7104266467296161|\n",
      "|ATL-EWR|         0|  NK-1877.NK-1520| 8879| 0.02731806672143202|0.7377447134510481|\n",
      "|ATL-EWR|         0|           UA-287| 7982|0.024558262030687058|0.7623029754817351|\n",
      "|ATL-EWR|         0|           UA-271| 7661| 0.02357063961627331|0.7858736150980083|\n",
      "|ATL-EWR|         0|           UA-556| 7522| 0.02314297757389477|0.8090165926719031|\n",
      "|ATL-EWR|         0|          UA-2127| 7520|0.023136824163213065|0.8321534168351161|\n",
      "|ATL-EWR|         0|  NK-1079.NK-1520| 5077|0.015620433015509671|0.8477738498506258|\n",
      "|ATL-EWR|         0|          DL-2198| 4859| 0.01494971125120376|0.8627235611018296|\n",
      "|ATL-EWR|         0|          DL-2647| 3905|0.012014534356030188|0.8747380954578597|\n",
      "|ATL-EWR|         0|           UA-374| 3598|0.011069985816388378|0.8858080812742481|\n",
      "|ATL-EWR|         0|   NK-403.NK-1215| 3089|0.009503942797894302|0.8953120240721425|\n",
      "|ATL-EWR|         0|   NK-228.NK-1777| 2911|0.008956289247222504| 0.904268313319365|\n",
      "|ATL-EWR|         0|          DL-2465| 2754|0.008473246508708614|0.9127415598280736|\n",
      "+-------+----------+-----------------+-----+--------------------+------------------+\n",
      "only showing top 20 rows\n",
      "\n",
      "Itineraries - round-trip, out-bound\n",
      "+-------+----------+-----------------+------+--------------------+-------------------+\n",
      "|market |round_trip|out_cxr_fn_single|count |pct_count           |cum_pct            |\n",
      "+-------+----------+-----------------+------+--------------------+-------------------+\n",
      "|ATL-EWR|1         |UA-222           |108663|0.09336704971361698 |0.09336704971361698|\n",
      "|ATL-EWR|1         |NK-99            |99051 |0.08510808316707137 |0.17847513288068834|\n",
      "|ATL-EWR|1         |NK-1173          |91716 |0.07880559465074675 |0.2572807275314351 |\n",
      "|ATL-EWR|1         |UA-751           |83900 |0.07208981411310625 |0.3293705416445414 |\n",
      "|ATL-EWR|1         |UA-1697          |60465 |0.0519536425548149  |0.38132418419935626|\n",
      "|ATL-EWR|1         |UA-2127          |56868 |0.04886297436214692 |0.4301871585615032 |\n",
      "|ATL-EWR|1         |UA-320           |53345 |0.045835889557373694|0.47602304811887686|\n",
      "|ATL-EWR|1         |UA-556           |44744 |0.038445609567065865|0.5144686576859427 |\n",
      "|ATL-EWR|1         |UA-287           |43745 |0.03758723383048669 |0.5520558915164294 |\n",
      "|ATL-EWR|1         |UA-271           |25419 |0.021840893741848007|0.5738967852582775 |\n",
      "|ATL-EWR|1         |DL-2465          |22976 |0.019741782706349575|0.593638567964627  |\n",
      "|ATL-EWR|1         |DL-2802          |22493 |0.019326772215090573|0.6129653401797176 |\n",
      "|ATL-EWR|1         |DL-2198          |20167 |0.017328191671263572|0.6302935318509811 |\n",
      "|ATL-EWR|1         |DL-2776          |20038 |0.01721735035993353 |0.6475108822109147 |\n",
      "|ATL-EWR|1         |UA-1829          |19282 |0.016567768721441178|0.6640786509323559 |\n",
      "|ATL-EWR|1         |DL-2178          |18485 |0.015882958449115244|0.6799616093814711 |\n",
      "|ATL-EWR|1         |UA-374           |18179 |0.015620032547820722|0.6955816419292918 |\n",
      "|ATL-EWR|1         |UA-1348          |17596 |0.015119098559406647|0.7107007404886985 |\n",
      "|ATL-EWR|1         |DL-2727          |16515 |0.014190265555160307|0.7248910060438588 |\n",
      "|ATL-EWR|1         |DL-1292          |16077 |0.013813920637621088|0.7387049266814799 |\n",
      "+-------+----------+-----------------+------+--------------------+-------------------+\n",
      "only showing top 20 rows\n",
      "\n",
      "Itineraries - round-trip, in-bound\n",
      "+-------+----------+----------------+------+--------------------+-------------------+\n",
      "|market |round_trip|in_cxr_fn_single|count |pct_count           |cum_pct            |\n",
      "+-------+----------+----------------+------+--------------------+-------------------+\n",
      "|ATL-EWR|1         |NK-98           |102720|0.088260616277691   |0.088260616277691  |\n",
      "|ATL-EWR|1         |NK-1146         |97206 |0.08352279464456026 |0.17178341092225125|\n",
      "|ATL-EWR|1         |UA-1358         |67779 |0.058238087136736935|0.2300214980589882 |\n",
      "|ATL-EWR|1         |UA-672          |61437 |0.052788818947162204|0.2828103170061504 |\n",
      "|ATL-EWR|1         |UA-2455         |61348 |0.05271234703469419 |0.3355226640408446 |\n",
      "|ATL-EWR|1         |UA-1283         |48959 |0.042067284972152195|0.37758994901299675|\n",
      "|ATL-EWR|1         |UA-1213         |46686 |0.040114243881817384|0.41770419289481414|\n",
      "|ATL-EWR|1         |UA-626          |46569 |0.04001371339014595 |0.4577179062849601 |\n",
      "|ATL-EWR|1         |UA-730          |43446 |0.03733032257399302 |0.49504822885895317|\n",
      "|ATL-EWR|1         |UA-1167         |32061 |0.027547932422887958|0.5225961612818412 |\n",
      "|ATL-EWR|1         |UA-1546         |29934 |0.025720339638399554|0.5483165009202408 |\n",
      "|ATL-EWR|1         |DL-2093         |27437 |0.023574829914437382|0.5718913308346781 |\n",
      "|ATL-EWR|1         |UA-454          |27111 |0.023294719313711843|0.59518605014839   |\n",
      "|ATL-EWR|1         |DL-2575         |27062 |0.023252616800105857|0.6184386669484958 |\n",
      "|ATL-EWR|1         |UA-1391         |26100 |0.022426032757474054|0.6408646997059698 |\n",
      "|ATL-EWR|1         |DL-2266         |24458 |0.021015168934187756|0.6618798686401576 |\n",
      "|ATL-EWR|1         |UA-1308         |22443 |0.019283810466513035|0.6811636791066706 |\n",
      "|ATL-EWR|1         |DL-2178         |19923 |0.017118538338205196|0.6982822174448758 |\n",
      "|ATL-EWR|1         |UA-1210         |19358 |0.016633070579279034|0.7149152880241548 |\n",
      "|ATL-EWR|1         |UA-305          |19264 |0.016552302491953264|0.7314675905161081 |\n",
      "+-------+----------+----------------+------+--------------------+-------------------+\n",
      "only showing top 20 rows\n",
      "\n",
      "Itineraries - round-trip, out+in\n",
      "+-------+----------+----------------+-----+---------------------+-------------------+\n",
      "|market |round_trip|rt_cxr_fn_single|count|pct_count            |cum_pct            |\n",
      "+-------+----------+----------------+-----+---------------------+-------------------+\n",
      "|ATL-EWR|1         |NK-99_NK-98     |46492|0.03994755229733654  |0.03994755229733654|\n",
      "|ATL-EWR|1         |NK-99_NK-1146   |44583|0.0383072727366462   |0.07825482503398273|\n",
      "|ATL-EWR|1         |NK-1173_NK-98   |43965|0.03777626552422785  |0.11603109055821059|\n",
      "|ATL-EWR|1         |NK-1173_NK-1146 |41202|0.035402199297833184 |0.15143328985604376|\n",
      "|ATL-EWR|1         |UA-222_UA-1358  |12357|0.010617566543452372 |0.16205085639949612|\n",
      "|ATL-EWR|1         |UA-222_UA-2455  |10724|0.00921443583491003  |0.17126529223440615|\n",
      "|ATL-EWR|1         |UA-222_UA-672   |10052|0.00863702993402794  |0.17990232216843408|\n",
      "|ATL-EWR|1         |UA-751_UA-1358  |8670 |0.0074495672033448295|0.1873518893717789 |\n",
      "|ATL-EWR|1         |UA-751_UA-672   |7975 |0.006852398898117073 |0.19420428826989597|\n",
      "|ATL-EWR|1         |UA-751_UA-2455  |7837 |0.0067338244720430715|0.20093811274193904|\n",
      "|ATL-EWR|1         |UA-222_UA-1283  |7800 |0.006702032778095695 |0.20764014552003474|\n",
      "|ATL-EWR|1         |UA-222_UA-626   |7575 |0.0065087049094967805|0.21414885042953152|\n",
      "|ATL-EWR|1         |UA-222_UA-1213  |7244 |0.0062242981339134884|0.220373148563445  |\n",
      "|ATL-EWR|1         |UA-222_UA-730   |6700 |0.005756874309389892 |0.2261300228728349 |\n",
      "|ATL-EWR|1         |UA-320_UA-1358  |6564 |0.0056400183532589925|0.2317700412260939 |\n",
      "|ATL-EWR|1         |UA-320_UA-1283  |6430 |0.005524880867071195 |0.2372949220931651 |\n",
      "|ATL-EWR|1         |UA-751_UA-1283  |6364 |0.005468171358948846 |0.24276309345211394|\n",
      "|ATL-EWR|1         |UA-287_UA-1358  |6216 |0.005341004583159338 |0.24810409803527328|\n",
      "|ATL-EWR|1         |UA-751_UA-1213  |6188 |0.0053169460039559175|0.2534210440392292 |\n",
      "|ATL-EWR|1         |UA-320_UA-626   |6120 |0.005258518025890468 |0.25867956206511966|\n",
      "+-------+----------+----------------+-----+---------------------+-------------------+\n",
      "only showing top 20 rows"
     ]
    }
   ],
   "source": [
    "show_market_analysis(\"ATL-EWR\")"
   ]
  },
  {
   "cell_type": "markdown",
   "id": "a1fc95c5-023d-4df1-b1fc-2ae8e60d5e4a",
   "metadata": {},
   "source": [
    "## SFO-LAX"
   ]
  },
  {
   "cell_type": "code",
   "execution_count": 86,
   "id": "77c1e8ab-7a76-451c-be52-8ec47fa3da56",
   "metadata": {
    "execution": {
     "iopub.execute_input": "2022-12-17T00:40:25.940854Z",
     "iopub.status.busy": "2022-12-17T00:40:25.940614Z",
     "iopub.status.idle": "2022-12-17T00:40:43.421729Z",
     "shell.execute_reply": "2022-12-17T00:40:43.420862Z",
     "shell.execute_reply.started": "2022-12-17T00:40:25.940830Z"
    },
    "tags": []
   },
   "outputs": [
    {
     "data": {
      "application/vnd.jupyter.widget-view+json": {
       "model_id": "22a93c07ae674c6795dbff9fb957489d",
       "version_major": 2,
       "version_minor": 0
      },
      "text/plain": [
       "VBox()"
      ]
     },
     "metadata": {},
     "output_type": "display_data"
    },
    {
     "data": {
      "application/vnd.jupyter.widget-view+json": {
       "model_id": "",
       "version_major": 2,
       "version_minor": 0
      },
      "text/plain": [
       "FloatProgress(value=0.0, bar_style='info', description='Progress:', layout=Layout(height='25px', width='50%'),…"
      ]
     },
     "metadata": {},
     "output_type": "display_data"
    },
    {
     "name": "stdout",
     "output_type": "stream",
     "text": [
      "Carriers - any leg - one-way\n",
      "+-------+----------+-------+------+--------------------+-------------------+\n",
      "| market|round_trip|out_cxr| count|           pct_count|            cum_pct|\n",
      "+-------+----------+-------+------+--------------------+-------------------+\n",
      "|SFO-LAX|         0|     UA|874146| 0.36748989151189687|0.36748989151189687|\n",
      "|SFO-LAX|         0|     AS|720695| 0.30297928190847584| 0.6704691734203727|\n",
      "|SFO-LAX|         0|     DL|540880| 0.22738527948529738| 0.8978544529056701|\n",
      "|SFO-LAX|         0|     B6|141188|0.059355259650884055| 0.9572097125565542|\n",
      "|SFO-LAX|         0|     WN| 98185| 0.04127685191958276| 0.9984865644761369|\n",
      "|SFO-LAX|         0|     AA|  3600|0.001513435523863...|                1.0|\n",
      "+-------+----------+-------+------+--------------------+-------------------+\n",
      "\n",
      "Carriers - any leg - Round-trip\n",
      "+-------+----------+-------+---------------+-------+--------------------+-------------------+\n",
      "| market|round_trip|out_cxr|out_in_same_cxr|  count|           pct_count|            cum_pct|\n",
      "+-------+----------+-------+---------------+-------+--------------------+-------------------+\n",
      "|SFO-LAX|         1|     AS|              1|1611129| 0.46117693464120385|0.46117693464120385|\n",
      "|SFO-LAX|         1|     UA|              1|1109363|  0.3175491396060588| 0.7787260742472626|\n",
      "|SFO-LAX|         1|     DL|              1| 636133|  0.1820896197412578| 0.9608156939885204|\n",
      "|SFO-LAX|         1|     AA|              1|  68453| 0.01959429984004653|  0.980409993828567|\n",
      "|SFO-LAX|         1|     B6|              1|  66799| 0.01912085131426334| 0.9995308451428303|\n",
      "|SFO-LAX|         1|     AS|              0|   1003|2.871033079567977E-4| 0.9998179484507871|\n",
      "|SFO-LAX|         1|     DL|              0|    404|1.156428079905745...| 0.9999335912587777|\n",
      "|SFO-LAX|         1|     UA|              0|    115|3.291812603692097E-5| 0.9999665093848146|\n",
      "|SFO-LAX|         1|     WN|              1|     81|2.318581051296172...| 0.9999896951953275|\n",
      "|SFO-LAX|         1|     O2|              1|     36|1.030480467242743...|                1.0|\n",
      "+-------+----------+-------+---------------+-------+--------------------+-------------------+\n",
      "\n",
      "Interline carriers - one-way (out-bound)\n",
      "+-------+----------+------------------+------+--------------------+-------------------+\n",
      "| market|round_trip|out_uni_cxr_concat| count|           pct_count|            cum_pct|\n",
      "+-------+----------+------------------+------+--------------------+-------------------+\n",
      "|SFO-LAX|         0|                UA|874146| 0.36748989151189687|0.36748989151189687|\n",
      "|SFO-LAX|         0|                AS|720695| 0.30297928190847584| 0.6704691734203727|\n",
      "|SFO-LAX|         0|                DL|540880| 0.22738527948529738| 0.8978544529056701|\n",
      "|SFO-LAX|         0|                B6|141188|0.059355259650884055| 0.9572097125565542|\n",
      "|SFO-LAX|         0|                WN| 98185| 0.04127685191958276| 0.9984865644761369|\n",
      "|SFO-LAX|         0|                AA|  3600|0.001513435523863...|                1.0|\n",
      "+-------+----------+------------------+------+--------------------+-------------------+\n",
      "\n",
      "Interline carriers - round-trip, out-bound\n",
      "+-------+----------+------------------+-------+--------------------+------------------+\n",
      "| market|round_trip|out_uni_cxr_concat|  count|           pct_count|           cum_pct|\n",
      "+-------+----------+------------------+-------+--------------------+------------------+\n",
      "|SFO-LAX|         1|                AS|1612132|  0.4614640379491607|0.4614640379491607|\n",
      "|SFO-LAX|         1|                UA|1109476|  0.3175814852429472|0.7790455231921078|\n",
      "|SFO-LAX|         1|                DL| 636535|  0.1822046900600999|0.9612502132522077|\n",
      "|SFO-LAX|         1|                AA|  68453| 0.01959429984004653|0.9808445130922543|\n",
      "|SFO-LAX|         1|                B6|  66799| 0.01912085131426334|0.9999653644065176|\n",
      "|SFO-LAX|         1|                WN|     81|2.318581051296172...|0.9999885502170306|\n",
      "|SFO-LAX|         1|                O2|     36|1.030480467242743...| 0.999998855021703|\n",
      "|SFO-LAX|         1|             UA-DL|      4|1.144978296936381...|               1.0|\n",
      "+-------+----------+------------------+-------+--------------------+------------------+\n",
      "\n",
      "Interline carriers - round-trip, in-bound\n",
      "+-------+----------+-----------------+-------+--------------------+-------------------+\n",
      "| market|round_trip|in_uni_cxr_concat|  count|           pct_count|            cum_pct|\n",
      "+-------+----------+-----------------+-------+--------------------+-------------------+\n",
      "|SFO-LAX|         1|               AS|1611606| 0.46131347330311356|0.46131347330311356|\n",
      "|SFO-LAX|         1|               UA|1110251|  0.3178033247879786| 0.7791167980910922|\n",
      "|SFO-LAX|         1|               DL| 636290| 0.18213456013941257| 0.9612513582305048|\n",
      "|SFO-LAX|         1|               AA|  68453| 0.01959429984004653| 0.9808456580705514|\n",
      "|SFO-LAX|         1|               B6|  66799| 0.01912085131426334| 0.9999665093848147|\n",
      "|SFO-LAX|         1|               WN|     81|2.318581051296172...| 0.9999896951953277|\n",
      "|SFO-LAX|         1|               O2|     36|1.030480467242743...|                1.0|\n",
      "+-------+----------+-----------------+-------+--------------------+-------------------+\n",
      "\n",
      "Individual Legs - one-way (out-bound)\n",
      "+-------+----------+----------+------+--------------------+-------------------+\n",
      "| market|round_trip|out_leg_fn| count|           pct_count|            cum_pct|\n",
      "+-------+----------+----------+------+--------------------+-------------------+\n",
      "|SFO-LAX|         0|   UA-2034|178209| 0.07488333161051541|0.07488333161051541|\n",
      "|SFO-LAX|         0|   UA-1082|141474| 0.05944730320166802|0.13433063481218344|\n",
      "|SFO-LAX|         0|   AS-1162|117482|0.049365876943737806|0.18369651175592125|\n",
      "|SFO-LAX|         0|   AS-1308|110911|0.046604746069243835|0.23030125782516508|\n",
      "|SFO-LAX|         0|   UA-1200|102881|0.043230544133132646|0.27353180195829774|\n",
      "|SFO-LAX|         0|   UA-2166| 98306| 0.04130813144848648|0.31483993340678423|\n",
      "|SFO-LAX|         0|    UA-501| 92080|0.038691969399392054| 0.3535319028061763|\n",
      "|SFO-LAX|         0|   DL-2841| 88363|0.037130087880522154|0.39066199068669843|\n",
      "|SFO-LAX|         0|    UA-552| 83766|0.035198430807009934| 0.4258604214937084|\n",
      "|SFO-LAX|         0|   AS-1040| 69193|0.029074863582234302| 0.4549352850759427|\n",
      "|SFO-LAX|         0|   DL-2581| 69125|0.029046290016648303|0.48398157509259104|\n",
      "|SFO-LAX|         0|   B6-2535| 63381| 0.02663266412361933| 0.5106142392162104|\n",
      "|SFO-LAX|         0|   DL-2362| 57032| 0.02396481753677376| 0.5345790567529841|\n",
      "|SFO-LAX|         0|   DL-2614| 52925|0.022239058215278284| 0.5568181149682624|\n",
      "|SFO-LAX|         0|   DL-2272| 49570|0.020829288913204434| 0.5776474038814668|\n",
      "|SFO-LAX|         0|   AS-3456| 48694|0.020461194156537757| 0.5981085980380046|\n",
      "|SFO-LAX|         0|   DL-2267| 43395|0.018234557038299504| 0.6163431550763041|\n",
      "|SFO-LAX|         0|    UA-516| 41297|0.017352978500072693| 0.6336961335763768|\n",
      "|SFO-LAX|         0|   AS-3459| 40954| 0.01720885007366097| 0.6509049836500378|\n",
      "|SFO-LAX|         0|    AS-308| 40049|0.016828569531670855| 0.6677335531817087|\n",
      "+-------+----------+----------+------+--------------------+-------------------+\n",
      "only showing top 20 rows\n",
      "\n",
      "Individual Legs - round-trip, out-bound\n",
      "+-------+----------+----------+------+--------------------+-------------------+\n",
      "| market|round_trip|out_leg_fn| count|           pct_count|            cum_pct|\n",
      "+-------+----------+----------+------+--------------------+-------------------+\n",
      "|SFO-LAX|         1|   UA-2034|247416| 0.07076643039338901|0.07076643039338901|\n",
      "|SFO-LAX|         1|   AS-1162|234141| 0.06696948774023706|0.13773591813362607|\n",
      "|SFO-LAX|         1|   AS-1308|197267|0.056422710836860464|0.19415862897048652|\n",
      "|SFO-LAX|         1|   AS-1040|168644| 0.04823590183036948|  0.242394530800856|\n",
      "|SFO-LAX|         1|   UA-1082|156038| 0.04463030792561368|0.28702483872646967|\n",
      "|SFO-LAX|         1|   UA-1200|135150| 0.03865587944056376| 0.3256807181670334|\n",
      "|SFO-LAX|         1|   UA-2166|134045|0.038339825080357895| 0.3640205432473913|\n",
      "|SFO-LAX|         1|   AS-3459|119132|0.034074378316783144| 0.3980949215641745|\n",
      "|SFO-LAX|         1|    UA-552|112116|0.032067647646009965| 0.4301625692101844|\n",
      "|SFO-LAX|         1|    UA-501|110994|0.031746730911031695| 0.4619093001212161|\n",
      "|SFO-LAX|         1|   AS-3456|104853|0.029990269530014296| 0.4918995696512304|\n",
      "|SFO-LAX|         1|   AS-3318| 81439| 0.02329334935819513| 0.5151929190094255|\n",
      "|SFO-LAX|         1|   AS-1451| 81245| 0.02323786108138071| 0.5384307800908062|\n",
      "|SFO-LAX|         1|    AS-308| 79970| 0.02287318297345086| 0.5613039630642571|\n",
      "|SFO-LAX|         1|   DL-2841| 78867|0.022557700657335866|  0.583861663721593|\n",
      "|SFO-LAX|         1|   DL-2362| 74838|0.021405317836277547| 0.6052669815578705|\n",
      "|SFO-LAX|         1|   DL-2581| 73913|0.021140747444250013| 0.6264077290021205|\n",
      "|SFO-LAX|         1|   AS-3421| 71934|0.020574709816333803| 0.6469824388184543|\n",
      "|SFO-LAX|         1|    AS-841| 61863|0.017694181796756168| 0.6646766206152105|\n",
      "|SFO-LAX|         1|   AS-3499| 58701|0.016789780089090146| 0.6814664007043006|\n",
      "+-------+----------+----------+------+--------------------+-------------------+\n",
      "only showing top 20 rows\n",
      "\n",
      "Individual Legs - round-trip, in-bound\n",
      "+-------+----------+---------+------+--------------------+-------------------+\n",
      "| market|round_trip|in_leg_fn| count|           pct_count|            cum_pct|\n",
      "+-------+----------+---------+------+--------------------+-------------------+\n",
      "|SFO-LAX|         1|  UA-1597|352324| 0.10077243113590223|0.10077243113590223|\n",
      "|SFO-LAX|         1|  AS-1049|330567| 0.09454944949336914|0.19532188062927136|\n",
      "|SFO-LAX|         1|  AS-1309|287778|  0.0823108521912435|0.27763273282051487|\n",
      "|SFO-LAX|         1|  AS-1175|244642| 0.06997300523935183| 0.3476057380598667|\n",
      "|SFO-LAX|         1|  UA-1634|164083| 0.04693135528113965| 0.3945370933410064|\n",
      "|SFO-LAX|         1|  UA-1654|140309| 0.04013146717296382|0.43466856051397024|\n",
      "|SFO-LAX|         1|  UA-1712|121232| 0.03467502461219701|0.46934358512616725|\n",
      "|SFO-LAX|         1|  AS-3499|115232| 0.03295889233958597| 0.5023024774657532|\n",
      "|SFO-LAX|         1|  DL-2614| 92817| 0.02654770819115654| 0.5288501856569098|\n",
      "|SFO-LAX|         1|  UA-1671| 76480|0.021874966034882103| 0.5507251516917919|\n",
      "|SFO-LAX|         1|  UA-2611| 71542|0.020462589174523215| 0.5711877408663152|\n",
      "|SFO-LAX|         1|  DL-2054| 69258| 0.01980931482274928| 0.5909970556890645|\n",
      "|SFO-LAX|         1|  DL-2581| 67724|0.019370557005051723| 0.6103676126941162|\n",
      "|SFO-LAX|         1|  AS-3393| 64908| 0.01856511892510627| 0.6289327316192225|\n",
      "|SFO-LAX|         1|  AS-3411| 62594| 0.01790326391196928| 0.6468359955311918|\n",
      "|SFO-LAX|         1|  DL-2272| 59206| 0.01693422122203491| 0.6637702167532267|\n",
      "|SFO-LAX|         1|  AS-3305| 56472|0.016152236949815144| 0.6799224537030418|\n",
      "|SFO-LAX|         1|   AA-891| 54823|0.015680586596892542| 0.6956030402999344|\n",
      "|SFO-LAX|         1|  DL-2504| 53923|0.015423166756000885| 0.7110262070559352|\n",
      "|SFO-LAX|         1|  DL-2985| 53418|0.015278725623056122| 0.7263049326789913|\n",
      "+-------+----------+---------+------+--------------------+-------------------+\n",
      "only showing top 20 rows\n",
      "\n",
      "Itineraries - one-way (out-bound)\n",
      "+-------+----------+-----------------+------+--------------------+-------------------+\n",
      "| market|round_trip|out_cxr_fn_single| count|           pct_count|            cum_pct|\n",
      "+-------+----------+-----------------+------+--------------------+-------------------+\n",
      "|SFO-LAX|         0|          UA-2034|178209| 0.07491884202003284|0.07491884202003284|\n",
      "|SFO-LAX|         0|          UA-1082|141474|0.059475493695279845|0.13439433571531267|\n",
      "|SFO-LAX|         0|          AS-1162|117482|0.049389286726245575|0.18378362244155824|\n",
      "|SFO-LAX|         0|          AS-1308|110911|  0.0466268464964388|0.23041046893799705|\n",
      "|SFO-LAX|         0|          UA-1200|102881| 0.04325104448071084|0.27366151341870787|\n",
      "|SFO-LAX|         0|          UA-2166| 98306| 0.04132772016913483| 0.3149892335878427|\n",
      "|SFO-LAX|         0|           UA-501| 92080| 0.03871031751036493| 0.3536995510982076|\n",
      "|SFO-LAX|         0|          DL-2841| 88363| 0.03714769533197629|0.39084724643018387|\n",
      "|SFO-LAX|         0|           UA-552| 83766| 0.03521512224775444|0.42606236867793834|\n",
      "|SFO-LAX|         0|          AS-1040| 69193| 0.02908865116740531| 0.4551510198453437|\n",
      "|SFO-LAX|         0|          DL-2581| 69125| 0.02906006405195456| 0.4842110838972982|\n",
      "|SFO-LAX|         0|          B6-2535| 63381|0.026645293593879668| 0.5108563774911778|\n",
      "|SFO-LAX|         0|          DL-2362| 57032|0.023976181888044446| 0.5348325593792222|\n",
      "|SFO-LAX|         0|          DL-2614| 52925|0.022249604194570633| 0.5570821635737929|\n",
      "|SFO-LAX|         0|          DL-2272| 49570|0.020839166366081557| 0.5779213299398744|\n",
      "|SFO-LAX|         0|          AS-3456| 48694| 0.02047089705527487| 0.5983922269951493|\n",
      "|SFO-LAX|         0|          DL-2267| 43395| 0.01824320404389972| 0.6166354310390489|\n",
      "|SFO-LAX|         0|           UA-516| 41297| 0.01736120745249284| 0.6339966384915418|\n",
      "|SFO-LAX|         0|          AS-3459| 40954|0.017217010678969216| 0.6512136491705109|\n",
      "|SFO-LAX|         0|           AS-308| 40049|  0.0168365498042203| 0.6680501989747313|\n",
      "+-------+----------+-----------------+------+--------------------+-------------------+\n",
      "only showing top 20 rows\n",
      "\n",
      "Itineraries - round-trip, out-bound\n",
      "+-------+----------+-----------------+------+--------------------+-------------------+\n",
      "|market |round_trip|out_cxr_fn_single|count |pct_count           |cum_pct            |\n",
      "+-------+----------+-----------------+------+--------------------+-------------------+\n",
      "|SFO-LAX|1         |UA-2034          |247335|0.07079834229947268 |0.07079834229947268|\n",
      "|SFO-LAX|1         |AS-1162          |234124|0.06701676306435297 |0.13781510536382566|\n",
      "|SFO-LAX|1         |AS-1308          |197250|0.05646177459142857 |0.19427687995525422|\n",
      "|SFO-LAX|1         |AS-1040          |168636|0.04827116765526058 |0.2425480476105148 |\n",
      "|SFO-LAX|1         |UA-1082          |156012|0.04465761408140915 |0.28720566169192396|\n",
      "|SFO-LAX|1         |UA-1200          |135124|0.038678533991848896|0.32588419568377286|\n",
      "|SFO-LAX|1         |UA-2166          |134033|0.038366240982575135|0.364250436666348  |\n",
      "|SFO-LAX|1         |AS-3459          |119132|0.03410090814005612 |0.3983513448064041 |\n",
      "|SFO-LAX|1         |UA-552           |112115|0.0320923288127656  |0.4304436736191697 |\n",
      "|SFO-LAX|1         |UA-501           |110990|0.031770303482396234|0.4622139771015659 |\n",
      "|SFO-LAX|1         |AS-3456          |104846|0.030011615811472346|0.49222559291303825|\n",
      "|SFO-LAX|1         |AS-3318          |81439 |0.02331148522662282 |0.5155370781396611 |\n",
      "|SFO-LAX|1         |AS-1451          |81244 |0.02325566750269213 |0.5387927456423532 |\n",
      "|SFO-LAX|1         |AS-308           |79967 |0.02289013297213064 |0.5616828786144838 |\n",
      "|SFO-LAX|1         |DL-2841          |78867 |0.022575263760213928|0.5842581423746978 |\n",
      "|SFO-LAX|1         |DL-2362          |74838 |0.021421983710384444|0.6056801260850821 |\n",
      "|SFO-LAX|1         |DL-2581          |73913 |0.0211572073276363  |0.6268373334127184 |\n",
      "|SFO-LAX|1         |AS-3421          |71934 |0.020590728990924324|0.6474280624036427 |\n",
      "|SFO-LAX|1         |AS-841           |61860 |0.017707099499243456|0.6651351619028861 |\n",
      "|SFO-LAX|1         |AS-3499          |58701 |0.01680285237156628 |0.6819380142744524 |\n",
      "+-------+----------+-----------------+------+--------------------+-------------------+\n",
      "only showing top 20 rows\n",
      "\n",
      "Itineraries - round-trip, in-bound\n",
      "+-------+----------+----------------+------+--------------------+-------------------+\n",
      "|market |round_trip|in_cxr_fn_single|count |pct_count           |cum_pct            |\n",
      "+-------+----------+----------------+------+--------------------+-------------------+\n",
      "|SFO-LAX|1         |UA-1597         |352191|0.10081282055832609 |0.10081282055832609|\n",
      "|SFO-LAX|1         |AS-1049         |330559|0.0946207743836149  |0.19543359494194099|\n",
      "|SFO-LAX|1         |AS-1309         |287773|0.08237350701900722 |0.2778071019609482 |\n",
      "|SFO-LAX|1         |AS-1175         |244639|0.07002662648553863 |0.34783372844648686|\n",
      "|SFO-LAX|1         |UA-1634         |164020|0.04694986194416281 |0.3947835903906497 |\n",
      "|SFO-LAX|1         |UA-1654         |140274|0.040152694393095316|0.434936284783745  |\n",
      "|SFO-LAX|1         |UA-1712         |121189|0.03468971356634037 |0.4696259983500854 |\n",
      "|SFO-LAX|1         |AS-3499         |115230|0.032983981171966104|0.5026099795220516 |\n",
      "|SFO-LAX|1         |DL-2614         |92817 |0.026568377856794046|0.5291783573788456 |\n",
      "|SFO-LAX|1         |UA-1671         |76463 |0.02188713140980686 |0.5510654887886524 |\n",
      "|SFO-LAX|1         |UA-2611         |71519 |0.02047193742461029 |0.5715374262132626 |\n",
      "|SFO-LAX|1         |DL-2054         |69258 |0.019824738071752397|0.5913621642850151 |\n",
      "|SFO-LAX|1         |DL-2581         |67724 |0.019385638643497637|0.6107478029285127 |\n",
      "|SFO-LAX|1         |AS-3393         |64906 |0.01857900097151464 |0.6293268039000274 |\n",
      "|SFO-LAX|1         |AS-3411         |62591 |0.017916344402799017|0.6472431483028264 |\n",
      "|SFO-LAX|1         |DL-2272         |59206 |0.01694740596430986 |0.6641905542671362 |\n",
      "|SFO-LAX|1         |AS-3305         |56472 |0.016164812850327778|0.680355367117464  |\n",
      "|SFO-LAX|1         |DL-2504         |53923 |0.015435175012895326|0.6957905421303594 |\n",
      "|SFO-LAX|1         |AA-891          |53820 |0.015405691804870397|0.7111962339352298 |\n",
      "|SFO-LAX|1         |DL-2985         |53418 |0.015290621420151744|0.7264868553553815 |\n",
      "+-------+----------+----------------+------+--------------------+-------------------+\n",
      "only showing top 20 rows\n",
      "\n",
      "Itineraries - round-trip, out+in\n",
      "+-------+----------+----------------+-----+--------------------+--------------------+\n",
      "|market |round_trip|rt_cxr_fn_single|count|pct_count           |cum_pct             |\n",
      "+-------+----------+----------------+-----+--------------------+--------------------+\n",
      "|SFO-LAX|1         |UA-2034_UA-1597 |80386|0.023010069517397095|0.023010069517397095|\n",
      "|SFO-LAX|1         |AS-1162_AS-1049 |57983|0.0165973286496061  |0.03960739816700319 |\n",
      "|SFO-LAX|1         |UA-1082_UA-1597 |50934|0.014579589490696187|0.05418698765769938 |\n",
      "|SFO-LAX|1         |AS-1162_AS-1309 |50270|0.014389522984593736|0.06857651064229311 |\n",
      "|SFO-LAX|1         |AS-1308_AS-1049 |47725|0.013661030126113707|0.08223754076840682 |\n",
      "|SFO-LAX|1         |AS-1162_AS-1175 |44095|0.012621961726788557|0.09485950249519538 |\n",
      "|SFO-LAX|1         |AA-977_AA-891   |43365|0.012413003067971103|0.10727250556316649 |\n",
      "|SFO-LAX|1         |UA-1200_UA-1597 |42749|0.012236676309297744|0.11950918187246423 |\n",
      "|SFO-LAX|1         |AS-1308_AS-1309 |42492|0.012163111411604477|0.1316722932840687  |\n",
      "|SFO-LAX|1         |UA-2166_UA-1597 |42307|0.012110156135054848|0.14378244941912355 |\n",
      "|SFO-LAX|1         |AS-1040_AS-1049 |40835|0.011688803880562666|0.15547125329968622 |\n",
      "|SFO-LAX|1         |UA-2034_UA-1634 |37925|0.01085583169267391 |0.16632708499236012 |\n",
      "|SFO-LAX|1         |UA-501_UA-1597  |36242|0.01037408179844134 |0.17670116679080147 |\n",
      "|SFO-LAX|1         |UA-552_UA-1597  |35634|0.01020004499767283 |0.1869012117884743  |\n",
      "|SFO-LAX|1         |AS-1040_AS-1309 |35225|0.010082970899787434|0.19698418268826173 |\n",
      "|SFO-LAX|1         |AS-1308_AS-1175 |31626|0.009052776087343574|0.2060369587756053  |\n",
      "|SFO-LAX|1         |UA-2034_UA-1654 |31076|0.00889534148138522 |0.2149323002569905  |\n",
      "|SFO-LAX|1         |AS-1040_AS-1175 |28825|0.008251004575908383|0.2231833048328989  |\n",
      "|SFO-LAX|1         |UA-2034_UA-1712 |26202|0.007500184627856079|0.23068348946075495 |\n",
      "|SFO-LAX|1         |AS-3459_AS-1049 |24273|0.006948018528049408|0.23763150798880436 |\n",
      "+-------+----------+----------------+-----+--------------------+--------------------+\n",
      "only showing top 20 rows"
     ]
    }
   ],
   "source": [
    "market = 'SFO-LAX'\n",
    "show_market_analysis(market)"
   ]
  },
  {
   "cell_type": "markdown",
   "id": "904f1eaf-662e-4434-a641-63e974146803",
   "metadata": {},
   "source": [
    "## others"
   ]
  },
  {
   "cell_type": "code",
   "execution_count": null,
   "id": "8c141d3b-5956-47a4-9cc4-54742d6e6291",
   "metadata": {
    "tags": []
   },
   "outputs": [],
   "source": [
    "market = 'LGA-MIA'\n",
    "show_market_analysis(market)"
   ]
  },
  {
   "cell_type": "code",
   "execution_count": null,
   "id": "785df48b-dc17-4333-8aa0-c32c9ef29fec",
   "metadata": {
    "tags": []
   },
   "outputs": [],
   "source": [
    "market = 'OAK-LAS'\n",
    "show_market_analysis(market)"
   ]
  },
  {
   "cell_type": "code",
   "execution_count": null,
   "id": "c9bc8e29-f8cd-4db9-b7f1-89cc6ad46bbc",
   "metadata": {
    "tags": []
   },
   "outputs": [],
   "source": [
    "market = 'LAX-SFO'\n",
    "show_market_analysis(market)"
   ]
  },
  {
   "cell_type": "code",
   "execution_count": null,
   "id": "60d207b4-77b6-4b7e-85c3-6d209a4a5682",
   "metadata": {
    "tags": []
   },
   "outputs": [],
   "source": [
    "market = 'LAX-JFK'\n",
    "show_market_analysis(market)"
   ]
  },
  {
   "cell_type": "code",
   "execution_count": null,
   "id": "cbf62784-9fe2-40e4-8774-021703246272",
   "metadata": {
    "tags": []
   },
   "outputs": [],
   "source": [
    "market = 'JFK-LAX'\n",
    "show_market_analysis(market)"
   ]
  },
  {
   "cell_type": "code",
   "execution_count": null,
   "id": "d59c8e53-0635-4431-8183-d997f1261eec",
   "metadata": {
    "tags": []
   },
   "outputs": [],
   "source": [
    "market = 'EWR-CDG'\n",
    "show_market_analysis(market)"
   ]
  },
  {
   "cell_type": "code",
   "execution_count": null,
   "id": "f4fe66d3-50c2-4f0f-b9ba-d28debc892de",
   "metadata": {},
   "outputs": [],
   "source": [
    "market_one_str_grp.select(\"market\").distinct().show()"
   ]
  },
  {
   "cell_type": "markdown",
   "id": "fb0231a1-2e23-41d7-a9fe-3621833c450c",
   "metadata": {},
   "source": [
    "# Higher level summary"
   ]
  },
  {
   "cell_type": "markdown",
   "id": "6ff62eb9-7aa7-47c8-b026-be8302bfeb1f",
   "metadata": {},
   "source": [
    "Number of carriers serving market"
   ]
  },
  {
   "cell_type": "code",
   "execution_count": 51,
   "id": "bf62c91d-f693-4d43-b1c8-38e35cd23f79",
   "metadata": {
    "execution": {
     "iopub.execute_input": "2022-12-17T00:18:00.455432Z",
     "iopub.status.busy": "2022-12-17T00:18:00.455180Z",
     "iopub.status.idle": "2022-12-17T00:18:02.738944Z",
     "shell.execute_reply": "2022-12-17T00:18:02.738036Z",
     "shell.execute_reply.started": "2022-12-17T00:18:00.455404Z"
    }
   },
   "outputs": [
    {
     "data": {
      "application/vnd.jupyter.widget-view+json": {
       "model_id": "cf2d42fa753b48158df45b1dd99a9c05",
       "version_major": 2,
       "version_minor": 0
      },
      "text/plain": [
       "VBox()"
      ]
     },
     "metadata": {},
     "output_type": "display_data"
    },
    {
     "data": {
      "application/vnd.jupyter.widget-view+json": {
       "model_id": "",
       "version_major": 2,
       "version_minor": 0
      },
      "text/plain": [
       "FloatProgress(value=0.0, bar_style='info', description='Progress:', layout=Layout(height='25px', width='50%'),…"
      ]
     },
     "metadata": {},
     "output_type": "display_data"
    },
    {
     "name": "stdout",
     "output_type": "stream",
     "text": [
      "+-------+-----+\n",
      "| market|count|\n",
      "+-------+-----+\n",
      "|ATL-EWR|    6|\n",
      "|EWR-CDG|   21|\n",
      "|EWR-LHR|   20|\n",
      "|JFK-LAX|    5|\n",
      "|JFK-LHR|   21|\n",
      "|LAX-EWR|    7|\n",
      "|LAX-JFK|    6|\n",
      "|LAX-SFO|    6|\n",
      "|LGA-MIA|    7|\n",
      "|LHR-EWR|    8|\n",
      "|LHR-JFK|   14|\n",
      "|LHR-LAX|   21|\n",
      "|OAK-LAS|    6|\n",
      "|SFO-LAX|    6|\n",
      "+-------+-----+"
     ]
    }
   ],
   "source": [
    "df_summ_1 = ow_out_cxr_crude.groupBy(\"market\").count().orderBy(\"market\").show()"
   ]
  },
  {
   "cell_type": "markdown",
   "id": "f7ec586b-c976-4571-9cef-78719709a52c",
   "metadata": {},
   "source": [
    "Number of carriers it takes for a given market to reach 99% cume "
   ]
  },
  {
   "cell_type": "code",
   "execution_count": 55,
   "id": "b9fae60d-c76f-420a-b312-30d4a7a39729",
   "metadata": {
    "execution": {
     "iopub.execute_input": "2022-12-17T00:24:56.917784Z",
     "iopub.status.busy": "2022-12-17T00:24:56.917543Z",
     "iopub.status.idle": "2022-12-17T00:24:59.202495Z",
     "shell.execute_reply": "2022-12-17T00:24:59.201806Z",
     "shell.execute_reply.started": "2022-12-17T00:24:56.917759Z"
    }
   },
   "outputs": [],
   "source": [
    "cutoff = 0.99\n",
    "\n",
    "w3 = Window.partitionBy(\"market\").orderBy('cum_pct')\n",
    "\n",
    "result_df = ow_out_cxr_crude.withColumn(\"row_num\", F.row_number().over(w3))\n",
    "filt_result_df = result_df.filter(F.col(\"cum_pct\") <= cutoff)\n",
    "final_result = filt_result_df.groupBy(\"market\").agg(F.max(\"row_num\"))"
   ]
  },
  {
   "cell_type": "code",
   "execution_count": 55,
   "id": "0a562c8e-d660-434d-a326-be9a356c5d95",
   "metadata": {
    "execution": {
     "iopub.execute_input": "2022-12-17T00:24:56.917784Z",
     "iopub.status.busy": "2022-12-17T00:24:56.917543Z",
     "iopub.status.idle": "2022-12-17T00:24:59.202495Z",
     "shell.execute_reply": "2022-12-17T00:24:59.201806Z",
     "shell.execute_reply.started": "2022-12-17T00:24:56.917759Z"
    }
   },
   "outputs": [
    {
     "data": {
      "application/vnd.jupyter.widget-view+json": {
       "model_id": "cee3b612e1c5418fad62e86e3b88b046",
       "version_major": 2,
       "version_minor": 0
      },
      "text/plain": [
       "VBox()"
      ]
     },
     "metadata": {},
     "output_type": "display_data"
    },
    {
     "data": {
      "application/vnd.jupyter.widget-view+json": {
       "model_id": "",
       "version_major": 2,
       "version_minor": 0
      },
      "text/plain": [
       "FloatProgress(value=0.0, bar_style='info', description='Progress:', layout=Layout(height='25px', width='50%'),…"
      ]
     },
     "metadata": {},
     "output_type": "display_data"
    },
    {
     "name": "stdout",
     "output_type": "stream",
     "text": [
      "+-------+------------+\n",
      "| market|max(row_num)|\n",
      "+-------+------------+\n",
      "|ATL-EWR|           3|\n",
      "|EWR-CDG|           9|\n",
      "|EWR-LHR|           5|\n",
      "|JFK-LAX|           3|\n",
      "|JFK-LHR|           4|\n",
      "|LAX-EWR|           5|\n",
      "|LAX-JFK|           3|\n",
      "|LAX-SFO|           3|\n",
      "|LGA-MIA|           3|\n",
      "|LHR-EWR|           2|\n",
      "|LHR-JFK|           5|\n",
      "|LHR-LAX|           8|\n",
      "|OAK-LAS|           2|\n",
      "|SFO-LAX|           4|\n",
      "+-------+------------+"
     ]
    }
   ],
   "source": [
    "final_result.orderBy(\"market\").show()"
   ]
  },
  {
   "cell_type": "markdown",
   "id": "bbe012ac-b6f3-4a71-a2cf-30a9b3cc4b7a",
   "metadata": {},
   "source": [
    "## num to get to X %"
   ]
  },
  {
   "cell_type": "code",
   "execution_count": 58,
   "id": "44d19526-4be3-492b-95ed-efea21e905f7",
   "metadata": {
    "execution": {
     "iopub.execute_input": "2022-12-17T00:27:18.538549Z",
     "iopub.status.busy": "2022-12-17T00:27:18.538317Z",
     "iopub.status.idle": "2022-12-17T00:27:18.599080Z",
     "shell.execute_reply": "2022-12-17T00:27:18.598527Z",
     "shell.execute_reply.started": "2022-12-17T00:27:18.538522Z"
    },
    "tags": []
   },
   "outputs": [
    {
     "data": {
      "application/vnd.jupyter.widget-view+json": {
       "model_id": "c432272dfc7049ce83ce4a07f49810a4",
       "version_major": 2,
       "version_minor": 0
      },
      "text/plain": [
       "VBox()"
      ]
     },
     "metadata": {},
     "output_type": "display_data"
    },
    {
     "data": {
      "application/vnd.jupyter.widget-view+json": {
       "model_id": "",
       "version_major": 2,
       "version_minor": 0
      },
      "text/plain": [
       "FloatProgress(value=0.0, bar_style='info', description='Progress:', layout=Layout(height='25px', width='50%'),…"
      ]
     },
     "metadata": {},
     "output_type": "display_data"
    }
   ],
   "source": [
    "def count_num_records_to_cutoff(df, cutoff, things=\"things\"):\n",
    "    w3 = Window.partitionBy(\"market\").orderBy('cum_pct')\n",
    "\n",
    "    window_df = df.withColumn(\"row_num\", F.row_number().over(w3))\n",
    "    filt_df = window_df.filter(F.col(\"cum_pct\") <= cutoff)\n",
    "    # could add a collect_list agg here \n",
    "    final_result = filt_df.groupBy(\"market\").agg(F.max(\"row_num\").alias(f\"num_{things}\"))\n",
    "    final_result.orderBy(\"market\").show()"
   ]
  },
  {
   "cell_type": "code",
   "execution_count": 59,
   "id": "759095c0-b708-4409-b1d7-f1303686b7b5",
   "metadata": {
    "execution": {
     "iopub.execute_input": "2022-12-17T00:27:39.750809Z",
     "iopub.status.busy": "2022-12-17T00:27:39.750582Z",
     "iopub.status.idle": "2022-12-17T00:27:42.028946Z",
     "shell.execute_reply": "2022-12-17T00:27:42.028257Z",
     "shell.execute_reply.started": "2022-12-17T00:27:39.750784Z"
    }
   },
   "outputs": [
    {
     "data": {
      "application/vnd.jupyter.widget-view+json": {
       "model_id": "2c3d5fce36c645d9a6e42c8a068c03d8",
       "version_major": 2,
       "version_minor": 0
      },
      "text/plain": [
       "VBox()"
      ]
     },
     "metadata": {},
     "output_type": "display_data"
    },
    {
     "data": {
      "application/vnd.jupyter.widget-view+json": {
       "model_id": "",
       "version_major": 2,
       "version_minor": 0
      },
      "text/plain": [
       "FloatProgress(value=0.0, bar_style='info', description='Progress:', layout=Layout(height='25px', width='50%'),…"
      ]
     },
     "metadata": {},
     "output_type": "display_data"
    },
    {
     "name": "stdout",
     "output_type": "stream",
     "text": [
      "+-------+------------+\n",
      "| market|num_carriers|\n",
      "+-------+------------+\n",
      "|ATL-EWR|           3|\n",
      "|EWR-CDG|           9|\n",
      "|EWR-LHR|           5|\n",
      "|JFK-LAX|           3|\n",
      "|JFK-LHR|           4|\n",
      "|LAX-EWR|           5|\n",
      "|LAX-JFK|           3|\n",
      "|LAX-SFO|           3|\n",
      "|LGA-MIA|           3|\n",
      "|LHR-EWR|           2|\n",
      "|LHR-JFK|           5|\n",
      "|LHR-LAX|           8|\n",
      "|OAK-LAS|           2|\n",
      "|SFO-LAX|           4|\n",
      "+-------+------------+"
     ]
    }
   ],
   "source": [
    "count_num_records_to_cutoff(ow_out_cxr_crude, 0.99, \"carriers\")"
   ]
  },
  {
   "cell_type": "markdown",
   "id": "ff36d2ba-0f6f-4574-a77c-43253409b518",
   "metadata": {},
   "source": [
    "Num carriers, round-trip, including inter-line"
   ]
  },
  {
   "cell_type": "code",
   "execution_count": 60,
   "id": "806253ed-544c-4fc5-b340-215e9a77c56e",
   "metadata": {
    "execution": {
     "iopub.execute_input": "2022-12-17T00:28:36.081795Z",
     "iopub.status.busy": "2022-12-17T00:28:36.081549Z",
     "iopub.status.idle": "2022-12-17T00:28:38.392493Z",
     "shell.execute_reply": "2022-12-17T00:28:38.391783Z",
     "shell.execute_reply.started": "2022-12-17T00:28:36.081771Z"
    }
   },
   "outputs": [
    {
     "data": {
      "application/vnd.jupyter.widget-view+json": {
       "model_id": "041a7b2543aa4c8094fcb9c406bed0e9",
       "version_major": 2,
       "version_minor": 0
      },
      "text/plain": [
       "VBox()"
      ]
     },
     "metadata": {},
     "output_type": "display_data"
    },
    {
     "data": {
      "application/vnd.jupyter.widget-view+json": {
       "model_id": "",
       "version_major": 2,
       "version_minor": 0
      },
      "text/plain": [
       "FloatProgress(value=0.0, bar_style='info', description='Progress:', layout=Layout(height='25px', width='50%'),…"
      ]
     },
     "metadata": {},
     "output_type": "display_data"
    },
    {
     "name": "stdout",
     "output_type": "stream",
     "text": [
      "+-------+------------+\n",
      "| market|num_carriers|\n",
      "+-------+------------+\n",
      "|ATL-EWR|           2|\n",
      "|EWR-CDG|          16|\n",
      "|EWR-LHR|          16|\n",
      "|JFK-LAX|           2|\n",
      "|JFK-LHR|          19|\n",
      "|LAX-EWR|           4|\n",
      "|LAX-JFK|           2|\n",
      "|LAX-SFO|           4|\n",
      "|LGA-MIA|           3|\n",
      "|LHR-EWR|          12|\n",
      "|LHR-JFK|          13|\n",
      "|LHR-LAX|          23|\n",
      "|OAK-LAS|           4|\n",
      "|SFO-LAX|           4|\n",
      "+-------+------------+"
     ]
    }
   ],
   "source": [
    "count_num_records_to_cutoff(rt_out_cxr_nuanced, 0.99, \"carriers\")"
   ]
  },
  {
   "cell_type": "markdown",
   "id": "aafcabdb-329e-428d-99fc-5a65b182b21d",
   "metadata": {},
   "source": [
    "Num legs - one-way"
   ]
  },
  {
   "cell_type": "code",
   "execution_count": 61,
   "id": "c0d67b14-3129-4169-ac45-fc2c75b63a4f",
   "metadata": {
    "execution": {
     "iopub.execute_input": "2022-12-17T00:29:11.256895Z",
     "iopub.status.busy": "2022-12-17T00:29:11.256649Z",
     "iopub.status.idle": "2022-12-17T00:29:16.661352Z",
     "shell.execute_reply": "2022-12-17T00:29:16.644482Z",
     "shell.execute_reply.started": "2022-12-17T00:29:11.256869Z"
    }
   },
   "outputs": [
    {
     "data": {
      "application/vnd.jupyter.widget-view+json": {
       "model_id": "f7905f8df09547ba85a875a9b0ee2866",
       "version_major": 2,
       "version_minor": 0
      },
      "text/plain": [
       "VBox()"
      ]
     },
     "metadata": {},
     "output_type": "display_data"
    },
    {
     "data": {
      "application/vnd.jupyter.widget-view+json": {
       "model_id": "",
       "version_major": 2,
       "version_minor": 0
      },
      "text/plain": [
       "FloatProgress(value=0.0, bar_style='info', description='Progress:', layout=Layout(height='25px', width='50%'),…"
      ]
     },
     "metadata": {},
     "output_type": "display_data"
    },
    {
     "name": "stdout",
     "output_type": "stream",
     "text": [
      "+-------+------------+\n",
      "| market|num_carriers|\n",
      "+-------+------------+\n",
      "|ATL-EWR|          60|\n",
      "|EWR-CDG|          83|\n",
      "|EWR-LHR|          34|\n",
      "|JFK-LAX|         119|\n",
      "|JFK-LHR|          36|\n",
      "|LAX-EWR|         205|\n",
      "|LAX-JFK|         157|\n",
      "|LAX-SFO|          66|\n",
      "|LGA-MIA|          26|\n",
      "|LHR-EWR|          13|\n",
      "|LHR-JFK|          24|\n",
      "|LHR-LAX|          68|\n",
      "|OAK-LAS|          32|\n",
      "|SFO-LAX|          79|\n",
      "+-------+------------+"
     ]
    }
   ],
   "source": [
    "count_num_records_to_cutoff(ow_out_fi_per_leg, 0.99, \"legs\")"
   ]
  },
  {
   "cell_type": "markdown",
   "id": "c494399f-86af-4d20-b158-bf67f9c05268",
   "metadata": {},
   "source": [
    "Num legs - round-trip, out-bound"
   ]
  },
  {
   "cell_type": "code",
   "execution_count": 62,
   "id": "c1ca1ade-a4f7-4087-bdaa-2bd1068004b0",
   "metadata": {
    "execution": {
     "iopub.execute_input": "2022-12-17T00:29:42.290600Z",
     "iopub.status.busy": "2022-12-17T00:29:42.290363Z",
     "iopub.status.idle": "2022-12-17T00:29:57.616313Z",
     "shell.execute_reply": "2022-12-17T00:29:57.615496Z",
     "shell.execute_reply.started": "2022-12-17T00:29:42.290574Z"
    }
   },
   "outputs": [
    {
     "data": {
      "application/vnd.jupyter.widget-view+json": {
       "model_id": "fdd351e8dc034aa8800a280617a6f014",
       "version_major": 2,
       "version_minor": 0
      },
      "text/plain": [
       "VBox()"
      ]
     },
     "metadata": {},
     "output_type": "display_data"
    },
    {
     "data": {
      "application/vnd.jupyter.widget-view+json": {
       "model_id": "",
       "version_major": 2,
       "version_minor": 0
      },
      "text/plain": [
       "FloatProgress(value=0.0, bar_style='info', description='Progress:', layout=Layout(height='25px', width='50%'),…"
      ]
     },
     "metadata": {},
     "output_type": "display_data"
    },
    {
     "name": "stdout",
     "output_type": "stream",
     "text": [
      "+-------+------------+\n",
      "| market|num_carriers|\n",
      "+-------+------------+\n",
      "|ATL-EWR|          92|\n",
      "|EWR-CDG|         152|\n",
      "|EWR-LHR|         206|\n",
      "|JFK-LAX|         164|\n",
      "|JFK-LHR|         301|\n",
      "|LAX-EWR|         218|\n",
      "|LAX-JFK|         180|\n",
      "|LAX-SFO|          81|\n",
      "|LGA-MIA|          43|\n",
      "|LHR-EWR|         155|\n",
      "|LHR-JFK|         244|\n",
      "|LHR-LAX|         457|\n",
      "|OAK-LAS|          65|\n",
      "|SFO-LAX|          79|\n",
      "+-------+------------+"
     ]
    }
   ],
   "source": [
    "count_num_records_to_cutoff(rt_out_fi_per_leg, 0.99, \"legs\")"
   ]
  },
  {
   "cell_type": "markdown",
   "id": "a3cb4a16-32d5-41b1-85c6-bfe613e2c2b9",
   "metadata": {},
   "source": [
    "Num legs - round-trip, in-bound"
   ]
  },
  {
   "cell_type": "code",
   "execution_count": 76,
   "id": "173c4909-c900-48ce-bc99-7b47e92f3538",
   "metadata": {
    "execution": {
     "iopub.execute_input": "2022-12-17T00:34:31.142302Z",
     "iopub.status.busy": "2022-12-17T00:34:31.142069Z",
     "iopub.status.idle": "2022-12-17T00:34:46.471303Z",
     "shell.execute_reply": "2022-12-17T00:34:46.470588Z",
     "shell.execute_reply.started": "2022-12-17T00:34:31.142278Z"
    }
   },
   "outputs": [
    {
     "data": {
      "application/vnd.jupyter.widget-view+json": {
       "model_id": "383b0bf4ca514c72b3a4bafe7b9f1c0a",
       "version_major": 2,
       "version_minor": 0
      },
      "text/plain": [
       "VBox()"
      ]
     },
     "metadata": {},
     "output_type": "display_data"
    },
    {
     "data": {
      "application/vnd.jupyter.widget-view+json": {
       "model_id": "",
       "version_major": 2,
       "version_minor": 0
      },
      "text/plain": [
       "FloatProgress(value=0.0, bar_style='info', description='Progress:', layout=Layout(height='25px', width='50%'),…"
      ]
     },
     "metadata": {},
     "output_type": "display_data"
    },
    {
     "name": "stdout",
     "output_type": "stream",
     "text": [
      "+-------+--------+\n",
      "| market|num_legs|\n",
      "+-------+--------+\n",
      "|ATL-EWR|     101|\n",
      "|EWR-CDG|     122|\n",
      "|EWR-LHR|     219|\n",
      "|JFK-LAX|     187|\n",
      "|JFK-LHR|     297|\n",
      "|LAX-EWR|     208|\n",
      "|LAX-JFK|     146|\n",
      "|LAX-SFO|      88|\n",
      "|LGA-MIA|      52|\n",
      "|LHR-EWR|     160|\n",
      "|LHR-JFK|     171|\n",
      "|LHR-LAX|     427|\n",
      "|OAK-LAS|      66|\n",
      "|SFO-LAX|      78|\n",
      "+-------+--------+"
     ]
    }
   ],
   "source": [
    "count_num_records_to_cutoff(rt_in_fi_per_leg, 0.99, \"legs\")"
   ]
  },
  {
   "cell_type": "markdown",
   "id": "c9c0503e-0b96-4942-a1df-0e33a10f5a1e",
   "metadata": {},
   "source": [
    "Num itin - one-way"
   ]
  },
  {
   "cell_type": "code",
   "execution_count": 77,
   "id": "68504dd2-1e83-43c5-8108-06f4b3281164",
   "metadata": {
    "execution": {
     "iopub.execute_input": "2022-12-17T00:34:47.524386Z",
     "iopub.status.busy": "2022-12-17T00:34:47.524149Z",
     "iopub.status.idle": "2022-12-17T00:34:50.943348Z",
     "shell.execute_reply": "2022-12-17T00:34:50.908021Z",
     "shell.execute_reply.started": "2022-12-17T00:34:47.524361Z"
    },
    "tags": []
   },
   "outputs": [
    {
     "data": {
      "application/vnd.jupyter.widget-view+json": {
       "model_id": "ef211fca46e24b63a9a9ebb3892a24ce",
       "version_major": 2,
       "version_minor": 0
      },
      "text/plain": [
       "VBox()"
      ]
     },
     "metadata": {},
     "output_type": "display_data"
    },
    {
     "data": {
      "application/vnd.jupyter.widget-view+json": {
       "model_id": "",
       "version_major": 2,
       "version_minor": 0
      },
      "text/plain": [
       "FloatProgress(value=0.0, bar_style='info', description='Progress:', layout=Layout(height='25px', width='50%'),…"
      ]
     },
     "metadata": {},
     "output_type": "display_data"
    },
    {
     "name": "stdout",
     "output_type": "stream",
     "text": [
      "+-------+--------+\n",
      "| market|num_itin|\n",
      "+-------+--------+\n",
      "|ATL-EWR|      49|\n",
      "|EWR-CDG|      81|\n",
      "|EWR-LHR|      50|\n",
      "|JFK-LAX|      86|\n",
      "|JFK-LHR|      36|\n",
      "|LAX-EWR|     146|\n",
      "|LAX-JFK|     118|\n",
      "|LAX-SFO|      66|\n",
      "|LGA-MIA|      24|\n",
      "|LHR-EWR|      21|\n",
      "|LHR-JFK|      24|\n",
      "|LHR-LAX|     108|\n",
      "|OAK-LAS|      18|\n",
      "|SFO-LAX|      78|\n",
      "+-------+--------+"
     ]
    }
   ],
   "source": [
    "count_num_records_to_cutoff(ow_out_fi_one_str, 0.99, \"itin\")"
   ]
  },
  {
   "cell_type": "markdown",
   "id": "46c2cd7e-a02f-4303-8a80-16aa39a83cae",
   "metadata": {},
   "source": [
    "Num itin - round-trip, out-bound"
   ]
  },
  {
   "cell_type": "code",
   "execution_count": 69,
   "id": "bbe0efb2-b5c5-4a89-b597-7268e63d0840",
   "metadata": {
    "execution": {
     "iopub.execute_input": "2022-12-17T00:32:30.300068Z",
     "iopub.status.busy": "2022-12-17T00:32:30.299827Z",
     "iopub.status.idle": "2022-12-17T00:32:45.623052Z",
     "shell.execute_reply": "2022-12-17T00:32:45.622454Z",
     "shell.execute_reply.started": "2022-12-17T00:32:30.300042Z"
    }
   },
   "outputs": [
    {
     "data": {
      "application/vnd.jupyter.widget-view+json": {
       "model_id": "7fd2fd4533984adc81fed227f8c10a54",
       "version_major": 2,
       "version_minor": 0
      },
      "text/plain": [
       "VBox()"
      ]
     },
     "metadata": {},
     "output_type": "display_data"
    },
    {
     "data": {
      "application/vnd.jupyter.widget-view+json": {
       "model_id": "",
       "version_major": 2,
       "version_minor": 0
      },
      "text/plain": [
       "FloatProgress(value=0.0, bar_style='info', description='Progress:', layout=Layout(height='25px', width='50%'),…"
      ]
     },
     "metadata": {},
     "output_type": "display_data"
    },
    {
     "name": "stdout",
     "output_type": "stream",
     "text": [
      "+-------+------------+\n",
      "| market|num_carriers|\n",
      "+-------+------------+\n",
      "|ATL-EWR|          92|\n",
      "|EWR-CDG|         152|\n",
      "|EWR-LHR|         206|\n",
      "|JFK-LAX|         164|\n",
      "|JFK-LHR|         301|\n",
      "|LAX-EWR|         218|\n",
      "|LAX-JFK|         180|\n",
      "|LAX-SFO|          81|\n",
      "|LGA-MIA|          43|\n",
      "|LHR-EWR|         155|\n",
      "|LHR-JFK|         244|\n",
      "|LHR-LAX|         457|\n",
      "|OAK-LAS|          65|\n",
      "|SFO-LAX|          79|\n",
      "+-------+------------+"
     ]
    }
   ],
   "source": [
    "count_num_records_to_cutoff(rt_out_fi_per_leg, 0.99, \"itin\")"
   ]
  },
  {
   "cell_type": "markdown",
   "id": "012aaf09-3244-4a3d-9335-69b1816e39be",
   "metadata": {},
   "source": [
    "Num itin - round-trip, out+in"
   ]
  },
  {
   "cell_type": "code",
   "execution_count": 70,
   "id": "b1c5d9da-3ca0-417a-8e11-2b06b09d7cf5",
   "metadata": {
    "execution": {
     "iopub.execute_input": "2022-12-17T00:32:46.466756Z",
     "iopub.status.busy": "2022-12-17T00:32:46.466519Z",
     "iopub.status.idle": "2022-12-17T00:33:01.794368Z",
     "shell.execute_reply": "2022-12-17T00:33:01.793752Z",
     "shell.execute_reply.started": "2022-12-17T00:32:46.466732Z"
    },
    "tags": []
   },
   "outputs": [
    {
     "data": {
      "application/vnd.jupyter.widget-view+json": {
       "model_id": "a78e3c710e814c0f80ed0dca2e62888c",
       "version_major": 2,
       "version_minor": 0
      },
      "text/plain": [
       "VBox()"
      ]
     },
     "metadata": {},
     "output_type": "display_data"
    },
    {
     "data": {
      "application/vnd.jupyter.widget-view+json": {
       "model_id": "",
       "version_major": 2,
       "version_minor": 0
      },
      "text/plain": [
       "FloatProgress(value=0.0, bar_style='info', description='Progress:', layout=Layout(height='25px', width='50%'),…"
      ]
     },
     "metadata": {},
     "output_type": "display_data"
    },
    {
     "name": "stdout",
     "output_type": "stream",
     "text": [
      "+-------+--------+\n",
      "| market|num_itin|\n",
      "+-------+--------+\n",
      "|ATL-EWR|    1381|\n",
      "|EWR-CDG|    8076|\n",
      "|EWR-LHR|   10985|\n",
      "|JFK-LAX|    3098|\n",
      "|JFK-LHR|   11584|\n",
      "|LAX-EWR|    7805|\n",
      "|LAX-JFK|    2502|\n",
      "|LAX-SFO|    1341|\n",
      "|LGA-MIA|     435|\n",
      "|LHR-EWR|    5957|\n",
      "|LHR-JFK|    6059|\n",
      "|LHR-LAX|   21921|\n",
      "|OAK-LAS|     684|\n",
      "|SFO-LAX|    1307|\n",
      "+-------+--------+"
     ]
    }
   ],
   "source": [
    "count_num_records_to_cutoff(rt_fi_one_str, 0.99, \"itin\")"
   ]
  },
  {
   "cell_type": "markdown",
   "id": "b5b111c0-67be-45f2-8a5d-c5cd443808fa",
   "metadata": {},
   "source": [
    "## reverse: top X = Y %"
   ]
  },
  {
   "cell_type": "code",
   "execution_count": 82,
   "id": "728adfde-4fb6-4b4d-8af0-277cf3a71ef9",
   "metadata": {
    "execution": {
     "iopub.execute_input": "2022-12-17T00:38:28.349146Z",
     "iopub.status.busy": "2022-12-17T00:38:28.348906Z",
     "iopub.status.idle": "2022-12-17T00:38:28.407133Z",
     "shell.execute_reply": "2022-12-17T00:38:28.406589Z",
     "shell.execute_reply.started": "2022-12-17T00:38:28.349119Z"
    },
    "tags": []
   },
   "outputs": [
    {
     "data": {
      "application/vnd.jupyter.widget-view+json": {
       "model_id": "44b45b1a24fa42fb8bde8288fbf1ed57",
       "version_major": 2,
       "version_minor": 0
      },
      "text/plain": [
       "VBox()"
      ]
     },
     "metadata": {},
     "output_type": "display_data"
    },
    {
     "data": {
      "application/vnd.jupyter.widget-view+json": {
       "model_id": "",
       "version_major": 2,
       "version_minor": 0
      },
      "text/plain": [
       "FloatProgress(value=0.0, bar_style='info', description='Progress:', layout=Layout(height='25px', width='50%'),…"
      ]
     },
     "metadata": {},
     "output_type": "display_data"
    }
   ],
   "source": [
    "def top_num_records_to_cutoff(df, top_n):\n",
    "    w3 = Window.partitionBy(\"market\").orderBy('cum_pct')\n",
    "    window_df = df.withColumn(\"row_num\", F.row_number().over(w3))\n",
    "    \n",
    "    filt_df = window_df.filter(F.col(\"row_num\") <= top_n)\n",
    "    # could add a collect_list agg here \n",
    "    final_result = filt_df.groupBy(\"market\").agg(F.max(\"cum_pct\").alias(\"pct_lowest_fares\"))\n",
    "    final_result.orderBy(\"market\").show()"
   ]
  },
  {
   "cell_type": "markdown",
   "id": "66386eb3-f09c-4d1a-a2fc-1ef6f5e6a508",
   "metadata": {},
   "source": [
    "Num itin - one-way"
   ]
  },
  {
   "cell_type": "code",
   "execution_count": 81,
   "id": "88ad5b7e-66e4-4451-8c4b-652e78eb34de",
   "metadata": {
    "execution": {
     "iopub.execute_input": "2022-12-17T00:37:48.231186Z",
     "iopub.status.busy": "2022-12-17T00:37:48.230912Z",
     "iopub.status.idle": "2022-12-17T00:37:51.544296Z",
     "shell.execute_reply": "2022-12-17T00:37:51.541565Z",
     "shell.execute_reply.started": "2022-12-17T00:37:48.231159Z"
    },
    "tags": []
   },
   "outputs": [
    {
     "data": {
      "application/vnd.jupyter.widget-view+json": {
       "model_id": "1eb42abb04bf48f38cb34657787e88c4",
       "version_major": 2,
       "version_minor": 0
      },
      "text/plain": [
       "VBox()"
      ]
     },
     "metadata": {},
     "output_type": "display_data"
    },
    {
     "data": {
      "application/vnd.jupyter.widget-view+json": {
       "model_id": "",
       "version_major": 2,
       "version_minor": 0
      },
      "text/plain": [
       "FloatProgress(value=0.0, bar_style='info', description='Progress:', layout=Layout(height='25px', width='50%'),…"
      ]
     },
     "metadata": {},
     "output_type": "display_data"
    },
    {
     "name": "stdout",
     "output_type": "stream",
     "text": [
      "+-------+------------------+\n",
      "| market|  pct_lowest_fares|\n",
      "+-------+------------------+\n",
      "|ATL-EWR|0.9408103426526736|\n",
      "|EWR-CDG|0.8823952062712731|\n",
      "|EWR-LHR|0.9707849969663718|\n",
      "|JFK-LAX|0.8654412839589761|\n",
      "|JFK-LHR|0.9659742781693096|\n",
      "|LAX-EWR|0.9126270602575656|\n",
      "|LAX-JFK| 0.827081804080738|\n",
      "|LAX-SFO|0.7888481520339221|\n",
      "|LGA-MIA|0.9906621991697987|\n",
      "|LHR-EWR|0.9958209445633411|\n",
      "|LHR-JFK|0.9904760561279908|\n",
      "|LHR-LAX|0.8808668119577285|\n",
      "|OAK-LAS|0.9944319530624258|\n",
      "|SFO-LAX|0.7426255752105986|\n",
      "+-------+------------------+"
     ]
    }
   ],
   "source": [
    "top_num_records_to_cutoff(ow_out_fi_one_str, 25)"
   ]
  },
  {
   "cell_type": "markdown",
   "id": "0e852156-b725-4fc3-86bf-298aa2d91f63",
   "metadata": {},
   "source": [
    "Num itin - one-way"
   ]
  },
  {
   "cell_type": "code",
   "execution_count": 85,
   "id": "28609fd8-e572-4a5e-bb76-ec92bd400db4",
   "metadata": {
    "execution": {
     "iopub.execute_input": "2022-12-17T00:39:52.431521Z",
     "iopub.status.busy": "2022-12-17T00:39:52.431252Z",
     "iopub.status.idle": "2022-12-17T00:39:57.891360Z",
     "shell.execute_reply": "2022-12-17T00:39:57.890596Z",
     "shell.execute_reply.started": "2022-12-17T00:39:52.431478Z"
    },
    "tags": []
   },
   "outputs": [
    {
     "data": {
      "application/vnd.jupyter.widget-view+json": {
       "model_id": "c26d91c471e44f1ba5b7a6f2501290c6",
       "version_major": 2,
       "version_minor": 0
      },
      "text/plain": [
       "VBox()"
      ]
     },
     "metadata": {},
     "output_type": "display_data"
    },
    {
     "data": {
      "application/vnd.jupyter.widget-view+json": {
       "model_id": "",
       "version_major": 2,
       "version_minor": 0
      },
      "text/plain": [
       "FloatProgress(value=0.0, bar_style='info', description='Progress:', layout=Layout(height='25px', width='50%'),…"
      ]
     },
     "metadata": {},
     "output_type": "display_data"
    },
    {
     "name": "stdout",
     "output_type": "stream",
     "text": [
      "+-------+------------------+\n",
      "| market|  pct_lowest_fares|\n",
      "+-------+------------------+\n",
      "|ATL-EWR|0.9196492047154695|\n",
      "|EWR-CDG| 0.873729138446597|\n",
      "|EWR-LHR|0.9818448833998286|\n",
      "|JFK-LAX|0.8307870703758276|\n",
      "|JFK-LHR|0.9689295640185027|\n",
      "|LAX-EWR|0.8594295756308284|\n",
      "|LAX-JFK|0.7793942943066591|\n",
      "|LAX-SFO|0.7887177815676942|\n",
      "|LGA-MIA|0.9857631466438648|\n",
      "|LHR-EWR|0.9998261771364992|\n",
      "|LHR-JFK|0.9907304292840298|\n",
      "|LHR-LAX|   0.8798940465187|\n",
      "|OAK-LAS|0.9826090884452074|\n",
      "|SFO-LAX|0.7422735818056981|\n",
      "+-------+------------------+"
     ]
    }
   ],
   "source": [
    "top_num_records_to_cutoff(ow_out_fi_per_leg, 25)"
   ]
  },
  {
   "cell_type": "markdown",
   "id": "7bd7e03f-5030-4529-866c-0a3b37d3af97",
   "metadata": {},
   "source": [
    "Carriers"
   ]
  },
  {
   "cell_type": "code",
   "execution_count": 84,
   "id": "19c348ed-69d2-45bc-b59b-e8c905a4aa3f",
   "metadata": {
    "execution": {
     "iopub.execute_input": "2022-12-17T00:39:26.620240Z",
     "iopub.status.busy": "2022-12-17T00:39:26.619972Z",
     "iopub.status.idle": "2022-12-17T00:39:28.901928Z",
     "shell.execute_reply": "2022-12-17T00:39:28.901171Z",
     "shell.execute_reply.started": "2022-12-17T00:39:26.620211Z"
    },
    "tags": []
   },
   "outputs": [
    {
     "data": {
      "application/vnd.jupyter.widget-view+json": {
       "model_id": "62443aa4f6c943afa034ab53e048aa03",
       "version_major": 2,
       "version_minor": 0
      },
      "text/plain": [
       "VBox()"
      ]
     },
     "metadata": {},
     "output_type": "display_data"
    },
    {
     "data": {
      "application/vnd.jupyter.widget-view+json": {
       "model_id": "",
       "version_major": 2,
       "version_minor": 0
      },
      "text/plain": [
       "FloatProgress(value=0.0, bar_style='info', description='Progress:', layout=Layout(height='25px', width='50%'),…"
      ]
     },
     "metadata": {},
     "output_type": "display_data"
    },
    {
     "name": "stdout",
     "output_type": "stream",
     "text": [
      "+-------+------------------+\n",
      "| market|  pct_lowest_fares|\n",
      "+-------+------------------+\n",
      "|ATL-EWR|               1.0|\n",
      "|EWR-CDG|0.9834133030130756|\n",
      "|EWR-LHR|0.9995538280693627|\n",
      "|JFK-LAX|               1.0|\n",
      "|JFK-LHR|0.9969605425889866|\n",
      "|LAX-EWR|               1.0|\n",
      "|LAX-JFK|               1.0|\n",
      "|LAX-SFO|1.0000000000000002|\n",
      "|LGA-MIA|               1.0|\n",
      "|LHR-EWR|0.9999999999999999|\n",
      "|LHR-JFK|0.9991939684281197|\n",
      "|LHR-LAX|0.9819964635910625|\n",
      "|OAK-LAS|0.9999999999999999|\n",
      "|SFO-LAX|               1.0|\n",
      "+-------+------------------+"
     ]
    }
   ],
   "source": [
    "top_num_records_to_cutoff(ow_out_cxr_crude, 8)"
   ]
  },
  {
   "cell_type": "code",
   "execution_count": null,
   "id": "fa6e2ddd-5a1d-4663-a204-d68e7ba45e24",
   "metadata": {},
   "outputs": [],
   "source": []
  },
  {
   "cell_type": "code",
   "execution_count": null,
   "id": "6dd08ccd-57c8-4df5-975c-b52047fb81a7",
   "metadata": {
    "tags": []
   },
   "outputs": [],
   "source": [
    "# print(\"Carriers - any leg - one-way\")\n",
    "# (ow_out_cxr_crude.filter(F.col(\"market\") == market)\n",
    "#  .drop(\"count_market\").orderBy(F.desc(\"pct_count\")).show()\n",
    "# )\n",
    "\n",
    "# print(\"Carriers - any leg - Round-trip\")\n",
    "# same_cxr_crude.filter(F.col(\"market\") == market).drop(\"count_market\").orderBy(F.desc(\"pct_count\")).show()\n",
    "\n",
    "# print(\"Interline carriers - one-way (out-bound)\")\n",
    "# (ow_out_cxr_nuanced\n",
    "#  .filter(F.col(\"market\") == market)\n",
    "#  .drop(\"count_market\")\n",
    "#  .orderBy(F.desc(\"pct_count\"))\n",
    "#  .show()\n",
    "# )\n",
    "\n",
    "# print(\"Interline carriers - round-trip, out-bound\")\n",
    "# (rt_out_cxr_nuanced\n",
    "#  .filter(F.col(\"market\") == market)\n",
    "#  .drop(\"count_market\")\n",
    "#  .orderBy(F.desc(\"pct_count\"))\n",
    "#  .show()\n",
    "# )\n",
    "\n",
    "# print(\"Interline carriers - round-trip, in-bound\")\n",
    "# (rt_in_cxr_nuanced\n",
    "#  .filter(F.col(\"market\") == market)\n",
    "#  .drop(\"count_market\")\n",
    "#  .orderBy(F.desc(\"pct_count\"))\n",
    "#  .show()\n",
    "# )\n",
    "\n",
    "\n",
    "# print(\"Individual Legs - one-way (out-bound)\")\n",
    "# mdf_leg = ow_out_fi_per_leg.filter(F.col(\"market\") == market)\n",
    "# mdf_leg.orderBy(F.desc(\"count\")).drop(\"count_market\").show()\n",
    "\n",
    "# print(\"Individual Legs - round-trip, out-bound\")\n",
    "# mdf_leg = rt_out_fi_per_leg.filter(F.col(\"market\") == market)\n",
    "# mdf_leg.orderBy(F.desc(\"count\")).drop(\"count_market\").show()\n",
    "\n",
    "# print(\"Individual Legs - round-trip, in-bound\")\n",
    "# mdf_leg = rt_in_fi_per_leg.filter(F.col(\"market\") == market)\n",
    "# mdf_leg.orderBy(F.desc(\"count\")).drop(\"count_market\").show()    \n",
    "\n",
    "\n",
    "# print(\"Itineraries - one-way (out-bound)\")\n",
    "# mdf_single = ow_out_fi_one_str.filter(F.col(\"market\") == market)\n",
    "# mdf_single.orderBy(F.desc(\"pct_count\")).drop(\"count_market\").show()\n",
    "\n",
    "# print(\"Itineraries - round-trip, out-bound\")\n",
    "# mdf_single = rt_out_fi_one_str.filter(F.col(\"market\") == market)\n",
    "# mdf_single.orderBy(F.desc(\"pct_count\")).drop(\"count_market\").show(truncate=False)\n",
    "\n",
    "# print(\"Itineraries - round-trip, in-bound\")\n",
    "# mdf_single = rt_in_fi_one_str.filter(F.col(\"market\") == market)\n",
    "# mdf_single.orderBy(F.desc(\"pct_count\")).drop(\"count_market\").show(truncate=False)\n",
    "\n",
    "# print(\"Itineraries - round-trip, out+in\")\n",
    "# mdf_single = rt_fi_one_str.filter(F.col(\"market\") == market)\n",
    "# mdf_single.orderBy(F.desc(\"pct_count\")).drop(\"count_market\").show(truncate=False)"
   ]
  },
  {
   "cell_type": "code",
   "execution_count": null,
   "id": "d2a9b700-7ebc-4556-b5a8-4998e09436ba",
   "metadata": {},
   "outputs": [],
   "source": []
  },
  {
   "cell_type": "code",
   "execution_count": null,
   "id": "8cf0f3e8-a81c-487a-8020-e4959aea31d0",
   "metadata": {},
   "outputs": [],
   "source": []
  },
  {
   "cell_type": "markdown",
   "id": "97eacf6a-197b-4cc9-ba87-9015ff90c5e9",
   "metadata": {},
   "source": [
    "# NEXT STEPS"
   ]
  },
  {
   "cell_type": "markdown",
   "id": "fced8c26-bd60-4438-b37c-bd7d65ca5f19",
   "metadata": {},
   "source": [
    "- repeat, lifting filter on fare_rank = 1 (i.e. analyze for 3 lowest fares)\n",
    "- also break out by\n",
    "    - DTD\n",
    "    - DOW"
   ]
  },
  {
   "cell_type": "code",
   "execution_count": null,
   "id": "230c20c9-3bfd-4fa6-aa0e-662f80de72fa",
   "metadata": {},
   "outputs": [],
   "source": []
  }
 ],
 "metadata": {
  "kernelspec": {
   "display_name": "PySpark",
   "language": "python",
   "name": "pysparkkernel"
  },
  "language_info": {
   "codemirror_mode": {
    "name": "python",
    "version": 3
   },
   "file_extension": ".py",
   "mimetype": "text/x-python",
   "name": "pyspark",
   "pygments_lexer": "python3"
  }
 },
 "nbformat": 4,
 "nbformat_minor": 5
}
